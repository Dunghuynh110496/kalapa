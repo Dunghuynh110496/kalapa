{
 "cells": [
  {
   "cell_type": "code",
   "execution_count": 1,
   "metadata": {
    "ExecuteTime": {
     "end_time": "2020-08-31T05:05:13.184965Z",
     "start_time": "2020-08-31T05:05:12.170840Z"
    }
   },
   "outputs": [],
   "source": [
    "from itertools import combinations\n",
    "\n",
    "import time\n",
    "import numpy as np\n",
    "import pandas as pd\n",
    "import matplotlib.pyplot as plt\n",
    "\n",
    "from itertools import combinations\n",
    "\n",
    "import os\n",
    "import time\n",
    "import numpy as np\n",
    "import pandas as pd\n",
    "import matplotlib.pyplot as plt\n",
    "import seaborn as sns\n",
    "import math\n",
    "import re\n",
    "import warnings\n",
    "\n",
    "import lightgbm as lgb\n",
    "from sklearn.ensemble import RandomForestClassifier\n",
    "from unidecode import unidecode\n",
    "from sklearn.metrics import roc_auc_score\n",
    "from sklearn.model_selection import StratifiedKFold\n",
    "from sklearn.preprocessing import LabelEncoder\n",
    "from feature_engine import categorical_encoders as ce\n",
    "\n",
    "from itertools import combinations\n",
    "from datetime import datetime\n",
    "from contextlib import contextmanager"
   ]
  },
  {
   "cell_type": "code",
   "execution_count": 2,
   "metadata": {
    "ExecuteTime": {
     "end_time": "2020-08-31T05:05:13.190448Z",
     "start_time": "2020-08-31T05:05:13.187166Z"
    },
    "code_folding": []
   },
   "outputs": [],
   "source": [
    "NUM_BOOST_ROUND= 10000\n",
    "\n",
    "DATE = [\"Field_{}\".format(i) for i in [5, 6, 7, 8, 9, 11, 15, 25, 32, 33, 34, 35, 40]]\n",
    "DATETIME = [\"Field_{}\".format(i) for i in [1, 2, 43, 44]]"
   ]
  },
  {
   "cell_type": "code",
   "execution_count": 3,
   "metadata": {
    "ExecuteTime": {
     "end_time": "2020-08-31T05:05:13.266968Z",
     "start_time": "2020-08-31T05:05:13.192009Z"
    },
    "code_folding": [
     0,
     4,
     13,
     24,
     34,
     60,
     64,
     72,
     89
    ]
   },
   "outputs": [],
   "source": [
    "def subtract_date(date1,date2, df):\n",
    "    df[date1] = pd.to_datetime(df[date1], infer_datetime_format=True)\n",
    "    df[date2] = pd.to_datetime(df[date2], infer_datetime_format=True)\n",
    "    df[date1+date2] = (df[date2] - df[date1]).dt.days\n",
    "def process_ngaySinh(s):\n",
    "    if s != s:\n",
    "        return np.nan\n",
    "    try:\n",
    "        s = int(s)\n",
    "    except ValueError:\n",
    "        s = s.split(\" \")[0]\n",
    "        \n",
    "    return datetime.strptime(str(s)[:6], \"%Y%m\")\n",
    "def datetime_normalize(s):\n",
    "    if s != s:\n",
    "        return np.nan\n",
    "    \n",
    "    s = s.split(\".\")[0]\n",
    "    if s[-1] == \"Z\":\n",
    "        s = s[:-1]\n",
    "        \n",
    "    date, time = s.split(\"T\")\n",
    "    datetime_obj = datetime.strptime(s, \"%Y-%m-%dT%H:%M:%S\")\n",
    "    return datetime_obj\n",
    "def date_normalize(s):\n",
    "    if s != s:\n",
    "        return np.nan\n",
    "    \n",
    "    try:\n",
    "        datetime_obj = datetime.strptime(s, \"%m/%d/%Y\")\n",
    "    except:\n",
    "        datetime_obj = datetime.strptime(s, \"%Y-%m-%d\")\n",
    "        \n",
    "    return datetime_obj\n",
    "def process_datetime_cols(df):\n",
    "    cat_cols = []\n",
    "    for col in DATETIME:\n",
    "        df[col] = df[col].apply(datetime_normalize)\n",
    "        \n",
    "    for col in DATE:\n",
    "        if col == \"Field_34\":\n",
    "            continue\n",
    "        df[col] = df[col].apply(date_normalize)\n",
    "\n",
    "    df[\"Field_34\"] = df[\"Field_34\"].apply(process_ngaySinh)\n",
    "    \n",
    "    cat_cols += DATE + DATETIME\n",
    "    for col in DATE + DATETIME:\n",
    "        df[col] = df[col].dt.strftime('%d-%m-%Y')\n",
    "    \n",
    "    subtract_date('Field_5','Field_6',df)\n",
    "    subtrac_List = ['Field_1', 'Field_2', 'Field_43', 'Field_44', 'Field_7','Field_8', 'Field_9']\n",
    "    subtract_2C = list(combinations(subtrac_List, 2))\n",
    "    for l in subtract_2C:\n",
    "        subtract_date(l[0],l[1],df)\n",
    "    \n",
    "    for cat in ['F', 'E', 'C', 'G', 'A']:\n",
    "        subtract_date(f'{cat}_startDate', f'{cat}_endDate', df)\n",
    "    print(df.shape) \n",
    "    return df\n",
    "def str_normalize(s):\n",
    "    s = str(s).strip().lower()\n",
    "    s = re.sub(' +', \" \", s)\n",
    "    return s\n",
    "def combine_gender(s):\n",
    "    x, y = s\n",
    "    return x if x != None else y if y != None else np.nan\n",
    "def process_gender(df):\n",
    "    df[\"gender\"] = df[[\"gioiTinh\", \"info_social_sex\"]].apply(combine_gender, axis=1)\n",
    "    df[\"country\"] = df[['currentLocationCountry', 'homeTownCountry']].apply(combine_gender, axis=1)\n",
    "    df[\"city\"] = df[['currentLocationState', 'homeTownState']].apply(combine_gender, axis=1)\n",
    "    return df\n",
    "def process_ordinal(df):        \n",
    "    df[\"subscriberCount\"].replace(0, np.nan, inplace=True)\n",
    "    df[\"friendCount\"].replace(0, np.nan, inplace=True)\n",
    "    \n",
    "    df[\"Field_13\"] = df[\"Field_13\"].apply(lambda x: 1 if x == x else 0)\n",
    "    df[\"Field_38\"] = df[\"Field_38\"].map({0: 0.0, 1: 1.0, \"DN\": np.nan, \"TN\": np.nan, \"GD\": np.nan})\n",
    "    df[\"Field_62\"] = df[\"Field_62\"].map({\"I\": 1, \"II\": 2, \"III\": 3, \"IV\": 4, \"V\": 5, \"Ngoài quốc doanh Quận 7\": np.nan})\n",
    "    df[\"Field_47\"] = df[\"Field_47\"].map({\"Zezo\": 0, \"One\": 1, \"Two\": 2, \"Three\": 3, \"Four\": 4})\n",
    "    \n",
    "    df[\"Field_27\"] = df[\"Field_27\"].replace({0.0: np.nan})\n",
    "    df[\"Field_28\"] = df[\"Field_28\"].replace({0.0: np.nan})\n",
    "        \n",
    "    for col in df.columns:\n",
    "        if df[col].dtype.name == \"object\":\n",
    "            df[col] = df[col].apply(str_normalize).astype(\"category\")\n",
    "            \n",
    "    return df\n",
    "def transform(df):\n",
    "    df = process_datetime_cols(df)\n",
    "    df = process_gender(df)\n",
    "    df = process_ordinal(df)\n",
    "    return df"
   ]
  },
  {
   "cell_type": "code",
   "execution_count": null,
   "metadata": {
    "ExecuteTime": {
     "start_time": "2020-08-31T05:05:12.175Z"
    },
    "code_folding": [
     19
    ]
   },
   "outputs": [
    {
     "name": "stdout",
     "output_type": "stream",
     "text": [
      "(73411, 203)\n"
     ]
    }
   ],
   "source": [
    "df_train = pd.read_csv(\"../../data/kalapa/train_new.csv\")\n",
    "df_test = pd.read_csv(\"../../data/kalapa/test_new.csv\")\n",
    "df_all = df_train.drop(['label'], 1).append(df_test)\n",
    "\n",
    "\n",
    "df_all_fe = transform(df_all.copy())\n",
    "\n",
    "df_all_fe['Age'] = df_all_fe[\"ngaySinh 1\"].apply(lambda x: 2020 - x)\n",
    "df_all_fe = df_all_fe.drop('ngaySinh 1', axis = 1)\n",
    "cols_select = [x for x in df_all_fe.columns if x not in DATE + DATETIME  + [f'{cat}_endDate' for cat in ['F', 'E', 'C', 'G', 'A']] + [f'{cat}_startDate' for cat in ['F', 'E', 'C', 'G', 'A']]]\n",
    "df_fe = df_all_fe[cols_select]\n",
    "df_fe.replace([np.inf, -np.inf], -99999, inplace=True)\n",
    "df_fe[\"sum_null\"] = df_fe.isnull().sum(axis=1)\n",
    "df_fe.drop(['info_social_sex', 'gioiTinh'], axis = 1)\n",
    "df_fe.Thue  = df_fe.Thue.apply(lambda x: \"no\" if x == \"nan\" else \"yes\")\n",
    "y_label = df_train[\"label\"]\n",
    "df_fe[\"Diachi\"] = df_fe.Field_48.astype(\"object\")\n",
    "for i in range(len(df_fe)):\n",
    "    if df_fe.Field_48.iloc[i] == \"nan\" and df_fe.Field_49.iloc[i] == \"nan\":\n",
    "        df_fe[\"Diachi\"].iloc[i] = np.nan\n",
    "    elif df_fe.Field_48.iloc[i] == \"nan\" and df_fe.Field_49.iloc[i] != \"nan\":\n",
    "        df_fe[\"Diachi\"].iloc[i] = \"True\"\n",
    "    elif df_fe.Field_48.iloc[i] != \"nan\" and df_fe.Field_49.iloc[i] == \"nan\":\n",
    "        df_fe[\"Diachi\"].iloc[i] = \"True\"\n",
    "    else:\n",
    "        if df_fe.Field_48.iloc[i] == df_fe.Field_49.iloc[i]:\n",
    "            df_fe[\"Diachi\"].iloc[i] = \"True\"\n",
    "        else:\n",
    "            df_fe[\"Diachi\"].iloc[i] = \"False\"\n",
    "df_fe = df_fe.drop([\"Field_48\", \"Field_49\", \"currentLocationCountry\", \"homeTownCountry\", \\\n",
    "                    \"currentLocationState\", \"friendCount\", \"subscriberCount\", \\\n",
    "                   'homeTownState' ], axis = 1)   \n",
    "train_fe = df_fe[df_fe[\"id\"] < df_train.shape[0]]\n",
    "test_fe = df_fe[df_fe[\"id\"] >= df_train.shape[0]]\n",
    "\n",
    "# Label-Encoding\n",
    "lbl = LabelEncoder()\n",
    "for col in df_fe.columns:\n",
    "    if df_fe[col].dtype.name == \"category\" or  df_fe[col].dtype.name == \"object\":\n",
    "        train_fe[col] = train_fe[col].astype(str)\n",
    "        test_fe[col] = test_fe[col].astype(str)\n",
    "        encoder = ce.CountFrequencyCategoricalEncoder(encoding_method='frequency')\n",
    "        train_fe[col] = train_fe[col].fillna('None')\n",
    "        test_fe[col] = test_fe[col].fillna('None')\n",
    "\n",
    "        # Only take the common values in Train/Test set\n",
    "        common_vals = list(set(train_fe[col]).intersection(set(test_fe[col])))\n",
    "\n",
    "        # Take if vals appeared both 5 times\n",
    "        #common_vals = set(train_fe[col].value_counts()[train_fe[col].value_counts() > 10].index).intersection(test_fe[col].value_counts()[test_fe[col].value_counts()>4].index)\n",
    "\n",
    "        # Replace not-common values with \"Missing\" or np.nan\n",
    "        train_fe.loc[~train_fe[col].isin(common_vals), col] = 'Missing'\n",
    "        test_fe.loc[~test_fe[col].isin(common_vals), col] = 'Missing'\n",
    "\n",
    "        # Implement LE\n",
    "        lbl.fit(train_fe[col].tolist() + test_fe[col].tolist())\n",
    "        train_fe[col] = lbl.transform(train_fe[col])\n",
    "        test_fe[col] = lbl.transform(test_fe[col])\n",
    "\n",
    "print(train_fe.shape)\n",
    "print(test_fe.shape)"
   ]
  },
  {
   "cell_type": "code",
   "execution_count": null,
   "metadata": {
    "ExecuteTime": {
     "start_time": "2020-08-31T05:05:12.180Z"
    }
   },
   "outputs": [],
   "source": [
    "df_train = pd.concat([df_train.id,df_train.label, train_fe.iloc[:,1:]], axis = 1)"
   ]
  },
  {
   "cell_type": "code",
   "execution_count": null,
   "metadata": {
    "ExecuteTime": {
     "start_time": "2020-08-31T05:05:12.187Z"
    }
   },
   "outputs": [],
   "source": [
    "df_train"
   ]
  },
  {
   "cell_type": "code",
   "execution_count": null,
   "metadata": {
    "ExecuteTime": {
     "start_time": "2020-08-31T05:05:12.189Z"
    }
   },
   "outputs": [],
   "source": [
    "data_version = \"01-02-2021-v3\""
   ]
  },
  {
   "cell_type": "code",
   "execution_count": null,
   "metadata": {
    "ExecuteTime": {
     "start_time": "2020-08-31T05:05:12.192Z"
    }
   },
   "outputs": [],
   "source": [
    "os.makedirs(f\"../../data/kalapa/{data_version}/\", exist_ok=True)\n",
    "df_train.to_csv(f\"../../data/kalapa/{data_version}/train.csv\", index = False)\n",
    "test_fe.to_csv(f\"../../data/kalapa/{data_version}/test.csv\", index = False)"
   ]
  },
  {
   "cell_type": "code",
   "execution_count": null,
   "metadata": {},
   "outputs": [],
   "source": []
  }
 ],
 "metadata": {
  "kernelspec": {
   "display_name": "Python 3",
   "language": "python",
   "name": "python3"
  },
  "language_info": {
   "codemirror_mode": {
    "name": "ipython",
    "version": 3
   },
   "file_extension": ".py",
   "mimetype": "text/x-python",
   "name": "python",
   "nbconvert_exporter": "python",
   "pygments_lexer": "ipython3",
   "version": "3.7.7"
  },
  "varInspector": {
   "cols": {
    "lenName": 16,
    "lenType": 16,
    "lenVar": 40
   },
   "kernels_config": {
    "python": {
     "delete_cmd_postfix": "",
     "delete_cmd_prefix": "del ",
     "library": "var_list.py",
     "varRefreshCmd": "print(var_dic_list())"
    },
    "r": {
     "delete_cmd_postfix": ") ",
     "delete_cmd_prefix": "rm(",
     "library": "var_list.r",
     "varRefreshCmd": "cat(var_dic_list()) "
    }
   },
   "types_to_exclude": [
    "module",
    "function",
    "builtin_function_or_method",
    "instance",
    "_Feature"
   ],
   "window_display": false
  }
 },
 "nbformat": 4,
 "nbformat_minor": 4
}
