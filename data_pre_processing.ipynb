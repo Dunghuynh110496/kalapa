{
 "cells": [
  {
   "cell_type": "code",
   "execution_count": 1,
   "metadata": {
    "ExecuteTime": {
     "end_time": "2020-08-04T03:50:28.383603Z",
     "start_time": "2020-08-04T03:50:27.333381Z"
    }
   },
   "outputs": [],
   "source": [
    "from itertools import combinations\n",
    "\n",
    "import time\n",
    "import numpy as np\n",
    "import pandas as pd\n",
    "import matplotlib.pyplot as plt\n",
    "\n",
    "from itertools import combinations\n",
    "\n",
    "import os\n",
    "import time\n",
    "import numpy as np\n",
    "import pandas as pd\n",
    "import matplotlib.pyplot as plt\n",
    "import seaborn as sns\n",
    "import math\n",
    "import re\n",
    "import warnings\n",
    "\n",
    "import lightgbm as lgb\n",
    "from sklearn.ensemble import RandomForestClassifier\n",
    "from unidecode import unidecode\n",
    "from sklearn.metrics import roc_auc_score\n",
    "from sklearn.model_selection import StratifiedKFold\n",
    "\n",
    "from itertools import combinations\n",
    "from datetime import datetime\n",
    "from contextlib import contextmanager"
   ]
  },
  {
   "cell_type": "code",
   "execution_count": 2,
   "metadata": {
    "ExecuteTime": {
     "end_time": "2020-08-04T03:50:30.140563Z",
     "start_time": "2020-08-04T03:50:28.386687Z"
    }
   },
   "outputs": [
    {
     "name": "stderr",
     "output_type": "stream",
     "text": [
      "/home/parker/anaconda3/envs/py37/lib/python3.7/site-packages/IPython/core/interactiveshell.py:3072: DtypeWarning: Columns (35,43) have mixed types.Specify dtype option on import or set low_memory=False.\n",
      "  interactivity=interactivity, compiler=compiler, result=result)\n",
      "/home/parker/anaconda3/envs/py37/lib/python3.7/site-packages/IPython/core/interactiveshell.py:3072: DtypeWarning: Columns (34,42) have mixed types.Specify dtype option on import or set low_memory=False.\n",
      "  interactivity=interactivity, compiler=compiler, result=result)\n"
     ]
    }
   ],
   "source": [
    "df_train = pd.read_csv(\"../../data/kalapa/train.csv\")\n",
    "df_test = pd.read_csv(\"../../data/kalapa/test.csv\")"
   ]
  },
  {
   "cell_type": "code",
   "execution_count": 4,
   "metadata": {
    "ExecuteTime": {
     "end_time": "2020-08-04T03:50:31.825803Z",
     "start_time": "2020-08-04T03:50:30.154361Z"
    },
    "code_folding": [
     0
    ]
   },
   "outputs": [],
   "source": [
    "def check_duplicate(feature1, feature2):\n",
    "    check1 = list(df_train[feature1].fillna(\"NaN\"))\n",
    "    check2 = list(df_train[feature2].fillna(\"NaN\"))\n",
    "    return check1 == check2\n",
    "distinct_columns = {}\n",
    "for col1 in df_test.columns:\n",
    "    vc = df_train[col1].value_counts()\n",
    "    index = [len(vc), set(list(vc)), set(list(vc.index))]\n",
    "    for col2 in distinct_columns:\n",
    "        if index == distinct_columns[col2] and check_duplicate(col1, col2):\n",
    "            break\n",
    "    else:\n",
    "        distinct_columns[col1] = index"
   ]
  },
  {
   "cell_type": "code",
   "execution_count": 6,
   "metadata": {
    "ExecuteTime": {
     "end_time": "2020-08-04T03:50:32.077335Z",
     "start_time": "2020-08-04T03:50:31.951634Z"
    }
   },
   "outputs": [],
   "source": [
    "DROP = [\"gioiTinh\",\"info_social_sex\", \"diaChi\", 'currentLocationCity', 'currentLocationName',\\\n",
    "        'homeTownCity', 'homeTownName', \"Field_68\", \"Field_49\", \"Field_48\", \"Field_46\", \"Field_45\", \"Field_45\", \\\n",
    "       \"Field_56\", \"Field_61\"]\n",
    "DATE = [\"Field_{}\".format(i) for i in [5, 6, 7, 8, 9, 11, 15, 25, 32, 33, 34, 35, 40]]\n",
    "DATETIME = [\"Field_{}\".format(i) for i in [1, 2, 43, 44]]"
   ]
  },
  {
   "cell_type": "code",
   "execution_count": 8,
   "metadata": {
    "ExecuteTime": {
     "end_time": "2020-08-04T03:50:32.308416Z",
     "start_time": "2020-08-04T03:50:32.182439Z"
    },
    "code_folding": []
   },
   "outputs": [],
   "source": [
    "@contextmanager\n",
    "def timer(title):\n",
    "    t0 = time.time()\n",
    "    yield\n",
    "    print(\"{} - done in {:.0f}s\".format(title, time.time() - t0))"
   ]
  },
  {
   "cell_type": "code",
   "execution_count": 9,
   "metadata": {
    "ExecuteTime": {
     "end_time": "2020-08-04T03:50:32.417913Z",
     "start_time": "2020-08-04T03:50:32.310982Z"
    },
    "code_folding": []
   },
   "outputs": [],
   "source": [
    "def subtract_date(date1,date2, df):\n",
    "    df[date1] = pd.to_datetime(df[date1], infer_datetime_format=True)\n",
    "    df[date2] = pd.to_datetime(df[date2], infer_datetime_format=True)\n",
    "    df[date1+date2] = (df[date2] - df[date1]).dt.days"
   ]
  },
  {
   "cell_type": "code",
   "execution_count": 10,
   "metadata": {
    "ExecuteTime": {
     "end_time": "2020-08-04T03:50:32.490598Z",
     "start_time": "2020-08-04T03:50:32.420371Z"
    },
    "code_folding": []
   },
   "outputs": [],
   "source": [
    "def process_ngaySinh(s):\n",
    "    if s != s:\n",
    "        return np.nan\n",
    "    try:\n",
    "        s = int(s)\n",
    "    except ValueError:\n",
    "        s = s.split(\" \")[0]\n",
    "        \n",
    "    return datetime.strptime(str(s)[:6], \"%Y%m\")"
   ]
  },
  {
   "cell_type": "code",
   "execution_count": 11,
   "metadata": {
    "ExecuteTime": {
     "end_time": "2020-08-04T03:50:32.549506Z",
     "start_time": "2020-08-04T03:50:32.493163Z"
    },
    "code_folding": []
   },
   "outputs": [],
   "source": [
    "def datetime_normalize(s):\n",
    "    if s != s:\n",
    "        return np.nan\n",
    "    \n",
    "    s = s.split(\".\")[0]\n",
    "    if s[-1] == \"Z\":\n",
    "        s = s[:-1]\n",
    "        \n",
    "    date, time = s.split(\"T\")\n",
    "    datetime_obj = datetime.strptime(s, \"%Y-%m-%dT%H:%M:%S\")\n",
    "    return datetime_obj"
   ]
  },
  {
   "cell_type": "code",
   "execution_count": 12,
   "metadata": {
    "ExecuteTime": {
     "end_time": "2020-08-04T03:50:32.607163Z",
     "start_time": "2020-08-04T03:50:32.552475Z"
    },
    "code_folding": []
   },
   "outputs": [],
   "source": [
    "def date_normalize(s):\n",
    "    if s != s:\n",
    "        return np.nan\n",
    "    \n",
    "    try:\n",
    "        datetime_obj = datetime.strptime(s, \"%m/%d/%Y\")\n",
    "    except:\n",
    "        datetime_obj = datetime.strptime(s, \"%Y-%m-%d\")\n",
    "        \n",
    "    return datetime_obj"
   ]
  },
  {
   "cell_type": "code",
   "execution_count": 13,
   "metadata": {
    "ExecuteTime": {
     "end_time": "2020-08-04T03:50:32.667422Z",
     "start_time": "2020-08-04T03:50:32.609165Z"
    },
    "code_folding": []
   },
   "outputs": [],
   "source": [
    "def process_datetime_cols(df):\n",
    "    cat_cols = []\n",
    "    for col in DATETIME:\n",
    "        df[col] = df[col].apply(datetime_normalize)\n",
    "        \n",
    "    for col in DATE:\n",
    "        if col == \"Field_34\":\n",
    "            continue\n",
    "        df[col] = df[col].apply(date_normalize)\n",
    "\n",
    "    df[\"Field_34\"] = df[\"Field_34\"].apply(process_ngaySinh)\n",
    "    df[\"ngaySinh\"] = df[\"ngaySinh\"].apply(process_ngaySinh)\n",
    "    \n",
    "    cat_cols += DATE + DATETIME\n",
    "    for col in DATE + DATETIME:\n",
    "        df[col] = df[col].dt.strftime('%d-%m-%Y')\n",
    "    \n",
    "    subtract_date('Field_5','Field_6',df)\n",
    "    subtrac_List = ['Field_1', 'Field_2', 'Field_43', 'Field_44', 'Field_7','Field_8', 'Field_9']\n",
    "    subtract_2C = list(combinations(subtrac_List, 2))\n",
    "    for l in subtract_2C:\n",
    "        subtract_date(l[0],l[1],df)\n",
    "    \n",
    "    for cat in ['F', 'E', 'C', 'G', 'A']:\n",
    "        subtract_date(f'{cat}_startDate', f'{cat}_endDate', df)\n",
    "    print(df.shape) \n",
    "    return df"
   ]
  },
  {
   "cell_type": "code",
   "execution_count": 14,
   "metadata": {
    "ExecuteTime": {
     "end_time": "2020-08-04T03:50:32.733956Z",
     "start_time": "2020-08-04T03:50:32.669330Z"
    },
    "code_folding": []
   },
   "outputs": [],
   "source": [
    "def str_normalize(s):\n",
    "    s = str(s).strip().lower()\n",
    "    s = re.sub(' +', \" \", s)\n",
    "    return s"
   ]
  },
  {
   "cell_type": "code",
   "execution_count": 15,
   "metadata": {
    "ExecuteTime": {
     "end_time": "2020-08-04T03:50:32.844606Z",
     "start_time": "2020-08-04T03:50:32.736712Z"
    },
    "code_folding": []
   },
   "outputs": [],
   "source": [
    "def process_location(df):\n",
    "    for col in [\"currentLocationLocationId\", \"homeTownLocationId\", \"currentLocationLatitude\", \"currentLocationLongitude\", \n",
    "                   \"homeTownLatitude\", \"homeTownLongitude\"]:\n",
    "        df[col].replace(0, np.nan, inplace=True)\n",
    "    return df"
   ]
  },
  {
   "cell_type": "code",
   "execution_count": 16,
   "metadata": {
    "ExecuteTime": {
     "end_time": "2020-08-04T03:50:32.915313Z",
     "start_time": "2020-08-04T03:50:32.847309Z"
    },
    "code_folding": [
     0
    ]
   },
   "outputs": [],
   "source": [
    "def combine_gender(s):\n",
    "    x, y = s\n",
    "    return x if x != None else y if y != None else None"
   ]
  },
  {
   "cell_type": "code",
   "execution_count": 17,
   "metadata": {
    "ExecuteTime": {
     "end_time": "2020-08-04T03:50:32.991015Z",
     "start_time": "2020-08-04T03:50:32.917871Z"
    },
    "code_folding": [
     0
    ]
   },
   "outputs": [],
   "source": [
    "def process_gender(df):\n",
    "    df[\"gender\"] = df[[\"gioiTinh\", \"info_social_sex\"]].apply(combine_gender, axis=1).astype(\"category\")\n",
    "    return df"
   ]
  },
  {
   "cell_type": "code",
   "execution_count": 18,
   "metadata": {
    "ExecuteTime": {
     "end_time": "2020-08-04T03:50:33.066902Z",
     "start_time": "2020-08-04T03:50:32.994716Z"
    },
    "code_folding": [
     0
    ]
   },
   "outputs": [],
   "source": [
    "def process_ordinal(df):        \n",
    "    df[\"subscriberCount\"].replace(0, np.nan, inplace=True)\n",
    "    df[\"friendCount\"].replace(0, np.nan, inplace=True)\n",
    "    \n",
    "    df[\"Field_13\"] = df[\"Field_13\"].apply(lambda x: 1 if x == x else 0)\n",
    "    df[\"Field_38\"] = df[\"Field_38\"].map({0: 0.0, 1: 1.0, \"DN\": np.nan, \"TN\": np.nan, \"GD\": np.nan})\n",
    "    df[\"Field_62\"] = df[\"Field_62\"].map({\"I\": 1, \"II\": 2, \"III\": 3, \"IV\": 4, \"V\": 5, \"Ngoài quốc doanh Quận 7\": np.nan})\n",
    "    df[\"Field_47\"] = df[\"Field_47\"].map({\"Zezo\": 0, \"One\": 1, \"Two\": 2, \"Three\": 3, \"Four\": 4})\n",
    "    \n",
    "    df[\"Field_27\"] = df[\"Field_27\"].replace({0.0: np.nan})\n",
    "    df[\"Field_28\"] = df[\"Field_28\"].replace({0.0: np.nan})\n",
    "        \n",
    "    for col in df.columns:\n",
    "        if df[col].dtype.name == \"object\":\n",
    "            df[col] = df[col].apply(str_normalize).astype(\"category\")\n",
    "            \n",
    "    return df"
   ]
  },
  {
   "cell_type": "code",
   "execution_count": 19,
   "metadata": {
    "ExecuteTime": {
     "end_time": "2020-08-04T03:50:33.144288Z",
     "start_time": "2020-08-04T03:50:33.069242Z"
    },
    "code_folding": [
     0
    ]
   },
   "outputs": [],
   "source": [
    "def fix_maCv(x):\n",
    "    lower = str(x).lower()\n",
    "    if any([x in lower for x in [\"nhân viên\", \"kế toán\", \"thủ kho\", \"tạp vụ\",\\\n",
    "                                \"thu ngân\", \"phóng viên\", \"giao dịch\", \"operator\", \"cnv\",\\\n",
    "                                \"huấn luyện viên\", \"ktoán\", \"nv\", \"lễ tân\", \"thư ký \",\\\n",
    "                                \"gsbh\", \"tiếp viên\", \"nhõn viờn\", \"chăm sóc\", \"hướng dẫn viên\", \\\n",
    "                                \"kiểm phẩm\",  \"kĩ sư\",  \"cấp dưỡng\", \"kiểm gấp\",\\\n",
    "                                \"kiểm soát viên\", \"kiểm ngân\", \"nv\", \"lưu hóa\", \"nhân  viên\", \"lưu trữ viên\", \\\n",
    "                                \"phát hành báo\", \"ktv\", \"kiến trúc sư\", \"kinh tế viên\", \"staff\", \"checker\",\\\n",
    "                                \"sỹ quan\", \"dịch vụ\", \"kiểm tra viên\", \\\n",
    "                                \"cộng tác viên\", \"qc ksqt\", \"nhân vên\", \"kế hoạch sản xuất\", \"nhaõn vieõn\", \\\n",
    "                                \"thí nghiệm\", \"thông kê\", \"kiểm hàng\", \"k? s?\", \"thư ký\", \"hợp đồng\", \\\n",
    "                                \"thẩm phán\", \"thao tác viên\", \"thủ quỹ\", \"lấy mẫu\", \"LÁI XE\".lower(), \\\n",
    "                                \"biên tập\", \"ksxd\", \"phiên dịch\", \"tb tuyên huấn\", \"sales\", \"thường trực\", \\\n",
    "                                \"trợ lý\", \"tiếp thực\", \"giỏm sỏt\", \\\n",
    "                                \"trình dược viên\", \"btđtn\", \"phúng viờn\", \\\n",
    "                                \"thông dịch\", \"tiếp thị\", \"tư vấn\", \"tổng đài\", \"vi tính\", \"viên chức\", \\\n",
    "                                \"văn phòng\", \"văn thư\", 'Thiết Kế'.lower(), \"vận hành\", \"nhan vien\", \\\n",
    "                                \"kiểm tra chất lượng\", \"pbt\", \"phi công\", \"laptop\",\\\n",
    "                                \"phụ trách kiểm hàng\", \"quay phim\", \"thư viện viên\", \\\n",
    "                                \"trực buồng\", \"techcombank\", \"cảng vụ viên\", \"trainee\", \"bhxh\", \"marketing\", \\\n",
    "                                \"tuyên truyền viên\",  \"kế hoạch\", \"ks\", \\\n",
    "                                \"an toàn viên\", \"CHỈ SỐ VIÊN\".lower(), \\\n",
    "                                \"thu mua\", \"giám éịnh viên\", \"kiểm định viên\",  \"giám định\", \\\n",
    "                                \"quản trị mạng\", \"thơợ\", \"thống kê\", \"thủ  quỹ\",  \\\n",
    "                                \"điện thoại\", \"điện thọai\", \"đội thông tin\", \"đón  tiếp khách hàng\", \\\n",
    "                                \"đơn hàng\", \"đại diện\", \"điều phối viên\", \"n.v\", \"bán vé\", \"c«ng nh©n\", \\\n",
    "                                \"gs camera\",  \"máy dán\", \"tv\",  \"đồ họa\"]]):\n",
    "        return \"NV\"\n",
    "    elif any([x in lower for x in [\"kỹ\",\"chuyên viên\",\"kĩ thuật viên\",\"kĩ thuật\", \"kỹ thuật viên\",\\\n",
    "                                 \"kỷ thuật viên\",\"lập trình viên\", \"chuyờn viờn\", \"chuyªn viªn\",]]):\n",
    "        return \"KTV\"\n",
    "    elif any([x in lower for x in [\"cán bộ\", \"cán sự\", \"bí thư đoàn\", \"cb\", \"phường đội\", \"trưởng công an\", \\\n",
    "                                  \"công an viên\", \"an ninh viên\",\"tổ viên\", \"công chức\", \"quản sinh\", \\\n",
    "                                   \"bí thư xã  đoàn\",\"điều tra viên\", \"đăng kiểm\", \"cỏn bộ\",\"đtv\", \"trực ban\",\\\n",
    "                                  ]]):\n",
    "        return \"CB\"\n",
    "    elif any([x in lower for x in [\"tổ trưởng\", \"giám sát\", \"quản lý\", \"cửa hàng trưởng\", \"chuyền trưởng\", \"kho\",\\\n",
    "                                  \"phó\", \"pp\", \"nhóm trưởng\", \"trưởng phòng\", \"trưởng ca\", \"trưởng tàu khách\", \\\n",
    "                                  \"trưởng nhóm\", \"cửa hàng trưởng\", \"trưởng bộ\", \"tổng phụ trách\", \"đào tạo\", \\\n",
    "                                  \"phụ trách phòng\", \"quản doanh\", \"vhtt\", \"trưởng ban\", \"dự án\", \"nhân sự\",\\\n",
    "                                  \"chỉ huy\", \"triển khai\", \"trưởng kiểm soát\", \"điều hành\", \"đội trưởng\", \\\n",
    "                                  \"chỉ huy\", \"qlsx\", \"t? tr??ng\", \"may\"]]):\n",
    "        return \"QL\"\n",
    "    elif any([x in lower for x in [\"công\",  \"bảo vệ\", \"thợ\", \"lao động\", \"bán hàng\",\\\n",
    "                                \"phụ kho\", \"phụ việc\", \"phết\", \"bảo mẫu\", \"phục vụ\", \"đóng gói\", \"ép cao tần\", \\\n",
    "                                \"cn\", \"sản Phẩm\", \"giao nhận\",\"cụng nhõn\", \"gia công\", \"kiÓm tra\".lower(), \\\n",
    "                                \"cô nuôi\", \"bảo dưỡng\", \"c.n\", \"coi bồn\", \"cạo mủ\", \"coõng nhaõn\", \"khai thác\",\\\n",
    "                                \"cod\", \"bốc xếp\", \"bếp\", \"lái máy\", \"lđpt\", \"khuôn\", \"hàng rong\", \"phụ bếp\",\\\n",
    "                                \"phụ tá\", \"thủ công\", \"dệt\", \"sửa chữa\", \"băng chuyền\", \"lắp ráp\", \\\n",
    "                                \"chà nhám\", \"cn\", \"bếp phụ\", \"chụp hình\", \"KHUNG SắT\".lower(), \"kcs chuyền\", \\\n",
    "                                \"lao động\", \"thành hình\", \"lao công\", \"cônh nhân\", \"thi công\", \"cán lần 1\", \\\n",
    "                                \"lái phụ máy\", \"thủy thủ\", \"gác ghi\", \"quay ghi\", \"bảo trì\", \"bảo mẩu\", \\\n",
    "                                \"máy 3 tàu\", \"giao hàng\", \"trực chính\", \"hỗ trợ\", \"lái xúc gạt\", \"công  nhân\",\\\n",
    "                                \"lđhđ\", \"lao d?ng\", \"c. nhân\", \"pv nước\", \"hđlđ\", \"vệ sinh\", \"phụ\", \"vệ sỹ\", \\\n",
    "                                \"xếp hộp\", \"barista\", \"hàn điện\", \"thuỷ thủ\", \"xây dựng\", \"b?o v?\", \\\n",
    "                                \"mài phá\", \"xếp da\", \"worker\", \"cong nhan\", \"pha chế\", \\\n",
    "                                \"máy trưởng\", \"phụ trách sản xuất\", \"trải vải\", \"YếN TIệC\".lower(), \"gấp xếp\", \\\n",
    "                                \"in sơ đồ\", \"lđ phổ thông\", \"mài\", \"nhồi mút\", \"ép\", \"gói\", \"đóng\", \\\n",
    "                                \"đội viên\", \"đánh máy\", \"đứng máy\", \"ủi\", \"săm\", 'atlđ']]):\n",
    "        return \"CN\"\n",
    "    elif any([x in lower for x in [\"lái xe\", \"tài xế\", \"phụ xe\",\"lái cẩu\", \"vân hành\", ]]):\n",
    "        return \"TX\"\n",
    "    elif any([x in lower for x in [\"giáo viên\", \"gv\", \"giảng viên\", \"chủ nhiệm lớp\", \"giáo viến\", \\\n",
    "                                   \"Giáo viến\".lower(), \"mầm non\"]]):\n",
    "        return \"GV\"\n",
    "    elif any([x in lower for x in [\"kinh doanh\", \"kinh  doanh\"]]):\n",
    "        return \"KD\"\n",
    "\n",
    "    elif any([x in lower for x in [\"hiệu trưởng\", \"chủ tịch\", \"pgđ\", \"giám đốc\"]]):\n",
    "        return \"GĐ\"\n",
    "    elif any([x in lower for x in [\"điều dưỡng\", \"hộ lý\", \"nữ hộ sinh\", \"h? lý\", \"hộ sinh\"]]):\n",
    "        return \"ĐD\"\n",
    "    elif any([x in lower for x in [\"y sĩ\", \"dược sỹ\", \"bác sĩ\", \"bác sỹ\", \"dược\", \"dược tá\", \"thú y\", \"y sỹ\",\\\n",
    "                                  \"y tế\", \"y công\", \"y tá\", \"dựơc tá\", \"ytth\"]]):\n",
    "        return \"BS\"\n",
    "    elif any([x in lower for x in [\"cử nhân\", \"cđ\", \"học viên\", \"tc\", \"cao đẳng\", \"cao đẵng\", \"trung cấp\"]]):\n",
    "        return \"HS\"\n",
    "    elif any([x in lower for x in [\"diễn viên\", \"ca sĩ\"]]):\n",
    "        return \"DV-CS\"\n",
    "    elif any([x in lower for x in [\"undefined\", \"nguyễn thế hưng\", \"ln091\", \"thieu chuc danh\", \"th noọng hẹt\", \\\n",
    "                                  \"875 lk\", \"-\", \"p.xnk\", \"cỏn b?\", '22568', \"unt\", \"01019882\", \"xtnt\", \"ltv\", \\\n",
    "                                  \"plđg hc\", \"mia\", \"pqtd\", \"kttntl\", \"llqs\", \"kcsmhm\", \"nt\", \"dtm\", \"i\", \"qc\",\\\n",
    "                                  '/  /', '1', '14', 'a', 'chủ hộ', 'coõng vuù', 'kcs', 'pk b2c',\\\n",
    "                                   'xt2', 'kcs', 'sxct']]):\n",
    "        return np.nan\n",
    "    return x"
   ]
  },
  {
   "cell_type": "code",
   "execution_count": 20,
   "metadata": {
    "ExecuteTime": {
     "end_time": "2020-08-04T03:50:33.255584Z",
     "start_time": "2020-08-04T03:50:33.147507Z"
    },
    "code_folding": [
     0
    ]
   },
   "outputs": [],
   "source": [
    "def fix_55(x):\n",
    "    if x in ['BC', 'BG', 'CN', 'CO', 'DB', 'EL', 'FO', 'H5', 'KX', 'N7', 'NR', 'SD', 'SJ', 'ST', 'WD']:\n",
    "        return np.nan\n",
    "    return x"
   ]
  },
  {
   "cell_type": "code",
   "execution_count": 21,
   "metadata": {
    "ExecuteTime": {
     "end_time": "2020-08-04T03:50:33.323538Z",
     "start_time": "2020-08-04T03:50:33.257908Z"
    },
    "code_folding": []
   },
   "outputs": [],
   "source": [
    "def transform(df):\n",
    "    df = process_datetime_cols(df)\n",
    "    df = process_gender(df)\n",
    "    df = process_location(df)\n",
    "    df = process_ordinal(df)\n",
    "    return df.drop(DROP, 1)"
   ]
  },
  {
   "cell_type": "code",
   "execution_count": 22,
   "metadata": {
    "ExecuteTime": {
     "end_time": "2020-08-04T03:50:52.705787Z",
     "start_time": "2020-08-04T03:50:33.325677Z"
    },
    "code_folding": [],
    "scrolled": false
   },
   "outputs": [
    {
     "name": "stderr",
     "output_type": "stream",
     "text": [
      "/home/parker/anaconda3/envs/py37/lib/python3.7/site-packages/IPython/core/interactiveshell.py:3072: DtypeWarning: Columns (35,43) have mixed types.Specify dtype option on import or set low_memory=False.\n",
      "  interactivity=interactivity, compiler=compiler, result=result)\n",
      "/home/parker/anaconda3/envs/py37/lib/python3.7/site-packages/IPython/core/interactiveshell.py:3072: DtypeWarning: Columns (34,42) have mixed types.Specify dtype option on import or set low_memory=False.\n",
      "  interactivity=interactivity, compiler=compiler, result=result)\n"
     ]
    },
    {
     "name": "stdout",
     "output_type": "stream",
     "text": [
      "(73411, 175)\n",
      "Preprocess - done in 16s\n"
     ]
    },
    {
     "name": "stderr",
     "output_type": "stream",
     "text": [
      "/home/parker/anaconda3/envs/py37/lib/python3.7/site-packages/pandas/core/frame.py:4172: SettingWithCopyWarning: \n",
      "A value is trying to be set on a copy of a slice from a DataFrame\n",
      "\n",
      "See the caveats in the documentation: https://pandas.pydata.org/pandas-docs/stable/user_guide/indexing.html#returning-a-view-versus-a-copy\n",
      "  method=method,\n",
      "/home/parker/anaconda3/envs/py37/lib/python3.7/site-packages/pandas/core/generic.py:6245: SettingWithCopyWarning: \n",
      "A value is trying to be set on a copy of a slice from a DataFrame\n",
      "\n",
      "See the caveats in the documentation: https://pandas.pydata.org/pandas-docs/stable/user_guide/indexing.html#returning-a-view-versus-a-copy\n",
      "  self._update_inplace(new_data)\n",
      "/home/parker/anaconda3/envs/py37/lib/python3.7/site-packages/ipykernel_launcher.py:20: SettingWithCopyWarning: \n",
      "A value is trying to be set on a copy of a slice from a DataFrame.\n",
      "Try using .loc[row_indexer,col_indexer] = value instead\n",
      "\n",
      "See the caveats in the documentation: https://pandas.pydata.org/pandas-docs/stable/user_guide/indexing.html#returning-a-view-versus-a-copy\n"
     ]
    }
   ],
   "source": [
    "df_train = pd.read_csv(\"../../data/kalapa/train.csv\")\n",
    "df_test = pd.read_csv(\"../../data/kalapa/test.csv\")\n",
    "df_all = df_train.drop(['label'], 1).append(df_test)\n",
    "df_all = df_all[distinct_columns]\n",
    "\n",
    "df_all.maCv = df_all.maCv.apply(fix_maCv)\n",
    "df_all.Field_55 = df_all.Field_55.apply(fix_55)\n",
    "\n",
    "\n",
    "\n",
    "with timer(\"Preprocess\"):\n",
    "    df_all_fe = transform(df_all.copy())\n",
    "    df_all_fe['Age'] = df_all_fe.ngaySinh.apply(lambda x: 2020 - x.year)\n",
    "    df_all_fe = df_all_fe.drop('ngaySinh', axis = 1)\n",
    "    cols_select = [x for x in df_all_fe.columns if x not in DATE + DATETIME  + [f'{cat}_endDate' for cat in ['F', 'E', 'C', 'G', 'A']] + [f'{cat}_startDate' for cat in ['F', 'E', 'C', 'G', 'A']]]\n",
    "    df_fe = df_all_fe[cols_select]\n",
    "    df_fe.replace([np.inf, -np.inf], -99999999999999999, inplace=True)\n",
    "\n",
    "    for col in df_fe.columns:\n",
    "        if df_fe[col].dtype.name == \"category\":\n",
    "            if df_fe[col].isnull().sum() > 0:\n",
    "                df_fe[col] = df_fe[col].cat.add_categories(f'missing_{col}')\n",
    "                df_fe[col].fillna(f'missing_{col}', inplace=True)\n",
    "        else:\n",
    "            df_fe[col].fillna(-99999, inplace=True)\n",
    "\n",
    "    y_label = df_train[\"label\"]\n",
    "    train_fe = df_fe[df_fe[\"id\"] < df_train.shape[0]]\n",
    "    test_fe = df_fe[df_fe[\"id\"] >= df_train.shape[0]]"
   ]
  },
  {
   "cell_type": "code",
   "execution_count": 23,
   "metadata": {
    "ExecuteTime": {
     "end_time": "2020-08-04T03:50:52.757991Z",
     "start_time": "2020-08-04T03:50:52.711891Z"
    }
   },
   "outputs": [],
   "source": [
    "df_train = pd.concat([df_train.id,df_train.label, train_fe.iloc[:,1:]], axis = 1)"
   ]
  },
  {
   "cell_type": "code",
   "execution_count": 27,
   "metadata": {
    "ExecuteTime": {
     "end_time": "2020-08-04T03:50:53.375751Z",
     "start_time": "2020-08-04T03:50:53.313242Z"
    }
   },
   "outputs": [],
   "source": [
    "data_version = \"02-01-2021-v3\""
   ]
  },
  {
   "cell_type": "code",
   "execution_count": 28,
   "metadata": {
    "ExecuteTime": {
     "end_time": "2020-08-04T03:51:01.807394Z",
     "start_time": "2020-08-04T03:50:53.378605Z"
    }
   },
   "outputs": [],
   "source": [
    "os.makedirs(f\"../../data/kalapa/{data_version}/\", exist_ok=True)\n",
    "df_train.to_csv(f\"../../data/kalapa/{data_version}/train.csv\", index = False)\n",
    "test_fe.to_csv(f\"../../data/kalapa/{data_version}/test.csv\", index = False)"
   ]
  }
 ],
 "metadata": {
  "kernelspec": {
   "display_name": "Python 3",
   "language": "python",
   "name": "python3"
  },
  "language_info": {
   "codemirror_mode": {
    "name": "ipython",
    "version": 3
   },
   "file_extension": ".py",
   "mimetype": "text/x-python",
   "name": "python",
   "nbconvert_exporter": "python",
   "pygments_lexer": "ipython3",
   "version": "3.7.7"
  },
  "varInspector": {
   "cols": {
    "lenName": 16,
    "lenType": 16,
    "lenVar": 40
   },
   "kernels_config": {
    "python": {
     "delete_cmd_postfix": "",
     "delete_cmd_prefix": "del ",
     "library": "var_list.py",
     "varRefreshCmd": "print(var_dic_list())"
    },
    "r": {
     "delete_cmd_postfix": ") ",
     "delete_cmd_prefix": "rm(",
     "library": "var_list.r",
     "varRefreshCmd": "cat(var_dic_list()) "
    }
   },
   "types_to_exclude": [
    "module",
    "function",
    "builtin_function_or_method",
    "instance",
    "_Feature"
   ],
   "window_display": false
  }
 },
 "nbformat": 4,
 "nbformat_minor": 4
}
