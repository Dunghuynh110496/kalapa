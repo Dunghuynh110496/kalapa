{
 "cells": [
  {
   "cell_type": "code",
   "execution_count": 34,
   "metadata": {
    "ExecuteTime": {
     "end_time": "2020-08-04T04:56:54.005782Z",
     "start_time": "2020-08-04T04:56:53.987639Z"
    }
   },
   "outputs": [],
   "source": [
    "from itertools import combinations\n",
    "\n",
    "import time\n",
    "import numpy as np\n",
    "import pandas as pd\n",
    "import matplotlib.pyplot as plt\n",
    "\n",
    "from itertools import combinations\n",
    "\n",
    "import os\n",
    "import time\n",
    "import numpy as np\n",
    "import pandas as pd\n",
    "import matplotlib.pyplot as plt\n",
    "import seaborn as sns\n",
    "import math\n",
    "import re\n",
    "import warnings\n",
    "\n",
    "import lightgbm as lgb\n",
    "from sklearn.ensemble import RandomForestClassifier\n",
    "from unidecode import unidecode\n",
    "from sklearn.metrics import roc_auc_score\n",
    "from sklearn.model_selection import StratifiedKFold\n",
    "\n",
    "from itertools import combinations\n",
    "from datetime import datetime\n",
    "from contextlib import contextmanager"
   ]
  },
  {
   "cell_type": "code",
   "execution_count": 35,
   "metadata": {
    "ExecuteTime": {
     "end_time": "2020-08-04T04:56:58.452937Z",
     "start_time": "2020-08-04T04:56:56.298947Z"
    }
   },
   "outputs": [
    {
     "name": "stderr",
     "output_type": "stream",
     "text": [
      "/home/parker/anaconda3/envs/py37/lib/python3.7/site-packages/IPython/core/interactiveshell.py:3072: DtypeWarning: Columns (35,43) have mixed types.Specify dtype option on import or set low_memory=False.\n",
      "  interactivity=interactivity, compiler=compiler, result=result)\n",
      "/home/parker/anaconda3/envs/py37/lib/python3.7/site-packages/IPython/core/interactiveshell.py:3072: DtypeWarning: Columns (34,42) have mixed types.Specify dtype option on import or set low_memory=False.\n",
      "  interactivity=interactivity, compiler=compiler, result=result)\n"
     ]
    }
   ],
   "source": [
    "df_train = pd.read_csv(\"../../data/kalapa/train.csv\")\n",
    "df_test = pd.read_csv(\"../../data/kalapa/test.csv\")"
   ]
  },
  {
   "cell_type": "code",
   "execution_count": 36,
   "metadata": {
    "ExecuteTime": {
     "end_time": "2020-08-04T04:57:00.470644Z",
     "start_time": "2020-08-04T04:57:00.464643Z"
    }
   },
   "outputs": [
    {
     "data": {
      "text/plain": [
       "0        1.0\n",
       "1        NaN\n",
       "2        2.0\n",
       "3        NaN\n",
       "4        NaN\n",
       "        ... \n",
       "53025    1.0\n",
       "53026    NaN\n",
       "53027    2.0\n",
       "53028    NaN\n",
       "53029    NaN\n",
       "Name: Field_3, Length: 53030, dtype: float64"
      ]
     },
     "execution_count": 36,
     "metadata": {},
     "output_type": "execute_result"
    }
   ],
   "source": [
    "df_train.Field_3"
   ]
  },
  {
   "cell_type": "code",
   "execution_count": 37,
   "metadata": {
    "ExecuteTime": {
     "end_time": "2020-08-04T04:57:05.443737Z",
     "start_time": "2020-08-04T04:57:02.478267Z"
    }
   },
   "outputs": [],
   "source": [
    "def check_duplicate(feature1, feature2):\n",
    "    check1 = list(df_train[feature1].fillna(\"NaN\"))\n",
    "    check2 = list(df_train[feature2].fillna(\"NaN\"))\n",
    "    return check1 == check2\n",
    "distinct_columns = {}\n",
    "for col1 in df_test.columns:\n",
    "    vc = df_train[col1].value_counts()\n",
    "    index = [len(vc), set(list(vc)), set(list(vc.index))]\n",
    "    for col2 in distinct_columns:\n",
    "        if index == distinct_columns[col2] and check_duplicate(col1, col2):\n",
    "            break\n",
    "    else:\n",
    "        distinct_columns[col1] = index\n",
    "duplicate = []\n",
    "for col in df_train.columns:\n",
    "    if col not in distinct_columns:\n",
    "        duplicate.append(col)"
   ]
  },
  {
   "cell_type": "code",
   "execution_count": 38,
   "metadata": {
    "ExecuteTime": {
     "end_time": "2020-08-04T04:57:07.497781Z",
     "start_time": "2020-08-04T04:57:07.485101Z"
    }
   },
   "outputs": [
    {
     "data": {
      "text/plain": [
       "dict_keys(['id', 'Field_1', 'Field_2', 'Field_3', 'Field_4', 'Field_5', 'Field_6', 'Field_7', 'Field_8', 'Field_9', 'Field_10', 'Field_11', 'Field_12', 'Field_13', 'Field_15', 'Field_18', 'Field_19', 'Field_20', 'Field_21', 'Field_22', 'Field_23', 'Field_25', 'Field_27', 'Field_28', 'Field_29', 'Field_32', 'Field_33', 'Field_34', 'Field_35', 'ngaySinh', 'namSinh', 'gioiTinh', 'diaChi', 'Field_36', 'Field_38', 'Field_39', 'Field_40', 'Field_41', 'Field_42', 'Field_43', 'Field_44', 'Field_45', 'Field_46', 'Field_47', 'Field_48', 'Field_49', 'Field_50', 'Field_51', 'Field_53', 'Field_54', 'Field_55', 'Field_56', 'Field_58', 'Field_59', 'Field_60', 'Field_61', 'Field_62', 'Field_63', 'Field_64', 'Field_65', 'Field_66', 'Field_67', 'Field_68', 'maCv', 'Field_69', 'Field_70', 'Field_71', 'Field_72', 'Field_73', 'Field_74', 'Field_75', 'Field_76', 'Field_77', 'friendCount', 'info_social_sex', 'subscriberCount', 'currentLocationLocationId', 'currentLocationLatitude', 'currentLocationLongitude', 'homeTownLocationId', 'homeTownLatitude', 'homeTownLongitude', 'data.basic_info.locale', 'currentLocationCity', 'currentLocationCountry', 'currentLocationName', 'currentLocationState', 'homeTownCity', 'homeTownCountry', 'homeTownName', 'homeTownState', 'topFriends', 'numOrg', 'F_numOrg', 'F_numQuery', 'F_startDate', 'F_endDate', 'E_numOrg', 'E_numQuery', 'E_startDate', 'E_endDate', 'C_numOrg', 'C_numQuery', 'C_startDate', 'C_endDate', 'G_numOrg', 'G_numQuery', 'G_startDate', 'G_endDate', 'A_numOrg', 'A_numQuery', 'A_startDate', 'A_endDate', 'summary_6m', 'summary_3m', 'summary_1m', 'summary_1w', 'partner0_A', 'partner0_B', 'partner0_C', 'partner0_D', 'partner0_E', 'partner0_F', 'partner0_G', 'partner0_H', 'partner1_A', 'partner1_C', 'partner1_G', 'partner1_H', 'partner2_A', 'partner2_C', 'partner2_D', 'partner2_F', 'partner2_H', 'partner3_A', 'partner3_D', 'partner3_E', 'partner4_L', 'partner5_A', 'partner5_D', 'partner5_G', 'brief', 'num_of_phone', 'Field_78', 'Field_79', 'Field_80', 'Field_81', 'Field_82'])"
      ]
     },
     "execution_count": 38,
     "metadata": {},
     "output_type": "execute_result"
    }
   ],
   "source": [
    "distinct_columns.keys()"
   ]
  },
  {
   "cell_type": "code",
   "execution_count": 39,
   "metadata": {
    "ExecuteTime": {
     "end_time": "2020-08-04T04:57:09.533487Z",
     "start_time": "2020-08-04T04:57:09.526322Z"
    }
   },
   "outputs": [],
   "source": [
    "DROP = [\"gioiTinh\",\"info_social_sex\", \"diaChi\", 'currentLocationCity', 'currentLocationName',\\\n",
    "        'homeTownCity', 'homeTownName', \"Field_68\", \"Field_49\", \"Field_48\", \"Field_46\", \"Field_45\", \"Field_45\", \\\n",
    "       \"Field_56\", \"Field_61\"]\n",
    "DATE = [\"Field_{}\".format(i) for i in [5, 6, 7, 8, 9, 11, 15, 25, 32, 33, 34, 35, 40]]\n",
    "DATETIME = [\"Field_{}\".format(i) for i in [1, 2, 43, 44]]"
   ]
  },
  {
   "cell_type": "code",
   "execution_count": 40,
   "metadata": {
    "ExecuteTime": {
     "end_time": "2020-08-04T04:57:11.513572Z",
     "start_time": "2020-08-04T04:57:11.509580Z"
    },
    "code_folding": []
   },
   "outputs": [],
   "source": [
    "@contextmanager\n",
    "def timer(title):\n",
    "    t0 = time.time()\n",
    "    yield\n",
    "    print(\"{} - done in {:.0f}s\".format(title, time.time() - t0))"
   ]
  },
  {
   "cell_type": "code",
   "execution_count": 41,
   "metadata": {
    "ExecuteTime": {
     "end_time": "2020-08-04T04:57:13.497707Z",
     "start_time": "2020-08-04T04:57:13.492845Z"
    },
    "code_folding": []
   },
   "outputs": [],
   "source": [
    "def subtract_date(date1,date2, df):\n",
    "    df[date1] = pd.to_datetime(df[date1], infer_datetime_format=True)\n",
    "    df[date2] = pd.to_datetime(df[date2], infer_datetime_format=True)\n",
    "    df[date1+date2] = (df[date2] - df[date1]).dt.days"
   ]
  },
  {
   "cell_type": "code",
   "execution_count": 42,
   "metadata": {
    "ExecuteTime": {
     "end_time": "2020-08-04T04:57:15.476402Z",
     "start_time": "2020-08-04T04:57:15.471781Z"
    },
    "code_folding": []
   },
   "outputs": [],
   "source": [
    "def process_ngaySinh(s):\n",
    "    if s != s:\n",
    "        return np.nan\n",
    "    try:\n",
    "        s = int(s)\n",
    "    except ValueError:\n",
    "        s = s.split(\" \")[0]\n",
    "        \n",
    "    return datetime.strptime(str(s)[:6], \"%Y%m\")"
   ]
  },
  {
   "cell_type": "code",
   "execution_count": 43,
   "metadata": {
    "ExecuteTime": {
     "end_time": "2020-08-04T04:57:17.504750Z",
     "start_time": "2020-08-04T04:57:17.497490Z"
    },
    "code_folding": []
   },
   "outputs": [],
   "source": [
    "def datetime_normalize(s):\n",
    "    if s != s:\n",
    "        return np.nan\n",
    "    \n",
    "    s = s.split(\".\")[0]\n",
    "    if s[-1] == \"Z\":\n",
    "        s = s[:-1]\n",
    "        \n",
    "    date, time = s.split(\"T\")\n",
    "    datetime_obj = datetime.strptime(s, \"%Y-%m-%dT%H:%M:%S\")\n",
    "    return datetime_obj"
   ]
  },
  {
   "cell_type": "code",
   "execution_count": 44,
   "metadata": {
    "ExecuteTime": {
     "end_time": "2020-08-04T04:57:19.866181Z",
     "start_time": "2020-08-04T04:57:19.859427Z"
    },
    "code_folding": []
   },
   "outputs": [],
   "source": [
    "def date_normalize(s):\n",
    "    if s != s:\n",
    "        return np.nan\n",
    "    \n",
    "    try:\n",
    "        datetime_obj = datetime.strptime(s, \"%m/%d/%Y\")\n",
    "    except:\n",
    "        datetime_obj = datetime.strptime(s, \"%Y-%m-%d\")\n",
    "        \n",
    "    return datetime_obj"
   ]
  },
  {
   "cell_type": "code",
   "execution_count": 45,
   "metadata": {
    "ExecuteTime": {
     "end_time": "2020-08-04T04:57:22.057474Z",
     "start_time": "2020-08-04T04:57:22.043059Z"
    },
    "code_folding": []
   },
   "outputs": [],
   "source": [
    "def process_datetime_cols(df):\n",
    "    cat_cols = []\n",
    "    for col in DATETIME:\n",
    "        df[col] = df[col].apply(datetime_normalize)\n",
    "        \n",
    "    for col in DATE:\n",
    "        if col == \"Field_34\":\n",
    "            continue\n",
    "        df[col] = df[col].apply(date_normalize)\n",
    "\n",
    "    df[\"Field_34\"] = df[\"Field_34\"].apply(process_ngaySinh)\n",
    "    df[\"ngaySinh\"] = df[\"ngaySinh\"].apply(process_ngaySinh)\n",
    "    \n",
    "    cat_cols += DATE + DATETIME\n",
    "    for col in DATE + DATETIME:\n",
    "        df[col] = df[col].dt.strftime('%d-%m-%Y')\n",
    "    \n",
    "    subtract_date('Field_5','Field_6',df)\n",
    "    subtrac_List = ['Field_1', 'Field_2', 'Field_43', 'Field_44', 'Field_7','Field_8', 'Field_9']\n",
    "    subtract_2C = list(combinations(subtrac_List, 2))\n",
    "    for l in subtract_2C:\n",
    "        subtract_date(l[0],l[1],df)\n",
    "    \n",
    "    for cat in ['F', 'E', 'C', 'G', 'A']:\n",
    "        subtract_date(f'{cat}_startDate', f'{cat}_endDate', df)\n",
    "    print(df.shape) \n",
    "    return df"
   ]
  },
  {
   "cell_type": "code",
   "execution_count": 46,
   "metadata": {
    "ExecuteTime": {
     "end_time": "2020-08-04T04:57:24.265264Z",
     "start_time": "2020-08-04T04:57:24.261915Z"
    },
    "code_folding": []
   },
   "outputs": [],
   "source": [
    "def str_normalize(s):\n",
    "    s = str(s).strip().lower()\n",
    "    s = re.sub(' +', \" \", s)\n",
    "    return s"
   ]
  },
  {
   "cell_type": "code",
   "execution_count": 47,
   "metadata": {
    "ExecuteTime": {
     "end_time": "2020-08-04T04:57:26.312975Z",
     "start_time": "2020-08-04T04:57:26.308676Z"
    },
    "code_folding": []
   },
   "outputs": [],
   "source": [
    "def process_location(df):\n",
    "    for col in [\"currentLocationLocationId\", \"homeTownLocationId\", \"currentLocationLatitude\", \"currentLocationLongitude\", \n",
    "                   \"homeTownLatitude\", \"homeTownLongitude\"]:\n",
    "        df[col].replace(0, np.nan, inplace=True)\n",
    "    return df"
   ]
  },
  {
   "cell_type": "code",
   "execution_count": 48,
   "metadata": {
    "ExecuteTime": {
     "end_time": "2020-08-04T04:57:28.492111Z",
     "start_time": "2020-08-04T04:57:28.487357Z"
    },
    "code_folding": [
     0
    ]
   },
   "outputs": [],
   "source": [
    "def combine_gender(s):\n",
    "    x, y = s\n",
    "    return x if x != None else y if y != None else None"
   ]
  },
  {
   "cell_type": "code",
   "execution_count": 49,
   "metadata": {
    "ExecuteTime": {
     "end_time": "2020-08-04T04:57:30.547740Z",
     "start_time": "2020-08-04T04:57:30.543456Z"
    },
    "code_folding": [
     0
    ]
   },
   "outputs": [],
   "source": [
    "def process_gender(df):\n",
    "    df[\"gender\"] = df[[\"gioiTinh\", \"info_social_sex\"]].apply(combine_gender, axis=1).astype(\"category\")\n",
    "    return df"
   ]
  },
  {
   "cell_type": "code",
   "execution_count": 50,
   "metadata": {
    "ExecuteTime": {
     "end_time": "2020-08-04T04:57:32.566352Z",
     "start_time": "2020-08-04T04:57:32.553062Z"
    },
    "code_folding": [
     0
    ]
   },
   "outputs": [],
   "source": [
    "def process_ordinal(df):        \n",
    "    df[\"subscriberCount\"].replace(0, np.nan, inplace=True)\n",
    "    df[\"friendCount\"].replace(0, np.nan, inplace=True)\n",
    "    \n",
    "    df[\"Field_13\"] = df[\"Field_13\"].apply(lambda x: 1 if x == x else 0)\n",
    "    df[\"Field_38\"] = df[\"Field_38\"].map({0: 0.0, 1: 1.0, \"DN\": np.nan, \"TN\": np.nan, \"GD\": np.nan})\n",
    "    df[\"Field_62\"] = df[\"Field_62\"].map({\"I\": 1, \"II\": 2, \"III\": 3, \"IV\": 4, \"V\": 5, \"Ngoài quốc doanh Quận 7\": np.nan})\n",
    "    df[\"Field_47\"] = df[\"Field_47\"].map({\"Zezo\": 0, \"One\": 1, \"Two\": 2, \"Three\": 3, \"Four\": 4})\n",
    "    \n",
    "    df[\"Field_27\"] = df[\"Field_27\"].replace({0.0: np.nan})\n",
    "    df[\"Field_28\"] = df[\"Field_28\"].replace({0.0: np.nan})\n",
    "        \n",
    "    for col in df.columns:\n",
    "        if df[col].dtype.name == \"object\":\n",
    "            df[col] = df[col].apply(str_normalize).astype(\"category\")\n",
    "            \n",
    "    return df"
   ]
  },
  {
   "cell_type": "code",
   "execution_count": 51,
   "metadata": {
    "ExecuteTime": {
     "end_time": "2020-08-04T04:57:34.688015Z",
     "start_time": "2020-08-04T04:57:34.623167Z"
    },
    "code_folding": [
     0
    ]
   },
   "outputs": [],
   "source": [
    "def fix_maCv(x):\n",
    "    lower = str(x).lower()\n",
    "    if any([x in lower for x in [\"nhân viên\", \"kế toán\", \"thủ kho\", \"tạp vụ\",\\\n",
    "                                \"thu ngân\", \"phóng viên\", \"giao dịch\", \"operator\", \"cnv\",\\\n",
    "                                \"huấn luyện viên\", \"ktoán\", \"nv\", \"lễ tân\", \"thư ký \",\\\n",
    "                                \"gsbh\", \"tiếp viên\", \"nhõn viờn\", \"chăm sóc\", \"hướng dẫn viên\", \\\n",
    "                                \"kiểm phẩm\",  \"kĩ sư\",  \"cấp dưỡng\", \"kiểm gấp\",\\\n",
    "                                \"kiểm soát viên\", \"kiểm ngân\", \"nv\", \"lưu hóa\", \"nhân  viên\", \"lưu trữ viên\", \\\n",
    "                                \"phát hành báo\", \"ktv\", \"kiến trúc sư\", \"kinh tế viên\", \"staff\", \"checker\",\\\n",
    "                                \"sỹ quan\", \"dịch vụ\", \"kiểm tra viên\", \\\n",
    "                                \"cộng tác viên\", \"qc ksqt\", \"nhân vên\", \"kế hoạch sản xuất\", \"nhaõn vieõn\", \\\n",
    "                                \"thí nghiệm\", \"thông kê\", \"kiểm hàng\", \"k? s?\", \"thư ký\", \"hợp đồng\", \\\n",
    "                                \"thẩm phán\", \"thao tác viên\", \"thủ quỹ\", \"lấy mẫu\", \"LÁI XE\".lower(), \\\n",
    "                                \"biên tập\", \"ksxd\", \"phiên dịch\", \"tb tuyên huấn\", \"sales\", \"thường trực\", \\\n",
    "                                \"trợ lý\", \"tiếp thực\", \"giỏm sỏt\", \\\n",
    "                                \"trình dược viên\", \"btđtn\", \"phúng viờn\", \\\n",
    "                                \"thông dịch\", \"tiếp thị\", \"tư vấn\", \"tổng đài\", \"vi tính\", \"viên chức\", \\\n",
    "                                \"văn phòng\", \"văn thư\", 'Thiết Kế'.lower(), \"vận hành\", \"nhan vien\", \\\n",
    "                                \"kiểm tra chất lượng\", \"pbt\", \"phi công\", \"laptop\",\\\n",
    "                                \"phụ trách kiểm hàng\", \"quay phim\", \"thư viện viên\", \\\n",
    "                                \"trực buồng\", \"techcombank\", \"cảng vụ viên\", \"trainee\", \"bhxh\", \"marketing\", \\\n",
    "                                \"tuyên truyền viên\",  \"kế hoạch\", \"ks\", \\\n",
    "                                \"an toàn viên\", \"CHỈ SỐ VIÊN\".lower(), \\\n",
    "                                \"thu mua\", \"giám éịnh viên\", \"kiểm định viên\",  \"giám định\", \\\n",
    "                                \"quản trị mạng\", \"thơợ\", \"thống kê\", \"thủ  quỹ\",  \\\n",
    "                                \"điện thoại\", \"điện thọai\", \"đội thông tin\", \"đón  tiếp khách hàng\", \\\n",
    "                                \"đơn hàng\", \"đại diện\", \"điều phối viên\", \"n.v\", \"bán vé\", \"c«ng nh©n\", \\\n",
    "                                \"gs camera\",  \"máy dán\", \"tv\",  \"đồ họa\"]]):\n",
    "        return \"NV\"\n",
    "    elif any([x in lower for x in [\"kỹ\",\"chuyên viên\",\"kĩ thuật viên\",\"kĩ thuật\", \"kỹ thuật viên\",\\\n",
    "                                 \"kỷ thuật viên\",\"lập trình viên\", \"chuyờn viờn\", \"chuyªn viªn\",]]):\n",
    "        return \"KTV\"\n",
    "    elif any([x in lower for x in [\"cán bộ\", \"cán sự\", \"bí thư đoàn\", \"cb\", \"phường đội\", \"trưởng công an\", \\\n",
    "                                  \"công an viên\", \"an ninh viên\",\"tổ viên\", \"công chức\", \"quản sinh\", \\\n",
    "                                   \"bí thư xã  đoàn\",\"điều tra viên\", \"đăng kiểm\", \"cỏn bộ\",\"đtv\", \"trực ban\",\\\n",
    "                                  ]]):\n",
    "        return \"CB\"\n",
    "    elif any([x in lower for x in [\"tổ trưởng\", \"giám sát\", \"quản lý\", \"cửa hàng trưởng\", \"chuyền trưởng\", \"kho\",\\\n",
    "                                  \"phó\", \"pp\", \"nhóm trưởng\", \"trưởng phòng\", \"trưởng ca\", \"trưởng tàu khách\", \\\n",
    "                                  \"trưởng nhóm\", \"cửa hàng trưởng\", \"trưởng bộ\", \"tổng phụ trách\", \"đào tạo\", \\\n",
    "                                  \"phụ trách phòng\", \"quản doanh\", \"vhtt\", \"trưởng ban\", \"dự án\", \"nhân sự\",\\\n",
    "                                  \"chỉ huy\", \"triển khai\", \"trưởng kiểm soát\", \"điều hành\", \"đội trưởng\", \\\n",
    "                                  \"chỉ huy\", \"qlsx\", \"t? tr??ng\", \"may\"]]):\n",
    "        return \"QL\"\n",
    "    elif any([x in lower for x in [\"công\",  \"bảo vệ\", \"thợ\", \"lao động\", \"bán hàng\",\\\n",
    "                                \"phụ kho\", \"phụ việc\", \"phết\", \"bảo mẫu\", \"phục vụ\", \"đóng gói\", \"ép cao tần\", \\\n",
    "                                \"cn\", \"sản Phẩm\", \"giao nhận\",\"cụng nhõn\", \"gia công\", \"kiÓm tra\".lower(), \\\n",
    "                                \"cô nuôi\", \"bảo dưỡng\", \"c.n\", \"coi bồn\", \"cạo mủ\", \"coõng nhaõn\", \"khai thác\",\\\n",
    "                                \"cod\", \"bốc xếp\", \"bếp\", \"lái máy\", \"lđpt\", \"khuôn\", \"hàng rong\", \"phụ bếp\",\\\n",
    "                                \"phụ tá\", \"thủ công\", \"dệt\", \"sửa chữa\", \"băng chuyền\", \"lắp ráp\", \\\n",
    "                                \"chà nhám\", \"cn\", \"bếp phụ\", \"chụp hình\", \"KHUNG SắT\".lower(), \"kcs chuyền\", \\\n",
    "                                \"lao động\", \"thành hình\", \"lao công\", \"cônh nhân\", \"thi công\", \"cán lần 1\", \\\n",
    "                                \"lái phụ máy\", \"thủy thủ\", \"gác ghi\", \"quay ghi\", \"bảo trì\", \"bảo mẩu\", \\\n",
    "                                \"máy 3 tàu\", \"giao hàng\", \"trực chính\", \"hỗ trợ\", \"lái xúc gạt\", \"công  nhân\",\\\n",
    "                                \"lđhđ\", \"lao d?ng\", \"c. nhân\", \"pv nước\", \"hđlđ\", \"vệ sinh\", \"phụ\", \"vệ sỹ\", \\\n",
    "                                \"xếp hộp\", \"barista\", \"hàn điện\", \"thuỷ thủ\", \"xây dựng\", \"b?o v?\", \\\n",
    "                                \"mài phá\", \"xếp da\", \"worker\", \"cong nhan\", \"pha chế\", \\\n",
    "                                \"máy trưởng\", \"phụ trách sản xuất\", \"trải vải\", \"YếN TIệC\".lower(), \"gấp xếp\", \\\n",
    "                                \"in sơ đồ\", \"lđ phổ thông\", \"mài\", \"nhồi mút\", \"ép\", \"gói\", \"đóng\", \\\n",
    "                                \"đội viên\", \"đánh máy\", \"đứng máy\", \"ủi\", \"săm\", 'atlđ']]):\n",
    "        return \"CN\"\n",
    "    elif any([x in lower for x in [\"lái xe\", \"tài xế\", \"phụ xe\",\"lái cẩu\", \"vân hành\", ]]):\n",
    "        return \"TX\"\n",
    "    elif any([x in lower for x in [\"giáo viên\", \"gv\", \"giảng viên\", \"chủ nhiệm lớp\", \"giáo viến\", \\\n",
    "                                   \"Giáo viến\".lower(), \"mầm non\"]]):\n",
    "        return \"GV\"\n",
    "    elif any([x in lower for x in [\"kinh doanh\", \"kinh  doanh\"]]):\n",
    "        return \"KD\"\n",
    "\n",
    "    elif any([x in lower for x in [\"hiệu trưởng\", \"chủ tịch\", \"pgđ\", \"giám đốc\"]]):\n",
    "        return \"GĐ\"\n",
    "    elif any([x in lower for x in [\"điều dưỡng\", \"hộ lý\", \"nữ hộ sinh\", \"h? lý\", \"hộ sinh\"]]):\n",
    "        return \"ĐD\"\n",
    "    elif any([x in lower for x in [\"y sĩ\", \"dược sỹ\", \"bác sĩ\", \"bác sỹ\", \"dược\", \"dược tá\", \"thú y\", \"y sỹ\",\\\n",
    "                                  \"y tế\", \"y công\", \"y tá\", \"dựơc tá\", \"ytth\"]]):\n",
    "        return \"BS\"\n",
    "    elif any([x in lower for x in [\"cử nhân\", \"cđ\", \"học viên\", \"tc\", \"cao đẳng\", \"cao đẵng\", \"trung cấp\"]]):\n",
    "        return \"HS\"\n",
    "    elif any([x in lower for x in [\"diễn viên\", \"ca sĩ\"]]):\n",
    "        return \"DV-CS\"\n",
    "    elif any([x in lower for x in [\"undefined\", \"nguyễn thế hưng\", \"ln091\", \"thieu chuc danh\", \"th noọng hẹt\", \\\n",
    "                                  \"875 lk\", \"-\", \"p.xnk\", \"cỏn b?\", '22568', \"unt\", \"01019882\", \"xtnt\", \"ltv\", \\\n",
    "                                  \"plđg hc\", \"mia\", \"pqtd\", \"kttntl\", \"llqs\", \"kcsmhm\", \"nt\", \"dtm\", \"i\", \"qc\",\\\n",
    "                                  '/  /', '1', '14', 'a', 'chủ hộ', 'coõng vuù', 'kcs', 'pk b2c',\\\n",
    "                                   'xt2', 'kcs', 'sxct']]):\n",
    "        return np.nan\n",
    "    return x"
   ]
  },
  {
   "cell_type": "code",
   "execution_count": 52,
   "metadata": {
    "ExecuteTime": {
     "end_time": "2020-08-04T04:57:36.731191Z",
     "start_time": "2020-08-04T04:57:36.726738Z"
    },
    "code_folding": [
     0
    ]
   },
   "outputs": [],
   "source": [
    "def fix_55(x):\n",
    "    if x in ['BC', 'BG', 'CN', 'CO', 'DB', 'EL', 'FO', 'H5', 'KX', 'N7', 'NR', 'SD', 'SJ', 'ST', 'WD']:\n",
    "        return np.nan\n",
    "    return x"
   ]
  },
  {
   "cell_type": "code",
   "execution_count": 53,
   "metadata": {
    "ExecuteTime": {
     "end_time": "2020-08-04T04:57:38.781653Z",
     "start_time": "2020-08-04T04:57:38.774779Z"
    },
    "code_folding": []
   },
   "outputs": [],
   "source": [
    "def transform(df):\n",
    "    df = process_datetime_cols(df)\n",
    "    df = process_gender(df)\n",
    "    df = process_location(df)\n",
    "    df = process_ordinal(df)\n",
    "    return df.drop(DROP, 1)"
   ]
  },
  {
   "cell_type": "code",
   "execution_count": 64,
   "metadata": {
    "ExecuteTime": {
     "end_time": "2020-08-04T05:15:57.555766Z",
     "start_time": "2020-08-04T05:15:31.379449Z"
    },
    "code_folding": [],
    "scrolled": false
   },
   "outputs": [
    {
     "name": "stderr",
     "output_type": "stream",
     "text": [
      "/home/parker/anaconda3/envs/py37/lib/python3.7/site-packages/IPython/core/interactiveshell.py:3072: DtypeWarning: Columns (35,43) have mixed types.Specify dtype option on import or set low_memory=False.\n",
      "  interactivity=interactivity, compiler=compiler, result=result)\n",
      "/home/parker/anaconda3/envs/py37/lib/python3.7/site-packages/IPython/core/interactiveshell.py:3072: DtypeWarning: Columns (34,42) have mixed types.Specify dtype option on import or set low_memory=False.\n",
      "  interactivity=interactivity, compiler=compiler, result=result)\n"
     ]
    },
    {
     "name": "stdout",
     "output_type": "stream",
     "text": [
      "(73411, 175)\n",
      "Preprocess - done in 23s\n"
     ]
    }
   ],
   "source": [
    "df_train = pd.read_csv(\"../../data/kalapa/train.csv\")\n",
    "df_test = pd.read_csv(\"../../data/kalapa/test.csv\")\n",
    "df_all = df_train.drop(['label'], 1).append(df_test)\n",
    "df_all = df_all[distinct_columns]\n",
    "\n",
    "df_all.maCv = df_all.maCv.apply(fix_maCv)\n",
    "df_all.Field_55 = df_all.Field_55.apply(fix_55)\n",
    "\n",
    "\n",
    "\n",
    "with timer(\"Preprocess\"):\n",
    "    df_all_fe = transform(df_all.copy())\n",
    "    df_all_fe['Age'] = df_all_fe.ngaySinh.apply(lambda x: 2020 - x.year)\n",
    "    df_all_fe = df_all_fe.drop('ngaySinh', axis = 1)\n",
    "    cols_select = [x for x in df_all_fe.columns]\n",
    "    df_fe = df_all_fe[cols_select]\n",
    "    for col in df_fe.columns:\n",
    "        if df_fe[col].dtype.name == \"category\" or  df_fe[col].dtype.name == \"object\":\n",
    "            if df_fe[col].isnull().sum() > 0:\n",
    "                df_fe[col] = df_fe[col].cat.add_categories(f'missing_{col}')\n",
    "                df_fe[col].fillna(f'missing_{col}', inplace=True)\n",
    "        else:\n",
    "            df_fe[col].fillna(-9999999, inplace=True)\n",
    "\n",
    "    df_fe.replace([np.inf, -np.inf], -9999999, inplace=True)\n",
    "\n",
    "\n",
    "    y_label = df_train[\"label\"]\n",
    "    train_fe = df_fe[df_fe[\"id\"] < df_train.shape[0]]\n",
    "    test_fe = df_fe[df_fe[\"id\"] >= df_train.shape[0]]"
   ]
  },
  {
   "cell_type": "code",
   "execution_count": 65,
   "metadata": {
    "ExecuteTime": {
     "end_time": "2020-08-04T05:16:03.177437Z",
     "start_time": "2020-08-04T05:16:03.081640Z"
    }
   },
   "outputs": [],
   "source": [
    "df_train = pd.concat([df_train.id,df_train.label, train_fe.iloc[:,1:]], axis = 1)"
   ]
  },
  {
   "cell_type": "code",
   "execution_count": 66,
   "metadata": {
    "ExecuteTime": {
     "end_time": "2020-08-04T05:16:05.364925Z",
     "start_time": "2020-08-04T05:16:04.532463Z"
    }
   },
   "outputs": [
    {
     "name": "stdout",
     "output_type": "stream",
     "text": [
      "train_fe : Field_2: 974: Index([           -9999999, 2018-12-28 00:00:00, 2018-12-27 00:00:00,\n",
      "       2018-12-31 00:00:00, 2019-10-31 00:00:00, 2018-12-26 00:00:00,\n",
      "       2017-03-24 00:00:00],\n",
      "      dtype='object')\n",
      "test_fe  : Field_2: 810: Index([           -9999999, 2018-12-28 00:00:00, 2018-12-27 00:00:00,\n",
      "       2018-12-31 00:00:00, 2018-12-26 00:00:00, 2019-10-31 00:00:00,\n",
      "       2019-01-02 00:00:00],\n",
      "      dtype='object')\n",
      "train_fe : Field_3: 3: Float64Index([-9999999.0, 2.0, 1.0], dtype='float64')\n",
      "test_fe  : Field_3: 3: Float64Index([-9999999.0, 2.0, 1.0], dtype='float64')\n",
      "train_fe : Field_4: 3: CategoricalIndex(['nan', 't1', 'gh'], categories=['gh', 'nan', 't1'], ordered=False, dtype='category')\n",
      "test_fe  : Field_4: 3: CategoricalIndex(['nan', 't1', 'gh'], categories=['gh', 'nan', 't1'], ordered=False, dtype='category')\n",
      "train_fe : Field_5: 1902: Index([           -9999999, 2018-12-27 00:00:00, 2018-12-28 00:00:00,\n",
      "       2018-12-26 00:00:00, 2018-12-25 00:00:00, 2018-12-29 00:00:00,\n",
      "       2018-12-24 00:00:00],\n",
      "      dtype='object')\n",
      "test_fe  : Field_5: 1201: Index([           -9999999, 2018-12-27 00:00:00, 2018-12-28 00:00:00,\n",
      "       2018-12-26 00:00:00, 2018-12-25 00:00:00, 2018-12-29 00:00:00,\n",
      "       2018-12-24 00:00:00],\n",
      "      dtype='object')\n",
      "train_fe : Field_6: 1871: Index([           -9999999, 2018-12-27 00:00:00, 2018-12-28 00:00:00,\n",
      "       2018-12-26 00:00:00, 2018-12-25 00:00:00, 2018-12-29 00:00:00,\n",
      "       2018-12-24 00:00:00],\n",
      "      dtype='object')\n",
      "test_fe  : Field_6: 1191: Index([           -9999999, 2018-12-27 00:00:00, 2018-12-26 00:00:00,\n",
      "       2018-12-28 00:00:00, 2018-12-25 00:00:00, 2018-12-29 00:00:00,\n",
      "       2018-12-24 00:00:00],\n",
      "      dtype='object')\n",
      "train_fe : Field_7: 1200: Index([           -9999999, 2019-01-01 00:00:00, 2020-01-01 00:00:00,\n",
      "       2019-01-04 00:00:00, 2019-01-07 00:00:00, 2018-01-01 00:00:00,\n",
      "       2019-01-10 00:00:00],\n",
      "      dtype='object')\n",
      "test_fe  : Field_7: 823: Index([           -9999999, 2019-01-01 00:00:00, 2020-01-01 00:00:00,\n",
      "       2018-01-01 00:00:00, 2019-01-07 00:00:00, 2019-01-10 00:00:00,\n",
      "       2019-01-04 00:00:00],\n",
      "      dtype='object')\n",
      "train_fe : Field_8: 1393: Index([           -9999999, 2019-12-31 00:00:00, 2020-12-31 00:00:00,\n",
      "       2019-10-31 00:00:00, 2019-09-30 00:00:00, 2019-08-31 00:00:00,\n",
      "       2016-12-31 00:00:00],\n",
      "      dtype='object')\n",
      "test_fe  : Field_8: 906: Index([           -9999999, 2019-12-31 00:00:00, 2020-12-31 00:00:00,\n",
      "       2019-10-31 00:00:00, 2019-09-30 00:00:00, 2018-12-31 00:00:00,\n",
      "       2019-08-31 00:00:00],\n",
      "      dtype='object')\n",
      "train_fe : Field_9: 1930: Index([           -9999999, 2018-12-27 00:00:00, 2018-12-28 00:00:00,\n",
      "       2018-12-26 00:00:00, 2018-12-25 00:00:00, 2018-12-29 00:00:00,\n",
      "       2018-12-24 00:00:00],\n",
      "      dtype='object')\n",
      "test_fe  : Field_9: 1226: Index([           -9999999, 2018-12-27 00:00:00, 2018-12-28 00:00:00,\n",
      "       2018-12-26 00:00:00, 2018-12-25 00:00:00, 2018-12-29 00:00:00,\n",
      "       2018-12-24 00:00:00],\n",
      "      dtype='object')\n",
      "train_fe : Field_10: 7: Float64Index([-9999999.0, 1.0, 2.0, 3.0, 4.0, 5.0, 0.0], dtype='float64')\n",
      "test_fe  : Field_10: 6: Float64Index([-9999999.0, 1.0, 2.0, 3.0, 4.0, 5.0], dtype='float64')\n",
      "train_fe : Field_11: 943: CategoricalIndex(['nan', '31-10-2019', '30-09-2019', '31-08-2019',\n",
      "                  '31-07-2019', '31-05-2019', '30-06-2019'],\n",
      "                 categories=['01-01-2013', '01-01-2014', '01-01-2015', '01-01-2016', '01-01-2017', '01-01-2018', '01-01-2019', '01-01-2020', ...], ordered=False, dtype='category')\n",
      "test_fe  : Field_11: 943: CategoricalIndex(['nan', '31-10-2019', '31-12-2019', '30-09-2019',\n",
      "                  '31-08-2019', '31-12-2018', '31-07-2019'],\n",
      "                 categories=['01-01-2013', '01-01-2014', '01-01-2015', '01-01-2016', '01-01-2017', '01-01-2018', '01-01-2019', '01-01-2020', ...], ordered=False, dtype='category')\n",
      "train_fe : Field_12: 8: CategoricalIndex(['nan', 'g8', 'g3', 'gx', 'g7', 'g9', 'g2'], categories=['g2', 'g3', 'g4', 'g7', 'g8', 'g9', 'gx', 'nan'], ordered=False, dtype='category')\n",
      "test_fe  : Field_12: 8: CategoricalIndex(['nan', 'g8', 'g3', 'g7', 'gx', 'g9', 'g2'], categories=['g2', 'g3', 'g4', 'g7', 'g8', 'g9', 'gx', 'nan'], ordered=False, dtype='category')\n",
      "train_fe : Field_13: 2: Int64Index([0, 1], dtype='int64')\n",
      "test_fe  : Field_13: 2: Int64Index([0, 1], dtype='int64')\n",
      "train_fe : Field_15: 1609: CategoricalIndex(['nan', '31-08-2013', '28-12-2018', '27-12-2018',\n",
      "                  '02-01-2019', '26-04-2019', '25-12-2018'],\n",
      "                 categories=['01-01-2009', '01-01-2015', '01-01-2017', '01-01-2018', '01-01-2019', '01-02-2016', '01-02-2018', '01-02-2019', ...], ordered=False, dtype='category')\n",
      "test_fe  : Field_15: 1609: CategoricalIndex(['nan', '31-08-2013', '28-12-2018', '27-12-2018',\n",
      "                  '24-12-2018', '02-01-2019', '25-12-2018'],\n",
      "                 categories=['01-01-2009', '01-01-2015', '01-01-2017', '01-01-2018', '01-01-2019', '01-02-2016', '01-02-2018', '01-02-2019', ...], ordered=False, dtype='category')\n",
      "train_fe : Field_18: 8625: CategoricalIndex(['nan', '.', 'phòng kinh doanh', 'sản xuất', 'kd',\n",
      "                  'kinh doanh', ','],\n",
      "                 categories=['#', ''03/07/2019', ''2959-3b', '(03-233)', '(1)', '(11-171-10)', '(13)', '(13-215)', ...], ordered=False, dtype='category')\n",
      "test_fe  : Field_18: 8625: CategoricalIndex(['nan', '.', 'thành phố biên hòa', 'sản xuất', 'kinh doanh',\n",
      "                  'kd', '1'],\n",
      "                 categories=['#', ''03/07/2019', ''2959-3b', '(03-233)', '(1)', '(11-171-10)', '(13)', '(13-215)', ...], ordered=False, dtype='category')\n",
      "train_fe : Field_19: 355: Float64Index([-9999999.0, 0.0, 1.0, 1.86, 2.67, 2.34, 2.06], dtype='float64')\n",
      "test_fe  : Field_19: 231: Float64Index([-9999999.0, 0.0, 1.0, 2.34, 1.86, 2.67, 2.06], dtype='float64')\n",
      "train_fe : Field_20: 4736: Float64Index([-9999999.0, 1490000.0, 1390000.0, 4500000.0, 973000.0, 1043000.0,\n",
      "              4260000.0],\n",
      "             dtype='float64')\n",
      "test_fe  : Field_20: 2355: Float64Index([-9999999.0, 1490000.0, 1390000.0, 4500000.0, 973000.0, 4300000.0,\n",
      "              4260000.0],\n",
      "             dtype='float64')\n",
      "train_fe : Field_21: 5: Float64Index([-9999999.0, 4.5, 0.0, 6.0, 3.0], dtype='float64')\n",
      "test_fe  : Field_21: 5: Float64Index([-9999999.0, 4.5, 0.0, 6.0, 3.0], dtype='float64')\n",
      "train_fe : Field_22: 4: Float64Index([-9999999.0, 1.0, 0.0, 2.0], dtype='float64')\n",
      "test_fe  : Field_22: 4: Float64Index([-9999999.0, 1.0, 0.0, 2.0], dtype='float64')\n",
      "train_fe : Field_23: 314: Float64Index([-9999999.0, 0.0, 12.0, 24.0, 1.0, 2.0, 36.0], dtype='float64')\n",
      "test_fe  : Field_23: 284: Float64Index([-9999999.0, 0.0, 12.0, 24.0, 1.0, 36.0, 6.0], dtype='float64')\n",
      "train_fe : Field_25: 1694: CategoricalIndex(['nan', '27-12-2018', '28-12-2018', '26-12-2018',\n",
      "                  '25-12-2018', '31-08-2013', '29-12-2018'],\n",
      "                 categories=['01-01-2017', '01-01-2018', '01-01-2019', '01-01-2020', '01-02-2016', '01-02-2018', '01-02-2019', '01-03-2016', ...], ordered=False, dtype='category')\n",
      "test_fe  : Field_25: 1694: CategoricalIndex(['nan', '28-12-2018', '27-12-2018', '26-12-2018',\n",
      "                  '25-12-2018', '29-12-2018', '24-12-2018'],\n",
      "                 categories=['01-01-2017', '01-01-2018', '01-01-2019', '01-01-2020', '01-02-2016', '01-02-2018', '01-02-2019', '01-03-2016', ...], ordered=False, dtype='category')\n",
      "train_fe : Field_27: 636: Float64Index([-9999999.0, 1150000.0, 1210000.0, 3317000.0, 3745000.0, 805000.0,\n",
      "              3000000.0],\n",
      "             dtype='float64')\n",
      "test_fe  : Field_27: 286: Float64Index([-9999999.0, 1150000.0, 1210000.0, 3317000.0, 3745000.0, 726000.0,\n",
      "              2889000.0],\n",
      "             dtype='float64')\n",
      "train_fe : Field_28: 634: Float64Index([-9999999.0, 54450.0, 51750.0, 149265.0, 168525.0, 36225.0,\n",
      "              34500.0],\n",
      "             dtype='float64')\n",
      "test_fe  : Field_28: 288: Float64Index([-9999999.0, 51750.0, 54450.0, 149265.0, 168525.0, 32670.0,\n",
      "              130005.0],\n",
      "             dtype='float64')\n",
      "train_fe : Field_29: 44: Float64Index([-9999999.0, 12.0, 0.0, 6.0, 3.0, 24.0, 4.0], dtype='float64')\n",
      "test_fe  : Field_29: 32: Float64Index([-9999999.0, 12.0, 0.0, 6.0, 3.0, 24.0, 4.0], dtype='float64')\n",
      "train_fe : Field_32: 1605: CategoricalIndex(['nan', '28-12-2018', '27-12-2018', '26-12-2018',\n",
      "                  '31-08-2013', '29-12-2018', '02-01-2019'],\n",
      "                 categories=['01-01-2009', '01-01-2017', '01-01-2018', '01-01-2019', '01-01-2020', '01-02-2016', '01-02-2018', '01-02-2019', ...], ordered=False, dtype='category')\n",
      "test_fe  : Field_32: 1605: CategoricalIndex(['nan', '28-12-2018', '27-12-2018', '26-12-2018',\n",
      "                  '29-12-2018', '25-12-2018', '02-01-2019'],\n",
      "                 categories=['01-01-2009', '01-01-2017', '01-01-2018', '01-01-2019', '01-01-2020', '01-02-2016', '01-02-2018', '01-02-2019', ...], ordered=False, dtype='category')\n",
      "train_fe : Field_33: 1953: CategoricalIndex(['nan', '01-01-2015', '01-01-2023', '01-07-2023',\n",
      "                  '01-04-2023', '01-08-2023', '01-09-2023'],\n",
      "                 categories=['01-01-2015', '01-01-2016', '01-01-2017', '01-01-2018', '01-01-2019', '01-01-2020', '01-01-2021', '01-01-2022', ...], ordered=False, dtype='category')\n",
      "test_fe  : Field_33: 1953: CategoricalIndex(['nan', '01-01-2015', '01-01-2023', '01-01-2022',\n",
      "                  '01-06-2023', '01-07-2023', '01-08-2023'],\n",
      "                 categories=['01-01-2015', '01-01-2016', '01-01-2017', '01-01-2018', '01-01-2019', '01-01-2020', '01-01-2021', '01-01-2022', ...], ordered=False, dtype='category')\n",
      "train_fe : Field_34: 141: CategoricalIndex(['nan', '01-01-2018', '01-01-2019', '01-04-2019',\n",
      "                  '01-10-2019', '01-09-2019', '01-07-2019'],\n",
      "                 categories=['01-01-2007', '01-01-2008', '01-01-2009', '01-01-2010', '01-01-2011', '01-01-2012', '01-01-2013', '01-01-2014', ...], ordered=False, dtype='category')\n",
      "test_fe  : Field_34: 141: CategoricalIndex(['nan', '01-01-2018', '01-01-2019', '01-09-2019',\n",
      "                  '01-04-2019', '01-10-2019', '01-10-2018'],\n",
      "                 categories=['01-01-2007', '01-01-2008', '01-01-2009', '01-01-2010', '01-01-2011', '01-01-2012', '01-01-2013', '01-01-2014', ...], ordered=False, dtype='category')\n",
      "train_fe : Field_35: 706: CategoricalIndex(['nan', '31-10-2019', '30-09-2019', '31-08-2019',\n",
      "                  '31-07-2019', '31-05-2019', '30-06-2019'],\n",
      "                 categories=['01-01-2016', '01-01-2017', '01-01-2018', '01-01-2019', '01-01-2020', '01-02-2017', '01-02-2018', '01-02-2019', ...], ordered=False, dtype='category')\n",
      "test_fe  : Field_35: 706: CategoricalIndex(['nan', '31-10-2019', '31-12-2019', '30-09-2019',\n",
      "                  '31-08-2019', '31-07-2019', '31-12-2018'],\n",
      "                 categories=['01-01-2016', '01-01-2017', '01-01-2018', '01-01-2019', '01-01-2020', '01-02-2017', '01-02-2018', '01-02-2019', ...], ordered=False, dtype='category')\n",
      "train_fe : namSinh: 4: Float64Index([-9999999.0, 0.0, 1.0, 2.0], dtype='float64')\n",
      "test_fe  : namSinh: 4: Float64Index([-9999999.0, 0.0, 1.0, 2.0], dtype='float64')\n",
      "train_fe : Field_36: 35: CategoricalIndex(['nan', 'dn', 'gd', 'hc', 'tn', 'ch', 'sv'], categories=['b3', 'bt', 'cb', 'ch', 'ck', 'cn', 'cy', 'dk', ...], ordered=False, dtype='category')\n",
      "test_fe  : Field_36: 35: CategoricalIndex(['nan', 'dn', 'gd', 'hc', 'tn', 'ch', 'sv'], categories=['b3', 'bt', 'cb', 'ch', 'ck', 'cn', 'cy', 'dk', ...], ordered=False, dtype='category')\n",
      "train_fe : Field_38: 3: Float64Index([-9999999.0, 0.0, 1.0], dtype='float64')\n",
      "test_fe  : Field_38: 3: Float64Index([-9999999.0, 0.0, 1.0], dtype='float64')\n",
      "train_fe : Field_39: 3: Float64Index([-9999999.0, 1.0, 0.0], dtype='float64')\n",
      "test_fe  : Field_39: 3: Float64Index([-9999999.0, 1.0, 0.0], dtype='float64')\n",
      "train_fe : Field_40: 582: CategoricalIndex(['nan', '01-01-2019', '01-01-2020', '01-04-2019',\n",
      "                  '01-07-2019', '01-10-2019', '01-01-2018'],\n",
      "                 categories=['01-01-2014', '01-01-2015', '01-01-2016', '01-01-2017', '01-01-2018', '01-01-2019', '01-01-2020', '01-01-2021', ...], ordered=False, dtype='category')\n",
      "test_fe  : Field_40: 582: CategoricalIndex(['nan', '01-01-2019', '01-01-2020', '01-07-2019',\n",
      "                  '01-10-2019', '01-04-2019', '01-01-2018'],\n",
      "                 categories=['01-01-2014', '01-01-2015', '01-01-2016', '01-01-2017', '01-01-2018', '01-01-2019', '01-01-2020', '01-01-2021', ...], ordered=False, dtype='category')\n",
      "train_fe : Field_41: 3: Float64Index([-9999999.0, 1.0, 0.0], dtype='float64')\n",
      "test_fe  : Field_41: 3: Float64Index([-9999999.0, 1.0, 0.0], dtype='float64')\n",
      "train_fe : Field_42: 3: Float64Index([-9999999.0, 1.0, 0.0], dtype='float64')\n",
      "test_fe  : Field_42: 3: Float64Index([-9999999.0, 1.0, 0.0], dtype='float64')\n"
     ]
    },
    {
     "name": "stdout",
     "output_type": "stream",
     "text": [
      "train_fe : Field_43: 790: Index([           -9999999, 2017-03-24 00:00:00, 2017-10-02 00:00:00,\n",
      "       2017-03-17 00:00:00, 2017-01-18 00:00:00, 2017-01-21 00:00:00,\n",
      "       2017-03-03 00:00:00],\n",
      "      dtype='object')\n",
      "test_fe  : Field_43: 590: Index([           -9999999, 2017-03-24 00:00:00, 2017-10-02 00:00:00,\n",
      "       2017-03-17 00:00:00, 2017-03-03 00:00:00, 2017-01-21 00:00:00,\n",
      "       2017-01-18 00:00:00],\n",
      "      dtype='object')\n",
      "train_fe : Field_44: 786: Index([           -9999999, 2019-06-26 00:00:00, 2019-09-30 00:00:00,\n",
      "       2019-06-28 00:00:00, 2019-09-19 00:00:00, 2019-10-24 00:00:00,\n",
      "       2019-09-18 00:00:00],\n",
      "      dtype='object')\n",
      "test_fe  : Field_44: 642: Index([           -9999999, 2019-06-26 00:00:00, 2019-09-30 00:00:00,\n",
      "       2019-09-19 00:00:00, 2019-06-28 00:00:00, 2019-10-24 00:00:00,\n",
      "       2019-09-26 00:00:00],\n",
      "      dtype='object')\n",
      "train_fe : Field_47: 6: Float64Index([-9999999.0, 0.0, 1.0, 4.0, 2.0, 3.0], dtype='float64')\n",
      "test_fe  : Field_47: 6: Float64Index([-9999999.0, 0.0, 1.0, 4.0, 2.0, 3.0], dtype='float64')\n",
      "train_fe : Field_50: 3: Float64Index([-9999999.0, 1.0, 0.0], dtype='float64')\n",
      "test_fe  : Field_50: 3: Float64Index([-9999999.0, 1.0, 0.0], dtype='float64')\n",
      "train_fe : Field_51: 3: Float64Index([-9999999.0, 1.0, 0.0], dtype='float64')\n",
      "test_fe  : Field_51: 3: Float64Index([-9999999.0, 1.0, 0.0], dtype='float64')\n",
      "train_fe : Field_53: 3: Float64Index([-9999999.0, 0.0, 1.0], dtype='float64')\n",
      "test_fe  : Field_53: 3: Float64Index([-9999999.0, 0.0, 1.0], dtype='float64')\n",
      "train_fe : Field_54: 50: CategoricalIndex(['nan', 'vn', 'tw', 'kr', 'jp', 'cn', 'cz'], categories=['01', '1', 'ad', 'ae', 'af', 'an', 'as', 'au', ...], ordered=False, dtype='category')\n",
      "test_fe  : Field_54: 50: CategoricalIndex(['nan', 'vn', 'tw', 'kr', 'cn', 'jp', 'cz'], categories=['01', '1', 'ad', 'ae', 'af', 'an', 'as', 'au', ...], ordered=False, dtype='category')\n",
      "train_fe : Field_55: 221: CategoricalIndex(['nan', 'yn', 'bi', 'ta', 'bo', 'tz', 'tf'], categories=['a2', 'a6', 'a9', 'aa', 'ab', 'ac', 'ad', 'ah', ...], ordered=False, dtype='category')\n",
      "test_fe  : Field_55: 221: CategoricalIndex(['nan', 'yn', 'bi', 'ta', 'bo', 'tz', 'te'], categories=['a2', 'a6', 'a9', 'aa', 'ab', 'ac', 'ad', 'ah', ...], ordered=False, dtype='category')\n",
      "train_fe : Field_58: 6: Float64Index([-9999999.0, 0.0, 5.0, 2.0, 4.0, 3.0], dtype='float64')\n",
      "test_fe  : Field_58: 6: Float64Index([-9999999.0, 0.0, 5.0, 2.0, 4.0, 3.0], dtype='float64')\n",
      "train_fe : Field_59: 36: Float64Index([-9999999.0, 5.0, 4.0, 33.0, 6.0, 35.0, 3.0], dtype='float64')\n",
      "test_fe  : Field_59: 33: Float64Index([-9999999.0, 5.0, 4.0, 33.0, 6.0, 35.0, 3.0], dtype='float64')\n",
      "train_fe : Field_60: 35: Float64Index([-9999999.0, 3.0, 2.0, 31.0, 4.0, 33.0, 1.0], dtype='float64')\n",
      "test_fe  : Field_60: 33: Float64Index([-9999999.0, 3.0, 2.0, 31.0, 4.0, 33.0, 1.0], dtype='float64')\n",
      "train_fe : Field_62: 6: Float64Index([-9999999.0, 1.0, 5.0, 2.0, 4.0, 3.0], dtype='float64')\n",
      "test_fe  : Field_62: 6: Float64Index([-9999999.0, 1.0, 5.0, 2.0, 4.0, 3.0], dtype='float64')\n",
      "train_fe : Field_63: 11: Float64Index([-9999999.0, 2.0, 3.0, 4.0, 8.0, 0.0, 5.0], dtype='float64')\n",
      "test_fe  : Field_63: 11: Float64Index([-9999999.0, 2.0, 3.0, 4.0, 8.0, 0.0, 5.0], dtype='float64')\n",
      "train_fe : Field_64: 10: Float64Index([-9999999.0, 1.0, 2.0, 3.0, 4.0, 7.0, 5.0], dtype='float64')\n",
      "test_fe  : Field_64: 10: Float64Index([-9999999.0, 1.0, 2.0, 3.0, 4.0, 7.0, 5.0], dtype='float64')\n",
      "train_fe : Field_65: 11: CategoricalIndex(['nan', 'vùng 1', 'vùng 2', 'vùng 3', 'vùng 4',\n",
      "                  'dn đầu tư nn (vùng 1 có đt) {01->09, 15}',\n",
      "                  'dn đầu tư nn (vùng 2 có đt) {10->14, 16, 19->23, 25, 29}'],\n",
      "                 categories=['5', 'dn tư nhân', 'dn đầu tư nn (vùng 1 có đt) {01->09, 15}', 'dn đầu tư nn (vùng 2 có đt) {10->14, 16, 19->23, 25, 29}', 'dn đầu tư nn (vùng 3 có đt) {17, 18, 24, 26->28}', 'dn đầu tư nn (vùng 4 có đt)', 'nan', 'vùng 1', ...], ordered=False, dtype='category')\n",
      "test_fe  : Field_65: 11: CategoricalIndex(['nan', 'vùng 1', 'vùng 2', 'vùng 3', 'vùng 4',\n",
      "                  'dn đầu tư nn (vùng 1 có đt) {01->09, 15}',\n",
      "                  'dn đầu tư nn (vùng 2 có đt) {10->14, 16, 19->23, 25, 29}'],\n",
      "                 categories=['5', 'dn tư nhân', 'dn đầu tư nn (vùng 1 có đt) {01->09, 15}', 'dn đầu tư nn (vùng 2 có đt) {10->14, 16, 19->23, 25, 29}', 'dn đầu tư nn (vùng 3 có đt) {17, 18, 24, 26->28}', 'dn đầu tư nn (vùng 4 có đt)', 'nan', 'vùng 1', ...], ordered=False, dtype='category')\n",
      "train_fe : Field_66: 9: CategoricalIndex(['nan', 'd', 'c', 'g', 'e', 'f', 'b'], categories=['b', 'c', 'd', 'e', 'f', 'g', 'h', 'i', ...], ordered=False, dtype='category')\n",
      "test_fe  : Field_66: 9: CategoricalIndex(['nan', 'd', 'c', 'g', 'e', 'f', 'b'], categories=['b', 'c', 'd', 'e', 'f', 'g', 'h', 'i', ...], ordered=False, dtype='category')\n",
      "train_fe : Field_67: 14431: Float64Index([-9999999.0, 776953.0, 67129.0, 470954.0, 644004.0, 658535.0,\n",
      "              329951.0],\n",
      "             dtype='float64')\n",
      "test_fe  : Field_67: 6583: Float64Index([-9999999.0, 776953.0, 470954.0, 329951.0, 644004.0, 67129.0,\n",
      "              646653.0],\n",
      "             dtype='float64')\n",
      "train_fe : maCv: 14: CategoricalIndex(['nan', 'nv', 'cn', 'ql', 'gv', 'ktv', 'cb'], categories=['bs', 'cb', 'cn', 'dv-cs', 'gv', 'gđ', 'hs', 'kd', ...], ordered=False, dtype='category')\n",
      "test_fe  : maCv: 14: CategoricalIndex(['nan', 'nv', 'cn', 'ql', 'gv', 'ktv', 'cb'], categories=['bs', 'cb', 'cn', 'dv-cs', 'gv', 'gđ', 'hs', 'kd', ...], ordered=False, dtype='category')\n",
      "train_fe : Field_69: 102: Float64Index([-9999999.0, 0.0, 0.01, 1.0, 0.02, 0.04, 0.03], dtype='float64')\n",
      "test_fe  : Field_69: 102: Float64Index([-9999999.0, 0.0, 0.01, 1.0, 0.03, 0.02, 0.04], dtype='float64')\n",
      "train_fe : Field_70: 51: Float64Index([-9999999.0, 0.08, 0.12, 0.49, 0.6, 0.62, 0.35], dtype='float64')\n",
      "test_fe  : Field_70: 51: Float64Index([-9999999.0, 0.08, 0.12, 0.49, 0.6, 0.35, 0.62], dtype='float64')\n",
      "train_fe : Field_71: 322: Float64Index([-9999999.0, 0.06, 0.245, 0.04, 0.195, 0.175, 0.14], dtype='float64')\n",
      "test_fe  : Field_71: 243: Float64Index([-9999999.0, 0.245, 0.06, 0.04, 0.195, 0.26, 0.175], dtype='float64')\n",
      "train_fe : Field_72: 497: Float64Index([-9999999.0, 0.12, 0.49, 0.08, 0.39, 0.28, 0.35], dtype='float64')\n",
      "test_fe  : Field_72: 229: Float64Index([-9999999.0, 0.12, 0.49, 0.08, 0.39, 0.33, 0.35], dtype='float64')\n",
      "train_fe : Field_73: 3: Float64Index([1.0, -9999999.0, 0.0], dtype='float64')\n",
      "test_fe  : Field_73: 3: Float64Index([1.0, -9999999.0, 0.0], dtype='float64')\n",
      "train_fe : Field_74: 490: Float64Index([-9999999.0, 347.0, 340.0, 1436.0, 342.0, 337.0, 335.0], dtype='float64')\n",
      "test_fe  : Field_74: 441: Float64Index([-9999999.0, 702.0, 347.0, 4016.0, 709.0, 3990.0, 342.0], dtype='float64')\n",
      "train_fe : Field_75: 15: Float64Index([-9999999.0, 4.0, 3.0, 5.0, 1.0, 2.0, 6.0], dtype='float64')\n",
      "test_fe  : Field_75: 15: Float64Index([-9999999.0, 4.0, 3.0, 5.0, 1.0, 2.0, 6.0], dtype='float64')\n",
      "train_fe : Field_76: 12: Float64Index([-9999999.0, 0.0, 1.0, 2.0, 3.0, 4.0, 5.0], dtype='float64')\n",
      "test_fe  : Field_76: 11: Float64Index([-9999999.0, 0.0, 1.0, 2.0, 3.0, 4.0, 5.0], dtype='float64')\n",
      "train_fe : Field_77: 16: Float64Index([-9999999.0, 4.0, 1.0, 3.0, 2.0, 5.0, 6.0], dtype='float64')\n",
      "test_fe  : Field_77: 16: Float64Index([-9999999.0, 4.0, 1.0, 3.0, 2.0, 5.0, 6.0], dtype='float64')\n",
      "train_fe : friendCount: 2932: Float64Index([-9999999.0, 1.0, 2.0, 3.0, 4.0, 5.0, 6.0], dtype='float64')\n",
      "test_fe  : friendCount: 2172: Float64Index([-9999999.0, 1.0, 2.0, 3.0, 4.0, 5.0, 8.0], dtype='float64')\n",
      "train_fe : subscriberCount: 1525: Float64Index([-9999999.0, 13.0, 47.0, 30.0, 84.0, 25.0, 17.0], dtype='float64')\n",
      "test_fe  : subscriberCount: 1016: Float64Index([-9999999.0, 72.0, 35.0, 44.0, 18.0, 14.0, 26.0], dtype='float64')\n",
      "train_fe : currentLocationLocationId: 914: Float64Index([       -9999999.0, 108458769184495.0, 106388046062960.0,\n",
      "              111711568847056.0, 105667452800809.0, 114668461883395.0,\n",
      "              351759091676222.0],\n",
      "             dtype='float64')\n",
      "test_fe  : currentLocationLocationId: 526: Float64Index([       -9999999.0, 108459000000000.0, 106388000000000.0,\n",
      "              111712000000000.0, 114668000000000.0, 105667000000000.0,\n",
      "              103999000000000.0],\n",
      "             dtype='float64')\n",
      "train_fe : currentLocationLatitude: 679: Float64Index([-9999999.0, 10.77, 21.0333, 16.0678, 19.8075, 20.8523, 10.9399], dtype='float64')\n",
      "test_fe  : currentLocationLatitude: 426: Float64Index([-9999999.0, 10.77, 21.0333, 16.0678, 20.8523, 19.8075, 21.5839], dtype='float64')\n",
      "train_fe : currentLocationLongitude: 589: Float64Index([-9999999.0, 106.6815, 105.85, 108.221, 105.77600000000001,\n",
      "              106.7005, 106.868],\n",
      "             dtype='float64')\n",
      "test_fe  : currentLocationLongitude: 379: Float64Index([-9999999.0, 106.6815, 105.85, 108.221, 106.7005,\n",
      "              105.77600000000001, 105.83],\n",
      "             dtype='float64')\n",
      "train_fe : homeTownLocationId: 931: Float64Index([       -9999999.0, 106388046062960.0, 108458769184495.0,\n",
      "              105667452800809.0, 114668461883395.0, 109167735769857.0,\n",
      "              107983352568918.0],\n",
      "             dtype='float64')\n",
      "test_fe  : homeTownLocationId: 650: Float64Index([       -9999999.0, 106388000000000.0, 108459000000000.0,\n",
      "              105667000000000.0, 114668000000000.0, 103999000000000.0,\n",
      "              109311000000000.0],\n",
      "             dtype='float64')\n",
      "train_fe : homeTownLatitude: 642: Float64Index([-9999999.0, 21.0333, 10.77, 19.8075, 20.8523, 21.2825, 21.1723], dtype='float64')\n",
      "test_fe  : homeTownLatitude: 502: Float64Index([-9999999.0, 21.0333, 10.77, 19.8075, 20.8523, 21.5839, 20.45], dtype='float64')\n",
      "train_fe : homeTownLongitude: 521: Float64Index([        -9999999.0,             105.85,           106.6815,\n",
      "              105.77600000000001,           106.7005,            106.333,\n",
      "              106.20100000000001],\n",
      "             dtype='float64')\n",
      "test_fe  : homeTownLongitude: 402: Float64Index([-9999999.0, 105.85, 106.6815, 105.77600000000001, 106.7005,\n",
      "              106.333, 105.83],\n",
      "             dtype='float64')\n",
      "train_fe : data.basic_info.locale: 28: CategoricalIndex(['nan', 'vi_vn', 'en_us', 'zh_tw', 'en_gb', 'es_la', 'pt_br'], categories=['_vn', 'af_za', 'ar_ar', 'cb_iq', 'cs_cz', 'cy_gb', 'de_de', 'en_gb', ...], ordered=False, dtype='category')\n",
      "test_fe  : data.basic_info.locale: 28: CategoricalIndex(['nan', 'vi_vn', 'en_us', 'zh_tw', 'en_gb', 'es_la', 'pt_br'], categories=['_vn', 'af_za', 'ar_ar', 'cb_iq', 'cs_cz', 'cy_gb', 'de_de', 'en_gb', ...], ordered=False, dtype='category')\n",
      "train_fe : currentLocationCountry: 52: CategoricalIndex(['nan', 'vietnam', 'united states', 'japan', 'south korea',\n",
      "                  'china', 'taiwan'],\n",
      "                 categories=['angola', 'argentina', 'australia', 'bangladesh', 'bulgaria', 'cambodia', 'canada', 'china', ...], ordered=False, dtype='category')\n",
      "test_fe  : currentLocationCountry: 52: CategoricalIndex(['nan', 'vietnam', 'united states', 'japan', 'malaysia',\n",
      "                  'south korea', 'united kingdom'],\n",
      "                 categories=['angola', 'argentina', 'australia', 'bangladesh', 'bulgaria', 'cambodia', 'canada', 'china', ...], ordered=False, dtype='category')\n"
     ]
    },
    {
     "name": "stdout",
     "output_type": "stream",
     "text": [
      "train_fe : currentLocationState: 236: CategoricalIndex(['nan', 'ho chi minh city', 'hanoi', 'đồng nai province',\n",
      "                  'haiphong', 'da nang', 'thanh hóa province'],\n",
      "                 categories=['abu dhabi', 'aichi prefecture', 'ailinglaplap atoll', 'akershus', 'alabama', 'an giang province', 'antioquia', 'arizona', ...], ordered=False, dtype='category')\n",
      "test_fe  : currentLocationState: 236: CategoricalIndex(['nan', 'ho chi minh city', 'hanoi', 'đồng nai province',\n",
      "                  'da nang', 'haiphong', 'thanh hóa province'],\n",
      "                 categories=['abu dhabi', 'aichi prefecture', 'ailinglaplap atoll', 'akershus', 'alabama', 'an giang province', 'antioquia', 'arizona', ...], ordered=False, dtype='category')\n",
      "train_fe : homeTownCountry: 45: CategoricalIndex(['nan', 'vietnam', 'united states', 'malaysia', 'south korea',\n",
      "                  'china', 'united kingdom'],\n",
      "                 categories=['angola', 'australia', 'bahrain', 'bangladesh', 'cambodia', 'china', 'czech republic', 'democratic republic of the congo', ...], ordered=False, dtype='category')\n",
      "test_fe  : homeTownCountry: 45: CategoricalIndex(['nan', 'vietnam', 'united states', 'china', 'malaysia',\n",
      "                  'south korea', 'united kingdom'],\n",
      "                 categories=['angola', 'australia', 'bahrain', 'bangladesh', 'cambodia', 'china', 'czech republic', 'democratic republic of the congo', ...], ordered=False, dtype='category')\n",
      "train_fe : homeTownState: 170: CategoricalIndex(['nan', 'hanoi', 'ho chi minh city', 'thanh hóa province',\n",
      "                  'nghệ an province', 'đồng nai province', 'haiphong'],\n",
      "                 categories=['abu dhabi', 'an giang province', 'arizona', 'bandundu', 'bangkok', 'barisal division', 'beijing', 'berlin', ...], ordered=False, dtype='category')\n",
      "test_fe  : homeTownState: 170: CategoricalIndex(['nan', 'hanoi', 'ho chi minh city', 'thanh hóa province',\n",
      "                  'nghệ an province', 'haiphong', 'đồng nai province'],\n",
      "                 categories=['abu dhabi', 'an giang province', 'arizona', 'bandundu', 'bangkok', 'barisal division', 'beijing', 'berlin', ...], ordered=False, dtype='category')\n",
      "train_fe : topFriends: 6: Float64Index([-9999999.0, 5.0, 1.0, 2.0, 3.0, 4.0], dtype='float64')\n",
      "test_fe  : topFriends: 6: Float64Index([-9999999.0, 5.0, 1.0, 2.0, 3.0, 4.0], dtype='float64')\n",
      "train_fe : numOrg: 20: Float64Index([2.0, 3.0, 4.0, 1.0, 0.0, 5.0, -9999999.0], dtype='float64')\n",
      "test_fe  : numOrg: 20: Float64Index([1.0, 2.0, -9999999.0, 0.0, 3.0, 4.0, 5.0], dtype='float64')\n",
      "train_fe : F_numOrg: 7: Float64Index([-9999999.0, 1.0, 2.0, 3.0, 4.0, 5.0, 6.0], dtype='float64')\n",
      "test_fe  : F_numOrg: 7: Float64Index([-9999999.0, 1.0, 2.0, 3.0, 4.0, 5.0, 6.0], dtype='float64')\n",
      "train_fe : F_numQuery: 16: Float64Index([-9999999.0, 1.0, 2.0, 3.0, 4.0, 5.0, 6.0], dtype='float64')\n",
      "test_fe  : F_numQuery: 14: Float64Index([-9999999.0, 1.0, 2.0, 3.0, 4.0, 5.0, 6.0], dtype='float64')\n",
      "train_fe : F_startDate: 240: Index([           -9999999, 2019-08-18 00:00:00, 2019-10-01 00:00:00,\n",
      "       2019-09-25 00:00:00, 2019-10-23 00:00:00, 2019-12-13 00:00:00,\n",
      "       2019-09-24 00:00:00],\n",
      "      dtype='object')\n",
      "test_fe  : F_startDate: 263: Index([           -9999999, 2019-08-18 00:00:00, 2020-03-10 00:00:00,\n",
      "       2020-03-17 00:00:00, 2020-03-19 00:00:00, 2020-03-16 00:00:00,\n",
      "       2020-03-13 00:00:00],\n",
      "      dtype='object')\n",
      "train_fe : F_endDate: 230: Index([           -9999999, 2019-08-18 00:00:00, 2019-12-12 00:00:00,\n",
      "       2019-12-18 00:00:00, 2019-12-13 00:00:00, 2019-11-11 00:00:00,\n",
      "       2019-12-14 00:00:00],\n",
      "      dtype='object')\n",
      "test_fe  : F_endDate: 255: Index([           -9999999, 2020-03-19 00:00:00, 2019-12-18 00:00:00,\n",
      "       2020-03-09 00:00:00, 2020-03-10 00:00:00, 2020-03-17 00:00:00,\n",
      "       2020-01-09 00:00:00],\n",
      "      dtype='object')\n",
      "train_fe : E_numOrg: 8: Float64Index([-9999999.0, 1.0, 2.0, 3.0, 4.0, 5.0, 6.0], dtype='float64')\n",
      "test_fe  : E_numOrg: 7: Float64Index([-9999999.0, 1.0, 2.0, 3.0, 4.0, 5.0, 6.0], dtype='float64')\n",
      "train_fe : E_numQuery: 16: Float64Index([-9999999.0, 1.0, 2.0, 3.0, 4.0, 5.0, 6.0], dtype='float64')\n",
      "test_fe  : E_numQuery: 57: Float64Index([-9999999.0, 1.0, 2.0, 3.0, 4.0, 5.0, 6.0], dtype='float64')\n",
      "train_fe : E_startDate: 238: Index([           -9999999, 2019-08-19 00:00:00, 2019-08-18 00:00:00,\n",
      "       2019-10-01 00:00:00, 2019-10-30 00:00:00, 2019-09-03 00:00:00,\n",
      "       2019-09-26 00:00:00],\n",
      "      dtype='object')\n",
      "test_fe  : E_startDate: 261: Index([           -9999999, 2019-08-19 00:00:00, 2020-03-10 00:00:00,\n",
      "       2020-03-17 00:00:00, 2020-03-16 00:00:00, 2020-03-13 00:00:00,\n",
      "       2020-03-19 00:00:00],\n",
      "      dtype='object')\n",
      "train_fe : E_endDate: 229: Index([           -9999999, 2019-08-19 00:00:00, 2019-10-30 00:00:00,\n",
      "       2019-12-12 00:00:00, 2019-10-29 00:00:00, 2019-12-18 00:00:00,\n",
      "       2019-11-18 00:00:00],\n",
      "      dtype='object')\n",
      "test_fe  : E_endDate: 253: Index([           -9999999, 2020-03-19 00:00:00, 2019-12-18 00:00:00,\n",
      "       2020-03-17 00:00:00, 2020-03-16 00:00:00, 2020-03-09 00:00:00,\n",
      "       2020-03-12 00:00:00],\n",
      "      dtype='object')\n",
      "train_fe : C_numOrg: 4: Float64Index([-9999999.0, 1.0, 2.0, 3.0], dtype='float64')\n",
      "test_fe  : C_numOrg: 4: Float64Index([-9999999.0, 1.0, 2.0, 3.0], dtype='float64')\n",
      "train_fe : C_numQuery: 77: Float64Index([-9999999.0, 1.0, 2.0, 3.0, 4.0, 5.0, 6.0], dtype='float64')\n",
      "test_fe  : C_numQuery: 70: Float64Index([-9999999.0, 1.0, 2.0, 3.0, 4.0, 5.0, 6.0], dtype='float64')\n",
      "train_fe : C_startDate: 198: Index([           -9999999, 2019-10-01 00:00:00, 2019-10-07 00:00:00,\n",
      "       2019-09-25 00:00:00, 2019-09-30 00:00:00, 2019-09-24 00:00:00,\n",
      "       2019-10-04 00:00:00],\n",
      "      dtype='object')\n",
      "test_fe  : C_startDate: 223: Index([           -9999999, 2020-03-10 00:00:00, 2020-03-17 00:00:00,\n",
      "       2020-03-16 00:00:00, 2020-03-13 00:00:00, 2020-03-12 00:00:00,\n",
      "       2020-03-09 00:00:00],\n",
      "      dtype='object')\n",
      "train_fe : C_endDate: 191: Index([           -9999999, 2019-12-12 00:00:00, 2019-10-01 00:00:00,\n",
      "       2019-12-18 00:00:00, 2019-12-13 00:00:00, 2019-12-26 00:00:00,\n",
      "       2019-10-23 00:00:00],\n",
      "      dtype='object')\n",
      "test_fe  : C_endDate: 220: Index([           -9999999, 2020-03-19 00:00:00, 2020-03-10 00:00:00,\n",
      "       2020-03-16 00:00:00, 2020-03-17 00:00:00, 2020-03-09 00:00:00,\n",
      "       2020-03-12 00:00:00],\n",
      "      dtype='object')\n",
      "train_fe : G_numOrg: 5: Float64Index([-9999999.0, 1.0, 2.0, 3.0, 4.0], dtype='float64')\n",
      "test_fe  : G_numOrg: 6: Float64Index([-9999999.0, 1.0, 2.0, 3.0, 4.0, 5.0], dtype='float64')\n",
      "train_fe : G_numQuery: 11: Float64Index([-9999999.0, 1.0, 2.0, 3.0, 4.0, 5.0, 6.0], dtype='float64')\n",
      "test_fe  : G_numQuery: 12: Float64Index([-9999999.0, 1.0, 2.0, 3.0, 4.0, 5.0, 6.0], dtype='float64')\n",
      "train_fe : G_startDate: 240: Index([           -9999999, 2019-10-01 00:00:00, 2019-10-16 00:00:00,\n",
      "       2019-09-25 00:00:00, 2019-09-30 00:00:00, 2019-10-04 00:00:00,\n",
      "       2019-12-13 00:00:00],\n",
      "      dtype='object')\n",
      "test_fe  : G_startDate: 264: Index([           -9999999, 2020-03-16 00:00:00, 2020-03-10 00:00:00,\n",
      "       2020-03-12 00:00:00, 2020-03-17 00:00:00, 2020-03-14 00:00:00,\n",
      "       2020-03-13 00:00:00],\n",
      "      dtype='object')\n",
      "train_fe : G_endDate: 231: Index([           -9999999, 2019-10-01 00:00:00, 2019-10-16 00:00:00,\n",
      "       2019-12-13 00:00:00, 2019-10-04 00:00:00, 2019-09-30 00:00:00,\n",
      "       2019-10-03 00:00:00],\n",
      "      dtype='object')\n",
      "test_fe  : G_endDate: 257: Index([           -9999999, 2020-03-31 00:00:00, 2020-03-30 00:00:00,\n",
      "       2020-03-23 00:00:00, 2020-03-16 00:00:00, 2020-03-20 00:00:00,\n",
      "       2020-03-17 00:00:00],\n",
      "      dtype='object')\n",
      "train_fe : A_numOrg: 15: Float64Index([-9999999.0, 2.0, 3.0, 1.0, 4.0, 5.0, 6.0], dtype='float64')\n",
      "test_fe  : A_numOrg: 17: Float64Index([-9999999.0, 2.0, 1.0, 3.0, 4.0, 5.0, 6.0], dtype='float64')\n",
      "train_fe : A_numQuery: 37: Float64Index([-9999999.0, 2.0, 3.0, 1.0, 4.0, 5.0, 6.0], dtype='float64')\n",
      "test_fe  : A_numQuery: 39: Float64Index([-9999999.0, 1.0, 2.0, 3.0, 4.0, 5.0, 6.0], dtype='float64')\n",
      "train_fe : A_startDate: 400: Index([           -9999999, 2019-09-04 00:00:00, 2019-08-28 00:00:00,\n",
      "       2019-08-29 00:00:00, 2019-09-03 00:00:00, 2019-08-27 00:00:00,\n",
      "       2019-09-09 00:00:00],\n",
      "      dtype='object')\n",
      "test_fe  : A_startDate: 425: Index([           -9999999, 2020-03-12 00:00:00, 2020-03-10 00:00:00,\n",
      "       2020-03-13 00:00:00, 2020-03-17 00:00:00, 2020-03-16 00:00:00,\n",
      "       2020-03-09 00:00:00],\n",
      "      dtype='object')\n",
      "train_fe : A_endDate: 352: Index([           -9999999, 2019-11-26 00:00:00, 2019-12-13 00:00:00,\n",
      "       2020-01-03 00:00:00, 2019-12-12 00:00:00, 2019-11-25 00:00:00,\n",
      "       2019-10-30 00:00:00],\n",
      "      dtype='object')\n",
      "test_fe  : A_endDate: 355: Index([           -9999999, 2020-03-16 00:00:00, 2020-03-17 00:00:00,\n",
      "       2020-03-31 00:00:00, 2020-03-12 00:00:00, 2020-03-13 00:00:00,\n",
      "       2020-03-30 00:00:00],\n",
      "      dtype='object')\n",
      "train_fe : summary_6m: 104: Float64Index([-9999999.0, 1.0, 2.0, 7.0, 8.0, 6.0, 3.0], dtype='float64')\n",
      "test_fe  : summary_6m: 120: Float64Index([-9999999.0, 2.0, 1.0, 3.0, 8.0, 7.0, 5.0], dtype='float64')\n",
      "train_fe : summary_3m: 95: Float64Index([-9999999.0, 1.0, 2.0, 7.0, 6.0, 5.0, 8.0], dtype='float64')\n",
      "test_fe  : summary_3m: 118: Float64Index([-9999999.0, 2.0, 1.0, 3.0, 8.0, 5.0, 6.0], dtype='float64')\n",
      "train_fe : summary_1m: 81: Float64Index([-9999999.0, 1.0, 2.0, 5.0, 6.0, 7.0, 3.0], dtype='float64')\n",
      "test_fe  : summary_1m: 110: Float64Index([-9999999.0, 2.0, 1.0, 3.0, 5.0, 8.0, 4.0], dtype='float64')\n",
      "train_fe : summary_1w: 52: Float64Index([-9999999.0, 1.0, 2.0, 5.0, 6.0, 3.0, 4.0], dtype='float64')\n",
      "test_fe  : summary_1w: 64: Float64Index([-9999999.0, 1.0, 2.0, 5.0, 3.0, 4.0, 6.0], dtype='float64')\n",
      "train_fe : partner0_A: 3: Float64Index([0.0, 1.0, -9999999.0], dtype='float64')\n",
      "test_fe  : partner0_A: 3: Float64Index([0.0, 1.0, -9999999.0], dtype='float64')\n",
      "train_fe : partner0_B: 2: Float64Index([0.0, -9999999.0], dtype='float64')\n",
      "test_fe  : partner0_B: 2: Float64Index([0.0, -9999999.0], dtype='float64')\n",
      "train_fe : partner0_C: 3: Float64Index([0.0, 1.0, -9999999.0], dtype='float64')\n",
      "test_fe  : partner0_C: 3: Float64Index([0.0, 1.0, -9999999.0], dtype='float64')\n",
      "train_fe : partner0_D: 3: Float64Index([0.0, 1.0, -9999999.0], dtype='float64')\n",
      "test_fe  : partner0_D: 3: Float64Index([0.0, 1.0, -9999999.0], dtype='float64')\n",
      "train_fe : partner0_E: 3: Float64Index([0.0, 1.0, -9999999.0], dtype='float64')\n",
      "test_fe  : partner0_E: 3: Float64Index([0.0, 1.0, -9999999.0], dtype='float64')\n",
      "train_fe : partner0_F: 3: Float64Index([0.0, 1.0, -9999999.0], dtype='float64')\n",
      "test_fe  : partner0_F: 3: Float64Index([0.0, 1.0, -9999999.0], dtype='float64')\n",
      "train_fe : partner0_G: 3: Float64Index([0.0, 1.0, -9999999.0], dtype='float64')\n",
      "test_fe  : partner0_G: 3: Float64Index([0.0, 1.0, -9999999.0], dtype='float64')\n",
      "train_fe : partner0_H: 3: Float64Index([0.0, -9999999.0, 1.0], dtype='float64')\n",
      "test_fe  : partner0_H: 3: Float64Index([0.0, 1.0, -9999999.0], dtype='float64')\n",
      "train_fe : partner1_A: 3: Float64Index([0.0, 1.0, -9999999.0], dtype='float64')\n",
      "test_fe  : partner1_A: 3: Float64Index([1.0, 0.0, -9999999.0], dtype='float64')\n",
      "train_fe : partner1_C: 3: Float64Index([0.0, -9999999.0, 1.0], dtype='float64')\n",
      "test_fe  : partner1_C: 3: Float64Index([0.0, -9999999.0, 1.0], dtype='float64')\n",
      "train_fe : partner1_G: 3: Float64Index([0.0, -9999999.0, 1.0], dtype='float64')\n",
      "test_fe  : partner1_G: 3: Float64Index([0.0, 1.0, -9999999.0], dtype='float64')\n",
      "train_fe : partner1_H: 3: Float64Index([0.0, -9999999.0, 1.0], dtype='float64')\n",
      "test_fe  : partner1_H: 3: Float64Index([0.0, -9999999.0, 1.0], dtype='float64')\n",
      "train_fe : partner2_A: 3: Float64Index([0.0, -9999999.0, 1.0], dtype='float64')\n",
      "test_fe  : partner2_A: 3: Float64Index([0.0, -9999999.0, 1.0], dtype='float64')\n",
      "train_fe : partner2_C: 3: Float64Index([0.0, -9999999.0, 1.0], dtype='float64')\n",
      "test_fe  : partner2_C: 3: Float64Index([0.0, -9999999.0, 1.0], dtype='float64')\n",
      "train_fe : partner2_D: 3: Float64Index([0.0, -9999999.0, 1.0], dtype='float64')\n",
      "test_fe  : partner2_D: 3: Float64Index([0.0, -9999999.0, 1.0], dtype='float64')\n",
      "train_fe : partner2_F: 3: Float64Index([0.0, -9999999.0, 1.0], dtype='float64')\n",
      "test_fe  : partner2_F: 3: Float64Index([0.0, -9999999.0, 1.0], dtype='float64')\n",
      "train_fe : partner2_H: 3: Float64Index([0.0, -9999999.0, 1.0], dtype='float64')\n",
      "test_fe  : partner2_H: 3: Float64Index([0.0, -9999999.0, 1.0], dtype='float64')\n",
      "train_fe : partner3_A: 3: Float64Index([0.0, 1.0, -9999999.0], dtype='float64')\n",
      "test_fe  : partner3_A: 3: Float64Index([0.0, 1.0, -9999999.0], dtype='float64')\n",
      "train_fe : partner3_D: 3: Float64Index([0.0, 1.0, -9999999.0], dtype='float64')\n",
      "test_fe  : partner3_D: 3: Float64Index([0.0, 1.0, -9999999.0], dtype='float64')\n",
      "train_fe : partner3_E: 3: Float64Index([0.0, -9999999.0, 1.0], dtype='float64')\n",
      "test_fe  : partner3_E: 3: Float64Index([0.0, -9999999.0, 1.0], dtype='float64')\n",
      "train_fe : partner4_L: 3: Float64Index([0.0, 1.0, -9999999.0], dtype='float64')\n",
      "test_fe  : partner4_L: 3: Float64Index([0.0, 1.0, -9999999.0], dtype='float64')\n",
      "train_fe : partner5_A: 3: Float64Index([0.0, 1.0, -9999999.0], dtype='float64')\n",
      "test_fe  : partner5_A: 3: Float64Index([0.0, 1.0, -9999999.0], dtype='float64')\n"
     ]
    },
    {
     "name": "stdout",
     "output_type": "stream",
     "text": [
      "train_fe : partner5_D: 3: Float64Index([0.0, -9999999.0, 1.0], dtype='float64')\n",
      "test_fe  : partner5_D: 2: Float64Index([0.0, -9999999.0], dtype='float64')\n",
      "train_fe : partner5_G: 3: Float64Index([0.0, -9999999.0, 1.0], dtype='float64')\n",
      "test_fe  : partner5_G: 3: Float64Index([0.0, -9999999.0, 1.0], dtype='float64')\n",
      "train_fe : brief: 21: CategoricalIndex(['0', '1', '2', 'notfound', '3', '2cy', '4'], categories=['0', '1', '1cy', '2', '2cy', '3', '3cy', '4', ...], ordered=False, dtype='category')\n",
      "test_fe  : brief: 21: CategoricalIndex(['1', '0', 'nan', '2', 'notfound', '3', '4'], categories=['0', '1', '1cy', '2', '2cy', '3', '3cy', '4', ...], ordered=False, dtype='category')\n",
      "train_fe : num_of_phone: 6: Float64Index([1.0, 2.0, -9999999.0, 3.0, 4.0, 5.0], dtype='float64')\n",
      "test_fe  : num_of_phone: 6: Float64Index([1.0, 2.0, -9999999.0, 3.0, 4.0, 5.0], dtype='float64')\n",
      "train_fe : Field_78: 428: Float64Index([-9999999.0, 0.0, 1.0, 2.0, 3.0, 4.0, 5.0], dtype='float64')\n",
      "test_fe  : Field_78: 446: Float64Index([-9999999.0, 0.0, 1.0, 2.0, 6.0, 5.0, 3.0], dtype='float64')\n",
      "train_fe : Field_79: 11037: Float64Index([        -9999999.0,                0.0, 0.7071067811865476,\n",
      "              1.4142135623730951, 3.5355339059327378, 2.1213203435596424,\n",
      "              2.8284271247461903],\n",
      "             dtype='float64')\n",
      "test_fe  : Field_79: 6062: Float64Index([        -9999999.0,                0.0, 0.7071067809999999,\n",
      "              1.4142135619999998,        2.121320344, 3.5355339060000004,\n",
      "                     2.828427125],\n",
      "             dtype='float64')\n",
      "train_fe : Field_80: 2840: Float64Index([-9999999.0, 0.0, 1.0, 2.0, 3.0, 4.0, 6.0], dtype='float64')\n",
      "test_fe  : Field_80: 2633: Float64Index([-9999999.0, 0.0, 1.0, 2.0, 3.0, 5.0, 4.0], dtype='float64')\n",
      "train_fe : Field_81: 422: Float64Index([-9999999.0, 0.0, 1.0, 2.0, 3.0, 4.0, 5.0], dtype='float64')\n",
      "test_fe  : Field_81: 443: Float64Index([-9999999.0, 0.0, 1.0, 2.0, 3.0, 4.0, 5.0], dtype='float64')\n",
      "train_fe : Field_82: 4: Int64Index([1, 4, 2, 3], dtype='int64')\n",
      "test_fe  : Field_82: 4: Int64Index([1, 4, 3, 2], dtype='int64')\n",
      "train_fe : Field_5Field_6: 645: Float64Index([-9999999.0, 0.0, 183.0, -2.0, -8.0, -13.0, -5.0], dtype='float64')\n",
      "test_fe  : Field_5Field_6: 456: Float64Index([-9999999.0, 0.0, -20.0, -2.0, -30.0, 183.0, -33.0], dtype='float64')\n",
      "train_fe : Field_1Field_2: 371: Float64Index([-9999999.0, 0.0, 1.0, 2.0, 3.0, 4.0, 5.0], dtype='float64')\n",
      "test_fe  : Field_1Field_2: 283: Float64Index([-9999999.0, 0.0, 1.0, 2.0, 3.0, 4.0, 6.0], dtype='float64')\n",
      "train_fe : Field_1Field_43: 1351: Float64Index([-9999999.0, 0.0, -706.0, 234.0, -705.0, -707.0, -708.0], dtype='float64')\n",
      "test_fe  : Field_1Field_43: 1206: Float64Index([-9999999.0, 0.0, -706.0, -708.0, -704.0, -705.0, -707.0], dtype='float64')\n",
      "train_fe : Field_1Field_44: 1925: Float64Index([-9999999.0, 824.0, 267.0, 269.0, 265.0, 273.0, 183.0], dtype='float64')\n",
      "test_fe  : Field_1Field_44: 1570: Float64Index([-9999999.0, 265.0, 273.0, 182.0, 824.0, 183.0, 269.0], dtype='float64')\n",
      "train_fe : Field_1Field_7: 1336: Float64Index([-9999999.0, 5.0, 6.0, 4.0, 7.0, 3.0, 8.0], dtype='float64')\n",
      "test_fe  : Field_1Field_7: 958: Float64Index([-9999999.0, 5.0, 6.0, 4.0, 7.0, 3.0, 0.0], dtype='float64')\n",
      "train_fe : Field_1Field_8: 1404: Float64Index([-9999999.0, 369.0, 370.0, 368.0, 371.0, 367.0, 372.0], dtype='float64')\n",
      "test_fe  : Field_1Field_8: 897: Float64Index([-9999999.0, 369.0, 370.0, 368.0, 371.0, 367.0, 372.0], dtype='float64')\n",
      "train_fe : Field_1Field_9: 1351: Float64Index([-9999999.0, 0.0, 1.0, -7.0, -70.0, -62.0, -28.0], dtype='float64')\n",
      "test_fe  : Field_1Field_9: 786: Float64Index([-9999999.0, 0.0, 1.0, -7.0, -94.0, -344.0, -62.0], dtype='float64')\n",
      "train_fe : Field_2Field_43: 1342: Float64Index([-9999999.0, 0.0, 234.0, -706.0, -672.0, -705.0, -704.0], dtype='float64')\n",
      "test_fe  : Field_2Field_43: 1195: Float64Index([-9999999.0, 0.0, -672.0, -706.0, 234.0, -707.0, -705.0], dtype='float64')\n",
      "train_fe : Field_2Field_44: 1936: Float64Index([-9999999.0, 824.0, 0.0, 181.0, 182.0, 267.0, 180.0], dtype='float64')\n",
      "test_fe  : Field_2Field_44: 1571: Float64Index([-9999999.0, 182.0, 181.0, 0.0, 824.0, 270.0, 184.0], dtype='float64')\n",
      "train_fe : Field_2Field_7: 1314: Float64Index([-9999999.0, 4.0, 5.0, 6.0, -364.0, 1.0, -1.0], dtype='float64')\n",
      "test_fe  : Field_2Field_7: 928: Float64Index([-9999999.0, 4.0, 5.0, 6.0, -364.0, -1.0, 7.0], dtype='float64')\n",
      "train_fe : Field_2Field_8: 1417: Float64Index([-9999999.0, 0.0, 368.0, 369.0, 367.0, 370.0, 371.0], dtype='float64')\n",
      "test_fe  : Field_2Field_8: 915: Float64Index([-9999999.0, 0.0, 368.0, 369.0, 370.0, 367.0, 371.0], dtype='float64')\n",
      "train_fe : Field_2Field_9: 1364: Float64Index([-9999999.0, 0.0, -1.0, -2.0, -3.0, -4.0, -5.0], dtype='float64')\n",
      "test_fe  : Field_2Field_9: 799: Float64Index([-9999999.0, 0.0, -1.0, -2.0, -3.0, -4.0, -6.0], dtype='float64')\n",
      "train_fe : Field_43Field_44: 1314: Float64Index([-9999999.0, 824.0, 0.0, 944.0, 974.0, 720.0, 887.0], dtype='float64')\n",
      "test_fe  : Field_43Field_44: 1142: Float64Index([-9999999.0, 824.0, 0.0, 944.0, 720.0, 974.0, 976.0], dtype='float64')\n",
      "train_fe : Field_43Field_7: 2087: Float64Index([-9999999.0, 648.0, 456.0, 713.0, 655.0, 682.0, 711.0], dtype='float64')\n",
      "test_fe  : Field_43Field_7: 1600: Float64Index([-9999999.0, 648.0, 456.0, 713.0, 655.0, 669.0, 711.0], dtype='float64')\n",
      "train_fe : Field_43Field_8: 2173: Float64Index([-9999999.0, 1012.0, 820.0, 1077.0, 1033.0, 1074.0, 1019.0], dtype='float64')\n",
      "test_fe  : Field_43Field_8: 1626: Float64Index([-9999999.0, 1012.0, 820.0, 1033.0, 1077.0, 1019.0, 1074.0], dtype='float64')\n",
      "train_fe : Field_43Field_9: 2525: Float64Index([-9999999.0, 706.0, 705.0, 708.0, 704.0, 707.0, 710.0], dtype='float64')\n",
      "test_fe  : Field_43Field_9: 1720: Float64Index([-9999999.0, 706.0, 708.0, 705.0, 704.0, 707.0, 710.0], dtype='float64')\n",
      "train_fe : Field_44Field_7: 2766: Float64Index([-9999999.0, -176.0, -261.0, -272.0, -260.0, -266.0, -269.0], dtype='float64')\n",
      "test_fe  : Field_44Field_7: 1838: Float64Index([-9999999.0, -176.0, -261.0, -272.0, -260.0, -268.0, -265.0], dtype='float64')\n",
      "train_fe : Field_44Field_8: 2911: Float64Index([-9999999.0, 188.0, 92.0, 103.0, 96.0, 186.0, 104.0], dtype='float64')\n",
      "test_fe  : Field_44Field_8: 1978: Float64Index([-9999999.0, 188.0, 92.0, 103.0, 104.0, 96.0, 95.0], dtype='float64')\n",
      "train_fe : Field_44Field_9: 2962: Float64Index([-9999999.0, -267.0, -273.0, -269.0, -183.0, -265.0, -268.0], dtype='float64')\n",
      "test_fe  : Field_44Field_9: 1952: Float64Index([-9999999.0, -273.0, -265.0, -182.0, -267.0, -270.0, -268.0], dtype='float64')\n",
      "train_fe : Field_7Field_8: 587: Float64Index([-9999999.0, 364.0, 365.0, 358.0, 355.0, 730.0, 361.0], dtype='float64')\n",
      "test_fe  : Field_7Field_8: 435: Float64Index([-9999999.0, 364.0, 365.0, 355.0, 358.0, 730.0, 361.0], dtype='float64')\n",
      "train_fe : Field_7Field_9: 653: Float64Index([-9999999.0, -5.0, -4.0, -6.0, 0.0, -7.0, -3.0], dtype='float64')\n",
      "test_fe  : Field_7Field_9: 561: Float64Index([-9999999.0, -5.0, -4.0, -6.0, -7.0, 0.0, -3.0], dtype='float64')\n",
      "train_fe : Field_8Field_9: 704: Float64Index([-9999999.0, -369.0, -368.0, -370.0, -371.0, -367.0, -372.0], dtype='float64')\n",
      "test_fe  : Field_8Field_9: 567: Float64Index([-9999999.0, -369.0, -370.0, -368.0, -371.0, -367.0, -372.0], dtype='float64')\n",
      "train_fe : F_startDateF_endDate: 185: Float64Index([-9999999.0, 0.0, 1.0, 2.0, 31.0, 3.0, 32.0], dtype='float64')\n",
      "test_fe  : F_startDateF_endDate: 223: Float64Index([-9999999.0, 0.0, 1.0, 2.0, 3.0, 4.0, 7.0], dtype='float64')\n",
      "train_fe : E_startDateE_endDate: 186: Float64Index([-9999999.0, 0.0, 1.0, 2.0, 3.0, 31.0, 32.0], dtype='float64')\n",
      "test_fe  : E_startDateE_endDate: 220: Float64Index([-9999999.0, 0.0, 1.0, 2.0, 3.0, 4.0, 6.0], dtype='float64')\n",
      "train_fe : C_startDateC_endDate: 156: Float64Index([-9999999.0, 0.0, 31.0, 1.0, 32.0, 30.0, 33.0], dtype='float64')\n",
      "test_fe  : C_startDateC_endDate: 182: Float64Index([-9999999.0, 0.0, 1.0, 2.0, 31.0, 3.0, 32.0], dtype='float64')\n",
      "train_fe : G_startDateG_endDate: 158: Float64Index([-9999999.0, 0.0, 1.0, 2.0, 3.0, 4.0, 8.0], dtype='float64')\n",
      "test_fe  : G_startDateG_endDate: 208: Float64Index([-9999999.0, 0.0, 1.0, 2.0, 3.0, 4.0, 5.0], dtype='float64')\n",
      "train_fe : A_startDateA_endDate: 355: Float64Index([-9999999.0, 0.0, 1.0, 2.0, 3.0, 5.0, 4.0], dtype='float64')\n",
      "test_fe  : A_startDateA_endDate: 378: Float64Index([-9999999.0, 0.0, 1.0, 2.0, 3.0, 10.0, 5.0], dtype='float64')\n",
      "train_fe : gender: 3: CategoricalIndex(['missing_gender', 'MALE', 'FEMALE'], categories=['FEMALE', 'MALE', 'missing_gender'], ordered=False, dtype='category')\n",
      "test_fe  : gender: 3: CategoricalIndex(['missing_gender', 'MALE', 'FEMALE'], categories=['FEMALE', 'MALE', 'missing_gender'], ordered=False, dtype='category')\n"
     ]
    },
    {
     "name": "stdout",
     "output_type": "stream",
     "text": [
      "train_fe : Age: 72: Float64Index([-9999999.0, 29.0, 30.0, 28.0, 27.0, 26.0, 31.0], dtype='float64')\n",
      "test_fe  : Age: 55: Float64Index([-9999999.0, 30.0, 28.0, 29.0, 27.0, 25.0, 31.0], dtype='float64')\n"
     ]
    }
   ],
   "source": [
    "for col in train_fe.iloc[:,2:].columns:\n",
    "    vc1 = train_fe[col].value_counts()\n",
    "    vc2 = test_fe[col].value_counts()\n",
    "    print(f\"train_fe : {col}: {len(vc1)}: {vc1.index[:7]}\")\n",
    "    print(f\"test_fe  : {col}: {len(vc2)}: {vc2.index[:7]}\")"
   ]
  },
  {
   "cell_type": "code",
   "execution_count": 67,
   "metadata": {
    "ExecuteTime": {
     "end_time": "2020-08-04T05:16:06.708589Z",
     "start_time": "2020-08-04T05:16:06.702876Z"
    }
   },
   "outputs": [
    {
     "data": {
      "text/plain": [
       "-9999999.0    27466\n",
       " 1.0          23354\n",
       " 2.0           1978\n",
       " 3.0            201\n",
       " 4.0             26\n",
       " 5.0              3\n",
       " 0.0              2\n",
       "Name: Field_10, dtype: int64"
      ]
     },
     "execution_count": 67,
     "metadata": {},
     "output_type": "execute_result"
    }
   ],
   "source": [
    "train_fe.Field_10.value_counts()"
   ]
  },
  {
   "cell_type": "code",
   "execution_count": 68,
   "metadata": {
    "ExecuteTime": {
     "end_time": "2020-08-04T05:16:08.056109Z",
     "start_time": "2020-08-04T05:16:08.049897Z"
    }
   },
   "outputs": [
    {
     "data": {
      "text/plain": [
       "-9999999.0    11321\n",
       " 1.0           8224\n",
       " 2.0            767\n",
       " 3.0             60\n",
       " 4.0              8\n",
       " 5.0              1\n",
       "Name: Field_10, dtype: int64"
      ]
     },
     "execution_count": 68,
     "metadata": {},
     "output_type": "execute_result"
    }
   ],
   "source": [
    "test_fe.Field_10.value_counts()"
   ]
  },
  {
   "cell_type": "code",
   "execution_count": 70,
   "metadata": {
    "ExecuteTime": {
     "end_time": "2020-08-04T05:16:13.683450Z",
     "start_time": "2020-08-04T05:16:13.680302Z"
    }
   },
   "outputs": [],
   "source": [
    "data_version = \"02-01-2021-v4\""
   ]
  },
  {
   "cell_type": "code",
   "execution_count": 71,
   "metadata": {
    "ExecuteTime": {
     "end_time": "2020-08-04T05:16:26.162451Z",
     "start_time": "2020-08-04T05:16:15.102132Z"
    }
   },
   "outputs": [],
   "source": [
    "os.makedirs(f\"../../data/kalapa/{data_version}/\", exist_ok=True)\n",
    "df_train.to_csv(f\"../../data/kalapa/{data_version}/train.csv\", index = False)\n",
    "test_fe.to_csv(f\"../../data/kalapa/{data_version}/test.csv\", index = False)"
   ]
  },
  {
   "cell_type": "code",
   "execution_count": null,
   "metadata": {},
   "outputs": [],
   "source": []
  }
 ],
 "metadata": {
  "kernelspec": {
   "display_name": "Python 3",
   "language": "python",
   "name": "python3"
  },
  "language_info": {
   "codemirror_mode": {
    "name": "ipython",
    "version": 3
   },
   "file_extension": ".py",
   "mimetype": "text/x-python",
   "name": "python",
   "nbconvert_exporter": "python",
   "pygments_lexer": "ipython3",
   "version": "3.7.7"
  },
  "varInspector": {
   "cols": {
    "lenName": 16,
    "lenType": 16,
    "lenVar": 40
   },
   "kernels_config": {
    "python": {
     "delete_cmd_postfix": "",
     "delete_cmd_prefix": "del ",
     "library": "var_list.py",
     "varRefreshCmd": "print(var_dic_list())"
    },
    "r": {
     "delete_cmd_postfix": ") ",
     "delete_cmd_prefix": "rm(",
     "library": "var_list.r",
     "varRefreshCmd": "cat(var_dic_list()) "
    }
   },
   "types_to_exclude": [
    "module",
    "function",
    "builtin_function_or_method",
    "instance",
    "_Feature"
   ],
   "window_display": false
  }
 },
 "nbformat": 4,
 "nbformat_minor": 4
}
