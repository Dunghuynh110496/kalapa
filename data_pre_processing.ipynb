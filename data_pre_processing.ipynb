{
 "cells": [
  {
   "cell_type": "code",
   "execution_count": 1,
   "metadata": {
    "ExecuteTime": {
     "end_time": "2020-08-04T03:50:28.383603Z",
     "start_time": "2020-08-04T03:50:27.333381Z"
    }
   },
   "outputs": [],
   "source": [
    "from itertools import combinations\n",
    "\n",
    "import time\n",
    "import numpy as np\n",
    "import pandas as pd\n",
    "import matplotlib.pyplot as plt\n",
    "\n",
    "from itertools import combinations\n",
    "\n",
    "import os\n",
    "import time\n",
    "import numpy as np\n",
    "import pandas as pd\n",
    "import matplotlib.pyplot as plt\n",
    "import seaborn as sns\n",
    "import math\n",
    "import re\n",
    "import warnings\n",
    "\n",
    "import lightgbm as lgb\n",
    "from sklearn.ensemble import RandomForestClassifier\n",
    "from unidecode import unidecode\n",
    "from sklearn.metrics import roc_auc_score\n",
    "from sklearn.model_selection import StratifiedKFold\n",
    "\n",
    "from itertools import combinations\n",
    "from datetime import datetime\n",
    "from contextlib import contextmanager"
   ]
  },
  {
   "cell_type": "code",
   "execution_count": 2,
   "metadata": {
    "ExecuteTime": {
     "end_time": "2020-08-04T03:50:30.140563Z",
     "start_time": "2020-08-04T03:50:28.386687Z"
    }
   },
   "outputs": [
    {
     "name": "stderr",
     "output_type": "stream",
     "text": [
      "/home/parker/anaconda3/envs/py37/lib/python3.7/site-packages/IPython/core/interactiveshell.py:3072: DtypeWarning: Columns (35,43) have mixed types.Specify dtype option on import or set low_memory=False.\n",
      "  interactivity=interactivity, compiler=compiler, result=result)\n",
      "/home/parker/anaconda3/envs/py37/lib/python3.7/site-packages/IPython/core/interactiveshell.py:3072: DtypeWarning: Columns (34,42) have mixed types.Specify dtype option on import or set low_memory=False.\n",
      "  interactivity=interactivity, compiler=compiler, result=result)\n"
     ]
    }
   ],
   "source": [
    "df_train = pd.read_csv(\"../../data/kalapa/train.csv\")\n",
    "df_test = pd.read_csv(\"../../data/kalapa/test.csv\")"
   ]
  },
  {
   "cell_type": "code",
   "execution_count": 3,
   "metadata": {
    "ExecuteTime": {
     "end_time": "2020-08-04T03:50:30.152230Z",
     "start_time": "2020-08-04T03:50:30.142820Z"
    }
   },
   "outputs": [
    {
     "data": {
      "text/plain": [
       "0        1.0\n",
       "1        NaN\n",
       "2        2.0\n",
       "3        NaN\n",
       "4        NaN\n",
       "        ... \n",
       "53025    1.0\n",
       "53026    NaN\n",
       "53027    2.0\n",
       "53028    NaN\n",
       "53029    NaN\n",
       "Name: Field_3, Length: 53030, dtype: float64"
      ]
     },
     "execution_count": 3,
     "metadata": {},
     "output_type": "execute_result"
    }
   ],
   "source": [
    "df_train.Field_3"
   ]
  },
  {
   "cell_type": "code",
   "execution_count": 4,
   "metadata": {
    "ExecuteTime": {
     "end_time": "2020-08-04T03:50:31.825803Z",
     "start_time": "2020-08-04T03:50:30.154361Z"
    }
   },
   "outputs": [],
   "source": [
    "def check_duplicate(feature1, feature2):\n",
    "    check1 = list(df_train[feature1].fillna(\"NaN\"))\n",
    "    check2 = list(df_train[feature2].fillna(\"NaN\"))\n",
    "    return check1 == check2\n",
    "distinct_columns = {}\n",
    "for col1 in df_test.columns:\n",
    "    vc = df_train[col1].value_counts()\n",
    "    index = [len(vc), set(list(vc)), set(list(vc.index))]\n",
    "    for col2 in distinct_columns:\n",
    "        if index == distinct_columns[col2] and check_duplicate(col1, col2):\n",
    "            break\n",
    "    else:\n",
    "        distinct_columns[col1] = index\n",
    "duplicate = []\n",
    "for col in df_train.columns:\n",
    "    if col not in distinct_columns:\n",
    "        duplicate.append(col)"
   ]
  },
  {
   "cell_type": "code",
   "execution_count": 5,
   "metadata": {
    "ExecuteTime": {
     "end_time": "2020-08-04T03:50:31.949019Z",
     "start_time": "2020-08-04T03:50:31.827450Z"
    }
   },
   "outputs": [
    {
     "data": {
      "text/html": [
       "<div>\n",
       "<style scoped>\n",
       "    .dataframe tbody tr th:only-of-type {\n",
       "        vertical-align: middle;\n",
       "    }\n",
       "\n",
       "    .dataframe tbody tr th {\n",
       "        vertical-align: top;\n",
       "    }\n",
       "\n",
       "    .dataframe thead th {\n",
       "        text-align: right;\n",
       "    }\n",
       "</style>\n",
       "<table border=\"1\" class=\"dataframe\">\n",
       "  <thead>\n",
       "    <tr style=\"text-align: right;\">\n",
       "      <th></th>\n",
       "      <th>id</th>\n",
       "      <th>Field_1</th>\n",
       "      <th>Field_2</th>\n",
       "      <th>Field_3</th>\n",
       "      <th>Field_4</th>\n",
       "      <th>Field_5</th>\n",
       "      <th>Field_6</th>\n",
       "      <th>Field_7</th>\n",
       "      <th>Field_8</th>\n",
       "      <th>Field_9</th>\n",
       "      <th>...</th>\n",
       "      <th>partner5_A</th>\n",
       "      <th>partner5_D</th>\n",
       "      <th>partner5_G</th>\n",
       "      <th>brief</th>\n",
       "      <th>num_of_phone</th>\n",
       "      <th>Field_78</th>\n",
       "      <th>Field_79</th>\n",
       "      <th>Field_80</th>\n",
       "      <th>Field_81</th>\n",
       "      <th>Field_82</th>\n",
       "    </tr>\n",
       "  </thead>\n",
       "  <tbody>\n",
       "    <tr>\n",
       "      <th>0</th>\n",
       "      <td>0</td>\n",
       "      <td>2019-07-24T03:39:02.854Z</td>\n",
       "      <td>2019-07-31T20:10:02Z</td>\n",
       "      <td>1.0</td>\n",
       "      <td>GH</td>\n",
       "      <td>2018-12-27</td>\n",
       "      <td>2018-12-27</td>\n",
       "      <td>2019-01-01</td>\n",
       "      <td>2019-07-31</td>\n",
       "      <td>2018-12-27</td>\n",
       "      <td>...</td>\n",
       "      <td>0.0</td>\n",
       "      <td>0.0</td>\n",
       "      <td>0.0</td>\n",
       "      <td>cb1</td>\n",
       "      <td>1.0</td>\n",
       "      <td>NaN</td>\n",
       "      <td>NaN</td>\n",
       "      <td>NaN</td>\n",
       "      <td>NaN</td>\n",
       "      <td>1</td>\n",
       "    </tr>\n",
       "    <tr>\n",
       "      <th>1</th>\n",
       "      <td>1</td>\n",
       "      <td>NaN</td>\n",
       "      <td>NaN</td>\n",
       "      <td>NaN</td>\n",
       "      <td>NaN</td>\n",
       "      <td>NaN</td>\n",
       "      <td>NaN</td>\n",
       "      <td>NaN</td>\n",
       "      <td>NaN</td>\n",
       "      <td>NaN</td>\n",
       "      <td>...</td>\n",
       "      <td>0.0</td>\n",
       "      <td>0.0</td>\n",
       "      <td>0.0</td>\n",
       "      <td>4</td>\n",
       "      <td>1.0</td>\n",
       "      <td>NaN</td>\n",
       "      <td>NaN</td>\n",
       "      <td>NaN</td>\n",
       "      <td>NaN</td>\n",
       "      <td>1</td>\n",
       "    </tr>\n",
       "    <tr>\n",
       "      <th>2</th>\n",
       "      <td>2</td>\n",
       "      <td>2019-01-17T07:15:26.367Z</td>\n",
       "      <td>2019-01-17T07:17:45Z</td>\n",
       "      <td>2.0</td>\n",
       "      <td>T1</td>\n",
       "      <td>2019-01-17</td>\n",
       "      <td>2019-01-17</td>\n",
       "      <td>2019-01-01</td>\n",
       "      <td>2019-12-31</td>\n",
       "      <td>2019-01-17</td>\n",
       "      <td>...</td>\n",
       "      <td>1.0</td>\n",
       "      <td>0.0</td>\n",
       "      <td>0.0</td>\n",
       "      <td>1</td>\n",
       "      <td>1.0</td>\n",
       "      <td>33.0</td>\n",
       "      <td>10.769445</td>\n",
       "      <td>6.466667</td>\n",
       "      <td>0.0</td>\n",
       "      <td>2</td>\n",
       "    </tr>\n",
       "    <tr>\n",
       "      <th>3</th>\n",
       "      <td>3</td>\n",
       "      <td>NaN</td>\n",
       "      <td>NaN</td>\n",
       "      <td>NaN</td>\n",
       "      <td>NaN</td>\n",
       "      <td>NaN</td>\n",
       "      <td>NaN</td>\n",
       "      <td>NaN</td>\n",
       "      <td>NaN</td>\n",
       "      <td>NaN</td>\n",
       "      <td>...</td>\n",
       "      <td>NaN</td>\n",
       "      <td>NaN</td>\n",
       "      <td>NaN</td>\n",
       "      <td>1</td>\n",
       "      <td>1.0</td>\n",
       "      <td>33.0</td>\n",
       "      <td>10.769445</td>\n",
       "      <td>6.466667</td>\n",
       "      <td>0.0</td>\n",
       "      <td>3</td>\n",
       "    </tr>\n",
       "    <tr>\n",
       "      <th>4</th>\n",
       "      <td>4</td>\n",
       "      <td>NaN</td>\n",
       "      <td>NaN</td>\n",
       "      <td>NaN</td>\n",
       "      <td>NaN</td>\n",
       "      <td>NaN</td>\n",
       "      <td>NaN</td>\n",
       "      <td>NaN</td>\n",
       "      <td>NaN</td>\n",
       "      <td>NaN</td>\n",
       "      <td>...</td>\n",
       "      <td>NaN</td>\n",
       "      <td>NaN</td>\n",
       "      <td>NaN</td>\n",
       "      <td>1</td>\n",
       "      <td>1.0</td>\n",
       "      <td>33.0</td>\n",
       "      <td>10.769445</td>\n",
       "      <td>6.466667</td>\n",
       "      <td>0.0</td>\n",
       "      <td>3</td>\n",
       "    </tr>\n",
       "    <tr>\n",
       "      <th>...</th>\n",
       "      <td>...</td>\n",
       "      <td>...</td>\n",
       "      <td>...</td>\n",
       "      <td>...</td>\n",
       "      <td>...</td>\n",
       "      <td>...</td>\n",
       "      <td>...</td>\n",
       "      <td>...</td>\n",
       "      <td>...</td>\n",
       "      <td>...</td>\n",
       "      <td>...</td>\n",
       "      <td>...</td>\n",
       "      <td>...</td>\n",
       "      <td>...</td>\n",
       "      <td>...</td>\n",
       "      <td>...</td>\n",
       "      <td>...</td>\n",
       "      <td>...</td>\n",
       "      <td>...</td>\n",
       "      <td>...</td>\n",
       "      <td>...</td>\n",
       "    </tr>\n",
       "    <tr>\n",
       "      <th>53025</th>\n",
       "      <td>53025</td>\n",
       "      <td>2019-12-24T15:39:31.156Z</td>\n",
       "      <td>2019-12-24T15:40:44Z</td>\n",
       "      <td>1.0</td>\n",
       "      <td>GH</td>\n",
       "      <td>2019-12-24</td>\n",
       "      <td>2019-12-24</td>\n",
       "      <td>2020-01-01</td>\n",
       "      <td>2020-12-31</td>\n",
       "      <td>2019-12-24</td>\n",
       "      <td>...</td>\n",
       "      <td>0.0</td>\n",
       "      <td>0.0</td>\n",
       "      <td>0.0</td>\n",
       "      <td>1</td>\n",
       "      <td>1.0</td>\n",
       "      <td>202.0</td>\n",
       "      <td>157.837469</td>\n",
       "      <td>14.000000</td>\n",
       "      <td>-183.0</td>\n",
       "      <td>1</td>\n",
       "    </tr>\n",
       "    <tr>\n",
       "      <th>53026</th>\n",
       "      <td>53026</td>\n",
       "      <td>NaN</td>\n",
       "      <td>NaN</td>\n",
       "      <td>NaN</td>\n",
       "      <td>NaN</td>\n",
       "      <td>NaN</td>\n",
       "      <td>NaN</td>\n",
       "      <td>NaN</td>\n",
       "      <td>NaN</td>\n",
       "      <td>NaN</td>\n",
       "      <td>...</td>\n",
       "      <td>0.0</td>\n",
       "      <td>0.0</td>\n",
       "      <td>0.0</td>\n",
       "      <td>notfound</td>\n",
       "      <td>1.0</td>\n",
       "      <td>26.0</td>\n",
       "      <td>10.246951</td>\n",
       "      <td>12.500000</td>\n",
       "      <td>2.0</td>\n",
       "      <td>1</td>\n",
       "    </tr>\n",
       "    <tr>\n",
       "      <th>53027</th>\n",
       "      <td>53027</td>\n",
       "      <td>2017-11-11T17:15:01.948Z</td>\n",
       "      <td>2017-11-11T17:15:01.948Z</td>\n",
       "      <td>2.0</td>\n",
       "      <td>T1</td>\n",
       "      <td>2017-07-22</td>\n",
       "      <td>2017-07-22</td>\n",
       "      <td>2017-07-01</td>\n",
       "      <td>2017-11-30</td>\n",
       "      <td>2017-07-22</td>\n",
       "      <td>...</td>\n",
       "      <td>0.0</td>\n",
       "      <td>0.0</td>\n",
       "      <td>0.0</td>\n",
       "      <td>notfound</td>\n",
       "      <td>1.0</td>\n",
       "      <td>NaN</td>\n",
       "      <td>NaN</td>\n",
       "      <td>NaN</td>\n",
       "      <td>NaN</td>\n",
       "      <td>1</td>\n",
       "    </tr>\n",
       "    <tr>\n",
       "      <th>53028</th>\n",
       "      <td>53028</td>\n",
       "      <td>NaN</td>\n",
       "      <td>NaN</td>\n",
       "      <td>NaN</td>\n",
       "      <td>NaN</td>\n",
       "      <td>NaN</td>\n",
       "      <td>NaN</td>\n",
       "      <td>NaN</td>\n",
       "      <td>NaN</td>\n",
       "      <td>NaN</td>\n",
       "      <td>...</td>\n",
       "      <td>0.0</td>\n",
       "      <td>0.0</td>\n",
       "      <td>0.0</td>\n",
       "      <td>notfound</td>\n",
       "      <td>1.0</td>\n",
       "      <td>NaN</td>\n",
       "      <td>NaN</td>\n",
       "      <td>NaN</td>\n",
       "      <td>NaN</td>\n",
       "      <td>4</td>\n",
       "    </tr>\n",
       "    <tr>\n",
       "      <th>53029</th>\n",
       "      <td>53029</td>\n",
       "      <td>NaN</td>\n",
       "      <td>NaN</td>\n",
       "      <td>NaN</td>\n",
       "      <td>NaN</td>\n",
       "      <td>NaN</td>\n",
       "      <td>NaN</td>\n",
       "      <td>NaN</td>\n",
       "      <td>NaN</td>\n",
       "      <td>NaN</td>\n",
       "      <td>...</td>\n",
       "      <td>0.0</td>\n",
       "      <td>0.0</td>\n",
       "      <td>0.0</td>\n",
       "      <td>3cy</td>\n",
       "      <td>1.0</td>\n",
       "      <td>17.0</td>\n",
       "      <td>30.336447</td>\n",
       "      <td>-7.500000</td>\n",
       "      <td>-68.0</td>\n",
       "      <td>1</td>\n",
       "    </tr>\n",
       "  </tbody>\n",
       "</table>\n",
       "<p>53030 rows × 148 columns</p>\n",
       "</div>"
      ],
      "text/plain": [
       "          id                   Field_1                   Field_2  Field_3  \\\n",
       "0          0  2019-07-24T03:39:02.854Z      2019-07-31T20:10:02Z      1.0   \n",
       "1          1                       NaN                       NaN      NaN   \n",
       "2          2  2019-01-17T07:15:26.367Z      2019-01-17T07:17:45Z      2.0   \n",
       "3          3                       NaN                       NaN      NaN   \n",
       "4          4                       NaN                       NaN      NaN   \n",
       "...      ...                       ...                       ...      ...   \n",
       "53025  53025  2019-12-24T15:39:31.156Z      2019-12-24T15:40:44Z      1.0   \n",
       "53026  53026                       NaN                       NaN      NaN   \n",
       "53027  53027  2017-11-11T17:15:01.948Z  2017-11-11T17:15:01.948Z      2.0   \n",
       "53028  53028                       NaN                       NaN      NaN   \n",
       "53029  53029                       NaN                       NaN      NaN   \n",
       "\n",
       "      Field_4     Field_5     Field_6     Field_7     Field_8     Field_9  \\\n",
       "0          GH  2018-12-27  2018-12-27  2019-01-01  2019-07-31  2018-12-27   \n",
       "1         NaN         NaN         NaN         NaN         NaN         NaN   \n",
       "2          T1  2019-01-17  2019-01-17  2019-01-01  2019-12-31  2019-01-17   \n",
       "3         NaN         NaN         NaN         NaN         NaN         NaN   \n",
       "4         NaN         NaN         NaN         NaN         NaN         NaN   \n",
       "...       ...         ...         ...         ...         ...         ...   \n",
       "53025      GH  2019-12-24  2019-12-24  2020-01-01  2020-12-31  2019-12-24   \n",
       "53026     NaN         NaN         NaN         NaN         NaN         NaN   \n",
       "53027      T1  2017-07-22  2017-07-22  2017-07-01  2017-11-30  2017-07-22   \n",
       "53028     NaN         NaN         NaN         NaN         NaN         NaN   \n",
       "53029     NaN         NaN         NaN         NaN         NaN         NaN   \n",
       "\n",
       "       ...  partner5_A partner5_D partner5_G     brief num_of_phone Field_78  \\\n",
       "0      ...         0.0        0.0        0.0       cb1          1.0      NaN   \n",
       "1      ...         0.0        0.0        0.0         4          1.0      NaN   \n",
       "2      ...         1.0        0.0        0.0         1          1.0     33.0   \n",
       "3      ...         NaN        NaN        NaN         1          1.0     33.0   \n",
       "4      ...         NaN        NaN        NaN         1          1.0     33.0   \n",
       "...    ...         ...        ...        ...       ...          ...      ...   \n",
       "53025  ...         0.0        0.0        0.0         1          1.0    202.0   \n",
       "53026  ...         0.0        0.0        0.0  notfound          1.0     26.0   \n",
       "53027  ...         0.0        0.0        0.0  notfound          1.0      NaN   \n",
       "53028  ...         0.0        0.0        0.0  notfound          1.0      NaN   \n",
       "53029  ...         0.0        0.0        0.0       3cy          1.0     17.0   \n",
       "\n",
       "         Field_79   Field_80  Field_81  Field_82  \n",
       "0             NaN        NaN       NaN         1  \n",
       "1             NaN        NaN       NaN         1  \n",
       "2       10.769445   6.466667       0.0         2  \n",
       "3       10.769445   6.466667       0.0         3  \n",
       "4       10.769445   6.466667       0.0         3  \n",
       "...           ...        ...       ...       ...  \n",
       "53025  157.837469  14.000000    -183.0         1  \n",
       "53026   10.246951  12.500000       2.0         1  \n",
       "53027         NaN        NaN       NaN         1  \n",
       "53028         NaN        NaN       NaN         4  \n",
       "53029   30.336447  -7.500000     -68.0         1  \n",
       "\n",
       "[53030 rows x 148 columns]"
      ]
     },
     "execution_count": 5,
     "metadata": {},
     "output_type": "execute_result"
    }
   ],
   "source": [
    "df_train[distinct_columns]"
   ]
  },
  {
   "cell_type": "code",
   "execution_count": 6,
   "metadata": {
    "ExecuteTime": {
     "end_time": "2020-08-04T03:50:32.077335Z",
     "start_time": "2020-08-04T03:50:31.951634Z"
    }
   },
   "outputs": [],
   "source": [
    "DROP = [\"gioiTinh\",\"info_social_sex\", \"diaChi\", 'currentLocationCity', 'currentLocationName',\\\n",
    "        'homeTownCity', 'homeTownName', \"Field_68\", \"Field_49\", \"Field_48\", \"Field_46\", \"Field_45\", \"Field_45\", \\\n",
    "       \"Field_56\", \"Field_61\"]\n",
    "DATE = [\"Field_{}\".format(i) for i in [5, 6, 7, 8, 9, 11, 15, 25, 32, 33, 34, 35, 40]]\n",
    "DATETIME = [\"Field_{}\".format(i) for i in [1, 2, 43, 44]]"
   ]
  },
  {
   "cell_type": "code",
   "execution_count": 7,
   "metadata": {
    "ExecuteTime": {
     "end_time": "2020-08-04T03:50:32.177631Z",
     "start_time": "2020-08-04T03:50:32.080392Z"
    }
   },
   "outputs": [
    {
     "data": {
      "text/plain": [
       ".                   308\n",
       "KD                   24\n",
       "Sản xuất             22\n",
       ",                    18\n",
       "Kinh doanh           16\n",
       "                   ... \n",
       "A82802504             1\n",
       "OP                    1\n",
       "VINA                  1\n",
       "E37301                1\n",
       "1.TH8M2-17030130      1\n",
       "Name: Field_18, Length: 6587, dtype: int64"
      ]
     },
     "execution_count": 7,
     "metadata": {},
     "output_type": "execute_result"
    }
   ],
   "source": [
    "df_train.Field_18.value_counts()"
   ]
  },
  {
   "cell_type": "code",
   "execution_count": 8,
   "metadata": {
    "ExecuteTime": {
     "end_time": "2020-08-04T03:50:32.308416Z",
     "start_time": "2020-08-04T03:50:32.182439Z"
    },
    "code_folding": []
   },
   "outputs": [],
   "source": [
    "@contextmanager\n",
    "def timer(title):\n",
    "    t0 = time.time()\n",
    "    yield\n",
    "    print(\"{} - done in {:.0f}s\".format(title, time.time() - t0))"
   ]
  },
  {
   "cell_type": "code",
   "execution_count": 9,
   "metadata": {
    "ExecuteTime": {
     "end_time": "2020-08-04T03:50:32.417913Z",
     "start_time": "2020-08-04T03:50:32.310982Z"
    },
    "code_folding": [
     0
    ]
   },
   "outputs": [],
   "source": [
    "def subtract_date(date1,date2, df):\n",
    "    df[date1] = pd.to_datetime(df[date1], infer_datetime_format=True)\n",
    "    df[date2] = pd.to_datetime(df[date2], infer_datetime_format=True)\n",
    "    df[date1+date2] = (df[date2] - df[date1]).dt.days"
   ]
  },
  {
   "cell_type": "code",
   "execution_count": 10,
   "metadata": {
    "ExecuteTime": {
     "end_time": "2020-08-04T03:50:32.490598Z",
     "start_time": "2020-08-04T03:50:32.420371Z"
    },
    "code_folding": [
     0
    ]
   },
   "outputs": [],
   "source": [
    "def process_ngaySinh(s):\n",
    "    if s != s:\n",
    "        return np.nan\n",
    "    try:\n",
    "        s = int(s)\n",
    "    except ValueError:\n",
    "        s = s.split(\" \")[0]\n",
    "        \n",
    "    return datetime.strptime(str(s)[:6], \"%Y%m\")"
   ]
  },
  {
   "cell_type": "code",
   "execution_count": 11,
   "metadata": {
    "ExecuteTime": {
     "end_time": "2020-08-04T03:50:32.549506Z",
     "start_time": "2020-08-04T03:50:32.493163Z"
    },
    "code_folding": [
     0
    ]
   },
   "outputs": [],
   "source": [
    "def datetime_normalize(s):\n",
    "    if s != s:\n",
    "        return np.nan\n",
    "    \n",
    "    s = s.split(\".\")[0]\n",
    "    if s[-1] == \"Z\":\n",
    "        s = s[:-1]\n",
    "        \n",
    "    date, time = s.split(\"T\")\n",
    "    datetime_obj = datetime.strptime(s, \"%Y-%m-%dT%H:%M:%S\")\n",
    "    return datetime_obj"
   ]
  },
  {
   "cell_type": "code",
   "execution_count": 12,
   "metadata": {
    "ExecuteTime": {
     "end_time": "2020-08-04T03:50:32.607163Z",
     "start_time": "2020-08-04T03:50:32.552475Z"
    },
    "code_folding": [
     0
    ]
   },
   "outputs": [],
   "source": [
    "def date_normalize(s):\n",
    "    if s != s:\n",
    "        return np.nan\n",
    "    \n",
    "    try:\n",
    "        datetime_obj = datetime.strptime(s, \"%m/%d/%Y\")\n",
    "    except:\n",
    "        datetime_obj = datetime.strptime(s, \"%Y-%m-%d\")\n",
    "        \n",
    "    return datetime_obj"
   ]
  },
  {
   "cell_type": "code",
   "execution_count": 13,
   "metadata": {
    "ExecuteTime": {
     "end_time": "2020-08-04T03:50:32.667422Z",
     "start_time": "2020-08-04T03:50:32.609165Z"
    },
    "code_folding": [
     0
    ]
   },
   "outputs": [],
   "source": [
    "def process_datetime_cols(df):\n",
    "    cat_cols = []\n",
    "    for col in DATETIME:\n",
    "        df[col] = df[col].apply(datetime_normalize)\n",
    "        \n",
    "    for col in DATE:\n",
    "        if col == \"Field_34\":\n",
    "            continue\n",
    "        df[col] = df[col].apply(date_normalize)\n",
    "\n",
    "    df[\"Field_34\"] = df[\"Field_34\"].apply(process_ngaySinh)\n",
    "    df[\"ngaySinh\"] = df[\"ngaySinh\"].apply(process_ngaySinh)\n",
    "    \n",
    "    cat_cols += DATE + DATETIME\n",
    "    for col in DATE + DATETIME:\n",
    "        df[col] = df[col].dt.strftime('%d-%m-%Y')\n",
    "    \n",
    "    subtract_date('Field_5','Field_6',df)\n",
    "    subtrac_List = ['Field_1', 'Field_2', 'Field_43', 'Field_44', 'Field_7','Field_8', 'Field_9']\n",
    "    subtract_2C = list(combinations(subtrac_List, 2))\n",
    "    for l in subtract_2C:\n",
    "        subtract_date(l[0],l[1],df)\n",
    "    \n",
    "    for cat in ['F', 'E', 'C', 'G', 'A']:\n",
    "        subtract_date(f'{cat}_startDate', f'{cat}_endDate', df)\n",
    "    print(df.shape) \n",
    "    return df"
   ]
  },
  {
   "cell_type": "code",
   "execution_count": 14,
   "metadata": {
    "ExecuteTime": {
     "end_time": "2020-08-04T03:50:32.733956Z",
     "start_time": "2020-08-04T03:50:32.669330Z"
    },
    "code_folding": [
     0
    ]
   },
   "outputs": [],
   "source": [
    "def str_normalize(s):\n",
    "    s = str(s).strip().lower()\n",
    "    s = re.sub(' +', \" \", s)\n",
    "    return s"
   ]
  },
  {
   "cell_type": "code",
   "execution_count": 15,
   "metadata": {
    "ExecuteTime": {
     "end_time": "2020-08-04T03:50:32.844606Z",
     "start_time": "2020-08-04T03:50:32.736712Z"
    },
    "code_folding": [
     0
    ]
   },
   "outputs": [],
   "source": [
    "def process_location(df):\n",
    "    for col in [\"currentLocationLocationId\", \"homeTownLocationId\", \"currentLocationLatitude\", \"currentLocationLongitude\", \n",
    "                   \"homeTownLatitude\", \"homeTownLongitude\"]:\n",
    "        df[col].replace(0, np.nan, inplace=True)\n",
    "    return df"
   ]
  },
  {
   "cell_type": "code",
   "execution_count": 16,
   "metadata": {
    "ExecuteTime": {
     "end_time": "2020-08-04T03:50:32.915313Z",
     "start_time": "2020-08-04T03:50:32.847309Z"
    },
    "code_folding": [
     0
    ]
   },
   "outputs": [],
   "source": [
    "def combine_gender(s):\n",
    "    x, y = s\n",
    "    return x if x != None else y if y != None else None"
   ]
  },
  {
   "cell_type": "code",
   "execution_count": 17,
   "metadata": {
    "ExecuteTime": {
     "end_time": "2020-08-04T03:50:32.991015Z",
     "start_time": "2020-08-04T03:50:32.917871Z"
    },
    "code_folding": [
     0
    ]
   },
   "outputs": [],
   "source": [
    "def process_gender(df):\n",
    "    df[\"gender\"] = df[[\"gioiTinh\", \"info_social_sex\"]].apply(combine_gender, axis=1).astype(\"category\")\n",
    "    return df"
   ]
  },
  {
   "cell_type": "code",
   "execution_count": 18,
   "metadata": {
    "ExecuteTime": {
     "end_time": "2020-08-04T03:50:33.066902Z",
     "start_time": "2020-08-04T03:50:32.994716Z"
    },
    "code_folding": [
     0
    ]
   },
   "outputs": [],
   "source": [
    "def process_ordinal(df):        \n",
    "    df[\"subscriberCount\"].replace(0, np.nan, inplace=True)\n",
    "    df[\"friendCount\"].replace(0, np.nan, inplace=True)\n",
    "    \n",
    "    df[\"Field_13\"] = df[\"Field_13\"].apply(lambda x: 1 if x == x else 0)\n",
    "    df[\"Field_38\"] = df[\"Field_38\"].map({0: 0.0, 1: 1.0, \"DN\": np.nan, \"TN\": np.nan, \"GD\": np.nan})\n",
    "    df[\"Field_62\"] = df[\"Field_62\"].map({\"I\": 1, \"II\": 2, \"III\": 3, \"IV\": 4, \"V\": 5, \"Ngoài quốc doanh Quận 7\": np.nan})\n",
    "    df[\"Field_47\"] = df[\"Field_47\"].map({\"Zezo\": 0, \"One\": 1, \"Two\": 2, \"Three\": 3, \"Four\": 4})\n",
    "    \n",
    "    df[\"Field_27\"] = df[\"Field_27\"].replace({0.0: np.nan})\n",
    "    df[\"Field_28\"] = df[\"Field_28\"].replace({0.0: np.nan})\n",
    "        \n",
    "    for col in df.columns:\n",
    "        if df[col].dtype.name == \"object\":\n",
    "            df[col] = df[col].apply(str_normalize).astype(\"category\")\n",
    "            \n",
    "    return df"
   ]
  },
  {
   "cell_type": "code",
   "execution_count": 19,
   "metadata": {
    "ExecuteTime": {
     "end_time": "2020-08-04T03:50:33.144288Z",
     "start_time": "2020-08-04T03:50:33.069242Z"
    },
    "code_folding": [
     0
    ]
   },
   "outputs": [],
   "source": [
    "def fix_maCv(x):\n",
    "    lower = str(x).lower()\n",
    "    if any([x in lower for x in [\"nhân viên\", \"kế toán\", \"thủ kho\", \"tạp vụ\",\\\n",
    "                                \"thu ngân\", \"phóng viên\", \"giao dịch\", \"operator\", \"cnv\",\\\n",
    "                                \"huấn luyện viên\", \"ktoán\", \"nv\", \"lễ tân\", \"thư ký \",\\\n",
    "                                \"gsbh\", \"tiếp viên\", \"nhõn viờn\", \"chăm sóc\", \"hướng dẫn viên\", \\\n",
    "                                \"kiểm phẩm\",  \"kĩ sư\",  \"cấp dưỡng\", \"kiểm gấp\",\\\n",
    "                                \"kiểm soát viên\", \"kiểm ngân\", \"nv\", \"lưu hóa\", \"nhân  viên\", \"lưu trữ viên\", \\\n",
    "                                \"phát hành báo\", \"ktv\", \"kiến trúc sư\", \"kinh tế viên\", \"staff\", \"checker\",\\\n",
    "                                \"sỹ quan\", \"dịch vụ\", \"kiểm tra viên\", \\\n",
    "                                \"cộng tác viên\", \"qc ksqt\", \"nhân vên\", \"kế hoạch sản xuất\", \"nhaõn vieõn\", \\\n",
    "                                \"thí nghiệm\", \"thông kê\", \"kiểm hàng\", \"k? s?\", \"thư ký\", \"hợp đồng\", \\\n",
    "                                \"thẩm phán\", \"thao tác viên\", \"thủ quỹ\", \"lấy mẫu\", \"LÁI XE\".lower(), \\\n",
    "                                \"biên tập\", \"ksxd\", \"phiên dịch\", \"tb tuyên huấn\", \"sales\", \"thường trực\", \\\n",
    "                                \"trợ lý\", \"tiếp thực\", \"giỏm sỏt\", \\\n",
    "                                \"trình dược viên\", \"btđtn\", \"phúng viờn\", \\\n",
    "                                \"thông dịch\", \"tiếp thị\", \"tư vấn\", \"tổng đài\", \"vi tính\", \"viên chức\", \\\n",
    "                                \"văn phòng\", \"văn thư\", 'Thiết Kế'.lower(), \"vận hành\", \"nhan vien\", \\\n",
    "                                \"kiểm tra chất lượng\", \"pbt\", \"phi công\", \"laptop\",\\\n",
    "                                \"phụ trách kiểm hàng\", \"quay phim\", \"thư viện viên\", \\\n",
    "                                \"trực buồng\", \"techcombank\", \"cảng vụ viên\", \"trainee\", \"bhxh\", \"marketing\", \\\n",
    "                                \"tuyên truyền viên\",  \"kế hoạch\", \"ks\", \\\n",
    "                                \"an toàn viên\", \"CHỈ SỐ VIÊN\".lower(), \\\n",
    "                                \"thu mua\", \"giám éịnh viên\", \"kiểm định viên\",  \"giám định\", \\\n",
    "                                \"quản trị mạng\", \"thơợ\", \"thống kê\", \"thủ  quỹ\",  \\\n",
    "                                \"điện thoại\", \"điện thọai\", \"đội thông tin\", \"đón  tiếp khách hàng\", \\\n",
    "                                \"đơn hàng\", \"đại diện\", \"điều phối viên\", \"n.v\", \"bán vé\", \"c«ng nh©n\", \\\n",
    "                                \"gs camera\",  \"máy dán\", \"tv\",  \"đồ họa\"]]):\n",
    "        return \"NV\"\n",
    "    elif any([x in lower for x in [\"kỹ\",\"chuyên viên\",\"kĩ thuật viên\",\"kĩ thuật\", \"kỹ thuật viên\",\\\n",
    "                                 \"kỷ thuật viên\",\"lập trình viên\", \"chuyờn viờn\", \"chuyªn viªn\",]]):\n",
    "        return \"KTV\"\n",
    "    elif any([x in lower for x in [\"cán bộ\", \"cán sự\", \"bí thư đoàn\", \"cb\", \"phường đội\", \"trưởng công an\", \\\n",
    "                                  \"công an viên\", \"an ninh viên\",\"tổ viên\", \"công chức\", \"quản sinh\", \\\n",
    "                                   \"bí thư xã  đoàn\",\"điều tra viên\", \"đăng kiểm\", \"cỏn bộ\",\"đtv\", \"trực ban\",\\\n",
    "                                  ]]):\n",
    "        return \"CB\"\n",
    "    elif any([x in lower for x in [\"tổ trưởng\", \"giám sát\", \"quản lý\", \"cửa hàng trưởng\", \"chuyền trưởng\", \"kho\",\\\n",
    "                                  \"phó\", \"pp\", \"nhóm trưởng\", \"trưởng phòng\", \"trưởng ca\", \"trưởng tàu khách\", \\\n",
    "                                  \"trưởng nhóm\", \"cửa hàng trưởng\", \"trưởng bộ\", \"tổng phụ trách\", \"đào tạo\", \\\n",
    "                                  \"phụ trách phòng\", \"quản doanh\", \"vhtt\", \"trưởng ban\", \"dự án\", \"nhân sự\",\\\n",
    "                                  \"chỉ huy\", \"triển khai\", \"trưởng kiểm soát\", \"điều hành\", \"đội trưởng\", \\\n",
    "                                  \"chỉ huy\", \"qlsx\", \"t? tr??ng\", \"may\"]]):\n",
    "        return \"QL\"\n",
    "    elif any([x in lower for x in [\"công\",  \"bảo vệ\", \"thợ\", \"lao động\", \"bán hàng\",\\\n",
    "                                \"phụ kho\", \"phụ việc\", \"phết\", \"bảo mẫu\", \"phục vụ\", \"đóng gói\", \"ép cao tần\", \\\n",
    "                                \"cn\", \"sản Phẩm\", \"giao nhận\",\"cụng nhõn\", \"gia công\", \"kiÓm tra\".lower(), \\\n",
    "                                \"cô nuôi\", \"bảo dưỡng\", \"c.n\", \"coi bồn\", \"cạo mủ\", \"coõng nhaõn\", \"khai thác\",\\\n",
    "                                \"cod\", \"bốc xếp\", \"bếp\", \"lái máy\", \"lđpt\", \"khuôn\", \"hàng rong\", \"phụ bếp\",\\\n",
    "                                \"phụ tá\", \"thủ công\", \"dệt\", \"sửa chữa\", \"băng chuyền\", \"lắp ráp\", \\\n",
    "                                \"chà nhám\", \"cn\", \"bếp phụ\", \"chụp hình\", \"KHUNG SắT\".lower(), \"kcs chuyền\", \\\n",
    "                                \"lao động\", \"thành hình\", \"lao công\", \"cônh nhân\", \"thi công\", \"cán lần 1\", \\\n",
    "                                \"lái phụ máy\", \"thủy thủ\", \"gác ghi\", \"quay ghi\", \"bảo trì\", \"bảo mẩu\", \\\n",
    "                                \"máy 3 tàu\", \"giao hàng\", \"trực chính\", \"hỗ trợ\", \"lái xúc gạt\", \"công  nhân\",\\\n",
    "                                \"lđhđ\", \"lao d?ng\", \"c. nhân\", \"pv nước\", \"hđlđ\", \"vệ sinh\", \"phụ\", \"vệ sỹ\", \\\n",
    "                                \"xếp hộp\", \"barista\", \"hàn điện\", \"thuỷ thủ\", \"xây dựng\", \"b?o v?\", \\\n",
    "                                \"mài phá\", \"xếp da\", \"worker\", \"cong nhan\", \"pha chế\", \\\n",
    "                                \"máy trưởng\", \"phụ trách sản xuất\", \"trải vải\", \"YếN TIệC\".lower(), \"gấp xếp\", \\\n",
    "                                \"in sơ đồ\", \"lđ phổ thông\", \"mài\", \"nhồi mút\", \"ép\", \"gói\", \"đóng\", \\\n",
    "                                \"đội viên\", \"đánh máy\", \"đứng máy\", \"ủi\", \"săm\", 'atlđ']]):\n",
    "        return \"CN\"\n",
    "    elif any([x in lower for x in [\"lái xe\", \"tài xế\", \"phụ xe\",\"lái cẩu\", \"vân hành\", ]]):\n",
    "        return \"TX\"\n",
    "    elif any([x in lower for x in [\"giáo viên\", \"gv\", \"giảng viên\", \"chủ nhiệm lớp\", \"giáo viến\", \\\n",
    "                                   \"Giáo viến\".lower(), \"mầm non\"]]):\n",
    "        return \"GV\"\n",
    "    elif any([x in lower for x in [\"kinh doanh\", \"kinh  doanh\"]]):\n",
    "        return \"KD\"\n",
    "\n",
    "    elif any([x in lower for x in [\"hiệu trưởng\", \"chủ tịch\", \"pgđ\", \"giám đốc\"]]):\n",
    "        return \"GĐ\"\n",
    "    elif any([x in lower for x in [\"điều dưỡng\", \"hộ lý\", \"nữ hộ sinh\", \"h? lý\", \"hộ sinh\"]]):\n",
    "        return \"ĐD\"\n",
    "    elif any([x in lower for x in [\"y sĩ\", \"dược sỹ\", \"bác sĩ\", \"bác sỹ\", \"dược\", \"dược tá\", \"thú y\", \"y sỹ\",\\\n",
    "                                  \"y tế\", \"y công\", \"y tá\", \"dựơc tá\", \"ytth\"]]):\n",
    "        return \"BS\"\n",
    "    elif any([x in lower for x in [\"cử nhân\", \"cđ\", \"học viên\", \"tc\", \"cao đẳng\", \"cao đẵng\", \"trung cấp\"]]):\n",
    "        return \"HS\"\n",
    "    elif any([x in lower for x in [\"diễn viên\", \"ca sĩ\"]]):\n",
    "        return \"DV-CS\"\n",
    "    elif any([x in lower for x in [\"undefined\", \"nguyễn thế hưng\", \"ln091\", \"thieu chuc danh\", \"th noọng hẹt\", \\\n",
    "                                  \"875 lk\", \"-\", \"p.xnk\", \"cỏn b?\", '22568', \"unt\", \"01019882\", \"xtnt\", \"ltv\", \\\n",
    "                                  \"plđg hc\", \"mia\", \"pqtd\", \"kttntl\", \"llqs\", \"kcsmhm\", \"nt\", \"dtm\", \"i\", \"qc\",\\\n",
    "                                  '/  /', '1', '14', 'a', 'chủ hộ', 'coõng vuù', 'kcs', 'pk b2c',\\\n",
    "                                   'xt2', 'kcs', 'sxct']]):\n",
    "        return np.nan\n",
    "    return x"
   ]
  },
  {
   "cell_type": "code",
   "execution_count": 20,
   "metadata": {
    "ExecuteTime": {
     "end_time": "2020-08-04T03:50:33.255584Z",
     "start_time": "2020-08-04T03:50:33.147507Z"
    },
    "code_folding": [
     0
    ]
   },
   "outputs": [],
   "source": [
    "def fix_55(x):\n",
    "    if x in ['BC', 'BG', 'CN', 'CO', 'DB', 'EL', 'FO', 'H5', 'KX', 'N7', 'NR', 'SD', 'SJ', 'ST', 'WD']:\n",
    "        return np.nan\n",
    "    return x"
   ]
  },
  {
   "cell_type": "code",
   "execution_count": 21,
   "metadata": {
    "ExecuteTime": {
     "end_time": "2020-08-04T03:50:33.323538Z",
     "start_time": "2020-08-04T03:50:33.257908Z"
    },
    "code_folding": []
   },
   "outputs": [],
   "source": [
    "def transform(df):\n",
    "    df = process_datetime_cols(df)\n",
    "    df = process_gender(df)\n",
    "    df = process_location(df)\n",
    "    df = process_ordinal(df)\n",
    "    return df.drop(DROP, 1)"
   ]
  },
  {
   "cell_type": "code",
   "execution_count": 22,
   "metadata": {
    "ExecuteTime": {
     "end_time": "2020-08-04T03:50:52.705787Z",
     "start_time": "2020-08-04T03:50:33.325677Z"
    },
    "code_folding": [],
    "scrolled": false
   },
   "outputs": [
    {
     "name": "stderr",
     "output_type": "stream",
     "text": [
      "/home/parker/anaconda3/envs/py37/lib/python3.7/site-packages/IPython/core/interactiveshell.py:3072: DtypeWarning: Columns (35,43) have mixed types.Specify dtype option on import or set low_memory=False.\n",
      "  interactivity=interactivity, compiler=compiler, result=result)\n",
      "/home/parker/anaconda3/envs/py37/lib/python3.7/site-packages/IPython/core/interactiveshell.py:3072: DtypeWarning: Columns (34,42) have mixed types.Specify dtype option on import or set low_memory=False.\n",
      "  interactivity=interactivity, compiler=compiler, result=result)\n"
     ]
    },
    {
     "name": "stdout",
     "output_type": "stream",
     "text": [
      "(73411, 175)\n",
      "Preprocess - done in 16s\n"
     ]
    },
    {
     "name": "stderr",
     "output_type": "stream",
     "text": [
      "/home/parker/anaconda3/envs/py37/lib/python3.7/site-packages/pandas/core/frame.py:4172: SettingWithCopyWarning: \n",
      "A value is trying to be set on a copy of a slice from a DataFrame\n",
      "\n",
      "See the caveats in the documentation: https://pandas.pydata.org/pandas-docs/stable/user_guide/indexing.html#returning-a-view-versus-a-copy\n",
      "  method=method,\n",
      "/home/parker/anaconda3/envs/py37/lib/python3.7/site-packages/pandas/core/generic.py:6245: SettingWithCopyWarning: \n",
      "A value is trying to be set on a copy of a slice from a DataFrame\n",
      "\n",
      "See the caveats in the documentation: https://pandas.pydata.org/pandas-docs/stable/user_guide/indexing.html#returning-a-view-versus-a-copy\n",
      "  self._update_inplace(new_data)\n",
      "/home/parker/anaconda3/envs/py37/lib/python3.7/site-packages/ipykernel_launcher.py:20: SettingWithCopyWarning: \n",
      "A value is trying to be set on a copy of a slice from a DataFrame.\n",
      "Try using .loc[row_indexer,col_indexer] = value instead\n",
      "\n",
      "See the caveats in the documentation: https://pandas.pydata.org/pandas-docs/stable/user_guide/indexing.html#returning-a-view-versus-a-copy\n"
     ]
    }
   ],
   "source": [
    "df_train = pd.read_csv(\"../../data/kalapa/train.csv\")\n",
    "df_test = pd.read_csv(\"../../data/kalapa/test.csv\")\n",
    "df_all = df_train.drop(['label'], 1).append(df_test)\n",
    "df_all = df_all[distinct_columns]\n",
    "\n",
    "df_all.maCv = df_all.maCv.apply(fix_maCv)\n",
    "\n",
    "\n",
    "with timer(\"Preprocess\"):\n",
    "    df_all_fe = transform(df_all.copy())\n",
    "    df_all_fe['Age'] = df_all_fe.ngaySinh.apply(lambda x: 2020 - x.year)\n",
    "    df_all_fe = df_all_fe.drop('ngaySinh', axis = 1)\n",
    "    cols_select = [x for x in df_all_fe.columns if x not in DATE + DATETIME  + [f'{cat}_endDate' for cat in ['F', 'E', 'C', 'G', 'A']] + [f'{cat}_startDate' for cat in ['F', 'E', 'C', 'G', 'A']]]\n",
    "    df_fe = df_all_fe[cols_select]\n",
    "    df_fe.replace([np.inf, -np.inf], -99999999999999999, inplace=True)\n",
    "\n",
    "    for col in df_fe.columns:\n",
    "        if df_fe[col].dtype.name == \"category\":\n",
    "            if df_fe[col].isnull().sum() > 0:\n",
    "                df_fe[col] = df_fe[col].cat.add_categories(f'missing_{col}')\n",
    "                df_fe[col].fillna(f'missing_{col}', inplace=True)\n",
    "        else:\n",
    "            df_fe[col].fillna(-99999, inplace=True)\n",
    "\n",
    "    y_label = df_train[\"label\"]\n",
    "    train_fe = df_fe[df_fe[\"id\"] < df_train.shape[0]]\n",
    "    test_fe = df_fe[df_fe[\"id\"] >= df_train.shape[0]]"
   ]
  },
  {
   "cell_type": "code",
   "execution_count": 23,
   "metadata": {
    "ExecuteTime": {
     "end_time": "2020-08-04T03:50:52.757991Z",
     "start_time": "2020-08-04T03:50:52.711891Z"
    }
   },
   "outputs": [],
   "source": [
    "df_train = pd.concat([df_train.id,df_train.label, train_fe.iloc[:,1:]], axis = 1)"
   ]
  },
  {
   "cell_type": "code",
   "execution_count": 24,
   "metadata": {
    "ExecuteTime": {
     "end_time": "2020-08-04T03:50:53.240792Z",
     "start_time": "2020-08-04T03:50:52.760686Z"
    }
   },
   "outputs": [
    {
     "name": "stdout",
     "output_type": "stream",
     "text": [
      "train_fe : Field_4: 3: CategoricalIndex(['nan', 't1', 'gh'], categories=['gh', 'nan', 't1'], ordered=False, dtype='category')\n",
      "test_fe  : Field_4: 3: CategoricalIndex(['nan', 't1', 'gh'], categories=['gh', 'nan', 't1'], ordered=False, dtype='category')\n",
      "train_fe : Field_10: 7: Float64Index([-99999.0, 1.0, 2.0, 3.0, 4.0, 5.0, 0.0], dtype='float64')\n",
      "test_fe  : Field_10: 6: Float64Index([-99999.0, 1.0, 2.0, 3.0, 4.0, 5.0], dtype='float64')\n",
      "train_fe : Field_12: 8: CategoricalIndex(['nan', 'g8', 'g3', 'gx', 'g7', 'g9', 'g2'], categories=['g2', 'g3', 'g4', 'g7', 'g8', 'g9', 'gx', 'nan'], ordered=False, dtype='category')\n",
      "test_fe  : Field_12: 8: CategoricalIndex(['nan', 'g8', 'g3', 'g7', 'gx', 'g9', 'g2'], categories=['g2', 'g3', 'g4', 'g7', 'g8', 'g9', 'gx', 'nan'], ordered=False, dtype='category')\n",
      "train_fe : Field_13: 2: Int64Index([0, 1], dtype='int64')\n",
      "test_fe  : Field_13: 2: Int64Index([0, 1], dtype='int64')\n",
      "train_fe : Field_18: 8625: CategoricalIndex(['nan', '.', 'phòng kinh doanh', 'sản xuất', 'kd',\n",
      "                  'kinh doanh', ','],\n",
      "                 categories=['#', ''03/07/2019', ''2959-3b', '(03-233)', '(1)', '(11-171-10)', '(13)', '(13-215)', ...], ordered=False, dtype='category')\n",
      "test_fe  : Field_18: 8625: CategoricalIndex(['nan', '.', 'thành phố biên hòa', 'sản xuất', 'kinh doanh',\n",
      "                  'kd', '1'],\n",
      "                 categories=['#', ''03/07/2019', ''2959-3b', '(03-233)', '(1)', '(11-171-10)', '(13)', '(13-215)', ...], ordered=False, dtype='category')\n",
      "train_fe : Field_19: 355: Float64Index([-99999.0, 0.0, 1.0, 1.86, 2.67, 2.34, 2.06], dtype='float64')\n",
      "test_fe  : Field_19: 231: Float64Index([-99999.0, 0.0, 1.0, 2.34, 1.86, 2.67, 2.06], dtype='float64')\n",
      "train_fe : Field_20: 4736: Float64Index([-99999.0, 1490000.0, 1390000.0, 4500000.0, 973000.0, 1043000.0,\n",
      "              4260000.0],\n",
      "             dtype='float64')\n",
      "test_fe  : Field_20: 2355: Float64Index([-99999.0, 1490000.0, 1390000.0, 4500000.0, 4300000.0, 973000.0,\n",
      "              4260000.0],\n",
      "             dtype='float64')\n",
      "train_fe : Field_21: 5: Float64Index([-99999.0, 4.5, 0.0, 6.0, 3.0], dtype='float64')\n",
      "test_fe  : Field_21: 5: Float64Index([-99999.0, 4.5, 0.0, 6.0, 3.0], dtype='float64')\n",
      "train_fe : Field_22: 4: Float64Index([-99999.0, 1.0, 0.0, 2.0], dtype='float64')\n",
      "test_fe  : Field_22: 4: Float64Index([-99999.0, 1.0, 0.0, 2.0], dtype='float64')\n",
      "train_fe : Field_23: 314: Float64Index([-99999.0, 0.0, 12.0, 24.0, 1.0, 36.0, 2.0], dtype='float64')\n",
      "test_fe  : Field_23: 284: Float64Index([-99999.0, 0.0, 12.0, 24.0, 1.0, 36.0, 6.0], dtype='float64')\n",
      "train_fe : Field_27: 636: Float64Index([-99999.0, 1150000.0, 1210000.0, 3317000.0, 3745000.0, 805000.0,\n",
      "              3000000.0],\n",
      "             dtype='float64')\n",
      "test_fe  : Field_27: 286: Float64Index([-99999.0, 1150000.0, 1210000.0, 3317000.0, 726000.0, 3745000.0,\n",
      "              2889000.0],\n",
      "             dtype='float64')\n",
      "train_fe : Field_28: 634: Float64Index([-99999.0, 54450.0, 51750.0, 149265.0, 168525.0, 36225.0,\n",
      "              34500.0],\n",
      "             dtype='float64')\n",
      "test_fe  : Field_28: 288: Float64Index([-99999.0, 51750.0, 54450.0, 149265.0, 32670.0, 168525.0,\n",
      "              130005.0],\n",
      "             dtype='float64')\n",
      "train_fe : Field_29: 44: Float64Index([-99999.0, 12.0, 0.0, 6.0, 3.0, 24.0, 4.0], dtype='float64')\n",
      "test_fe  : Field_29: 32: Float64Index([-99999.0, 12.0, 0.0, 6.0, 3.0, 24.0, 4.0], dtype='float64')\n",
      "train_fe : namSinh: 4: Float64Index([-99999.0, 0.0, 1.0, 2.0], dtype='float64')\n",
      "test_fe  : namSinh: 4: Float64Index([-99999.0, 0.0, 1.0, 2.0], dtype='float64')\n",
      "train_fe : Field_36: 35: CategoricalIndex(['nan', 'dn', 'gd', 'hc', 'tn', 'ch', 'sv'], categories=['b3', 'bt', 'cb', 'ch', 'ck', 'cn', 'cy', 'dk', ...], ordered=False, dtype='category')\n",
      "test_fe  : Field_36: 35: CategoricalIndex(['nan', 'dn', 'gd', 'hc', 'tn', 'ch', 'sv'], categories=['b3', 'bt', 'cb', 'ch', 'ck', 'cn', 'cy', 'dk', ...], ordered=False, dtype='category')\n",
      "train_fe : Field_38: 3: Float64Index([-99999.0, 0.0, 1.0], dtype='float64')\n",
      "test_fe  : Field_38: 3: Float64Index([-99999.0, 0.0, 1.0], dtype='float64')\n",
      "train_fe : Field_39: 3: Float64Index([-99999.0, 1.0, 0.0], dtype='float64')\n",
      "test_fe  : Field_39: 3: Float64Index([-99999.0, 1.0, 0.0], dtype='float64')\n",
      "train_fe : Field_41: 3: Float64Index([-99999.0, 1.0, 0.0], dtype='float64')\n",
      "test_fe  : Field_41: 3: Float64Index([-99999.0, 1.0, 0.0], dtype='float64')\n",
      "train_fe : Field_42: 3: Float64Index([-99999.0, 1.0, 0.0], dtype='float64')\n",
      "test_fe  : Field_42: 3: Float64Index([-99999.0, 1.0, 0.0], dtype='float64')\n",
      "train_fe : Field_47: 6: Float64Index([-99999.0, 0.0, 1.0, 4.0, 2.0, 3.0], dtype='float64')\n",
      "test_fe  : Field_47: 6: Float64Index([-99999.0, 0.0, 1.0, 4.0, 2.0, 3.0], dtype='float64')\n",
      "train_fe : Field_50: 3: Float64Index([-99999.0, 1.0, 0.0], dtype='float64')\n",
      "test_fe  : Field_50: 3: Float64Index([-99999.0, 1.0, 0.0], dtype='float64')\n",
      "train_fe : Field_51: 3: Float64Index([-99999.0, 1.0, 0.0], dtype='float64')\n",
      "test_fe  : Field_51: 3: Float64Index([-99999.0, 1.0, 0.0], dtype='float64')\n",
      "train_fe : Field_53: 3: Float64Index([-99999.0, 0.0, 1.0], dtype='float64')\n",
      "test_fe  : Field_53: 3: Float64Index([-99999.0, 0.0, 1.0], dtype='float64')\n",
      "train_fe : Field_54: 50: CategoricalIndex(['nan', 'vn', 'tw', 'kr', 'jp', 'cn', 'cz'], categories=['01', '1', 'ad', 'ae', 'af', 'an', 'as', 'au', ...], ordered=False, dtype='category')\n",
      "test_fe  : Field_54: 50: CategoricalIndex(['nan', 'vn', 'tw', 'kr', 'cn', 'jp', 'cz'], categories=['01', '1', 'ad', 'ae', 'af', 'an', 'as', 'au', ...], ordered=False, dtype='category')\n",
      "train_fe : Field_55: 236: CategoricalIndex(['nan', 'yn', 'bi', 'ta', 'bo', 'tz', 'tf'], categories=['a2', 'a6', 'a9', 'aa', 'ab', 'ac', 'ad', 'ah', ...], ordered=False, dtype='category')\n",
      "test_fe  : Field_55: 236: CategoricalIndex(['nan', 'yn', 'bi', 'ta', 'bo', 'tz', 'te'], categories=['a2', 'a6', 'a9', 'aa', 'ab', 'ac', 'ad', 'ah', ...], ordered=False, dtype='category')\n",
      "train_fe : Field_58: 6: Float64Index([-99999.0, 0.0, 5.0, 2.0, 4.0, 3.0], dtype='float64')\n",
      "test_fe  : Field_58: 6: Float64Index([-99999.0, 0.0, 5.0, 2.0, 4.0, 3.0], dtype='float64')\n",
      "train_fe : Field_59: 36: Float64Index([-99999.0, 5.0, 4.0, 33.0, 6.0, 35.0, 3.0], dtype='float64')\n",
      "test_fe  : Field_59: 33: Float64Index([-99999.0, 5.0, 4.0, 33.0, 6.0, 35.0, 3.0], dtype='float64')\n",
      "train_fe : Field_60: 35: Float64Index([-99999.0, 3.0, 2.0, 31.0, 4.0, 33.0, 1.0], dtype='float64')\n",
      "test_fe  : Field_60: 33: Float64Index([-99999.0, 3.0, 2.0, 31.0, 4.0, 33.0, 1.0], dtype='float64')\n",
      "train_fe : Field_62: 6: Float64Index([-99999.0, 1.0, 5.0, 2.0, 4.0, 3.0], dtype='float64')\n",
      "test_fe  : Field_62: 6: Float64Index([-99999.0, 1.0, 5.0, 2.0, 4.0, 3.0], dtype='float64')\n",
      "train_fe : Field_63: 11: Float64Index([-99999.0, 2.0, 3.0, 4.0, 8.0, 0.0, 5.0], dtype='float64')\n",
      "test_fe  : Field_63: 11: Float64Index([-99999.0, 2.0, 3.0, 4.0, 8.0, 0.0, 5.0], dtype='float64')\n",
      "train_fe : Field_64: 10: Float64Index([-99999.0, 1.0, 2.0, 3.0, 4.0, 7.0, 5.0], dtype='float64')\n",
      "test_fe  : Field_64: 10: Float64Index([-99999.0, 1.0, 2.0, 3.0, 4.0, 7.0, 5.0], dtype='float64')\n",
      "train_fe : Field_65: 11: CategoricalIndex(['nan', 'vùng 1', 'vùng 2', 'vùng 3', 'vùng 4',\n",
      "                  'dn đầu tư nn (vùng 1 có đt) {01->09, 15}',\n",
      "                  'dn đầu tư nn (vùng 2 có đt) {10->14, 16, 19->23, 25, 29}'],\n",
      "                 categories=['5', 'dn tư nhân', 'dn đầu tư nn (vùng 1 có đt) {01->09, 15}', 'dn đầu tư nn (vùng 2 có đt) {10->14, 16, 19->23, 25, 29}', 'dn đầu tư nn (vùng 3 có đt) {17, 18, 24, 26->28}', 'dn đầu tư nn (vùng 4 có đt)', 'nan', 'vùng 1', ...], ordered=False, dtype='category')\n",
      "test_fe  : Field_65: 11: CategoricalIndex(['nan', 'vùng 1', 'vùng 2', 'vùng 3', 'vùng 4',\n",
      "                  'dn đầu tư nn (vùng 1 có đt) {01->09, 15}',\n",
      "                  'dn đầu tư nn (vùng 2 có đt) {10->14, 16, 19->23, 25, 29}'],\n",
      "                 categories=['5', 'dn tư nhân', 'dn đầu tư nn (vùng 1 có đt) {01->09, 15}', 'dn đầu tư nn (vùng 2 có đt) {10->14, 16, 19->23, 25, 29}', 'dn đầu tư nn (vùng 3 có đt) {17, 18, 24, 26->28}', 'dn đầu tư nn (vùng 4 có đt)', 'nan', 'vùng 1', ...], ordered=False, dtype='category')\n",
      "train_fe : Field_66: 9: CategoricalIndex(['nan', 'd', 'c', 'g', 'e', 'f', 'b'], categories=['b', 'c', 'd', 'e', 'f', 'g', 'h', 'i', ...], ordered=False, dtype='category')\n",
      "test_fe  : Field_66: 9: CategoricalIndex(['nan', 'd', 'c', 'g', 'e', 'f', 'b'], categories=['b', 'c', 'd', 'e', 'f', 'g', 'h', 'i', ...], ordered=False, dtype='category')\n",
      "train_fe : Field_67: 14431: Float64Index([-99999.0, 776953.0, 67129.0, 470954.0, 644004.0, 658535.0,\n",
      "              329951.0],\n",
      "             dtype='float64')\n",
      "test_fe  : Field_67: 6583: Float64Index([-99999.0, 776953.0, 470954.0, 67129.0, 644004.0, 329951.0,\n",
      "              646653.0],\n",
      "             dtype='float64')\n",
      "train_fe : maCv: 14: CategoricalIndex(['nan', 'nv', 'cn', 'ql', 'gv', 'ktv', 'cb'], categories=['bs', 'cb', 'cn', 'dv-cs', 'gv', 'gđ', 'hs', 'kd', ...], ordered=False, dtype='category')\n",
      "test_fe  : maCv: 14: CategoricalIndex(['nan', 'nv', 'cn', 'ql', 'gv', 'ktv', 'cb'], categories=['bs', 'cb', 'cn', 'dv-cs', 'gv', 'gđ', 'hs', 'kd', ...], ordered=False, dtype='category')\n",
      "train_fe : Field_69: 102: Float64Index([-99999.0, 0.0, 0.01, 1.0, 0.02, 0.04, 0.03], dtype='float64')\n",
      "test_fe  : Field_69: 102: Float64Index([-99999.0, 0.0, 0.01, 1.0, 0.03, 0.02, 0.04], dtype='float64')\n",
      "train_fe : Field_70: 51: Float64Index([-99999.0, 0.08, 0.12, 0.49, 0.6, 0.62, 0.35], dtype='float64')\n",
      "test_fe  : Field_70: 51: Float64Index([-99999.0, 0.08, 0.12, 0.49, 0.6, 0.35, 0.62], dtype='float64')\n",
      "train_fe : Field_71: 322: Float64Index([-99999.0, 0.06, 0.245, 0.04, 0.195, 0.175, 0.14], dtype='float64')\n",
      "test_fe  : Field_71: 243: Float64Index([-99999.0, 0.245, 0.06, 0.04, 0.195, 0.26, 0.175], dtype='float64')\n",
      "train_fe : Field_72: 497: Float64Index([-99999.0, 0.12, 0.49, 0.08, 0.39, 0.28, 0.35], dtype='float64')\n",
      "test_fe  : Field_72: 229: Float64Index([-99999.0, 0.12, 0.49, 0.08, 0.39, 0.33, 0.35], dtype='float64')\n",
      "train_fe : Field_73: 3: Float64Index([1.0, -99999.0, 0.0], dtype='float64')\n",
      "test_fe  : Field_73: 3: Float64Index([1.0, -99999.0, 0.0], dtype='float64')\n",
      "train_fe : Field_74: 490: Float64Index([-99999.0, 347.0, 340.0, 1436.0, 342.0, 337.0, 335.0], dtype='float64')\n",
      "test_fe  : Field_74: 441: Float64Index([-99999.0, 702.0, 347.0, 4016.0, 342.0, 709.0, 3990.0], dtype='float64')\n",
      "train_fe : Field_75: 15: Float64Index([-99999.0, 4.0, 3.0, 5.0, 1.0, 2.0, 6.0], dtype='float64')\n",
      "test_fe  : Field_75: 15: Float64Index([-99999.0, 4.0, 3.0, 5.0, 1.0, 2.0, 6.0], dtype='float64')\n",
      "train_fe : Field_76: 12: Float64Index([-99999.0, 0.0, 1.0, 2.0, 3.0, 4.0, 5.0], dtype='float64')\n",
      "test_fe  : Field_76: 11: Float64Index([-99999.0, 0.0, 1.0, 2.0, 3.0, 4.0, 5.0], dtype='float64')\n",
      "train_fe : Field_77: 16: Float64Index([-99999.0, 4.0, 1.0, 3.0, 2.0, 5.0, 6.0], dtype='float64')\n",
      "test_fe  : Field_77: 16: Float64Index([-99999.0, 4.0, 1.0, 3.0, 2.0, 5.0, 6.0], dtype='float64')\n",
      "train_fe : friendCount: 2932: Float64Index([-99999.0, 1.0, 2.0, 3.0, 4.0, 5.0, 6.0], dtype='float64')\n",
      "test_fe  : friendCount: 2172: Float64Index([-99999.0, 1.0, 2.0, 3.0, 4.0, 5.0, 8.0], dtype='float64')\n",
      "train_fe : subscriberCount: 1525: Float64Index([-99999.0, 13.0, 47.0, 30.0, 65.0, 84.0, 17.0], dtype='float64')\n",
      "test_fe  : subscriberCount: 1016: Float64Index([-99999.0, 72.0, 44.0, 35.0, 18.0, 14.0, 26.0], dtype='float64')\n",
      "train_fe : currentLocationLocationId: 914: Float64Index([         -99999.0, 108458769184495.0, 106388046062960.0,\n",
      "              111711568847056.0, 105667452800809.0, 114668461883395.0,\n",
      "              351759091676222.0],\n",
      "             dtype='float64')\n",
      "test_fe  : currentLocationLocationId: 526: Float64Index([         -99999.0, 108459000000000.0, 106388000000000.0,\n",
      "              111712000000000.0, 114668000000000.0, 105667000000000.0,\n",
      "              103999000000000.0],\n",
      "             dtype='float64')\n",
      "train_fe : currentLocationLatitude: 679: Float64Index([-99999.0, 10.77, 21.0333, 16.0678, 19.8075, 20.8523, 10.9399], dtype='float64')\n",
      "test_fe  : currentLocationLatitude: 426: Float64Index([-99999.0, 10.77, 21.0333, 16.0678, 20.8523, 19.8075, 21.5839], dtype='float64')\n",
      "train_fe : currentLocationLongitude: 589: Float64Index([-99999.0, 106.6815, 105.85, 108.221, 105.77600000000001,\n",
      "              106.7005, 106.868],\n",
      "             dtype='float64')\n",
      "test_fe  : currentLocationLongitude: 379: Float64Index([-99999.0, 106.6815, 105.85, 108.221, 106.7005,\n",
      "              105.77600000000001, 105.83],\n",
      "             dtype='float64')\n",
      "train_fe : homeTownLocationId: 931: Float64Index([         -99999.0, 106388046062960.0, 108458769184495.0,\n",
      "              105667452800809.0, 114668461883395.0, 109167735769857.0,\n",
      "              107983352568918.0],\n",
      "             dtype='float64')\n",
      "test_fe  : homeTownLocationId: 650: Float64Index([         -99999.0, 106388000000000.0, 108459000000000.0,\n",
      "              105667000000000.0, 114668000000000.0, 103999000000000.0,\n",
      "              109311000000000.0],\n",
      "             dtype='float64')\n",
      "train_fe : homeTownLatitude: 642: Float64Index([-99999.0, 21.0333, 10.77, 19.8075, 20.8523, 21.2825, 21.1723], dtype='float64')\n",
      "test_fe  : homeTownLatitude: 502: Float64Index([-99999.0, 21.0333, 10.77, 19.8075, 20.8523, 21.5839, 20.45], dtype='float64')\n",
      "train_fe : homeTownLongitude: 521: Float64Index([          -99999.0,             105.85,           106.6815,\n",
      "              105.77600000000001,           106.7005,            106.333,\n",
      "              106.20100000000001],\n",
      "             dtype='float64')\n",
      "test_fe  : homeTownLongitude: 402: Float64Index([-99999.0, 105.85, 106.6815, 105.77600000000001, 106.7005,\n",
      "              106.333, 105.83],\n",
      "             dtype='float64')\n",
      "train_fe : data.basic_info.locale: 28: CategoricalIndex(['nan', 'vi_vn', 'en_us', 'zh_tw', 'en_gb', 'es_la', 'pt_br'], categories=['_vn', 'af_za', 'ar_ar', 'cb_iq', 'cs_cz', 'cy_gb', 'de_de', 'en_gb', ...], ordered=False, dtype='category')\n",
      "test_fe  : data.basic_info.locale: 28: CategoricalIndex(['nan', 'vi_vn', 'en_us', 'zh_tw', 'en_gb', 'es_la', 'pt_br'], categories=['_vn', 'af_za', 'ar_ar', 'cb_iq', 'cs_cz', 'cy_gb', 'de_de', 'en_gb', ...], ordered=False, dtype='category')\n",
      "train_fe : currentLocationCountry: 52: CategoricalIndex(['nan', 'vietnam', 'united states', 'japan', 'south korea',\n",
      "                  'china', 'taiwan'],\n",
      "                 categories=['angola', 'argentina', 'australia', 'bangladesh', 'bulgaria', 'cambodia', 'canada', 'china', ...], ordered=False, dtype='category')\n",
      "test_fe  : currentLocationCountry: 52: CategoricalIndex(['nan', 'vietnam', 'united states', 'japan', 'malaysia',\n",
      "                  'south korea', 'united kingdom'],\n",
      "                 categories=['angola', 'argentina', 'australia', 'bangladesh', 'bulgaria', 'cambodia', 'canada', 'china', ...], ordered=False, dtype='category')\n",
      "train_fe : currentLocationState: 236: CategoricalIndex(['nan', 'ho chi minh city', 'hanoi', 'đồng nai province',\n",
      "                  'haiphong', 'da nang', 'thanh hóa province'],\n",
      "                 categories=['abu dhabi', 'aichi prefecture', 'ailinglaplap atoll', 'akershus', 'alabama', 'an giang province', 'antioquia', 'arizona', ...], ordered=False, dtype='category')\n",
      "test_fe  : currentLocationState: 236: CategoricalIndex(['nan', 'ho chi minh city', 'hanoi', 'đồng nai province',\n",
      "                  'da nang', 'haiphong', 'thanh hóa province'],\n",
      "                 categories=['abu dhabi', 'aichi prefecture', 'ailinglaplap atoll', 'akershus', 'alabama', 'an giang province', 'antioquia', 'arizona', ...], ordered=False, dtype='category')\n",
      "train_fe : homeTownCountry: 45: CategoricalIndex(['nan', 'vietnam', 'united states', 'malaysia', 'south korea',\n",
      "                  'china', 'united kingdom'],\n",
      "                 categories=['angola', 'australia', 'bahrain', 'bangladesh', 'cambodia', 'china', 'czech republic', 'democratic republic of the congo', ...], ordered=False, dtype='category')\n",
      "test_fe  : homeTownCountry: 45: CategoricalIndex(['nan', 'vietnam', 'united states', 'china', 'malaysia',\n",
      "                  'south korea', 'united kingdom'],\n",
      "                 categories=['angola', 'australia', 'bahrain', 'bangladesh', 'cambodia', 'china', 'czech republic', 'democratic republic of the congo', ...], ordered=False, dtype='category')\n",
      "train_fe : homeTownState: 170: CategoricalIndex(['nan', 'hanoi', 'ho chi minh city', 'thanh hóa province',\n",
      "                  'nghệ an province', 'đồng nai province', 'haiphong'],\n",
      "                 categories=['abu dhabi', 'an giang province', 'arizona', 'bandundu', 'bangkok', 'barisal division', 'beijing', 'berlin', ...], ordered=False, dtype='category')\n",
      "test_fe  : homeTownState: 170: CategoricalIndex(['nan', 'hanoi', 'ho chi minh city', 'thanh hóa province',\n",
      "                  'nghệ an province', 'haiphong', 'đồng nai province'],\n",
      "                 categories=['abu dhabi', 'an giang province', 'arizona', 'bandundu', 'bangkok', 'barisal division', 'beijing', 'berlin', ...], ordered=False, dtype='category')\n",
      "train_fe : topFriends: 6: Float64Index([-99999.0, 5.0, 1.0, 2.0, 3.0, 4.0], dtype='float64')\n",
      "test_fe  : topFriends: 6: Float64Index([-99999.0, 5.0, 1.0, 2.0, 3.0, 4.0], dtype='float64')\n",
      "train_fe : numOrg: 20: Float64Index([2.0, 3.0, 4.0, 1.0, 0.0, 5.0, -99999.0], dtype='float64')\n",
      "test_fe  : numOrg: 20: Float64Index([1.0, 2.0, -99999.0, 0.0, 3.0, 4.0, 5.0], dtype='float64')\n",
      "train_fe : F_numOrg: 7: Float64Index([-99999.0, 1.0, 2.0, 3.0, 4.0, 5.0, 6.0], dtype='float64')\n",
      "test_fe  : F_numOrg: 7: Float64Index([-99999.0, 1.0, 2.0, 3.0, 4.0, 5.0, 6.0], dtype='float64')\n",
      "train_fe : F_numQuery: 16: Float64Index([-99999.0, 1.0, 2.0, 3.0, 4.0, 5.0, 6.0], dtype='float64')\n",
      "test_fe  : F_numQuery: 14: Float64Index([-99999.0, 1.0, 2.0, 3.0, 4.0, 5.0, 6.0], dtype='float64')\n",
      "train_fe : E_numOrg: 8: Float64Index([-99999.0, 1.0, 2.0, 3.0, 4.0, 5.0, 6.0], dtype='float64')\n",
      "test_fe  : E_numOrg: 7: Float64Index([-99999.0, 1.0, 2.0, 3.0, 4.0, 5.0, 6.0], dtype='float64')\n",
      "train_fe : E_numQuery: 16: Float64Index([-99999.0, 1.0, 2.0, 3.0, 4.0, 5.0, 6.0], dtype='float64')\n",
      "test_fe  : E_numQuery: 57: Float64Index([-99999.0, 1.0, 2.0, 3.0, 4.0, 5.0, 6.0], dtype='float64')\n",
      "train_fe : C_numOrg: 4: Float64Index([-99999.0, 1.0, 2.0, 3.0], dtype='float64')\n",
      "test_fe  : C_numOrg: 4: Float64Index([-99999.0, 1.0, 2.0, 3.0], dtype='float64')\n",
      "train_fe : C_numQuery: 77: Float64Index([-99999.0, 1.0, 2.0, 3.0, 4.0, 5.0, 6.0], dtype='float64')\n",
      "test_fe  : C_numQuery: 70: Float64Index([-99999.0, 1.0, 2.0, 3.0, 4.0, 5.0, 6.0], dtype='float64')\n",
      "train_fe : G_numOrg: 5: Float64Index([-99999.0, 1.0, 2.0, 3.0, 4.0], dtype='float64')\n",
      "test_fe  : G_numOrg: 6: Float64Index([-99999.0, 1.0, 2.0, 3.0, 4.0, 5.0], dtype='float64')\n",
      "train_fe : G_numQuery: 11: Float64Index([-99999.0, 1.0, 2.0, 3.0, 4.0, 5.0, 6.0], dtype='float64')\n",
      "test_fe  : G_numQuery: 12: Float64Index([-99999.0, 1.0, 2.0, 3.0, 4.0, 5.0, 6.0], dtype='float64')\n",
      "train_fe : A_numOrg: 15: Float64Index([-99999.0, 2.0, 3.0, 1.0, 4.0, 5.0, 6.0], dtype='float64')\n",
      "test_fe  : A_numOrg: 17: Float64Index([-99999.0, 2.0, 1.0, 3.0, 4.0, 5.0, 6.0], dtype='float64')\n",
      "train_fe : A_numQuery: 37: Float64Index([-99999.0, 2.0, 3.0, 1.0, 4.0, 5.0, 6.0], dtype='float64')\n",
      "test_fe  : A_numQuery: 39: Float64Index([-99999.0, 1.0, 2.0, 3.0, 4.0, 5.0, 6.0], dtype='float64')\n"
     ]
    },
    {
     "name": "stdout",
     "output_type": "stream",
     "text": [
      "train_fe : summary_6m: 104: Float64Index([-99999.0, 1.0, 2.0, 7.0, 8.0, 6.0, 3.0], dtype='float64')\n",
      "test_fe  : summary_6m: 120: Float64Index([-99999.0, 2.0, 1.0, 3.0, 8.0, 7.0, 5.0], dtype='float64')\n",
      "train_fe : summary_3m: 95: Float64Index([-99999.0, 1.0, 2.0, 7.0, 6.0, 5.0, 8.0], dtype='float64')\n",
      "test_fe  : summary_3m: 118: Float64Index([-99999.0, 2.0, 1.0, 3.0, 8.0, 5.0, 6.0], dtype='float64')\n",
      "train_fe : summary_1m: 81: Float64Index([-99999.0, 1.0, 2.0, 5.0, 6.0, 7.0, 3.0], dtype='float64')\n",
      "test_fe  : summary_1m: 110: Float64Index([-99999.0, 2.0, 1.0, 3.0, 5.0, 8.0, 4.0], dtype='float64')\n",
      "train_fe : summary_1w: 52: Float64Index([-99999.0, 1.0, 2.0, 5.0, 6.0, 3.0, 4.0], dtype='float64')\n",
      "test_fe  : summary_1w: 64: Float64Index([-99999.0, 1.0, 2.0, 5.0, 3.0, 4.0, 6.0], dtype='float64')\n",
      "train_fe : partner0_A: 3: Float64Index([0.0, 1.0, -99999.0], dtype='float64')\n",
      "test_fe  : partner0_A: 3: Float64Index([0.0, 1.0, -99999.0], dtype='float64')\n",
      "train_fe : partner0_B: 2: Float64Index([0.0, -99999.0], dtype='float64')\n",
      "test_fe  : partner0_B: 2: Float64Index([0.0, -99999.0], dtype='float64')\n",
      "train_fe : partner0_C: 3: Float64Index([0.0, 1.0, -99999.0], dtype='float64')\n",
      "test_fe  : partner0_C: 3: Float64Index([0.0, 1.0, -99999.0], dtype='float64')\n",
      "train_fe : partner0_D: 3: Float64Index([0.0, 1.0, -99999.0], dtype='float64')\n",
      "test_fe  : partner0_D: 3: Float64Index([0.0, 1.0, -99999.0], dtype='float64')\n",
      "train_fe : partner0_E: 3: Float64Index([0.0, 1.0, -99999.0], dtype='float64')\n",
      "test_fe  : partner0_E: 3: Float64Index([0.0, 1.0, -99999.0], dtype='float64')\n",
      "train_fe : partner0_F: 3: Float64Index([0.0, 1.0, -99999.0], dtype='float64')\n",
      "test_fe  : partner0_F: 3: Float64Index([0.0, 1.0, -99999.0], dtype='float64')\n",
      "train_fe : partner0_G: 3: Float64Index([0.0, 1.0, -99999.0], dtype='float64')\n",
      "test_fe  : partner0_G: 3: Float64Index([0.0, 1.0, -99999.0], dtype='float64')\n",
      "train_fe : partner0_H: 3: Float64Index([0.0, -99999.0, 1.0], dtype='float64')\n",
      "test_fe  : partner0_H: 3: Float64Index([0.0, 1.0, -99999.0], dtype='float64')\n",
      "train_fe : partner1_A: 3: Float64Index([0.0, 1.0, -99999.0], dtype='float64')\n",
      "test_fe  : partner1_A: 3: Float64Index([1.0, 0.0, -99999.0], dtype='float64')\n",
      "train_fe : partner1_C: 3: Float64Index([0.0, -99999.0, 1.0], dtype='float64')\n",
      "test_fe  : partner1_C: 3: Float64Index([0.0, -99999.0, 1.0], dtype='float64')\n",
      "train_fe : partner1_G: 3: Float64Index([0.0, -99999.0, 1.0], dtype='float64')\n",
      "test_fe  : partner1_G: 3: Float64Index([0.0, 1.0, -99999.0], dtype='float64')\n",
      "train_fe : partner1_H: 3: Float64Index([0.0, -99999.0, 1.0], dtype='float64')\n",
      "test_fe  : partner1_H: 3: Float64Index([0.0, -99999.0, 1.0], dtype='float64')\n",
      "train_fe : partner2_A: 3: Float64Index([0.0, -99999.0, 1.0], dtype='float64')\n",
      "test_fe  : partner2_A: 3: Float64Index([0.0, -99999.0, 1.0], dtype='float64')\n",
      "train_fe : partner2_C: 3: Float64Index([0.0, -99999.0, 1.0], dtype='float64')\n",
      "test_fe  : partner2_C: 3: Float64Index([0.0, -99999.0, 1.0], dtype='float64')\n",
      "train_fe : partner2_D: 3: Float64Index([0.0, -99999.0, 1.0], dtype='float64')\n",
      "test_fe  : partner2_D: 3: Float64Index([0.0, -99999.0, 1.0], dtype='float64')\n",
      "train_fe : partner2_F: 3: Float64Index([0.0, -99999.0, 1.0], dtype='float64')\n",
      "test_fe  : partner2_F: 3: Float64Index([0.0, -99999.0, 1.0], dtype='float64')\n",
      "train_fe : partner2_H: 3: Float64Index([0.0, -99999.0, 1.0], dtype='float64')\n",
      "test_fe  : partner2_H: 3: Float64Index([0.0, -99999.0, 1.0], dtype='float64')\n",
      "train_fe : partner3_A: 3: Float64Index([0.0, 1.0, -99999.0], dtype='float64')\n",
      "test_fe  : partner3_A: 3: Float64Index([0.0, 1.0, -99999.0], dtype='float64')\n",
      "train_fe : partner3_D: 3: Float64Index([0.0, 1.0, -99999.0], dtype='float64')\n",
      "test_fe  : partner3_D: 3: Float64Index([0.0, 1.0, -99999.0], dtype='float64')\n",
      "train_fe : partner3_E: 3: Float64Index([0.0, -99999.0, 1.0], dtype='float64')\n",
      "test_fe  : partner3_E: 3: Float64Index([0.0, -99999.0, 1.0], dtype='float64')\n",
      "train_fe : partner4_L: 3: Float64Index([0.0, 1.0, -99999.0], dtype='float64')\n",
      "test_fe  : partner4_L: 3: Float64Index([0.0, 1.0, -99999.0], dtype='float64')\n",
      "train_fe : partner5_A: 3: Float64Index([0.0, 1.0, -99999.0], dtype='float64')\n",
      "test_fe  : partner5_A: 3: Float64Index([0.0, 1.0, -99999.0], dtype='float64')\n",
      "train_fe : partner5_D: 3: Float64Index([0.0, -99999.0, 1.0], dtype='float64')\n",
      "test_fe  : partner5_D: 2: Float64Index([0.0, -99999.0], dtype='float64')\n",
      "train_fe : partner5_G: 3: Float64Index([0.0, -99999.0, 1.0], dtype='float64')\n",
      "test_fe  : partner5_G: 3: Float64Index([0.0, -99999.0, 1.0], dtype='float64')\n",
      "train_fe : brief: 21: CategoricalIndex(['0', '1', '2', 'notfound', '3', '2cy', '4'], categories=['0', '1', '1cy', '2', '2cy', '3', '3cy', '4', ...], ordered=False, dtype='category')\n",
      "test_fe  : brief: 21: CategoricalIndex(['1', '0', 'nan', '2', 'notfound', '3', '4'], categories=['0', '1', '1cy', '2', '2cy', '3', '3cy', '4', ...], ordered=False, dtype='category')\n",
      "train_fe : num_of_phone: 6: Float64Index([1.0, 2.0, -99999.0, 3.0, 4.0, 5.0], dtype='float64')\n",
      "test_fe  : num_of_phone: 6: Float64Index([1.0, 2.0, -99999.0, 3.0, 4.0, 5.0], dtype='float64')\n",
      "train_fe : Field_78: 428: Float64Index([-99999.0, 0.0, 1.0, 2.0, 3.0, 4.0, 5.0], dtype='float64')\n",
      "test_fe  : Field_78: 446: Float64Index([-99999.0, 0.0, 1.0, 2.0, 6.0, 5.0, 3.0], dtype='float64')\n",
      "train_fe : Field_79: 11037: Float64Index([          -99999.0,                0.0, 0.7071067811865476,\n",
      "              1.4142135623730951, 3.5355339059327378, 2.1213203435596424,\n",
      "              2.8284271247461903],\n",
      "             dtype='float64')\n",
      "test_fe  : Field_79: 6062: Float64Index([          -99999.0,                0.0, 0.7071067809999999,\n",
      "              1.4142135619999998,        2.121320344, 3.5355339060000004,\n",
      "                     2.828427125],\n",
      "             dtype='float64')\n",
      "train_fe : Field_80: 2840: Float64Index([-99999.0, 0.0, 1.0, 2.0, 3.0, 4.0, 6.0], dtype='float64')\n",
      "test_fe  : Field_80: 2633: Float64Index([-99999.0, 0.0, 1.0, 2.0, 3.0, 5.0, 4.0], dtype='float64')\n",
      "train_fe : Field_81: 422: Float64Index([-99999.0, 0.0, 1.0, 2.0, 3.0, 4.0, 5.0], dtype='float64')\n",
      "test_fe  : Field_81: 443: Float64Index([-99999.0, 0.0, 1.0, 2.0, 3.0, 4.0, 5.0], dtype='float64')\n",
      "train_fe : Field_82: 4: Int64Index([1, 4, 2, 3], dtype='int64')\n",
      "test_fe  : Field_82: 4: Int64Index([1, 4, 3, 2], dtype='int64')\n",
      "train_fe : Field_5Field_6: 645: Float64Index([-99999.0, 0.0, 183.0, -2.0, -8.0, -13.0, -5.0], dtype='float64')\n",
      "test_fe  : Field_5Field_6: 456: Float64Index([-99999.0, 0.0, -20.0, -30.0, -2.0, 183.0, -33.0], dtype='float64')\n",
      "train_fe : Field_1Field_2: 371: Float64Index([-99999.0, 0.0, 1.0, 2.0, 3.0, 4.0, 5.0], dtype='float64')\n",
      "test_fe  : Field_1Field_2: 283: Float64Index([-99999.0, 0.0, 1.0, 2.0, 3.0, 4.0, 6.0], dtype='float64')\n",
      "train_fe : Field_1Field_43: 1351: Float64Index([-99999.0, 0.0, -706.0, 234.0, -705.0, -707.0, -708.0], dtype='float64')\n",
      "test_fe  : Field_1Field_43: 1206: Float64Index([-99999.0, 0.0, -706.0, -708.0, -704.0, -705.0, -707.0], dtype='float64')\n",
      "train_fe : Field_1Field_44: 1925: Float64Index([-99999.0, 824.0, 267.0, 269.0, 265.0, 183.0, 273.0], dtype='float64')\n",
      "test_fe  : Field_1Field_44: 1570: Float64Index([-99999.0, 265.0, 273.0, 182.0, 824.0, 183.0, 269.0], dtype='float64')\n",
      "train_fe : Field_1Field_7: 1336: Float64Index([-99999.0, 5.0, 6.0, 4.0, 7.0, 3.0, 8.0], dtype='float64')\n",
      "test_fe  : Field_1Field_7: 958: Float64Index([-99999.0, 5.0, 6.0, 4.0, 7.0, 3.0, 0.0], dtype='float64')\n",
      "train_fe : Field_1Field_8: 1404: Float64Index([-99999.0, 369.0, 370.0, 368.0, 371.0, 367.0, 372.0], dtype='float64')\n",
      "test_fe  : Field_1Field_8: 897: Float64Index([-99999.0, 369.0, 370.0, 368.0, 371.0, 367.0, 372.0], dtype='float64')\n",
      "train_fe : Field_1Field_9: 1351: Float64Index([-99999.0, 0.0, 1.0, -7.0, -70.0, -62.0, -28.0], dtype='float64')\n",
      "test_fe  : Field_1Field_9: 786: Float64Index([-99999.0, 0.0, 1.0, -7.0, -94.0, -344.0, -62.0], dtype='float64')\n",
      "train_fe : Field_2Field_43: 1342: Float64Index([-99999.0, 0.0, 234.0, -706.0, -672.0, -705.0, -704.0], dtype='float64')\n",
      "test_fe  : Field_2Field_43: 1195: Float64Index([-99999.0, 0.0, -672.0, -706.0, 234.0, -707.0, -705.0], dtype='float64')\n",
      "train_fe : Field_2Field_44: 1936: Float64Index([-99999.0, 824.0, 0.0, 181.0, 182.0, 267.0, 180.0], dtype='float64')\n",
      "test_fe  : Field_2Field_44: 1571: Float64Index([-99999.0, 182.0, 181.0, 0.0, 824.0, 184.0, 270.0], dtype='float64')\n",
      "train_fe : Field_2Field_7: 1314: Float64Index([-99999.0, 4.0, 5.0, 6.0, -364.0, 1.0, -1.0], dtype='float64')\n",
      "test_fe  : Field_2Field_7: 928: Float64Index([-99999.0, 4.0, 5.0, 6.0, -364.0, -1.0, 7.0], dtype='float64')\n",
      "train_fe : Field_2Field_8: 1417: Float64Index([-99999.0, 0.0, 368.0, 369.0, 367.0, 370.0, 371.0], dtype='float64')\n",
      "test_fe  : Field_2Field_8: 915: Float64Index([-99999.0, 0.0, 368.0, 369.0, 370.0, 367.0, 371.0], dtype='float64')\n",
      "train_fe : Field_2Field_9: 1364: Float64Index([-99999.0, 0.0, -1.0, -2.0, -3.0, -4.0, -5.0], dtype='float64')\n",
      "test_fe  : Field_2Field_9: 799: Float64Index([-99999.0, 0.0, -1.0, -2.0, -3.0, -4.0, -6.0], dtype='float64')\n",
      "train_fe : Field_43Field_44: 1314: Float64Index([-99999.0, 824.0, 0.0, 944.0, 974.0, 720.0, 887.0], dtype='float64')\n",
      "test_fe  : Field_43Field_44: 1142: Float64Index([-99999.0, 824.0, 0.0, 944.0, 720.0, 974.0, 976.0], dtype='float64')\n",
      "train_fe : Field_43Field_7: 2087: Float64Index([-99999.0, 648.0, 456.0, 713.0, 655.0, 682.0, 711.0], dtype='float64')\n",
      "test_fe  : Field_43Field_7: 1600: Float64Index([-99999.0, 648.0, 456.0, 713.0, 655.0, 669.0, 711.0], dtype='float64')\n",
      "train_fe : Field_43Field_8: 2173: Float64Index([-99999.0, 1012.0, 820.0, 1077.0, 1033.0, 1074.0, 1019.0], dtype='float64')\n",
      "test_fe  : Field_43Field_8: 1626: Float64Index([-99999.0, 1012.0, 820.0, 1033.0, 1077.0, 1019.0, 1074.0], dtype='float64')\n",
      "train_fe : Field_43Field_9: 2525: Float64Index([-99999.0, 706.0, 705.0, 708.0, 704.0, 707.0, 710.0], dtype='float64')\n",
      "test_fe  : Field_43Field_9: 1720: Float64Index([-99999.0, 706.0, 708.0, 705.0, 704.0, 707.0, 710.0], dtype='float64')\n",
      "train_fe : Field_44Field_7: 2766: Float64Index([-99999.0, -176.0, -261.0, -272.0, -260.0, -266.0, -269.0], dtype='float64')\n",
      "test_fe  : Field_44Field_7: 1838: Float64Index([-99999.0, -176.0, -261.0, -272.0, -260.0, -268.0, -265.0], dtype='float64')\n",
      "train_fe : Field_44Field_8: 2911: Float64Index([-99999.0, 188.0, 92.0, 103.0, 96.0, 186.0, 104.0], dtype='float64')\n",
      "test_fe  : Field_44Field_8: 1978: Float64Index([-99999.0, 188.0, 92.0, 103.0, 104.0, 96.0, 95.0], dtype='float64')\n",
      "train_fe : Field_44Field_9: 2962: Float64Index([-99999.0, -267.0, -273.0, -269.0, -183.0, -265.0, -268.0], dtype='float64')\n",
      "test_fe  : Field_44Field_9: 1952: Float64Index([-99999.0, -273.0, -265.0, -182.0, -267.0, -270.0, -268.0], dtype='float64')\n",
      "train_fe : Field_7Field_8: 587: Float64Index([-99999.0, 364.0, 365.0, 358.0, 355.0, 730.0, 361.0], dtype='float64')\n",
      "test_fe  : Field_7Field_8: 435: Float64Index([-99999.0, 364.0, 365.0, 355.0, 358.0, 730.0, 361.0], dtype='float64')\n",
      "train_fe : Field_7Field_9: 653: Float64Index([-99999.0, -5.0, -4.0, -6.0, 0.0, -7.0, -3.0], dtype='float64')\n",
      "test_fe  : Field_7Field_9: 561: Float64Index([-99999.0, -5.0, -4.0, -6.0, -7.0, 0.0, -3.0], dtype='float64')\n",
      "train_fe : Field_8Field_9: 704: Float64Index([-99999.0, -369.0, -368.0, -370.0, -371.0, -367.0, -372.0], dtype='float64')\n",
      "test_fe  : Field_8Field_9: 567: Float64Index([-99999.0, -369.0, -368.0, -370.0, -371.0, -367.0, -372.0], dtype='float64')\n",
      "train_fe : F_startDateF_endDate: 185: Float64Index([-99999.0, 0.0, 1.0, 2.0, 31.0, 3.0, 32.0], dtype='float64')\n",
      "test_fe  : F_startDateF_endDate: 223: Float64Index([-99999.0, 0.0, 1.0, 2.0, 3.0, 4.0, 7.0], dtype='float64')\n",
      "train_fe : E_startDateE_endDate: 186: Float64Index([-99999.0, 0.0, 1.0, 2.0, 3.0, 31.0, 32.0], dtype='float64')\n",
      "test_fe  : E_startDateE_endDate: 220: Float64Index([-99999.0, 0.0, 1.0, 2.0, 3.0, 4.0, 6.0], dtype='float64')\n"
     ]
    },
    {
     "name": "stdout",
     "output_type": "stream",
     "text": [
      "train_fe : C_startDateC_endDate: 156: Float64Index([-99999.0, 0.0, 31.0, 1.0, 32.0, 30.0, 33.0], dtype='float64')\n",
      "test_fe  : C_startDateC_endDate: 182: Float64Index([-99999.0, 0.0, 1.0, 2.0, 31.0, 3.0, 32.0], dtype='float64')\n",
      "train_fe : G_startDateG_endDate: 158: Float64Index([-99999.0, 0.0, 1.0, 2.0, 3.0, 4.0, 8.0], dtype='float64')\n",
      "test_fe  : G_startDateG_endDate: 208: Float64Index([-99999.0, 0.0, 1.0, 2.0, 3.0, 4.0, 5.0], dtype='float64')\n",
      "train_fe : A_startDateA_endDate: 355: Float64Index([-99999.0, 0.0, 1.0, 2.0, 3.0, 5.0, 4.0], dtype='float64')\n",
      "test_fe  : A_startDateA_endDate: 378: Float64Index([-99999.0, 0.0, 1.0, 2.0, 3.0, 10.0, 5.0], dtype='float64')\n",
      "train_fe : gender: 3: CategoricalIndex(['missing_gender', 'MALE', 'FEMALE'], categories=['FEMALE', 'MALE', 'missing_gender'], ordered=False, dtype='category')\n",
      "test_fe  : gender: 3: CategoricalIndex(['missing_gender', 'MALE', 'FEMALE'], categories=['FEMALE', 'MALE', 'missing_gender'], ordered=False, dtype='category')\n",
      "train_fe : Age: 72: Float64Index([-99999.0, 29.0, 30.0, 28.0, 27.0, 26.0, 31.0], dtype='float64')\n",
      "test_fe  : Age: 55: Float64Index([-99999.0, 30.0, 28.0, 29.0, 27.0, 25.0, 31.0], dtype='float64')\n"
     ]
    }
   ],
   "source": [
    "for col in train_fe.iloc[:,2:].columns:\n",
    "    vc1 = train_fe[col].value_counts()\n",
    "    vc2 = test_fe[col].value_counts()\n",
    "    print(f\"train_fe : {col}: {len(vc1)}: {vc1.index[:7]}\")\n",
    "    print(f\"test_fe  : {col}: {len(vc2)}: {vc2.index[:7]}\")"
   ]
  },
  {
   "cell_type": "code",
   "execution_count": 25,
   "metadata": {
    "ExecuteTime": {
     "end_time": "2020-08-04T03:50:53.248028Z",
     "start_time": "2020-08-04T03:50:53.242102Z"
    }
   },
   "outputs": [
    {
     "data": {
      "text/plain": [
       "-99999.0    27466\n",
       " 1.0        23354\n",
       " 2.0         1978\n",
       " 3.0          201\n",
       " 4.0           26\n",
       " 5.0            3\n",
       " 0.0            2\n",
       "Name: Field_10, dtype: int64"
      ]
     },
     "execution_count": 25,
     "metadata": {},
     "output_type": "execute_result"
    }
   ],
   "source": [
    "train_fe.Field_10.value_counts()"
   ]
  },
  {
   "cell_type": "code",
   "execution_count": 26,
   "metadata": {
    "ExecuteTime": {
     "end_time": "2020-08-04T03:50:53.311361Z",
     "start_time": "2020-08-04T03:50:53.249356Z"
    }
   },
   "outputs": [
    {
     "data": {
      "text/plain": [
       "-99999.0    11321\n",
       " 1.0         8224\n",
       " 2.0          767\n",
       " 3.0           60\n",
       " 4.0            8\n",
       " 5.0            1\n",
       "Name: Field_10, dtype: int64"
      ]
     },
     "execution_count": 26,
     "metadata": {},
     "output_type": "execute_result"
    }
   ],
   "source": [
    "test_fe.Field_10.value_counts()"
   ]
  },
  {
   "cell_type": "code",
   "execution_count": 27,
   "metadata": {
    "ExecuteTime": {
     "end_time": "2020-08-04T03:50:53.375751Z",
     "start_time": "2020-08-04T03:50:53.313242Z"
    }
   },
   "outputs": [],
   "source": [
    "data_version = \"02-01-2021-v3\""
   ]
  },
  {
   "cell_type": "code",
   "execution_count": 28,
   "metadata": {
    "ExecuteTime": {
     "end_time": "2020-08-04T03:51:01.807394Z",
     "start_time": "2020-08-04T03:50:53.378605Z"
    }
   },
   "outputs": [],
   "source": [
    "os.makedirs(f\"../../data/kalapa/{data_version}/\", exist_ok=True)\n",
    "df_train.to_csv(f\"../../data/kalapa/{data_version}/train.csv\", index = False)\n",
    "test_fe.to_csv(f\"../../data/kalapa/{data_version}/test.csv\", index = False)"
   ]
  }
 ],
 "metadata": {
  "kernelspec": {
   "display_name": "Python 3",
   "language": "python",
   "name": "python3"
  },
  "language_info": {
   "codemirror_mode": {
    "name": "ipython",
    "version": 3
   },
   "file_extension": ".py",
   "mimetype": "text/x-python",
   "name": "python",
   "nbconvert_exporter": "python",
   "pygments_lexer": "ipython3",
   "version": "3.7.7"
  },
  "varInspector": {
   "cols": {
    "lenName": 16,
    "lenType": 16,
    "lenVar": 40
   },
   "kernels_config": {
    "python": {
     "delete_cmd_postfix": "",
     "delete_cmd_prefix": "del ",
     "library": "var_list.py",
     "varRefreshCmd": "print(var_dic_list())"
    },
    "r": {
     "delete_cmd_postfix": ") ",
     "delete_cmd_prefix": "rm(",
     "library": "var_list.r",
     "varRefreshCmd": "cat(var_dic_list()) "
    }
   },
   "types_to_exclude": [
    "module",
    "function",
    "builtin_function_or_method",
    "instance",
    "_Feature"
   ],
   "window_display": false
  }
 },
 "nbformat": 4,
 "nbformat_minor": 4
}
