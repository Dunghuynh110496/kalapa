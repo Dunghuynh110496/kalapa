{
 "cells": [
  {
   "cell_type": "code",
   "execution_count": 1,
   "metadata": {
    "ExecuteTime": {
     "end_time": "2020-07-18T02:52:32.590570Z",
     "start_time": "2020-07-18T02:52:32.267418Z"
    }
   },
   "outputs": [],
   "source": [
    "import pandas as pd\n",
    "import numpy as np\n",
    "import datetime\n",
    "import time\n",
    "from dateutil.parser import parse"
   ]
  },
  {
   "cell_type": "code",
   "execution_count": 2,
   "metadata": {
    "ExecuteTime": {
     "end_time": "2020-07-18T02:52:32.595113Z",
     "start_time": "2020-07-18T02:52:32.592641Z"
    }
   },
   "outputs": [],
   "source": [
    "data_version = \"17-07-2020\""
   ]
  },
  {
   "cell_type": "code",
   "execution_count": 3,
   "metadata": {
    "ExecuteTime": {
     "end_time": "2020-07-18T02:52:34.145357Z",
     "start_time": "2020-07-18T02:52:32.596663Z"
    }
   },
   "outputs": [
    {
     "name": "stderr",
     "output_type": "stream",
     "text": [
      "/home/parker/anaconda3/envs/py37/lib/python3.7/site-packages/IPython/core/interactiveshell.py:3072: DtypeWarning: Columns (35,43) have mixed types.Specify dtype option on import or set low_memory=False.\n",
      "  interactivity=interactivity, compiler=compiler, result=result)\n",
      "/home/parker/anaconda3/envs/py37/lib/python3.7/site-packages/IPython/core/interactiveshell.py:3072: DtypeWarning: Columns (34,42) have mixed types.Specify dtype option on import or set low_memory=False.\n",
      "  interactivity=interactivity, compiler=compiler, result=result)\n"
     ]
    }
   ],
   "source": [
    "df_train = pd.read_csv(\"../../data/kalapa/train.csv\")\n",
    "df_test = pd.read_csv(\"../../data/kalapa/test.csv\")"
   ]
  },
  {
   "cell_type": "code",
   "execution_count": 4,
   "metadata": {
    "ExecuteTime": {
     "end_time": "2020-07-18T02:52:35.558474Z",
     "start_time": "2020-07-18T02:52:34.146884Z"
    }
   },
   "outputs": [],
   "source": [
    "def check_duplicate(feature1, feature2):\n",
    "    check1 = list(df_train[feature1].fillna(\"NaN\"))\n",
    "    check2 = list(df_train[feature2].fillna(\"NaN\"))\n",
    "    return check1 == check2\n",
    "distinct_columns = {}\n",
    "for col1 in df_train.columns:\n",
    "    vc = df_train[col1].value_counts()\n",
    "    index = [len(vc), set(list(vc)), set(list(vc.index))]\n",
    "    for col2 in distinct_columns:\n",
    "        if index == distinct_columns[col2] and check_duplicate(col1, col2):\n",
    "            break\n",
    "    else:\n",
    "        distinct_columns[col1] = index\n",
    "df_train = df_train[distinct_columns]\n",
    "del distinct_columns['label']\n",
    "df_test = df_test[distinct_columns]"
   ]
  },
  {
   "cell_type": "code",
   "execution_count": 5,
   "metadata": {
    "ExecuteTime": {
     "end_time": "2020-07-18T02:52:35.570071Z",
     "start_time": "2020-07-18T02:52:35.559942Z"
    }
   },
   "outputs": [
    {
     "name": "stdout",
     "output_type": "stream",
     "text": [
      "<class 'pandas.core.frame.DataFrame'>\n",
      "RangeIndex: 20381 entries, 0 to 20380\n",
      "Columns: 148 entries, id to Field_82\n",
      "dtypes: float64(87), int64(2), object(59)\n",
      "memory usage: 23.0+ MB\n"
     ]
    }
   ],
   "source": [
    "df_test.info()"
   ]
  },
  {
   "cell_type": "code",
   "execution_count": 6,
   "metadata": {
    "ExecuteTime": {
     "end_time": "2020-07-18T02:52:35.756009Z",
     "start_time": "2020-07-18T02:52:35.572528Z"
    }
   },
   "outputs": [],
   "source": [
    "data_type = {\n",
    "    \"cat_num\":[\"Field_22\",\"Field_13\", \"Field_41\", \"Field_42\",\"Field_50\", \"Field_51\", \"Field_53\",\\\n",
    "               \"Field_73\",  \"partner0_A\", \"partner0_B\", \"partner0_C\", \"partner0_D\", \"partner0_E\",\\\n",
    "               \"partner0_F\", \"partner0_G\", \"partner0_H\", \"partner1_A\", \"partner1_C\", \"partner1_G\", \"partner1_H\",\\\n",
    "               \"partner2_A\", \"partner2_C\", \"partner2_D\", \"partner2_F\", \"partner2_H\",\"partner3_A\", \"partner3_D\",\\\n",
    "               \"partner3_E\", \"partner4_L\", \"partner5_A\", \"partner5_D\", \"partner5_G\"],\n",
    "    \"cat_str\" : [\"Field_4\", \"Field_12\", \"gioiTinh\", \"Field_62\", \"Field_65\", \"Field_66\",\\\n",
    "                 \"info_social_sex\", \"Field_36\", \"Field_54\", \"Field_55\", \"Field_38\", \"brief\", \"Field_61\", \\\n",
    "                 'data.basic_info.locale', \"currentLocationCountry\", 'homeTownCountry', \"currentLocationState\", \\\n",
    "                'homeTownState'], \n",
    "    \"date\" : [\"Field_1\", \"Field_2\", \"Field_5\", \"Field_6\", \"Field_7\", \"Field_8\", \"Field_9\", \"Field_11\",\\\n",
    "             \"Field_15\", \"Field_25\", \"Field_32\", \"Field_33\", \"Field_35\", \"Field_40\", \\\n",
    "             \"Field_43\", \"Field_44\", \"F_startDate\", \"F_endDate\", \"E_startDate\", \"E_endDate\", \"C_startDate\",\n",
    "             \"C_endDate\", \"G_startDate\", \"G_endDate\", \"A_startDate\", \"A_endDate\",  ],\n",
    "    \"text\" : [\"diaChi\", \"Field_46\", \"Field_48\", \"Field_49\", \"Field_56\",\"Field_18\",\\\n",
    "              \"maCv\", \"currentLocationName\",'homeTownName', \"currentLocationCity\", \"homeTownCity\"],\n",
    "    \"drop\" : [ \"Field_34\",\"Field_68\", \"Field_45\"]\n",
    "}"
   ]
  },
  {
   "cell_type": "code",
   "execution_count": 7,
   "metadata": {
    "ExecuteTime": {
     "end_time": "2020-07-18T02:52:35.899983Z",
     "start_time": "2020-07-18T02:52:35.762407Z"
    }
   },
   "outputs": [
    {
     "data": {
      "text/plain": [
       "'\\na = data_type[\"cat_num\"]+ data_type[\"cat_str\"]+data_type[\"date\"]+data_type[\"text\"]+ data_type[\"drop\"]\\nothers = []\\nfor feature in df_train.columns:\\n    if feature not in a:\\n        vc = df_train[feature].value_counts()\\n        index = [len(vc), list(vc)[:5], list(vc.index)[:5]]\\n        print(f\"{feature}:{index}\")\\n'"
      ]
     },
     "execution_count": 7,
     "metadata": {},
     "output_type": "execute_result"
    }
   ],
   "source": [
    "\"\"\"\n",
    "a = data_type[\"cat_num\"]+ data_type[\"cat_str\"]+data_type[\"date\"]+data_type[\"text\"]+ data_type[\"drop\"]\n",
    "others = []\n",
    "for feature in df_train.columns:\n",
    "    if feature not in a:\n",
    "        vc = df_train[feature].value_counts()\n",
    "        index = [len(vc), list(vc)[:5], list(vc.index)[:5]]\n",
    "        print(f\"{feature}:{index}\")\n",
    "\"\"\""
   ]
  },
  {
   "cell_type": "code",
   "execution_count": 8,
   "metadata": {
    "ExecuteTime": {
     "end_time": "2020-07-18T02:52:35.982900Z",
     "start_time": "2020-07-18T02:52:35.903161Z"
    },
    "code_folding": [],
    "scrolled": true
   },
   "outputs": [
    {
     "data": {
      "text/plain": [
       "'\\nfor column in df_train[data_type[\"drop\"]]:\\n    vc = df_train[column].value_counts()\\n    index = [len(vc), list(vc)[:5], list(vc.index)[:5]]\\n    #if len(vc) <= 2 :\\n    print(f\"{column}:{index}\")\\n'"
      ]
     },
     "execution_count": 8,
     "metadata": {},
     "output_type": "execute_result"
    }
   ],
   "source": [
    "\"\"\"\n",
    "for column in df_train[data_type[\"drop\"]]:\n",
    "    vc = df_train[column].value_counts()\n",
    "    index = [len(vc), list(vc)[:5], list(vc.index)[:5]]\n",
    "    #if len(vc) <= 2 :\n",
    "    print(f\"{column}:{index}\")\n",
    "\"\"\""
   ]
  },
  {
   "cell_type": "code",
   "execution_count": 9,
   "metadata": {
    "ExecuteTime": {
     "end_time": "2020-07-18T02:52:36.063696Z",
     "start_time": "2020-07-18T02:52:35.985648Z"
    }
   },
   "outputs": [],
   "source": [
    "classes_62 = {\n",
    "    \"Zezo\" : 0,\n",
    "    \"I\" : 1,\n",
    "    \"II\" : 2,\n",
    "    \"III\": 3,\n",
    "    \"IV\" : 4,\n",
    "    \"V\" : 5\n",
    "}"
   ]
  },
  {
   "cell_type": "code",
   "execution_count": 10,
   "metadata": {
    "ExecuteTime": {
     "end_time": "2020-07-18T02:52:36.172999Z",
     "start_time": "2020-07-18T02:52:36.065627Z"
    }
   },
   "outputs": [],
   "source": [
    "classes_47 = {\n",
    "    \"Zezo\" : 0,\n",
    "    \"One\" : 1,\n",
    "    \"Two\" : 2,\n",
    "    \"Three\": 3,\n",
    "    \"Four\" : 4\n",
    "}"
   ]
  },
  {
   "cell_type": "code",
   "execution_count": 11,
   "metadata": {
    "ExecuteTime": {
     "end_time": "2020-07-18T02:52:36.246946Z",
     "start_time": "2020-07-18T02:52:36.176448Z"
    },
    "code_folding": []
   },
   "outputs": [],
   "source": [
    "def f34(date):\n",
    "    try:\n",
    "        res = parse(str(date)[:8]).timestamp()\n",
    "        return res\n",
    "    except ValueError:\n",
    "        return np.nan"
   ]
  },
  {
   "cell_type": "code",
   "execution_count": 12,
   "metadata": {
    "ExecuteTime": {
     "end_time": "2020-07-18T02:52:38.279426Z",
     "start_time": "2020-07-18T02:52:36.249252Z"
    }
   },
   "outputs": [],
   "source": [
    "for dataset in [df_train, df_test]:\n",
    "    dataset[\"Field_34\"] = dataset[\"Field_34\"].map(lambda x: f34(x))\n",
    "    dataset[\"Field_47\"] = dataset[\"Field_47\"].map(lambda x: classes_47[x] if x in classes_47 else x)\n",
    "    dataset[\"Field_62\"] = dataset[\"Field_62\"].map(lambda x: classes_62[x] if x in classes_62 else x)"
   ]
  },
  {
   "cell_type": "code",
   "execution_count": 13,
   "metadata": {
    "ExecuteTime": {
     "end_time": "2020-07-18T02:52:38.312996Z",
     "start_time": "2020-07-18T02:52:38.281079Z"
    }
   },
   "outputs": [
    {
     "data": {
      "text/html": [
       "<div>\n",
       "<style scoped>\n",
       "    .dataframe tbody tr th:only-of-type {\n",
       "        vertical-align: middle;\n",
       "    }\n",
       "\n",
       "    .dataframe tbody tr th {\n",
       "        vertical-align: top;\n",
       "    }\n",
       "\n",
       "    .dataframe thead th {\n",
       "        text-align: right;\n",
       "    }\n",
       "</style>\n",
       "<table border=\"1\" class=\"dataframe\">\n",
       "  <thead>\n",
       "    <tr style=\"text-align: right;\">\n",
       "      <th></th>\n",
       "      <th>id</th>\n",
       "      <th>Field_1</th>\n",
       "      <th>Field_2</th>\n",
       "      <th>Field_3</th>\n",
       "      <th>Field_4</th>\n",
       "      <th>Field_5</th>\n",
       "      <th>Field_6</th>\n",
       "      <th>Field_7</th>\n",
       "      <th>Field_8</th>\n",
       "      <th>Field_9</th>\n",
       "      <th>...</th>\n",
       "      <th>partner5_A</th>\n",
       "      <th>partner5_D</th>\n",
       "      <th>partner5_G</th>\n",
       "      <th>brief</th>\n",
       "      <th>num_of_phone</th>\n",
       "      <th>Field_78</th>\n",
       "      <th>Field_79</th>\n",
       "      <th>Field_80</th>\n",
       "      <th>Field_81</th>\n",
       "      <th>Field_82</th>\n",
       "    </tr>\n",
       "  </thead>\n",
       "  <tbody>\n",
       "    <tr>\n",
       "      <th>0</th>\n",
       "      <td>53030</td>\n",
       "      <td>2019-10-14T01:37:41.959Z</td>\n",
       "      <td>2019-10-14T01:37:41.959Z</td>\n",
       "      <td>2.0</td>\n",
       "      <td>T1</td>\n",
       "      <td>8/27/2019</td>\n",
       "      <td>8/27/2019</td>\n",
       "      <td>9/24/2019</td>\n",
       "      <td>9/23/2020</td>\n",
       "      <td>8/27/2019</td>\n",
       "      <td>...</td>\n",
       "      <td>0.0</td>\n",
       "      <td>0.0</td>\n",
       "      <td>0.0</td>\n",
       "      <td>NaN</td>\n",
       "      <td>2.0</td>\n",
       "      <td>NaN</td>\n",
       "      <td>NaN</td>\n",
       "      <td>NaN</td>\n",
       "      <td>NaN</td>\n",
       "      <td>1</td>\n",
       "    </tr>\n",
       "    <tr>\n",
       "      <th>1</th>\n",
       "      <td>53031</td>\n",
       "      <td>2019-09-10T09:20:40.066Z</td>\n",
       "      <td>2019-09-11T07:53:44Z</td>\n",
       "      <td>2.0</td>\n",
       "      <td>T1</td>\n",
       "      <td>9/10/2019</td>\n",
       "      <td>9/10/2019</td>\n",
       "      <td>9/14/2019</td>\n",
       "      <td>9/13/2020</td>\n",
       "      <td>9/10/2019</td>\n",
       "      <td>...</td>\n",
       "      <td>1.0</td>\n",
       "      <td>0.0</td>\n",
       "      <td>0.0</td>\n",
       "      <td>notfound</td>\n",
       "      <td>1.0</td>\n",
       "      <td>NaN</td>\n",
       "      <td>NaN</td>\n",
       "      <td>NaN</td>\n",
       "      <td>NaN</td>\n",
       "      <td>1</td>\n",
       "    </tr>\n",
       "    <tr>\n",
       "      <th>2</th>\n",
       "      <td>53032</td>\n",
       "      <td>NaN</td>\n",
       "      <td>NaN</td>\n",
       "      <td>NaN</td>\n",
       "      <td>NaN</td>\n",
       "      <td>NaN</td>\n",
       "      <td>NaN</td>\n",
       "      <td>NaN</td>\n",
       "      <td>NaN</td>\n",
       "      <td>NaN</td>\n",
       "      <td>...</td>\n",
       "      <td>0.0</td>\n",
       "      <td>0.0</td>\n",
       "      <td>0.0</td>\n",
       "      <td>0</td>\n",
       "      <td>1.0</td>\n",
       "      <td>NaN</td>\n",
       "      <td>NaN</td>\n",
       "      <td>NaN</td>\n",
       "      <td>NaN</td>\n",
       "      <td>1</td>\n",
       "    </tr>\n",
       "    <tr>\n",
       "      <th>3</th>\n",
       "      <td>53033</td>\n",
       "      <td>2019-10-21T03:29:30.074Z</td>\n",
       "      <td>2019-10-21T04:17:26Z</td>\n",
       "      <td>2.0</td>\n",
       "      <td>T1</td>\n",
       "      <td>10/21/2019</td>\n",
       "      <td>10/21/2019</td>\n",
       "      <td>11/15/2019</td>\n",
       "      <td>11/14/2020</td>\n",
       "      <td>10/21/2019</td>\n",
       "      <td>...</td>\n",
       "      <td>0.0</td>\n",
       "      <td>0.0</td>\n",
       "      <td>0.0</td>\n",
       "      <td>NaN</td>\n",
       "      <td>1.0</td>\n",
       "      <td>NaN</td>\n",
       "      <td>NaN</td>\n",
       "      <td>NaN</td>\n",
       "      <td>NaN</td>\n",
       "      <td>1</td>\n",
       "    </tr>\n",
       "    <tr>\n",
       "      <th>4</th>\n",
       "      <td>53034</td>\n",
       "      <td>NaN</td>\n",
       "      <td>NaN</td>\n",
       "      <td>NaN</td>\n",
       "      <td>NaN</td>\n",
       "      <td>NaN</td>\n",
       "      <td>NaN</td>\n",
       "      <td>NaN</td>\n",
       "      <td>NaN</td>\n",
       "      <td>NaN</td>\n",
       "      <td>...</td>\n",
       "      <td>0.0</td>\n",
       "      <td>0.0</td>\n",
       "      <td>0.0</td>\n",
       "      <td>3</td>\n",
       "      <td>1.0</td>\n",
       "      <td>27.0</td>\n",
       "      <td>NaN</td>\n",
       "      <td>27.0</td>\n",
       "      <td>27.0</td>\n",
       "      <td>1</td>\n",
       "    </tr>\n",
       "  </tbody>\n",
       "</table>\n",
       "<p>5 rows × 148 columns</p>\n",
       "</div>"
      ],
      "text/plain": [
       "      id                   Field_1                   Field_2  Field_3 Field_4  \\\n",
       "0  53030  2019-10-14T01:37:41.959Z  2019-10-14T01:37:41.959Z      2.0      T1   \n",
       "1  53031  2019-09-10T09:20:40.066Z      2019-09-11T07:53:44Z      2.0      T1   \n",
       "2  53032                       NaN                       NaN      NaN     NaN   \n",
       "3  53033  2019-10-21T03:29:30.074Z      2019-10-21T04:17:26Z      2.0      T1   \n",
       "4  53034                       NaN                       NaN      NaN     NaN   \n",
       "\n",
       "      Field_5     Field_6     Field_7     Field_8     Field_9  ...  \\\n",
       "0   8/27/2019   8/27/2019   9/24/2019   9/23/2020   8/27/2019  ...   \n",
       "1   9/10/2019   9/10/2019   9/14/2019   9/13/2020   9/10/2019  ...   \n",
       "2         NaN         NaN         NaN         NaN         NaN  ...   \n",
       "3  10/21/2019  10/21/2019  11/15/2019  11/14/2020  10/21/2019  ...   \n",
       "4         NaN         NaN         NaN         NaN         NaN  ...   \n",
       "\n",
       "   partner5_A partner5_D partner5_G     brief num_of_phone Field_78  Field_79  \\\n",
       "0         0.0        0.0        0.0       NaN          2.0      NaN       NaN   \n",
       "1         1.0        0.0        0.0  notfound          1.0      NaN       NaN   \n",
       "2         0.0        0.0        0.0         0          1.0      NaN       NaN   \n",
       "3         0.0        0.0        0.0       NaN          1.0      NaN       NaN   \n",
       "4         0.0        0.0        0.0         3          1.0     27.0       NaN   \n",
       "\n",
       "   Field_80  Field_81  Field_82  \n",
       "0       NaN       NaN         1  \n",
       "1       NaN       NaN         1  \n",
       "2       NaN       NaN         1  \n",
       "3       NaN       NaN         1  \n",
       "4      27.0      27.0         1  \n",
       "\n",
       "[5 rows x 148 columns]"
      ]
     },
     "execution_count": 13,
     "metadata": {},
     "output_type": "execute_result"
    }
   ],
   "source": [
    "df_test.head()"
   ]
  },
  {
   "cell_type": "code",
   "execution_count": 14,
   "metadata": {
    "ExecuteTime": {
     "end_time": "2020-07-18T02:52:44.375139Z",
     "start_time": "2020-07-18T02:52:38.316021Z"
    }
   },
   "outputs": [],
   "source": [
    "df_train.to_csv(\"../../data/kalapa/18-07-2020/train.csv\", index = False)\n",
    "df_test.to_csv(\"../../data/kalapa/18-07-2020/test.csv\", index = False)"
   ]
  }
 ],
 "metadata": {
  "kernelspec": {
   "display_name": "Python 3",
   "language": "python",
   "name": "python3"
  },
  "language_info": {
   "codemirror_mode": {
    "name": "ipython",
    "version": 3
   },
   "file_extension": ".py",
   "mimetype": "text/x-python",
   "name": "python",
   "nbconvert_exporter": "python",
   "pygments_lexer": "ipython3",
   "version": "3.7.7"
  },
  "varInspector": {
   "cols": {
    "lenName": 16,
    "lenType": 16,
    "lenVar": 40
   },
   "kernels_config": {
    "python": {
     "delete_cmd_postfix": "",
     "delete_cmd_prefix": "del ",
     "library": "var_list.py",
     "varRefreshCmd": "print(var_dic_list())"
    },
    "r": {
     "delete_cmd_postfix": ") ",
     "delete_cmd_prefix": "rm(",
     "library": "var_list.r",
     "varRefreshCmd": "cat(var_dic_list()) "
    }
   },
   "types_to_exclude": [
    "module",
    "function",
    "builtin_function_or_method",
    "instance",
    "_Feature"
   ],
   "window_display": false
  }
 },
 "nbformat": 4,
 "nbformat_minor": 4
}
