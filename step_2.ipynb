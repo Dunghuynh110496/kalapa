{
 "cells": [
  {
   "cell_type": "code",
   "execution_count": 1,
   "metadata": {
    "ExecuteTime": {
     "end_time": "2020-08-05T10:48:28.932773Z",
     "start_time": "2020-08-05T10:48:28.190902Z"
    }
   },
   "outputs": [],
   "source": [
    "import pandas as pd\n",
    "from sklearn.model_selection import StratifiedKFold\n",
    "from sklearn.metrics import roc_auc_score\n",
    "import lightgbm as lgb\n",
    "import numpy as np"
   ]
  },
  {
   "cell_type": "code",
   "execution_count": 2,
   "metadata": {
    "ExecuteTime": {
     "end_time": "2020-08-05T10:48:28.939376Z",
     "start_time": "2020-08-05T10:48:28.934700Z"
    }
   },
   "outputs": [],
   "source": [
    "data_version = \"02-01-2021-v6\""
   ]
  },
  {
   "cell_type": "code",
   "execution_count": 3,
   "metadata": {
    "ExecuteTime": {
     "end_time": "2020-08-05T10:48:30.047421Z",
     "start_time": "2020-08-05T10:48:28.942291Z"
    }
   },
   "outputs": [],
   "source": [
    "df_train = pd.read_csv(f\"../../data/kalapa/{data_version}/train.csv\")\n",
    "df_test = pd.read_csv(f\"../../data/kalapa/{data_version}/test.csv\")"
   ]
  },
  {
   "cell_type": "code",
   "execution_count": 4,
   "metadata": {
    "ExecuteTime": {
     "end_time": "2020-08-05T10:48:30.077083Z",
     "start_time": "2020-08-05T10:48:30.048910Z"
    }
   },
   "outputs": [],
   "source": [
    "y = df_train.label\n",
    "train = df_train.drop([\"label\"], axis = 1)"
   ]
  },
  {
   "cell_type": "code",
   "execution_count": 5,
   "metadata": {
    "ExecuteTime": {
     "end_time": "2020-08-05T10:48:30.159827Z",
     "start_time": "2020-08-05T10:48:30.078704Z"
    },
    "code_folding": [
     0,
     3
    ]
   },
   "outputs": [],
   "source": [
    "def gini(y_true, y_score):\n",
    "    return roc_auc_score(y_true, y_score)*2 - 1\n",
    "\n",
    "def lgb_gini(y_pred, dataset_true):\n",
    "    y_true = dataset_true.get_label()\n",
    "    return 'gini', gini(y_true, y_pred), True"
   ]
  },
  {
   "cell_type": "code",
   "execution_count": 6,
   "metadata": {
    "ExecuteTime": {
     "end_time": "2020-08-05T10:48:30.243275Z",
     "start_time": "2020-08-05T10:48:30.162640Z"
    },
    "code_folding": []
   },
   "outputs": [],
   "source": [
    "def to_category(df_fe):\n",
    "    for col in cols:\n",
    "        if df_fe[col].dtype.name == \"object\":\n",
    "            df_fe[col] = df_fe[col].astype('category')\n",
    "    return df_fe"
   ]
  },
  {
   "cell_type": "code",
   "execution_count": 7,
   "metadata": {
    "ExecuteTime": {
     "end_time": "2020-08-05T10:48:31.282881Z",
     "start_time": "2020-08-05T10:48:30.248146Z"
    }
   },
   "outputs": [],
   "source": [
    "cols = df_train.iloc[:,2:].columns\n",
    "train = to_category(train)\n",
    "test = to_category(df_test)\n",
    "col2 = []\n",
    "for col in cols:\n",
    "    vc = train[col].value_counts()\n",
    "    if len(vc) <= 3:\n",
    "        col2.append(col)\n",
    "        train[col] = train[col].astype('category')\n",
    "for col in col2:\n",
    "    test[col] = test[col].astype('category')"
   ]
  },
  {
   "cell_type": "code",
   "execution_count": 8,
   "metadata": {
    "ExecuteTime": {
     "end_time": "2020-08-05T10:48:31.290379Z",
     "start_time": "2020-08-05T10:48:31.284737Z"
    }
   },
   "outputs": [],
   "source": [
    "lgbm_param = {'boosting_type': 'gbdt',\\\n",
    "              'colsample_bytree': 0.6602479798930369, \\\n",
    "              'is_unbalance': False, \\\n",
    "              'learning_rate': 0.00746275526696824, \\\n",
    "              'max_depth': 15, \\\n",
    "              'metric': 'auc', \\\n",
    "              'min_child_samples': 25, \\\n",
    "              'num_leaves': 60, \\\n",
    "              'objective': 'binary', \\\n",
    "              'reg_alpha': 0.4693391197064131, \\\n",
    "              'reg_lambda': 0.16175478669541327, \\\n",
    "              'subsample_for_bin': 60000}"
   ]
  },
  {
   "cell_type": "code",
   "execution_count": 9,
   "metadata": {
    "ExecuteTime": {
     "end_time": "2020-08-05T10:48:31.385136Z",
     "start_time": "2020-08-05T10:48:31.292798Z"
    }
   },
   "outputs": [],
   "source": [
    "NUM_BOOST_ROUND= 10000"
   ]
  },
  {
   "cell_type": "code",
   "execution_count": 10,
   "metadata": {
    "ExecuteTime": {
     "end_time": "2020-08-05T10:48:31.471573Z",
     "start_time": "2020-08-05T10:48:31.387786Z"
    }
   },
   "outputs": [],
   "source": [
    "def kfold(train_fe,y_label,test_fe):\n",
    "    seeds = np.random.randint(0, 10000, 1)\n",
    "    preds = 0    \n",
    "    feature_important = None\n",
    "    avg_train_gini = 0\n",
    "    avg_val_gini = 0\n",
    "\n",
    "    for s in seeds:\n",
    "        skf = StratifiedKFold(n_splits=5, random_state = 6484, shuffle=True)        \n",
    "        lgbm_param['random_state'] = 6484    \n",
    "        seed_train_gini = 0\n",
    "        seed_val_gini = 0\n",
    "        for i, (train_idx, val_idx) in enumerate(skf.split(np.zeros(len(y_label)), y_label)):                \n",
    "            X_train, X_val = train_fe.iloc[train_idx].drop([\"id\"], 1), train_fe.iloc[val_idx].drop([\"id\"], 1)                \n",
    "            y_train, y_val = y_label[train_idx], y_label[val_idx]\n",
    "\n",
    "            lgb_train = lgb.Dataset(X_train, y_train)\n",
    "            lgb_eval  = lgb.Dataset(X_val, y_val)\n",
    "\n",
    "            evals_result = {} \n",
    "            model = lgb.train(lgbm_param,\n",
    "                        lgb_train,\n",
    "                        num_boost_round=NUM_BOOST_ROUND,  \n",
    "                        early_stopping_rounds=400,\n",
    "                        feval=lgb_gini,\n",
    "                        verbose_eval= 200,\n",
    "                        evals_result=evals_result,\n",
    "                        valid_sets=[lgb_train, lgb_eval])\n",
    "\n",
    "            seed_train_gini += model.best_score[\"training\"][\"gini\"] / skf.n_splits\n",
    "            seed_val_gini += model.best_score[\"valid_1\"][\"gini\"] / skf.n_splits\n",
    "\n",
    "            avg_train_gini += model.best_score[\"training\"][\"gini\"] / (len(seeds) * skf.n_splits)\n",
    "            avg_val_gini += model.best_score[\"valid_1\"][\"gini\"] / (len(seeds) * skf.n_splits)\n",
    "\n",
    "            if feature_important is None:\n",
    "                feature_important = model.feature_importance() / (len(seeds) * skf.n_splits)\n",
    "            else:\n",
    "                feature_important += model.feature_importance() / (len(seeds) * skf.n_splits)        \n",
    "\n",
    "            pred = model.predict(test_fe.drop([\"id\"], 1))\n",
    "            preds += pred / (skf.n_splits * len(seeds))\n",
    "\n",
    "            print(\"Fold {}: {}/{}\".format(i, model.best_score[\"training\"][\"gini\"], model.best_score[\"valid_1\"][\"gini\"]))\n",
    "        print(\"Seed {}: {}/{}\".format(s, seed_train_gini, seed_val_gini))\n",
    "\n",
    "    print(\"-\" * 30)\n",
    "    print(\"Avg train gini: {}\".format(avg_train_gini))\n",
    "    print(\"Avg valid gini: {}\".format(avg_val_gini))\n",
    "    print(\"=\" * 30)\n",
    "    return preds"
   ]
  },
  {
   "cell_type": "code",
   "execution_count": 11,
   "metadata": {
    "ExecuteTime": {
     "end_time": "2020-08-05T11:08:23.675496Z",
     "start_time": "2020-08-05T10:48:31.474398Z"
    }
   },
   "outputs": [
    {
     "name": "stdout",
     "output_type": "stream",
     "text": [
      "Training until validation scores don't improve for 400 rounds\n",
      "[200]\ttraining's auc: 0.776093\ttraining's gini: 0.552185\tvalid_1's auc: 0.734756\tvalid_1's gini: 0.469513\n",
      "[400]\ttraining's auc: 0.799804\ttraining's gini: 0.599609\tvalid_1's auc: 0.741512\tvalid_1's gini: 0.483023\n",
      "[600]\ttraining's auc: 0.821082\ttraining's gini: 0.642164\tvalid_1's auc: 0.743951\tvalid_1's gini: 0.487901\n",
      "[800]\ttraining's auc: 0.840003\ttraining's gini: 0.680005\tvalid_1's auc: 0.745462\tvalid_1's gini: 0.490925\n",
      "[1000]\ttraining's auc: 0.855501\ttraining's gini: 0.711001\tvalid_1's auc: 0.746179\tvalid_1's gini: 0.492358\n",
      "[1200]\ttraining's auc: 0.868135\ttraining's gini: 0.736269\tvalid_1's auc: 0.746693\tvalid_1's gini: 0.493387\n",
      "[1400]\ttraining's auc: 0.878805\ttraining's gini: 0.75761\tvalid_1's auc: 0.747079\tvalid_1's gini: 0.494158\n",
      "[1600]\ttraining's auc: 0.888098\ttraining's gini: 0.776197\tvalid_1's auc: 0.747101\tvalid_1's gini: 0.494201\n",
      "[1800]\ttraining's auc: 0.896315\ttraining's gini: 0.79263\tvalid_1's auc: 0.74744\tvalid_1's gini: 0.494881\n",
      "[2000]\ttraining's auc: 0.903492\ttraining's gini: 0.806984\tvalid_1's auc: 0.74738\tvalid_1's gini: 0.494759\n",
      "[2200]\ttraining's auc: 0.910064\ttraining's gini: 0.820129\tvalid_1's auc: 0.7472\tvalid_1's gini: 0.494401\n",
      "Early stopping, best iteration is:\n",
      "[1920]\ttraining's auc: 0.90075\ttraining's gini: 0.8015\tvalid_1's auc: 0.747474\tvalid_1's gini: 0.494947\n",
      "Fold 0: 0.8014997777770749/0.49494700688721527\n",
      "Training until validation scores don't improve for 400 rounds\n",
      "[200]\ttraining's auc: 0.775013\ttraining's gini: 0.550027\tvalid_1's auc: 0.726744\tvalid_1's gini: 0.453487\n",
      "[400]\ttraining's auc: 0.798617\ttraining's gini: 0.597235\tvalid_1's auc: 0.736763\tvalid_1's gini: 0.473526\n",
      "[600]\ttraining's auc: 0.820219\ttraining's gini: 0.640437\tvalid_1's auc: 0.741263\tvalid_1's gini: 0.482525\n",
      "[800]\ttraining's auc: 0.838596\ttraining's gini: 0.677193\tvalid_1's auc: 0.743413\tvalid_1's gini: 0.486827\n",
      "[1000]\ttraining's auc: 0.85356\ttraining's gini: 0.707121\tvalid_1's auc: 0.745121\tvalid_1's gini: 0.490241\n",
      "[1200]\ttraining's auc: 0.866046\ttraining's gini: 0.732093\tvalid_1's auc: 0.746231\tvalid_1's gini: 0.492463\n",
      "[1400]\ttraining's auc: 0.876797\ttraining's gini: 0.753594\tvalid_1's auc: 0.747058\tvalid_1's gini: 0.494117\n",
      "[1600]\ttraining's auc: 0.886007\ttraining's gini: 0.772014\tvalid_1's auc: 0.747602\tvalid_1's gini: 0.495204\n",
      "[1800]\ttraining's auc: 0.894117\ttraining's gini: 0.788234\tvalid_1's auc: 0.747743\tvalid_1's gini: 0.495486\n",
      "[2000]\ttraining's auc: 0.90135\ttraining's gini: 0.8027\tvalid_1's auc: 0.748065\tvalid_1's gini: 0.496129\n",
      "[2200]\ttraining's auc: 0.907505\ttraining's gini: 0.815009\tvalid_1's auc: 0.748396\tvalid_1's gini: 0.496792\n",
      "[2400]\ttraining's auc: 0.913289\ttraining's gini: 0.826578\tvalid_1's auc: 0.748745\tvalid_1's gini: 0.49749\n",
      "[2600]\ttraining's auc: 0.918573\ttraining's gini: 0.837146\tvalid_1's auc: 0.749009\tvalid_1's gini: 0.498019\n",
      "[2800]\ttraining's auc: 0.923489\ttraining's gini: 0.846979\tvalid_1's auc: 0.749063\tvalid_1's gini: 0.498125\n",
      "[3000]\ttraining's auc: 0.927937\ttraining's gini: 0.855875\tvalid_1's auc: 0.749272\tvalid_1's gini: 0.498544\n",
      "[3200]\ttraining's auc: 0.931788\ttraining's gini: 0.863575\tvalid_1's auc: 0.749532\tvalid_1's gini: 0.499064\n",
      "[3400]\ttraining's auc: 0.935438\ttraining's gini: 0.870877\tvalid_1's auc: 0.749568\tvalid_1's gini: 0.499136\n",
      "[3600]\ttraining's auc: 0.938911\ttraining's gini: 0.877822\tvalid_1's auc: 0.749567\tvalid_1's gini: 0.499135\n",
      "[3800]\ttraining's auc: 0.942052\ttraining's gini: 0.884104\tvalid_1's auc: 0.749642\tvalid_1's gini: 0.499283\n",
      "Early stopping, best iteration is:\n",
      "[3522]\ttraining's auc: 0.937589\ttraining's gini: 0.875177\tvalid_1's auc: 0.749666\tvalid_1's gini: 0.499332\n",
      "Fold 1: 0.8751773688656148/0.4993315647792662\n",
      "Training until validation scores don't improve for 400 rounds\n",
      "[200]\ttraining's auc: 0.773443\ttraining's gini: 0.546887\tvalid_1's auc: 0.745209\tvalid_1's gini: 0.490419\n",
      "[400]\ttraining's auc: 0.797519\ttraining's gini: 0.595038\tvalid_1's auc: 0.751465\tvalid_1's gini: 0.50293\n",
      "[600]\ttraining's auc: 0.819435\ttraining's gini: 0.638871\tvalid_1's auc: 0.754612\tvalid_1's gini: 0.509223\n",
      "[800]\ttraining's auc: 0.838305\ttraining's gini: 0.676609\tvalid_1's auc: 0.756025\tvalid_1's gini: 0.51205\n",
      "[1000]\ttraining's auc: 0.853729\ttraining's gini: 0.707457\tvalid_1's auc: 0.756868\tvalid_1's gini: 0.513737\n",
      "[1200]\ttraining's auc: 0.866371\ttraining's gini: 0.732742\tvalid_1's auc: 0.757241\tvalid_1's gini: 0.514482\n",
      "[1400]\ttraining's auc: 0.877154\ttraining's gini: 0.754308\tvalid_1's auc: 0.757347\tvalid_1's gini: 0.514694\n",
      "[1600]\ttraining's auc: 0.88635\ttraining's gini: 0.7727\tvalid_1's auc: 0.757568\tvalid_1's gini: 0.515137\n",
      "[1800]\ttraining's auc: 0.894742\ttraining's gini: 0.789484\tvalid_1's auc: 0.757542\tvalid_1's gini: 0.515083\n",
      "[2000]\ttraining's auc: 0.902012\ttraining's gini: 0.804023\tvalid_1's auc: 0.757414\tvalid_1's gini: 0.514829\n",
      "[2200]\ttraining's auc: 0.9084\ttraining's gini: 0.816801\tvalid_1's auc: 0.757179\tvalid_1's gini: 0.514357\n",
      "Early stopping, best iteration is:\n",
      "[1891]\ttraining's auc: 0.898223\ttraining's gini: 0.796446\tvalid_1's auc: 0.757604\tvalid_1's gini: 0.515209\n",
      "Fold 2: 0.7964464026351805/0.5152089912229441\n",
      "Training until validation scores don't improve for 400 rounds\n",
      "[200]\ttraining's auc: 0.774363\ttraining's gini: 0.548726\tvalid_1's auc: 0.737378\tvalid_1's gini: 0.474756\n",
      "[400]\ttraining's auc: 0.799008\ttraining's gini: 0.598016\tvalid_1's auc: 0.742253\tvalid_1's gini: 0.484506\n",
      "[600]\ttraining's auc: 0.820596\ttraining's gini: 0.641191\tvalid_1's auc: 0.743942\tvalid_1's gini: 0.487885\n",
      "[800]\ttraining's auc: 0.839323\ttraining's gini: 0.678646\tvalid_1's auc: 0.744962\tvalid_1's gini: 0.489925\n",
      "[1000]\ttraining's auc: 0.854499\ttraining's gini: 0.708997\tvalid_1's auc: 0.745652\tvalid_1's gini: 0.491303\n",
      "[1200]\ttraining's auc: 0.867019\ttraining's gini: 0.734038\tvalid_1's auc: 0.745698\tvalid_1's gini: 0.491397\n",
      "[1400]\ttraining's auc: 0.87797\ttraining's gini: 0.75594\tvalid_1's auc: 0.745755\tvalid_1's gini: 0.491511\n",
      "[1600]\ttraining's auc: 0.887519\ttraining's gini: 0.775038\tvalid_1's auc: 0.745941\tvalid_1's gini: 0.491882\n",
      "[1800]\ttraining's auc: 0.895503\ttraining's gini: 0.791006\tvalid_1's auc: 0.745909\tvalid_1's gini: 0.491817\n",
      "[2000]\ttraining's auc: 0.902533\ttraining's gini: 0.805065\tvalid_1's auc: 0.745953\tvalid_1's gini: 0.491905\n",
      "[2200]\ttraining's auc: 0.908797\ttraining's gini: 0.817593\tvalid_1's auc: 0.745997\tvalid_1's gini: 0.491994\n",
      "[2400]\ttraining's auc: 0.914486\ttraining's gini: 0.828971\tvalid_1's auc: 0.746087\tvalid_1's gini: 0.492174\n",
      "[2600]\ttraining's auc: 0.919882\ttraining's gini: 0.839764\tvalid_1's auc: 0.745987\tvalid_1's gini: 0.491975\n",
      "[2800]\ttraining's auc: 0.924574\ttraining's gini: 0.849148\tvalid_1's auc: 0.745748\tvalid_1's gini: 0.491495\n",
      "Early stopping, best iteration is:\n",
      "[2407]\ttraining's auc: 0.914692\ttraining's gini: 0.829384\tvalid_1's auc: 0.746146\tvalid_1's gini: 0.492292\n",
      "Fold 3: 0.8293836641692927/0.49229199274870106\n",
      "Training until validation scores don't improve for 400 rounds\n",
      "[200]\ttraining's auc: 0.775195\ttraining's gini: 0.550391\tvalid_1's auc: 0.735681\tvalid_1's gini: 0.471361\n",
      "[400]\ttraining's auc: 0.799786\ttraining's gini: 0.599571\tvalid_1's auc: 0.742454\tvalid_1's gini: 0.484908\n",
      "[600]\ttraining's auc: 0.821145\ttraining's gini: 0.64229\tvalid_1's auc: 0.744739\tvalid_1's gini: 0.489477\n",
      "[800]\ttraining's auc: 0.83991\ttraining's gini: 0.679821\tvalid_1's auc: 0.746033\tvalid_1's gini: 0.492066\n",
      "[1000]\ttraining's auc: 0.855456\ttraining's gini: 0.710913\tvalid_1's auc: 0.746803\tvalid_1's gini: 0.493605\n",
      "[1200]\ttraining's auc: 0.868562\ttraining's gini: 0.737123\tvalid_1's auc: 0.747183\tvalid_1's gini: 0.494367\n",
      "[1400]\ttraining's auc: 0.879317\ttraining's gini: 0.758635\tvalid_1's auc: 0.7474\tvalid_1's gini: 0.494799\n",
      "[1600]\ttraining's auc: 0.888743\ttraining's gini: 0.777485\tvalid_1's auc: 0.747671\tvalid_1's gini: 0.495341\n",
      "[1800]\ttraining's auc: 0.896948\ttraining's gini: 0.793896\tvalid_1's auc: 0.747784\tvalid_1's gini: 0.495569\n",
      "[2000]\ttraining's auc: 0.904162\ttraining's gini: 0.808324\tvalid_1's auc: 0.747937\tvalid_1's gini: 0.495873\n",
      "[2200]\ttraining's auc: 0.910515\ttraining's gini: 0.821031\tvalid_1's auc: 0.747821\tvalid_1's gini: 0.495642\n",
      "Early stopping, best iteration is:\n",
      "[1933]\ttraining's auc: 0.901798\ttraining's gini: 0.803595\tvalid_1's auc: 0.747988\tvalid_1's gini: 0.495977\n"
     ]
    },
    {
     "name": "stdout",
     "output_type": "stream",
     "text": [
      "Fold 4: 0.8035950470944138/0.49597683869803455\n",
      "Seed 2877: 0.8212204521083153/0.4995512788672322\n",
      "------------------------------\n",
      "Avg train gini: 0.8212204521083153\n",
      "Avg valid gini: 0.4995512788672322\n",
      "==============================\n"
     ]
    }
   ],
   "source": [
    "preds = kfold(train, y, test)"
   ]
  },
  {
   "cell_type": "code",
   "execution_count": 12,
   "metadata": {
    "ExecuteTime": {
     "end_time": "2020-08-05T11:08:23.683012Z",
     "start_time": "2020-08-05T11:08:23.677930Z"
    }
   },
   "outputs": [],
   "source": [
    "\"\"\"\n",
    "preds2 = preds\n",
    "for i in range(len(preds)):\n",
    "    if preds[i] >= 0.5:\n",
    "        preds2[i] = 1\n",
    "    else:\n",
    "        preds2[i] = 0\n",
    "\"\"\"\n",
    "new_label = pd.DataFrame(preds, columns = [\"label\"])"
   ]
  },
  {
   "cell_type": "code",
   "execution_count": 13,
   "metadata": {
    "ExecuteTime": {
     "end_time": "2020-08-05T11:08:23.807157Z",
     "start_time": "2020-08-05T11:08:23.684688Z"
    }
   },
   "outputs": [],
   "source": [
    "new_data = pd.concat([df_test.id, new_label,df_test.iloc[:,1:]], axis = 1)"
   ]
  },
  {
   "cell_type": "code",
   "execution_count": 14,
   "metadata": {
    "ExecuteTime": {
     "end_time": "2020-08-05T11:08:25.932975Z",
     "start_time": "2020-08-05T11:08:23.808664Z"
    }
   },
   "outputs": [],
   "source": [
    "new_data.to_csv(f\"../../data/kalapa/{data_version}/new_train.csv\", index = False)"
   ]
  }
 ],
 "metadata": {
  "kernelspec": {
   "display_name": "Python 3",
   "language": "python",
   "name": "python3"
  },
  "language_info": {
   "codemirror_mode": {
    "name": "ipython",
    "version": 3
   },
   "file_extension": ".py",
   "mimetype": "text/x-python",
   "name": "python",
   "nbconvert_exporter": "python",
   "pygments_lexer": "ipython3",
   "version": "3.7.7"
  },
  "varInspector": {
   "cols": {
    "lenName": 16,
    "lenType": 16,
    "lenVar": 40
   },
   "kernels_config": {
    "python": {
     "delete_cmd_postfix": "",
     "delete_cmd_prefix": "del ",
     "library": "var_list.py",
     "varRefreshCmd": "print(var_dic_list())"
    },
    "r": {
     "delete_cmd_postfix": ") ",
     "delete_cmd_prefix": "rm(",
     "library": "var_list.r",
     "varRefreshCmd": "cat(var_dic_list()) "
    }
   },
   "types_to_exclude": [
    "module",
    "function",
    "builtin_function_or_method",
    "instance",
    "_Feature"
   ],
   "window_display": false
  }
 },
 "nbformat": 4,
 "nbformat_minor": 4
}
