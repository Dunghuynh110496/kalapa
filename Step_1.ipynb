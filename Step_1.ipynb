{
 "cells": [
  {
   "cell_type": "code",
   "execution_count": 1,
   "metadata": {
    "ExecuteTime": {
     "end_time": "2020-07-29T06:14:53.987587Z",
     "start_time": "2020-07-29T06:14:53.632289Z"
    }
   },
   "outputs": [],
   "source": [
    "import pandas as pd\n",
    "import numpy as np\n",
    "import datetime\n",
    "import time\n",
    "import os\n",
    "import csv\n",
    "from dateutil.parser import parse"
   ]
  },
  {
   "cell_type": "code",
   "execution_count": 2,
   "metadata": {
    "ExecuteTime": {
     "end_time": "2020-07-29T06:14:55.691739Z",
     "start_time": "2020-07-29T06:14:53.990983Z"
    }
   },
   "outputs": [
    {
     "name": "stderr",
     "output_type": "stream",
     "text": [
      "/home/parker/anaconda3/envs/py37/lib/python3.7/site-packages/IPython/core/interactiveshell.py:3072: DtypeWarning: Columns (35,43) have mixed types.Specify dtype option on import or set low_memory=False.\n",
      "  interactivity=interactivity, compiler=compiler, result=result)\n",
      "/home/parker/anaconda3/envs/py37/lib/python3.7/site-packages/IPython/core/interactiveshell.py:3072: DtypeWarning: Columns (34,42) have mixed types.Specify dtype option on import or set low_memory=False.\n",
      "  interactivity=interactivity, compiler=compiler, result=result)\n"
     ]
    }
   ],
   "source": [
    "df_train = pd.read_csv(\"../../data/kalapa/train.csv\")\n",
    "df_test = pd.read_csv(\"../../data/kalapa/test.csv\")"
   ]
  },
  {
   "cell_type": "code",
   "execution_count": 3,
   "metadata": {
    "ExecuteTime": {
     "end_time": "2020-07-29T06:14:57.352242Z",
     "start_time": "2020-07-29T06:14:55.693865Z"
    }
   },
   "outputs": [],
   "source": [
    "def check_duplicate(feature1, feature2):\n",
    "    check1 = list(df_train[feature1].fillna(\"NaN\"))\n",
    "    check2 = list(df_train[feature2].fillna(\"NaN\"))\n",
    "    return check1 == check2\n",
    "distinct_columns = {}\n",
    "for col1 in df_train.columns:\n",
    "    vc = df_train[col1].value_counts()\n",
    "    index = [len(vc), set(list(vc)), set(list(vc.index))]\n",
    "    for col2 in distinct_columns:\n",
    "        if index == distinct_columns[col2] and check_duplicate(col1, col2):\n",
    "            break\n",
    "    else:\n",
    "        distinct_columns[col1] = index\n",
    "df_train = df_train[distinct_columns]\n",
    "del distinct_columns['label']\n",
    "df_test = df_test[distinct_columns]"
   ]
  },
  {
   "cell_type": "code",
   "execution_count": 4,
   "metadata": {
    "ExecuteTime": {
     "end_time": "2020-07-29T06:14:57.362573Z",
     "start_time": "2020-07-29T06:14:57.354044Z"
    }
   },
   "outputs": [],
   "source": [
    "data_type = {\n",
    "    \"cat_num\":[\"Field_22\",\"Field_13\", \"Field_41\", \"Field_42\",\"Field_50\", \"Field_51\", \"Field_53\",\\\n",
    "               \"Field_73\",  \"partner0_A\", \"partner0_B\", \"partner0_C\", \"partner0_D\", \"partner0_E\",\\\n",
    "               \"partner0_F\", \"partner0_G\", \"partner0_H\", \"partner1_A\", \"partner1_C\", \"partner1_G\", \"partner1_H\",\\\n",
    "               \"partner2_A\", \"partner2_C\", \"partner2_D\", \"partner2_F\", \"partner2_H\",\"partner3_A\", \"partner3_D\",\\\n",
    "               \"partner3_E\", \"partner4_L\", \"partner5_A\", \"partner5_D\", \"partner5_G\"],\n",
    "    \"cat_str\" : [\"Field_4\", \"Field_12\", \"gioiTinh\", \"Field_62\", \"Field_65\", \"Field_66\",\\\n",
    "                 \"info_social_sex\", \"Field_36\", \"Field_54\", \"Field_55\", \"Field_38\", \"brief\", \"Field_61\", \\\n",
    "                 'data.basic_info.locale', \"currentLocationCountry\", 'homeTownCountry', \"currentLocationState\", \\\n",
    "                'homeTownState'], \n",
    "    \"date\" : [\"Field_1\", \"Field_2\", \"Field_5\", \"Field_6\", \"Field_7\", \"Field_8\", \"Field_9\", \"Field_11\",\\\n",
    "             \"Field_15\", \"Field_25\", \"Field_32\", \"Field_33\", \"Field_35\", \"Field_40\", \\\n",
    "             \"Field_43\", \"Field_44\", \"F_startDate\", \"F_endDate\", \"E_startDate\", \"E_endDate\", \"C_startDate\",\n",
    "             \"C_endDate\", \"G_startDate\", \"G_endDate\", \"A_startDate\", \"A_endDate\",  ],\n",
    "    \"text\" : [\"diaChi\", \"Field_46\", \"Field_48\", \"Field_49\", \"Field_56\",\"Field_18\",\\\n",
    "              \"maCv\", \"currentLocationName\",'homeTownName', \"currentLocationCity\", \"homeTownCity\"],\n",
    "    \"drop\" : [ \"Field_34\",\"Field_68\", \"Field_45\"]\n",
    "}"
   ]
  },
  {
   "cell_type": "code",
   "execution_count": 5,
   "metadata": {
    "ExecuteTime": {
     "end_time": "2020-07-29T06:14:57.476867Z",
     "start_time": "2020-07-29T06:14:57.364598Z"
    }
   },
   "outputs": [],
   "source": [
    "def f34(date):\n",
    "    try:\n",
    "        res = parse(str(date)[:8])\n",
    "        return res\n",
    "    except ValueError:\n",
    "        return np.nan"
   ]
  },
  {
   "cell_type": "code",
   "execution_count": 6,
   "metadata": {
    "ExecuteTime": {
     "end_time": "2020-07-29T06:14:57.548521Z",
     "start_time": "2020-07-29T06:14:57.481137Z"
    }
   },
   "outputs": [],
   "source": [
    "classes_47 = {\n",
    "    \"Zezo\" : 0,\n",
    "    \"One\" : 1,\n",
    "    \"Two\" : 2,\n",
    "    \"Three\": 3,\n",
    "}"
   ]
  },
  {
   "cell_type": "code",
   "execution_count": 7,
   "metadata": {
    "ExecuteTime": {
     "end_time": "2020-07-29T06:14:57.630251Z",
     "start_time": "2020-07-29T06:14:57.552856Z"
    }
   },
   "outputs": [],
   "source": [
    "classes_62 = {\n",
    "    \"I\" : 1,\n",
    "    \"II\" : 2,\n",
    "    \"III\": 3,\n",
    "    \"IV\" : 4,\n",
    "    \"V\" : 5\n",
    "}"
   ]
  },
  {
   "cell_type": "code",
   "execution_count": 8,
   "metadata": {
    "ExecuteTime": {
     "end_time": "2020-07-29T06:15:01.069615Z",
     "start_time": "2020-07-29T06:14:57.635636Z"
    }
   },
   "outputs": [],
   "source": [
    "for data_set in [df_train, df_test]:\n",
    "    data_set[\"Field_34\"] = data_set[\"Field_34\"].map(lambda x: f34(x))\n",
    "    data_set[\"Field_47\"] = data_set[\"Field_47\"].map(lambda x: classes_47[x] if x in classes_47 else np.nan)\n",
    "    data_set[\"Field_62\"] = data_set[\"Field_62\"].map(lambda x: classes_62[x] if x in classes_62 else np.nan)\n",
    "    data_set[\"ngaySinh\"] = data_set[\"ngaySinh\"].fillna(\"NaN\")\n",
    "    data_set[\"ngaySinh\"] = data_set[\"ngaySinh\"].map(lambda x: parse(str(x)[:8]) if x is not \"NaN\" else np.nan)"
   ]
  },
  {
   "cell_type": "code",
   "execution_count": 9,
   "metadata": {
    "ExecuteTime": {
     "end_time": "2020-07-29T06:15:01.171740Z",
     "start_time": "2020-07-29T06:15:01.071123Z"
    }
   },
   "outputs": [
    {
     "name": "stdout",
     "output_type": "stream",
     "text": [
      "<class 'pandas.core.frame.DataFrame'>\n",
      "RangeIndex: 53030 entries, 0 to 53029\n",
      "Columns: 149 entries, id to Field_82\n",
      "dtypes: datetime64[ns](2), float64(88), int64(3), object(56)\n",
      "memory usage: 60.3+ MB\n",
      "<class 'pandas.core.frame.DataFrame'>\n",
      "RangeIndex: 20381 entries, 0 to 20380\n",
      "Columns: 148 entries, id to Field_82\n",
      "dtypes: datetime64[ns](2), float64(88), int64(2), object(56)\n",
      "memory usage: 23.0+ MB\n"
     ]
    }
   ],
   "source": [
    "df_train.info()\n",
    "df_test.info()"
   ]
  },
  {
   "cell_type": "code",
   "execution_count": 10,
   "metadata": {
    "ExecuteTime": {
     "end_time": "2020-07-29T06:15:01.181364Z",
     "start_time": "2020-07-29T06:15:01.175502Z"
    }
   },
   "outputs": [],
   "source": [
    "data_version = \"01-10-2020\""
   ]
  },
  {
   "cell_type": "code",
   "execution_count": 11,
   "metadata": {
    "ExecuteTime": {
     "end_time": "2020-07-29T06:15:09.217603Z",
     "start_time": "2020-07-29T06:15:01.183079Z"
    }
   },
   "outputs": [],
   "source": [
    "os.makedirs(f\"../../data/kalapa/{data_version}/\", exist_ok=True)\n",
    "df_train.to_csv(f\"../../data/kalapa/{data_version}/train.csv\", index = False)\n",
    "df_test.to_csv(f\"../../data/kalapa/{data_version}/test.csv\", index = False)"
   ]
  }
 ],
 "metadata": {
  "kernelspec": {
   "display_name": "Python 3",
   "language": "python",
   "name": "python3"
  },
  "language_info": {
   "codemirror_mode": {
    "name": "ipython",
    "version": 3
   },
   "file_extension": ".py",
   "mimetype": "text/x-python",
   "name": "python",
   "nbconvert_exporter": "python",
   "pygments_lexer": "ipython3",
   "version": "3.7.7"
  },
  "varInspector": {
   "cols": {
    "lenName": 16,
    "lenType": 16,
    "lenVar": 40
   },
   "kernels_config": {
    "python": {
     "delete_cmd_postfix": "",
     "delete_cmd_prefix": "del ",
     "library": "var_list.py",
     "varRefreshCmd": "print(var_dic_list())"
    },
    "r": {
     "delete_cmd_postfix": ") ",
     "delete_cmd_prefix": "rm(",
     "library": "var_list.r",
     "varRefreshCmd": "cat(var_dic_list()) "
    }
   },
   "types_to_exclude": [
    "module",
    "function",
    "builtin_function_or_method",
    "instance",
    "_Feature"
   ],
   "window_display": false
  }
 },
 "nbformat": 4,
 "nbformat_minor": 4
}
