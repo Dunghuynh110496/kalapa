{
 "cells": [
  {
   "cell_type": "code",
   "execution_count": 37,
   "metadata": {
    "ExecuteTime": {
     "end_time": "2020-08-02T10:39:27.028667Z",
     "start_time": "2020-08-02T10:39:27.024204Z"
    }
   },
   "outputs": [],
   "source": [
    "from itertools import combinations\n",
    "\n",
    "import time\n",
    "import numpy as np\n",
    "import pandas as pd\n",
    "import matplotlib.pyplot as plt\n",
    "\n",
    "from itertools import combinations\n",
    "\n",
    "import os\n",
    "import time\n",
    "import numpy as np\n",
    "import pandas as pd\n",
    "import matplotlib.pyplot as plt\n",
    "import seaborn as sns\n",
    "import math\n",
    "import re\n",
    "import warnings\n",
    "\n",
    "import lightgbm as lgb\n",
    "from sklearn.ensemble import RandomForestClassifier\n",
    "from unidecode import unidecode\n",
    "from sklearn.metrics import roc_auc_score\n",
    "from sklearn.model_selection import StratifiedKFold\n",
    "\n",
    "from itertools import combinations\n",
    "from datetime import datetime\n",
    "from contextlib import contextmanager"
   ]
  },
  {
   "cell_type": "code",
   "execution_count": 2,
   "metadata": {
    "ExecuteTime": {
     "end_time": "2020-08-02T10:36:48.283542Z",
     "start_time": "2020-08-02T10:36:46.417408Z"
    }
   },
   "outputs": [
    {
     "name": "stderr",
     "output_type": "stream",
     "text": [
      "/home/parker/anaconda3/envs/py37/lib/python3.7/site-packages/IPython/core/interactiveshell.py:3072: DtypeWarning: Columns (35,43) have mixed types.Specify dtype option on import or set low_memory=False.\n",
      "  interactivity=interactivity, compiler=compiler, result=result)\n",
      "/home/parker/anaconda3/envs/py37/lib/python3.7/site-packages/IPython/core/interactiveshell.py:3072: DtypeWarning: Columns (34,42) have mixed types.Specify dtype option on import or set low_memory=False.\n",
      "  interactivity=interactivity, compiler=compiler, result=result)\n"
     ]
    }
   ],
   "source": [
    "df_train = pd.read_csv(\"../../data/kalapa/train.csv\")\n",
    "df_test = pd.read_csv(\"../../data/kalapa/test.csv\")"
   ]
  },
  {
   "cell_type": "code",
   "execution_count": 3,
   "metadata": {
    "ExecuteTime": {
     "end_time": "2020-08-02T10:36:48.394427Z",
     "start_time": "2020-08-02T10:36:48.388552Z"
    }
   },
   "outputs": [],
   "source": [
    "DROP = [\"gioiTinh\",\"info_social_sex\", \"diaChi\", 'currentLocationCity', 'currentLocationName',\\\n",
    "        'homeTownCity', 'homeTownName'] + [f\"Field_{c}\" for c in [11, 14, 15, 16, 17, 18, 24,25, 26,\\\n",
    "                                                                  30, 31, 32, 33, 34,35, 37,40,45, 46, \\\n",
    "                                                                  48,49, 52, 56, 57, 68]]\n",
    "DATE = [\"Field_{}\".format(i) for i in [5, 6, 7, 8, 9, 11, 15, 25, 32, 33, 34, 35, 40]]\n",
    "DATETIME = [\"Field_{}\".format(i) for i in [1, 2, 43, 44]]"
   ]
  },
  {
   "cell_type": "code",
   "execution_count": 4,
   "metadata": {
    "ExecuteTime": {
     "end_time": "2020-08-02T10:36:48.482397Z",
     "start_time": "2020-08-02T10:36:48.462080Z"
    },
    "code_folding": [
     1
    ]
   },
   "outputs": [],
   "source": [
    "@contextmanager\n",
    "def timer(title):\n",
    "    t0 = time.time()\n",
    "    yield\n",
    "    print(\"{} - done in {:.0f}s\".format(title, time.time() - t0))"
   ]
  },
  {
   "cell_type": "code",
   "execution_count": 5,
   "metadata": {
    "ExecuteTime": {
     "end_time": "2020-08-02T10:36:48.698795Z",
     "start_time": "2020-08-02T10:36:48.554633Z"
    },
    "code_folding": [
     0
    ]
   },
   "outputs": [],
   "source": [
    "def subtract_date(date1,date2, df):\n",
    "    df[date1] = pd.to_datetime(df[date1], infer_datetime_format=True)\n",
    "    df[date2] = pd.to_datetime(df[date2], infer_datetime_format=True)\n",
    "    df[date1+date2] = (df[date2] - df[date1]).dt.days"
   ]
  },
  {
   "cell_type": "code",
   "execution_count": 6,
   "metadata": {
    "ExecuteTime": {
     "end_time": "2020-08-02T10:36:48.851080Z",
     "start_time": "2020-08-02T10:36:48.761973Z"
    },
    "code_folding": [
     0
    ]
   },
   "outputs": [],
   "source": [
    "def process_ngaySinh(s):\n",
    "    if s != s:\n",
    "        return np.nan\n",
    "    try:\n",
    "        s = int(s)\n",
    "    except ValueError:\n",
    "        s = s.split(\" \")[0]\n",
    "        \n",
    "    return datetime.strptime(str(s)[:6], \"%Y%m\")"
   ]
  },
  {
   "cell_type": "code",
   "execution_count": 7,
   "metadata": {
    "ExecuteTime": {
     "end_time": "2020-08-02T10:36:48.985504Z",
     "start_time": "2020-08-02T10:36:48.906824Z"
    },
    "code_folding": [
     0
    ]
   },
   "outputs": [],
   "source": [
    "def datetime_normalize(s):\n",
    "    if s != s:\n",
    "        return np.nan\n",
    "    \n",
    "    s = s.split(\".\")[0]\n",
    "    if s[-1] == \"Z\":\n",
    "        s = s[:-1]\n",
    "        \n",
    "    date, time = s.split(\"T\")\n",
    "    datetime_obj = datetime.strptime(s, \"%Y-%m-%dT%H:%M:%S\")\n",
    "    return datetime_obj"
   ]
  },
  {
   "cell_type": "code",
   "execution_count": 8,
   "metadata": {
    "ExecuteTime": {
     "end_time": "2020-08-02T10:36:49.084767Z",
     "start_time": "2020-08-02T10:36:49.050978Z"
    },
    "code_folding": [
     0
    ]
   },
   "outputs": [],
   "source": [
    "def date_normalize(s):\n",
    "    if s != s:\n",
    "        return np.nan\n",
    "    \n",
    "    try:\n",
    "        datetime_obj = datetime.strptime(s, \"%m/%d/%Y\")\n",
    "    except:\n",
    "        datetime_obj = datetime.strptime(s, \"%Y-%m-%d\")\n",
    "        \n",
    "    return datetime_obj"
   ]
  },
  {
   "cell_type": "code",
   "execution_count": 9,
   "metadata": {
    "ExecuteTime": {
     "end_time": "2020-08-02T10:36:49.185881Z",
     "start_time": "2020-08-02T10:36:49.147550Z"
    },
    "code_folding": [
     0
    ]
   },
   "outputs": [],
   "source": [
    "def process_datetime_cols(df):\n",
    "    cat_cols = []\n",
    "    for col in DATETIME:\n",
    "        df[col] = df[col].apply(datetime_normalize)\n",
    "        \n",
    "    for col in DATE:\n",
    "        if col == \"Field_34\":\n",
    "            continue\n",
    "        df[col] = df[col].apply(date_normalize)\n",
    "\n",
    "    df[\"Field_34\"] = df[\"Field_34\"].apply(process_ngaySinh)\n",
    "    df[\"ngaySinh\"] = df[\"ngaySinh\"].apply(process_ngaySinh)\n",
    "    \n",
    "    cat_cols += DATE + DATETIME\n",
    "    for col in DATE + DATETIME:\n",
    "        df[col] = df[col].dt.strftime('%d-%m-%Y')\n",
    "    \n",
    "    subtract_date('Field_5','Field_6',df)\n",
    "    subtrac_List = ['Field_1', 'Field_2', 'Field_43', 'Field_44', 'Field_7','Field_8', 'Field_9']\n",
    "    subtract_2C = list(combinations(subtrac_List, 2))\n",
    "    for l in subtract_2C:\n",
    "        subtract_date(l[0],l[1],df)\n",
    "    \n",
    "    for cat in ['F', 'E', 'C', 'G', 'A']:\n",
    "        subtract_date(f'{cat}_startDate', f'{cat}_endDate', df)\n",
    "    print(df.shape) \n",
    "    return df"
   ]
  },
  {
   "cell_type": "code",
   "execution_count": 10,
   "metadata": {
    "ExecuteTime": {
     "end_time": "2020-08-02T10:36:49.283881Z",
     "start_time": "2020-08-02T10:36:49.246497Z"
    },
    "code_folding": [
     0
    ]
   },
   "outputs": [],
   "source": [
    "def str_normalize(s):\n",
    "    s = str(s).strip().lower()\n",
    "    s = re.sub(' +', \" \", s)\n",
    "    return s"
   ]
  },
  {
   "cell_type": "code",
   "execution_count": 11,
   "metadata": {
    "ExecuteTime": {
     "end_time": "2020-08-02T10:36:49.424845Z",
     "start_time": "2020-08-02T10:36:49.354338Z"
    },
    "code_folding": [
     0
    ]
   },
   "outputs": [],
   "source": [
    "def process_location(df):\n",
    "    for col in [\"currentLocationLocationId\", \"homeTownLocationId\", \"currentLocationLatitude\", \"currentLocationLongitude\", \n",
    "                   \"homeTownLatitude\", \"homeTownLongitude\"]:\n",
    "        df[col].replace(0, np.nan, inplace=True)\n",
    "    return df"
   ]
  },
  {
   "cell_type": "code",
   "execution_count": 12,
   "metadata": {
    "ExecuteTime": {
     "end_time": "2020-08-02T10:36:49.518206Z",
     "start_time": "2020-08-02T10:36:49.483557Z"
    },
    "code_folding": [
     0
    ]
   },
   "outputs": [],
   "source": [
    "def combine_gender(s):\n",
    "    x, y = s\n",
    "    return x if x != None else y if y != None else None"
   ]
  },
  {
   "cell_type": "code",
   "execution_count": 13,
   "metadata": {
    "ExecuteTime": {
     "end_time": "2020-08-02T10:36:49.616916Z",
     "start_time": "2020-08-02T10:36:49.594711Z"
    },
    "code_folding": [
     0
    ]
   },
   "outputs": [],
   "source": [
    "def process_gender(df):\n",
    "    df[\"gender\"] = df[[\"gioiTinh\", \"info_social_sex\"]].apply(combine_gender, axis=1).astype(\"category\")\n",
    "    return df"
   ]
  },
  {
   "cell_type": "code",
   "execution_count": 14,
   "metadata": {
    "ExecuteTime": {
     "end_time": "2020-08-02T10:36:49.734490Z",
     "start_time": "2020-08-02T10:36:49.691050Z"
    },
    "code_folding": [
     0
    ]
   },
   "outputs": [],
   "source": [
    "def process_ordinal(df):        \n",
    "    df[\"subscriberCount\"].replace(0, np.nan, inplace=True)\n",
    "    df[\"friendCount\"].replace(0, np.nan, inplace=True)\n",
    "    \n",
    "    df[\"Field_13\"] = df[\"Field_13\"].apply(lambda x: 1 if x == x else 0)\n",
    "    df[\"Field_38\"] = df[\"Field_38\"].map({0: 0.0, 1: 1.0, \"DN\": np.nan, \"TN\": np.nan, \"GD\": np.nan})\n",
    "    df[\"Field_62\"] = df[\"Field_62\"].map({\"I\": 1, \"II\": 2, \"III\": 3, \"IV\": 4, \"V\": 5, \"Ngoài quốc doanh Quận 7\": np.nan})\n",
    "    df[\"Field_47\"] = df[\"Field_47\"].map({\"Zezo\": 0, \"One\": 1, \"Two\": 2, \"Three\": 3, \"Four\": 4})\n",
    "    \n",
    "    df[\"Field_27\"] = df[\"Field_27\"].replace({0.0: np.nan})\n",
    "    df[\"Field_28\"] = df[\"Field_28\"].replace({0.0: np.nan})\n",
    "        \n",
    "    for col in df.columns:\n",
    "        if df[col].dtype.name == \"object\":\n",
    "            df[col] = df[col].apply(str_normalize).astype(\"category\")\n",
    "            \n",
    "    return df"
   ]
  },
  {
   "cell_type": "code",
   "execution_count": 15,
   "metadata": {
    "ExecuteTime": {
     "end_time": "2020-08-02T10:36:49.847248Z",
     "start_time": "2020-08-02T10:36:49.796799Z"
    },
    "code_folding": [
     0
    ]
   },
   "outputs": [],
   "source": [
    "def fix_maCv(x):\n",
    "    lower = str(x).lower()\n",
    "    if any([x in lower for x in [\"nhân viên\", \"kế toán\", \"thủ kho\", \"tạp vụ\",\\\n",
    "                                \"thu ngân\", \"phóng viên\", \"giao dịch\", \"operator\", \"cnv\",\\\n",
    "                                \"huấn luyện viên\", \"ktoán\", \"nv\", \"lễ tân\", \"thư ký \",\\\n",
    "                                \"gsbh\", \"tiếp viên\", \"nhõn viờn\", \"chăm sóc\", \"hướng dẫn viên\", \\\n",
    "                                \"kiểm phẩm\",  \"kĩ sư\",  \"cấp dưỡng\", \"kiểm gấp\",\\\n",
    "                                \"kiểm soát viên\", \"kiểm ngân\", \"nv\", \"lưu hóa\", \"nhân  viên\", \"lưu trữ viên\", \\\n",
    "                                \"phát hành báo\", \"ktv\", \"kiến trúc sư\", \"kinh tế viên\", \"staff\", \"checker\",\\\n",
    "                                \"sỹ quan\", \"dịch vụ\", \"kiểm tra viên\", \\\n",
    "                                \"cộng tác viên\", \"qc ksqt\", \"nhân vên\", \"kế hoạch sản xuất\", \"nhaõn vieõn\", \\\n",
    "                                \"thí nghiệm\", \"thông kê\", \"kiểm hàng\", \"k? s?\", \"thư ký\", \"hợp đồng\", \\\n",
    "                                \"thẩm phán\", \"thao tác viên\", \"thủ quỹ\", \"lấy mẫu\", \"LÁI XE\".lower(), \\\n",
    "                                \"biên tập\", \"ksxd\", \"phiên dịch\", \"tb tuyên huấn\", \"sales\", \"thường trực\", \\\n",
    "                                \"trợ lý\", \"tiếp thực\", \"giỏm sỏt\", \\\n",
    "                                \"trình dược viên\", \"btđtn\", \"phúng viờn\", \\\n",
    "                                \"thông dịch\", \"tiếp thị\", \"tư vấn\", \"tổng đài\", \"vi tính\", \"viên chức\", \\\n",
    "                                \"văn phòng\", \"văn thư\", 'Thiết Kế'.lower(), \"vận hành\", \"nhan vien\", \\\n",
    "                                \"kiểm tra chất lượng\", \"pbt\", \"phi công\", \"laptop\",\\\n",
    "                                \"phụ trách kiểm hàng\", \"quay phim\", \"thư viện viên\", \\\n",
    "                                \"trực buồng\", \"techcombank\", \"cảng vụ viên\", \"trainee\", \"bhxh\", \"marketing\", \\\n",
    "                                \"tuyên truyền viên\",  \"kế hoạch\", \"ks\", \\\n",
    "                                \"an toàn viên\", \"CHỈ SỐ VIÊN\".lower(), \\\n",
    "                                \"thu mua\", \"giám éịnh viên\", \"kiểm định viên\",  \"giám định\", \\\n",
    "                                \"quản trị mạng\", \"thơợ\", \"thống kê\", \"thủ  quỹ\",  \\\n",
    "                                \"điện thoại\", \"điện thọai\", \"đội thông tin\", \"đón  tiếp khách hàng\", \\\n",
    "                                \"đơn hàng\", \"đại diện\", \"điều phối viên\", \"n.v\", \"bán vé\", \"c«ng nh©n\", \\\n",
    "                                \"gs camera\",  \"máy dán\", \"tv\",  \"đồ họa\"]]):\n",
    "        return \"NV\"\n",
    "    elif any([x in lower for x in [\"kỹ\",\"chuyên viên\",\"kĩ thuật viên\",\"kĩ thuật\", \"kỹ thuật viên\",\\\n",
    "                                 \"kỷ thuật viên\",\"lập trình viên\", \"chuyờn viờn\", \"chuyªn viªn\",]]):\n",
    "        return \"KTV\"\n",
    "    elif any([x in lower for x in [\"cán bộ\", \"cán sự\", \"bí thư đoàn\", \"cb\", \"phường đội\", \"trưởng công an\", \\\n",
    "                                  \"công an viên\", \"an ninh viên\",\"tổ viên\", \"công chức\", \"quản sinh\", \\\n",
    "                                   \"bí thư xã  đoàn\",\"điều tra viên\", \"đăng kiểm\", \"cỏn bộ\",\"đtv\", \"trực ban\",\\\n",
    "                                  ]]):\n",
    "        return \"CB\"\n",
    "    elif any([x in lower for x in [\"tổ trưởng\", \"giám sát\", \"quản lý\", \"cửa hàng trưởng\", \"chuyền trưởng\", \"kho\",\\\n",
    "                                  \"phó\", \"pp\", \"nhóm trưởng\", \"trưởng phòng\", \"trưởng ca\", \"trưởng tàu khách\", \\\n",
    "                                  \"trưởng nhóm\", \"cửa hàng trưởng\", \"trưởng bộ\", \"tổng phụ trách\", \"đào tạo\", \\\n",
    "                                  \"phụ trách phòng\", \"quản doanh\", \"vhtt\", \"trưởng ban\", \"dự án\", \"nhân sự\",\\\n",
    "                                  \"chỉ huy\", \"triển khai\", \"trưởng kiểm soát\", \"điều hành\", \"đội trưởng\", \\\n",
    "                                  \"chỉ huy\", \"qlsx\", \"t? tr??ng\", \"may\"]]):\n",
    "        return \"QL\"\n",
    "    elif any([x in lower for x in [\"công\",  \"bảo vệ\", \"thợ\", \"lao động\", \"bán hàng\",\\\n",
    "                                \"phụ kho\", \"phụ việc\", \"phết\", \"bảo mẫu\", \"phục vụ\", \"đóng gói\", \"ép cao tần\", \\\n",
    "                                \"cn\", \"sản Phẩm\", \"giao nhận\",\"cụng nhõn\", \"gia công\", \"kiÓm tra\".lower(), \\\n",
    "                                \"cô nuôi\", \"bảo dưỡng\", \"c.n\", \"coi bồn\", \"cạo mủ\", \"coõng nhaõn\", \"khai thác\",\\\n",
    "                                \"cod\", \"bốc xếp\", \"bếp\", \"lái máy\", \"lđpt\", \"khuôn\", \"hàng rong\", \"phụ bếp\",\\\n",
    "                                \"phụ tá\", \"thủ công\", \"dệt\", \"sửa chữa\", \"băng chuyền\", \"lắp ráp\", \\\n",
    "                                \"chà nhám\", \"cn\", \"bếp phụ\", \"chụp hình\", \"KHUNG SắT\".lower(), \"kcs chuyền\", \\\n",
    "                                \"lao động\", \"thành hình\", \"lao công\", \"cônh nhân\", \"thi công\", \"cán lần 1\", \\\n",
    "                                \"lái phụ máy\", \"thủy thủ\", \"gác ghi\", \"quay ghi\", \"bảo trì\", \"bảo mẩu\", \\\n",
    "                                \"máy 3 tàu\", \"giao hàng\", \"trực chính\", \"hỗ trợ\", \"lái xúc gạt\", \"công  nhân\",\\\n",
    "                                \"lđhđ\", \"lao d?ng\", \"c. nhân\", \"pv nước\", \"hđlđ\", \"vệ sinh\", \"phụ\", \"vệ sỹ\", \\\n",
    "                                \"xếp hộp\", \"barista\", \"hàn điện\", \"thuỷ thủ\", \"xây dựng\", \"b?o v?\", \\\n",
    "                                \"mài phá\", \"xếp da\", \"worker\", \"cong nhan\", \"pha chế\", \\\n",
    "                                \"máy trưởng\", \"phụ trách sản xuất\", \"trải vải\", \"YếN TIệC\".lower(), \"gấp xếp\", \\\n",
    "                                \"in sơ đồ\", \"lđ phổ thông\", \"mài\", \"nhồi mút\", \"ép\", \"gói\", \"đóng\", \\\n",
    "                                \"đội viên\", \"đánh máy\", \"đứng máy\", \"ủi\", \"săm\", 'atlđ']]):\n",
    "        return \"CN\"\n",
    "    elif any([x in lower for x in [\"lái xe\", \"tài xế\", \"phụ xe\",\"lái cẩu\", \"vân hành\", ]]):\n",
    "        return \"TX\"\n",
    "    elif any([x in lower for x in [\"giáo viên\", \"gv\", \"giảng viên\", \"chủ nhiệm lớp\", \"giáo viến\", \\\n",
    "                                   \"Giáo viến\".lower(), \"mầm non\"]]):\n",
    "        return \"GV\"\n",
    "    elif any([x in lower for x in [\"kinh doanh\", \"kinh  doanh\"]]):\n",
    "        return \"KD\"\n",
    "\n",
    "    elif any([x in lower for x in [\"hiệu trưởng\", \"chủ tịch\", \"pgđ\", \"giám đốc\"]]):\n",
    "        return \"GĐ\"\n",
    "    elif any([x in lower for x in [\"điều dưỡng\", \"hộ lý\", \"nữ hộ sinh\", \"h? lý\", \"hộ sinh\"]]):\n",
    "        return \"ĐD\"\n",
    "    elif any([x in lower for x in [\"y sĩ\", \"dược sỹ\", \"bác sĩ\", \"bác sỹ\", \"dược\", \"dược tá\", \"thú y\", \"y sỹ\",\\\n",
    "                                  \"y tế\", \"y công\", \"y tá\", \"dựơc tá\", \"ytth\"]]):\n",
    "        return \"BS\"\n",
    "    elif any([x in lower for x in [\"cử nhân\", \"cđ\", \"học viên\", \"tc\", \"cao đẳng\", \"cao đẵng\", \"trung cấp\"]]):\n",
    "        return \"HS\"\n",
    "    elif any([x in lower for x in [\"diễn viên\", \"ca sĩ\"]]):\n",
    "        return \"DV-CS\"\n",
    "    elif any([x in lower for x in [\"undefined\", \"nguyễn thế hưng\", \"ln091\", \"thieu chuc danh\", \"th noọng hẹt\", \\\n",
    "                                  \"875 lk\", \"-\", \"p.xnk\", \"cỏn b?\", '22568', \"unt\", \"01019882\", \"xtnt\", \"ltv\", \\\n",
    "                                  \"plđg hc\", \"mia\", \"pqtd\", \"kttntl\", \"llqs\", \"kcsmhm\", \"nt\", \"dtm\", \"i\", \"qc\",\\\n",
    "                                  '/  /', '1', '14', 'a', 'chủ hộ', 'coõng vuù', 'kcs', 'pk b2c',\\\n",
    "                                   'xt2', 'kcs', 'sxct']]):\n",
    "        return np.nan\n",
    "    return x"
   ]
  },
  {
   "cell_type": "code",
   "execution_count": 16,
   "metadata": {
    "ExecuteTime": {
     "end_time": "2020-08-02T10:36:49.994195Z",
     "start_time": "2020-08-02T10:36:49.904808Z"
    },
    "code_folding": [
     0
    ]
   },
   "outputs": [],
   "source": [
    "def fix_55(x):\n",
    "    if x in ['BC', 'BG', 'CN', 'CO', 'DB', 'EL', 'FO', 'H5', 'KX', 'N7', 'NR', 'SD', 'SJ', 'ST', 'WD']:\n",
    "        return np.nan\n",
    "    return x"
   ]
  },
  {
   "cell_type": "code",
   "execution_count": 17,
   "metadata": {
    "ExecuteTime": {
     "end_time": "2020-08-02T10:36:50.101857Z",
     "start_time": "2020-08-02T10:36:50.048394Z"
    },
    "code_folding": [
     0
    ]
   },
   "outputs": [],
   "source": [
    "def fix_54(x):\n",
    "    if x == \"1\" or x == \"01\" or x == ' P. Tân Phú':\n",
    "        return \"VN\"\n",
    "    elif x in ['IT', 'GB', 'SE', 'TK', 'BD']:\n",
    "        return np.nan\n",
    "    return x"
   ]
  },
  {
   "cell_type": "code",
   "execution_count": 18,
   "metadata": {
    "ExecuteTime": {
     "end_time": "2020-08-02T10:36:50.247910Z",
     "start_time": "2020-08-02T10:36:50.167321Z"
    },
    "code_folding": [
     0
    ]
   },
   "outputs": [],
   "source": [
    "def fix_61(x):\n",
    "    if x == 'Chất độc hóa học':\n",
    "        return np.nan\n",
    "    return x"
   ]
  },
  {
   "cell_type": "code",
   "execution_count": 19,
   "metadata": {
    "ExecuteTime": {
     "end_time": "2020-08-02T10:36:50.351224Z",
     "start_time": "2020-08-02T10:36:50.306987Z"
    },
    "code_folding": [
     0
    ]
   },
   "outputs": [],
   "source": [
    "def transform(df):\n",
    "    df = process_datetime_cols(df)\n",
    "    df = process_gender(df)\n",
    "    df = process_location(df)\n",
    "    df = process_ordinal(df)\n",
    "    return df.drop(DROP, 1)"
   ]
  },
  {
   "cell_type": "code",
   "execution_count": 20,
   "metadata": {
    "ExecuteTime": {
     "end_time": "2020-08-02T10:36:50.467624Z",
     "start_time": "2020-08-02T10:36:50.413345Z"
    },
    "code_folding": [
     0
    ]
   },
   "outputs": [],
   "source": [
    "def fix_homeTownState(x):\n",
    "    if x in ['Hunan', 'Kachin State', 'Distrito Federal', 'Bizerte Governorate', 'Central Java',\\\n",
    "             'Svay Rieng Province', 'Distrito Nacional', 'County Mayo', 'Odisha', 'Lazio', 'Nevada',\\\n",
    "             'Daegu', 'Arizona', 'Equatoria', 'Fukuoka Prefecture', 'Taoyuan City', 'Kandal Province', \\\n",
    "             'State of Mexico', 'Hebei', 'New South Wales', 'Capital Governorate', 'Oregon']:\n",
    "        return np.nan\n",
    "    return x"
   ]
  },
  {
   "cell_type": "code",
   "execution_count": 21,
   "metadata": {
    "ExecuteTime": {
     "end_time": "2020-08-02T10:36:50.584943Z",
     "start_time": "2020-08-02T10:36:50.531772Z"
    },
    "code_folding": [
     0
    ]
   },
   "outputs": [],
   "source": [
    "def fix_homeTownCountry(x):\n",
    "    if x in ['Australia', 'Bahrain', 'Dominican Republic', 'Ireland', 'South Sudan', 'Tunisia']:\n",
    "        return np.nan\n",
    "    return x"
   ]
  },
  {
   "cell_type": "code",
   "execution_count": 22,
   "metadata": {
    "ExecuteTime": {
     "end_time": "2020-08-02T10:36:50.750526Z",
     "start_time": "2020-08-02T10:36:50.658519Z"
    },
    "code_folding": [
     0
    ]
   },
   "outputs": [],
   "source": [
    "def fix_data_basic_info_locale(x):\n",
    "    if x == \"_VN\":\n",
    "        return 'vi_VN'\n",
    "    elif x in ['lv_LV', 'ru_RU']:\n",
    "        return np.nan\n",
    "    return x"
   ]
  },
  {
   "cell_type": "code",
   "execution_count": 23,
   "metadata": {
    "ExecuteTime": {
     "end_time": "2020-08-02T10:36:50.908936Z",
     "start_time": "2020-08-02T10:36:50.816230Z"
    },
    "code_folding": [
     0
    ]
   },
   "outputs": [],
   "source": [
    "def fix_currentLocationCountry(x):\n",
    "    if x in ['Macau', 'New Zealand', 'Dominican Republic']:\n",
    "        return np.nan\n",
    "    return x"
   ]
  },
  {
   "cell_type": "code",
   "execution_count": 24,
   "metadata": {
    "ExecuteTime": {
     "end_time": "2020-08-02T10:36:51.000643Z",
     "start_time": "2020-08-02T10:36:50.965857Z"
    },
    "code_folding": [
     0
    ]
   },
   "outputs": [],
   "source": [
    "def fix_currentLocationState(x):\n",
    "    if x in ['Ilhas', 'Daegu', 'Auckland Region', 'Basse-Normandie', 'Chongqing', \"Provence-Alpes-Côte d'Azur\",\\\n",
    "             'Rajshahi Division', 'Hubei', 'Mandalay', 'Missouri', 'Pathum Thani', 'Central Java', 'New Hampshire',\\\n",
    "             'Odisha', 'South Australia', 'Chon Buri', 'Haute-Normandie', 'Kirov Oblast', 'Primorsky Krai', 'Arizona',\\\n",
    "             'Ulsan', 'Kanagawa Prefecture', 'Metro Manila', 'Kachin State', 'Svay Rieng Province', 'Nagano Prefecture',\\\n",
    "             'Shiga Prefecture', 'Oslo', 'Indiana', 'Hunan', 'Bolikhamsai Province', 'Krasnoyarsk Krai',\\\n",
    "             'Distrito Nacional', 'Chiba Prefecture']:\n",
    "        return np.nan\n",
    "    return x"
   ]
  },
  {
   "cell_type": "code",
   "execution_count": 25,
   "metadata": {
    "ExecuteTime": {
     "end_time": "2020-08-02T10:37:12.274441Z",
     "start_time": "2020-08-02T10:36:51.071673Z"
    },
    "code_folding": [],
    "scrolled": false
   },
   "outputs": [
    {
     "name": "stderr",
     "output_type": "stream",
     "text": [
      "/home/parker/anaconda3/envs/py37/lib/python3.7/site-packages/IPython/core/interactiveshell.py:3072: DtypeWarning: Columns (35,43) have mixed types.Specify dtype option on import or set low_memory=False.\n",
      "  interactivity=interactivity, compiler=compiler, result=result)\n",
      "/home/parker/anaconda3/envs/py37/lib/python3.7/site-packages/IPython/core/interactiveshell.py:3072: DtypeWarning: Columns (34,42) have mixed types.Specify dtype option on import or set low_memory=False.\n",
      "  interactivity=interactivity, compiler=compiler, result=result)\n"
     ]
    },
    {
     "name": "stdout",
     "output_type": "stream",
     "text": [
      "(73411, 221)\n",
      "Bureau df shape: (73411, 190)\n",
      "Preprocess - done in 18s\n"
     ]
    },
    {
     "name": "stderr",
     "output_type": "stream",
     "text": [
      "/home/parker/anaconda3/envs/py37/lib/python3.7/site-packages/pandas/core/frame.py:4172: SettingWithCopyWarning: \n",
      "A value is trying to be set on a copy of a slice from a DataFrame\n",
      "\n",
      "See the caveats in the documentation: https://pandas.pydata.org/pandas-docs/stable/user_guide/indexing.html#returning-a-view-versus-a-copy\n",
      "  method=method,\n",
      "/home/parker/anaconda3/envs/py37/lib/python3.7/site-packages/pandas/core/generic.py:6245: SettingWithCopyWarning: \n",
      "A value is trying to be set on a copy of a slice from a DataFrame\n",
      "\n",
      "See the caveats in the documentation: https://pandas.pydata.org/pandas-docs/stable/user_guide/indexing.html#returning-a-view-versus-a-copy\n",
      "  self._update_inplace(new_data)\n",
      "/home/parker/anaconda3/envs/py37/lib/python3.7/site-packages/ipykernel_launcher.py:36: SettingWithCopyWarning: \n",
      "A value is trying to be set on a copy of a slice from a DataFrame.\n",
      "Try using .loc[row_indexer,col_indexer] = value instead\n",
      "\n",
      "See the caveats in the documentation: https://pandas.pydata.org/pandas-docs/stable/user_guide/indexing.html#returning-a-view-versus-a-copy\n"
     ]
    }
   ],
   "source": [
    "df_train = pd.read_csv(\"../../data/kalapa/train.csv\")\n",
    "df_test = pd.read_csv(\"../../data/kalapa/test.csv\")\n",
    "df_all = df_train.drop(['label'], 1).append(df_test)\n",
    "\n",
    "\n",
    "df_all.maCv = df_all.maCv.apply(fix_maCv)\n",
    "df_all.Field_55 = df_all.Field_55.apply(fix_55)\n",
    "\n",
    "\"\"\"\n",
    "df_all[\"null_sum\"] = df_all.isnull().sum(axis=1)\n",
    "\n",
    "df_all.Field_61 = df_all.Field_61.apply(fix_61)\n",
    "df_all.Field_54 = df_all.Field_54.apply(fix_54)\n",
    "\n",
    "df_all.homeTownState = df_all.homeTownState.apply(fix_homeTownState)\n",
    "df_all.homeTownCountry = df_all.homeTownCountry.apply(fix_homeTownCountry)\n",
    "\n",
    "df_all['data.basic_info.locale'] = df_all['data.basic_info.locale'].apply(fix_data_basic_info_locale)\n",
    "df_all.currentLocationCountry = df_all.currentLocationCountry.apply(fix_currentLocationCountry)\n",
    "df_all[\"currentLocationState\"] = df_all[\"currentLocationState\"].apply(fix_currentLocationState)\n",
    "\n",
    "\"\"\"\n",
    "\n",
    "with timer(\"Preprocess\"):\n",
    "    df_all_fe = transform(df_all.copy())\n",
    "    print(\"Bureau df shape:\", df_all_fe.shape)\n",
    "    df_all_fe['Age'] = df_all_fe.ngaySinh.apply(lambda x: 2020 - x.year)\n",
    "    df_all_fe = df_all_fe.drop('ngaySinh', axis = 1)\n",
    "    cols_select = [x for x in df_all_fe.columns if x not in DATE + DATETIME  + [f'{cat}_endDate' for cat in ['F', 'E', 'C', 'G', 'A']] + [f'{cat}_startDate' for cat in ['F', 'E', 'C', 'G', 'A']]]\n",
    "    df_fe = df_all_fe[cols_select]\n",
    "    df_fe.replace([np.inf, -np.inf], -99999999999999999, inplace=True)\n",
    "\n",
    "    for col in df_fe.columns:\n",
    "        if df_fe[col].dtype.name == \"category\":\n",
    "            if df_fe[col].isnull().sum() > 0:\n",
    "                df_fe[col] = df_fe[col].cat.add_categories(f'missing_{col}')\n",
    "                df_fe[col].fillna(f'missing_{col}', inplace=True)\n",
    "        else:\n",
    "            df_fe[col].fillna(-99999999999999999, inplace=True)\n",
    "\n",
    "    y_label = df_train[\"label\"]\n",
    "    train_fe = df_fe[df_fe[\"id\"] < df_train.shape[0]]\n",
    "    test_fe = df_fe[df_fe[\"id\"] >= df_train.shape[0]]"
   ]
  },
  {
   "cell_type": "code",
   "execution_count": 33,
   "metadata": {
    "ExecuteTime": {
     "end_time": "2020-08-02T10:38:51.577315Z",
     "start_time": "2020-08-02T10:38:51.524210Z"
    }
   },
   "outputs": [],
   "source": [
    "df_train = pd.concat([df_train.id,df_train.label, train_fe.iloc[:,1:]], axis = 1)"
   ]
  },
  {
   "cell_type": "code",
   "execution_count": 35,
   "metadata": {
    "ExecuteTime": {
     "end_time": "2020-08-02T10:39:14.226370Z",
     "start_time": "2020-08-02T10:39:14.223512Z"
    }
   },
   "outputs": [],
   "source": [
    "data_version = \"01-01-2021\""
   ]
  },
  {
   "cell_type": "code",
   "execution_count": 38,
   "metadata": {
    "ExecuteTime": {
     "end_time": "2020-08-02T10:39:45.657751Z",
     "start_time": "2020-08-02T10:39:36.107700Z"
    }
   },
   "outputs": [],
   "source": [
    "os.makedirs(f\"../../data/kalapa/{data_version}/\", exist_ok=True)\n",
    "df_train.to_csv(f\"../../data/kalapa/{data_version}/train.csv\", index = False)\n",
    "test_fe.to_csv(f\"../../data/kalapa/{data_version}/test.csv\", index = False)"
   ]
  },
  {
   "cell_type": "code",
   "execution_count": 67,
   "metadata": {
    "ExecuteTime": {
     "end_time": "2020-08-02T03:25:31.436848Z",
     "start_time": "2020-08-02T03:14:10.234713Z"
    },
    "scrolled": false
   },
   "outputs": [
    {
     "name": "stdout",
     "output_type": "stream",
     "text": [
      "Training until validation scores don't improve for 400 rounds\n",
      "[200]\ttraining's auc: 0.776837\ttraining's gini: 0.553674\tvalid_1's auc: 0.733664\tvalid_1's gini: 0.467328\n",
      "[400]\ttraining's auc: 0.800233\ttraining's gini: 0.600465\tvalid_1's auc: 0.740378\tvalid_1's gini: 0.480757\n",
      "[600]\ttraining's auc: 0.821548\ttraining's gini: 0.643096\tvalid_1's auc: 0.74283\tvalid_1's gini: 0.48566\n",
      "[800]\ttraining's auc: 0.840444\ttraining's gini: 0.680888\tvalid_1's auc: 0.744614\tvalid_1's gini: 0.489229\n",
      "[1000]\ttraining's auc: 0.8556\ttraining's gini: 0.7112\tvalid_1's auc: 0.745245\tvalid_1's gini: 0.49049\n",
      "[1200]\ttraining's auc: 0.868488\ttraining's gini: 0.736977\tvalid_1's auc: 0.745542\tvalid_1's gini: 0.491083\n",
      "[1400]\ttraining's auc: 0.879096\ttraining's gini: 0.758193\tvalid_1's auc: 0.745547\tvalid_1's gini: 0.491095\n",
      "[1600]\ttraining's auc: 0.888312\ttraining's gini: 0.776624\tvalid_1's auc: 0.745698\tvalid_1's gini: 0.491395\n",
      "[1800]\ttraining's auc: 0.896531\ttraining's gini: 0.793061\tvalid_1's auc: 0.74602\tvalid_1's gini: 0.492039\n",
      "[2000]\ttraining's auc: 0.903813\ttraining's gini: 0.807626\tvalid_1's auc: 0.745956\tvalid_1's gini: 0.491912\n",
      "[2200]\ttraining's auc: 0.910183\ttraining's gini: 0.820367\tvalid_1's auc: 0.745943\tvalid_1's gini: 0.491885\n",
      "Early stopping, best iteration is:\n",
      "[1861]\ttraining's auc: 0.898922\ttraining's gini: 0.797845\tvalid_1's auc: 0.746104\tvalid_1's gini: 0.492207\n",
      "Fold 0: 0.7978449485600865/0.4922070304798707\n",
      "Training until validation scores don't improve for 400 rounds\n",
      "[200]\ttraining's auc: 0.775589\ttraining's gini: 0.551177\tvalid_1's auc: 0.726823\tvalid_1's gini: 0.453647\n",
      "[400]\ttraining's auc: 0.799239\ttraining's gini: 0.598478\tvalid_1's auc: 0.736251\tvalid_1's gini: 0.472501\n",
      "[600]\ttraining's auc: 0.820927\ttraining's gini: 0.641854\tvalid_1's auc: 0.740759\tvalid_1's gini: 0.481517\n",
      "[800]\ttraining's auc: 0.839424\ttraining's gini: 0.678847\tvalid_1's auc: 0.743195\tvalid_1's gini: 0.48639\n",
      "[1000]\ttraining's auc: 0.854346\ttraining's gini: 0.708691\tvalid_1's auc: 0.744808\tvalid_1's gini: 0.489616\n",
      "[1200]\ttraining's auc: 0.867077\ttraining's gini: 0.734153\tvalid_1's auc: 0.745655\tvalid_1's gini: 0.49131\n",
      "[1400]\ttraining's auc: 0.877744\ttraining's gini: 0.755489\tvalid_1's auc: 0.746328\tvalid_1's gini: 0.492655\n",
      "[1600]\ttraining's auc: 0.887029\ttraining's gini: 0.774057\tvalid_1's auc: 0.746895\tvalid_1's gini: 0.49379\n",
      "[1800]\ttraining's auc: 0.89492\ttraining's gini: 0.78984\tvalid_1's auc: 0.747189\tvalid_1's gini: 0.494377\n",
      "[2000]\ttraining's auc: 0.901704\ttraining's gini: 0.803408\tvalid_1's auc: 0.747617\tvalid_1's gini: 0.495234\n",
      "[2200]\ttraining's auc: 0.908009\ttraining's gini: 0.816018\tvalid_1's auc: 0.747841\tvalid_1's gini: 0.495683\n",
      "[2400]\ttraining's auc: 0.913821\ttraining's gini: 0.827642\tvalid_1's auc: 0.747982\tvalid_1's gini: 0.495965\n",
      "[2600]\ttraining's auc: 0.919022\ttraining's gini: 0.838043\tvalid_1's auc: 0.748157\tvalid_1's gini: 0.496315\n",
      "[2800]\ttraining's auc: 0.923825\ttraining's gini: 0.84765\tvalid_1's auc: 0.748153\tvalid_1's gini: 0.496306\n",
      "[3000]\ttraining's auc: 0.9281\ttraining's gini: 0.8562\tvalid_1's auc: 0.748261\tvalid_1's gini: 0.496522\n",
      "[3200]\ttraining's auc: 0.932055\ttraining's gini: 0.86411\tvalid_1's auc: 0.74841\tvalid_1's gini: 0.49682\n",
      "[3400]\ttraining's auc: 0.935653\ttraining's gini: 0.871305\tvalid_1's auc: 0.74864\tvalid_1's gini: 0.49728\n",
      "[3600]\ttraining's auc: 0.938881\ttraining's gini: 0.877762\tvalid_1's auc: 0.74868\tvalid_1's gini: 0.49736\n",
      "[3800]\ttraining's auc: 0.941872\ttraining's gini: 0.883743\tvalid_1's auc: 0.748722\tvalid_1's gini: 0.497443\n",
      "[4000]\ttraining's auc: 0.944639\ttraining's gini: 0.889277\tvalid_1's auc: 0.748733\tvalid_1's gini: 0.497466\n",
      "[4200]\ttraining's auc: 0.947181\ttraining's gini: 0.894362\tvalid_1's auc: 0.748603\tvalid_1's gini: 0.497207\n",
      "Early stopping, best iteration is:\n",
      "[3804]\ttraining's auc: 0.941924\ttraining's gini: 0.883848\tvalid_1's auc: 0.748744\tvalid_1's gini: 0.497488\n",
      "Fold 1: 0.8838483562235862/0.4974878888608494\n",
      "Training until validation scores don't improve for 400 rounds\n",
      "[200]\ttraining's auc: 0.772962\ttraining's gini: 0.545924\tvalid_1's auc: 0.744309\tvalid_1's gini: 0.488617\n",
      "[400]\ttraining's auc: 0.797136\ttraining's gini: 0.594272\tvalid_1's auc: 0.751385\tvalid_1's gini: 0.502771\n",
      "[600]\ttraining's auc: 0.819087\ttraining's gini: 0.638174\tvalid_1's auc: 0.754006\tvalid_1's gini: 0.508013\n",
      "[800]\ttraining's auc: 0.838321\ttraining's gini: 0.676642\tvalid_1's auc: 0.755829\tvalid_1's gini: 0.511658\n",
      "[1000]\ttraining's auc: 0.853739\ttraining's gini: 0.707477\tvalid_1's auc: 0.756354\tvalid_1's gini: 0.512708\n",
      "[1200]\ttraining's auc: 0.86637\ttraining's gini: 0.73274\tvalid_1's auc: 0.756813\tvalid_1's gini: 0.513626\n",
      "[1400]\ttraining's auc: 0.877056\ttraining's gini: 0.754112\tvalid_1's auc: 0.757106\tvalid_1's gini: 0.514213\n",
      "[1600]\ttraining's auc: 0.886617\ttraining's gini: 0.773233\tvalid_1's auc: 0.757063\tvalid_1's gini: 0.514125\n",
      "[1800]\ttraining's auc: 0.894998\ttraining's gini: 0.789996\tvalid_1's auc: 0.757365\tvalid_1's gini: 0.51473\n",
      "[2000]\ttraining's auc: 0.902193\ttraining's gini: 0.804386\tvalid_1's auc: 0.757307\tvalid_1's gini: 0.514615\n",
      "[2200]\ttraining's auc: 0.908685\ttraining's gini: 0.81737\tvalid_1's auc: 0.757258\tvalid_1's gini: 0.514515\n",
      "Early stopping, best iteration is:\n",
      "[1943]\ttraining's auc: 0.900199\ttraining's gini: 0.800398\tvalid_1's auc: 0.757413\tvalid_1's gini: 0.514826\n",
      "Fold 2: 0.8003981732203573/0.5148261244769627\n",
      "Training until validation scores don't improve for 400 rounds\n",
      "[200]\ttraining's auc: 0.774506\ttraining's gini: 0.549013\tvalid_1's auc: 0.735844\tvalid_1's gini: 0.471688\n",
      "[400]\ttraining's auc: 0.799206\ttraining's gini: 0.598411\tvalid_1's auc: 0.741593\tvalid_1's gini: 0.483186\n",
      "[600]\ttraining's auc: 0.820866\ttraining's gini: 0.641733\tvalid_1's auc: 0.743591\tvalid_1's gini: 0.487182\n",
      "[800]\ttraining's auc: 0.839956\ttraining's gini: 0.679911\tvalid_1's auc: 0.744392\tvalid_1's gini: 0.488783\n",
      "[1000]\ttraining's auc: 0.855292\ttraining's gini: 0.710583\tvalid_1's auc: 0.744755\tvalid_1's gini: 0.48951\n",
      "[1200]\ttraining's auc: 0.867955\ttraining's gini: 0.73591\tvalid_1's auc: 0.744975\tvalid_1's gini: 0.48995\n",
      "[1400]\ttraining's auc: 0.878808\ttraining's gini: 0.757616\tvalid_1's auc: 0.74537\tvalid_1's gini: 0.490741\n",
      "[1600]\ttraining's auc: 0.887823\ttraining's gini: 0.775645\tvalid_1's auc: 0.745616\tvalid_1's gini: 0.491231\n",
      "[1800]\ttraining's auc: 0.895786\ttraining's gini: 0.791572\tvalid_1's auc: 0.745686\tvalid_1's gini: 0.491373\n",
      "[2000]\ttraining's auc: 0.902948\ttraining's gini: 0.805896\tvalid_1's auc: 0.745633\tvalid_1's gini: 0.491265\n",
      "Early stopping, best iteration is:\n",
      "[1758]\ttraining's auc: 0.894219\ttraining's gini: 0.788437\tvalid_1's auc: 0.745749\tvalid_1's gini: 0.491497\n",
      "Fold 3: 0.7884371357197053/0.4914970512893142\n",
      "Training until validation scores don't improve for 400 rounds\n",
      "[200]\ttraining's auc: 0.776105\ttraining's gini: 0.55221\tvalid_1's auc: 0.736449\tvalid_1's gini: 0.472897\n",
      "[400]\ttraining's auc: 0.800126\ttraining's gini: 0.600253\tvalid_1's auc: 0.743261\tvalid_1's gini: 0.486522\n",
      "[600]\ttraining's auc: 0.821765\ttraining's gini: 0.64353\tvalid_1's auc: 0.745123\tvalid_1's gini: 0.490246\n",
      "[800]\ttraining's auc: 0.840667\ttraining's gini: 0.681334\tvalid_1's auc: 0.746425\tvalid_1's gini: 0.49285\n",
      "[1000]\ttraining's auc: 0.8562\ttraining's gini: 0.7124\tvalid_1's auc: 0.747373\tvalid_1's gini: 0.494746\n",
      "[1200]\ttraining's auc: 0.86936\ttraining's gini: 0.73872\tvalid_1's auc: 0.748037\tvalid_1's gini: 0.496075\n",
      "[1400]\ttraining's auc: 0.880123\ttraining's gini: 0.760246\tvalid_1's auc: 0.748554\tvalid_1's gini: 0.497109\n",
      "[1600]\ttraining's auc: 0.889459\ttraining's gini: 0.778917\tvalid_1's auc: 0.748795\tvalid_1's gini: 0.49759\n",
      "[1800]\ttraining's auc: 0.897505\ttraining's gini: 0.795009\tvalid_1's auc: 0.749146\tvalid_1's gini: 0.498293\n",
      "[2000]\ttraining's auc: 0.904537\ttraining's gini: 0.809075\tvalid_1's auc: 0.749265\tvalid_1's gini: 0.49853\n",
      "[2200]\ttraining's auc: 0.910851\ttraining's gini: 0.821702\tvalid_1's auc: 0.749256\tvalid_1's gini: 0.498513\n",
      "[2400]\ttraining's auc: 0.916456\ttraining's gini: 0.832913\tvalid_1's auc: 0.749174\tvalid_1's gini: 0.498349\n",
      "Early stopping, best iteration is:\n",
      "[2115]\ttraining's auc: 0.908302\ttraining's gini: 0.816605\tvalid_1's auc: 0.749402\tvalid_1's gini: 0.498804\n",
      "Fold 4: 0.8166049954120596/0.49880393167997594\n",
      "Seed 4474: 0.817426721827159/0.4989644053573946\n",
      "------------------------------\n",
      "Avg train gini: 0.817426721827159\n",
      "Avg valid gini: 0.4989644053573946\n",
      "==============================\n"
     ]
    }
   ],
   "source": [
    "preds = kfold(train_fe,y_label,test_fe)"
   ]
  },
  {
   "cell_type": "code",
   "execution_count": 72,
   "metadata": {
    "ExecuteTime": {
     "end_time": "2020-08-02T03:48:33.203442Z",
     "start_time": "2020-08-02T03:30:07.968309Z"
    }
   },
   "outputs": [
    {
     "name": "stdout",
     "output_type": "stream",
     "text": [
      "Training until validation scores don't improve for 400 rounds\n",
      "[200]\ttraining's auc: 0.828374\ttraining's gini: 0.656748\tvalid_1's auc: 0.727911\tvalid_1's gini: 0.455821\n",
      "[400]\ttraining's auc: 0.846489\ttraining's gini: 0.692977\tvalid_1's auc: 0.735784\tvalid_1's gini: 0.471568\n",
      "[600]\ttraining's auc: 0.860839\ttraining's gini: 0.721678\tvalid_1's auc: 0.738802\tvalid_1's gini: 0.477604\n",
      "[800]\ttraining's auc: 0.873492\ttraining's gini: 0.746985\tvalid_1's auc: 0.740932\tvalid_1's gini: 0.481864\n",
      "[1000]\ttraining's auc: 0.884124\ttraining's gini: 0.768248\tvalid_1's auc: 0.742132\tvalid_1's gini: 0.484264\n",
      "[1200]\ttraining's auc: 0.893086\ttraining's gini: 0.786172\tvalid_1's auc: 0.743165\tvalid_1's gini: 0.486331\n",
      "[1400]\ttraining's auc: 0.90078\ttraining's gini: 0.80156\tvalid_1's auc: 0.74377\tvalid_1's gini: 0.48754\n",
      "[1600]\ttraining's auc: 0.907289\ttraining's gini: 0.814579\tvalid_1's auc: 0.744072\tvalid_1's gini: 0.488144\n",
      "[1800]\ttraining's auc: 0.913081\ttraining's gini: 0.826162\tvalid_1's auc: 0.744412\tvalid_1's gini: 0.488823\n",
      "[2000]\ttraining's auc: 0.918189\ttraining's gini: 0.836378\tvalid_1's auc: 0.744829\tvalid_1's gini: 0.489658\n",
      "[2200]\ttraining's auc: 0.922803\ttraining's gini: 0.845607\tvalid_1's auc: 0.7452\tvalid_1's gini: 0.490401\n",
      "[2400]\ttraining's auc: 0.926955\ttraining's gini: 0.853909\tvalid_1's auc: 0.745451\tvalid_1's gini: 0.490902\n",
      "[2600]\ttraining's auc: 0.930815\ttraining's gini: 0.861631\tvalid_1's auc: 0.745378\tvalid_1's gini: 0.490755\n",
      "[2800]\ttraining's auc: 0.934373\ttraining's gini: 0.868746\tvalid_1's auc: 0.745393\tvalid_1's gini: 0.490785\n",
      "Early stopping, best iteration is:\n",
      "[2417]\ttraining's auc: 0.927277\ttraining's gini: 0.854553\tvalid_1's auc: 0.745481\tvalid_1's gini: 0.490961\n",
      "Fold 0: 0.8545534609297798/0.4909612281981519\n",
      "Training until validation scores don't improve for 400 rounds\n",
      "[200]\ttraining's auc: 0.828165\ttraining's gini: 0.65633\tvalid_1's auc: 0.718523\tvalid_1's gini: 0.437046\n",
      "[400]\ttraining's auc: 0.845526\ttraining's gini: 0.691052\tvalid_1's auc: 0.728757\tvalid_1's gini: 0.457514\n",
      "[600]\ttraining's auc: 0.859894\ttraining's gini: 0.719788\tvalid_1's auc: 0.734334\tvalid_1's gini: 0.468667\n",
      "[800]\ttraining's auc: 0.872414\ttraining's gini: 0.744828\tvalid_1's auc: 0.737963\tvalid_1's gini: 0.475926\n",
      "[1000]\ttraining's auc: 0.882952\ttraining's gini: 0.765904\tvalid_1's auc: 0.740053\tvalid_1's gini: 0.480106\n",
      "[1200]\ttraining's auc: 0.891743\ttraining's gini: 0.783487\tvalid_1's auc: 0.741453\tvalid_1's gini: 0.482905\n",
      "[1400]\ttraining's auc: 0.899298\ttraining's gini: 0.798595\tvalid_1's auc: 0.742649\tvalid_1's gini: 0.485298\n",
      "[1600]\ttraining's auc: 0.905738\ttraining's gini: 0.811477\tvalid_1's auc: 0.743798\tvalid_1's gini: 0.487596\n",
      "[1800]\ttraining's auc: 0.911494\ttraining's gini: 0.822987\tvalid_1's auc: 0.74467\tvalid_1's gini: 0.48934\n",
      "[2000]\ttraining's auc: 0.916711\ttraining's gini: 0.833422\tvalid_1's auc: 0.745712\tvalid_1's gini: 0.491423\n",
      "[2200]\ttraining's auc: 0.921291\ttraining's gini: 0.842581\tvalid_1's auc: 0.746418\tvalid_1's gini: 0.492835\n",
      "[2400]\ttraining's auc: 0.925477\ttraining's gini: 0.850954\tvalid_1's auc: 0.747135\tvalid_1's gini: 0.49427\n",
      "[2600]\ttraining's auc: 0.929244\ttraining's gini: 0.858489\tvalid_1's auc: 0.747519\tvalid_1's gini: 0.495037\n",
      "[2800]\ttraining's auc: 0.932706\ttraining's gini: 0.865412\tvalid_1's auc: 0.747771\tvalid_1's gini: 0.495542\n",
      "[3000]\ttraining's auc: 0.935986\ttraining's gini: 0.871972\tvalid_1's auc: 0.748218\tvalid_1's gini: 0.496436\n",
      "[3200]\ttraining's auc: 0.939039\ttraining's gini: 0.878077\tvalid_1's auc: 0.748465\tvalid_1's gini: 0.49693\n",
      "[3400]\ttraining's auc: 0.941837\ttraining's gini: 0.883674\tvalid_1's auc: 0.74891\tvalid_1's gini: 0.49782\n",
      "[3600]\ttraining's auc: 0.944375\ttraining's gini: 0.888751\tvalid_1's auc: 0.749239\tvalid_1's gini: 0.498479\n",
      "[3800]\ttraining's auc: 0.946793\ttraining's gini: 0.893587\tvalid_1's auc: 0.74964\tvalid_1's gini: 0.499281\n",
      "[4000]\ttraining's auc: 0.949011\ttraining's gini: 0.898022\tvalid_1's auc: 0.749753\tvalid_1's gini: 0.499506\n",
      "[4200]\ttraining's auc: 0.951076\ttraining's gini: 0.902152\tvalid_1's auc: 0.749848\tvalid_1's gini: 0.499697\n",
      "[4400]\ttraining's auc: 0.952999\ttraining's gini: 0.905998\tvalid_1's auc: 0.749943\tvalid_1's gini: 0.499886\n",
      "[4600]\ttraining's auc: 0.9548\ttraining's gini: 0.909599\tvalid_1's auc: 0.749963\tvalid_1's gini: 0.499925\n",
      "[4800]\ttraining's auc: 0.956486\ttraining's gini: 0.912971\tvalid_1's auc: 0.749958\tvalid_1's gini: 0.499917\n",
      "Early stopping, best iteration is:\n",
      "[4529]\ttraining's auc: 0.954171\ttraining's gini: 0.908343\tvalid_1's auc: 0.750005\tvalid_1's gini: 0.500011\n",
      "Fold 1: 0.9083427385547658/0.5000108656925228\n",
      "Training until validation scores don't improve for 400 rounds\n",
      "[200]\ttraining's auc: 0.826441\ttraining's gini: 0.652881\tvalid_1's auc: 0.736549\tvalid_1's gini: 0.473099\n",
      "[400]\ttraining's auc: 0.844697\ttraining's gini: 0.689394\tvalid_1's auc: 0.745004\tvalid_1's gini: 0.490008\n",
      "[600]\ttraining's auc: 0.859539\ttraining's gini: 0.719079\tvalid_1's auc: 0.748873\tvalid_1's gini: 0.497746\n",
      "[800]\ttraining's auc: 0.872304\ttraining's gini: 0.744609\tvalid_1's auc: 0.751093\tvalid_1's gini: 0.502186\n",
      "[1000]\ttraining's auc: 0.882916\ttraining's gini: 0.765831\tvalid_1's auc: 0.752469\tvalid_1's gini: 0.504938\n",
      "[1200]\ttraining's auc: 0.892004\ttraining's gini: 0.784007\tvalid_1's auc: 0.753461\tvalid_1's gini: 0.506922\n",
      "[1400]\ttraining's auc: 0.899737\ttraining's gini: 0.799473\tvalid_1's auc: 0.754185\tvalid_1's gini: 0.508369\n",
      "[1600]\ttraining's auc: 0.90637\ttraining's gini: 0.812741\tvalid_1's auc: 0.754854\tvalid_1's gini: 0.509708\n",
      "[1800]\ttraining's auc: 0.912293\ttraining's gini: 0.824586\tvalid_1's auc: 0.755303\tvalid_1's gini: 0.510606\n",
      "[2000]\ttraining's auc: 0.917374\ttraining's gini: 0.834748\tvalid_1's auc: 0.755644\tvalid_1's gini: 0.511289\n",
      "[2200]\ttraining's auc: 0.921997\ttraining's gini: 0.843993\tvalid_1's auc: 0.755855\tvalid_1's gini: 0.511709\n",
      "[2400]\ttraining's auc: 0.926216\ttraining's gini: 0.852433\tvalid_1's auc: 0.756028\tvalid_1's gini: 0.512057\n",
      "[2600]\ttraining's auc: 0.930016\ttraining's gini: 0.860032\tvalid_1's auc: 0.756236\tvalid_1's gini: 0.512473\n",
      "[2800]\ttraining's auc: 0.933459\ttraining's gini: 0.866918\tvalid_1's auc: 0.756381\tvalid_1's gini: 0.512761\n",
      "[3000]\ttraining's auc: 0.936465\ttraining's gini: 0.87293\tvalid_1's auc: 0.756507\tvalid_1's gini: 0.513014\n",
      "[3200]\ttraining's auc: 0.939388\ttraining's gini: 0.878777\tvalid_1's auc: 0.756567\tvalid_1's gini: 0.513134\n",
      "[3400]\ttraining's auc: 0.942186\ttraining's gini: 0.884373\tvalid_1's auc: 0.756658\tvalid_1's gini: 0.513316\n",
      "[3600]\ttraining's auc: 0.944709\ttraining's gini: 0.889418\tvalid_1's auc: 0.75664\tvalid_1's gini: 0.513279\n",
      "[3800]\ttraining's auc: 0.947053\ttraining's gini: 0.894106\tvalid_1's auc: 0.756522\tvalid_1's gini: 0.513045\n",
      "Early stopping, best iteration is:\n",
      "[3521]\ttraining's auc: 0.943727\ttraining's gini: 0.887453\tvalid_1's auc: 0.756713\tvalid_1's gini: 0.513426\n",
      "Fold 2: 0.8874534170580612/0.5134260728063842\n",
      "Training until validation scores don't improve for 400 rounds\n",
      "[200]\ttraining's auc: 0.827426\ttraining's gini: 0.654852\tvalid_1's auc: 0.731733\tvalid_1's gini: 0.463467\n",
      "[400]\ttraining's auc: 0.845435\ttraining's gini: 0.690871\tvalid_1's auc: 0.739371\tvalid_1's gini: 0.478742\n",
      "[600]\ttraining's auc: 0.860141\ttraining's gini: 0.720282\tvalid_1's auc: 0.742402\tvalid_1's gini: 0.484804\n",
      "[800]\ttraining's auc: 0.872837\ttraining's gini: 0.745673\tvalid_1's auc: 0.744129\tvalid_1's gini: 0.488257\n",
      "[1000]\ttraining's auc: 0.883392\ttraining's gini: 0.766785\tvalid_1's auc: 0.744984\tvalid_1's gini: 0.489967\n",
      "[1200]\ttraining's auc: 0.892325\ttraining's gini: 0.78465\tvalid_1's auc: 0.745606\tvalid_1's gini: 0.491212\n",
      "[1400]\ttraining's auc: 0.899913\ttraining's gini: 0.799827\tvalid_1's auc: 0.746109\tvalid_1's gini: 0.492218\n",
      "[1600]\ttraining's auc: 0.906421\ttraining's gini: 0.812843\tvalid_1's auc: 0.746617\tvalid_1's gini: 0.493234\n",
      "[1800]\ttraining's auc: 0.912213\ttraining's gini: 0.824426\tvalid_1's auc: 0.746993\tvalid_1's gini: 0.493987\n",
      "[2000]\ttraining's auc: 0.917328\ttraining's gini: 0.834656\tvalid_1's auc: 0.747327\tvalid_1's gini: 0.494653\n",
      "[2200]\ttraining's auc: 0.922033\ttraining's gini: 0.844066\tvalid_1's auc: 0.747674\tvalid_1's gini: 0.495348\n",
      "[2400]\ttraining's auc: 0.926239\ttraining's gini: 0.852478\tvalid_1's auc: 0.748043\tvalid_1's gini: 0.496085\n",
      "[2600]\ttraining's auc: 0.929975\ttraining's gini: 0.85995\tvalid_1's auc: 0.74832\tvalid_1's gini: 0.49664\n"
     ]
    },
    {
     "name": "stdout",
     "output_type": "stream",
     "text": [
      "[2800]\ttraining's auc: 0.933433\ttraining's gini: 0.866865\tvalid_1's auc: 0.748398\tvalid_1's gini: 0.496796\n",
      "[3000]\ttraining's auc: 0.936619\ttraining's gini: 0.873239\tvalid_1's auc: 0.748522\tvalid_1's gini: 0.497044\n",
      "[3200]\ttraining's auc: 0.939448\ttraining's gini: 0.878896\tvalid_1's auc: 0.748532\tvalid_1's gini: 0.497064\n",
      "[3400]\ttraining's auc: 0.942243\ttraining's gini: 0.884486\tvalid_1's auc: 0.748772\tvalid_1's gini: 0.497544\n",
      "[3600]\ttraining's auc: 0.944756\ttraining's gini: 0.889513\tvalid_1's auc: 0.748886\tvalid_1's gini: 0.497771\n",
      "[3800]\ttraining's auc: 0.9472\ttraining's gini: 0.894401\tvalid_1's auc: 0.749184\tvalid_1's gini: 0.498369\n",
      "[4000]\ttraining's auc: 0.949226\ttraining's gini: 0.898451\tvalid_1's auc: 0.749136\tvalid_1's gini: 0.498272\n",
      "[4200]\ttraining's auc: 0.951225\ttraining's gini: 0.902451\tvalid_1's auc: 0.749168\tvalid_1's gini: 0.498337\n",
      "Early stopping, best iteration is:\n",
      "[3804]\ttraining's auc: 0.947254\ttraining's gini: 0.894508\tvalid_1's auc: 0.749201\tvalid_1's gini: 0.498402\n",
      "Fold 3: 0.8945077071123686/0.49840200375694144\n",
      "Training until validation scores don't improve for 400 rounds\n",
      "[200]\ttraining's auc: 0.827755\ttraining's gini: 0.655509\tvalid_1's auc: 0.728165\tvalid_1's gini: 0.45633\n",
      "[400]\ttraining's auc: 0.845973\ttraining's gini: 0.691945\tvalid_1's auc: 0.736717\tvalid_1's gini: 0.473434\n",
      "[600]\ttraining's auc: 0.860556\ttraining's gini: 0.721112\tvalid_1's auc: 0.739532\tvalid_1's gini: 0.479064\n",
      "[800]\ttraining's auc: 0.873196\ttraining's gini: 0.746392\tvalid_1's auc: 0.741329\tvalid_1's gini: 0.482659\n",
      "[1000]\ttraining's auc: 0.883926\ttraining's gini: 0.767853\tvalid_1's auc: 0.742579\tvalid_1's gini: 0.485158\n",
      "[1200]\ttraining's auc: 0.892926\ttraining's gini: 0.785851\tvalid_1's auc: 0.743369\tvalid_1's gini: 0.486737\n",
      "[1400]\ttraining's auc: 0.900611\ttraining's gini: 0.801221\tvalid_1's auc: 0.74428\tvalid_1's gini: 0.488559\n",
      "[1600]\ttraining's auc: 0.907337\ttraining's gini: 0.814675\tvalid_1's auc: 0.744749\tvalid_1's gini: 0.489498\n",
      "[1800]\ttraining's auc: 0.913225\ttraining's gini: 0.82645\tvalid_1's auc: 0.745379\tvalid_1's gini: 0.490759\n",
      "[2000]\ttraining's auc: 0.91834\ttraining's gini: 0.836679\tvalid_1's auc: 0.745758\tvalid_1's gini: 0.491516\n",
      "[2200]\ttraining's auc: 0.923013\ttraining's gini: 0.846026\tvalid_1's auc: 0.746197\tvalid_1's gini: 0.492393\n",
      "[2400]\ttraining's auc: 0.92716\ttraining's gini: 0.85432\tvalid_1's auc: 0.746291\tvalid_1's gini: 0.492582\n",
      "[2600]\ttraining's auc: 0.930861\ttraining's gini: 0.861722\tvalid_1's auc: 0.746551\tvalid_1's gini: 0.493103\n",
      "[2800]\ttraining's auc: 0.934251\ttraining's gini: 0.868502\tvalid_1's auc: 0.746762\tvalid_1's gini: 0.493524\n",
      "[3000]\ttraining's auc: 0.937413\ttraining's gini: 0.874826\tvalid_1's auc: 0.746654\tvalid_1's gini: 0.493309\n",
      "[3200]\ttraining's auc: 0.940373\ttraining's gini: 0.880745\tvalid_1's auc: 0.746799\tvalid_1's gini: 0.493597\n",
      "[3400]\ttraining's auc: 0.943221\ttraining's gini: 0.886441\tvalid_1's auc: 0.747086\tvalid_1's gini: 0.494173\n",
      "[3600]\ttraining's auc: 0.945702\ttraining's gini: 0.891404\tvalid_1's auc: 0.747333\tvalid_1's gini: 0.494665\n",
      "[3800]\ttraining's auc: 0.948078\ttraining's gini: 0.896156\tvalid_1's auc: 0.747244\tvalid_1's gini: 0.494487\n",
      "[4000]\ttraining's auc: 0.950186\ttraining's gini: 0.900371\tvalid_1's auc: 0.747436\tvalid_1's gini: 0.494872\n",
      "[4200]\ttraining's auc: 0.952172\ttraining's gini: 0.904344\tvalid_1's auc: 0.747471\tvalid_1's gini: 0.494942\n",
      "[4400]\ttraining's auc: 0.954109\ttraining's gini: 0.908218\tvalid_1's auc: 0.747565\tvalid_1's gini: 0.49513\n",
      "[4600]\ttraining's auc: 0.955883\ttraining's gini: 0.911765\tvalid_1's auc: 0.747687\tvalid_1's gini: 0.495373\n",
      "[4800]\ttraining's auc: 0.957481\ttraining's gini: 0.914962\tvalid_1's auc: 0.747732\tvalid_1's gini: 0.495465\n",
      "[5000]\ttraining's auc: 0.958968\ttraining's gini: 0.917935\tvalid_1's auc: 0.747814\tvalid_1's gini: 0.495628\n",
      "[5200]\ttraining's auc: 0.960463\ttraining's gini: 0.920927\tvalid_1's auc: 0.747893\tvalid_1's gini: 0.495785\n",
      "[5400]\ttraining's auc: 0.961741\ttraining's gini: 0.923482\tvalid_1's auc: 0.747913\tvalid_1's gini: 0.495826\n",
      "[5600]\ttraining's auc: 0.963058\ttraining's gini: 0.926117\tvalid_1's auc: 0.747905\tvalid_1's gini: 0.49581\n",
      "Early stopping, best iteration is:\n",
      "[5372]\ttraining's auc: 0.961561\ttraining's gini: 0.923122\tvalid_1's auc: 0.747956\tvalid_1's gini: 0.495913\n",
      "Fold 4: 0.9231223984107286/0.49591295910683275\n",
      "Seed 8410: 0.8935959444131407/0.49974262591216667\n",
      "------------------------------\n",
      "Avg train gini: 0.8935959444131407\n",
      "Avg valid gini: 0.49974262591216667\n",
      "==============================\n"
     ]
    }
   ],
   "source": [
    "preds2 = kfold(train_fe,y_label,test_fe)"
   ]
  },
  {
   "cell_type": "code",
   "execution_count": 73,
   "metadata": {
    "ExecuteTime": {
     "end_time": "2020-08-02T03:49:08.420333Z",
     "start_time": "2020-08-02T03:49:08.362389Z"
    }
   },
   "outputs": [],
   "source": [
    "df_test[\"label\"] = preds2\n",
    "df_test[['id', 'label']].to_csv('submission_lgm.csv', index=False)"
   ]
  },
  {
   "cell_type": "code",
   "execution_count": 62,
   "metadata": {
    "ExecuteTime": {
     "end_time": "2020-08-02T03:13:19.794725Z",
     "start_time": "2020-08-02T03:13:19.779049Z"
    },
    "code_folding": []
   },
   "outputs": [],
   "source": [
    "def kfold(train_fe,y_label,test_fe):\n",
    "    seeds = np.random.randint(0, 10000, 1)\n",
    "    preds = 0    \n",
    "    feature_important = None\n",
    "    avg_train_gini = 0\n",
    "    avg_val_gini = 0\n",
    "\n",
    "    for s in seeds:\n",
    "        skf = StratifiedKFold(n_splits= 5, random_state = 6484, shuffle=True)        \n",
    "        lgbm_param['random_state'] = 6484    \n",
    "        seed_train_gini = 0\n",
    "        seed_val_gini = 0\n",
    "        for i, (train_idx, val_idx) in enumerate(skf.split(np.zeros(len(y_label)), y_label)):                \n",
    "            X_train, X_val = train_fe.iloc[train_idx].drop([\"id\"], 1), train_fe.iloc[val_idx].drop([\"id\"], 1)                \n",
    "            y_train, y_val = y_label.iloc[train_idx], y_label.iloc[val_idx]\n",
    "\n",
    "            lgb_train = lgb.Dataset(X_train, y_train)\n",
    "            lgb_eval  = lgb.Dataset(X_val, y_val)\n",
    "\n",
    "            evals_result = {} \n",
    "            model = lgb.train(lgbm_param,\n",
    "                        lgb_train,\n",
    "                        num_boost_round=NUM_BOOST_ROUND,  \n",
    "                        early_stopping_rounds=400,\n",
    "                        feval=lgb_gini,\n",
    "                        verbose_eval= 200,\n",
    "                        evals_result=evals_result,\n",
    "                        valid_sets=[lgb_train, lgb_eval])\n",
    "\n",
    "            seed_train_gini += model.best_score[\"training\"][\"gini\"] / skf.n_splits\n",
    "            seed_val_gini += model.best_score[\"valid_1\"][\"gini\"] / skf.n_splits\n",
    "\n",
    "            avg_train_gini += model.best_score[\"training\"][\"gini\"] / (len(seeds) * skf.n_splits)\n",
    "            avg_val_gini += model.best_score[\"valid_1\"][\"gini\"] / (len(seeds) * skf.n_splits)\n",
    "\n",
    "            if feature_important is None:\n",
    "                feature_important = model.feature_importance() / (len(seeds) * skf.n_splits)\n",
    "            else:\n",
    "                feature_important += model.feature_importance() / (len(seeds) * skf.n_splits)        \n",
    "\n",
    "            pred = model.predict(test_fe.drop([\"id\"], 1))\n",
    "            preds += pred / (skf.n_splits * len(seeds))\n",
    "\n",
    "            print(\"Fold {}: {}/{}\".format(i, model.best_score[\"training\"][\"gini\"], model.best_score[\"valid_1\"][\"gini\"]))\n",
    "        print(\"Seed {}: {}/{}\".format(s, seed_train_gini, seed_val_gini))\n",
    "\n",
    "    print(\"-\" * 30)\n",
    "    print(\"Avg train gini: {}\".format(avg_train_gini))\n",
    "    print(\"Avg valid gini: {}\".format(avg_val_gini))\n",
    "    print(\"=\" * 30)\n",
    "    return preds"
   ]
  },
  {
   "cell_type": "code",
   "execution_count": 63,
   "metadata": {
    "ExecuteTime": {
     "end_time": "2020-08-02T03:13:25.086403Z",
     "start_time": "2020-08-02T03:13:25.082662Z"
    },
    "code_folding": []
   },
   "outputs": [],
   "source": [
    "lgbm_param = {'boosting_type': 'gbdt',\\\n",
    "              'colsample_bytree': 0.6602479798930369, \\\n",
    "              'is_unbalance': False, \\\n",
    "              'learning_rate': 0.00746275526696824, \\\n",
    "              'max_depth': 15, \\\n",
    "              'metric': 'auc', \\\n",
    "              'min_child_samples': 25, \\\n",
    "              'num_leaves': 60, \\\n",
    "              'objective': 'binary', \\\n",
    "              'reg_alpha': 0.4693391197064131, \\\n",
    "              'reg_lambda': 0.16175478669541327, \\\n",
    "              'subsample_for_bin': 60000}"
   ]
  }
 ],
 "metadata": {
  "kernelspec": {
   "display_name": "Python 3",
   "language": "python",
   "name": "python3"
  },
  "language_info": {
   "codemirror_mode": {
    "name": "ipython",
    "version": 3
   },
   "file_extension": ".py",
   "mimetype": "text/x-python",
   "name": "python",
   "nbconvert_exporter": "python",
   "pygments_lexer": "ipython3",
   "version": "3.7.7"
  },
  "varInspector": {
   "cols": {
    "lenName": 16,
    "lenType": 16,
    "lenVar": 40
   },
   "kernels_config": {
    "python": {
     "delete_cmd_postfix": "",
     "delete_cmd_prefix": "del ",
     "library": "var_list.py",
     "varRefreshCmd": "print(var_dic_list())"
    },
    "r": {
     "delete_cmd_postfix": ") ",
     "delete_cmd_prefix": "rm(",
     "library": "var_list.r",
     "varRefreshCmd": "cat(var_dic_list()) "
    }
   },
   "types_to_exclude": [
    "module",
    "function",
    "builtin_function_or_method",
    "instance",
    "_Feature"
   ],
   "window_display": false
  }
 },
 "nbformat": 4,
 "nbformat_minor": 4
}
