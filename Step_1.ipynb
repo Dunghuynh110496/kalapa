{
 "cells": [
  {
   "cell_type": "code",
   "execution_count": 1,
   "metadata": {
    "ExecuteTime": {
     "end_time": "2020-08-02T11:03:30.781746Z",
     "start_time": "2020-08-02T11:03:29.791963Z"
    }
   },
   "outputs": [],
   "source": [
    "from itertools import combinations\n",
    "\n",
    "import time\n",
    "import numpy as np\n",
    "import pandas as pd\n",
    "import matplotlib.pyplot as plt\n",
    "\n",
    "from itertools import combinations\n",
    "\n",
    "import os\n",
    "import time\n",
    "import numpy as np\n",
    "import pandas as pd\n",
    "import matplotlib.pyplot as plt\n",
    "import seaborn as sns\n",
    "import math\n",
    "import re\n",
    "import warnings\n",
    "\n",
    "import lightgbm as lgb\n",
    "from sklearn.ensemble import RandomForestClassifier\n",
    "from unidecode import unidecode\n",
    "from sklearn.metrics import roc_auc_score\n",
    "from sklearn.model_selection import StratifiedKFold\n",
    "\n",
    "from itertools import combinations\n",
    "from datetime import datetime\n",
    "from contextlib import contextmanager"
   ]
  },
  {
   "cell_type": "code",
   "execution_count": 2,
   "metadata": {
    "ExecuteTime": {
     "end_time": "2020-08-02T11:03:32.291380Z",
     "start_time": "2020-08-02T11:03:30.784156Z"
    }
   },
   "outputs": [
    {
     "name": "stderr",
     "output_type": "stream",
     "text": [
      "/home/parker/anaconda3/envs/py37/lib/python3.7/site-packages/IPython/core/interactiveshell.py:3072: DtypeWarning: Columns (35,43) have mixed types.Specify dtype option on import or set low_memory=False.\n",
      "  interactivity=interactivity, compiler=compiler, result=result)\n",
      "/home/parker/anaconda3/envs/py37/lib/python3.7/site-packages/IPython/core/interactiveshell.py:3072: DtypeWarning: Columns (34,42) have mixed types.Specify dtype option on import or set low_memory=False.\n",
      "  interactivity=interactivity, compiler=compiler, result=result)\n"
     ]
    }
   ],
   "source": [
    "df_train = pd.read_csv(\"../../data/kalapa/train.csv\")\n",
    "df_test = pd.read_csv(\"../../data/kalapa/test.csv\")"
   ]
  },
  {
   "cell_type": "code",
   "execution_count": 3,
   "metadata": {
    "ExecuteTime": {
     "end_time": "2020-08-02T11:03:32.297932Z",
     "start_time": "2020-08-02T11:03:32.293188Z"
    }
   },
   "outputs": [],
   "source": [
    "DROP = [\"gioiTinh\",\"info_social_sex\", \"diaChi\", 'currentLocationCity', 'currentLocationName',\\\n",
    "        'homeTownCity', 'homeTownName'] + [f\"Field_{c}\" for c in [11, 14, 15, 16, 17, 18, 24,25, 26,\\\n",
    "                                                                  30, 31, 32, 33, 34,35, 37,40,45, 46, \\\n",
    "                                                                  48,49, 52, 56, 57, 68]]\n",
    "DATE = [\"Field_{}\".format(i) for i in [5, 6, 7, 8, 9, 11, 15, 25, 32, 33, 34, 35, 40]]\n",
    "DATETIME = [\"Field_{}\".format(i) for i in [1, 2, 43, 44]]"
   ]
  },
  {
   "cell_type": "code",
   "execution_count": 4,
   "metadata": {
    "ExecuteTime": {
     "end_time": "2020-08-02T11:03:32.461527Z",
     "start_time": "2020-08-02T11:03:32.299461Z"
    },
    "code_folding": []
   },
   "outputs": [],
   "source": [
    "@contextmanager\n",
    "def timer(title):\n",
    "    t0 = time.time()\n",
    "    yield\n",
    "    print(\"{} - done in {:.0f}s\".format(title, time.time() - t0))"
   ]
  },
  {
   "cell_type": "code",
   "execution_count": 5,
   "metadata": {
    "ExecuteTime": {
     "end_time": "2020-08-02T11:03:32.591153Z",
     "start_time": "2020-08-02T11:03:32.463009Z"
    },
    "code_folding": []
   },
   "outputs": [],
   "source": [
    "def subtract_date(date1,date2, df):\n",
    "    df[date1] = pd.to_datetime(df[date1], infer_datetime_format=True)\n",
    "    df[date2] = pd.to_datetime(df[date2], infer_datetime_format=True)\n",
    "    df[date1+date2] = (df[date2] - df[date1]).dt.days"
   ]
  },
  {
   "cell_type": "code",
   "execution_count": 6,
   "metadata": {
    "ExecuteTime": {
     "end_time": "2020-08-02T11:03:32.681985Z",
     "start_time": "2020-08-02T11:03:32.595339Z"
    },
    "code_folding": []
   },
   "outputs": [],
   "source": [
    "def process_ngaySinh(s):\n",
    "    if s != s:\n",
    "        return np.nan\n",
    "    try:\n",
    "        s = int(s)\n",
    "    except ValueError:\n",
    "        s = s.split(\" \")[0]\n",
    "        \n",
    "    return datetime.strptime(str(s)[:6], \"%Y%m\")"
   ]
  },
  {
   "cell_type": "code",
   "execution_count": 7,
   "metadata": {
    "ExecuteTime": {
     "end_time": "2020-08-02T11:03:32.774626Z",
     "start_time": "2020-08-02T11:03:32.685526Z"
    },
    "code_folding": []
   },
   "outputs": [],
   "source": [
    "def datetime_normalize(s):\n",
    "    if s != s:\n",
    "        return np.nan\n",
    "    \n",
    "    s = s.split(\".\")[0]\n",
    "    if s[-1] == \"Z\":\n",
    "        s = s[:-1]\n",
    "        \n",
    "    date, time = s.split(\"T\")\n",
    "    datetime_obj = datetime.strptime(s, \"%Y-%m-%dT%H:%M:%S\")\n",
    "    return datetime_obj"
   ]
  },
  {
   "cell_type": "code",
   "execution_count": 8,
   "metadata": {
    "ExecuteTime": {
     "end_time": "2020-08-02T11:03:32.873540Z",
     "start_time": "2020-08-02T11:03:32.777179Z"
    },
    "code_folding": []
   },
   "outputs": [],
   "source": [
    "def date_normalize(s):\n",
    "    if s != s:\n",
    "        return np.nan\n",
    "    \n",
    "    try:\n",
    "        datetime_obj = datetime.strptime(s, \"%m/%d/%Y\")\n",
    "    except:\n",
    "        datetime_obj = datetime.strptime(s, \"%Y-%m-%d\")\n",
    "        \n",
    "    return datetime_obj"
   ]
  },
  {
   "cell_type": "code",
   "execution_count": 9,
   "metadata": {
    "ExecuteTime": {
     "end_time": "2020-08-02T11:03:32.968535Z",
     "start_time": "2020-08-02T11:03:32.876228Z"
    },
    "code_folding": []
   },
   "outputs": [],
   "source": [
    "def process_datetime_cols(df):\n",
    "    cat_cols = []\n",
    "    for col in DATETIME:\n",
    "        df[col] = df[col].apply(datetime_normalize)\n",
    "        \n",
    "    for col in DATE:\n",
    "        if col == \"Field_34\":\n",
    "            continue\n",
    "        df[col] = df[col].apply(date_normalize)\n",
    "\n",
    "    df[\"Field_34\"] = df[\"Field_34\"].apply(process_ngaySinh)\n",
    "    df[\"ngaySinh\"] = df[\"ngaySinh\"].apply(process_ngaySinh)\n",
    "    \n",
    "    cat_cols += DATE + DATETIME\n",
    "    for col in DATE + DATETIME:\n",
    "        df[col] = df[col].dt.strftime('%d-%m-%Y')\n",
    "    \n",
    "    subtract_date('Field_5','Field_6',df)\n",
    "    subtrac_List = ['Field_1', 'Field_2', 'Field_43', 'Field_44', 'Field_7','Field_8', 'Field_9']\n",
    "    subtract_2C = list(combinations(subtrac_List, 2))\n",
    "    for l in subtract_2C:\n",
    "        subtract_date(l[0],l[1],df)\n",
    "    \n",
    "    for cat in ['F', 'E', 'C', 'G', 'A']:\n",
    "        subtract_date(f'{cat}_startDate', f'{cat}_endDate', df)\n",
    "    print(df.shape) \n",
    "    return df"
   ]
  },
  {
   "cell_type": "code",
   "execution_count": 10,
   "metadata": {
    "ExecuteTime": {
     "end_time": "2020-08-02T11:03:33.120065Z",
     "start_time": "2020-08-02T11:03:32.973040Z"
    },
    "code_folding": []
   },
   "outputs": [],
   "source": [
    "def str_normalize(s):\n",
    "    s = str(s).strip().lower()\n",
    "    s = re.sub(' +', \" \", s)\n",
    "    return s"
   ]
  },
  {
   "cell_type": "code",
   "execution_count": 11,
   "metadata": {
    "ExecuteTime": {
     "end_time": "2020-08-02T11:03:33.207360Z",
     "start_time": "2020-08-02T11:03:33.121721Z"
    },
    "code_folding": []
   },
   "outputs": [],
   "source": [
    "def process_location(df):\n",
    "    for col in [\"currentLocationLocationId\", \"homeTownLocationId\", \"currentLocationLatitude\", \"currentLocationLongitude\", \n",
    "                   \"homeTownLatitude\", \"homeTownLongitude\"]:\n",
    "        df[col].replace(0, np.nan, inplace=True)\n",
    "    return df"
   ]
  },
  {
   "cell_type": "code",
   "execution_count": 12,
   "metadata": {
    "ExecuteTime": {
     "end_time": "2020-08-02T11:03:33.309133Z",
     "start_time": "2020-08-02T11:03:33.208994Z"
    },
    "code_folding": []
   },
   "outputs": [],
   "source": [
    "def combine_gender(s):\n",
    "    x, y = s\n",
    "    return x if x != None else y if y != None else None"
   ]
  },
  {
   "cell_type": "code",
   "execution_count": 13,
   "metadata": {
    "ExecuteTime": {
     "end_time": "2020-08-02T11:03:33.423390Z",
     "start_time": "2020-08-02T11:03:33.311930Z"
    },
    "code_folding": []
   },
   "outputs": [],
   "source": [
    "def process_gender(df):\n",
    "    df[\"gender\"] = df[[\"gioiTinh\", \"info_social_sex\"]].apply(combine_gender, axis=1).astype(\"category\")\n",
    "    return df"
   ]
  },
  {
   "cell_type": "code",
   "execution_count": 14,
   "metadata": {
    "ExecuteTime": {
     "end_time": "2020-08-02T11:03:33.525039Z",
     "start_time": "2020-08-02T11:03:33.425823Z"
    },
    "code_folding": []
   },
   "outputs": [],
   "source": [
    "def process_ordinal(df):        \n",
    "    df[\"subscriberCount\"].replace(0, np.nan, inplace=True)\n",
    "    df[\"friendCount\"].replace(0, np.nan, inplace=True)\n",
    "    \n",
    "    df[\"Field_13\"] = df[\"Field_13\"].apply(lambda x: 1 if x == x else 0)\n",
    "    df[\"Field_38\"] = df[\"Field_38\"].map({0: 0.0, 1: 1.0, \"DN\": np.nan, \"TN\": np.nan, \"GD\": np.nan})\n",
    "    df[\"Field_62\"] = df[\"Field_62\"].map({\"I\": 1, \"II\": 2, \"III\": 3, \"IV\": 4, \"V\": 5, \"Ngoài quốc doanh Quận 7\": np.nan})\n",
    "    df[\"Field_47\"] = df[\"Field_47\"].map({\"Zezo\": 0, \"One\": 1, \"Two\": 2, \"Three\": 3, \"Four\": 4})\n",
    "    \n",
    "    df[\"Field_27\"] = df[\"Field_27\"].replace({0.0: np.nan})\n",
    "    df[\"Field_28\"] = df[\"Field_28\"].replace({0.0: np.nan})\n",
    "        \n",
    "    for col in df.columns:\n",
    "        if df[col].dtype.name == \"object\":\n",
    "            df[col] = df[col].apply(str_normalize).astype(\"category\")\n",
    "            \n",
    "    return df"
   ]
  },
  {
   "cell_type": "code",
   "execution_count": 15,
   "metadata": {
    "ExecuteTime": {
     "end_time": "2020-08-02T11:03:33.668065Z",
     "start_time": "2020-08-02T11:03:33.526896Z"
    },
    "code_folding": [
     0
    ]
   },
   "outputs": [],
   "source": [
    "def fix_maCv(x):\n",
    "    lower = str(x).lower()\n",
    "    if any([x in lower for x in [\"nhân viên\", \"kế toán\", \"thủ kho\", \"tạp vụ\",\\\n",
    "                                \"thu ngân\", \"phóng viên\", \"giao dịch\", \"operator\", \"cnv\",\\\n",
    "                                \"huấn luyện viên\", \"ktoán\", \"nv\", \"lễ tân\", \"thư ký \",\\\n",
    "                                \"gsbh\", \"tiếp viên\", \"nhõn viờn\", \"chăm sóc\", \"hướng dẫn viên\", \\\n",
    "                                \"kiểm phẩm\",  \"kĩ sư\",  \"cấp dưỡng\", \"kiểm gấp\",\\\n",
    "                                \"kiểm soát viên\", \"kiểm ngân\", \"nv\", \"lưu hóa\", \"nhân  viên\", \"lưu trữ viên\", \\\n",
    "                                \"phát hành báo\", \"ktv\", \"kiến trúc sư\", \"kinh tế viên\", \"staff\", \"checker\",\\\n",
    "                                \"sỹ quan\", \"dịch vụ\", \"kiểm tra viên\", \\\n",
    "                                \"cộng tác viên\", \"qc ksqt\", \"nhân vên\", \"kế hoạch sản xuất\", \"nhaõn vieõn\", \\\n",
    "                                \"thí nghiệm\", \"thông kê\", \"kiểm hàng\", \"k? s?\", \"thư ký\", \"hợp đồng\", \\\n",
    "                                \"thẩm phán\", \"thao tác viên\", \"thủ quỹ\", \"lấy mẫu\", \"LÁI XE\".lower(), \\\n",
    "                                \"biên tập\", \"ksxd\", \"phiên dịch\", \"tb tuyên huấn\", \"sales\", \"thường trực\", \\\n",
    "                                \"trợ lý\", \"tiếp thực\", \"giỏm sỏt\", \\\n",
    "                                \"trình dược viên\", \"btđtn\", \"phúng viờn\", \\\n",
    "                                \"thông dịch\", \"tiếp thị\", \"tư vấn\", \"tổng đài\", \"vi tính\", \"viên chức\", \\\n",
    "                                \"văn phòng\", \"văn thư\", 'Thiết Kế'.lower(), \"vận hành\", \"nhan vien\", \\\n",
    "                                \"kiểm tra chất lượng\", \"pbt\", \"phi công\", \"laptop\",\\\n",
    "                                \"phụ trách kiểm hàng\", \"quay phim\", \"thư viện viên\", \\\n",
    "                                \"trực buồng\", \"techcombank\", \"cảng vụ viên\", \"trainee\", \"bhxh\", \"marketing\", \\\n",
    "                                \"tuyên truyền viên\",  \"kế hoạch\", \"ks\", \\\n",
    "                                \"an toàn viên\", \"CHỈ SỐ VIÊN\".lower(), \\\n",
    "                                \"thu mua\", \"giám éịnh viên\", \"kiểm định viên\",  \"giám định\", \\\n",
    "                                \"quản trị mạng\", \"thơợ\", \"thống kê\", \"thủ  quỹ\",  \\\n",
    "                                \"điện thoại\", \"điện thọai\", \"đội thông tin\", \"đón  tiếp khách hàng\", \\\n",
    "                                \"đơn hàng\", \"đại diện\", \"điều phối viên\", \"n.v\", \"bán vé\", \"c«ng nh©n\", \\\n",
    "                                \"gs camera\",  \"máy dán\", \"tv\",  \"đồ họa\"]]):\n",
    "        return \"NV\"\n",
    "    elif any([x in lower for x in [\"kỹ\",\"chuyên viên\",\"kĩ thuật viên\",\"kĩ thuật\", \"kỹ thuật viên\",\\\n",
    "                                 \"kỷ thuật viên\",\"lập trình viên\", \"chuyờn viờn\", \"chuyªn viªn\",]]):\n",
    "        return \"KTV\"\n",
    "    elif any([x in lower for x in [\"cán bộ\", \"cán sự\", \"bí thư đoàn\", \"cb\", \"phường đội\", \"trưởng công an\", \\\n",
    "                                  \"công an viên\", \"an ninh viên\",\"tổ viên\", \"công chức\", \"quản sinh\", \\\n",
    "                                   \"bí thư xã  đoàn\",\"điều tra viên\", \"đăng kiểm\", \"cỏn bộ\",\"đtv\", \"trực ban\",\\\n",
    "                                  ]]):\n",
    "        return \"CB\"\n",
    "    elif any([x in lower for x in [\"tổ trưởng\", \"giám sát\", \"quản lý\", \"cửa hàng trưởng\", \"chuyền trưởng\", \"kho\",\\\n",
    "                                  \"phó\", \"pp\", \"nhóm trưởng\", \"trưởng phòng\", \"trưởng ca\", \"trưởng tàu khách\", \\\n",
    "                                  \"trưởng nhóm\", \"cửa hàng trưởng\", \"trưởng bộ\", \"tổng phụ trách\", \"đào tạo\", \\\n",
    "                                  \"phụ trách phòng\", \"quản doanh\", \"vhtt\", \"trưởng ban\", \"dự án\", \"nhân sự\",\\\n",
    "                                  \"chỉ huy\", \"triển khai\", \"trưởng kiểm soát\", \"điều hành\", \"đội trưởng\", \\\n",
    "                                  \"chỉ huy\", \"qlsx\", \"t? tr??ng\", \"may\"]]):\n",
    "        return \"QL\"\n",
    "    elif any([x in lower for x in [\"công\",  \"bảo vệ\", \"thợ\", \"lao động\", \"bán hàng\",\\\n",
    "                                \"phụ kho\", \"phụ việc\", \"phết\", \"bảo mẫu\", \"phục vụ\", \"đóng gói\", \"ép cao tần\", \\\n",
    "                                \"cn\", \"sản Phẩm\", \"giao nhận\",\"cụng nhõn\", \"gia công\", \"kiÓm tra\".lower(), \\\n",
    "                                \"cô nuôi\", \"bảo dưỡng\", \"c.n\", \"coi bồn\", \"cạo mủ\", \"coõng nhaõn\", \"khai thác\",\\\n",
    "                                \"cod\", \"bốc xếp\", \"bếp\", \"lái máy\", \"lđpt\", \"khuôn\", \"hàng rong\", \"phụ bếp\",\\\n",
    "                                \"phụ tá\", \"thủ công\", \"dệt\", \"sửa chữa\", \"băng chuyền\", \"lắp ráp\", \\\n",
    "                                \"chà nhám\", \"cn\", \"bếp phụ\", \"chụp hình\", \"KHUNG SắT\".lower(), \"kcs chuyền\", \\\n",
    "                                \"lao động\", \"thành hình\", \"lao công\", \"cônh nhân\", \"thi công\", \"cán lần 1\", \\\n",
    "                                \"lái phụ máy\", \"thủy thủ\", \"gác ghi\", \"quay ghi\", \"bảo trì\", \"bảo mẩu\", \\\n",
    "                                \"máy 3 tàu\", \"giao hàng\", \"trực chính\", \"hỗ trợ\", \"lái xúc gạt\", \"công  nhân\",\\\n",
    "                                \"lđhđ\", \"lao d?ng\", \"c. nhân\", \"pv nước\", \"hđlđ\", \"vệ sinh\", \"phụ\", \"vệ sỹ\", \\\n",
    "                                \"xếp hộp\", \"barista\", \"hàn điện\", \"thuỷ thủ\", \"xây dựng\", \"b?o v?\", \\\n",
    "                                \"mài phá\", \"xếp da\", \"worker\", \"cong nhan\", \"pha chế\", \\\n",
    "                                \"máy trưởng\", \"phụ trách sản xuất\", \"trải vải\", \"YếN TIệC\".lower(), \"gấp xếp\", \\\n",
    "                                \"in sơ đồ\", \"lđ phổ thông\", \"mài\", \"nhồi mút\", \"ép\", \"gói\", \"đóng\", \\\n",
    "                                \"đội viên\", \"đánh máy\", \"đứng máy\", \"ủi\", \"săm\", 'atlđ']]):\n",
    "        return \"CN\"\n",
    "    elif any([x in lower for x in [\"lái xe\", \"tài xế\", \"phụ xe\",\"lái cẩu\", \"vân hành\", ]]):\n",
    "        return \"TX\"\n",
    "    elif any([x in lower for x in [\"giáo viên\", \"gv\", \"giảng viên\", \"chủ nhiệm lớp\", \"giáo viến\", \\\n",
    "                                   \"Giáo viến\".lower(), \"mầm non\"]]):\n",
    "        return \"GV\"\n",
    "    elif any([x in lower for x in [\"kinh doanh\", \"kinh  doanh\"]]):\n",
    "        return \"KD\"\n",
    "\n",
    "    elif any([x in lower for x in [\"hiệu trưởng\", \"chủ tịch\", \"pgđ\", \"giám đốc\"]]):\n",
    "        return \"GĐ\"\n",
    "    elif any([x in lower for x in [\"điều dưỡng\", \"hộ lý\", \"nữ hộ sinh\", \"h? lý\", \"hộ sinh\"]]):\n",
    "        return \"ĐD\"\n",
    "    elif any([x in lower for x in [\"y sĩ\", \"dược sỹ\", \"bác sĩ\", \"bác sỹ\", \"dược\", \"dược tá\", \"thú y\", \"y sỹ\",\\\n",
    "                                  \"y tế\", \"y công\", \"y tá\", \"dựơc tá\", \"ytth\"]]):\n",
    "        return \"BS\"\n",
    "    elif any([x in lower for x in [\"cử nhân\", \"cđ\", \"học viên\", \"tc\", \"cao đẳng\", \"cao đẵng\", \"trung cấp\"]]):\n",
    "        return \"HS\"\n",
    "    elif any([x in lower for x in [\"diễn viên\", \"ca sĩ\"]]):\n",
    "        return \"DV-CS\"\n",
    "    elif any([x in lower for x in [\"undefined\", \"nguyễn thế hưng\", \"ln091\", \"thieu chuc danh\", \"th noọng hẹt\", \\\n",
    "                                  \"875 lk\", \"-\", \"p.xnk\", \"cỏn b?\", '22568', \"unt\", \"01019882\", \"xtnt\", \"ltv\", \\\n",
    "                                  \"plđg hc\", \"mia\", \"pqtd\", \"kttntl\", \"llqs\", \"kcsmhm\", \"nt\", \"dtm\", \"i\", \"qc\",\\\n",
    "                                  '/  /', '1', '14', 'a', 'chủ hộ', 'coõng vuù', 'kcs', 'pk b2c',\\\n",
    "                                   'xt2', 'kcs', 'sxct']]):\n",
    "        return np.nan\n",
    "    return x"
   ]
  },
  {
   "cell_type": "code",
   "execution_count": 16,
   "metadata": {
    "ExecuteTime": {
     "end_time": "2020-08-02T11:03:33.807788Z",
     "start_time": "2020-08-02T11:03:33.670108Z"
    },
    "code_folding": [
     0
    ]
   },
   "outputs": [],
   "source": [
    "def fix_55(x):\n",
    "    if x in ['BC', 'BG', 'CN', 'CO', 'DB', 'EL', 'FO', 'H5', 'KX', 'N7', 'NR', 'SD', 'SJ', 'ST', 'WD']:\n",
    "        return np.nan\n",
    "    return x"
   ]
  },
  {
   "cell_type": "code",
   "execution_count": 17,
   "metadata": {
    "ExecuteTime": {
     "end_time": "2020-08-02T11:03:33.899435Z",
     "start_time": "2020-08-02T11:03:33.809772Z"
    },
    "code_folding": [
     0
    ]
   },
   "outputs": [],
   "source": [
    "def fix_54(x):\n",
    "    if x == \"1\" or x == \"01\" or x == ' P. Tân Phú':\n",
    "        return \"VN\"\n",
    "    elif x in ['IT', 'GB', 'SE', 'TK', 'BD']:\n",
    "        return np.nan\n",
    "    return x"
   ]
  },
  {
   "cell_type": "code",
   "execution_count": 18,
   "metadata": {
    "ExecuteTime": {
     "end_time": "2020-08-02T11:03:34.043103Z",
     "start_time": "2020-08-02T11:03:33.907504Z"
    },
    "code_folding": [
     0
    ]
   },
   "outputs": [],
   "source": [
    "def fix_61(x):\n",
    "    if x == 'Chất độc hóa học':\n",
    "        return np.nan\n",
    "    return x"
   ]
  },
  {
   "cell_type": "code",
   "execution_count": 19,
   "metadata": {
    "ExecuteTime": {
     "end_time": "2020-08-02T11:03:34.152250Z",
     "start_time": "2020-08-02T11:03:34.045781Z"
    },
    "code_folding": [
     0
    ]
   },
   "outputs": [],
   "source": [
    "def transform(df):\n",
    "    df = process_datetime_cols(df)\n",
    "    df = process_gender(df)\n",
    "    df = process_location(df)\n",
    "    df = process_ordinal(df)\n",
    "    return df.drop(DROP, 1)"
   ]
  },
  {
   "cell_type": "code",
   "execution_count": 20,
   "metadata": {
    "ExecuteTime": {
     "end_time": "2020-08-02T11:03:34.256898Z",
     "start_time": "2020-08-02T11:03:34.156787Z"
    },
    "code_folding": [
     0
    ]
   },
   "outputs": [],
   "source": [
    "def fix_homeTownState(x):\n",
    "    if x in ['Hunan', 'Kachin State', 'Distrito Federal', 'Bizerte Governorate', 'Central Java',\\\n",
    "             'Svay Rieng Province', 'Distrito Nacional', 'County Mayo', 'Odisha', 'Lazio', 'Nevada',\\\n",
    "             'Daegu', 'Arizona', 'Equatoria', 'Fukuoka Prefecture', 'Taoyuan City', 'Kandal Province', \\\n",
    "             'State of Mexico', 'Hebei', 'New South Wales', 'Capital Governorate', 'Oregon']:\n",
    "        return np.nan\n",
    "    return x"
   ]
  },
  {
   "cell_type": "code",
   "execution_count": 21,
   "metadata": {
    "ExecuteTime": {
     "end_time": "2020-08-02T11:03:34.374929Z",
     "start_time": "2020-08-02T11:03:34.258488Z"
    },
    "code_folding": [
     0
    ]
   },
   "outputs": [],
   "source": [
    "def fix_homeTownCountry(x):\n",
    "    if x in ['Australia', 'Bahrain', 'Dominican Republic', 'Ireland', 'South Sudan', 'Tunisia']:\n",
    "        return np.nan\n",
    "    return x"
   ]
  },
  {
   "cell_type": "code",
   "execution_count": 22,
   "metadata": {
    "ExecuteTime": {
     "end_time": "2020-08-02T11:03:34.465601Z",
     "start_time": "2020-08-02T11:03:34.379250Z"
    },
    "code_folding": [
     0
    ]
   },
   "outputs": [],
   "source": [
    "def fix_data_basic_info_locale(x):\n",
    "    if x == \"_VN\":\n",
    "        return 'vi_VN'\n",
    "    elif x in ['lv_LV', 'ru_RU']:\n",
    "        return np.nan\n",
    "    return x"
   ]
  },
  {
   "cell_type": "code",
   "execution_count": 23,
   "metadata": {
    "ExecuteTime": {
     "end_time": "2020-08-02T11:03:34.557592Z",
     "start_time": "2020-08-02T11:03:34.467575Z"
    },
    "code_folding": [
     0
    ]
   },
   "outputs": [],
   "source": [
    "def fix_currentLocationCountry(x):\n",
    "    if x in ['Macau', 'New Zealand', 'Dominican Republic']:\n",
    "        return np.nan\n",
    "    return x"
   ]
  },
  {
   "cell_type": "code",
   "execution_count": 24,
   "metadata": {
    "ExecuteTime": {
     "end_time": "2020-08-02T11:03:34.652115Z",
     "start_time": "2020-08-02T11:03:34.559366Z"
    },
    "code_folding": [
     0
    ]
   },
   "outputs": [],
   "source": [
    "def fix_currentLocationState(x):\n",
    "    if x in ['Ilhas', 'Daegu', 'Auckland Region', 'Basse-Normandie', 'Chongqing', \"Provence-Alpes-Côte d'Azur\",\\\n",
    "             'Rajshahi Division', 'Hubei', 'Mandalay', 'Missouri', 'Pathum Thani', 'Central Java', 'New Hampshire',\\\n",
    "             'Odisha', 'South Australia', 'Chon Buri', 'Haute-Normandie', 'Kirov Oblast', 'Primorsky Krai', 'Arizona',\\\n",
    "             'Ulsan', 'Kanagawa Prefecture', 'Metro Manila', 'Kachin State', 'Svay Rieng Province', 'Nagano Prefecture',\\\n",
    "             'Shiga Prefecture', 'Oslo', 'Indiana', 'Hunan', 'Bolikhamsai Province', 'Krasnoyarsk Krai',\\\n",
    "             'Distrito Nacional', 'Chiba Prefecture']:\n",
    "        return np.nan\n",
    "    return x"
   ]
  },
  {
   "cell_type": "code",
   "execution_count": 25,
   "metadata": {
    "ExecuteTime": {
     "end_time": "2020-08-02T11:03:59.140679Z",
     "start_time": "2020-08-02T11:03:34.654951Z"
    },
    "code_folding": [],
    "scrolled": false
   },
   "outputs": [
    {
     "name": "stdout",
     "output_type": "stream",
     "text": [
      "(73411, 221)\n",
      "Bureau df shape: (73411, 190)\n",
      "Preprocess - done in 20s\n"
     ]
    },
    {
     "name": "stderr",
     "output_type": "stream",
     "text": [
      "/home/parker/anaconda3/envs/py37/lib/python3.7/site-packages/pandas/core/frame.py:4172: SettingWithCopyWarning: \n",
      "A value is trying to be set on a copy of a slice from a DataFrame\n",
      "\n",
      "See the caveats in the documentation: https://pandas.pydata.org/pandas-docs/stable/user_guide/indexing.html#returning-a-view-versus-a-copy\n",
      "  method=method,\n",
      "/home/parker/anaconda3/envs/py37/lib/python3.7/site-packages/pandas/core/generic.py:6245: SettingWithCopyWarning: \n",
      "A value is trying to be set on a copy of a slice from a DataFrame\n",
      "\n",
      "See the caveats in the documentation: https://pandas.pydata.org/pandas-docs/stable/user_guide/indexing.html#returning-a-view-versus-a-copy\n",
      "  self._update_inplace(new_data)\n",
      "/home/parker/anaconda3/envs/py37/lib/python3.7/site-packages/ipykernel_launcher.py:21: SettingWithCopyWarning: \n",
      "A value is trying to be set on a copy of a slice from a DataFrame.\n",
      "Try using .loc[row_indexer,col_indexer] = value instead\n",
      "\n",
      "See the caveats in the documentation: https://pandas.pydata.org/pandas-docs/stable/user_guide/indexing.html#returning-a-view-versus-a-copy\n"
     ]
    }
   ],
   "source": [
    "df_train = pd.read_csv(\"../../data/kalapa/train.csv\")\n",
    "df_test = pd.read_csv(\"../../data/kalapa/test.csv\")\n",
    "df_all = df_train.drop(['label'], 1).append(df_test)\n",
    "\n",
    "\n",
    "df_all.maCv = df_all.maCv.apply(fix_maCv)\n",
    "df_all.Field_55 = df_all.Field_55.apply(fix_55)\n",
    "\n",
    "\n",
    "with timer(\"Preprocess\"):\n",
    "    df_all_fe = transform(df_all.copy())\n",
    "    print(\"Bureau df shape:\", df_all_fe.shape)\n",
    "    df_all_fe['Age'] = df_all_fe.ngaySinh.apply(lambda x: 2020 - x.year)\n",
    "    df_all_fe = df_all_fe.drop('ngaySinh', axis = 1)\n",
    "    cols_select = [x for x in df_all_fe.columns if x not in DATE + DATETIME  + [f'{cat}_endDate' for cat in ['F', 'E', 'C', 'G', 'A']] + [f'{cat}_startDate' for cat in ['F', 'E', 'C', 'G', 'A']]]\n",
    "    df_fe = df_all_fe[cols_select]\n",
    "    df_fe.replace([np.inf, -np.inf], -99999999999999999, inplace=True)\n",
    "\n",
    "    for col in df_fe.columns:\n",
    "        if df_fe[col].dtype.name == \"category\":\n",
    "            if df_fe[col].isnull().sum() > 0:\n",
    "                df_fe[col] = df_fe[col].cat.add_categories(f'missing_{col}')\n",
    "                df_fe[col].fillna(f'missing_{col}', inplace=True)\n",
    "        else:\n",
    "            df_fe[col].fillna(-99999999999999999, inplace=True)\n",
    "\n",
    "    y_label = df_train[\"label\"]\n",
    "    train_fe = df_fe[df_fe[\"id\"] < df_train.shape[0]]\n",
    "    test_fe = df_fe[df_fe[\"id\"] >= df_train.shape[0]]"
   ]
  },
  {
   "cell_type": "code",
   "execution_count": 26,
   "metadata": {
    "ExecuteTime": {
     "end_time": "2020-08-02T11:03:59.208204Z",
     "start_time": "2020-08-02T11:03:59.142186Z"
    }
   },
   "outputs": [],
   "source": [
    "df_train = pd.concat([df_train.id,df_train.label, train_fe.iloc[:,1:]], axis = 1)"
   ]
  },
  {
   "cell_type": "code",
   "execution_count": 41,
   "metadata": {
    "ExecuteTime": {
     "end_time": "2020-08-02T11:10:20.310096Z",
     "start_time": "2020-08-02T11:10:20.258385Z"
    }
   },
   "outputs": [
    {
     "data": {
      "text/html": [
       "<div>\n",
       "<style scoped>\n",
       "    .dataframe tbody tr th:only-of-type {\n",
       "        vertical-align: middle;\n",
       "    }\n",
       "\n",
       "    .dataframe tbody tr th {\n",
       "        vertical-align: top;\n",
       "    }\n",
       "\n",
       "    .dataframe thead th {\n",
       "        text-align: right;\n",
       "    }\n",
       "</style>\n",
       "<table border=\"1\" class=\"dataframe\">\n",
       "  <thead>\n",
       "    <tr style=\"text-align: right;\">\n",
       "      <th></th>\n",
       "      <th>id</th>\n",
       "      <th>label</th>\n",
       "      <th>Field_3</th>\n",
       "      <th>Field_4</th>\n",
       "      <th>Field_10</th>\n",
       "      <th>Field_12</th>\n",
       "      <th>Field_13</th>\n",
       "      <th>Field_19</th>\n",
       "      <th>Field_20</th>\n",
       "      <th>Field_21</th>\n",
       "      <th>...</th>\n",
       "      <th>Field_7Field_8</th>\n",
       "      <th>Field_7Field_9</th>\n",
       "      <th>Field_8Field_9</th>\n",
       "      <th>F_startDateF_endDate</th>\n",
       "      <th>E_startDateE_endDate</th>\n",
       "      <th>C_startDateC_endDate</th>\n",
       "      <th>G_startDateG_endDate</th>\n",
       "      <th>A_startDateA_endDate</th>\n",
       "      <th>gender</th>\n",
       "      <th>Age</th>\n",
       "    </tr>\n",
       "  </thead>\n",
       "  <tbody>\n",
       "    <tr>\n",
       "      <th>0</th>\n",
       "      <td>0</td>\n",
       "      <td>1</td>\n",
       "      <td>1.000000e+00</td>\n",
       "      <td>gh</td>\n",
       "      <td>1.000000e+00</td>\n",
       "      <td>g8</td>\n",
       "      <td>1</td>\n",
       "      <td>0.000000e+00</td>\n",
       "      <td>4.258600e+06</td>\n",
       "      <td>4.500000e+00</td>\n",
       "      <td>...</td>\n",
       "      <td>2.110000e+02</td>\n",
       "      <td>-5.000000e+00</td>\n",
       "      <td>-2.160000e+02</td>\n",
       "      <td>-1.000000e+17</td>\n",
       "      <td>-1.000000e+17</td>\n",
       "      <td>-1.000000e+17</td>\n",
       "      <td>-1.000000e+17</td>\n",
       "      <td>6.700000e+01</td>\n",
       "      <td>MALE</td>\n",
       "      <td>2.900000e+01</td>\n",
       "    </tr>\n",
       "    <tr>\n",
       "      <th>1</th>\n",
       "      <td>1</td>\n",
       "      <td>0</td>\n",
       "      <td>-1.000000e+17</td>\n",
       "      <td>NaN</td>\n",
       "      <td>-1.000000e+17</td>\n",
       "      <td>NaN</td>\n",
       "      <td>0</td>\n",
       "      <td>-1.000000e+17</td>\n",
       "      <td>-1.000000e+17</td>\n",
       "      <td>-1.000000e+17</td>\n",
       "      <td>...</td>\n",
       "      <td>-1.000000e+17</td>\n",
       "      <td>-1.000000e+17</td>\n",
       "      <td>-1.000000e+17</td>\n",
       "      <td>-1.000000e+17</td>\n",
       "      <td>-1.000000e+17</td>\n",
       "      <td>-1.000000e+17</td>\n",
       "      <td>-1.000000e+17</td>\n",
       "      <td>0.000000e+00</td>\n",
       "      <td>missing_gender</td>\n",
       "      <td>-1.000000e+17</td>\n",
       "    </tr>\n",
       "    <tr>\n",
       "      <th>2</th>\n",
       "      <td>2</td>\n",
       "      <td>0</td>\n",
       "      <td>2.000000e+00</td>\n",
       "      <td>t1</td>\n",
       "      <td>1.000000e+00</td>\n",
       "      <td>NaN</td>\n",
       "      <td>1</td>\n",
       "      <td>0.000000e+00</td>\n",
       "      <td>5.000000e+06</td>\n",
       "      <td>4.500000e+00</td>\n",
       "      <td>...</td>\n",
       "      <td>3.640000e+02</td>\n",
       "      <td>1.600000e+01</td>\n",
       "      <td>-3.480000e+02</td>\n",
       "      <td>0.000000e+00</td>\n",
       "      <td>2.400000e+01</td>\n",
       "      <td>-1.000000e+17</td>\n",
       "      <td>-1.000000e+17</td>\n",
       "      <td>4.700000e+01</td>\n",
       "      <td>FEMALE</td>\n",
       "      <td>2.200000e+01</td>\n",
       "    </tr>\n",
       "    <tr>\n",
       "      <th>3</th>\n",
       "      <td>3</td>\n",
       "      <td>0</td>\n",
       "      <td>-1.000000e+17</td>\n",
       "      <td>NaN</td>\n",
       "      <td>-1.000000e+17</td>\n",
       "      <td>NaN</td>\n",
       "      <td>0</td>\n",
       "      <td>-1.000000e+17</td>\n",
       "      <td>-1.000000e+17</td>\n",
       "      <td>-1.000000e+17</td>\n",
       "      <td>...</td>\n",
       "      <td>-1.000000e+17</td>\n",
       "      <td>-1.000000e+17</td>\n",
       "      <td>-1.000000e+17</td>\n",
       "      <td>-1.000000e+17</td>\n",
       "      <td>-1.000000e+17</td>\n",
       "      <td>-1.000000e+17</td>\n",
       "      <td>-1.000000e+17</td>\n",
       "      <td>-1.000000e+17</td>\n",
       "      <td>missing_gender</td>\n",
       "      <td>-1.000000e+17</td>\n",
       "    </tr>\n",
       "    <tr>\n",
       "      <th>4</th>\n",
       "      <td>4</td>\n",
       "      <td>1</td>\n",
       "      <td>-1.000000e+17</td>\n",
       "      <td>NaN</td>\n",
       "      <td>-1.000000e+17</td>\n",
       "      <td>NaN</td>\n",
       "      <td>0</td>\n",
       "      <td>-1.000000e+17</td>\n",
       "      <td>-1.000000e+17</td>\n",
       "      <td>-1.000000e+17</td>\n",
       "      <td>...</td>\n",
       "      <td>-1.000000e+17</td>\n",
       "      <td>-1.000000e+17</td>\n",
       "      <td>-1.000000e+17</td>\n",
       "      <td>-1.000000e+17</td>\n",
       "      <td>-1.000000e+17</td>\n",
       "      <td>-1.000000e+17</td>\n",
       "      <td>-1.000000e+17</td>\n",
       "      <td>-1.000000e+17</td>\n",
       "      <td>missing_gender</td>\n",
       "      <td>-1.000000e+17</td>\n",
       "    </tr>\n",
       "    <tr>\n",
       "      <th>...</th>\n",
       "      <td>...</td>\n",
       "      <td>...</td>\n",
       "      <td>...</td>\n",
       "      <td>...</td>\n",
       "      <td>...</td>\n",
       "      <td>...</td>\n",
       "      <td>...</td>\n",
       "      <td>...</td>\n",
       "      <td>...</td>\n",
       "      <td>...</td>\n",
       "      <td>...</td>\n",
       "      <td>...</td>\n",
       "      <td>...</td>\n",
       "      <td>...</td>\n",
       "      <td>...</td>\n",
       "      <td>...</td>\n",
       "      <td>...</td>\n",
       "      <td>...</td>\n",
       "      <td>...</td>\n",
       "      <td>...</td>\n",
       "      <td>...</td>\n",
       "    </tr>\n",
       "    <tr>\n",
       "      <th>53025</th>\n",
       "      <td>53025</td>\n",
       "      <td>0</td>\n",
       "      <td>1.000000e+00</td>\n",
       "      <td>gh</td>\n",
       "      <td>1.000000e+00</td>\n",
       "      <td>NaN</td>\n",
       "      <td>1</td>\n",
       "      <td>1.000000e+00</td>\n",
       "      <td>1.490000e+06</td>\n",
       "      <td>4.500000e+00</td>\n",
       "      <td>...</td>\n",
       "      <td>3.650000e+02</td>\n",
       "      <td>-8.000000e+00</td>\n",
       "      <td>-3.730000e+02</td>\n",
       "      <td>0.000000e+00</td>\n",
       "      <td>0.000000e+00</td>\n",
       "      <td>0.000000e+00</td>\n",
       "      <td>-1.000000e+17</td>\n",
       "      <td>2.020000e+02</td>\n",
       "      <td>FEMALE</td>\n",
       "      <td>3.200000e+01</td>\n",
       "    </tr>\n",
       "    <tr>\n",
       "      <th>53026</th>\n",
       "      <td>53026</td>\n",
       "      <td>0</td>\n",
       "      <td>-1.000000e+17</td>\n",
       "      <td>NaN</td>\n",
       "      <td>-1.000000e+17</td>\n",
       "      <td>NaN</td>\n",
       "      <td>0</td>\n",
       "      <td>-1.000000e+17</td>\n",
       "      <td>-1.000000e+17</td>\n",
       "      <td>-1.000000e+17</td>\n",
       "      <td>...</td>\n",
       "      <td>-1.000000e+17</td>\n",
       "      <td>-1.000000e+17</td>\n",
       "      <td>-1.000000e+17</td>\n",
       "      <td>-1.000000e+17</td>\n",
       "      <td>-1.000000e+17</td>\n",
       "      <td>-1.000000e+17</td>\n",
       "      <td>0.000000e+00</td>\n",
       "      <td>5.200000e+01</td>\n",
       "      <td>missing_gender</td>\n",
       "      <td>-1.000000e+17</td>\n",
       "    </tr>\n",
       "    <tr>\n",
       "      <th>53027</th>\n",
       "      <td>53027</td>\n",
       "      <td>0</td>\n",
       "      <td>2.000000e+00</td>\n",
       "      <td>t1</td>\n",
       "      <td>1.000000e+00</td>\n",
       "      <td>g8</td>\n",
       "      <td>1</td>\n",
       "      <td>0.000000e+00</td>\n",
       "      <td>4.015000e+06</td>\n",
       "      <td>4.500000e+00</td>\n",
       "      <td>...</td>\n",
       "      <td>3.270000e+02</td>\n",
       "      <td>1.960000e+02</td>\n",
       "      <td>-1.310000e+02</td>\n",
       "      <td>-1.000000e+17</td>\n",
       "      <td>-1.000000e+17</td>\n",
       "      <td>-1.000000e+17</td>\n",
       "      <td>-1.000000e+17</td>\n",
       "      <td>-1.000000e+17</td>\n",
       "      <td>FEMALE</td>\n",
       "      <td>3.200000e+01</td>\n",
       "    </tr>\n",
       "    <tr>\n",
       "      <th>53028</th>\n",
       "      <td>53028</td>\n",
       "      <td>0</td>\n",
       "      <td>-1.000000e+17</td>\n",
       "      <td>NaN</td>\n",
       "      <td>-1.000000e+17</td>\n",
       "      <td>NaN</td>\n",
       "      <td>0</td>\n",
       "      <td>-1.000000e+17</td>\n",
       "      <td>-1.000000e+17</td>\n",
       "      <td>-1.000000e+17</td>\n",
       "      <td>...</td>\n",
       "      <td>-1.000000e+17</td>\n",
       "      <td>-1.000000e+17</td>\n",
       "      <td>-1.000000e+17</td>\n",
       "      <td>-1.000000e+17</td>\n",
       "      <td>-1.000000e+17</td>\n",
       "      <td>-1.000000e+17</td>\n",
       "      <td>-1.000000e+17</td>\n",
       "      <td>0.000000e+00</td>\n",
       "      <td>missing_gender</td>\n",
       "      <td>-1.000000e+17</td>\n",
       "    </tr>\n",
       "    <tr>\n",
       "      <th>53029</th>\n",
       "      <td>53029</td>\n",
       "      <td>0</td>\n",
       "      <td>-1.000000e+17</td>\n",
       "      <td>NaN</td>\n",
       "      <td>-1.000000e+17</td>\n",
       "      <td>NaN</td>\n",
       "      <td>0</td>\n",
       "      <td>-1.000000e+17</td>\n",
       "      <td>-1.000000e+17</td>\n",
       "      <td>-1.000000e+17</td>\n",
       "      <td>...</td>\n",
       "      <td>-1.000000e+17</td>\n",
       "      <td>-1.000000e+17</td>\n",
       "      <td>-1.000000e+17</td>\n",
       "      <td>0.000000e+00</td>\n",
       "      <td>2.000000e+00</td>\n",
       "      <td>-1.000000e+17</td>\n",
       "      <td>0.000000e+00</td>\n",
       "      <td>6.500000e+01</td>\n",
       "      <td>missing_gender</td>\n",
       "      <td>-1.000000e+17</td>\n",
       "    </tr>\n",
       "  </tbody>\n",
       "</table>\n",
       "<p>53030 rows × 172 columns</p>\n",
       "</div>"
      ],
      "text/plain": [
       "          id  label       Field_3 Field_4      Field_10 Field_12  Field_13  \\\n",
       "0          0      1  1.000000e+00      gh  1.000000e+00       g8         1   \n",
       "1          1      0 -1.000000e+17     NaN -1.000000e+17      NaN         0   \n",
       "2          2      0  2.000000e+00      t1  1.000000e+00      NaN         1   \n",
       "3          3      0 -1.000000e+17     NaN -1.000000e+17      NaN         0   \n",
       "4          4      1 -1.000000e+17     NaN -1.000000e+17      NaN         0   \n",
       "...      ...    ...           ...     ...           ...      ...       ...   \n",
       "53025  53025      0  1.000000e+00      gh  1.000000e+00      NaN         1   \n",
       "53026  53026      0 -1.000000e+17     NaN -1.000000e+17      NaN         0   \n",
       "53027  53027      0  2.000000e+00      t1  1.000000e+00       g8         1   \n",
       "53028  53028      0 -1.000000e+17     NaN -1.000000e+17      NaN         0   \n",
       "53029  53029      0 -1.000000e+17     NaN -1.000000e+17      NaN         0   \n",
       "\n",
       "           Field_19      Field_20      Field_21  ...  Field_7Field_8  \\\n",
       "0      0.000000e+00  4.258600e+06  4.500000e+00  ...    2.110000e+02   \n",
       "1     -1.000000e+17 -1.000000e+17 -1.000000e+17  ...   -1.000000e+17   \n",
       "2      0.000000e+00  5.000000e+06  4.500000e+00  ...    3.640000e+02   \n",
       "3     -1.000000e+17 -1.000000e+17 -1.000000e+17  ...   -1.000000e+17   \n",
       "4     -1.000000e+17 -1.000000e+17 -1.000000e+17  ...   -1.000000e+17   \n",
       "...             ...           ...           ...  ...             ...   \n",
       "53025  1.000000e+00  1.490000e+06  4.500000e+00  ...    3.650000e+02   \n",
       "53026 -1.000000e+17 -1.000000e+17 -1.000000e+17  ...   -1.000000e+17   \n",
       "53027  0.000000e+00  4.015000e+06  4.500000e+00  ...    3.270000e+02   \n",
       "53028 -1.000000e+17 -1.000000e+17 -1.000000e+17  ...   -1.000000e+17   \n",
       "53029 -1.000000e+17 -1.000000e+17 -1.000000e+17  ...   -1.000000e+17   \n",
       "\n",
       "       Field_7Field_9  Field_8Field_9  F_startDateF_endDate  \\\n",
       "0       -5.000000e+00   -2.160000e+02         -1.000000e+17   \n",
       "1       -1.000000e+17   -1.000000e+17         -1.000000e+17   \n",
       "2        1.600000e+01   -3.480000e+02          0.000000e+00   \n",
       "3       -1.000000e+17   -1.000000e+17         -1.000000e+17   \n",
       "4       -1.000000e+17   -1.000000e+17         -1.000000e+17   \n",
       "...               ...             ...                   ...   \n",
       "53025   -8.000000e+00   -3.730000e+02          0.000000e+00   \n",
       "53026   -1.000000e+17   -1.000000e+17         -1.000000e+17   \n",
       "53027    1.960000e+02   -1.310000e+02         -1.000000e+17   \n",
       "53028   -1.000000e+17   -1.000000e+17         -1.000000e+17   \n",
       "53029   -1.000000e+17   -1.000000e+17          0.000000e+00   \n",
       "\n",
       "       E_startDateE_endDate  C_startDateC_endDate G_startDateG_endDate  \\\n",
       "0             -1.000000e+17         -1.000000e+17        -1.000000e+17   \n",
       "1             -1.000000e+17         -1.000000e+17        -1.000000e+17   \n",
       "2              2.400000e+01         -1.000000e+17        -1.000000e+17   \n",
       "3             -1.000000e+17         -1.000000e+17        -1.000000e+17   \n",
       "4             -1.000000e+17         -1.000000e+17        -1.000000e+17   \n",
       "...                     ...                   ...                  ...   \n",
       "53025          0.000000e+00          0.000000e+00        -1.000000e+17   \n",
       "53026         -1.000000e+17         -1.000000e+17         0.000000e+00   \n",
       "53027         -1.000000e+17         -1.000000e+17        -1.000000e+17   \n",
       "53028         -1.000000e+17         -1.000000e+17        -1.000000e+17   \n",
       "53029          2.000000e+00         -1.000000e+17         0.000000e+00   \n",
       "\n",
       "       A_startDateA_endDate          gender           Age  \n",
       "0              6.700000e+01            MALE  2.900000e+01  \n",
       "1              0.000000e+00  missing_gender -1.000000e+17  \n",
       "2              4.700000e+01          FEMALE  2.200000e+01  \n",
       "3             -1.000000e+17  missing_gender -1.000000e+17  \n",
       "4             -1.000000e+17  missing_gender -1.000000e+17  \n",
       "...                     ...             ...           ...  \n",
       "53025          2.020000e+02          FEMALE  3.200000e+01  \n",
       "53026          5.200000e+01  missing_gender -1.000000e+17  \n",
       "53027         -1.000000e+17          FEMALE  3.200000e+01  \n",
       "53028          0.000000e+00  missing_gender -1.000000e+17  \n",
       "53029          6.500000e+01  missing_gender -1.000000e+17  \n",
       "\n",
       "[53030 rows x 172 columns]"
      ]
     },
     "execution_count": 41,
     "metadata": {},
     "output_type": "execute_result"
    }
   ],
   "source": [
    "df_train"
   ]
  },
  {
   "cell_type": "code",
   "execution_count": 43,
   "metadata": {
    "ExecuteTime": {
     "end_time": "2020-08-02T11:10:44.443231Z",
     "start_time": "2020-08-02T11:10:44.437946Z"
    }
   },
   "outputs": [
    {
     "data": {
      "text/plain": [
       "id                        int64\n",
       "label                     int64\n",
       "Field_3                 float64\n",
       "Field_4                  object\n",
       "Field_10                float64\n",
       "                         ...   \n",
       "C_startDateC_endDate    float64\n",
       "G_startDateG_endDate    float64\n",
       "A_startDateA_endDate    float64\n",
       "gender                   object\n",
       "Age                     float64\n",
       "Length: 172, dtype: object"
      ]
     },
     "execution_count": 43,
     "metadata": {},
     "output_type": "execute_result"
    }
   ],
   "source": [
    "df_train.dtypes"
   ]
  },
  {
   "cell_type": "code",
   "execution_count": 49,
   "metadata": {
    "ExecuteTime": {
     "end_time": "2020-08-02T11:14:57.611630Z",
     "start_time": "2020-08-02T11:14:57.482633Z"
    }
   },
   "outputs": [],
   "source": [
    "for col in df_train.columns:\n",
    "    if df_train[col].dtype.name == \"object\":\n",
    "        df_train[col] = df_train[col].astype('category')"
   ]
  },
  {
   "cell_type": "code",
   "execution_count": 50,
   "metadata": {
    "ExecuteTime": {
     "end_time": "2020-08-02T11:14:59.411333Z",
     "start_time": "2020-08-02T11:14:59.405570Z"
    }
   },
   "outputs": [
    {
     "data": {
      "text/plain": [
       "id                         int64\n",
       "label                      int64\n",
       "Field_3                  float64\n",
       "Field_4                 category\n",
       "Field_10                 float64\n",
       "                          ...   \n",
       "C_startDateC_endDate     float64\n",
       "G_startDateG_endDate     float64\n",
       "A_startDateA_endDate     float64\n",
       "gender                  category\n",
       "Age                      float64\n",
       "Length: 172, dtype: object"
      ]
     },
     "execution_count": 50,
     "metadata": {},
     "output_type": "execute_result"
    }
   ],
   "source": [
    "df_train.dtypes"
   ]
  },
  {
   "cell_type": "code",
   "execution_count": 44,
   "metadata": {
    "ExecuteTime": {
     "end_time": "2020-08-02T11:11:03.287206Z",
     "start_time": "2020-08-02T11:11:03.281717Z"
    }
   },
   "outputs": [
    {
     "data": {
      "text/plain": [
       "id                         int64\n",
       "Field_3                  float64\n",
       "Field_4                 category\n",
       "Field_10                 float64\n",
       "Field_12                category\n",
       "                          ...   \n",
       "C_startDateC_endDate     float64\n",
       "G_startDateG_endDate     float64\n",
       "A_startDateA_endDate     float64\n",
       "gender                  category\n",
       "Age                      float64\n",
       "Length: 171, dtype: object"
      ]
     },
     "execution_count": 44,
     "metadata": {},
     "output_type": "execute_result"
    }
   ],
   "source": [
    "train_fe.dtypes"
   ]
  },
  {
   "cell_type": "code",
   "execution_count": 51,
   "metadata": {
    "ExecuteTime": {
     "end_time": "2020-08-02T11:15:08.958702Z",
     "start_time": "2020-08-02T11:15:08.954848Z"
    }
   },
   "outputs": [],
   "source": [
    "data_version = \"01-01-2021\""
   ]
  },
  {
   "cell_type": "code",
   "execution_count": 28,
   "metadata": {
    "ExecuteTime": {
     "end_time": "2020-08-02T11:04:10.125007Z",
     "start_time": "2020-08-02T11:03:59.301885Z"
    }
   },
   "outputs": [],
   "source": [
    "os.makedirs(f\"../../data/kalapa/{data_version}/\", exist_ok=True)\n",
    "df_train.to_csv(f\"../../data/kalapa/{data_version}/train.csv\", index = False)\n",
    "test_fe.to_csv(f\"../../data/kalapa/{data_version}/test.csv\", index = False)"
   ]
  },
  {
   "cell_type": "code",
   "execution_count": 35,
   "metadata": {
    "ExecuteTime": {
     "end_time": "2020-08-02T11:08:37.810737Z",
     "start_time": "2020-08-02T11:08:36.710329Z"
    }
   },
   "outputs": [],
   "source": [
    "df_train = pd.read_csv(f\"../../data/kalapa/{data_version}/train.csv\")\n",
    "test_fe = pd.read_csv(f\"../../data/kalapa/{data_version}/test.csv\")"
   ]
  },
  {
   "cell_type": "code",
   "execution_count": 29,
   "metadata": {
    "ExecuteTime": {
     "end_time": "2020-08-02T11:04:10.134095Z",
     "start_time": "2020-08-02T11:04:10.128896Z"
    }
   },
   "outputs": [],
   "source": [
    "NUM_BOOST_ROUND = 10000"
   ]
  },
  {
   "cell_type": "code",
   "execution_count": 36,
   "metadata": {
    "ExecuteTime": {
     "end_time": "2020-08-02T11:08:41.461017Z",
     "start_time": "2020-08-02T11:08:41.454007Z"
    }
   },
   "outputs": [],
   "source": [
    "def gini(y_true, y_score):\n",
    "    return roc_auc_score(y_true, y_score)*2 - 1\n",
    "def lgb_gini(y_pred, dataset_true):\n",
    "    y_true = dataset_true.get_label()\n",
    "    return 'gini', gini(y_true, y_pred), True"
   ]
  },
  {
   "cell_type": "code",
   "execution_count": 37,
   "metadata": {
    "ExecuteTime": {
     "end_time": "2020-08-02T11:08:42.971244Z",
     "start_time": "2020-08-02T11:08:42.968475Z"
    },
    "code_folding": []
   },
   "outputs": [],
   "source": [
    "lgbm_param = {'boosting_type': 'gbdt',\\\n",
    "              'colsample_bytree': 0.6602479798930369, \\\n",
    "              'is_unbalance': False, \\\n",
    "              'learning_rate': 0.00746275526696824, \\\n",
    "              'max_depth': 15, \\\n",
    "              'metric': 'auc', \\\n",
    "              'min_child_samples': 25, \\\n",
    "              'num_leaves': 60, \\\n",
    "              'objective': 'binary', \\\n",
    "              'reg_alpha': 0.4693391197064131, \\\n",
    "              'reg_lambda': 0.16175478669541327, \\\n",
    "              'subsample_for_bin': 60000}"
   ]
  },
  {
   "cell_type": "code",
   "execution_count": 38,
   "metadata": {
    "ExecuteTime": {
     "end_time": "2020-08-02T11:09:10.110322Z",
     "start_time": "2020-08-02T11:09:10.097501Z"
    },
    "code_folding": []
   },
   "outputs": [],
   "source": [
    "def kfold(train_fe,y_label,test_fe):\n",
    "    seeds = np.random.randint(0, 10000, 1)\n",
    "    preds = 0    \n",
    "    feature_important = None\n",
    "    avg_train_gini = 0\n",
    "    avg_val_gini = 0\n",
    "\n",
    "    for s in seeds:\n",
    "        skf = StratifiedKFold(n_splits= 5, random_state = 6484, shuffle=True)        \n",
    "        lgbm_param['random_state'] = 6484    \n",
    "        seed_train_gini = 0\n",
    "        seed_val_gini = 0\n",
    "        for i, (train_idx, val_idx) in enumerate(skf.split(np.zeros(len(y_label)), y_label)):                \n",
    "            X_train, X_val = train_fe.iloc[train_idx].drop([\"id\", \"label\"], 1), train_fe.iloc[val_idx].drop([\"id\", \"label\"], 1)                \n",
    "            y_train, y_val = y_label.iloc[train_idx], y_label.iloc[val_idx]\n",
    "            lgb_train = lgb.Dataset(X_train, y_train)\n",
    "            lgb_eval  = lgb.Dataset(X_val, y_val)\n",
    "\n",
    "            evals_result = {} \n",
    "            model = lgb.train(lgbm_param,\n",
    "                        lgb_train,\n",
    "                        num_boost_round=NUM_BOOST_ROUND,  \n",
    "                        early_stopping_rounds=400,\n",
    "                        feval=lgb_gini,\n",
    "                        verbose_eval= 200,\n",
    "                        evals_result=evals_result,\n",
    "                        valid_sets=[lgb_train, lgb_eval])\n",
    "\n",
    "            seed_train_gini += model.best_score[\"training\"][\"gini\"] / skf.n_splits\n",
    "            seed_val_gini += model.best_score[\"valid_1\"][\"gini\"] / skf.n_splits\n",
    "\n",
    "            avg_train_gini += model.best_score[\"training\"][\"gini\"] / (len(seeds) * skf.n_splits)\n",
    "            avg_val_gini += model.best_score[\"valid_1\"][\"gini\"] / (len(seeds) * skf.n_splits)\n",
    "\n",
    "            if feature_important is None:\n",
    "                feature_important = model.feature_importance() / (len(seeds) * skf.n_splits)\n",
    "            else:\n",
    "                feature_important += model.feature_importance() / (len(seeds) * skf.n_splits)        \n",
    "\n",
    "            pred = model.predict(test_fe.drop([\"id\"], 1))\n",
    "            preds += pred / (skf.n_splits * len(seeds))\n",
    "\n",
    "            print(\"Fold {}: {}/{}\".format(i, model.best_score[\"training\"][\"gini\"], model.best_score[\"valid_1\"][\"gini\"]))\n",
    "        print(\"Seed {}: {}/{}\".format(s, seed_train_gini, seed_val_gini))\n",
    "\n",
    "    print(\"-\" * 30)\n",
    "    print(\"Avg train gini: {}\".format(avg_train_gini))\n",
    "    print(\"Avg valid gini: {}\".format(avg_val_gini))\n",
    "    print(\"=\" * 30)\n",
    "    return preds"
   ]
  },
  {
   "cell_type": "code",
   "execution_count": null,
   "metadata": {
    "ExecuteTime": {
     "start_time": "2020-08-02T11:15:18.506Z"
    },
    "scrolled": false
   },
   "outputs": [
    {
     "name": "stdout",
     "output_type": "stream",
     "text": [
      "Training until validation scores don't improve for 400 rounds\n"
     ]
    }
   ],
   "source": [
    "preds = kfold(df_train,y_label,test_fe)"
   ]
  },
  {
   "cell_type": "code",
   "execution_count": null,
   "metadata": {
    "ExecuteTime": {
     "end_time": "2020-08-02T11:05:06.447916Z",
     "start_time": "2020-08-02T11:03:29.900Z"
    }
   },
   "outputs": [],
   "source": [
    "df_test[\"label\"] = preds\n",
    "df_test[['id', 'label']].to_csv('submission_lgm.csv', index=False)"
   ]
  }
 ],
 "metadata": {
  "kernelspec": {
   "display_name": "Python 3",
   "language": "python",
   "name": "python3"
  },
  "language_info": {
   "codemirror_mode": {
    "name": "ipython",
    "version": 3
   },
   "file_extension": ".py",
   "mimetype": "text/x-python",
   "name": "python",
   "nbconvert_exporter": "python",
   "pygments_lexer": "ipython3",
   "version": "3.7.7"
  },
  "varInspector": {
   "cols": {
    "lenName": 16,
    "lenType": 16,
    "lenVar": 40
   },
   "kernels_config": {
    "python": {
     "delete_cmd_postfix": "",
     "delete_cmd_prefix": "del ",
     "library": "var_list.py",
     "varRefreshCmd": "print(var_dic_list())"
    },
    "r": {
     "delete_cmd_postfix": ") ",
     "delete_cmd_prefix": "rm(",
     "library": "var_list.r",
     "varRefreshCmd": "cat(var_dic_list()) "
    }
   },
   "types_to_exclude": [
    "module",
    "function",
    "builtin_function_or_method",
    "instance",
    "_Feature"
   ],
   "window_display": false
  }
 },
 "nbformat": 4,
 "nbformat_minor": 4
}
