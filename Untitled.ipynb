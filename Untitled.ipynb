{
 "cells": [
  {
   "cell_type": "code",
   "execution_count": 1,
   "metadata": {
    "ExecuteTime": {
     "end_time": "2020-07-16T13:04:12.165624Z",
     "start_time": "2020-07-16T13:04:11.385821Z"
    }
   },
   "outputs": [],
   "source": [
    "import pandas as pd\n",
    "import numpy as np\n",
    "import datetime\n",
    "import time\n",
    "import sys\n",
    "import csv\n",
    "from sklearn import metrics\n",
    "from dateutil.parser import parse\n",
    "from sklearn.preprocessing import MinMaxScaler\n",
    "from sklearn.neighbors import KNeighborsClassifier\n",
    "from sklearn.linear_model import LogisticRegression\n",
    "from sklearn.ensemble import RandomForestClassifier\n",
    "from sklearn.ensemble import GradientBoostingClassifier\n",
    "from sklearn.neural_network import MLPClassifier\n",
    "from sklearn.model_selection import train_test_split\n",
    "from sklearn.feature_extraction.text import TfidfVectorizer"
   ]
  },
  {
   "cell_type": "code",
   "execution_count": 2,
   "metadata": {
    "ExecuteTime": {
     "end_time": "2020-07-16T13:04:12.170447Z",
     "start_time": "2020-07-16T13:04:12.167152Z"
    }
   },
   "outputs": [],
   "source": [
    "data_version = \"16-07-2020\""
   ]
  },
  {
   "cell_type": "code",
   "execution_count": 3,
   "metadata": {
    "ExecuteTime": {
     "end_time": "2020-07-16T13:04:13.691764Z",
     "start_time": "2020-07-16T13:04:12.173319Z"
    }
   },
   "outputs": [
    {
     "name": "stderr",
     "output_type": "stream",
     "text": [
      "/home/parker/anaconda3/envs/py37/lib/python3.7/site-packages/IPython/core/interactiveshell.py:3072: DtypeWarning: Columns (35,43) have mixed types.Specify dtype option on import or set low_memory=False.\n",
      "  interactivity=interactivity, compiler=compiler, result=result)\n",
      "/home/parker/anaconda3/envs/py37/lib/python3.7/site-packages/IPython/core/interactiveshell.py:3072: DtypeWarning: Columns (34,42) have mixed types.Specify dtype option on import or set low_memory=False.\n",
      "  interactivity=interactivity, compiler=compiler, result=result)\n"
     ]
    }
   ],
   "source": [
    "df_train = pd.read_csv(\"../../data/kalapa/train.csv\")\n",
    "df_test = pd.read_csv(\"../../data/kalapa/test.csv\")"
   ]
  },
  {
   "cell_type": "code",
   "execution_count": 4,
   "metadata": {
    "ExecuteTime": {
     "end_time": "2020-07-16T13:04:15.077265Z",
     "start_time": "2020-07-16T13:04:13.693939Z"
    }
   },
   "outputs": [],
   "source": [
    "def check_duplicate(feature1, feature2):\n",
    "    check1 = list(df_train[feature1].fillna(\"NaN\"))\n",
    "    check2 = list(df_train[feature2].fillna(\"NaN\"))\n",
    "    return check1 == check2\n",
    "distinct_columns = {}\n",
    "for col1 in df_train.columns:\n",
    "    vc = df_train[col1].value_counts()\n",
    "    index = [len(vc), set(list(vc)), set(list(vc.index))]\n",
    "    for col2 in distinct_columns:\n",
    "        if index == distinct_columns[col2] and check_duplicate(col1, col2):\n",
    "            break\n",
    "    else:\n",
    "        distinct_columns[col1] = index\n",
    "df_train = df_train[distinct_columns]\n",
    "del distinct_columns['label']\n",
    "df_test = df_test[distinct_columns]"
   ]
  },
  {
   "cell_type": "code",
   "execution_count": 36,
   "metadata": {
    "ExecuteTime": {
     "end_time": "2020-07-16T13:08:40.157178Z",
     "start_time": "2020-07-16T13:08:40.148962Z"
    }
   },
   "outputs": [],
   "source": [
    "data_type = {\n",
    "    \"cat_num\":[\"Field_22\",\"Field_13\", \"Field_41\", \"Field_42\",\"Field_50\", \"Field_51\", \"Field_53\",\\\n",
    "               \"Field_73\",  \"partner0_A\", \"partner0_B\", \"partner0_C\", \"partner0_D\", \"partner0_E\",\\\n",
    "               \"partner0_F\", \"partner0_G\", \"partner0_H\", \"partner1_A\", \"partner1_C\", \"partner1_G\", \"partner1_H\",\\\n",
    "               \"partner2_A\", \"partner2_C\", \"partner2_D\", \"partner2_F\", \"partner2_H\",\"partner3_A\", \"partner3_D\",\\\n",
    "               \"partner3_E\", \"partner4_L\", \"partner5_A\", \"partner5_D\", \"partner5_G\"],\n",
    "    \"cat_str\" : [\"Field_4\", \"Field_12\", \"gioiTinh\", \"Field_62\", \"Field_65\", \"Field_66\",\\\n",
    "                 \"info_social_sex\", \"Field_36\", \"Field_54\", \"Field_55\", \"Field_38\", \"brief\", \"Field_61\", \\\n",
    "                 'data.basic_info.locale', \"currentLocationCountry\", 'homeTownCountry', \"currentLocationState\", \\\n",
    "                'homeTownState'], \n",
    "    \"date\" : [\"Field_1\", \"Field_2\", \"Field_5\", \"Field_6\", \"Field_7\", \"Field_8\", \"Field_9\", \"Field_11\",\\\n",
    "             \"Field_15\", \"Field_25\", \"Field_32\", \"Field_33\", \"Field_35\", \"Field_40\", \\\n",
    "             \"Field_43\", \"Field_44\", \"F_startDate\", \"F_endDate\", \"E_startDate\", \"E_endDate\", \"C_startDate\",\n",
    "             \"C_endDate\", \"G_startDate\", \"G_endDate\", \"A_startDate\", \"A_endDate\",  ],\n",
    "    \"text\" : [\"diaChi\", \"Field_46\", \"Field_48\", \"Field_49\", \"Field_56\",\\\n",
    "              \"maCv\", \"currentLocationName\",'homeTownName', \"currentLocationCity\", \"homeTownCity\"],\n",
    "    \"drop\" : [ \"Field_34\",\"Field_68\", \"Field_18\", \"Field_45\",]\n",
    "}"
   ]
  },
  {
   "cell_type": "code",
   "execution_count": 6,
   "metadata": {
    "ExecuteTime": {
     "end_time": "2020-07-16T13:04:15.205460Z",
     "start_time": "2020-07-16T13:04:15.090367Z"
    }
   },
   "outputs": [],
   "source": [
    "a = data_type[\"cat_num\"]+ data_type[\"cat_str\"]+data_type[\"date\"]+data_type[\"text\"]+ data_type[\"drop\"]\n"
   ]
  },
  {
   "cell_type": "code",
   "execution_count": 7,
   "metadata": {
    "ExecuteTime": {
     "end_time": "2020-07-16T13:04:15.411409Z",
     "start_time": "2020-07-16T13:04:15.209333Z"
    }
   },
   "outputs": [
    {
     "name": "stdout",
     "output_type": "stream",
     "text": [
      "id:[53030, [1, 1, 1, 1, 1], [2047, 45699, 12947, 14994, 8849]]\n",
      "label:[2, [36234, 16796], [0, 1]]\n",
      "Field_3:[2, [13771, 11793], [2.0, 1.0]]\n",
      "Field_10:[6, [23354, 1978, 201, 26, 3], [1.0, 2.0, 3.0, 4.0, 5.0]]\n",
      "Field_19:[354, [22583, 888, 136, 116, 116], [0.0, 1.0, 1.86, 2.34, 2.67]]\n",
      "Field_20:[4735, [1664, 1353, 717, 557, 499], [1490000.0, 1390000.0, 4500000.0, 973000.0, 1043000.0]]\n",
      "Field_21:[4, [25372, 89, 60, 43], [4.5, 0.0, 6.0, 3.0]]\n",
      "Field_23:[313, [6054, 1290, 804, 778, 521], [0.0, 12.0, 24.0, 1.0, 2.0]]\n",
      "Field_27:[636, [23330, 237, 144, 99, 74], [0.0, 1150000.0, 1210000.0, 3317000.0, 3745000.0]]\n",
      "Field_28:[634, [23414, 144, 142, 99, 74], [0.0, 54450.0, 51750.0, 149265.0, 168525.0]]\n",
      "Field_29:[43, [9526, 8969, 2065, 1761, 418], [12.0, 0.0, 6.0, 3.0, 24.0]]\n",
      "ngaySinh:[7894, [132, 110, 107, 104, 103], [19900101.0, 19910101.0, 19880101.0, 19870101.0, 19920101.0]]\n",
      "namSinh:[3, [24130, 1432, 2], [0.0, 1.0, 2.0]]\n",
      "Field_39:[2, [20695, 4869], [1.0, 0.0]]\n",
      "Field_47:[5, [10328, 6667, 5389, 1786, 1394], ['Zezo', 'One', 'Four', 'Two', 'Three']]\n",
      "Field_58:[5, [18595, 4855, 1354, 552, 208], [0.0, 5.0, 2.0, 4.0, 3.0]]\n",
      "Field_59:[35, [8184, 6076, 4862, 1988, 1327], [5.0, 4.0, 33.0, 6.0, 35.0]]\n",
      "Field_60:[34, [8184, 6076, 4862, 1988, 1327], [3.0, 2.0, 31.0, 4.0, 33.0]]\n",
      "Field_63:[10, [11802, 5056, 4074, 1659, 1420], [2.0, 3.0, 4.0, 8.0, 0.0]]\n",
      "Field_64:[9, [11802, 5056, 4074, 1659, 1139], [1.0, 2.0, 3.0, 4.0, 7.0]]\n",
      "Field_67:[14430, [377, 99, 95, 87, 82], [776953.0, 67129.0, 470954.0, 644004.0, 658535.0]]\n",
      "Field_69:[101, [7449, 505, 398, 384, 306], [0.0, 0.01, 1.0, 0.02, 0.04]]\n",
      "Field_70:[50, [2270, 1684, 1492, 1403, 1125], [0.08, 0.12, 0.49, 0.6, 0.62]]\n",
      "Field_71:[321, [951, 930, 817, 518, 458], [0.06, 0.245, 0.04, 0.195, 0.175]]\n",
      "Field_72:[496, [1020, 911, 727, 558, 514], [0.12, 0.49, 0.08, 0.39, 0.28]]\n",
      "Field_74:[489, [142, 124, 121, 112, 111], [347.0, 340.0, 1436.0, 342.0, 337.0]]\n",
      "Field_75:[14, [5077, 3728, 3698, 2775, 2431], [4.0, 3.0, 5.0, 1.0, 2.0]]\n",
      "Field_76:[11, [11267, 6548, 3880, 1283, 384], [0.0, 1.0, 2.0, 3.0, 4.0]]\n",
      "Field_77:[15, [4480, 4209, 4183, 3375, 2918], [4.0, 1.0, 3.0, 2.0, 5.0]]\n",
      "friendCount:[2932, [9216, 426, 258, 209, 172], [0.0, 1.0, 2.0, 3.0, 4.0]]\n",
      "subscriberCount:[1525, [18335, 35, 30, 29, 28], [0.0, 13.0, 47.0, 30.0, 65.0]]\n",
      "currentLocationLocationId:[914, [10391, 2657, 2292, 317, 278], [0.0, 108458769184495.0, 106388046062960.0, 111711568847056.0, 105667452800809.0]]\n",
      "currentLocationLatitude:[679, [10391, 2657, 2309, 319, 278], [0.0, 10.77, 21.0333, 16.0678, 19.8075]]\n",
      "currentLocationLongitude:[589, [10391, 2657, 2302, 319, 278], [0.0, 106.6815, 105.85, 108.221, 105.77600000000001]]\n",
      "homeTownLocationId:[931, [11546, 1217, 1170, 361, 222], [0.0, 106388046062960.0, 108458769184495.0, 105667452800809.0, 114668461883395.0]]\n",
      "homeTownLatitude:[642, [11546, 1236, 1170, 361, 222], [0.0, 21.0333, 10.77, 19.8075, 20.8523]]\n",
      "homeTownLongitude:[521, [11546, 1234, 1170, 361, 222], [0.0, 105.85, 106.6815, 105.77600000000001, 106.7005]]\n",
      "topFriends:[5, [11696, 3339, 2401, 1828, 1402], [5.0, 1.0, 2.0, 3.0, 4.0]]\n",
      "numOrg:[19, [7800, 7693, 6565, 6524, 5613], [2.0, 3.0, 4.0, 1.0, 0.0]]\n",
      "F_numOrg:[6,[20414, 3922, 672, 101, 6], [1.0, 2.0, 3.0, 4.0, 5.0]]\n",
      "F_numQuery:[15, [17532, 5102, 1647, 522, 181], [1.0, 2.0, 3.0, 4.0, 5.0]]\n",
      "E_numOrg:[7, [19406, 4977, 1105, 194, 25], [1.0, 2.0, 3.0, 4.0, 5.0]]\n",
      "E_numQuery:[15, [16361, 5683, 2206, 885, 354], [1.0, 2.0, 3.0, 4.0, 5.0]]\n",
      "C_numOrg:[3, [20419, 1397, 84], [1.0, 2.0, 3.0]]\n",
      "C_numQuery:[76, [17768, 2745, 442, 167, 145], [1.0, 2.0, 3.0, 4.0, 5.0]]\n",
      "G_numOrg:[4, [20789, 2639, 223, 7], [1.0, 2.0, 3.0, 4.0]]\n",
      "G_numQuery:[10, [20239, 2628, 562, 144, 55], [1.0, 2.0, 3.0, 4.0, 5.0]]\n",
      "A_numOrg:[14, [8979, 8403, 7902, 6336, 4101], [2.0, 3.0, 1.0, 4.0, 5.0]]\n",
      "A_numQuery:[36, [7601, 7135, 7104, 5452, 4097], [2.0, 3.0, 1.0, 4.0, 5.0]]\n",
      "summary_6m:[103, [4279, 4081, 3348, 3127, 3061], [1.0, 2.0, 7.0, 8.0, 6.0]]\n",
      "summary_3m:[94, [4762, 4127, 3403, 3339, 3125], [1.0, 2.0, 7.0, 6.0, 5.0]]\n",
      "summary_1m:[80, [6382, 4652, 3884, 3509, 3033], [1.0, 2.0, 5.0, 6.0, 7.0]]\n",
      "summary_1w:[51, [7521, 3716, 2833, 1860, 1809], [1.0, 2.0, 5.0, 6.0, 3.0]]\n",
      "num_of_phone:[5, [46317, 4015, 169, 14, 3], [1.0, 2.0, 3.0, 4.0, 5.0]]\n",
      "Field_78:[427, [3367, 1431, 1079, 1024, 952], [0.0, 1.0, 2.0, 3.0, 4.0]]\n",
      "Field_79:[11036, [981, 485, 358, 264, 252], [0.0, 0.7071067811865476, 1.4142135623730951, 3.5355339059327378, 2.1213203435596424]]\n",
      "Field_80:[2839, [2619, 925, 724, 637, 517], [0.0, 1.0, 2.0, 3.0, 4.0]]\n",
      "Field_81:[421, [13533, 2191, 1228, 842, 596], [0.0, 1.0, 2.0, 3.0, 4.0]]\n",
      "Field_82:[4, [36251, 7000, 5099, 4680], [1, 4, 2, 3]]\n"
     ]
    }
   ],
   "source": [
    "others = []\n",
    "for feature in df_train.columns:\n",
    "    if feature not in a:\n",
    "        vc = df_train[feature].value_counts()\n",
    "        index = [len(vc), list(vc)[:5], list(vc.index)[:5]]\n",
    "        print(f\"{feature}:{index}\")"
   ]
  },
  {
   "cell_type": "code",
   "execution_count": 8,
   "metadata": {
    "ExecuteTime": {
     "end_time": "2020-07-16T13:04:15.425915Z",
     "start_time": "2020-07-16T13:04:15.413661Z"
    },
    "code_folding": [],
    "scrolled": true
   },
   "outputs": [
    {
     "name": "stdout",
     "output_type": "stream",
     "text": [
      "Field_34:[2635, [337, 239, 233, 188, 188], ['20180102', '20190401', '20190102', '20180101', '20180103']]\n"
     ]
    }
   ],
   "source": [
    "for column in df_train[data_type[\"drop\"]]:\n",
    "    vc = df_train[column].value_counts()\n",
    "    index = [len(vc), list(vc)[:5], list(vc.index)[:5]]\n",
    "    #if len(vc) <= 2 :\n",
    "    print(f\"{column}:{index}\")\n",
    "    "
   ]
  },
  {
   "cell_type": "code",
   "execution_count": 9,
   "metadata": {
    "ExecuteTime": {
     "end_time": "2020-07-16T13:04:16.154982Z",
     "start_time": "2020-07-16T13:04:15.427544Z"
    }
   },
   "outputs": [],
   "source": [
    "df_train[\"ngaySinh\"] = df_train[\"ngaySinh\"].fillna(\"n\")\n",
    "df_train[\"ngaySinh\"] = df_train[\"ngaySinh\"].map(lambda x: parse(str(x)[:-8]).timestamp() if x is not \"n\" else np.nan)"
   ]
  },
  {
   "cell_type": "code",
   "execution_count": 10,
   "metadata": {
    "ExecuteTime": {
     "end_time": "2020-07-16T13:04:16.185018Z",
     "start_time": "2020-07-16T13:04:16.156621Z"
    }
   },
   "outputs": [],
   "source": [
    "['I', 'V', 'II', 'IV', 'III']\n",
    "classes = {\n",
    "    \"Zezo\" : 0,\n",
    "    \"I\" : 1,\n",
    "    \"II\" : 2,\n",
    "    \"III\": 3,\n",
    "    \"IV\" : 4,\n",
    "    \"V\" : 5\n",
    "}\n",
    "df_train[\"Field_62\"] = df_train[\"Field_62\"].map(lambda x: classes[x] if x in classes else x)\n",
    "df_test[\"Field_62\"] = df_test[\"Field_62\"].map(lambda x: classes[x] if x in classes else x)\n"
   ]
  },
  {
   "cell_type": "code",
   "execution_count": 11,
   "metadata": {
    "ExecuteTime": {
     "end_time": "2020-07-16T13:04:16.356065Z",
     "start_time": "2020-07-16T13:04:16.186586Z"
    }
   },
   "outputs": [],
   "source": [
    "classes = {\n",
    "    \"Zezo\" : 0,\n",
    "    \"One\" : 1,\n",
    "    \"Two\" : 2,\n",
    "    \"Three\": 3,\n",
    "    \"Four\" : 4\n",
    "}\n",
    "df_train[\"Field_47\"] = df_train[\"Field_47\"].map(lambda x: classes[x] if x in classes else x)\n",
    "df_test[\"Field_47\"] = df_test[\"Field_47\"].map(lambda x: classes[x] if x in classes else x)"
   ]
  },
  {
   "cell_type": "code",
   "execution_count": 12,
   "metadata": {
    "ExecuteTime": {
     "end_time": "2020-07-16T13:04:16.382452Z",
     "start_time": "2020-07-16T13:04:16.357671Z"
    }
   },
   "outputs": [],
   "source": [
    "def cat_test(classes, cat_str):\n",
    "    if cat_str in classes:\n",
    "        return classes[cat_str]\n",
    "    else:\n",
    "        return np.nan"
   ]
  },
  {
   "cell_type": "code",
   "execution_count": 13,
   "metadata": {
    "ExecuteTime": {
     "end_time": "2020-07-16T13:04:16.555525Z",
     "start_time": "2020-07-16T13:04:16.384605Z"
    }
   },
   "outputs": [],
   "source": [
    "for feature in data_type[\"drop\"]:\n",
    "    df_train[feature] = df_train[feature].fillna(\"NaN\")\n",
    "    vc = df_train[feature].value_counts()\n",
    "    uniques = list(vc.index)\n",
    "    classes = {}\n",
    "    k = 0\n",
    "    for unique in uniques:\n",
    "        if unique not in classes:\n",
    "            classes[unique] = k\n",
    "            k += 1\n",
    "    df_train[feature] = df_train[feature].map(lambda x: classes[x])"
   ]
  },
  {
   "cell_type": "code",
   "execution_count": 14,
   "metadata": {
    "ExecuteTime": {
     "end_time": "2020-07-16T13:04:16.607701Z",
     "start_time": "2020-07-16T13:04:16.557381Z"
    }
   },
   "outputs": [],
   "source": [
    "df_train = df_train.drop(data_type[\"drop\"], axis = 1)\n",
    "#df_test= df_test.drop(data_type[\"drop\"], axis = 1)"
   ]
  },
  {
   "cell_type": "code",
   "execution_count": 15,
   "metadata": {
    "ExecuteTime": {
     "end_time": "2020-07-16T13:04:16.701785Z",
     "start_time": "2020-07-16T13:04:16.610588Z"
    },
    "code_folding": []
   },
   "outputs": [],
   "source": [
    "def transform(df):\n",
    "    for feature in distinct_columns:\n",
    "        if feature in data_type[\"cat_num\"]:\n",
    "            df[feature] = df[feature].fillna(\"Nan\")\n",
    "            df = pd.get_dummies(df, columns=[feature])\n",
    "        elif feature in data_type[\"date\"]:\n",
    "            df[feature] = df[feature].map(lambda x: parse(str(x)).timestamp() if type(x) is str else x)\n",
    "            df[feature].fillna(df[feature].mean())\n",
    "        elif feature in  data_type[\"cat_str\"]:\n",
    "            df[feature] = df[feature].fillna(\"Nan\")\n",
    "            df = pd.get_dummies(df, columns=[feature])\n",
    "        elif feature in data_type[\"text\"]:\n",
    "            vectorizer = TfidfVectorizer(max_features = 10)\n",
    "            columns = [str(feature) +\"_\" + str(i) for i in range(10)]\n",
    "            X = pd.DataFrame(data = vectorizer.fit_transform(df[feature].fillna(\"Nan\")).toarray())\n",
    "            X.columns  = columns\n",
    "            df = df.join(X)\n",
    "            df = df.drop([feature], axis =1)\n",
    "    return df"
   ]
  },
  {
   "cell_type": "code",
   "execution_count": 16,
   "metadata": {
    "ExecuteTime": {
     "end_time": "2020-07-16T13:04:57.485551Z",
     "start_time": "2020-07-16T13:04:16.704569Z"
    }
   },
   "outputs": [],
   "source": [
    "df_train = transform(df_train)"
   ]
  },
  {
   "cell_type": "code",
   "execution_count": 17,
   "metadata": {
    "ExecuteTime": {
     "end_time": "2020-07-16T13:04:57.647528Z",
     "start_time": "2020-07-16T13:04:57.487157Z"
    }
   },
   "outputs": [],
   "source": [
    "X1 = df_train.Field_2 - df_train.Field_1\n",
    "X2 = df_train.Field_6 - df_train.Field_5\n",
    "X3 = df_train.Field_8 - df_train.Field_7\n",
    "X4 = df_train.Field_33 - df_train.Field_32\n",
    "X5 = df_train.Field_44 - df_train.Field_43\n",
    "X6 = df_train.F_endDate - df_train.F_startDate\n",
    "X7 = df_train.E_endDate - df_train.E_startDate\n",
    "X8 = df_train.C_endDate - df_train.C_startDate\n",
    "X9 = df_train.G_endDate - df_train.G_startDate\n",
    "X10 = df_train.A_endDate - df_train.A_startDate\n",
    "df_train = pd.concat([df_train,X1,X2, X3, X4, X5, X6, X7, X8, X9, X10], axis=1)"
   ]
  },
  {
   "cell_type": "code",
   "execution_count": 18,
   "metadata": {
    "ExecuteTime": {
     "end_time": "2020-07-16T13:04:57.679689Z",
     "start_time": "2020-07-16T13:04:57.649209Z"
    }
   },
   "outputs": [
    {
     "data": {
      "text/html": [
       "<div>\n",
       "<style scoped>\n",
       "    .dataframe tbody tr th:only-of-type {\n",
       "        vertical-align: middle;\n",
       "    }\n",
       "\n",
       "    .dataframe tbody tr th {\n",
       "        vertical-align: top;\n",
       "    }\n",
       "\n",
       "    .dataframe thead th {\n",
       "        text-align: right;\n",
       "    }\n",
       "</style>\n",
       "<table border=\"1\" class=\"dataframe\">\n",
       "  <thead>\n",
       "    <tr style=\"text-align: right;\">\n",
       "      <th></th>\n",
       "      <th>id</th>\n",
       "      <th>label</th>\n",
       "      <th>Field_1</th>\n",
       "      <th>Field_2</th>\n",
       "      <th>Field_3</th>\n",
       "      <th>Field_5</th>\n",
       "      <th>Field_6</th>\n",
       "      <th>Field_7</th>\n",
       "      <th>Field_8</th>\n",
       "      <th>Field_9</th>\n",
       "      <th>...</th>\n",
       "      <th>0</th>\n",
       "      <th>1</th>\n",
       "      <th>2</th>\n",
       "      <th>3</th>\n",
       "      <th>4</th>\n",
       "      <th>5</th>\n",
       "      <th>6</th>\n",
       "      <th>7</th>\n",
       "      <th>8</th>\n",
       "      <th>9</th>\n",
       "    </tr>\n",
       "  </thead>\n",
       "  <tbody>\n",
       "    <tr>\n",
       "      <th>0</th>\n",
       "      <td>0</td>\n",
       "      <td>1</td>\n",
       "      <td>1.563940e+09</td>\n",
       "      <td>1.564604e+09</td>\n",
       "      <td>1.0</td>\n",
       "      <td>1.545829e+09</td>\n",
       "      <td>1.545829e+09</td>\n",
       "      <td>1.546261e+09</td>\n",
       "      <td>1.564495e+09</td>\n",
       "      <td>1.545829e+09</td>\n",
       "      <td>...</td>\n",
       "      <td>664259.146</td>\n",
       "      <td>0.0</td>\n",
       "      <td>18234000.0</td>\n",
       "      <td>116038800.0</td>\n",
       "      <td>9.007220e+07</td>\n",
       "      <td>NaN</td>\n",
       "      <td>NaN</td>\n",
       "      <td>NaN</td>\n",
       "      <td>NaN</td>\n",
       "      <td>5788800.0</td>\n",
       "    </tr>\n",
       "    <tr>\n",
       "      <th>1</th>\n",
       "      <td>1</td>\n",
       "      <td>0</td>\n",
       "      <td>NaN</td>\n",
       "      <td>NaN</td>\n",
       "      <td>NaN</td>\n",
       "      <td>NaN</td>\n",
       "      <td>NaN</td>\n",
       "      <td>NaN</td>\n",
       "      <td>NaN</td>\n",
       "      <td>NaN</td>\n",
       "      <td>...</td>\n",
       "      <td>NaN</td>\n",
       "      <td>NaN</td>\n",
       "      <td>NaN</td>\n",
       "      <td>NaN</td>\n",
       "      <td>NaN</td>\n",
       "      <td>NaN</td>\n",
       "      <td>NaN</td>\n",
       "      <td>NaN</td>\n",
       "      <td>NaN</td>\n",
       "      <td>0.0</td>\n",
       "    </tr>\n",
       "    <tr>\n",
       "      <th>2</th>\n",
       "      <td>2</td>\n",
       "      <td>0</td>\n",
       "      <td>1.547709e+09</td>\n",
       "      <td>1.547709e+09</td>\n",
       "      <td>2.0</td>\n",
       "      <td>1.547644e+09</td>\n",
       "      <td>1.547644e+09</td>\n",
       "      <td>1.546261e+09</td>\n",
       "      <td>1.577711e+09</td>\n",
       "      <td>1.547644e+09</td>\n",
       "      <td>...</td>\n",
       "      <td>138.633</td>\n",
       "      <td>0.0</td>\n",
       "      <td>31449600.0</td>\n",
       "      <td>129945600.0</td>\n",
       "      <td>1.996190e+07</td>\n",
       "      <td>0.0</td>\n",
       "      <td>2073600.0</td>\n",
       "      <td>NaN</td>\n",
       "      <td>NaN</td>\n",
       "      <td>4057200.0</td>\n",
       "    </tr>\n",
       "    <tr>\n",
       "      <th>3</th>\n",
       "      <td>3</td>\n",
       "      <td>0</td>\n",
       "      <td>NaN</td>\n",
       "      <td>NaN</td>\n",
       "      <td>NaN</td>\n",
       "      <td>NaN</td>\n",
       "      <td>NaN</td>\n",
       "      <td>NaN</td>\n",
       "      <td>NaN</td>\n",
       "      <td>NaN</td>\n",
       "      <td>...</td>\n",
       "      <td>NaN</td>\n",
       "      <td>NaN</td>\n",
       "      <td>NaN</td>\n",
       "      <td>NaN</td>\n",
       "      <td>NaN</td>\n",
       "      <td>NaN</td>\n",
       "      <td>NaN</td>\n",
       "      <td>NaN</td>\n",
       "      <td>NaN</td>\n",
       "      <td>NaN</td>\n",
       "    </tr>\n",
       "    <tr>\n",
       "      <th>4</th>\n",
       "      <td>4</td>\n",
       "      <td>1</td>\n",
       "      <td>NaN</td>\n",
       "      <td>NaN</td>\n",
       "      <td>NaN</td>\n",
       "      <td>NaN</td>\n",
       "      <td>NaN</td>\n",
       "      <td>NaN</td>\n",
       "      <td>NaN</td>\n",
       "      <td>NaN</td>\n",
       "      <td>...</td>\n",
       "      <td>NaN</td>\n",
       "      <td>NaN</td>\n",
       "      <td>NaN</td>\n",
       "      <td>NaN</td>\n",
       "      <td>NaN</td>\n",
       "      <td>NaN</td>\n",
       "      <td>NaN</td>\n",
       "      <td>NaN</td>\n",
       "      <td>NaN</td>\n",
       "      <td>NaN</td>\n",
       "    </tr>\n",
       "  </tbody>\n",
       "</table>\n",
       "<p>5 rows × 1193 columns</p>\n",
       "</div>"
      ],
      "text/plain": [
       "   id  label       Field_1       Field_2  Field_3       Field_5       Field_6  \\\n",
       "0   0      1  1.563940e+09  1.564604e+09      1.0  1.545829e+09  1.545829e+09   \n",
       "1   1      0           NaN           NaN      NaN           NaN           NaN   \n",
       "2   2      0  1.547709e+09  1.547709e+09      2.0  1.547644e+09  1.547644e+09   \n",
       "3   3      0           NaN           NaN      NaN           NaN           NaN   \n",
       "4   4      1           NaN           NaN      NaN           NaN           NaN   \n",
       "\n",
       "        Field_7       Field_8       Field_9  ...           0    1           2  \\\n",
       "0  1.546261e+09  1.564495e+09  1.545829e+09  ...  664259.146  0.0  18234000.0   \n",
       "1           NaN           NaN           NaN  ...         NaN  NaN         NaN   \n",
       "2  1.546261e+09  1.577711e+09  1.547644e+09  ...     138.633  0.0  31449600.0   \n",
       "3           NaN           NaN           NaN  ...         NaN  NaN         NaN   \n",
       "4           NaN           NaN           NaN  ...         NaN  NaN         NaN   \n",
       "\n",
       "             3             4    5          6   7   8          9  \n",
       "0  116038800.0  9.007220e+07  NaN        NaN NaN NaN  5788800.0  \n",
       "1          NaN           NaN  NaN        NaN NaN NaN        0.0  \n",
       "2  129945600.0  1.996190e+07  0.0  2073600.0 NaN NaN  4057200.0  \n",
       "3          NaN           NaN  NaN        NaN NaN NaN        NaN  \n",
       "4          NaN           NaN  NaN        NaN NaN NaN        NaN  \n",
       "\n",
       "[5 rows x 1193 columns]"
      ]
     },
     "execution_count": 18,
     "metadata": {},
     "output_type": "execute_result"
    }
   ],
   "source": [
    "df_train.head()"
   ]
  },
  {
   "cell_type": "code",
   "execution_count": 19,
   "metadata": {
    "ExecuteTime": {
     "end_time": "2020-07-16T13:04:57.778851Z",
     "start_time": "2020-07-16T13:04:57.681519Z"
    }
   },
   "outputs": [
    {
     "data": {
      "text/plain": [
       "'\\ndf_train.Field_1 = df_train.Field_2 - df_train.Field_1\\ndf_train.Field_5 = df_train.Field_6 - df_train.Field_5\\ndf_train.Field_7 = df_train.Field_8 - df_train.Field_7\\ndf_train.Field_32 = df_train.Field_33 - df_train.Field_32\\ndf_train.Field_43 = df_train.Field_44 - df_train.Field_43\\ndf_train.F_startDate = df_train.F_endDate - df_train.F_startDate\\ndf_train.E_startDate = df_train.E_endDate - df_train.E_startDate\\ndf_train.C_startDate = df_train.C_endDate - df_train.C_startDate\\ndf_train.G_startDate = df_train.G_endDate - df_train.G_startDate\\ndf_train.G_startDate = df_train.A_endDate - df_train.A_startDate\\n\\n\\ndrop = [\"Field_2\", \"Field_6\", \"Field_8\", \"Field_33\", \"Field_44\", \"F_endDate\", \"E_endDate\", \"C_endDate\",       \"G_endDate\", \"A_endDate\"]\\n\\ndf_train = df_train.drop(drop, axis = 1)\\n'"
      ]
     },
     "execution_count": 19,
     "metadata": {},
     "output_type": "execute_result"
    }
   ],
   "source": [
    "\"\"\"\n",
    "df_train.Field_1 = df_train.Field_2 - df_train.Field_1\n",
    "df_train.Field_5 = df_train.Field_6 - df_train.Field_5\n",
    "df_train.Field_7 = df_train.Field_8 - df_train.Field_7\n",
    "df_train.Field_32 = df_train.Field_33 - df_train.Field_32\n",
    "df_train.Field_43 = df_train.Field_44 - df_train.Field_43\n",
    "df_train.F_startDate = df_train.F_endDate - df_train.F_startDate\n",
    "df_train.E_startDate = df_train.E_endDate - df_train.E_startDate\n",
    "df_train.C_startDate = df_train.C_endDate - df_train.C_startDate\n",
    "df_train.G_startDate = df_train.G_endDate - df_train.G_startDate\n",
    "df_train.G_startDate = df_train.A_endDate - df_train.A_startDate\n",
    "\n",
    "\n",
    "drop = [\"Field_2\", \"Field_6\", \"Field_8\", \"Field_33\", \"Field_44\", \"F_endDate\", \"E_endDate\", \"C_endDate\",\\\n",
    "       \"G_endDate\", \"A_endDate\"]\n",
    "\n",
    "df_train = df_train.drop(drop, axis = 1)\n",
    "\"\"\""
   ]
  },
  {
   "cell_type": "code",
   "execution_count": 20,
   "metadata": {
    "ExecuteTime": {
     "end_time": "2020-07-16T13:04:57.922934Z",
     "start_time": "2020-07-16T13:04:57.781559Z"
    }
   },
   "outputs": [
    {
     "data": {
      "text/html": [
       "<div>\n",
       "<style scoped>\n",
       "    .dataframe tbody tr th:only-of-type {\n",
       "        vertical-align: middle;\n",
       "    }\n",
       "\n",
       "    .dataframe tbody tr th {\n",
       "        vertical-align: top;\n",
       "    }\n",
       "\n",
       "    .dataframe thead th {\n",
       "        text-align: right;\n",
       "    }\n",
       "</style>\n",
       "<table border=\"1\" class=\"dataframe\">\n",
       "  <thead>\n",
       "    <tr style=\"text-align: right;\">\n",
       "      <th></th>\n",
       "      <th>id</th>\n",
       "      <th>label</th>\n",
       "      <th>Field_1</th>\n",
       "      <th>Field_2</th>\n",
       "      <th>Field_3</th>\n",
       "      <th>Field_5</th>\n",
       "      <th>Field_6</th>\n",
       "      <th>Field_7</th>\n",
       "      <th>Field_8</th>\n",
       "      <th>Field_9</th>\n",
       "      <th>...</th>\n",
       "      <th>0</th>\n",
       "      <th>1</th>\n",
       "      <th>2</th>\n",
       "      <th>3</th>\n",
       "      <th>4</th>\n",
       "      <th>5</th>\n",
       "      <th>6</th>\n",
       "      <th>7</th>\n",
       "      <th>8</th>\n",
       "      <th>9</th>\n",
       "    </tr>\n",
       "  </thead>\n",
       "  <tbody>\n",
       "    <tr>\n",
       "      <th>0</th>\n",
       "      <td>0</td>\n",
       "      <td>1</td>\n",
       "      <td>1.563940e+09</td>\n",
       "      <td>1.564604e+09</td>\n",
       "      <td>1.0</td>\n",
       "      <td>1.545829e+09</td>\n",
       "      <td>1.545829e+09</td>\n",
       "      <td>1.546261e+09</td>\n",
       "      <td>1.564495e+09</td>\n",
       "      <td>1.545829e+09</td>\n",
       "      <td>...</td>\n",
       "      <td>664259.146</td>\n",
       "      <td>0.0</td>\n",
       "      <td>18234000.0</td>\n",
       "      <td>116038800.0</td>\n",
       "      <td>9.007220e+07</td>\n",
       "      <td>NaN</td>\n",
       "      <td>NaN</td>\n",
       "      <td>NaN</td>\n",
       "      <td>NaN</td>\n",
       "      <td>5788800.0</td>\n",
       "    </tr>\n",
       "    <tr>\n",
       "      <th>1</th>\n",
       "      <td>1</td>\n",
       "      <td>0</td>\n",
       "      <td>NaN</td>\n",
       "      <td>NaN</td>\n",
       "      <td>NaN</td>\n",
       "      <td>NaN</td>\n",
       "      <td>NaN</td>\n",
       "      <td>NaN</td>\n",
       "      <td>NaN</td>\n",
       "      <td>NaN</td>\n",
       "      <td>...</td>\n",
       "      <td>NaN</td>\n",
       "      <td>NaN</td>\n",
       "      <td>NaN</td>\n",
       "      <td>NaN</td>\n",
       "      <td>NaN</td>\n",
       "      <td>NaN</td>\n",
       "      <td>NaN</td>\n",
       "      <td>NaN</td>\n",
       "      <td>NaN</td>\n",
       "      <td>0.0</td>\n",
       "    </tr>\n",
       "    <tr>\n",
       "      <th>2</th>\n",
       "      <td>2</td>\n",
       "      <td>0</td>\n",
       "      <td>1.547709e+09</td>\n",
       "      <td>1.547709e+09</td>\n",
       "      <td>2.0</td>\n",
       "      <td>1.547644e+09</td>\n",
       "      <td>1.547644e+09</td>\n",
       "      <td>1.546261e+09</td>\n",
       "      <td>1.577711e+09</td>\n",
       "      <td>1.547644e+09</td>\n",
       "      <td>...</td>\n",
       "      <td>138.633</td>\n",
       "      <td>0.0</td>\n",
       "      <td>31449600.0</td>\n",
       "      <td>129945600.0</td>\n",
       "      <td>1.996190e+07</td>\n",
       "      <td>0.0</td>\n",
       "      <td>2073600.0</td>\n",
       "      <td>NaN</td>\n",
       "      <td>NaN</td>\n",
       "      <td>4057200.0</td>\n",
       "    </tr>\n",
       "    <tr>\n",
       "      <th>3</th>\n",
       "      <td>3</td>\n",
       "      <td>0</td>\n",
       "      <td>NaN</td>\n",
       "      <td>NaN</td>\n",
       "      <td>NaN</td>\n",
       "      <td>NaN</td>\n",
       "      <td>NaN</td>\n",
       "      <td>NaN</td>\n",
       "      <td>NaN</td>\n",
       "      <td>NaN</td>\n",
       "      <td>...</td>\n",
       "      <td>NaN</td>\n",
       "      <td>NaN</td>\n",
       "      <td>NaN</td>\n",
       "      <td>NaN</td>\n",
       "      <td>NaN</td>\n",
       "      <td>NaN</td>\n",
       "      <td>NaN</td>\n",
       "      <td>NaN</td>\n",
       "      <td>NaN</td>\n",
       "      <td>NaN</td>\n",
       "    </tr>\n",
       "    <tr>\n",
       "      <th>4</th>\n",
       "      <td>4</td>\n",
       "      <td>1</td>\n",
       "      <td>NaN</td>\n",
       "      <td>NaN</td>\n",
       "      <td>NaN</td>\n",
       "      <td>NaN</td>\n",
       "      <td>NaN</td>\n",
       "      <td>NaN</td>\n",
       "      <td>NaN</td>\n",
       "      <td>NaN</td>\n",
       "      <td>...</td>\n",
       "      <td>NaN</td>\n",
       "      <td>NaN</td>\n",
       "      <td>NaN</td>\n",
       "      <td>NaN</td>\n",
       "      <td>NaN</td>\n",
       "      <td>NaN</td>\n",
       "      <td>NaN</td>\n",
       "      <td>NaN</td>\n",
       "      <td>NaN</td>\n",
       "      <td>NaN</td>\n",
       "    </tr>\n",
       "  </tbody>\n",
       "</table>\n",
       "<p>5 rows × 1193 columns</p>\n",
       "</div>"
      ],
      "text/plain": [
       "   id  label       Field_1       Field_2  Field_3       Field_5       Field_6  \\\n",
       "0   0      1  1.563940e+09  1.564604e+09      1.0  1.545829e+09  1.545829e+09   \n",
       "1   1      0           NaN           NaN      NaN           NaN           NaN   \n",
       "2   2      0  1.547709e+09  1.547709e+09      2.0  1.547644e+09  1.547644e+09   \n",
       "3   3      0           NaN           NaN      NaN           NaN           NaN   \n",
       "4   4      1           NaN           NaN      NaN           NaN           NaN   \n",
       "\n",
       "        Field_7       Field_8       Field_9  ...           0    1           2  \\\n",
       "0  1.546261e+09  1.564495e+09  1.545829e+09  ...  664259.146  0.0  18234000.0   \n",
       "1           NaN           NaN           NaN  ...         NaN  NaN         NaN   \n",
       "2  1.546261e+09  1.577711e+09  1.547644e+09  ...     138.633  0.0  31449600.0   \n",
       "3           NaN           NaN           NaN  ...         NaN  NaN         NaN   \n",
       "4           NaN           NaN           NaN  ...         NaN  NaN         NaN   \n",
       "\n",
       "             3             4    5          6   7   8          9  \n",
       "0  116038800.0  9.007220e+07  NaN        NaN NaN NaN  5788800.0  \n",
       "1          NaN           NaN  NaN        NaN NaN NaN        0.0  \n",
       "2  129945600.0  1.996190e+07  0.0  2073600.0 NaN NaN  4057200.0  \n",
       "3          NaN           NaN  NaN        NaN NaN NaN        NaN  \n",
       "4          NaN           NaN  NaN        NaN NaN NaN        NaN  \n",
       "\n",
       "[5 rows x 1193 columns]"
      ]
     },
     "execution_count": 20,
     "metadata": {},
     "output_type": "execute_result"
    }
   ],
   "source": [
    "df_train.head()"
   ]
  },
  {
   "cell_type": "code",
   "execution_count": 21,
   "metadata": {
    "ExecuteTime": {
     "end_time": "2020-07-16T13:04:58.954976Z",
     "start_time": "2020-07-16T13:04:57.924201Z"
    }
   },
   "outputs": [],
   "source": [
    "df_train = df_train.fillna(df_train.mean())"
   ]
  },
  {
   "cell_type": "code",
   "execution_count": 22,
   "metadata": {
    "ExecuteTime": {
     "end_time": "2020-07-16T13:04:58.966774Z",
     "start_time": "2020-07-16T13:04:58.956347Z"
    }
   },
   "outputs": [
    {
     "name": "stdout",
     "output_type": "stream",
     "text": [
      "<class 'pandas.core.frame.DataFrame'>\n",
      "RangeIndex: 53030 entries, 0 to 53029\n",
      "Columns: 1193 entries, id to 9\n",
      "dtypes: float64(222), int64(4), uint8(967)\n",
      "memory usage: 140.3 MB\n"
     ]
    }
   ],
   "source": [
    "df_train.info()"
   ]
  },
  {
   "cell_type": "code",
   "execution_count": 23,
   "metadata": {
    "ExecuteTime": {
     "end_time": "2020-07-16T13:04:59.085604Z",
     "start_time": "2020-07-16T13:04:58.970984Z"
    }
   },
   "outputs": [
    {
     "name": "stdout",
     "output_type": "stream",
     "text": [
      "There are no categorical variable in the data set\n",
      "[]\n"
     ]
    }
   ],
   "source": [
    "categoricals = []\n",
    "for header in df_train.columns:\n",
    "    if str(df_train[header].dtypes) is \"object\":\n",
    "        categoricals.append(header)\n",
    "if len(categoricals) is 0:\n",
    "    print(\"There are no categorical variable in the data set\")\n",
    "print(categoricals)"
   ]
  },
  {
   "cell_type": "code",
   "execution_count": 24,
   "metadata": {
    "ExecuteTime": {
     "end_time": "2020-07-16T13:04:59.177659Z",
     "start_time": "2020-07-16T13:04:59.087568Z"
    }
   },
   "outputs": [],
   "source": [
    "#df_test = transform(df_test)\n",
    "#df_test = df_test.fillna(df_test.mean())"
   ]
  },
  {
   "cell_type": "code",
   "execution_count": 25,
   "metadata": {
    "ExecuteTime": {
     "end_time": "2020-07-16T13:04:59.913680Z",
     "start_time": "2020-07-16T13:04:59.180845Z"
    }
   },
   "outputs": [],
   "source": [
    "X = df_train.iloc[:,2:]\n",
    "scaler = MinMaxScaler()\n",
    "scaler.fit(X)\n",
    "X_transform = scaler.transform(X)\n",
    "#test_transform = scaler.transform(df_test.iloc[:,1:])\n",
    "X_transform = pd.DataFrame(data = X_transform)\n",
    "#test_transform = pd.DataFrame(data = test_transform)"
   ]
  },
  {
   "cell_type": "code",
   "execution_count": 26,
   "metadata": {
    "ExecuteTime": {
     "end_time": "2020-07-16T13:05:00.120317Z",
     "start_time": "2020-07-16T13:04:59.915488Z"
    }
   },
   "outputs": [],
   "source": [
    "train = pd.concat([df_train.label,X_transform], axis = 1)\n",
    "#test = pd.concat([df_test.id,test_transform], axis = 1)"
   ]
  },
  {
   "cell_type": "code",
   "execution_count": 27,
   "metadata": {
    "ExecuteTime": {
     "end_time": "2020-07-16T13:05:00.237165Z",
     "start_time": "2020-07-16T13:05:00.122466Z"
    }
   },
   "outputs": [],
   "source": [
    "train.columns = df_train.iloc[:,1:].columns"
   ]
  },
  {
   "cell_type": "code",
   "execution_count": 28,
   "metadata": {
    "ExecuteTime": {
     "end_time": "2020-07-16T13:05:00.298751Z",
     "start_time": "2020-07-16T13:05:00.239314Z"
    }
   },
   "outputs": [
    {
     "data": {
      "text/html": [
       "<div>\n",
       "<style scoped>\n",
       "    .dataframe tbody tr th:only-of-type {\n",
       "        vertical-align: middle;\n",
       "    }\n",
       "\n",
       "    .dataframe tbody tr th {\n",
       "        vertical-align: top;\n",
       "    }\n",
       "\n",
       "    .dataframe thead th {\n",
       "        text-align: right;\n",
       "    }\n",
       "</style>\n",
       "<table border=\"1\" class=\"dataframe\">\n",
       "  <thead>\n",
       "    <tr style=\"text-align: right;\">\n",
       "      <th></th>\n",
       "      <th>label</th>\n",
       "      <th>Field_1</th>\n",
       "      <th>Field_2</th>\n",
       "      <th>Field_3</th>\n",
       "      <th>Field_5</th>\n",
       "      <th>Field_6</th>\n",
       "      <th>Field_7</th>\n",
       "      <th>Field_8</th>\n",
       "      <th>Field_9</th>\n",
       "      <th>Field_10</th>\n",
       "      <th>...</th>\n",
       "      <th>0</th>\n",
       "      <th>1</th>\n",
       "      <th>2</th>\n",
       "      <th>3</th>\n",
       "      <th>4</th>\n",
       "      <th>5</th>\n",
       "      <th>6</th>\n",
       "      <th>7</th>\n",
       "      <th>8</th>\n",
       "      <th>9</th>\n",
       "    </tr>\n",
       "  </thead>\n",
       "  <tbody>\n",
       "    <tr>\n",
       "      <th>0</th>\n",
       "      <td>1</td>\n",
       "      <td>0.858723</td>\n",
       "      <td>0.865461</td>\n",
       "      <td>0.000000</td>\n",
       "      <td>0.905224</td>\n",
       "      <td>0.905224</td>\n",
       "      <td>0.835758</td>\n",
       "      <td>0.620451</td>\n",
       "      <td>0.905224</td>\n",
       "      <td>0.200000</td>\n",
       "      <td>...</td>\n",
       "      <td>0.008157</td>\n",
       "      <td>0.542097</td>\n",
       "      <td>0.123182</td>\n",
       "      <td>0.807485</td>\n",
       "      <td>0.926814</td>\n",
       "      <td>0.057777</td>\n",
       "      <td>0.063766</td>\n",
       "      <td>0.044828</td>\n",
       "      <td>0.018521</td>\n",
       "      <td>0.167500</td>\n",
       "    </tr>\n",
       "    <tr>\n",
       "      <th>1</th>\n",
       "      <td>0</td>\n",
       "      <td>0.702279</td>\n",
       "      <td>0.714121</td>\n",
       "      <td>0.538687</td>\n",
       "      <td>0.880168</td>\n",
       "      <td>0.878789</td>\n",
       "      <td>0.810383</td>\n",
       "      <td>0.614491</td>\n",
       "      <td>0.880464</td>\n",
       "      <td>0.219308</td>\n",
       "      <td>...</td>\n",
       "      <td>0.014312</td>\n",
       "      <td>0.538737</td>\n",
       "      <td>0.152858</td>\n",
       "      <td>0.704122</td>\n",
       "      <td>0.669363</td>\n",
       "      <td>0.057777</td>\n",
       "      <td>0.063766</td>\n",
       "      <td>0.044828</td>\n",
       "      <td>0.018521</td>\n",
       "      <td>0.000000</td>\n",
       "    </tr>\n",
       "    <tr>\n",
       "      <th>2</th>\n",
       "      <td>0</td>\n",
       "      <td>0.693564</td>\n",
       "      <td>0.693548</td>\n",
       "      <td>1.000000</td>\n",
       "      <td>0.910604</td>\n",
       "      <td>0.910604</td>\n",
       "      <td>0.835758</td>\n",
       "      <td>0.646219</td>\n",
       "      <td>0.910604</td>\n",
       "      <td>0.200000</td>\n",
       "      <td>...</td>\n",
       "      <td>0.000002</td>\n",
       "      <td>0.542097</td>\n",
       "      <td>0.185563</td>\n",
       "      <td>0.845322</td>\n",
       "      <td>0.205402</td>\n",
       "      <td>0.000000</td>\n",
       "      <td>0.120628</td>\n",
       "      <td>0.044828</td>\n",
       "      <td>0.018521</td>\n",
       "      <td>0.117396</td>\n",
       "    </tr>\n",
       "    <tr>\n",
       "      <th>3</th>\n",
       "      <td>0</td>\n",
       "      <td>0.702279</td>\n",
       "      <td>0.714121</td>\n",
       "      <td>0.538687</td>\n",
       "      <td>0.880168</td>\n",
       "      <td>0.878789</td>\n",
       "      <td>0.810383</td>\n",
       "      <td>0.614491</td>\n",
       "      <td>0.880464</td>\n",
       "      <td>0.219308</td>\n",
       "      <td>...</td>\n",
       "      <td>0.014312</td>\n",
       "      <td>0.538737</td>\n",
       "      <td>0.152858</td>\n",
       "      <td>0.704122</td>\n",
       "      <td>0.669363</td>\n",
       "      <td>0.057777</td>\n",
       "      <td>0.063766</td>\n",
       "      <td>0.044828</td>\n",
       "      <td>0.018521</td>\n",
       "      <td>0.125235</td>\n",
       "    </tr>\n",
       "    <tr>\n",
       "      <th>4</th>\n",
       "      <td>1</td>\n",
       "      <td>0.702279</td>\n",
       "      <td>0.714121</td>\n",
       "      <td>0.538687</td>\n",
       "      <td>0.880168</td>\n",
       "      <td>0.878789</td>\n",
       "      <td>0.810383</td>\n",
       "      <td>0.614491</td>\n",
       "      <td>0.880464</td>\n",
       "      <td>0.219308</td>\n",
       "      <td>...</td>\n",
       "      <td>0.014312</td>\n",
       "      <td>0.538737</td>\n",
       "      <td>0.152858</td>\n",
       "      <td>0.704122</td>\n",
       "      <td>0.669363</td>\n",
       "      <td>0.057777</td>\n",
       "      <td>0.063766</td>\n",
       "      <td>0.044828</td>\n",
       "      <td>0.018521</td>\n",
       "      <td>0.125235</td>\n",
       "    </tr>\n",
       "  </tbody>\n",
       "</table>\n",
       "<p>5 rows × 1192 columns</p>\n",
       "</div>"
      ],
      "text/plain": [
       "   label   Field_1   Field_2   Field_3   Field_5   Field_6   Field_7  \\\n",
       "0      1  0.858723  0.865461  0.000000  0.905224  0.905224  0.835758   \n",
       "1      0  0.702279  0.714121  0.538687  0.880168  0.878789  0.810383   \n",
       "2      0  0.693564  0.693548  1.000000  0.910604  0.910604  0.835758   \n",
       "3      0  0.702279  0.714121  0.538687  0.880168  0.878789  0.810383   \n",
       "4      1  0.702279  0.714121  0.538687  0.880168  0.878789  0.810383   \n",
       "\n",
       "    Field_8   Field_9  Field_10  ...         0         1         2         3  \\\n",
       "0  0.620451  0.905224  0.200000  ...  0.008157  0.542097  0.123182  0.807485   \n",
       "1  0.614491  0.880464  0.219308  ...  0.014312  0.538737  0.152858  0.704122   \n",
       "2  0.646219  0.910604  0.200000  ...  0.000002  0.542097  0.185563  0.845322   \n",
       "3  0.614491  0.880464  0.219308  ...  0.014312  0.538737  0.152858  0.704122   \n",
       "4  0.614491  0.880464  0.219308  ...  0.014312  0.538737  0.152858  0.704122   \n",
       "\n",
       "          4         5         6         7         8         9  \n",
       "0  0.926814  0.057777  0.063766  0.044828  0.018521  0.167500  \n",
       "1  0.669363  0.057777  0.063766  0.044828  0.018521  0.000000  \n",
       "2  0.205402  0.000000  0.120628  0.044828  0.018521  0.117396  \n",
       "3  0.669363  0.057777  0.063766  0.044828  0.018521  0.125235  \n",
       "4  0.669363  0.057777  0.063766  0.044828  0.018521  0.125235  \n",
       "\n",
       "[5 rows x 1192 columns]"
      ]
     },
     "execution_count": 28,
     "metadata": {},
     "output_type": "execute_result"
    }
   ],
   "source": [
    "train.head()"
   ]
  },
  {
   "cell_type": "code",
   "execution_count": 29,
   "metadata": {
    "ExecuteTime": {
     "end_time": "2020-07-16T13:05:00.385597Z",
     "start_time": "2020-07-16T13:05:00.301806Z"
    }
   },
   "outputs": [],
   "source": [
    "#test.head()"
   ]
  },
  {
   "cell_type": "code",
   "execution_count": 30,
   "metadata": {
    "ExecuteTime": {
     "end_time": "2020-07-16T13:05:00.547512Z",
     "start_time": "2020-07-16T13:05:00.387292Z"
    },
    "scrolled": true
   },
   "outputs": [
    {
     "name": "stdout",
     "output_type": "stream",
     "text": [
      "<class 'pandas.core.frame.DataFrame'>\n",
      "RangeIndex: 53030 entries, 0 to 53029\n",
      "Columns: 1192 entries, label to 9\n",
      "dtypes: float64(1191), int64(1)\n",
      "memory usage: 482.3 MB\n"
     ]
    }
   ],
   "source": [
    "train.info()"
   ]
  },
  {
   "cell_type": "code",
   "execution_count": 31,
   "metadata": {
    "ExecuteTime": {
     "end_time": "2020-07-16T13:05:51.227457Z",
     "start_time": "2020-07-16T13:05:00.551758Z"
    }
   },
   "outputs": [],
   "source": [
    "X_train, X_dev = train_test_split(train, test_size=0.1, random_state=40, stratify = train.label)\n",
    "X_train.to_csv(f\"../../data/kalapa/{data_version}/train.csv\", index = False)\n",
    "X_dev.to_csv(f\"../../data/kalapa/{data_version}/dev.csv\", index = False)"
   ]
  },
  {
   "cell_type": "code",
   "execution_count": 32,
   "metadata": {
    "ExecuteTime": {
     "end_time": "2020-07-16T13:05:51.251524Z",
     "start_time": "2020-07-16T13:05:51.230362Z"
    }
   },
   "outputs": [],
   "source": [
    "X_train.sample(5).to_csv(f\"../../data/kalapa/{data_version}-test/train.csv\", index = False)\n",
    "X_dev.sample(5).to_csv(f\"../../data/kalapa/{data_version}-test/dev.csv\", index = False)"
   ]
  },
  {
   "cell_type": "code",
   "execution_count": 33,
   "metadata": {
    "ExecuteTime": {
     "end_time": "2020-07-16T13:05:51.453072Z",
     "start_time": "2020-07-16T13:05:51.253081Z"
    }
   },
   "outputs": [],
   "source": [
    "#test.to_csv(f\"../../data/kalapa/{data_version}/test.csv\", index = False)\n",
    "#test.sample(5).to_csv(f\"../../data/kalapa/{data_version}-test/test.csv\", index = False)"
   ]
  },
  {
   "cell_type": "code",
   "execution_count": 34,
   "metadata": {
    "ExecuteTime": {
     "end_time": "2020-07-16T13:05:51.539569Z",
     "start_time": "2020-07-16T13:05:51.455591Z"
    }
   },
   "outputs": [],
   "source": [
    "#test.columns = df_test.columns"
   ]
  }
 ],
 "metadata": {
  "kernelspec": {
   "display_name": "Python 3",
   "language": "python",
   "name": "python3"
  },
  "language_info": {
   "codemirror_mode": {
    "name": "ipython",
    "version": 3
   },
   "file_extension": ".py",
   "mimetype": "text/x-python",
   "name": "python",
   "nbconvert_exporter": "python",
   "pygments_lexer": "ipython3",
   "version": "3.7.7"
  },
  "varInspector": {
   "cols": {
    "lenName": 16,
    "lenType": 16,
    "lenVar": 40
   },
   "kernels_config": {
    "python": {
     "delete_cmd_postfix": "",
     "delete_cmd_prefix": "del ",
     "library": "var_list.py",
     "varRefreshCmd": "print(var_dic_list())"
    },
    "r": {
     "delete_cmd_postfix": ") ",
     "delete_cmd_prefix": "rm(",
     "library": "var_list.r",
     "varRefreshCmd": "cat(var_dic_list()) "
    }
   },
   "types_to_exclude": [
    "module",
    "function",
    "builtin_function_or_method",
    "instance",
    "_Feature"
   ],
   "window_display": false
  }
 },
 "nbformat": 4,
 "nbformat_minor": 4
}
