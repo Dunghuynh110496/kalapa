{
 "cells": [
  {
   "cell_type": "code",
   "execution_count": 1,
   "metadata": {
    "ExecuteTime": {
     "end_time": "2020-07-25T12:00:31.955115Z",
     "start_time": "2020-07-25T12:00:30.994914Z"
    }
   },
   "outputs": [],
   "source": [
    "import pandas as pd\n",
    "import numpy as np\n",
    "import matplotlib.pyplot as plt\n",
    "import datetime\n",
    "import time\n",
    "import sys\n",
    "import csv\n",
    "import os\n",
    "from sklearn import metrics\n",
    "from dateutil.parser import parse\n",
    "from sklearn.preprocessing import MinMaxScaler\n",
    "from sklearn.feature_extraction.text import TfidfVectorizer\n",
    "from sklearn.model_selection import train_test_split\n",
    "import lightgbm as lgb\n",
    "%matplotlib inline"
   ]
  },
  {
   "cell_type": "code",
   "execution_count": 2,
   "metadata": {
    "ExecuteTime": {
     "end_time": "2020-07-25T12:00:32.003110Z",
     "start_time": "2020-07-25T12:00:31.957688Z"
    }
   },
   "outputs": [],
   "source": [
    "import numpy as np, pandas as pd, os\n",
    "from sklearn.discriminant_analysis import QuadraticDiscriminantAnalysis\n",
    "from sklearn.model_selection import StratifiedKFold\n",
    "from sklearn.feature_selection import VarianceThreshold\n",
    "from sklearn.metrics import roc_auc_score\n",
    "from sklearn.model_selection import KFold\n",
    "from sklearn.decomposition import PCA\n",
    "import random\n",
    "import string"
   ]
  },
  {
   "cell_type": "code",
   "execution_count": 3,
   "metadata": {
    "ExecuteTime": {
     "end_time": "2020-07-25T12:00:32.062729Z",
     "start_time": "2020-07-25T12:00:32.004841Z"
    }
   },
   "outputs": [],
   "source": [
    "data_version_input = \"01-10-2020\""
   ]
  },
  {
   "cell_type": "code",
   "execution_count": 4,
   "metadata": {
    "ExecuteTime": {
     "end_time": "2020-07-25T12:00:33.448003Z",
     "start_time": "2020-07-25T12:00:32.064953Z"
    }
   },
   "outputs": [
    {
     "name": "stderr",
     "output_type": "stream",
     "text": [
      "/home/parker/anaconda3/envs/py37/lib/python3.7/site-packages/IPython/core/interactiveshell.py:3072: DtypeWarning: Columns (35) have mixed types.Specify dtype option on import or set low_memory=False.\n",
      "  interactivity=interactivity, compiler=compiler, result=result)\n",
      "/home/parker/anaconda3/envs/py37/lib/python3.7/site-packages/IPython/core/interactiveshell.py:3072: DtypeWarning: Columns (34) have mixed types.Specify dtype option on import or set low_memory=False.\n",
      "  interactivity=interactivity, compiler=compiler, result=result)\n"
     ]
    }
   ],
   "source": [
    "df_train = pd.read_csv(f\"../../data/kalapa/{data_version_input}/train.csv\")\n",
    "df_test = pd.read_csv(f\"../../data/kalapa/{data_version_input}/test.csv\")"
   ]
  },
  {
   "cell_type": "code",
   "execution_count": null,
   "metadata": {
    "ExecuteTime": {
     "start_time": "2020-07-25T12:00:31.002Z"
    },
    "code_folding": []
   },
   "outputs": [],
   "source": [
    "df_transform = pd.concat([df_train.iloc[:,2:], df_test.iloc[:,1:]], axis = 0)\n",
    "data_type = {\n",
    "    \"cat_num\":[\"Field_22\",\"Field_13\", \"Field_41\", \"Field_42\",\"Field_50\", \"Field_51\", \"Field_53\",\\\n",
    "               \"Field_73\",  \"partner0_A\", \"partner0_B\", \"partner0_C\", \"partner0_D\", \"partner0_E\",\\\n",
    "               \"partner0_F\", \"partner0_G\", \"partner0_H\", \"partner1_A\", \"partner1_C\", \"partner1_G\", \"partner1_H\",\\\n",
    "               \"partner2_A\", \"partner2_C\", \"partner2_D\", \"partner2_F\", \"partner2_H\",\"partner3_A\", \"partner3_D\",\\\n",
    "               \"partner3_E\", \"partner4_L\", \"partner5_A\", \"partner5_D\", \"partner5_G\"],\n",
    "    \n",
    "    \"cat_str\" : [\"Field_3\",\"Field_4\", \"Field_12\",\"Field_36\", \"Field_38\", \"Field_54\", \"Field_62\",\"Field_65\", \\\n",
    "                 \"Field_66\", \"info_social_sex\", \"brief\", \"gioiTinh\"], \n",
    "    \n",
    "    \"date\" : [\"Field_1\", \"Field_2\", \"Field_5\", \"Field_6\", \"Field_7\", \"Field_8\", \"Field_9\", \"Field_11\",\\\n",
    "             \"Field_15\", \"Field_25\", \"Field_32\", \"Field_33\", \"Field_35\", \"Field_40\",\"Field_43\", \"Field_44\", \\\n",
    "              \"F_startDate\", \"F_endDate\", \"E_startDate\", \"E_endDate\", \"C_startDate\",\n",
    "             \"C_endDate\", \"G_startDate\", \"G_endDate\", \"A_startDate\", \"A_endDate\", \"ngaySinh\"],\n",
    "    \n",
    "    \"text\" : [\"Field_18\",\"currentLocationCity\", \"homeTownCity\", \"Field_48\", \"Field_49\",\\\n",
    "             \"currentLocationCountry\", 'homeTownState','data.basic_info.locale', \"currentLocationName\", \\\n",
    "              'homeTownName', \"homeTownCountry\", \"maCv\", \"currentLocationState\", \"Field_61\", \"Field_56\",],\n",
    "    \n",
    "    \"drop\" : [\"Field_45\", \"Field_34\",\"Field_68\", \"diaChi\", \"Field_46\", \"Field_55\"]\n",
    "}\n",
    "\n",
    "df_transform = df_transform.drop(data_type[\"drop\"], axis = 1)\n",
    "df_transform = df_transform.drop(data_type[\"text\"], axis = 1)\n",
    "df_transform = df_transform.drop(data_type[\"date\"], axis = 1)\n",
    "for feature in  data_type[\"cat_num\"]:\n",
    "    df_transform[feature] = df_transform[feature].fillna(\"Nan\")\n",
    "    df_transform = pd.get_dummies(df_transform, columns=[feature])\n",
    "for feature in  data_type[\"cat_str\"]:\n",
    "    df_transform[feature] = df_transform[feature].fillna(\"Nan\")\n",
    "    df_transform = pd.get_dummies(df_transform, columns=[feature])\n",
    "\"\"\"    \n",
    "for feature in data_type[\"date\"]:\n",
    "    df_transform[feature] = df_transform[feature].map(lambda x: float(parse(str(x)).timestamp()) if type(x) is str else x)\n",
    "    df_transform[feature] = df_transform[feature].fillna(df_transform[feature].mean())\n",
    "\"\"\"\n",
    "\n",
    "df_transform = df_transform.fillna(df_transform.mean())\n",
    "\n",
    "## Dimensionality reduction\n",
    "pca = PCA(n_components = 100)\n",
    "sel = pca.fit(df_transform)\n",
    "df_transform = pd.DataFrame(sel.transform(df_transform))\n",
    "\n",
    "train_dev = df_transform.iloc[:len(df_train),:]\n",
    "test = df_transform.iloc[len(df_train):,:]\n",
    "\n",
    "scaler = MinMaxScaler()\n",
    "scaler.fit(train_dev)\n",
    "X_transform = scaler.transform(train_dev)\n",
    "X_transform = pd.DataFrame(data = X_transform)\n",
    "\n",
    "test_transform = scaler.transform(test)\n",
    "\n",
    "test = pd.DataFrame(data = test_transform)\n",
    "train_dev = pd.concat([df_train.id, df_train.label, X_transform], axis = 1)\n",
    "test = pd.concat([df_test.id, test], axis = 1)\n",
    "train_dev.reset_index(drop=True,inplace=True)"
   ]
  },
  {
   "cell_type": "code",
   "execution_count": null,
   "metadata": {
    "ExecuteTime": {
     "start_time": "2020-07-25T12:00:31.012Z"
    }
   },
   "outputs": [],
   "source": [
    "result_str = ''.join(random.choice(string.ascii_letters) for i in range(5))\n",
    "data_version = f\"06-10-2020-{result_str.lower()}\"\n",
    "print(data_version)"
   ]
  },
  {
   "cell_type": "code",
   "execution_count": null,
   "metadata": {
    "ExecuteTime": {
     "start_time": "2020-07-25T12:00:31.015Z"
    }
   },
   "outputs": [],
   "source": [
    "os.makedirs(f\"../../data/kalapa/{data_version}/\", exist_ok=True)\n",
    "train.to_csv(f\"../../data/kalapa/{data_version}/train.csv\", index = False)\n",
    "test.to_csv(f\"../../data/kalapa/{data_version}/test.csv\", index = False)"
   ]
  },
  {
   "cell_type": "code",
   "execution_count": null,
   "metadata": {},
   "outputs": [],
   "source": []
  }
 ],
 "metadata": {
  "kernelspec": {
   "display_name": "Python 3",
   "language": "python",
   "name": "python3"
  },
  "language_info": {
   "codemirror_mode": {
    "name": "ipython",
    "version": 3
   },
   "file_extension": ".py",
   "mimetype": "text/x-python",
   "name": "python",
   "nbconvert_exporter": "python",
   "pygments_lexer": "ipython3",
   "version": "3.7.7"
  },
  "varInspector": {
   "cols": {
    "lenName": 16,
    "lenType": 16,
    "lenVar": 40
   },
   "kernels_config": {
    "python": {
     "delete_cmd_postfix": "",
     "delete_cmd_prefix": "del ",
     "library": "var_list.py",
     "varRefreshCmd": "print(var_dic_list())"
    },
    "r": {
     "delete_cmd_postfix": ") ",
     "delete_cmd_prefix": "rm(",
     "library": "var_list.r",
     "varRefreshCmd": "cat(var_dic_list()) "
    }
   },
   "types_to_exclude": [
    "module",
    "function",
    "builtin_function_or_method",
    "instance",
    "_Feature"
   ],
   "window_display": false
  }
 },
 "nbformat": 4,
 "nbformat_minor": 4
}
