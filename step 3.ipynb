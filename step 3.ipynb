{
 "cells": [
  {
   "cell_type": "code",
   "execution_count": 2,
   "metadata": {
    "ExecuteTime": {
     "end_time": "2020-08-07T14:25:41.756035Z",
     "start_time": "2020-08-07T14:25:41.087045Z"
    }
   },
   "outputs": [],
   "source": [
    "import pandas as pd"
   ]
  },
  {
   "cell_type": "code",
   "execution_count": 3,
   "metadata": {
    "ExecuteTime": {
     "end_time": "2020-08-07T14:25:41.978418Z",
     "start_time": "2020-08-07T14:25:41.915027Z"
    }
   },
   "outputs": [],
   "source": [
    "lgb = pd.read_csv(\"best/test_preds_lgb.csv\")\n",
    "rf = pd.read_csv(\"best/test_preds_rf.csv\")"
   ]
  },
  {
   "cell_type": "code",
   "execution_count": 4,
   "metadata": {
    "ExecuteTime": {
     "end_time": "2020-08-07T14:25:42.350598Z",
     "start_time": "2020-08-07T14:25:42.316327Z"
    }
   },
   "outputs": [],
   "source": [
    "lgb_w = 0.8\n",
    "rf_w = 0.2\n",
    "pred = lgb.label*lgb_w + rf.label*rf_w"
   ]
  },
  {
   "cell_type": "code",
   "execution_count": 5,
   "metadata": {
    "ExecuteTime": {
     "end_time": "2020-08-07T14:25:42.861527Z",
     "start_time": "2020-08-07T14:25:42.847356Z"
    }
   },
   "outputs": [],
   "source": [
    "predictions = lgb\n",
    "predictions.label = pred"
   ]
  },
  {
   "cell_type": "code",
   "execution_count": 6,
   "metadata": {
    "ExecuteTime": {
     "end_time": "2020-08-07T14:25:43.701458Z",
     "start_time": "2020-08-07T14:25:43.474209Z"
    }
   },
   "outputs": [],
   "source": [
    "predictions.to_csv(\"sembeling_submission.csv\")"
   ]
  }
 ],
 "metadata": {
  "kernelspec": {
   "display_name": "Python 3",
   "language": "python",
   "name": "python3"
  },
  "language_info": {
   "codemirror_mode": {
    "name": "ipython",
    "version": 3
   },
   "file_extension": ".py",
   "mimetype": "text/x-python",
   "name": "python",
   "nbconvert_exporter": "python",
   "pygments_lexer": "ipython3",
   "version": "3.7.7"
  },
  "varInspector": {
   "cols": {
    "lenName": 16,
    "lenType": 16,
    "lenVar": 40
   },
   "kernels_config": {
    "python": {
     "delete_cmd_postfix": "",
     "delete_cmd_prefix": "del ",
     "library": "var_list.py",
     "varRefreshCmd": "print(var_dic_list())"
    },
    "r": {
     "delete_cmd_postfix": ") ",
     "delete_cmd_prefix": "rm(",
     "library": "var_list.r",
     "varRefreshCmd": "cat(var_dic_list()) "
    }
   },
   "types_to_exclude": [
    "module",
    "function",
    "builtin_function_or_method",
    "instance",
    "_Feature"
   ],
   "window_display": false
  }
 },
 "nbformat": 4,
 "nbformat_minor": 4
}
