{
 "cells": [
  {
   "cell_type": "code",
   "execution_count": 1,
   "metadata": {
    "ExecuteTime": {
     "end_time": "2020-07-21T03:31:58.403927Z",
     "start_time": "2020-07-21T03:31:57.541519Z"
    }
   },
   "outputs": [],
   "source": [
    "import pandas as pd\n",
    "import numpy as np\n",
    "import matplotlib.pyplot as plt\n",
    "import datetime\n",
    "import time\n",
    "import sys\n",
    "import csv\n",
    "import os\n",
    "from sklearn import metrics\n",
    "from dateutil.parser import parse\n",
    "from sklearn.preprocessing import MinMaxScaler\n",
    "from sklearn.feature_extraction.text import TfidfVectorizer\n",
    "%matplotlib inline"
   ]
  },
  {
   "cell_type": "code",
   "execution_count": 2,
   "metadata": {
    "ExecuteTime": {
     "end_time": "2020-07-21T03:31:58.409353Z",
     "start_time": "2020-07-21T03:31:58.406966Z"
    }
   },
   "outputs": [],
   "source": [
    "data_version_input = \"01-10-2020\""
   ]
  },
  {
   "cell_type": "code",
   "execution_count": 3,
   "metadata": {
    "ExecuteTime": {
     "end_time": "2020-07-21T03:31:59.570808Z",
     "start_time": "2020-07-21T03:31:58.410928Z"
    }
   },
   "outputs": [
    {
     "name": "stderr",
     "output_type": "stream",
     "text": [
      "/home/parker/anaconda3/envs/py37/lib/python3.7/site-packages/IPython/core/interactiveshell.py:3072: DtypeWarning: Columns (35) have mixed types.Specify dtype option on import or set low_memory=False.\n",
      "  interactivity=interactivity, compiler=compiler, result=result)\n",
      "/home/parker/anaconda3/envs/py37/lib/python3.7/site-packages/IPython/core/interactiveshell.py:3072: DtypeWarning: Columns (34) have mixed types.Specify dtype option on import or set low_memory=False.\n",
      "  interactivity=interactivity, compiler=compiler, result=result)\n"
     ]
    }
   ],
   "source": [
    "df_train = pd.read_csv(f\"../../data/kalapa/{data_version_input}/train.csv\")\n",
    "df_test = pd.read_csv(f\"../../data/kalapa/{data_version_input}/test.csv\")"
   ]
  },
  {
   "cell_type": "code",
   "execution_count": 4,
   "metadata": {
    "ExecuteTime": {
     "end_time": "2020-07-21T03:31:59.838939Z",
     "start_time": "2020-07-21T03:31:59.572222Z"
    }
   },
   "outputs": [],
   "source": [
    "df_transform = pd.concat([df_train.iloc[:,2:], df_test.iloc[:,1:]], axis = 0)"
   ]
  },
  {
   "cell_type": "code",
   "execution_count": 5,
   "metadata": {
    "ExecuteTime": {
     "end_time": "2020-07-21T03:31:59.846675Z",
     "start_time": "2020-07-21T03:31:59.840603Z"
    }
   },
   "outputs": [],
   "source": [
    "data_type = {\n",
    "    \"cat_num\":[\"Field_22\",\"Field_13\", \"Field_41\", \"Field_42\",\"Field_50\", \"Field_51\", \"Field_53\",\\\n",
    "               \"Field_73\",  \"partner0_A\", \"partner0_B\", \"partner0_C\", \"partner0_D\", \"partner0_E\",\\\n",
    "               \"partner0_F\", \"partner0_G\", \"partner0_H\", \"partner1_A\", \"partner1_C\", \"partner1_G\", \"partner1_H\",\\\n",
    "               \"partner2_A\", \"partner2_C\", \"partner2_D\", \"partner2_F\", \"partner2_H\",\"partner3_A\", \"partner3_D\",\\\n",
    "               \"partner3_E\", \"partner4_L\", \"partner5_A\", \"partner5_D\", \"partner5_G\"],\n",
    "    \"cat_str\" : [\"Field_3\",\"Field_4\", \"Field_12\",\"Field_36\", \"Field_38\", \"Field_54\", \"Field_61\", \"Field_62\",\"Field_65\", \\\n",
    "                 \"Field_66\", \"info_social_sex\", \"brief\", \"gioiTinh\"], \n",
    "    \"date\" : [\"Field_1\", \"Field_2\", \"Field_5\", \"Field_6\", \"Field_7\", \"Field_8\", \"Field_9\", \"Field_11\",\\\n",
    "             \"Field_15\", \"Field_25\", \"Field_32\", \"Field_33\", \"Field_35\", \"Field_40\",\"Field_43\", \"Field_44\", \\\n",
    "              \"F_startDate\", \"F_endDate\", \"E_startDate\", \"E_endDate\", \"C_startDate\",\n",
    "             \"C_endDate\", \"G_startDate\", \"G_endDate\", \"A_startDate\", \"A_endDate\"],\n",
    "    \"text\" : [\"Field_18\",\"Field_56\",\"currentLocationCity\", \"homeTownCity\", \"Field_48\", \"Field_61\",\"currentLocationName\",\\\n",
    "             \"currentLocationCountry\", 'homeTownCountry', \"currentLocationState\", 'homeTownState',\\\n",
    "             'data.basic_info.locale', \"maCv\",  'homeTownName', \"Field_49\" ],\n",
    "    \"drop\" : [\"Field_45\", \"Field_34\",\"Field_68\", \"diaChi\", \"Field_46\", \"Field_55\"]\n",
    "}"
   ]
  },
  {
   "cell_type": "code",
   "execution_count": 6,
   "metadata": {
    "ExecuteTime": {
     "end_time": "2020-07-21T03:32:00.044376Z",
     "start_time": "2020-07-21T03:31:59.848718Z"
    },
    "scrolled": true
   },
   "outputs": [
    {
     "name": "stdout",
     "output_type": "stream",
     "text": [
      "Field_18 : 8727 : Index(['.', 'KD', 'Sản xuất', 'thành phố Biên Hòa', 'Kinh doanh', ',', '1'], dtype='object')\n",
      "Field_56 : 1515 : Index(['Doanh nghiệp có vốn đầu tư nước ngoài',\n",
      "       'Là những người thuộc hộ gia đình, trừ các đối tượng trên',\n",
      "       'Người đang hưởng trợ cấp thất nghiệp', 'Ngoài quốc doanh Tỉnh/TP',\n",
      "       'Ngoài quốc doanh Quận 1', 'Doanh nghiệp nhà nước TW',\n",
      "       'Hành chánh sự nghiệp Tỉnh/TP'],\n",
      "      dtype='object')\n",
      "currentLocationCity : 1020 : Index(['Ho Chi Minh City', 'Hanoi', 'Da Nang', 'Thanh Hóa', 'Hai Phong',\n",
      "       'Thái Nguyên', 'Biên Hòa'],\n",
      "      dtype='object')\n",
      "homeTownCity : 1013 : Index(['Hanoi', 'Ho Chi Minh City', 'Thanh Hóa', 'Hai Phong', 'Bac Giang',\n",
      "       'Thái Bình', 'Bac Ninh'],\n",
      "      dtype='object')\n",
      "Field_48 : 15760 : Index(['153 Xô Viết Nghệ Tĩnh Quận Bình Thạnh', 'Bình Dương',\n",
      "       '162 Tô Hiệu, Hà Cầu, Hà Đông, Hà Nội',\n",
      "       '128 Trần Quang Khải, P. Tân Định, Q.1',\n",
      "       'Tầng 2 Tòa nhà REE Tower số 9 Đoàn Văn Bơ, P12, Q4, Tp.HCM',\n",
      "       'KCN Yên Bình 1, phường Đồng Tiến, thị xã  Phổ Yên, tỉnh Thái Nguyên',\n",
      "       'Tầng trệt Tòa Nhà Rosana, Số 60 Nguyễn Đình Chiểu, P. Đao Kao, Q.1, TP. HCM'],\n",
      "      dtype='object')\n",
      "Field_61 : 36 : Index(['Khối DN Ngoài quốc doanh', 'Khối DN có vốn DTNN', 'Hộ gia đình',\n",
      "       'Khối HS, Đảng, Đoàn', 'Trợ cấp bảo hiểm thất nghiệp',\n",
      "       'Khối DN Nhà Nước', 'Học sinh sinh viên'],\n",
      "      dtype='object')\n",
      "currentLocationName : 1275 : Index(['Thành phố Hồ Chí Minh', 'Hà Nội', 'Đà Nẵng', 'Thanh Hóa', 'Hải Phòng',\n",
      "       'Biên Hòa', 'Thái Nguyên (thành phố)'],\n",
      "      dtype='object')\n",
      "currentLocationCountry : 51 : Index(['Vietnam', 'United States', 'Japan', 'South Korea', 'Malaysia', 'China',\n",
      "       'United Kingdom'],\n",
      "      dtype='object')\n",
      "homeTownCountry : 44 : Index(['Vietnam', 'United States', 'Malaysia', 'South Korea', 'China',\n",
      "       'United Kingdom', 'United Arab Emirates'],\n",
      "      dtype='object')\n",
      "currentLocationState : 235 : Index(['Ho Chi Minh City', 'Hanoi', 'Đồng Nai Province', 'Da Nang', 'Haiphong',\n",
      "       'Thanh Hóa Province', 'Nghệ An Province'],\n",
      "      dtype='object')\n",
      "homeTownState : 170 : Index(['Hanoi', 'Ho Chi Minh City', 'Thanh Hóa Province', 'Nghệ An Province',\n",
      "       'Haiphong', 'Đồng Nai Province', 'Khánh Hòa Province'],\n",
      "      dtype='object')\n",
      "data.basic_info.locale : 27 : Index(['vi_VN', 'en_US', 'zh_TW', 'en_GB', 'es_LA', 'pt_BR', 'fr_FR'], dtype='object')\n",
      "maCv : 4546 : Index(['Công nhân', 'Nhân viên', 'công nhân', 'Giáo viên',\n",
      "       'Công nhân sản xuất', 'Công Nhân', 'Nhân viên bán hàng'],\n",
      "      dtype='object')\n",
      "homeTownName : 1305 : Index(['Hà Nội', 'Thành phố Hồ Chí Minh', 'Thanh Hóa', 'Hải Phòng',\n",
      "       'Thái Bình, Thái Bình, Vietnam', 'Đà Nẵng', 'Thái Nguyên (thành phố)'],\n",
      "      dtype='object')\n",
      "Field_49 : 15975 : Index(['153 Xô Viết Nghệ Tĩnh Quận Bình Thạnh', 'Bình Dương',\n",
      "       '162 Tô Hiệu, Hà Cầu, Hà Đông, Hà Nội',\n",
      "       '(Buu dien) lầu 5, Phòng 5.1, tòa nhà Etown 2, số 364 Cộng Hòa, Phường 13, Q, Tân Bình',\n",
      "       'Tầng 2 Tòa nhà REE Tower số 9 Đoàn Văn Bơ, P12, Q4, Tp.HCM',\n",
      "       'KCN Yên Bình 1, phường Đồng Tiến, thị xã  Phổ Yên, tỉnh Thái Nguyên',\n",
      "       '(Bưu điện) Tầng 2, Khu AB, Tòa Nhà  27B Nguyễn Đình Chiểu, P. ĐK, Q1'],\n",
      "      dtype='object')\n"
     ]
    }
   ],
   "source": [
    "for feature in data_type[\"text\"]:\n",
    "    vc = df_transform[feature].value_counts()\n",
    "    print(f\"{feature} : {len(vc)} : {vc.index[:7]}\")"
   ]
  },
  {
   "cell_type": "code",
   "execution_count": 7,
   "metadata": {
    "ExecuteTime": {
     "end_time": "2020-07-21T03:32:00.177403Z",
     "start_time": "2020-07-21T03:32:00.046262Z"
    }
   },
   "outputs": [
    {
     "name": "stdout",
     "output_type": "stream",
     "text": [
      "Field_10 : 6 : Float64Index([1.0, 2.0, 3.0, 4.0, 5.0, 0.0], dtype='float64')\n",
      "Field_19 : 422 : Float64Index([0.0, 1.0, 1.86, 2.34, 2.67, 2.06, 2.46], dtype='float64')\n",
      "Field_20 : 5788 : Float64Index([1490000.0, 1390000.0, 4500000.0, 973000.0, 1043000.0, 4260000.0,\n",
      "              4300000.0],\n",
      "             dtype='float64')\n",
      "Field_21 : 4 : Float64Index([4.5, 0.0, 6.0, 3.0], dtype='float64')\n",
      "Field_23 : 336 : Float64Index([0.0, 12.0, 24.0, 1.0, 36.0, 2.0, 6.0], dtype='float64')\n",
      "Field_27 : 772 : Float64Index([0.0, 1150000.0, 1210000.0, 3317000.0, 3745000.0, 805000.0,\n",
      "              2889000.0],\n",
      "             dtype='float64')\n",
      "Field_28 : 771 : Float64Index([0.0, 54450.0, 51750.0, 149265.0, 168525.0, 36225.0, 130005.0], dtype='float64')\n",
      "Field_29 : 44 : Float64Index([12.0, 0.0, 6.0, 3.0, 24.0, 4.0, 9.0], dtype='float64')\n",
      "ngaySinh : 8793 : Float64Index([631112400.0, 567954000.0, 662648400.0, 694184400.0, 536418000.0,\n",
      "              504882000.0, 599576400.0],\n",
      "             dtype='float64')\n",
      "namSinh : 3 : Float64Index([0.0, 1.0, 2.0], dtype='float64')\n",
      "Field_39 : 2 : Float64Index([1.0, 0.0], dtype='float64')\n",
      "Field_47 : 5 : Float64Index([0.0, 1.0, 4.0, 2.0, 3.0], dtype='float64')\n",
      "Field_58 : 5 : Float64Index([0.0, 5.0, 2.0, 4.0, 3.0], dtype='float64')\n",
      "Field_59 : 36 : Float64Index([5.0, 4.0, 33.0, 6.0, 35.0, 3.0, 31.0], dtype='float64')\n",
      "Field_60 : 35 : Float64Index([3.0, 2.0, 31.0, 4.0, 33.0, 1.0, 29.0], dtype='float64')\n",
      "Field_63 : 10 : Float64Index([2.0, 3.0, 4.0, 8.0, 0.0, 5.0, 6.0], dtype='float64')\n",
      "Field_64 : 9 : Float64Index([1.0, 2.0, 3.0, 4.0, 7.0, 5.0, 6.0], dtype='float64')\n",
      "Field_67 : 18073 : Float64Index([776953.0, 67129.0, 470954.0, 644004.0, 658535.0, 329951.0,\n",
      "              646653.0],\n",
      "             dtype='float64')\n",
      "Field_69 : 101 : Float64Index([0.0, 0.01, 1.0, 0.02, 0.03, 0.04, 0.99], dtype='float64')\n",
      "Field_70 : 50 : Float64Index([0.08, 0.12, 0.49, 0.6, 0.62, 0.35, 0.0], dtype='float64')\n",
      "Field_71 : 336 : Float64Index([0.06, 0.245, 0.04, 0.195, 0.175, 0.26, 0.165], dtype='float64')\n",
      "Field_72 : 494 : Float64Index([0.12, 0.49, 0.08, 0.39, 0.35, 0.33, 0.28], dtype='float64')\n",
      "Field_74 : 517 : Float64Index([347.0, 340.0, 1436.0, 342.0, 337.0, 702.0, 4016.0], dtype='float64')\n",
      "Field_75 : 14 : Float64Index([4.0, 3.0, 5.0, 1.0, 2.0, 6.0, 7.0], dtype='float64')\n",
      "Field_76 : 11 : Float64Index([0.0, 1.0, 2.0, 3.0, 4.0, 5.0, 6.0], dtype='float64')\n",
      "Field_77 : 15 : Float64Index([4.0, 1.0, 3.0, 2.0, 5.0, 6.0, 7.0], dtype='float64')\n",
      "friendCount : 3411 : Float64Index([0.0, 1.0, 2.0, 3.0, 4.0, 5.0, 6.0], dtype='float64')\n",
      "subscriberCount : 1839 : Float64Index([0.0, 13.0, 47.0, 17.0, 21.0, 35.0, 26.0], dtype='float64')\n",
      "currentLocationLocationId : 1439 : Float64Index([              0.0, 108458769184495.0, 106388046062960.0,\n",
      "              108459000000000.0, 106388000000000.0, 111711568847056.0,\n",
      "              105667452800809.0],\n",
      "             dtype='float64')\n",
      "currentLocationLatitude : 772 : Float64Index([0.0, 10.77, 21.0333, 16.0678, 19.8075, 20.8523, 10.9399], dtype='float64')\n",
      "currentLocationLongitude : 654 : Float64Index([0.0, 106.6815, 105.85, 108.221, 105.776, 106.7005, 105.83], dtype='float64')\n",
      "homeTownLocationId : 1580 : Float64Index([              0.0, 106388046062960.0, 108458769184495.0,\n",
      "              106388000000000.0, 108459000000000.0, 105667452800809.0,\n",
      "              114668461883395.0],\n",
      "             dtype='float64')\n",
      "homeTownLatitude : 711 : Float64Index([0.0, 21.0333, 10.77, 19.8075, 20.8523, 21.2825, 20.45], dtype='float64')\n",
      "homeTownLongitude : 568 : Float64Index([0.0, 105.85, 106.6815, 105.776, 106.7005, 106.333, 106.201], dtype='float64')\n",
      "topFriends : 5 : Float64Index([5.0, 1.0, 2.0, 3.0, 4.0], dtype='float64')\n",
      "numOrg : 20 : Float64Index([2.0, 3.0, 1.0, 4.0, 0.0, 5.0, 6.0], dtype='float64')\n",
      "F_numOrg : 6 : Float64Index([1.0, 2.0, 3.0, 4.0, 5.0, 6.0], dtype='float64')\n",
      "F_numQuery : 15 : Float64Index([1.0, 2.0, 3.0, 4.0, 5.0, 6.0, 7.0], dtype='float64')\n",
      "E_numOrg : 7 : Float64Index([1.0, 2.0, 3.0, 4.0, 5.0, 6.0, 7.0], dtype='float64')\n",
      "E_numQuery : 56 : Float64Index([1.0, 2.0, 3.0, 4.0, 5.0, 6.0, 7.0], dtype='float64')\n",
      "C_numOrg : 3 : Float64Index([1.0, 2.0, 3.0], dtype='float64')\n",
      "C_numQuery : 92 : Float64Index([1.0, 2.0, 3.0, 4.0, 5.0, 6.0, 7.0], dtype='float64')\n",
      "G_numOrg : 5 : Float64Index([1.0, 2.0, 3.0, 4.0, 5.0], dtype='float64')\n",
      "G_numQuery : 13 : Float64Index([1.0, 2.0, 3.0, 4.0, 5.0, 6.0, 7.0], dtype='float64')\n",
      "A_numOrg : 17 : Float64Index([2.0, 3.0, 1.0, 4.0, 5.0, 6.0, 7.0], dtype='float64')\n",
      "A_numQuery : 43 : Float64Index([2.0, 1.0, 3.0, 4.0, 5.0, 6.0, 7.0], dtype='float64')\n",
      "summary_6m : 135 : Float64Index([1.0, 2.0, 7.0, 8.0, 3.0, 6.0, 5.0], dtype='float64')\n",
      "summary_3m : 132 : Float64Index([1.0, 2.0, 7.0, 6.0, 5.0, 8.0, 3.0], dtype='float64')\n",
      "summary_1m : 121 : Float64Index([1.0, 2.0, 5.0, 6.0, 7.0, 3.0, 4.0], dtype='float64')\n",
      "summary_1w : 75 : Float64Index([1.0, 2.0, 5.0, 3.0, 6.0, 4.0, 7.0], dtype='float64')\n",
      "num_of_phone : 5 : Float64Index([1.0, 2.0, 3.0, 4.0, 5.0], dtype='float64')\n",
      "Field_78 : 476 : Float64Index([0.0, 1.0, 2.0, 3.0, 5.0, 4.0, 6.0], dtype='float64')\n",
      "Field_79 : 17047 : Float64Index([               0.0, 0.7071067811865476, 1.4142135623730951,\n",
      "              3.5355339059327378, 2.1213203435596424, 2.8284271247461903,\n",
      "               4.242640687119285],\n",
      "             dtype='float64')\n",
      "Field_80 : 4389 : Float64Index([0.0, 1.0, 2.0, 3.0, 4.0, 6.0, 5.0], dtype='float64')\n",
      "Field_81 : 485 : Float64Index([0.0, 1.0, 2.0, 3.0, 4.0, 5.0, 6.0], dtype='float64')\n",
      "Field_82 : 4 : Int64Index([1, 4, 2, 3], dtype='int64')\n"
     ]
    }
   ],
   "source": [
    "l = data_type[\"cat_num\"] + data_type[\"cat_str\"] + data_type[\"date\"] + data_type[\"text\"] + data_type[\"drop\"]\n",
    "for feature in df_transform.columns:\n",
    "    if feature not in l:\n",
    "        vc = df_transform[feature].value_counts()\n",
    "        print(f\"{feature} : {len(vc)} : {vc.index[:7]}\")"
   ]
  },
  {
   "cell_type": "code",
   "execution_count": 8,
   "metadata": {
    "ExecuteTime": {
     "end_time": "2020-07-21T03:32:00.349746Z",
     "start_time": "2020-07-21T03:32:00.179272Z"
    }
   },
   "outputs": [
    {
     "data": {
      "image/png": "[encoded data removed]",
      "text/plain": [
       "<Figure size 432x288 with 1 Axes>"
      ]
     },
     "metadata": {
      "needs_background": "light"
     },
     "output_type": "display_data"
    },
    {
     "data": {
      "text/plain": [
       "Khối DN Ngoài quốc doanh                          11070\n",
       "Khối DN có vốn DTNN                                8251\n",
       "Hộ gia đình                                        6544\n",
       "Khối HS, Đảng, Đoàn                                2782\n",
       "Trợ cấp bảo hiểm thất nghiệp                       1788\n",
       "Khối DN Nhà Nước                                   1320\n",
       "Học sinh sinh viên                                  539\n",
       "Hộ gia đình làm nông lâm ngư diêm nghiệp            351\n",
       "Người sống tại vùng đặc biệt khó khăn               336\n",
       "Người dân tộc thiểu số sống vùng KK, ĐBKK           288\n",
       "Đối tượng cận nghèo                                 244\n",
       "Đối tượng nghèo                                     198\n",
       "Khối ngoài công lập                                 178\n",
       "Khối phường xã, thị trấn,                           163\n",
       "Cán bộ phường xã không chuyên trách                 153\n",
       "Người sống tại xã đảo, huyện đảo                    113\n",
       "Khối hợp tác xã                                      60\n",
       "Thân nhân sĩ quan nghiệp vụ công an                  39\n",
       "Hộ SXKD cá thể, tổ hợp tác                           39\n",
       "Bảo trợ xã hội                                       36\n",
       "Hưu trí, trợ cấp mất sức lao động                    21\n",
       "Đại biểu quốc hội, HĐNN                              17\n",
       "Thân nhân người có công                              17\n",
       "Tham gia kháng chiến                                 14\n",
       "Doanh nghiệp LLVT                                    11\n",
       "Trẻ em dưới 6 tuổi                                    9\n",
       "Cựu chiến binh                                        8\n",
       "Hưởng chế độ thai sản                                 8\n",
       "Người có công                                         7\n",
       "Người đã hiến bộ phận cơ thể                          6\n",
       "Hưu trí, trợ cấp mất sức lao động do NSNN đóng        6\n",
       "Ốm đau dài ngày                                       3\n",
       "Khối tạm dừng                                         2\n",
       "TG                                                    1\n",
       "Tổ chức khác và cá nhân                               1\n",
       "Chất độc hóa học                                      1\n",
       "Name: Field_61, dtype: int64"
      ]
     },
     "execution_count": 8,
     "metadata": {},
     "output_type": "execute_result"
    }
   ],
   "source": [
    "data = list(df_transform[\"Field_61\"].value_counts())\n",
    "plt.plot(data)\n",
    "plt.show()\n",
    "df_transform[\"Field_61\"].value_counts()"
   ]
  },
  {
   "cell_type": "code",
   "execution_count": null,
   "metadata": {},
   "outputs": [],
   "source": []
  },
  {
   "cell_type": "code",
   "execution_count": 9,
   "metadata": {
    "ExecuteTime": {
     "end_time": "2020-07-21T03:32:00.354740Z",
     "start_time": "2020-07-21T03:32:00.351376Z"
    },
    "code_folding": [
     0
    ]
   },
   "outputs": [],
   "source": [
    "def fit54(x):\n",
    "    if \"1\" in str(x).lower() or \"01\" in str(x).lower():\n",
    "        return \"VN\"\n",
    "    elif \"tân\" in str(x).lower():\n",
    "        return \"VN\"\n",
    "    return x"
   ]
  },
  {
   "cell_type": "code",
   "execution_count": 10,
   "metadata": {
    "ExecuteTime": {
     "end_time": "2020-07-21T03:32:00.434587Z",
     "start_time": "2020-07-21T03:32:00.356316Z"
    },
    "code_folding": [
     0
    ]
   },
   "outputs": [],
   "source": [
    "def fit62(x):\n",
    "    classes = {\"I\": 1, \"II\": 2, \"III\": 3, \"IV\": 4}\n",
    "    if x in classes:\n",
    "        return classes[x]\n",
    "    return np.nan"
   ]
  },
  {
   "cell_type": "code",
   "execution_count": 11,
   "metadata": {
    "ExecuteTime": {
     "end_time": "2020-07-21T03:32:00.530113Z",
     "start_time": "2020-07-21T03:32:00.436883Z"
    },
    "code_folding": [
     0
    ]
   },
   "outputs": [],
   "source": [
    "def fit49(x):\n",
    "    if \"hà nội\" in str(x).lower() or \"hn\" in str(x).lower() or \"hoài đức\" in str(x).lower():\n",
    "        return \"HN\"\n",
    "    if \"hóc môn\" in str(x).lower() or \"hn\" in str(x).lower() or \"hoài đức\" in str(x).lower():\n",
    "        return \"HN\"\n",
    "    \n",
    "    if \"hcm\" in str(x).lower() or \"tân bình\" in str(x).lower() or \"bình tân\" in str(x).lower():\n",
    "        return \"HCM\"\n",
    "    elif \"bình thạnh\" in str(x).lower() or \"q1\" in str(x).lower() or \"hồ chí minh\" in str(x).lower():\n",
    "        return \"HCM\"\n",
    "    elif \"quận 1\" in str(x).lower() or \"gò vấp\" in str(x).lower() or \"q.pn\" in str(x).lower():\n",
    "        return \"HCM\"\n",
    "    elif \"q7\" in str(x).lower() or \"quận 7\" in str(x).lower() or \"quận 9\" in str(x).lower():\n",
    "        return \"HCM\"\n",
    "    elif \"tân phú\" in str(x).lower() or \"q.7\" in str(x).lower() or \"q4\" in str(x).lower():\n",
    "        return \"HCM\"\n",
    "    elif \"q2\" in str(x).lower() or \"nhà bè\" in str(x).lower() or \"p. bhh\" in str(x).lower():\n",
    "        return \"HCM\"\n",
    "    elif \"thủ đức\" in str(x).lower() or \"quận 8\" in str(x).lower() or \"bình hưng\" in str(x).lower():\n",
    "        return \"HCM\"\n",
    "    elif \"q3\" in str(x).lower() or \"q.4\" in str(x).lower() or \"nguyễn thị tú\" in str(x).lower():\n",
    "        return \"HCM\"\n",
    "    elif \"tân thuận\" in str(x).lower() or \"q.1\" in str(x).lower() or \"bình chánh\" in str(x).lower():\n",
    "        return \"HCM\"\n",
    "    elif \"quận 3\" in str(x).lower() or \"bà điểm\" in str(x).lower() or \"đông thạnh\" in str(x).lower():\n",
    "        return \"HCM\"\n",
    "    elif \"thanh đức\" in str(x).lower() or \"q5\" in str(x).lower() or \"q.6\" in str(x).lower():\n",
    "        return \"HCM\"\n",
    "    elif \"phú nhuận\" in str(x).lower() or \"quận 2\" in str(x).lower() or \"q.6\" in str(x).lower():\n",
    "        return \"HCM\"\n",
    "    elif \"h.bc\" in str(x).lower() or \"quận 4\" in str(x).lower() or \"q.tp\" in str(x).lower():\n",
    "        return \"HCM\"\n",
    "    elif \"linh trung\" in str(x).lower() or \"qbt\" in str(x).lower() or \"q.5\" in str(x).lower():\n",
    "        return \"HCM\"\n",
    "    elif \"q8\" in str(x).lower() or \"qbt\" in str(x).lower() or \"q.5\" in str(x).lower():\n",
    "        return \"HCM\"\n",
    "\n",
    "\n",
    "    elif \"bắc ninh\" in str(x).lower():\n",
    "        return \"Bắc Ninh\"\n",
    "    elif \"đà nẵng\" in str(x).lower():\n",
    "        return \"Đà Nẵng\"\n",
    "    elif \"quảng nam\" in str(x).lower() or \"điện ngọc\" in str(x).lower():\n",
    "        return \"Quảng Nam\"\n",
    "    elif \"quảng trị\" in str(x).lower():\n",
    "        return \"Quảng Trị\"\n",
    "    elif \"thái nguyên\" in str(x).lower():\n",
    "        return \"Thái Nguyên\"\n",
    "    elif \"đồng nai\" in str(x).lower() or \"phường trung dũng\" in str(x).lower() or \"phường tân phong\" in str(x).lower():\n",
    "        return \"Đồng Nai\"\n",
    "    elif \"long an\" in str(x).lower():\n",
    "        return \"Long An\"\n",
    "    elif \"vĩnh long\" in str(x).lower():\n",
    "        return \"Vĩnh Long\"\n",
    "    elif \"bắc giang\" in str(x).lower():\n",
    "        return \"Bắc Giang\"\n",
    "    elif \"hải phòng\" in str(x).lower() or \"hp\" in str(x).lower():\n",
    "        return \"Hải phòng\"\n",
    "    elif \"hải dương\" in str(x).lower():\n",
    "        return \"Hải Dương\"\n",
    "    elif \"tiền giang\" in str(x).lower():\n",
    "        return \"Tiền Giang\"\n",
    "    elif \"an giang\" in str(x).lower() or \"ag\" in str(x).lower():\n",
    "        return \"An Giang\"\n",
    "    elif \"thanh hóa\" in str(x).lower():\n",
    "        return \"Thanh Hoá\"\n",
    "    elif \"tây ninh\" in str(x).lower():\n",
    "        return \"Tây Ninh\"\n",
    "    elif \"kiên giang\" in str(x).lower() or \"vĩnh\" in str(x).lower() or \"rạch giá\" in str(x).lower():\n",
    "        return \"Kiên Giang\"\n",
    "    elif \"vĩnh quang\" in str(x).lower() or \"vĩnh bảo\" in str(x).lower() or \"rạch giá\" in str(x).lower() or \"vĩnh thanh\" in str(x).lower():\n",
    "        return \"Kiên Giang\"\n",
    "    elif \"bình phước\" in str(x).lower():\n",
    "        return \"Bình Phước\"\n",
    "    elif \"số 2a thất khê\" in str(x).lower():\n",
    "        return \"Hải Phòng\"\n",
    "    elif \"nghệ an\" in str(x).lower():\n",
    "        return \"Nghệ An\"\n",
    "    elif \"hà tĩnh\" in str(x).lower():\n",
    "        return \"Hà Tĩnh\"\n",
    "    elif \"hòa bình\" in str(x).lower():\n",
    "        return \"Hòa Bình\"\n",
    "    elif \"quy nhơn\" in str(x).lower() or \"bđ\" in str(x).lower() or \"bình định\" in str(x).lower():\n",
    "        return \"Bình Định\"\n",
    "    elif \"bến tre\" in str(x).lower():\n",
    "        return \"Bến Tre\"\n",
    "    elif \"mỹ tho\" in str(x).lower() or \"tg\" in str(x).lower():\n",
    "        return \"Tiền Giang\"\n",
    "    elif \"thanh hoá\" in str(x).lower():\n",
    "        return \"Thanh Hoá\"\n",
    "    elif \"tptn\" in str(x).lower():\n",
    "        return \"Thái Nguyên\"\n",
    "    elif \"bình dương\" in str(x).lower() or \"lái thiêu\" in str(x).lower() or \"bd\" in str(x).lower() or \"tdm\" in str(x).lower():\n",
    "        return \"Bình Dương\"\n",
    "    elif \"hiệp thành\" in str(x).lower() or \"lái thiêu\" in str(x).lower() or \"bd\" in str(x).lower() or \"tdm\" in str(x).lower():\n",
    "        return \"Bình Dương\"\n",
    "    elif \"sơn la\" in str(x).lower():\n",
    "        return \"Sơn La\"\n",
    "    elif \"quảng ngãi\" in str(x).lower():\n",
    "        return \"Quảng Ngãi\"\n",
    "    elif \"phú thọ\" in str(x).lower():\n",
    "        return \"Phú Thọ\"\n",
    "    elif \"vt\" in str(x).lower() or \"vũng tàu\" in str(x).lower():\n",
    "        return \"Vũng Tàu\"\n",
    "    elif \"quảng ninh\" in str(x).lower():\n",
    "        return \"Quảng Ninh\"\n",
    "    elif \"vĩnh phúc\" in str(x).lower():\n",
    "        return \"Vĩnh Phúc\"\n",
    "    elif \"ninh bình\" in str(x).lower():\n",
    "        return \"Ninh Bình\"\n",
    "    elif \"cần thơ\" in str(x).lower():\n",
    "        return \"Cần Thơ\"\n",
    "    elif \"khánh hòa\" in str(x).lower() or \"nha trang\" in str(x).lower():\n",
    "        return \"Khánh Hòa\"\n",
    "    elif \"trà vinh\" in str(x).lower():\n",
    "        return \"Trà Vinh\"\n",
    "    elif \"thái bình\" in str(x).lower():\n",
    "        return \"Thái Bình\"\n",
    "    elif \"bắc kạn\" in str(x).lower():\n",
    "        return \"Bắc Kạn\"\n",
    "    elif \"nam định\" in str(x).lower():\n",
    "        return \"Nam Định\"\n",
    "    elif \"hưng yên\" in str(x).lower():\n",
    "        return \"Hưng Yên\"\n",
    "    elif \"bình thuận\" in str(x).lower():\n",
    "        return \"Bình Thuận\"\n",
    "    elif \"hà nam\" in str(x).lower():\n",
    "        return \"Hà Nam\"\n",
    "    elif \"huế\" in str(x).lower() or \"tth\" in str(x).lower():\n",
    "        return \"Huế\"\n",
    "    elif \"bp\" in str(x).lower():\n",
    "        return \"Bình Phước\"\n",
    "    elif \"sóc trăng\" in str(x).lower():\n",
    "        return \"Sóc Trăng\"\n",
    "    elif \"phú yên\" in str(x).lower():\n",
    "        return \"Phú Yên\"\n",
    "    elif \"lâm đồng\" in str(x).lower() or \"lđ\" in str(x).lower():\n",
    "        return \"Lâm Đồng\"\n",
    "    elif \"lào cai\" in str(x).lower():\n",
    "        return \"Lào Cai\"\n",
    "    elif \"bạc liêu\" in str(x).lower():\n",
    "        return \"Bạc Liêu\"\n",
    "    elif \"tuyên quang\" in str(x).lower():\n",
    "        return \"Tuyên Quang\"\n",
    "    elif \"đồng tháp\" in str(x).lower():\n",
    "        return \"Đồng Tháp\"\n",
    "    elif \"kon tum\" in str(x).lower():\n",
    "        return \"Kon Tum\"\n",
    "    elif \"cao bằng\" in str(x).lower():\n",
    "        return \"Cao Bằng\"\n",
    "    elif \"yên bái\" in str(x).lower() or \"hà giang\" in str(x).lower():\n",
    "        return \"hà Giang\"\n",
    "    elif \"vl\" in str(x).lower():\n",
    "        return \"Vĩnh Long\"\n",
    "    elif \"cà mau\" in str(x).lower():\n",
    "        return \"Cà Mau\"\n",
    "    elif \"hoà bình\" in str(x).lower():\n",
    "        return \"Hòa Bình\"\n",
    "    elif x is np.nan:\n",
    "        return \"NaN\"\n",
    "    else:\n",
    "        return \"others\"\n",
    "    return x"
   ]
  },
  {
   "cell_type": "code",
   "execution_count": 12,
   "metadata": {
    "ExecuteTime": {
     "end_time": "2020-07-21T03:32:00.652180Z",
     "start_time": "2020-07-21T03:32:00.532579Z"
    },
    "code_folding": [
     1
    ]
   },
   "outputs": [],
   "source": [
    "\n",
    "def fithomeTownName(x):\n",
    "    if \"hồ chí minh\" in str(x).lower() or \"ho chi minh\" in str(x).lower() or \"gò vấp\" in str(x).lower() or \"ho-chi-minh\" in str(x).lower():\n",
    "        return \"HCM\"\n",
    "    if \"tân phú\" in str(x).lower():\n",
    "        return \"HCM\"\n",
    "    elif \"hà nội\" in str(x).lower() or \"hanoi\" in str(x).lower() or \"hanói\" in str(x).lower() or \"sơn tây\" in str(x).lower():\n",
    "        return \"HN\"\n",
    "    elif \"gia lâm\" in str(x).lower() or \"ba vì\" in str(x).lower() or \"ha noi\" in str(x).lower() or \"Ханой\".lower() in str(x).lower():\n",
    "        return \"HN\"\n",
    "    elif \"cửa lò\" in str(x).lower() or \"ba vì\" in str(x).lower() or \"ha noi\" in str(x).lower() or \"Ханой\".lower() in str(x).lower():\n",
    "        return \"HN\"\n",
    "    elif \"thái nguyên\" in str(x).lower():\n",
    "        return \"thái nguyên\"\n",
    "    elif \"thái bình\" in str(x).lower() or \"tiền hả\" in str(x).lower():\n",
    "        return \"thái bình\"\n",
    "    elif \"đà nẵng\" in str(x).lower():\n",
    "        return \"đà nẵng\"\n",
    "    elif \"bắc giang\" in str(x).lower() or \"bac giang\" in str(x).lower() or \"từ sơn\"in str(x).lower():\n",
    "        return \"Bắc Giang\"\n",
    "    elif \"lục nam\" in str(x).lower() or \"bac giang\" in str(x).lower() or \"từ sơn\"in str(x).lower():\n",
    "        return \"Bắc Giang\"\n",
    "    elif \"bắc ninh\" in str(x).lower() or \"yên phong\" in str(x).lower() or \"thuận thành\" in str(x).lower():\n",
    "        return \"Bắc Ninh\"\n",
    "    elif \"nam định\" in str(x).lower() or \"giao thủy\" in str(x).lower() or \"hải hậu\" in str(x).lower() or \"nghĩa hưng\" in str(x).lower():\n",
    "        return \"nam định\"\n",
    "    elif \"xuân trường\" in str(x).lower() or \"giao thủy\" in str(x).lower() or \"hải hậu\" in str(x).lower() or \"nghĩa hưng\" in str(x).lower():\n",
    "        return \"nam định\"\n",
    "    elif \"hải dương\" in str(x).lower() or \"kinh môn\" in str(x).lower() :\n",
    "        return \"hải dương\"\n",
    "    elif \"huế\" in str(x).lower() or \"hue\" in str(x).lower():\n",
    "        return \"huế\"\n",
    "    elif \"hưng yên\" in str(x).lower():\n",
    "        return \"hưng yên\"\n",
    "    elif \"quang nam\" in str(x).lower() or \"tam kỳ\" in str(x).lower() or \"duy xuyên\" in str(x).lower():\n",
    "        return \"Quảng Nam\"\n",
    "    elif \"quảng nam\" in str(x).lower() or \"hội an\" in str(x).lower() or \"duy xuyên\" in str(x).lower():\n",
    "        return \"Quảng Nam\"\n",
    "    elif \"long an\" in str(x).lower() or \"tân an\" in str(x).lower():\n",
    "        return \"long an\"\n",
    "    elif \"an giang\" in str(x).lower() or \"long xuyên\" in str(x).lower()  or \"chợ mới\" in str(x).lower():\n",
    "        return \"an giang\"\n",
    "    elif \"tân châu\" in str(x).lower() or \"long xuyên\" in str(x).lower()  or \"chợ mới\" in str(x).lower():\n",
    "        return \"an giang\"\n",
    "    elif \"vũng tàu\" in str(x).lower() or \"bà rịa\" in str(x).lower():\n",
    "        return \"Vũng Tàu\"\n",
    "    elif \"hòa bình\" in str(x).lower():\n",
    "        return \"hòa bình\"\n",
    "    elif \"quảng ngãi\" in str(x).lower() or \"quang ngai\" in str(x).lower():\n",
    "        return \"quảng ngãi\"\n",
    "    elif \"đắc lắk\" in str(x).lower()  or \"buôn ma thuột\" in str(x).lower():\n",
    "        return \"Đắc Lắk\"\n",
    "    elif \"hà tĩnh\" in str(x).lower() or \"nghi xuân\" in str(x).lower() or \"hương sơn\" in str(x).lower():\n",
    "        return \"hà tĩnh\"\n",
    "    elif \"مدينة هو تشي منه\" in str(x).lower() or \"هانوي\" in str(x).lower() or \"นครโฮจิมินห์\" in str(x).lower() or \"ฮานอย\" in str(x).lower():\n",
    "        return \"others\"\n",
    "    elif \"ها فونغ\" in str(x).lower() or \"دا نانغ\" in str(x).lower() or \"كن تاه\" in str(x).lower():\n",
    "        return \"others\"\n",
    "    elif \"ninh bình\" in str(x).lower():\n",
    "        return \"ninh bình\"\n",
    "    elif \"tuyên quang\" in str(x).lower():\n",
    "        return \"tuyên quang\"\n",
    "    elif \"vinh\" in str(x).lower() or \"nghệ an\" in str(x).lower() or \"yên thành\" in str(x).lower():\n",
    "        return \"Nghệ An\"\n",
    "    elif \"thanh chương\" in str(x).lower() or \"anh sơn\" in str(x).lower() or \"quỳ hợp\" in str(x).lower():\n",
    "        return \"Nghệ An\"\n",
    "    elif \"nghi lộc\" in str(x).lower() or \"tân kỳ\" in str(x).lower():\n",
    "        return \"Nghệ An\"\n",
    "    elif \"nha trang\" in str(x).lower() or \"cam ranh\" in str(x).lower():\n",
    "        return \"khánh hòa\"\n",
    "    elif \"quy nhơn\" in str(x).lower() or \"quy nhon\" in str(x).lower() :\n",
    "        return \"bình định\"\n",
    "    elif \"vĩnh long\" in str(x).lower():\n",
    "        return \"vĩnh long\"\n",
    "    elif \"binh phuoc\" in str(x).lower():\n",
    "        return \"bình phước\"\n",
    "    elif \"sóc trăng\" in str(x).lower():\n",
    "        return \"sóc trăng\"\n",
    "    elif \"yên bái\" in str(x).lower():\n",
    "        return \"yên bái\"\n",
    "    elif \"ninh thuận\" in str(x).lower() or \"phan rang\" in str(x).lower():\n",
    "        return \"ninh thuận\"\n",
    "    elif \"phú thọ\" in str(x).lower() or \"hạ hòa\" in str(x).lower() or \"thanh ba\" in str(x).lower():\n",
    "        return \"phú thọ\"\n",
    "    elif \"cẩm khê\" in str(x).lower() or \"hạ hòa\" in str(x).lower() or \"thanh ba\" in str(x).lower():\n",
    "        return \"phú thọ\"\n",
    "    elif \"bạc liêu\" in str(x).lower() or \"bac lieu\" in str(x).lower():\n",
    "        return \"bạc liêu\"\n",
    "    elif \"binh dinh\" in str(x).lower() or \"bình định\" in str(x).lower() or \"qui nhon\" in str(x).lower() or \"hoài nhon\" in str(x).lower():\n",
    "        return \"Bình Định\"\n",
    "    elif \"phù cát\" in str(x).lower() or \"hoài ân\" in str(x).lower() or  \"bình định\" in str(x).lower():\n",
    "        return \"Bình Định\"\n",
    "    elif \"hạ long\" in str(x).lower() or \"quảng ninh\" in str(x).lower() or \"uông bí\" in str(x).lower():\n",
    "        return \"Quảng Ninh\"\n",
    "    elif \"móng cái\" in str(x).lower() or \"tiên yên\" in str(x).lower() or \"uông bí\" in str(x).lower():\n",
    "        return \"Quảng Ninh\"\n",
    "    elif \"phan thiết\" in str(x).lower() or \"lagi\" in str(x).lower() or \"bình thuận\" in str(x).lower():\n",
    "        return \"Bình Thuận\"\n",
    "    elif \"tuy phong\" in str(x).lower() or \"lagi\" in str(x).lower() or \"phan ri cua\" in str(x).lower():\n",
    "        return \"Bình Thuận\"\n",
    "    elif \"đà lạt\" in str(x).lower() or \"bảo lộc\" in str(x).lower() or \"dalat\" in str(x).lower() or \"di linh\" in str(x).lower():\n",
    "        return \"lâm đồng\"\n",
    "    elif \"bao loc\" in str(x).lower() or \"bảo lộc\" in str(x).lower() or \"dalat\" in str(x).lower() or \"di linh\" in str(x).lower():\n",
    "        return \"lâm đồng\"\n",
    "    elif \"tuy hòa\" in str(x).lower() or \"phú yên\" in str(x).lower() or \"phù yên\" in str(x).lower() or \"sông cầu\"  in str(x).lower():\n",
    "        return \"Phú Yên\"\n",
    "    elif \"lào cai\" in str(x).lower():\n",
    "        return \"lào cai\"\n",
    "    elif \"hà nam\" in str(x).lower() or \"ha nam\" in str(x).lower() or \"lý nhân\" in str(x).lower():\n",
    "        return \"hà nam\"\n",
    "    elif \"cao lãnh\" in str(x).lower() or \"dong thap\" in str(x).lower() or \"tháp mười\" in str(x).lower() or \"thanh bình\" in str(x).lower():\n",
    "        return \"Đồng Tháp\"\n",
    "    elif \"lấp vò\" in str(x).lower() or \"hồng ngự\" in str(x).lower() :\n",
    "        return \"Đồng Tháp\"\n",
    "    elif \"rạch giá\" in str(x).lower() or \"phu quoc\" in str(x).lower() or \"rach gia\" in str(x).lower():\n",
    "        return \"kiên giang\"\n",
    "    elif \"giồng riềng\" in str(x).lower() or \"gò quao\" in str(x).lower() or \"hà tiên\" in str(x).lower():\n",
    "        return \"kiên giang\"\n",
    "    elif \"quảng trị\" in str(x).lower() or \"đông hà\" in str(x).lower() or \"hải lăng\" in str(x).lower():\n",
    "        return \"quảng trị\"\n",
    "    elif \"gia lai\" in str(x).lower() or \"pleiku\" in str(x).lower():\n",
    "        return \"Gia Lai\"\n",
    "    elif \"binh duong\" in str(x).lower() or \"thủ dầu một\" in str(x).lower() or \"dĩ an\" in str(x).lower():\n",
    "        return \"bình dương\"\n",
    "    elif \"tiền giang\" in str(x).lower() or \"gò công\" in str(x).lower() or \"cai lậy\" in str(x).lower():\n",
    "        return \"tiền giang\"\n",
    "    elif \"cái bè\" in str(x).lower() or \"mỹ tho\" in str(x).lower() or \"cai lậy\" in str(x).lower():\n",
    "        return \"tiền giang\"\n",
    "    elif \"hải phòng\" in str(x).lower() or \"an biên\" in str(x).lower() or \"haiphong\" in str(x).lower():\n",
    "        return \"Hải Phòng\"\n",
    "    elif \"khánh hòa\" in str(x).lower():\n",
    "        return \"khánh hòa\"\n",
    "    elif \"hà giang\" in str(x).lower():\n",
    "        return \"hà giang\"\n",
    "    elif \"việt trì\" in str(x).lower():\n",
    "        return \"phú thọ\"\n",
    "    elif \"long khánh\" in str(x).lower() or \"đồng nai\" in str(x).lower() or \"xuân lộc\" in str(x).lower() or \"gia kiem\" in str(x).lower():\n",
    "        return \"đồng nai\"\n",
    "    elif \"long thành\" in str(x).lower() or \"trảng bom\" in str(x).lower() or \"nhơn trạch\" in str(x).lower():\n",
    "        return \"đồng nai\"\n",
    "    elif \"quảng bình\" in str(x).lower() or \"đồng hới\" in str(x).lower() or \"binh tri thien\" in str(x).lower() or \"quảng trạch\" in str(x).lower():\n",
    "        return \"Quảng Bình\"\n",
    "    elif \"kon tum\" in str(x).lower():\n",
    "        return \"Kon tum\"\n",
    "    elif \"vĩnh phúc\" in str(x).lower() or \"vĩnh yên\" in str(x).lower() or \"vĩnh tường\" in str(x).lower() or \"lập thạch\" in str(x).lower():\n",
    "        return \"Vĩnh Phúc\"\n",
    "    elif \"bắc kạn\" in str(x).lower():\n",
    "        return \"Bắc Kạn\"\n",
    "    elif \"lai châu\" in str(x).lower() or \"lai chau\" in str(x).lower():\n",
    "        return \"Lai Châu\"\n",
    "    elif \"bến tre\" in str(x).lower():\n",
    "        return \"Bến Tre\"\n",
    "    elif \"kỳ anh\" in str(x).lower():\n",
    "        return \"Hà Tĩnh\"\n",
    "    elif \"mộc châu\" in str(x).lower() or \"son la\" in str(x).lower():\n",
    "        return \"Sơn La\"\n",
    "    elif \"phụng hiệp\" in str(x).lower() or \"vị thanh\" in str(x).lower() or \"vị thủy\" in str(x).lower():\n",
    "        return \"Hậu Giang\"\n",
    "    elif \"lục ngạn\" in str(x).lower():\n",
    "        return \"Bắc Giang\"\n",
    "    elif \"chí linh\" in str(x).lower():\n",
    "        return \"Hải Dương\"\n",
    "    elif \"sầm sơn\" in str(x).lower() or \"thanh hóa\" in str(x).lower() or \"triệu sơn\" in str(x).lower() or \"nga sơn\" in str(x).lower():\n",
    "        return \"Thanh Hóa\"\n",
    "    elif \"tĩnh gia\" in str(x).lower() or \"bỉm sơn\" in str(x).lower() or \"triệu sơn\" in str(x).lower() or \"nga sơn\" in str(x).lower():\n",
    "        return \"Thanh Hóa\"\n",
    "    elif \"đắk mil\" in str(x).lower():\n",
    "        return \"Đắk Nông\"\n",
    "    elif x is np.nan:\n",
    "        return \"NaN\"\n",
    "    else:\n",
    "        return \"others\"\n"
   ]
  },
  {
   "cell_type": "code",
   "execution_count": 13,
   "metadata": {
    "ExecuteTime": {
     "end_time": "2020-07-21T03:32:00.755913Z",
     "start_time": "2020-07-21T03:32:00.654061Z"
    },
    "code_folding": [
     0
    ]
   },
   "outputs": [],
   "source": [
    "def fithomeTownCountry(x):\n",
    "    if x in indexes:\n",
    "        return x\n",
    "    elif x is np.nan:\n",
    "        return x\n",
    "    else:\n",
    "        return x"
   ]
  },
  {
   "cell_type": "code",
   "execution_count": 14,
   "metadata": {
    "ExecuteTime": {
     "end_time": "2020-07-21T03:32:00.885403Z",
     "start_time": "2020-07-21T03:32:00.758694Z"
    },
    "code_folding": [
     0
    ]
   },
   "outputs": [],
   "source": [
    "def fitcurrentLocationCountry(x):\n",
    "    if x in indexes:\n",
    "        return x\n",
    "    elif x is np.nan:\n",
    "        return x\n",
    "    else:\n",
    "        return x"
   ]
  },
  {
   "cell_type": "code",
   "execution_count": 15,
   "metadata": {
    "ExecuteTime": {
     "end_time": "2020-07-21T03:32:01.001942Z",
     "start_time": "2020-07-21T03:32:00.887326Z"
    },
    "code_folding": [
     0
    ],
    "scrolled": true
   },
   "outputs": [],
   "source": [
    "def fit_currentLocationState(x):\n",
    "    if \"hanoi\" in str(x).lower():\n",
    "        return \"HN Province\"\n",
    "    elif \"haiphong\" in str(x).lower():\n",
    "        return \"HP Province\"\n",
    "    elif \"ho chi minh\" in str(x).lower():\n",
    "        return \"HCM Province\"\n",
    "    elif \"cần thơ\" in str(x).lower():\n",
    "        return \"CT Province\"\n",
    "    elif \"da nang\" in str(x).lower():\n",
    "        return \"DN Province\"\n",
    "    elif \"nan\" in str(x).lower():\n",
    "        return np.nan\n",
    "    elif \"province\" not in str(x).lower():\n",
    "        return \"others\"\n",
    "    elif \"benguela\" in str(x).lower() or \"kampong\" in str(x).lower() or \"vientiane\" in str(x).lower():\n",
    "        return \"others\"\n",
    "    elif \"attapeu\" in str(x).lower() or \"khuzestan\" in str(x).lower() or \"kyustendil\" in str(x).lower():\n",
    "        return \"others\"\n",
    "    elif \"uíge\" in str(x).lower() or \"svay\" in str(x).lower() or \"bolikhamsai\" in str(x).lower():\n",
    "        return \"others\"\n",
    "    elif \"hela\" in str(x).lower() or \"istanbul\" in str(x).lower() or \"tbong\" in str(x).lower():\n",
    "        return \"others\"\n",
    "    return x"
   ]
  },
  {
   "cell_type": "code",
   "execution_count": 16,
   "metadata": {
    "ExecuteTime": {
     "end_time": "2020-07-21T03:32:01.085055Z",
     "start_time": "2020-07-21T03:32:01.005264Z"
    },
    "code_folding": [
     0
    ]
   },
   "outputs": [],
   "source": [
    "def locate(x):\n",
    "    if \"vn\" in str(x).lower():\n",
    "        return \"vn_VN\"\n",
    "    if \"us\" in str(x).lower() or \"es\" in str(x).lower():\n",
    "        return \"us\"\n",
    "    return x"
   ]
  },
  {
   "cell_type": "code",
   "execution_count": 17,
   "metadata": {
    "ExecuteTime": {
     "end_time": "2020-07-21T03:32:01.168998Z",
     "start_time": "2020-07-21T03:32:01.087769Z"
    },
    "code_folding": [
     0
    ]
   },
   "outputs": [],
   "source": [
    "def fit_homeTownState(x):\n",
    "    if \"hanoi\" in str(x).lower():\n",
    "        return \"HN Province\"\n",
    "    elif \"haiphong\" in str(x).lower():\n",
    "        return \"HP Province\"\n",
    "    elif \"ho chi minh\" in str(x).lower():\n",
    "        return \"HCM Province\"\n",
    "    elif \"cần thơ\" in str(x).lower():\n",
    "        return \"CT Province\"\n",
    "    elif \"da nang\" in str(x).lower():\n",
    "        return \"DN Province\"\n",
    "    elif \"nan\" in str(x).lower():\n",
    "        return np.nan\n",
    "    elif \"province\" not in str(x).lower():\n",
    "        return \"others\"\n",
    "    elif \"coast\" in str(x).lower() or \"southern\" in str(x).lower() or \"hormozgan\" in str(x).lower():\n",
    "        return \"others\"\n",
    "    elif \"kampong\" in str(x).lower() or \"salavan\" in str(x).lower() or \"luanda\" in str(x).lower():\n",
    "        return \"others\"\n",
    "    elif \"gilan\" in str(x).lower() or \"svay\" in str(x).lower() or \"tbong\" in str(x).lower() or \"kandal\" in str(x).lower():\n",
    "        return \"others\"\n",
    "    return x"
   ]
  },
  {
   "cell_type": "code",
   "execution_count": 18,
   "metadata": {
    "ExecuteTime": {
     "end_time": "2020-07-21T03:32:01.278097Z",
     "start_time": "2020-07-21T03:32:01.173581Z"
    },
    "code_folding": [
     0
    ],
    "scrolled": true
   },
   "outputs": [],
   "source": [
    "def fitmacv(x):\n",
    "    if \"công nhân\" in str(x).lower() or  \"cn\" in str(x).lower() :\n",
    "        return \"CN\"\n",
    "    elif \"giáo viên\" in str(x).lower():\n",
    "        return \"GV\"\n",
    "    elif \"trưởng\" in str(x).lower() or \"kiểm soát viên\" in str(x).lower() or \"quản lý\" in str(x).lower():\n",
    "        return \"QL\"\n",
    "    elif \"lao động\" in str(x).lower() or \"lđpt\" in str(x).lower() or \"may\" in str(x).lower():\n",
    "        return \"CN\"\n",
    "    elif \"nhân viên\" in str(x).lower() or \"nv\" in str(x).lower() or \"bán hàng\" in str(x).lower():\n",
    "        return \"NV\"\n",
    "    elif \"thủ kho\" in str(x).lower() or \"tạp vụ\" in str(x).lower() or \"thu ngân\" in str(x).lower():\n",
    "        return \"NV\"\n",
    "    elif \"phụ kho\" in str(x).lower() or \"văn phòng\" in str(x).lower() or \"Nhõn viờn\" in str(x).lower():\n",
    "        return \"NV\"\n",
    "    elif \"kỹ thuật\" in str(x).lower() or \"giao dịch\" in str(x).lower() or \"viên\" in str(x).lower():\n",
    "        return \"NV\"\n",
    "    elif \"phục vụ\" in str(x).lower() or \"văn thư\" in str(x).lower() or \"phụ việc\" in str(x).lower():\n",
    "        return \"NV\"\n",
    "    elif \"giao nhận\" in str(x).lower() or \"thủ quỹ\" in str(x).lower() or \"kiểm hàng\" in str(x).lower():\n",
    "        return \"NV\"\n",
    "    elif \"giám đốc\" in str(x).lower():\n",
    "        return \"GĐ\"\n",
    "    elif \"kế toán\" in str(x).lower() or \"lái xe\" in str(x).lower() or \"tài xế\" in str(x).lower():\n",
    "        return \"NV\"\n",
    "    elif \"Kiểm ngân\" in str(x).lower() or \"công nghệ\" in str(x).lower() or \"lễ tân\" in str(x).lower():\n",
    "        return \"NV\"\n",
    "    elif \"cán\" in str(x).lower() or \"cb\" in str(x).lower():\n",
    "        return \"CB\"\n",
    "    elif \"kỹ sư\" in str(x).lower():\n",
    "        return \"KS\"\n",
    "    elif \"điều dưỡng\" in str(x).lower():\n",
    "        return \"ĐD\"\n",
    "    elif \"thợ\" in str(x).lower():\n",
    "        return \"thợ\"\n",
    "    elif \"y sỹ\" in str(x).lower() or \"y sĩ\" in str(x).lower() or \"y tá\" in str(x).lower() or \"bác sĩ\" in str(x).lower():\n",
    "        return \"Y\"\n",
    "    elif \"dược\" in str(x).lower():\n",
    "        return \"DS\"\n",
    "    elif \"giám sát\" in str(x).lower() or \"bảo vệ\" in str(x).lower():\n",
    "        return \"BV\"\n",
    "    elif \"huấn luyện\" in str(x).lower():\n",
    "        return \"HL\"\n",
    "    elif \"kinh doanh\" in str(x).lower():\n",
    "        return \"KD\"\n",
    "    elif \"kinh doanh\" in str(x).lower():\n",
    "        return \"KD\"\n",
    "    elif x is not np.nan:\n",
    "        return \"others\"\n",
    "    return x"
   ]
  },
  {
   "cell_type": "code",
   "execution_count": 19,
   "metadata": {
    "ExecuteTime": {
     "end_time": "2020-07-21T03:32:01.379560Z",
     "start_time": "2020-07-21T03:32:01.282679Z"
    },
    "code_folding": [
     0
    ],
    "scrolled": false
   },
   "outputs": [],
   "source": [
    "def fit46(x):\n",
    "    if \"công ty\" in str(x).lower() or \"cty\" in str(x).lower() or \"c.ty\" in str(x).lower() or \"ct\" in str(x).lower() or \"co\" in str(x).lower() or \"côngty\" in str(x).lower() or \"xí nghiệp\" in str(x).lower() or \"xn\" in str(x).lower() or \"cổ phần\" in str(x).lower():\n",
    "        return \"CTY\"\n",
    "    elif \"bệnh viện\" in str(x).lower() or \"đa khoa\" in str(x).lower():\n",
    "        return \"Bệnh Viện\"\n",
    "    elif \"trường\" in str(x).lower() or \"đại học\" in str(x).lower() or \"non\" in str(x).lower() or \"viện\" in str(x).lower() or \"cao\" in str(x).lower() or \"lớp\" in str(x).lower():\n",
    "        return \"Trường\"\n",
    "    elif \"cận nghèo\" in str(x).lower():\n",
    "        return \"khó khăn\"\n",
    "    elif \"trung tâm\" in str(x).lower() or \"tt\" in str(x).lower() or \"vp\" in str(x).lower() or \"tổ chức\"  in str(x).lower():\n",
    "        return \"Trung tâm\" \n",
    "    elif \"bhyt\"in str(x).lower():\n",
    "        return \"BHYT\"\n",
    "    elif str(x).lower().startswith(\"đại lý\"):\n",
    "        return \"Đại Lý\"\n",
    "    elif \"tự nguyện\" in str(x).lower():\n",
    "        return \"tự nguyện\"\n",
    "    elif \"bưu điện\" in str(x).lower() or \"viễn thông\" in str(x).lower() or \"thông tin\" in str(x).lower():\n",
    "        return \"Bưu điện\"\n",
    "    elif \"ngân hàng\" in str(x).lower() or \"nh\" in str(x).lower() or \"bank\" in str(x).lower():\n",
    "        return \"ngân hàng\"\n",
    "    elif \"giáo dục\" in str(x).lower():\n",
    "        return \"Giáo dục\"\n",
    "    elif \"khó khăn\" in str(x).lower() or \"thiểu số\" in str(x).lower() or \"dân tộc\" in str(x).lower() or \"người\" in str(x).lower() or \"tượng\" in str(x).lower() or \"thất nghiệp\" in str(x).lower() or \"trợ cấp\" in str(x).lower() or \"nghèo\" in str(x).lower() or \"6\" in str(x).lower():\n",
    "        return \"khó khăn\"\n",
    "    elif \"ubnd\" in str(x).lower() or \"hđnd\"  in str(x).lower():\n",
    "        return \"UB&HĐND\"\n",
    "    elif \"hộ\" in str(x).lower() or \"hgđ\" in str(x).lower() or \"hô gia đình\" in str(x).lower() or \"hgd\" in str(x).lower() or \"hộ gđ\" in str(x).lower() or \"nhân dân\" in str(x).lower() or \"phường\" in str(x).lower() or \"tnnd\" in str(x).lower() or \"dân\" in str(x).lower():\n",
    "        return \"HGD\"\n",
    "    elif \"cán bộ\" in str(x) or \"công nhân\" in str(x).lower() or \"viên chức\" in str(x).lower() or \"cb\" in str(x).lower():\n",
    "        return \"CCV\"\n",
    "    elif \"htx\" in str(x).lower() or \"hợp tác xã\" in str(x).lower():\n",
    "        return \"HTX\"\n",
    "    elif \"phòng\" in str(x).lower() or \"sở\" in str(x).lower() or \"đoàn\" in str(x).lower() or \"cục\" in str(x).lower() or \"ban\" in str(x).lower() or \"bộ\" in str(x).lower() or \"trạm\" in str(x).lower() or \"cơ quan\" in str(x).lower():\n",
    "        return \"Co so\"\n",
    "    elif \"dntn\" in str(x).lower() or \"dn\" in str(x).lower():\n",
    "        return \"DNTN\"\n",
    "    elif \"huyện\" in str(x).lower():\n",
    "        return \"huyện\"\n",
    "    elif \"xã\" in str(x).lower():\n",
    "        return \"xã\"\n",
    "    elif \"thị trấn\" in str(x).lower():\n",
    "        return \"thị trấn\"\n",
    "    elif x is not np.nan:\n",
    "        return \"others\"\n",
    "    return x"
   ]
  },
  {
   "cell_type": "code",
   "execution_count": 20,
   "metadata": {
    "ExecuteTime": {
     "end_time": "2020-07-21T03:32:01.479470Z",
     "start_time": "2020-07-21T03:32:01.382414Z"
    },
    "code_folding": [
     0
    ],
    "scrolled": true
   },
   "outputs": [],
   "source": [
    "def fit56(x):\n",
    "    if \"ngoài quốc doanh tỉnh\" in str(x).lower() or \"ngoài quốc doanh thành\" in str(x).lower() or \"ngoài quốc doanh tp\" in str(x).lower():\n",
    "        return \"ngoài quốc doanh tỉnh/tp\"\n",
    "    elif \"ngoài quốc doanh quận\" in str(x).lower() or \"ngoài quốc doanh huyện\" in str(x).lower() or \"ngoài quốc doanh liên chiểu\" in str(x).lower():\n",
    "        return \"ngoài quốc doanh quận/huyện\"\n",
    "    elif \"ngoài quốc doanh thị xã\" in str(x).lower():\n",
    "        return \"ngoài quốc doanh thị xã\"\n",
    "    \n",
    "    elif \"hành chánh sự nghiệp tỉnh\" in str(x).lower() or \"hành chánh sự nghiệp thành\" in str(x).lower() or \"hành chánh sự nghiệp tp\" in str(x).lower():\n",
    "        return \"hành chánh sự nghiệp tỉnh/tp\"\n",
    "    elif \"hành chánh sự nghiệp huyện\" in str(x).lower() or \"hành chánh sự nghiệp quận\" in str(x).lower() or \"hành chính sự nghiệp huyện\" in str(x).lower() or \"hành chính sự nghiệp liên chiểu\" in str(x).lower():\n",
    "        return \"hành chánh sự nghiệp huyện/quận\"\n",
    "    elif \"hành chánh sự nghiệp thị\" in str(x).lower() or \"hành chính sự nghiệp thị xã\" in str(x).lower() or \"hành chánh sự nghiệp thi\" in str(x).lower():\n",
    "        return \"hành chánh sự nghiệp thị Xã\"\n",
    "    \n",
    "    elif \"doanh nghiệp nhà nước thành\" in str(x).lower() or \"doanh nghiệp nhà nước tp\" in str(x).lower():\n",
    "        return \"hành chánh sự nghiệp tỉnh/tp\"\n",
    "    elif \"doanh nghiệp nhà nước quận\" in str(x).lower() or \"doanh nghiệp nhà nước huyện\" in str(x).lower() or \"doanh nghiệp nhà nước q\" in str(x).lower():\n",
    "        return \"hành chánh sự nghiệp huyện/quận\"\n",
    "    elif \"doanh nghiệp nhà nước thị\" in str(x).lower():\n",
    "        return \"Doanh nghiệp nhà nước thị xã\"\n",
    "\n",
    "    elif \"ngoài công lập thành\" in str(x).lower() or \"ngoài công lập tỉnh\" in str(x).lower() or \"ngoài công lập tp\" in str(x).lower(): \n",
    "        return \"ngoài công lập tp\"   \n",
    "    elif \"ngoài công lập huyện\" in str(x).lower() or \"ngoài công lập quận\" in str(x).lower():\n",
    "        return \"Ngoài công lập Huyện/Quận\"\n",
    "    elif \"ngoài công lập thị\" in str(x).lower():\n",
    "        return \"Ngoài công lập Thị xã\"\n",
    "    \n",
    "    elif \"hội nn, cá thể thành\" in str(x).lower():\n",
    "        return \"hội nn, cá thể thành phố\"\n",
    "    elif \"hội nn, cá thể huyện\" in str(x).lower():\n",
    "        return \"hội nn, cá thể  huyện\"\n",
    "    elif \"hội nn, cá thể thị xã\" in str(x).lower():\n",
    "        return \"hội nn, cá thể thị xã\"\n",
    "    elif \"hội nn, cá thể huyện\" in str(x).lower():\n",
    "        return \"hội nn, cá thể  huyện\"\n",
    "    \n",
    "    elif \"sự nghiệp quận\" in str(x).lower() or \"sự nghiệp huyện\" in str(x).lower():\n",
    "        return \"sự nghiệp quận/huyện\"\n",
    "    elif \"văn phòng đại diện, cơ quan nước ngoài\" in str(x).lower():\n",
    "        return \"Văn phòng đại diện nước ngoài\"\n",
    "    elif \"học sinh sinh viên\" in str(x).lower() or \"sinh viên\" in str(x).lower():\n",
    "        return \"sinh viên\"\n",
    "    elif \"doanh nghiệp có vốn đầu tư nước ngoài\" in str(x).lower():\n",
    "        return \"doanh nghiệp có vốn đầu tư nước ngoài\"\n",
    "    elif \"nghèo\" in str(x).lower() or \"khó khăn\" in str(x).lower():\n",
    "        return \"nghèo\"\n",
    "    elif \"đại biểu\" in str(x).lower():\n",
    "        return \"đại biểu\"\n",
    "    elif \"cán bộ\" in str(x).lower() or \"đảng\" in str(x).lower():\n",
    "        return \"cán bộ\"\n",
    "    return x"
   ]
  },
  {
   "cell_type": "code",
   "execution_count": 21,
   "metadata": {
    "ExecuteTime": {
     "end_time": "2020-07-21T03:32:01.579486Z",
     "start_time": "2020-07-21T03:32:01.482864Z"
    }
   },
   "outputs": [
    {
     "data": {
      "text/plain": [
       "'\\ndf_transform[\"Field_56\"] = df_transform[\"Field_56\"].map(fit56)\\ndf_transform[\"Field_56\"] = df_transform[\"Field_56\"].fillna(\"NaN\")\\nuniques_56 = df_transform[\"Field_56\"].value_counts().index[:30]\\ndf_transform[\"Field_56\"] = df_transform[\"Field_56\"].map(lambda x: x if x in uniques_56 else np.nan)\\n\\ndf_transform[\"maCv\"] = df_transform[\"maCv\"].map(fitmacv)\\ndf_transform[\"maCv\"] = df_transform[\"maCv\"].fillna(\"NaN\")\\n\\ndf_transform[\"Field_46\"] = df_transform[\"Field_46\"].map(fit46)\\ndf_transform[\"Field_46\"] = df_transform[\"Field_46\"].fillna(\"NaN\")\\n\\n\\n\\ndf_transform[\"data.basic_info.locale\"] = df_transform[\"data.basic_info.locale\"].map(locate)\\n\\ndf_transform[\"currentLocationState\"] = df_transform[\"currentLocationState\"].map(fit_currentLocationState)\\n\\ndf_transform[\"homeTownState\"] = df_transform[\"homeTownState\"].map(fit_homeTownState)\\n\\nindexes = list(df_transform[\\'homeTownCountry\\'].value_counts().index)[:19]\\ndf_transform[\\'homeTownCountry\\'] = df_transform[\\'homeTownCountry\\'].map(fithomeTownCountry)\\n\\nindexes = list(df_transform[\\'currentLocationCountry\\'].value_counts().index)[:19]\\ndf_transform[\\'currentLocationCountry\\'] = df_transform[\\'currentLocationCountry\\'].map(fitcurrentLocationCountry)\\n\\ndf_transform[\"homeTownName\"] = df_transform[\"homeTownName\"].map(fithomeTownName)\\n\\ndf_transform[\"Field_49\"] = df_transform[\"Field_49\"].map(fit49).value_counts()\\n'"
      ]
     },
     "execution_count": 21,
     "metadata": {},
     "output_type": "execute_result"
    }
   ],
   "source": [
    "\"\"\"\n",
    "df_transform[\"Field_56\"] = df_transform[\"Field_56\"].map(fit56)\n",
    "df_transform[\"Field_56\"] = df_transform[\"Field_56\"].fillna(\"NaN\")\n",
    "uniques_56 = df_transform[\"Field_56\"].value_counts().index[:30]\n",
    "df_transform[\"Field_56\"] = df_transform[\"Field_56\"].map(lambda x: x if x in uniques_56 else np.nan)\n",
    "\n",
    "df_transform[\"maCv\"] = df_transform[\"maCv\"].map(fitmacv)\n",
    "df_transform[\"maCv\"] = df_transform[\"maCv\"].fillna(\"NaN\")\n",
    "\n",
    "df_transform[\"Field_46\"] = df_transform[\"Field_46\"].map(fit46)\n",
    "df_transform[\"Field_46\"] = df_transform[\"Field_46\"].fillna(\"NaN\")\n",
    "\n",
    "\n",
    "\n",
    "df_transform[\"data.basic_info.locale\"] = df_transform[\"data.basic_info.locale\"].map(locate)\n",
    "\n",
    "df_transform[\"currentLocationState\"] = df_transform[\"currentLocationState\"].map(fit_currentLocationState)\n",
    "\n",
    "df_transform[\"homeTownState\"] = df_transform[\"homeTownState\"].map(fit_homeTownState)\n",
    "\n",
    "indexes = list(df_transform['homeTownCountry'].value_counts().index)[:19]\n",
    "df_transform['homeTownCountry'] = df_transform['homeTownCountry'].map(fithomeTownCountry)\n",
    "\n",
    "indexes = list(df_transform['currentLocationCountry'].value_counts().index)[:19]\n",
    "df_transform['currentLocationCountry'] = df_transform['currentLocationCountry'].map(fitcurrentLocationCountry)\n",
    "\n",
    "df_transform[\"homeTownName\"] = df_transform[\"homeTownName\"].map(fithomeTownName)\n",
    "\n",
    "df_transform[\"Field_49\"] = df_transform[\"Field_49\"].map(fit49).value_counts()\n",
    "\"\"\"\n"
   ]
  },
  {
   "cell_type": "code",
   "execution_count": 22,
   "metadata": {
    "ExecuteTime": {
     "end_time": "2020-07-21T03:32:01.801118Z",
     "start_time": "2020-07-21T03:32:01.581268Z"
    }
   },
   "outputs": [],
   "source": [
    "df_transform[\"Field_54\"] = df_transform[\"Field_54\"].map(fit54)\n",
    "df_transform[\"Field_62\"] = df_transform[\"Field_62\"].map(fit62)"
   ]
  },
  {
   "cell_type": "code",
   "execution_count": 23,
   "metadata": {
    "ExecuteTime": {
     "end_time": "2020-07-21T03:32:02.097103Z",
     "start_time": "2020-07-21T03:32:01.803532Z"
    }
   },
   "outputs": [],
   "source": [
    "df_transform = df_transform.drop(data_type[\"drop\"], axis = 1)\n",
    "df_transform = df_transform.drop(data_type[\"text\"], axis = 1)"
   ]
  },
  {
   "cell_type": "code",
   "execution_count": 24,
   "metadata": {
    "ExecuteTime": {
     "end_time": "2020-07-21T03:32:02.105442Z",
     "start_time": "2020-07-21T03:32:02.098649Z"
    },
    "code_folding": []
   },
   "outputs": [],
   "source": [
    "def transform_function(df):\n",
    "    for feature in df.columns:\n",
    "        if feature in data_type[\"cat_num\"]:\n",
    "            df[feature] = df[feature].fillna(\"Nan\")\n",
    "            df = pd.get_dummies(df, columns=[feature])\n",
    "        elif feature in data_type[\"date\"]:\n",
    "            df[feature] = df[feature].map(lambda x: float(parse(str(x)).timestamp()) if type(x) is str else x)\n",
    "            df[feature].fillna(df[feature].mean())\n",
    "        elif feature in  data_type[\"cat_str\"]:\n",
    "            df[feature] = df[feature].fillna(\"Nan\")\n",
    "            vc = df[feature].value_counts()\n",
    "            if len(vc) <= 70 or feature:\n",
    "                df = pd.get_dummies(df, columns=[feature])\n",
    "            else:\n",
    "                classes = {}\n",
    "                k = 0\n",
    "                uniques = vc.index\n",
    "                for unique in uniques:\n",
    "                    classes[unique] = k\n",
    "                    k += 1\n",
    "                df[feature] = df[feature].map(lambda x: classes[x])\n",
    "    return df"
   ]
  },
  {
   "cell_type": "code",
   "execution_count": null,
   "metadata": {
    "ExecuteTime": {
     "start_time": "2020-07-21T03:31:57.658Z"
    }
   },
   "outputs": [],
   "source": [
    "df_transform = transform_function(df_transform)\n",
    "df_transform = df_transform.fillna(df_transform.mean())"
   ]
  },
  {
   "cell_type": "code",
   "execution_count": null,
   "metadata": {
    "ExecuteTime": {
     "start_time": "2020-07-21T03:31:57.661Z"
    }
   },
   "outputs": [],
   "source": [
    "for feature in df_transform.columns:\n",
    "    print(feature)"
   ]
  },
  {
   "cell_type": "code",
   "execution_count": null,
   "metadata": {
    "ExecuteTime": {
     "start_time": "2020-07-21T03:31:57.666Z"
    }
   },
   "outputs": [],
   "source": [
    "df_transform.head()"
   ]
  },
  {
   "cell_type": "code",
   "execution_count": null,
   "metadata": {
    "ExecuteTime": {
     "start_time": "2020-07-21T03:31:57.669Z"
    }
   },
   "outputs": [],
   "source": [
    "X1 = df_transform.Field_2 - df_transform.Field_1\n",
    "X2 = df_transform.Field_6 - df_transform.Field_5\n",
    "X3 = df_transform.Field_8 - df_transform.Field_7\n",
    "X4 = df_transform.Field_33 - df_transform.Field_32\n",
    "X5 = df_transform.Field_44 - df_transform.Field_43\n",
    "X6 = df_transform.F_endDate - df_transform.F_startDate\n",
    "X7 = df_transform.E_endDate - df_transform.E_startDate\n",
    "X8 = df_transform.C_endDate - df_transform.C_startDate\n",
    "X9 = df_transform.G_endDate - df_transform.G_startDate\n",
    "X10 = df_transform.A_endDate - df_transform.A_startDate\n",
    "df_transform = pd.concat([df_transform,X1,X2, X3, X4, X5, X6, X7, X8, X9, X10], axis=1)"
   ]
  },
  {
   "cell_type": "code",
   "execution_count": null,
   "metadata": {
    "ExecuteTime": {
     "start_time": "2020-07-21T03:31:57.674Z"
    }
   },
   "outputs": [],
   "source": [
    "train = df_transform.iloc[:53030,:]\n",
    "test = df_transform.iloc[53030:,:]"
   ]
  },
  {
   "cell_type": "code",
   "execution_count": null,
   "metadata": {
    "ExecuteTime": {
     "start_time": "2020-07-21T03:31:57.677Z"
    }
   },
   "outputs": [],
   "source": [
    "scaler = MinMaxScaler()\n",
    "scaler.fit(train)\n",
    "X_transform = scaler.transform(train)\n",
    "test_transform = scaler.transform(test)\n",
    "X_transform = pd.DataFrame(data = X_transform)\n",
    "test_transform = pd.DataFrame(data = test_transform)"
   ]
  },
  {
   "cell_type": "code",
   "execution_count": null,
   "metadata": {
    "ExecuteTime": {
     "start_time": "2020-07-21T03:31:57.680Z"
    }
   },
   "outputs": [],
   "source": [
    "X_transform = pd.concat([df_train.id, df_train.label,X_transform], axis = 1)\n",
    "test_transform = pd.concat([df_test.id,test_transform], axis = 1)"
   ]
  },
  {
   "cell_type": "code",
   "execution_count": null,
   "metadata": {
    "ExecuteTime": {
     "start_time": "2020-07-21T03:31:57.683Z"
    },
    "scrolled": true
   },
   "outputs": [],
   "source": [
    "X_transform.head()"
   ]
  },
  {
   "cell_type": "code",
   "execution_count": null,
   "metadata": {
    "ExecuteTime": {
     "start_time": "2020-07-21T03:31:57.685Z"
    }
   },
   "outputs": [],
   "source": [
    "test_transform.head()"
   ]
  },
  {
   "cell_type": "code",
   "execution_count": null,
   "metadata": {
    "ExecuteTime": {
     "start_time": "2020-07-21T03:31:57.688Z"
    }
   },
   "outputs": [],
   "source": [
    "data_version = \"03-09-2020-date\""
   ]
  },
  {
   "cell_type": "code",
   "execution_count": null,
   "metadata": {
    "ExecuteTime": {
     "start_time": "2020-07-21T03:31:57.691Z"
    }
   },
   "outputs": [],
   "source": [
    "os.makedirs(f\"../../data/kalapa/{data_version}/\", exist_ok=True)\n",
    "X_transform.to_csv(f\"../../data/kalapa/{data_version}/train.csv\", index = False)\n",
    "test_transform.to_csv(f\"../../data/kalapa/{data_version}/test.csv\", index = False)"
   ]
  }
 ],
 "metadata": {
  "kernelspec": {
   "display_name": "Python 3",
   "language": "python",
   "name": "python3"
  },
  "language_info": {
   "codemirror_mode": {
    "name": "ipython",
    "version": 3
   },
   "file_extension": ".py",
   "mimetype": "text/x-python",
   "name": "python",
   "nbconvert_exporter": "python",
   "pygments_lexer": "ipython3",
   "version": "3.7.7"
  },
  "varInspector": {
   "cols": {
    "lenName": 16,
    "lenType": 16,
    "lenVar": 40
   },
   "kernels_config": {
    "python": {
     "delete_cmd_postfix": "",
     "delete_cmd_prefix": "del ",
     "library": "var_list.py",
     "varRefreshCmd": "print(var_dic_list())"
    },
    "r": {
     "delete_cmd_postfix": ") ",
     "delete_cmd_prefix": "rm(",
     "library": "var_list.r",
     "varRefreshCmd": "cat(var_dic_list()) "
    }
   },
   "types_to_exclude": [
    "module",
    "function",
    "builtin_function_or_method",
    "instance",
    "_Feature"
   ],
   "window_display": false
  }
 },
 "nbformat": 4,
 "nbformat_minor": 4
}
