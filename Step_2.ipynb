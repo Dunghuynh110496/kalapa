{
 "cells": [
  {
   "cell_type": "code",
   "execution_count": 1,
   "metadata": {
    "ExecuteTime": {
     "end_time": "2020-07-31T04:25:33.857580Z",
     "start_time": "2020-07-31T04:25:33.005962Z"
    }
   },
   "outputs": [],
   "source": [
    "import pandas as pd\n",
    "import numpy as np\n",
    "import matplotlib.pyplot as plt\n",
    "import sys\n",
    "import csv\n",
    "import os\n",
    "import random\n",
    "import string\n",
    "import seaborn as sns\n",
    "import math\n",
    "import re\n",
    "import warnings\n",
    "import lightgbm as lgb\n",
    "\n",
    "from sklearn.preprocessing import MinMaxScaler\n",
    "from sklearn.feature_extraction.text import TfidfVectorizer\n",
    "from sklearn.model_selection import StratifiedKFold\n",
    "from sklearn.feature_selection import VarianceThreshold\n",
    "from sklearn.metrics import roc_auc_score\n",
    "from sklearn.model_selection import KFold\n",
    "from sklearn.preprocessing import LabelEncoder\n",
    "from feature_engine import categorical_encoders as ce\n",
    "\n",
    "from datetime import datetime\n",
    "from dateutil.parser import parse\n",
    "from sklearn import metrics\n",
    "from unidecode import unidecode\n",
    "from sklearn.metrics import roc_auc_score\n",
    "\n",
    "from itertools import combinations\n",
    "\n",
    "warnings.filterwarnings('ignore')\n",
    "pd.options.display.max_columns = 50\n",
    "plt.style.use('ggplot')\n",
    "\n",
    "%matplotlib inline"
   ]
  },
  {
   "cell_type": "code",
   "execution_count": 2,
   "metadata": {
    "ExecuteTime": {
     "end_time": "2020-07-31T04:25:33.861210Z",
     "start_time": "2020-07-31T04:25:33.859061Z"
    }
   },
   "outputs": [],
   "source": [
    "data_version_input = \"01-10-2020\""
   ]
  },
  {
   "cell_type": "code",
   "execution_count": 3,
   "metadata": {
    "ExecuteTime": {
     "end_time": "2020-07-31T04:25:33.951901Z",
     "start_time": "2020-07-31T04:25:33.862910Z"
    }
   },
   "outputs": [],
   "source": [
    "data_version = \"11-10-2020-v1\""
   ]
  },
  {
   "cell_type": "code",
   "execution_count": 4,
   "metadata": {
    "ExecuteTime": {
     "end_time": "2020-07-31T04:25:35.054628Z",
     "start_time": "2020-07-31T04:25:33.954650Z"
    }
   },
   "outputs": [],
   "source": [
    "df_train = pd.read_csv(f\"../../data/kalapa/{data_version_input}/train.csv\")\n",
    "df_test = pd.read_csv(f\"../../data/kalapa/{data_version_input}/test.csv\")"
   ]
  },
  {
   "cell_type": "code",
   "execution_count": 5,
   "metadata": {
    "ExecuteTime": {
     "end_time": "2020-07-31T04:25:35.301805Z",
     "start_time": "2020-07-31T04:25:35.056259Z"
    }
   },
   "outputs": [],
   "source": [
    "df_transform = pd.concat([df_train.iloc[:,2:], df_test.iloc[:,1:]], axis = 0)"
   ]
  },
  {
   "cell_type": "code",
   "execution_count": 6,
   "metadata": {
    "ExecuteTime": {
     "end_time": "2020-07-31T04:25:35.323677Z",
     "start_time": "2020-07-31T04:25:35.303359Z"
    },
    "scrolled": true
   },
   "outputs": [
    {
     "name": "stdout",
     "output_type": "stream",
     "text": [
      "['??oan Hùng', 'A Luoi (1)', 'Abu Dhabi', 'Ajaccio', 'American Falls', 'Amherst', 'Amphoe Song Phi Nong', 'An Biên', 'An Dương District', 'An Giang (4)', 'An Khê', 'An Lac', 'An Lão', 'An Lê', 'An Nhon', 'An Ninh', 'An Phong', 'An Phu', 'An Thi', 'An Thuan', 'Angiang', 'Anh Son', 'Anini-y', 'Ap An Thai (1)', 'Ap Bao Binh', 'Ap Ben Cam', 'Ap Ben Cau', 'Ap Binh Chanh (1)', 'Ap Binh Duong (1)', 'Ap Binh Hung', 'Ap Binh Quang', 'Ap Binh Thuan', 'Ap Hung Yen', 'Ap Lam Phu', 'Ap Loi Nhon', 'Ap My Tho', 'Ap Nhon My', 'Ap Tan Ha', 'Ap Tan Phu', 'Ap Tan Thanh', 'Ap Thanh Dong', 'Ap Thanh Nhut', 'Ap Ã?ao', 'Australind', 'Aylmer', \"B'Sar Dong\", \"B'sre\", 'Ba Don', 'Ba Hòn', 'Ba Ria', 'Ba Thuoc', 'Ba Tri', 'Ba Vì', 'Bac Binh', 'Bac Can', 'Bac Giang', 'Bac Ha', 'Bac Kan', 'Bac Lieu', 'Bac Ninh', 'Bac Quang', 'Bac Son', 'Bach Cau', 'Bach Ma', 'Bai Thuong', 'Bali', 'Ban Daknong', 'Ban Gioc', 'Ban Krong Buk', 'Ban Krong Pack', \"Ban M'drack\", 'Ban Me Thuot', 'Ban Nong Bua Noi', 'Bandar-e-Emam Khomeyni', 'Bangkok', 'Banza Luanda', 'Bao Ha', 'Bao Loc', 'Bao Yen', 'Barcelona', 'Bavi', 'Beckingham', 'Ben', 'Ben Cat', 'Ben Luc', 'Ben Tre', 'Benguela', 'Bermuda', 'Bim Son', 'Binh Chau', 'Binh Chuan', 'Binh Dinh', 'Binh Duong', 'Binh Gia', 'Binh Hoa', 'Binh Loc', 'Binh Long', 'Binh Luc', 'Binh Minh', 'Binh Phu', 'Binh Phuoc', 'Binh Son', 'Binh Thanh', 'Binh Thuy', 'Biên Hòa', 'Bo Ha', 'Bon Bu Bo Dak Nong', 'Bon Dak Mam', 'Brisbane', 'Bronx', 'Bu Dak Lung', 'Bu Dang', 'Bu Dang (2)', 'Buon Ea Kmut', 'Buon Ma Thuot', 'Buon Me Thuot', 'Buon Trap', 'Busan', 'Buôn Hô', 'Buôn Hô (1)', 'Buôn Krông Bông', 'Buôn Mrông (1)', 'Buôn Nui', 'Buôn Pan', 'Buôn Wing (2)', 'Bát Trang', 'Bãi Cháy', 'Bénin', 'Bình Chánh', 'Bình Hưng Hòa B', 'Bình Liêu', 'Bình Long', 'Bình Thanh (1)', 'Bù Nho', 'Cai Lay', 'Cai Mon', 'Cai Nuoc', 'Cai Rong', 'Cai Tau Ha', 'California City', 'Cam Khe', 'Cam Lo', 'Cam Lâm', 'Cam My', 'Cam Pha', 'Cam Pha Port', 'Cam Ranh', 'Cam Ranh Port', 'Cam Thuong', 'Cam Xuyen', 'Cambridge', 'Camo', 'Can Duoc', 'Can Giuoc', 'Can Tho', 'Canh Duong Xa', 'Cao Bang', 'Cao Binh', 'Cao Lãnh', 'Cap-Saint-Jacques', 'Cat Hai', 'Cau Gam', 'Cau Tram', 'Cau Truong Toa', 'Changhua', 'Chau Hung', 'Chau Phú', 'Chaudok', 'Chenchenji', 'Cheo Reo', 'Chi Lang', 'Chiayi', 'Chicago', 'Chiêm Hóa', 'Cho Do Luong', 'Cho Don', 'Cho Gao', 'Cho Lon', 'Cho Moi', 'Cho Thu Thua', 'Chon Thanh', 'Chu Lai', 'Châu Thành', 'Chí Hòa', 'Chí Linh', 'City of Vigan', 'Co Nhue', 'Coc Leu', 'Cok Ton', 'Con Cuông', 'Con Son', 'Cospicua', 'Cu Chi', 'Cu Lac', 'Cu Van', 'Cua Lo', 'Cua Ong', 'Cà Hom', 'Cà Mau', 'Cái Bè', 'Cát Bà', 'Cô Tô', 'Công Thôn', \"Da D'de\", 'Da Dang', 'Da Kao', 'Da Nang', 'Daejeon', 'Dai Loc', 'Dai Mo', 'Dai Tu', 'Dak Lack', 'Dak Mil', 'Dalat', 'Dali', 'Dallas', 'Danfeng', 'Dau Tieng', 'Dehua', 'Dhaka', 'Di An', 'Di Linh', 'Dien Ban', 'Dien Bien Phu', 'Dien Chau', 'Diên Khánh', 'Djrott', 'Dong Dang', 'Dong Ha', 'Dong Hoa', 'Dong Hoi', 'Dong Le', 'Dong Thanh', 'Dong Thap', 'Dong Xoa', 'Dong Xoai', 'Dongxing', 'Dortmund', 'Dubai', 'Duc Noi', 'Duong Hoa', 'Duong Quang', 'Duy Xuyên', 'East Tremont', 'Edinburgh', 'El Monte', 'Eumseong', 'F.A. Berra', 'Fan Thiet', 'Fanthit', 'Fort-de-France', 'Fukagawa-shi', 'Fukuoka-shi', 'Fuzhou', 'Gainesville', 'Gia Bình', 'Gia Kiem', 'Gia Lai', 'Gia Loc', 'Gia Lâm', 'Gia Nghia', 'Gia Ray', 'Giang Thành', 'Giao Thuy', 'Gifu-shi', 'Gimhae', 'Ginowan-shi', 'Gio Linh', 'Giong Rieng', 'Go Da', 'Go Dau Ha', 'Guangzhou', 'Guangzhou Shi', 'Guatemala City', 'Gwangju', 'Gò Công', 'Gò Vấp', 'Ha Coi', 'Ha Dong', 'Ha Giap', 'Ha Hoa', 'Ha Loi', 'Ha Long', \"Ha Tin'\", 'Ha Tinh', 'Ha-Nam', 'Hai Duong', 'Hai Hau', 'Hai Lang', 'Hai Ninh', 'Hai Phong', 'Hai dzung', 'Hai-Doung', 'Haiphong', 'Hakodate-shi', 'Hanoi', 'Hanover', 'Havana', 'Hdadja', 'Hien Hao', 'Hiep Hoa', 'Higashimatsuyama-shi', 'Hiroshima', 'Hnahthial', 'Ho Chi Minh City', 'Hoa An', 'Hoa Binh', 'Hoa Loi (1)', 'Hoa Mac', 'Hoai Duc Phu', 'Hoang Hoa', 'Hoanh Bo', 'Hoi An', 'Hon Gai', 'Hong Kong', 'Hong Ngu', 'Honggay', 'Hoài Nhon', 'Hoài Ân', 'Hoàn Lão', 'Hoàng Mai', 'Hoàng Su Phì', 'Hoàng Xá', 'Hsinchu', 'Hue', 'Hung Hoa', 'Hung Loc', 'Hung Yen', 'Hunter', 'Huong Ba Thuoc', 'Huong Cam Thuy', 'Huong Canh', 'Huong Cau Ngang', 'Huong Hoa', 'Huong Khe', 'Huong Lang Chanh', 'Huong Long Phu', 'Huong Ngoc Lac', 'Huong Tan Lac', 'Huong Ã?ao', 'Huu An', 'Huu Lung', 'Huyen Chau Thanh', 'Huyen Thanh Tri', 'Hà Giang', 'Hà Nhà (1)', 'Hà Tiên', 'Hà Trung', 'Hà Tây', 'Hàm Tân', 'Hàm Yên', 'Hòa An', 'Hòa Bình', 'Hòa Dinh', 'Hòa Khánh (1)', 'Hóc Môn', 'Hô Phòng', 'Ikeda-shi', 'Incheon', 'Ise-shi', 'Istanbul', 'Ithaca', 'Jakarta', 'Jeju', 'Jintang', 'Juba', 'Kadô', 'Kampong Cham', 'Kaohsiung', 'Kasongan', 'Katum', 'Ke Sat', 'Khanh Hoa', 'Kharkov', 'Khe Sanh', 'Khu Chi Lang', 'Khê Mao', 'Kien An', 'Kien Luong', 'Kikuchi-shi', 'Kim Bang', 'Kim Bôi', 'Kim Chau', 'Kim Mã', 'Kim Quan Thuong', 'Kim Son', 'Kinh Môn', 'Kiên An', 'Kiên Tân', 'Kobe-shi', 'Koga-shi', 'Kon Tum', 'Kuala Lumpur', 'Kwang Binh', 'Kwang Ngai', 'Ky Anh', 'Ky Son', 'La Rioja', 'Lac Lam', 'Lac Nghia', 'Lac Son', 'Lac Thuy', 'Lagi', 'Lagos', 'Lai Châu', 'Lai Vung', 'Laicha', 'Laizhou', 'Lang Phuoc Hai', 'Lang Son', 'Lao Bao', 'Laokai', 'Lap Thach', 'Lap Vo', 'Las Vegas', 'Le Thuy', 'Lich Hoi Thuong', 'Lien Hiep', 'Linh Xúân', 'Liverpool', 'Loc An', 'Loc Giang', 'Loc Ninh', 'London', 'Long An', 'Long Dien', 'Long Hai', 'Long Khanh', 'Long My', 'Long Phú', 'Long Thanh', 'Long Thành', 'Long Xuyên', 'Los Angeles', 'Luc Nam', 'Luc Ngan', 'Luong Son', 'Là Ngà', 'Làng Kinh', 'Lào Cai', 'Lái Thiêu', 'Lâm Thao', 'Lý Hòa', 'Mai Châu', 'Majuro', 'Manchester', 'Mang Cà', 'Manhattan', 'Mao Khe', 'Medellín', 'Melbourne', 'Meo Vac', 'Miaoli', 'Milan', 'Milano Marittima', 'Mimasaka-shi', 'Mitho', 'Mo Ã?uc', 'Moc Chau', 'Moc Hoa', 'Mokpo', 'Mong Duong', 'Montgomery', 'Moriya-shi', 'Moscow', 'Mu Cang Chai', 'Muc Son Ngoai', 'Muong Bam', 'Muong Cha', 'Muong Lay', 'Muong Te', 'My Dong', 'My Hao', 'My Tho', 'My Thuan', 'My Xuyen', 'Mytholmroyd', 'Móng Cái', 'Mũi Né', 'Na Noi', 'Na Ri', 'Naga City', 'Nagasaki', 'Nagoya-shi', 'Nam ??àn', 'Nam Can', 'Nam Giang', 'Nam Ninh', 'Nam Truc', 'Nam Định', 'Namban', 'Nanning Shi', 'Nassau', 'New City', 'New York', 'Nga Son', 'Ngai Giao', 'Ngan Son (4)', 'Nghi Loc', 'Nghi Son', 'Nghia Hanh', 'Nghia Lo', 'Nghia Ã?an', 'Ngoc Hoi', 'Ngoc Khe', 'Nguyên Bình', 'Nha Tho', 'Nha Trang', 'Nhat Chieu', 'Nho Quan', 'Nhon Trach', 'Nhà Bàng', 'Nhà Bè District', 'Nhơn Trạch', 'Ninbinh', 'Ninh Bac', 'Ninh Bình', 'Ninh Giang', 'Ninh Hoa', 'Ninh Hòa', 'Ninh Thuân', 'Nobeoka-shi', 'Nong Cong', 'Nong Son', 'Orlando', 'Osaka', 'Osakasayama-shi', 'Paklay', 'Paris', 'Perth', 'Phan Rang', 'Phan Rang- Thap Cham', 'Phan Ranh', 'Phan Ri Cua', 'Phan Rí', 'Phan Thiet', 'Phan Tiet', 'Phat Tich', 'Phi Liêng', 'Philadelphia', 'Phnom Penh', 'Pho Ba Che', 'Pho Binh Gia', 'Pho Lu', 'Pho Ninh', 'Phong Nha', 'Phong Tho', 'Phu Dien Chau', 'Phu Giao', 'Phu Lang Thong', 'Phu Lang Thuong', 'Phu Luu', 'Phu Ly', 'Phu My', 'Phu Quoc', 'Phu Thien', 'Phu Tho', 'Phu Van Ly', 'Phu Vinh', 'Phu-Kinh-Mon', 'Phu-li', 'Phuc Loc', 'Phung Hiep', 'Phuoc An', 'Phuoc Binh', 'Phuoc Buu', 'Phuoc Long', 'Phuoc Son', 'Phuoc Tinh', 'Phuong Cuu', 'Phuong Lam', 'Phô Yén', 'Phù Cát', 'Phù Yên', 'Phùng Khoang', 'Phú Bình', 'Phú Nhuận', 'Phú Quý', 'Phú Vang', 'Phú Xuyên', 'Phú Yên', 'Phúc Yên', 'Phường 9', 'Phường Hà Lầm', 'Phường Hố Nai', 'Phường Hồng Gai', 'Phường Lãm Hà', 'Phường Mai Dịch', 'Phường Ngọc Hà', 'Pingtunghsien', 'Plei Bau Can', 'Plei Dông Lâm', 'Plei Kly', 'Pleiku', 'Plây Cu', 'Plây Ku', 'Port Campha', 'Prague', 'Quan Dak To', 'Quan Hóa', 'Quan Nam', 'Quan Nhan', 'Quang Lam', 'Quang Linh', 'Quang Nam', 'Quang Ngai', 'Quang Ninh', 'Quang Trach', 'Quang Tri', 'Quang Yen', 'Quat Lam', 'Que Phong', 'Que Son', 'Qui Nhon', 'Quy Chau', 'Quy Hop', 'Quy Nhon', 'Quynh Coi', 'Quynh Di', 'Quynh Luu', 'Quynh Nhai', 'Quận 11', 'Quận 4', 'Quận 8', 'Quận Tân Phú', 'Rach Gia', 'Rach Soi', 'Raleigh', 'Ras al-Khaimah', 'Roon', 'Rowlett', 'Sa Lung', 'Sa Pa', 'Sa Đéc', 'Sabae-shi', 'Sai', 'Sam Son', 'San Diego', 'San Francisco', 'San Jose', 'Santa Barbara', 'Sapareva Banya', 'Sasebo-shi', 'Seattle', 'Seoul', 'Shanghai', 'Shibukawa-shi', 'Shimonoseki-shi', 'Shinjuku-ku', 'Singapore', 'Soc Son', 'Soc Trang', 'Son', 'Son Duong', 'Son La', 'Son La Chau', 'Son Tay', 'Son Tinh', 'Song Cau', 'Songkau', 'Sop Cop', 'Suoi Da', 'Suoi Day', 'Suong', 'Surin', 'Sydney', 'Sài Gòn', 'Sông Mã', 'Tachikawa', 'Tai nin', 'Taichung', 'Tailaokeng', 'Taipei', 'Tam Ky', 'Tam My (2)', 'Tam Quan', 'Tam Sóc', 'Tam Ã?iep', 'Tam Đảo', 'Tan Hoi', 'Tan Hop Xa', 'Tan Ky', 'Tan Lac Ly', 'Tan Phuoc', 'Tan Son Nhi', 'Tan Tru', 'Taoyüan', 'Tay Ho', 'Te Le', 'Tha Sung', 'Thac Tri An', 'Thai Binh', 'Thai Thuy', 'Than Uyên', 'Thang Binh', 'Thanh Ba', 'Thanh Binh (1)', 'Thanh Bình', 'Thanh Chuong', 'Thanh Hoa', 'Thanh Hóa', 'Thanh Liêm', 'Thanh Oai', 'Thanh Phong', 'Thanh Son', 'Thanh Thuy', 'Thanh Vân', 'Thanâ\\x80? Hoa', 'Thap Muoi', 'That Khe', 'Thinh Liet', 'Tho Tang', 'Tho Xuan', 'Thon Nhu Ngoc', 'Thon Tu Thien', 'Thot Not', 'Thu Dau Mot', 'Thuan Chau', 'Thuan Thanh', 'Thuong', 'Thành Phố Cần Thơ', 'Thành Phố Hồ Chí Minh', 'Thái Bình', 'Thái Hòa', 'Thái Hõa', 'Thái Nguyên', 'Thôn Cam Ranh', 'Thị Trấn Ba Hàng', 'Thị Trấn Bần Yên Nhân', 'Thủ Đức District', 'Tien Hai', 'Tien Yer', 'Tieu Can', 'Tinh', 'Tinh Bien', 'Tinh Kontum', 'Tinh Pleiku', 'Tiên La', 'Tiên Yên', 'Tonami-shi', 'Toshima', 'Tra Son', 'Tra Tan', 'Tra Vinâ\\x80?', 'Trang Bach', 'Trang Bang', 'Trang Bom', 'Tri Tôn', 'Trieu Khuc', 'Trieu Phong', 'Trung Hòa', 'Trung Khanh Phu', 'Trà Cú', 'Trà My', 'Trà Vinh', 'Trà Ôn', 'Tu Son', 'Tuan Giao', 'Tung Nghia', 'Tuong Duong', 'Tuy An', 'Tuy Hoa', 'Tuy Hòa', 'Tuy Phong', 'Tuy Phuoc', 'Tuyên Hóa', 'Tuyên Quang', 'Tánh Linh', 'Tân An', 'Tân Châu', 'Tân Kiên', 'Tân Phú', 'Tân Uyên', 'Tây Hòa', 'Tây Ninh', 'Từ Sơn', 'Ufa', 'Ung Hoa', 'Uông Bí', 'Van Ninh', 'Van Tri', 'Van Yen', 'Van Ã?ien', 'Verona', 'Vi Thanh', 'Vi Thuy', 'Vieh Yen', 'Vieng-Chan', 'Vientiane', 'Viet Tri', 'Viet Yen', 'Vietri', 'Vin', 'Vinh', 'Vinh An', 'Vinh Ang', 'Vinh Bao', 'Vinh Chau', 'Vinh Cuu', 'Vinh Hoa', 'Vinh Hung', 'Vinh Kim', 'Vinh Linh', 'Vinh Loc', 'Vinh Loc A', 'Vinh Loi', 'Vinh Loi (1)', 'Vinh Long', 'Vinh Phong', 'Vinh Phuc (1)', 'Vinh Thuan (1)', 'Vinh Tuong', 'Vinh Yen', 'Vo Dat', 'Vo Hoi', 'Vo Ngai', 'Vu Ban', 'Vung Tau', 'Vàng Danh', 'Võ Xu', 'Vĩnh Phúc', 'Wako-shi', 'Warren', 'Warsaw', 'Washington D.C.', 'West Melbourne', 'Westchester Square', 'Winnipeg', 'Wonju', 'Xa Dau Giay', 'Xa Hung Loc', 'Xa Long Son (1)', 'Xa Minh Thanh', 'Xa Phan Thiet', 'Xa Phuong Lam', 'Xa Song Luy', 'Xa Tho Thanh', 'Xa Vinh Hoa', 'Xa Vung Tau', 'Xinbei', 'Xom Ba Trai', 'Xom Gia Rai', 'Xuan Loc', 'Xuan Truong', 'Xuan Tu', 'Xuyen Moc', 'Xuân Hòa', 'Xuân Mai', 'Xã Bình Nhâm', 'Xã Bình Triều', 'Xã Mễ Trì', 'Xã Mỹ Hạnh Nam', 'Xã Phù Ninh', 'Xã Thanh Liệt', 'Xóm ??ôi Chuong', 'Xóm Cây Da', 'Xóm Cây Gia', 'Xóm Pho', 'Yangsan', 'Yen', 'Yen Dinh', 'Yen Lac', 'Yen Lap', 'Yongin', 'Yên Bái', 'Yên Bình', 'Yên Bình Xã', 'Yên Cát', 'Yên Lac', 'Yên Phong', 'Yên Phú', 'Yên Thành', 'Zhanjiang', 'Ã?a Nang', 'Ô Môn', 'Đà Lạt']\n",
      "876\n",
      "######################################################################################################\n",
      "['??ó Nhât', 'A Luoi (1)', 'Amphoe Muang Chon Buri', 'An Biên', 'An Dương District', 'An Giang (4)', 'An Hoa', 'An Khê', 'An Nhon', 'An Thi', 'Angiang', 'Angola', 'Anh Son', 'Ap An Phu (2)', 'Ap Binh Duong (1)', 'Ap Binh Ta (2)', 'Ap Chanh (4)', 'Ap Gia Loc', 'Ap Go Dau', 'Ap Lac Lam', 'Ap My Th', 'Ap Phu Ly (2)', 'Ap Suoi Cat', 'Ap Tan Hoa', 'Asaka-shi', 'Auckland', 'Australia Plains', \"B'Sar Dong\", 'Ba Don', 'Ba Ria', 'Ba Vì', 'Bac Binh', 'Bac Can', 'Bac Giang', 'Bac Kan', 'Bac Lieu', 'Bac Ninh', 'Bac Quang', 'Bac Son', 'Bach Lieu', 'Bach Ma', 'Bai Thuong', 'Ban Ea Phe', \"Ban M'drack\", 'Ban Me Thuot', 'Ban Nam Ca Dinh', 'Bangkok', 'Bao Loc', 'Bao Yen', 'Bavet', 'Ben', 'Ben Cat', 'Ben Luc', 'Ben Tre', 'Benguela', 'Bhubaneswar', 'Bim Son', 'Binh Dinh', 'Binh Duong', 'Binh Long', 'Binh Luc', 'Binh Phuoc', 'Binh Son', 'Binh Thanh', 'Biên Hòa', 'Bo Trach', 'Bon Bu Bo Dak Nong', 'Bon Yok Djou', 'Boston', 'Buon Ma Thuot', 'Buon Me Thuot', 'Buon Trap', 'Buôn Hô', 'Buôn Hô (1)', 'Buôn Hô (2)', 'Buôn Nui', 'Bát Trang', 'Bãi Cháy', 'Bình Chánh', 'Bình Gia', 'Bình Long', 'Bích Trì', 'Caen', 'Cai Lay', 'Cai Rong', 'Cai Tau Ha', 'California City', 'Cam Khe', 'Cam Lâm', 'Cam My', 'Cam Pha', 'Cam Pha Mines', 'Cam Pha Port', 'Cam Ranh', 'Cam Ranh Port', 'Cam Thuy', 'Camo', 'Can Duoc', 'Can Gio', 'Can Loc', 'Can Thanh', 'Can Tho', 'Cao Bang', 'Cao Lãnh', 'Carson City', 'Catumbella', 'Cau Ngang', 'Chaozhou', 'Chau Phu', 'Chau Phú', 'Chaudok', 'Cho Do Luong', 'Cho Gao', 'Cho Lach', 'Cho Moi', 'Chon Thanh', 'Chu Lai', 'Châu Thành', 'Con Cuông', 'Cu Chi', 'Cua Lo', 'Cua Tung', 'Cà Mau', 'Cái Bè', 'Cô Tô', 'Da Dang', 'Da Nang', 'Daegu', 'Dai Loc', 'Dak Mil', 'Dalat', 'Dallas', 'Dalton', 'Dau Tieng', 'Di An', 'Di Linh', 'Dien Ban', 'Dien Bien Phu', 'Dien Chau', 'Diên Khánh', 'Do Hai', 'Don Dang', 'Dong Ha', 'Dong Hoi', 'Dong Huong', 'Dong Thap', 'Dong Xoai', 'Dubail', 'Duclair', 'Duy Xuyên', 'Fukaya-shi', 'Fukuoka-shi', 'Funabashi-shi', 'Gia Kiem', 'Gia Lai', 'Gia Loc', 'Gia Lâm', 'Gia Nghia', 'Giang Thon', 'Giao Thuy', 'Gio Linh', 'Giong Rieng', 'Go Dau Ha', 'Grayson', 'Guangzhou', 'Gò Công', 'Gò Vấp', 'Ha Coi', 'Ha Dong', 'Ha Hoa', 'Ha Loi', 'Ha Long', \"Ha Tin'\", 'Ha Tinh', 'Ha Vi', 'Ha-Nam', 'Hai Duong', 'Hai Hau', 'Hai Phong', 'Hai dzung', 'Haidöng', 'Haiphong', 'Hanoi', 'Hau Loc', 'Himeji-shi', 'Ho Chi Minh City', 'Hoa Binh', 'Hoa Dong', 'Hoa Loc', 'Hoai Duc Phu', 'Hoang Hoa', 'Hoi An', 'Hon Gai', 'Hong Ngu', 'Houston', 'Hoài Nhon', 'Hoài Ân', 'Hsinchu', 'Hue', 'Hung Long', 'Hung Yen', 'Huong Ba Thuoc', 'Huong Canh', 'Huong Hoa', 'Huong Khe', 'Huong Lang Chanh', 'Huong Tan Lac', 'Huong Tra', 'Huu An', 'Huu Lung', 'Huyen Thanh Tri', 'Hà Giang', 'Hà Tiên', 'Hà Tây', 'Hàm Tân', 'Hàm Yên', 'Hòa Bình', 'Hòa Dinh', 'Hóc Môn', 'Janpan', 'Kampong Cham', 'Katum', 'Ke Sat', 'Khanh Hoa', 'Khê Mao', 'Kien Luong', 'Kim Bang', 'Kim Mã', 'Kim Son', 'Kirow', 'Kobe-shi', 'Komaki-shi', 'Kon Tum', 'Korea', 'Kuala Lumpur', 'Kwang Ngai', 'Ky Anh', 'Ky Son', 'Lac Son', 'Lac Thuy', 'Lagi', 'Lai Châu', 'Lai Vung', 'Lak', 'Lang Que Nho', 'Lang Son', 'Lao Bao', 'Laokai', 'Lap Thach', 'Lap Vo', 'Las Vegas', 'Le Thuy', 'Liangping', 'Linh Xuân', 'Liên Chiểu', 'Loc Binh', 'Local', 'London', 'Long An', 'Long Dien', 'Long Hai', 'Long Khanh', 'Long My', 'Long Thanh', 'Long Thành', 'Long Xuyên', 'Luc Nam', 'Luc Ngan', 'Luc Yen', 'Luong Son', 'Là Ngà', 'Lào Cai', 'Lái Thiêu', 'Lâm Thao', 'Lý Hòa', 'Macau', 'Madagui', 'Mai Châu', 'Manchester', 'Manila', 'Mao Khe', 'Marseille', 'Mau Lam', 'Moc Chau', 'Moc Hoa', 'Mokpo', 'Moscow', 'Mu Cang Chai', 'Muong Lay', 'My Hao', 'My Hoi', 'My Thanh', 'My Tho', 'Mâ\\x80?kar Da Te', 'Móng Cái', 'Na Hang', 'Na Noi', 'Nagano-shi', 'Nagoya-shi', 'Nam ??àn', 'Nam Can', 'Nam Truc', 'Nam Định', 'Nerima-ku', 'New York', 'Ngai Giao', 'Nganan', 'Nghi Loc', 'Nghi Son', 'Nghia Hung', 'Nghia Lo', 'Nha Long', 'Nha Trang', 'Nho Quan', 'Nhà Bàng', 'Nhà Bè District', 'Nhân Son (1)', 'Nhơn Trạch', 'Ninbinh', 'Ninh Bình', 'Ninh Hòa', 'Nong Cong', 'Nong Son', 'Omihachiman-shi', 'Osaka', 'Oslo', 'Pac Nam', 'Pathum Thani', 'Pha Le', 'Phan Rang', 'Phan Rang- Thap Cham', 'Phan Ranh', 'Phan Ri Cua', 'Phan Thiet', 'Phi Liêng', 'Phnom Penh', 'Pho Ba Che', 'Pho Ben Sung', 'Pho Binh Gia', 'Phoenix', 'Phu Dien Chau', 'Phu Giáo', 'Phu Hoa', 'Phu Huu', 'Phu Lang Thong', 'Phu Ly', 'Phu My', 'Phu My (1)', 'Phu Ninh', 'Phu Quoc', 'Phu Tho', 'Phu Thu', 'Phu Van Ly', 'Phung Hiep', 'Phuoc Binh', 'Phuoc Lai', 'Phuoc Son', 'Phô Yén', 'Phù Cát', 'Phù Yên', 'Phú Nhuận', 'Phú Phong', 'Phú Quý', 'Phú Túc', 'Phú Xuyên', 'Phúc Yên', 'Phường Hà Lầm', 'Phường Lãm Hà', 'Phường Tân Tạo A', 'Pingtang', 'Pleiku', 'Port Campha', 'Prague', 'Quan Ba', 'Quang Nam', 'Quang Ngai', 'Quang Ninh', 'Quang Tri', 'Quang Yen', 'Qui Nhon', 'Quy Hop', 'Quy Nhon', 'Quynh Luu', 'Quận Tân Phú', 'Quỳnh Lôi', 'Rach Gia', 'Rach Soi', 'Sa Pa', 'Sa Đéc', 'San Francisco', 'San Jose', 'Santo Domingo', 'Seoul', 'Singapore', 'Soc Son', 'Soc Trang', 'Son La', 'Son La Chau', 'Son Tay', 'Song Cau', 'Songkau', 'Sydney', 'Sài Gòn', 'Taipei', 'Tam Ky', 'Tam Đảo', 'Tan Binh', 'Tan Hiep', 'Tan Ky', 'Taoyüan', 'Tay Dang', 'Tay Ho', 'Teurlang Dong', 'Thach Thanh', 'Thai Binh', 'Than Uyên', 'Thanh Ba', 'Thanh Bình', 'Thanh Chuong', 'Thanh Hóa', 'Thanh Khê', 'Thanh Oai', 'Thanh Son', 'Thanh-Nhan', 'Thap Muoi', 'Thien Giao', 'Thieu Hoa', 'Tho Tang', 'Thot Not', 'Thu Dau Mot', 'Thuan Chau', 'Thuan Thanh', 'Thuong', 'Thuy Khue', 'Thác Bà', 'Thái Bình', 'Thái Hõa', 'Thái Nguyên', 'Thânh Liêm', 'Thủ Đức District', 'Tinh Bien', 'Tinh Pleiku', 'Trang Bom', 'Tri Tôn', 'Trung Khanh Phu', 'Trà My', 'Trà Vinh', 'Tràm Chim', 'Tu Ly', 'Tu Son', 'Tu Ã?oan', 'Tung Nghia', 'Tuong Duong', 'Tuy An', 'Tuy Hòa', 'Tuy Phong', 'Tuy Phuoc', 'Tuyên Quang', 'Tân An', 'Tân Châu', 'Tân Phú', 'Tân Quang', 'Tân Thành', 'Tân Thới Hiệp', 'Tân Uyên', 'Tây Hòa', 'Tây Ninh', 'Từ Sơn', 'Ufa', 'Ulsan', 'Ung Hoa', 'Uông Bí', 'Van Hoi', 'Van Ninh', 'Vi Thanh', 'Vientiane', 'Viet Tri', 'Vietri', 'Vin', 'Vinh', 'Vinh Bao', 'Vinh Chau', 'Vinh Cuu', 'Vinh Linh', 'Vinh Long', 'Vinh Tu', 'Vinh Yen', 'Vladivostok', 'Vo Ngai', 'Vu Quang', 'Vung Liem', 'Vung Tau', 'Vân Canh (1)', 'Vĩnh Lộc', 'Vĩnh Phúc', 'Wuhan', 'Xa Phan Thiet', 'Xa Vung Tau', 'Xuan Dinh', 'Xuan Loc', 'Xuan Truong', 'Xuyen Moc', 'Xuân Canh', 'Xuân Hòa', 'Xã Bình Nhâm', 'Xã Gia Kiêm', 'Xóm Chu Chi', 'Yen', 'Yen Dinh', 'Yen Lap', 'Yokohama', 'Yên Bài', 'Yên Bái', 'Yên Thành', 'Ã?ong Trieu', 'Ô Môn', 'Úc Lý', 'Đà Lạt']\n",
      "518\n",
      "######################################################################################################\n",
      "['??ó Nhât', 'Amphoe Muang Chon Buri', 'An Hoa', 'Angola', 'Ap An Phu (2)', 'Ap Binh Ta (2)', 'Ap Chanh (4)', 'Ap Gia Loc', 'Ap Go Dau', 'Ap Lac Lam', 'Ap My Th', 'Ap Phu Ly (2)', 'Ap Suoi Cat', 'Ap Tan Hoa', 'Asaka-shi', 'Auckland', 'Australia Plains', 'Bach Lieu', 'Ban Ea Phe', 'Ban Nam Ca Dinh', 'Bavet', 'Bhubaneswar', 'Bo Trach', 'Bon Yok Djou', 'Boston', 'Buôn Hô (2)', 'Bình Gia', 'Bích Trì', 'Caen', 'Cam Pha Mines', 'Cam Thuy', 'Can Gio', 'Can Loc', 'Can Thanh', 'Carson City', 'Catumbella', 'Cau Ngang', 'Chaozhou', 'Chau Phu', 'Cho Lach', 'Cua Tung', 'Daegu', 'Dalton', 'Do Hai', 'Don Dang', 'Dong Huong', 'Dubail', 'Duclair', 'Fukaya-shi', 'Funabashi-shi', 'Giang Thon', 'Grayson', 'Ha Vi', 'Haidöng', 'Hau Loc', 'Himeji-shi', 'Hoa Dong', 'Hoa Loc', 'Houston', 'Hung Long', 'Huong Tra', 'Janpan', 'Kirow', 'Komaki-shi', 'Korea', 'Lak', 'Lang Que Nho', 'Liangping', 'Linh Xuân', 'Liên Chiểu', 'Loc Binh', 'Local', 'Luc Yen', 'Macau', 'Madagui', 'Manila', 'Marseille', 'Mau Lam', 'My Hoi', 'My Thanh', 'Mâ\\x80?kar Da Te', 'Na Hang', 'Nagano-shi', 'Nerima-ku', 'Nganan', 'Nghia Hung', 'Nha Long', 'Nhân Son (1)', 'Omihachiman-shi', 'Oslo', 'Pac Nam', 'Pathum Thani', 'Pha Le', 'Pho Ben Sung', 'Phoenix', 'Phu Giáo', 'Phu Hoa', 'Phu Huu', 'Phu My (1)', 'Phu Ninh', 'Phu Thu', 'Phuoc Lai', 'Phú Phong', 'Phú Túc', 'Phường Tân Tạo A', 'Pingtang', 'Quan Ba', 'Quỳnh Lôi', 'Santo Domingo', 'Tan Binh', 'Tan Hiep', 'Tay Dang', 'Teurlang Dong', 'Thach Thanh', 'Thanh Khê', 'Thanh-Nhan', 'Thien Giao', 'Thieu Hoa', 'Thuy Khue', 'Thác Bà', 'Thânh Liêm', 'Tràm Chim', 'Tu Ly', 'Tu Ã?oan', 'Tân Quang', 'Tân Thành', 'Tân Thới Hiệp', 'Ulsan', 'Van Hoi', 'Vinh Tu', 'Vladivostok', 'Vu Quang', 'Vung Liem', 'Vân Canh (1)', 'Vĩnh Lộc', 'Wuhan', 'Xuan Dinh', 'Xuân Canh', 'Xã Gia Kiêm', 'Xóm Chu Chi', 'Yokohama', 'Yên Bài', 'Ã?ong Trieu', 'Úc Lý']\n",
      "144\n"
     ]
    }
   ],
   "source": [
    "\n",
    "f =  \"currentLocationCity\"\n",
    "vc1 = sorted(df_train[f].value_counts().index)\n",
    "print(vc1)\n",
    "print(len(vc1))\n",
    "print(\"######################################################################################################\")\n",
    "vc2 = sorted(df_test[f].value_counts().index)\n",
    "print(vc2)\n",
    "print(len(vc2))\n",
    "a = []\n",
    "for i in vc2:\n",
    "    if i not in vc1:\n",
    "        a.append(i)\n",
    "print(\"######################################################################################################\")\n",
    "print(a)\n",
    "\n",
    "\n",
    "print(len(a))\n",
    "\n"
   ]
  },
  {
   "cell_type": "code",
   "execution_count": 7,
   "metadata": {
    "ExecuteTime": {
     "end_time": "2020-07-31T04:25:35.393800Z",
     "start_time": "2020-07-31T04:25:35.325288Z"
    }
   },
   "outputs": [],
   "source": [
    "data_type = {\n",
    "    \"cat_num\":[\"Field_22\",\"Field_13\", \"Field_41\", \"Field_42\",\"Field_50\", \"Field_51\", \"Field_53\",\\\n",
    "               \"Field_73\",  \"partner0_A\", \"partner0_B\", \"partner0_C\", \"partner0_D\", \"partner0_E\",\\\n",
    "               \"partner0_F\", \"partner0_G\", \"partner0_H\", \"partner1_A\", \"partner1_C\", \"partner1_G\", \"partner1_H\",\\\n",
    "               \"partner2_A\", \"partner2_C\", \"partner2_D\", \"partner2_F\", \"partner2_H\",\"partner3_A\", \"partner3_D\",\\\n",
    "               \"partner3_E\", \"partner4_L\", \"partner5_A\", \"partner5_D\", \"partner5_G\", \"Field_3\", \"Field_38\"],\n",
    "    \n",
    "    \"cat_str\" : [\"Field_4\", \"Field_12\",\"Field_36\", \"Field_54\", \"Field_62\",\"Field_65\",\"Field_66\",\\\n",
    "                 \"info_social_sex\", \"brief\", \"gioiTinh\",\"currentLocationState\", \"Field_61\", \\\n",
    "                 \"currentLocationCountry\", 'homeTownState', 'data.basic_info.locale',\\\n",
    "                \"homeTownCountry\", \"Field_55\", \"currentLocationCity\"], \n",
    "    \n",
    "    \"date\" : [\"Field_1\", \"Field_2\", \"Field_5\", \"Field_6\", \"Field_7\", \"Field_8\", \"Field_9\", \"Field_11\",\\\n",
    "             \"Field_15\", \"Field_25\", \"Field_32\", \"Field_33\", \"Field_35\", \"Field_40\",\"Field_43\", \"Field_44\", \\\n",
    "              \"F_startDate\", \"F_endDate\", \"E_startDate\", \"E_endDate\", \"C_startDate\",\n",
    "             \"C_endDate\", \"G_startDate\", \"G_endDate\", \"A_startDate\", \"A_endDate\", \"ngaySinh\", \"Field_34\"],\n",
    "    \n",
    "    \"address\" : [\"Field_48\", \"Field_49\", \"Field_56\", 'homeTownName',\\\n",
    "                 \"homeTownCity\", \"diaChi\", \"currentLocationName\"],\n",
    "    \n",
    "    \"drop\" : [\"Field_18\", \"Field_45\", \"Field_68\", \"Field_46\"]\n",
    "}"
   ]
  },
  {
   "cell_type": "markdown",
   "metadata": {},
   "source": [
    "consider transform: \"brief\" \\\n",
    "consider drop: \"Field_56\", \"maCv\"\n"
   ]
  },
  {
   "cell_type": "code",
   "execution_count": 8,
   "metadata": {
    "ExecuteTime": {
     "end_time": "2020-07-31T04:25:35.691398Z",
     "start_time": "2020-07-31T04:25:35.397492Z"
    }
   },
   "outputs": [],
   "source": [
    "df_transform = df_transform.drop(data_type[\"drop\"], axis = 1)\n",
    "df_transform = df_transform.drop(data_type[\"address\"], axis = 1)"
   ]
  },
  {
   "cell_type": "code",
   "execution_count": 9,
   "metadata": {
    "ExecuteTime": {
     "end_time": "2020-07-31T04:25:35.696253Z",
     "start_time": "2020-07-31T04:25:35.693113Z"
    },
    "code_folding": [
     0
    ]
   },
   "outputs": [],
   "source": [
    "def fix38(x):\n",
    "    if x == 0.0 or x == \"0\" or x == \"0.0\":\n",
    "        return 0\n",
    "    elif x == 1.0 or x == \"1\":\n",
    "        return 1\n",
    "    return np.nan"
   ]
  },
  {
   "cell_type": "code",
   "execution_count": 10,
   "metadata": {
    "ExecuteTime": {
     "end_time": "2020-07-31T04:25:35.777179Z",
     "start_time": "2020-07-31T04:25:35.697487Z"
    },
    "code_folding": [
     0
    ]
   },
   "outputs": [],
   "source": [
    "def fix54(x):\n",
    "    if x == \"1\" or x == \"01\" or x == ' P. Tân Phú':\n",
    "        return \"VN\"\n",
    "    elif x in ['IT', 'GB', 'SE', 'TK', 'BD']:\n",
    "        return np.nan\n",
    "    return x"
   ]
  },
  {
   "cell_type": "code",
   "execution_count": 11,
   "metadata": {
    "ExecuteTime": {
     "end_time": "2020-07-31T04:25:35.851491Z",
     "start_time": "2020-07-31T04:25:35.780105Z"
    },
    "code_folding": [
     0
    ]
   },
   "outputs": [],
   "source": [
    "def fix55(x):\n",
    "    if x in ['BC', 'BG', 'CN', 'CO', 'DB', 'EL', 'FO', 'H5', 'KX', 'N7', 'NR', 'SD', 'SJ', 'ST', 'WD']:\n",
    "        return np.nan\n",
    "    return x"
   ]
  },
  {
   "cell_type": "code",
   "execution_count": 12,
   "metadata": {
    "ExecuteTime": {
     "end_time": "2020-07-31T04:25:35.983148Z",
     "start_time": "2020-07-31T04:25:35.853435Z"
    },
    "code_folding": [
     0
    ]
   },
   "outputs": [],
   "source": [
    "def fix61(x):\n",
    "    if x == 'Chất độc hóa học':\n",
    "        return np.nan\n",
    "    return x"
   ]
  },
  {
   "cell_type": "code",
   "execution_count": 13,
   "metadata": {
    "ExecuteTime": {
     "end_time": "2020-07-31T04:25:36.201196Z",
     "start_time": "2020-07-31T04:25:35.986261Z"
    },
    "code_folding": [
     0
    ]
   },
   "outputs": [],
   "source": [
    "def fixmaCv(x):\n",
    "    lower = str(x).lower()\n",
    "    if any([x in lower for x in [\"nhân viên\", \"kế toán\", \"thủ kho\", \"tạp vụ\",\\\n",
    "                                \"thu ngân\", \"phóng viên\", \"giao dịch\", \"operator\", \"cnv\",\\\n",
    "                                \"huấn luyện viên\", \"ktoán\", \"nv\", \"lễ tân\", \"thư ký \",\\\n",
    "                                \"gsbh\", \"tiếp viên\", \"nhõn viờn\", \"chăm sóc\", \"hướng dẫn viên\", \\\n",
    "                                \"kiểm phẩm\",  \"kĩ sư\",  \"cấp dưỡng\", \"kiểm gấp\",\\\n",
    "                                \"kiểm soát viên\", \"kiểm ngân\", \"nv\", \"lưu hóa\", \"nhân  viên\", \"lưu trữ viên\", \\\n",
    "                                \"phát hành báo\", \"ktv\", \"kiến trúc sư\", \"kinh tế viên\", \"staff\", \"checker\",\\\n",
    "                                \"sỹ quan\", \"dịch vụ\", \"kiểm tra viên\", \\\n",
    "                                \"cộng tác viên\", \"qc ksqt\", \"nhân vên\", \"kế hoạch sản xuất\", \"nhaõn vieõn\", \\\n",
    "                                \"thí nghiệm\", \"thông kê\", \"kiểm hàng\", \"k? s?\", \"thư ký\", \"hợp đồng\", \\\n",
    "                                \"thẩm phán\", \"thao tác viên\", \"thủ quỹ\", \"lấy mẫu\", \"LÁI XE\".lower(), \\\n",
    "                                \"biên tập\", \"ksxd\", \"phiên dịch\", \"tb tuyên huấn\", \"sales\", \"thường trực\", \\\n",
    "                                \"trợ lý\", \"tiếp thực\", \"giỏm sỏt\", \\\n",
    "                                \"trình dược viên\", \"btđtn\", \"phúng viờn\", \\\n",
    "                                \"thông dịch\", \"tiếp thị\", \"tư vấn\", \"tổng đài\", \"vi tính\", \"viên chức\", \\\n",
    "                                \"văn phòng\", \"văn thư\", 'Thiết Kế'.lower(), \"vận hành\", \"nhan vien\", \\\n",
    "                                \"kiểm tra chất lượng\", \"pbt\", \"phi công\", \"laptop\",\\\n",
    "                                \"phụ trách kiểm hàng\", \"quay phim\", \"thư viện viên\", \\\n",
    "                                \"trực buồng\", \"techcombank\", \"cảng vụ viên\", \"trainee\", \"bhxh\", \"marketing\", \\\n",
    "                                \"tuyên truyền viên\",  \"kế hoạch\", \"ks\", \\\n",
    "                                \"an toàn viên\", \"CHỈ SỐ VIÊN\".lower(), \\\n",
    "                                \"thu mua\", \"giám éịnh viên\", \"kiểm định viên\",  \"giám định\", \\\n",
    "                                \"quản trị mạng\", \"thơợ\", \"thống kê\", \"thủ  quỹ\",  \\\n",
    "                                \"điện thoại\", \"điện thọai\", \"đội thông tin\", \"đón  tiếp khách hàng\", \\\n",
    "                                \"đơn hàng\", \"đại diện\", \"điều phối viên\", \"n.v\", \"bán vé\", \"c«ng nh©n\", \\\n",
    "                                \"gs camera\",  \"máy dán\", \"tv\",  \"đồ họa\"]]):\n",
    "        return \"NV\"\n",
    "    elif any([x in lower for x in [\"kỹ\",\"chuyên viên\",\"kĩ thuật viên\",\"kĩ thuật\", \"kỹ thuật viên\",\\\n",
    "                                 \"kỷ thuật viên\",\"lập trình viên\", \"chuyờn viờn\", \"chuyªn viªn\",]]):\n",
    "        return \"KTV\"\n",
    "    elif any([x in lower for x in [\"cán bộ\", \"cán sự\", \"bí thư đoàn\", \"cb\", \"phường đội\", \"trưởng công an\", \\\n",
    "                                  \"công an viên\", \"an ninh viên\",\"tổ viên\", \"công chức\", \"quản sinh\", \\\n",
    "                                   \"bí thư xã  đoàn\",\"điều tra viên\", \"đăng kiểm\", \"cỏn bộ\",\"đtv\", \"trực ban\",\\\n",
    "                                  ]]):\n",
    "        return \"CB\"\n",
    "    elif any([x in lower for x in [\"tổ trưởng\", \"giám sát\", \"quản lý\", \"cửa hàng trưởng\", \"chuyền trưởng\", \"kho\",\\\n",
    "                                  \"phó\", \"pp\", \"nhóm trưởng\", \"trưởng phòng\", \"trưởng ca\", \"trưởng tàu khách\", \\\n",
    "                                  \"trưởng nhóm\", \"cửa hàng trưởng\", \"trưởng bộ\", \"tổng phụ trách\", \"đào tạo\", \\\n",
    "                                  \"phụ trách phòng\", \"quản doanh\", \"vhtt\", \"trưởng ban\", \"dự án\", \"nhân sự\",\\\n",
    "                                  \"chỉ huy\", \"triển khai\", \"trưởng kiểm soát\", \"điều hành\", \"đội trưởng\", \\\n",
    "                                  \"chỉ huy\", \"qlsx\", \"t? tr??ng\", \"may\"]]):\n",
    "        return \"QL\"\n",
    "    elif any([x in lower for x in [\"công\",  \"bảo vệ\", \"thợ\", \"lao động\", \"bán hàng\",\\\n",
    "                                \"phụ kho\", \"phụ việc\", \"phết\", \"bảo mẫu\", \"phục vụ\", \"đóng gói\", \"ép cao tần\", \\\n",
    "                                \"cn\", \"sản Phẩm\", \"giao nhận\",\"cụng nhõn\", \"gia công\", \"kiÓm tra\".lower(), \\\n",
    "                                \"cô nuôi\", \"bảo dưỡng\", \"c.n\", \"coi bồn\", \"cạo mủ\", \"coõng nhaõn\", \"khai thác\",\\\n",
    "                                \"cod\", \"bốc xếp\", \"bếp\", \"lái máy\", \"lđpt\", \"khuôn\", \"hàng rong\", \"phụ bếp\",\\\n",
    "                                \"phụ tá\", \"thủ công\", \"dệt\", \"sửa chữa\", \"băng chuyền\", \"lắp ráp\", \\\n",
    "                                \"chà nhám\", \"cn\", \"bếp phụ\", \"chụp hình\", \"KHUNG SắT\".lower(), \"kcs chuyền\", \\\n",
    "                                \"lao động\", \"thành hình\", \"lao công\", \"cônh nhân\", \"thi công\", \"cán lần 1\", \\\n",
    "                                \"lái phụ máy\", \"thủy thủ\", \"gác ghi\", \"quay ghi\", \"bảo trì\", \"bảo mẩu\", \\\n",
    "                                \"máy 3 tàu\", \"giao hàng\", \"trực chính\", \"hỗ trợ\", \"lái xúc gạt\", \"công  nhân\",\\\n",
    "                                \"lđhđ\", \"lao d?ng\", \"c. nhân\", \"pv nước\", \"hđlđ\", \"vệ sinh\", \"phụ\", \"vệ sỹ\", \\\n",
    "                                \"xếp hộp\", \"barista\", \"hàn điện\", \"thuỷ thủ\", \"xây dựng\", \"b?o v?\", \\\n",
    "                                \"mài phá\", \"xếp da\", \"worker\", \"cong nhan\", \"pha chế\", \\\n",
    "                                \"máy trưởng\", \"phụ trách sản xuất\", \"trải vải\", \"YếN TIệC\".lower(), \"gấp xếp\", \\\n",
    "                                \"in sơ đồ\", \"lđ phổ thông\", \"mài\", \"nhồi mút\", \"ép\", \"gói\", \"đóng\", \\\n",
    "                                \"đội viên\", \"đánh máy\", \"đứng máy\", \"ủi\", \"săm\", 'atlđ']]):\n",
    "        return \"CN\"\n",
    "    elif any([x in lower for x in [\"lái xe\", \"tài xế\", \"phụ xe\",\"lái cẩu\", \"vân hành\", ]]):\n",
    "        return \"TX\"\n",
    "    elif any([x in lower for x in [\"giáo viên\", \"gv\", \"giảng viên\", \"chủ nhiệm lớp\", \"giáo viến\", \\\n",
    "                                   \"Giáo viến\".lower(), \"mầm non\"]]):\n",
    "        return \"GV\"\n",
    "    elif any([x in lower for x in [\"kinh doanh\", \"kinh  doanh\"]]):\n",
    "        return \"KD\"\n",
    "\n",
    "    elif any([x in lower for x in [\"hiệu trưởng\", \"chủ tịch\", \"pgđ\", \"giám đốc\"]]):\n",
    "        return \"GĐ\"\n",
    "    elif any([x in lower for x in [\"điều dưỡng\", \"hộ lý\", \"nữ hộ sinh\", \"h? lý\", \"hộ sinh\"]]):\n",
    "        return \"ĐD\"\n",
    "    elif any([x in lower for x in [\"y sĩ\", \"dược sỹ\", \"bác sĩ\", \"bác sỹ\", \"dược\", \"dược tá\", \"thú y\", \"y sỹ\",\\\n",
    "                                  \"y tế\", \"y công\", \"y tá\", \"dựơc tá\", \"ytth\"]]):\n",
    "        return \"BS\"\n",
    "    elif any([x in lower for x in [\"cử nhân\", \"cđ\", \"học viên\", \"tc\", \"cao đẳng\", \"cao đẵng\", \"trung cấp\"]]):\n",
    "        return \"HS\"\n",
    "    elif any([x in lower for x in [\"diễn viên\", \"ca sĩ\"]]):\n",
    "        return \"DV-CS\"\n",
    "    elif any([x in lower for x in [\"undefined\", \"nguyễn thế hưng\", \"ln091\", \"thieu chuc danh\", \"th noọng hẹt\", \\\n",
    "                                  \"875 lk\", \"-\", \"p.xnk\", \"cỏn b?\", '22568', \"unt\", \"01019882\", \"xtnt\", \"ltv\", \\\n",
    "                                  \"plđg hc\", \"mia\", \"pqtd\", \"kttntl\", \"llqs\", \"kcsmhm\", \"nt\", \"dtm\", \"i\", \"qc\",\\\n",
    "                                  '/  /', '1', '14', 'a', 'chủ hộ', 'coõng vuù', 'kcs', 'pk b2c',\\\n",
    "                                   'xt2', 'kcs', 'sxct']]):\n",
    "        return np.nan\n",
    "    return x"
   ]
  },
  {
   "cell_type": "code",
   "execution_count": 14,
   "metadata": {
    "ExecuteTime": {
     "end_time": "2020-07-31T04:25:36.317161Z",
     "start_time": "2020-07-31T04:25:36.202555Z"
    },
    "code_folding": [
     0,
     11
    ]
   },
   "outputs": [],
   "source": [
    "def combine_gender(s):\n",
    "    x, y = s\n",
    "    \n",
    "    if x != x and y != y:\n",
    "        return \"nan\"\n",
    "    \n",
    "    if x != x:\n",
    "        return y.lower()\n",
    "    \n",
    "    return x.lower()\n",
    "\n",
    "def process_gender(df):\n",
    "    df[\"gender\"] = df[[\"gioiTinh\", \"info_social_sex\"]].apply(combine_gender, axis=1)\n",
    "    return df"
   ]
  },
  {
   "cell_type": "code",
   "execution_count": 15,
   "metadata": {
    "ExecuteTime": {
     "end_time": "2020-07-31T04:25:36.452292Z",
     "start_time": "2020-07-31T04:25:36.318559Z"
    },
    "code_folding": [
     0
    ]
   },
   "outputs": [],
   "source": [
    "def calculate_age(born):\n",
    "    born = datetime.strptime(born,'%Y-%m-%d').date()\n",
    "    today = datetime.today()\n",
    "    return today.year - born.year - ((today.month, today.day) < (born.month, born.day))"
   ]
  },
  {
   "cell_type": "code",
   "execution_count": 16,
   "metadata": {
    "ExecuteTime": {
     "end_time": "2020-07-31T04:25:36.542973Z",
     "start_time": "2020-07-31T04:25:36.453666Z"
    },
    "code_folding": [
     0
    ]
   },
   "outputs": [],
   "source": [
    "def fixhomeTownState(x):\n",
    "    if x in ['Hunan', 'Kachin State', 'Distrito Federal', 'Bizerte Governorate', 'Central Java',\\\n",
    "             'Svay Rieng Province', 'Distrito Nacional', 'County Mayo', 'Odisha', 'Lazio', 'Nevada',\\\n",
    "             'Daegu', 'Arizona', 'Equatoria', 'Fukuoka Prefecture', 'Taoyuan City', 'Kandal Province', \\\n",
    "             'State of Mexico', 'Hebei', 'New South Wales', 'Capital Governorate', 'Oregon']:\n",
    "        return np.nan\n",
    "    return x"
   ]
  },
  {
   "cell_type": "code",
   "execution_count": 17,
   "metadata": {
    "ExecuteTime": {
     "end_time": "2020-07-31T04:25:36.626941Z",
     "start_time": "2020-07-31T04:25:36.544361Z"
    },
    "code_folding": [
     0
    ]
   },
   "outputs": [],
   "source": [
    "def fixhomeTownCountry(x):\n",
    "    if x in ['Australia', 'Bahrain', 'Dominican Republic', 'Ireland', 'South Sudan', 'Tunisia']:\n",
    "        return np.nan\n",
    "    return x"
   ]
  },
  {
   "cell_type": "code",
   "execution_count": 18,
   "metadata": {
    "ExecuteTime": {
     "end_time": "2020-07-31T04:25:36.711909Z",
     "start_time": "2020-07-31T04:25:36.629294Z"
    },
    "code_folding": [
     0
    ]
   },
   "outputs": [],
   "source": [
    "def fixcurrentLocationState(x):\n",
    "    if x in ['Ilhas', 'Daegu', 'Auckland Region', 'Basse-Normandie', 'Chongqing', \"Provence-Alpes-Côte d'Azur\",\\\n",
    "             'Rajshahi Division', 'Hubei', 'Mandalay', 'Missouri', 'Pathum Thani', 'Central Java', 'New Hampshire',\\\n",
    "             'Odisha', 'South Australia', 'Chon Buri', 'Haute-Normandie', 'Kirov Oblast', 'Primorsky Krai', 'Arizona',\\\n",
    "             'Ulsan', 'Kanagawa Prefecture', 'Metro Manila', 'Kachin State', 'Svay Rieng Province', 'Nagano Prefecture',\\\n",
    "             'Shiga Prefecture', 'Oslo', 'Indiana', 'Hunan', 'Bolikhamsai Province', 'Krasnoyarsk Krai',\\\n",
    "             'Distrito Nacional', 'Chiba Prefecture']:\n",
    "        return np.nan\n",
    "    return x"
   ]
  },
  {
   "cell_type": "code",
   "execution_count": 19,
   "metadata": {
    "ExecuteTime": {
     "end_time": "2020-07-31T04:25:36.809694Z",
     "start_time": "2020-07-31T04:25:36.715481Z"
    },
    "code_folding": [
     0
    ]
   },
   "outputs": [],
   "source": [
    "def fixdata_basic_info_locale(x):\n",
    "    if x == \"_VN\":\n",
    "        return 'vi_VN'\n",
    "    elif x in ['lv_LV', 'ru_RU']:\n",
    "        return np.nan\n",
    "    return x"
   ]
  },
  {
   "cell_type": "code",
   "execution_count": 20,
   "metadata": {
    "ExecuteTime": {
     "end_time": "2020-07-31T04:25:36.893210Z",
     "start_time": "2020-07-31T04:25:36.811357Z"
    },
    "code_folding": [
     0,
     1
    ]
   },
   "outputs": [],
   "source": [
    "def fixcurrentLocationCountry(x):\n",
    "    if x in ['Macau', 'New Zealand', 'Dominican Republic']:\n",
    "        return np.nan\n",
    "    return x"
   ]
  },
  {
   "cell_type": "code",
   "execution_count": 21,
   "metadata": {
    "ExecuteTime": {
     "end_time": "2020-07-31T04:25:37.001460Z",
     "start_time": "2020-07-31T04:25:36.894946Z"
    },
    "code_folding": []
   },
   "outputs": [],
   "source": [
    "def fixcurrentLocationCity(x):\n",
    "    y = x\n",
    "    lower = str(x).lower()\n",
    "    if any([x in lower for x in [\"buon ma thuot\", \"ban me thuot\"]]):\n",
    "        return \"Buon Me Thuot\"\n",
    "    elif any([x in lower for x in [\"buôn hô\"]]):\n",
    "        return \"Buôn Hô\"\n",
    "    elif any([x in lower for x in [\"bình thanh\"]]):\n",
    "        return \"Binh Thanh\"\n",
    "    elif any([x in lower for x in [\"bu dang\"]]):\n",
    "        return \"Bu Dang\"\n",
    "    elif any([x in lower for x in [\"angiang\", \"an giang\"]]):\n",
    "        return \"An Giang\"\n",
    "    elif any([x in lower for x in [\"cam ranh\"]]):\n",
    "        return \"Cam Ranh\"\n",
    "    elif any([x in lower for x in [\"fan thiet\", \"phan thiet\"]]):\n",
    "        return \"Phan Thiet\"\n",
    "    elif any([x in lower for x in [\"haiphong\"]]):\n",
    "        return \"Hai Phong\"\n",
    "    elif any([x in lower for x in [\"ha tin\"]]):\n",
    "        return \"Ha Tinh\"\n",
    "    elif any([x in lower for x in [\"chau thanh\"]]):\n",
    "        return \"Chau Thanh\"\n",
    "    elif any([x in lower for x in [\"thanh tri\"]]):\n",
    "        return \"Thanh Tri\"\n",
    "    elif any([x in lower for x in [\"hòa an\"]]):\n",
    "        return \"Hoa An\"\n",
    "    elif any([x in lower for x in [\"hòa bình\"]]):\n",
    "        return \"Hoa Binh\"\n",
    "    elif any([x in lower for x in [\"kiên an\"]]):\n",
    "        return \"Kien An\"\n",
    "    elif any([x in lower for x in [\"long thành\"]]):\n",
    "        return \"Long Thanh\"\n",
    "    elif any([x in lower for x in [\"nhơn trạch\"]]):\n",
    "        return \"Nhon Trach\"\n",
    "    elif any([x in lower for x in [\"ninbinh\", \"ninh bình\"]]):\n",
    "        return \"Ninh Binh\"\n",
    "    elif any([x in lower for x in [\"ninh hòa\"]]):\n",
    "        return \"Ninh Hoa\"\n",
    "    elif any([x in lower for x in [\"phan ranh\", \"phan rang\"]]):\n",
    "        return \"Phan Rang\"\n",
    "    elif any([x in lower for x in ['thái hõa', 'thái hòa']]):\n",
    "        return \"Thai Hoa\"\n",
    "    elif any([x in lower for x in ['plây cu', 'plây ku', \"pleiku\"]]):\n",
    "        return \"Pleiku\"\n",
    "    elif any([x in lower for x in ['quan nam']]):\n",
    "        return \"Quang Nam\"\n",
    "    elif any([x in lower for x in ['thanh bình', \"thanh binh\"]]):\n",
    "        return \"Thanh Binh\"\n",
    "    elif any([x in lower for x in [\"vietri\"]]):\n",
    "        return \"Viet Tri\"\n",
    "    elif any([x in lower for x in [\"vinh loi\"]]):\n",
    "        return \"Vinh Loi\"\n",
    "    elif any([x in lower for x in [\"vinh loc\", \"vĩnh lộc\"]]):\n",
    "        return \"Vinh Loc\"\n",
    "    elif any([x in lower for x in [\"vĩnh phúc\", \"vinh phuc\"]]):\n",
    "        return \"Vinh Phuc\"\n",
    "    elif any([x in lower for x in [\"vinh hoa\"]]):\n",
    "        return \"Vinh Hoa\"\n",
    "    elif any([x in lower for x in [\"vung tau\"]]):\n",
    "        return \"Vung tau\"\n",
    "    elif any([x in lower for x in [\"bình thanh\"]]):\n",
    "        return \"Binh Thanh\"\n",
    "    elif any([x in lower for x in [\"hung loc\"]]):\n",
    "        return \"hung loc\"\n",
    "    elif any([x in lower for x in [\"đà lạt\"]]):\n",
    "        return \"Da Lat\"\n",
    "    elif any([x in lower for x in [\"my th\"]]):\n",
    "        return \"My Tho\"\n",
    "    elif any([x in lower for x in [\"gia loc\"]]):\n",
    "        return \"Gia Loc\"\n",
    "    elif any([x in lower for x in [\"an phu\", \"an phú\"]]):\n",
    "        return \"Gia Loc\"\n",
    "    elif any([x in lower for x in [\"lac lam\"]]):\n",
    "        return \"Lac Lam\"\n",
    "    elif any([x in lower for x in [\"bach lieu\"]]):\n",
    "        return \"Bac Lieu\"\n",
    "    elif any([x in lower for x in [\"bình gia\", \"binh gia\"]]):\n",
    "        return \"Binh Gia\"\n",
    "    elif any([x in lower for x in [\"cam pha\"]]):\n",
    "        return \"Cam Pha\"\n",
    "    elif any([x in lower for x in [\"cau ngang\"]]):\n",
    "        return \"Cau Ngang\"\n",
    "    elif any([x in lower for x in [\"chau phú\"]]):\n",
    "        return \"Chau Phu\"\n",
    "    elif any([x in lower for x in [\"dubai\"]]):\n",
    "        return \"Dubai\"\n",
    "    elif any([x in lower for x in [\"linh xuân\", \"linh xúân\"]]):\n",
    "        return \"Linh Xuan\"\n",
    "    elif any([x in lower for x in ['Phu My'.lower()]]):\n",
    "        return 'Phu My'\n",
    "    elif any([x in lower for x in [\"phu giáo\"]]):\n",
    "        return 'Phu Giao'\n",
    "    elif any([x in lower for x in [\"phù ninh\"]]):\n",
    "        return 'Phu Ninh'\n",
    "    elif any([x in lower for x in [\"thânh liêm\"]]):\n",
    "        return 'Thanh Liêm'\n",
    "    elif any([x in lower for x in [\"tan thanh\", \"tân thành\"]]):\n",
    "        return 'Tan Thanh'\n",
    "    elif any([x in lower for x in [\"gia kiêm\"]]):\n",
    "        return 'Gia Kiem'\n",
    "    elif any([x in lower for x in [\"yên bài\"]]):\n",
    "        return 'Yên Bái'\n",
    "    elif any([x in lower for x in [\"tân phú\"]]):\n",
    "        return 'Tan Phu'\n",
    "    elif any([x in lower for x in [\"bình chánh\", \"binh chanh\"]]):\n",
    "        return 'Binh Chanh'\n",
    "    elif any([x in lower for x in [\"binh duong\"]]):\n",
    "        return 'Binh Duong'\n",
    "    elif any([x in lower for x in [\"hung yen\"]]):\n",
    "        return 'Hung Yen'\n",
    "    elif any([x in lower for x in [\"bac can\"]]):\n",
    "        return 'Bac Kan'\n",
    "    elif any([x in lower for x in [\"bình long\"]]):\n",
    "        return 'Binh Long'\n",
    "    elif any([x in lower for x in [\"songkau\"]]):\n",
    "        return 'Song Cau'\n",
    "    elif any([x in lower for x in [\"hai-doung\", \"hai dzung\"]]):\n",
    "        return 'Hai Duong'\n",
    "    elif any([y in ['??ó Nhât', 'Amphoe Muang Chon Buri', 'An Hoa', 'Angola', 'Ap Binh Ta (2)',\\\n",
    "                                   'Ap Chanh (4)', 'Ap Go Dau', 'Ap Phu Ly (2)', 'Ap Suoi Cat', 'Ap Tan Hoa',\\\n",
    "                                   'Asaka-shi', 'Auckland', 'Australia Plains', 'Ban Ea Phe', 'Ban Nam Ca Dinh',\\\n",
    "                                   'Bavet', 'Bhubaneswar', 'Bo Trach', 'Bon Yok Djou', 'Boston', 'Bích Trì', \\\n",
    "                                   'Caen', 'Cam Thuy', 'Can Gio', 'Can Loc', 'Can Thanh', 'Carson City', \\\n",
    "                                   'Catumbella', 'Chaozhou', 'Cho Lach', 'Cua Tung', 'Daegu', 'Dalton', \\\n",
    "                                   'Do Hai', 'Don Dang', 'Dong Huong', 'Duclair', 'Fukaya-shi', 'Funabashi-shi', \\\n",
    "                                   'Giang Thon', 'Grayson', 'Ha Vi', 'Haidöng', 'Hau Loc', 'Himeji-shi', \\\n",
    "                                   'Hoa Dong', 'Hoa Loc', 'Houston', 'Hung Long', 'Huong Tra', 'Janpan', 'Kirow', \\\n",
    "                                   'Komaki-shi', 'Korea', 'Lak', 'Lang Que Nho', 'Liangping', 'Liên Chiểu', \\\n",
    "                                   'Loc Binh', 'Local', 'Luc Yen', 'Macau', 'Madagui', 'Manila', 'Marseille', \\\n",
    "                                   'Mau Lam', 'My Hoi', 'Mâ\\x80?kar Da Te', 'Na Hang', 'Nagano-shi', 'Nerima-ku', \\\n",
    "                                   'Nganan', 'Nghia Hung', 'Nha Long', 'Nhân Son (1)', 'Omihachiman-shi', 'Oslo', \\\n",
    "                                   'Pac Nam', 'Pathum Thani', 'Pha Le', 'Pho Ben Sung', 'Phoenix', 'Phu Hoa', \\\n",
    "                                   'Phu Huu', 'Phu Thu', 'Phuoc Lai', 'Phú Phong', 'Phú Túc', 'Phường Tân Tạo A', \\\n",
    "                                   'Pingtang', 'Quan Ba', 'Quỳnh Lôi', 'Santo Domingo', 'Tan Binh', 'Tan Hiep', \\\n",
    "                                   'Tay Dang', 'Teurlang Dong', 'Thach Thanh', 'Thanh Khê', 'Thanh-Nhan', \\\n",
    "                                   'Thien Giao', 'Thieu Hoa', 'Thuy Khue', 'Thác Bà', 'Tràm Chim', 'Tu Ly', \\\n",
    "                                   'Tu Ã?oan', 'Tân Quang', 'Tân Thới Hiệp', 'Ulsan', 'Van Hoi', 'Vinh Tu', \\\n",
    "                                   'Vladivostok', 'Vu Quang', 'Vung Liem', 'Vân Canh (1)', 'Wuhan', 'Xuan Dinh', \\\n",
    "                                   'Xuân Canh', 'Xóm Chu Chi', 'Yokohama', 'Ã?ong Trieu', 'Úc Lý']]):\n",
    "        return np.nan\n",
    "    return x"
   ]
  },
  {
   "cell_type": "code",
   "execution_count": 22,
   "metadata": {
    "ExecuteTime": {
     "end_time": "2020-07-31T04:25:37.114203Z",
     "start_time": "2020-07-31T04:25:37.003291Z"
    },
    "code_folding": [
     2,
     14
    ]
   },
   "outputs": [],
   "source": [
    "DATE = [\"Field_{}\".format(i) for i in [5, 6, 7, 8, 9, 11, 15, 25, 32, 33, 35, 40]]\n",
    "DATETIME = [\"Field_{}\".format(i) for i in [1, 2, 43, 44]]\n",
    "def datetime_normalize(s):\n",
    "    if s != s:\n",
    "        return np.nan\n",
    "    \n",
    "    s = s.split(\".\")[0]\n",
    "    if s[-1] == \"Z\":\n",
    "        s = s[:-1]\n",
    "        \n",
    "    date, time = s.split(\"T\")\n",
    "    datetime_obj = datetime.strptime(s, \"%Y-%m-%dT%H:%M:%S\")\n",
    "    return datetime_obj\n",
    "\n",
    "def date_normalize(s):\n",
    "    if s != s:\n",
    "        return np.nan\n",
    "    \n",
    "    try:\n",
    "        datetime_obj = datetime.strptime(s, \"%m/%d/%Y\")\n",
    "    except:\n",
    "        datetime_obj = datetime.strptime(s, \"%Y-%m-%d\")\n",
    "        \n",
    "    return datetime_obj"
   ]
  },
  {
   "cell_type": "code",
   "execution_count": 23,
   "metadata": {
    "ExecuteTime": {
     "end_time": "2020-07-31T04:25:37.194010Z",
     "start_time": "2020-07-31T04:25:37.117855Z"
    },
    "code_folding": [
     0
    ]
   },
   "outputs": [],
   "source": [
    "def process_datetime_cols(df):\n",
    "    cat_cols = []\n",
    "    for col in DATETIME:\n",
    "        df[col] = df[col].apply(datetime_normalize)\n",
    "        \n",
    "    for col in DATE:\n",
    "        df[col] = df[col].apply(date_normalize)\n",
    "\n",
    "    cat_cols += DATE + DATETIME\n",
    "    for col in DATE + DATETIME:\n",
    "        df[col] = df[col].dt.strftime('%m-%Y')\n",
    "    \n",
    "    for cat in ['F', 'E', 'C', 'G', 'A']:\n",
    "        df[f'{cat}_startDate'] = pd.to_datetime(df[f\"{cat}_startDate\"], infer_datetime_format=True)\n",
    "        df[f'{cat}_endDate'] = pd.to_datetime(df[f\"{cat}_endDate\"], infer_datetime_format=True)\n",
    "        \n",
    "        df[f'{cat}_startDate'] = df[f'{cat}_startDate'].dt.strftime('%m-%Y')\n",
    "        df[f'{cat}_endDate'] = df[f'{cat}_endDate'].dt.strftime('%m-%Y')\n",
    "        \n",
    "        cat_cols.append(f'{cat}_startDate')\n",
    "        cat_cols.append(f'{cat}_endDate')\n",
    "    \n",
    "    for col in cat_cols:\n",
    "        df[col] = df[col]\n",
    "        \n",
    "    return df"
   ]
  },
  {
   "cell_type": "code",
   "execution_count": 24,
   "metadata": {
    "ExecuteTime": {
     "end_time": "2020-07-31T04:25:37.290539Z",
     "start_time": "2020-07-31T04:25:37.196063Z"
    },
    "code_folding": [
     0,
     5
    ]
   },
   "outputs": [],
   "source": [
    "def str_normalize(s):\n",
    "    s = str(s).strip().lower()\n",
    "    s = re.sub(' +', \" \", s)\n",
    "    return s\n",
    "def process_location(df):\n",
    "    for col in [\"currentLocationLocationId\", \"homeTownLocationId\", \"currentLocationLatitude\", \"currentLocationLongitude\", \n",
    "                   \"homeTownLatitude\", \"homeTownLongitude\"]:\n",
    "        df[col].replace(0, np.nan, inplace=True)\n",
    "\n",
    "    df[\"currentLocationLocationId\"] = df[\"currentLocationLocationId\"].apply(str_normalize)\n",
    "    df[\"homeTownLocationId\"] = df[\"homeTownLocationId\"].apply(str_normalize)\n",
    "\n",
    "    return df"
   ]
  },
  {
   "cell_type": "code",
   "execution_count": 25,
   "metadata": {
    "ExecuteTime": {
     "end_time": "2020-07-31T04:25:50.813318Z",
     "start_time": "2020-07-31T04:25:37.292509Z"
    }
   },
   "outputs": [],
   "source": [
    "df_transform[\"Field_38\"] = df_transform[\"Field_38\"].apply(fix38)\n",
    "df_transform[\"Field_54\"] = df_transform[\"Field_54\"].apply(fix54)\n",
    "df_transform[\"Field_55\"] = df_transform[\"Field_55\"].apply(fix55)\n",
    "df_transform[\"Field_61\"] = df_transform[\"Field_61\"].apply(fix61)\n",
    "\n",
    "df_transform[\"currentLocationState\"] = df_transform[\"currentLocationState\"].apply(fixcurrentLocationState)\n",
    "df_transform[\"currentLocationCountry\"] = df_transform[\"currentLocationCountry\"].apply(fixcurrentLocationCountry)\n",
    "df_transform[\"homeTownState\"] = df_transform[\"homeTownState\"].apply(fixhomeTownState)\n",
    "df_transform[\"homeTownCountry\"] = df_transform[\"homeTownCountry\"].apply(fixhomeTownCountry)\n",
    "df_transform['data.basic_info.locale'] = df_transform['data.basic_info.locale'].apply(fixdata_basic_info_locale)\n",
    "df_transform[\"age\"] = df_transform[\"ngaySinh\"].map(lambda x: calculate_age(x) if x is not np.nan else x)\n",
    "df_transform[\"maCv\"] = df_transform[\"maCv\"].apply(fixmaCv)\n",
    "df_transform[\"null_sum\"] = df_transform.isnull().sum(axis=1)\n",
    "df_transform[\"currentLocationCity\"] = df_transform[\"currentLocationCity\"].apply(fixcurrentLocationCity)\n",
    "\n",
    "df_transform = process_gender(df_transform)\n",
    "df_transform = process_datetime_cols(df_transform)\n",
    "\n",
    "df_transform = process_location(df_transform)"
   ]
  },
  {
   "cell_type": "code",
   "execution_count": 26,
   "metadata": {
    "ExecuteTime": {
     "end_time": "2020-07-31T04:25:50.935766Z",
     "start_time": "2020-07-31T04:25:50.814895Z"
    }
   },
   "outputs": [],
   "source": [
    "drop = [\"gioiTinh\", \"info_social_sex\", \"ngaySinh\"]\n",
    "df_transform = df_transform.drop(drop, axis = 1)"
   ]
  },
  {
   "cell_type": "code",
   "execution_count": 27,
   "metadata": {
    "ExecuteTime": {
     "end_time": "2020-07-31T04:25:55.427007Z",
     "start_time": "2020-07-31T04:25:50.937323Z"
    },
    "code_folding": []
   },
   "outputs": [],
   "source": [
    "categoricals = []\n",
    "for header in df_transform.columns:\n",
    "    if str(df_transform[header].dtypes) is \"object\":\n",
    "        categoricals.append(header)\n",
    "for col in categoricals:\n",
    "    df_transform[col] = df_transform[col].astype(str)\n",
    "lbl = LabelEncoder()\n",
    "for col in categoricals:\n",
    "    \n",
    "    encoder = ce.CountFrequencyCategoricalEncoder(encoding_method='frequency')\n",
    "    \n",
    "    df_transform[col] = df_transform[col].fillna('None')\n",
    "    # Only take the common values in Train/Test-set\n",
    "    common_vals = list(set(df_transform[col]))\n",
    "    \n",
    "    # Take if vals appeared both 5 times\n",
    "    if col != \"currentLocationCity\":\n",
    "        common_vals = set(df_transform[col].value_counts()[df_transform[col].value_counts()> 100].index)\n",
    "    else:\n",
    "        common_vals = set(df_transform[col].value_counts()[df_transform[col].value_counts()> 50].index)\n",
    "    # Replace not-common values with \"Missing\" or np.NaN      \n",
    "    df_transform.loc[~df_transform[col].isin(common_vals), col] = 'Missing'\n",
    "\n",
    "    # Implement LE\n",
    "    lbl.fit(df_transform[col].tolist())\n",
    "    df_transform[col] = lbl.transform(df_transform[col])\n"
   ]
  },
  {
   "cell_type": "code",
   "execution_count": 28,
   "metadata": {
    "ExecuteTime": {
     "end_time": "2020-07-31T04:25:55.623397Z",
     "start_time": "2020-07-31T04:25:55.428582Z"
    },
    "code_folding": []
   },
   "outputs": [],
   "source": [
    "fill_1 = []\n",
    "for header in df_transform.columns:\n",
    "    vc = df_transform[header].value_counts()\n",
    "    if len(vc) < 2:\n",
    "        fill_1.append(header)\n",
    "for col in fill_1:\n",
    "    df_transform[col] = df_transform[col].fillna(-1)"
   ]
  },
  {
   "cell_type": "code",
   "execution_count": 29,
   "metadata": {
    "ExecuteTime": {
     "end_time": "2020-07-31T04:25:55.796620Z",
     "start_time": "2020-07-31T04:25:55.624860Z"
    }
   },
   "outputs": [],
   "source": [
    "df_transform = df_transform.fillna(df_transform.mean())"
   ]
  },
  {
   "cell_type": "code",
   "execution_count": 30,
   "metadata": {
    "ExecuteTime": {
     "end_time": "2020-07-31T04:25:55.842957Z",
     "start_time": "2020-07-31T04:25:55.798103Z"
    }
   },
   "outputs": [],
   "source": [
    "import re\n",
    "df_transform = df_transform.rename(columns = lambda x:re.sub('[^A-Za-z0-9_]+', '', x))"
   ]
  },
  {
   "cell_type": "code",
   "execution_count": 31,
   "metadata": {
    "ExecuteTime": {
     "end_time": "2020-07-31T04:25:56.097487Z",
     "start_time": "2020-07-31T04:25:55.844500Z"
    }
   },
   "outputs": [],
   "source": [
    "train_dev = pd.concat([df_train.id, df_train.label, df_transform.iloc[:len(df_train),:]], axis = 1)\n",
    "test = pd.concat([df_test.id, df_transform.iloc[len(df_train):,:]], axis = 1)"
   ]
  },
  {
   "cell_type": "code",
   "execution_count": 32,
   "metadata": {
    "ExecuteTime": {
     "end_time": "2020-07-31T04:25:56.102539Z",
     "start_time": "2020-07-31T04:25:56.099313Z"
    }
   },
   "outputs": [],
   "source": [
    "params = {\n",
    "    'boosting_type': 'gbdt',\n",
    "    'objective': 'binary',\n",
    "    'metric': 'auc',\n",
    "    'verbose': 1,\n",
    "    'learning_rate': 0.05,\n",
    "    'num_leaves': 31,\n",
    "    'feature_fraction': 0.7,\n",
    "    'min_data_in_leaf': 200,\n",
    "    'bagging_fraction': 0.8,\n",
    "    'bagging_freq': 20,\n",
    "    'min_hessian': 0.01,\n",
    "    'feature_fraction_seed': 2,\n",
    "    'bagging_seed': 3\n",
    "}"
   ]
  },
  {
   "cell_type": "code",
   "execution_count": 33,
   "metadata": {
    "ExecuteTime": {
     "end_time": "2020-07-31T04:25:56.184822Z",
     "start_time": "2020-07-31T04:25:56.104047Z"
    }
   },
   "outputs": [],
   "source": [
    "def compute_gini(labels, preds):\n",
    "    fpr, tpr, thresholds = metrics.roc_curve(labels, preds, pos_label=1)\n",
    "    auc = metrics.auc(fpr, tpr)\n",
    "    gini = 2 * auc - 1\n",
    "    return gini"
   ]
  },
  {
   "cell_type": "code",
   "execution_count": null,
   "metadata": {
    "ExecuteTime": {
     "start_time": "2020-07-31T04:25:33.149Z"
    }
   },
   "outputs": [
    {
     "name": "stdout",
     "output_type": "stream",
     "text": [
      "0.4764197351045434\n",
      "0.4717053752933311\n",
      "0.4871911467038048\n",
      "0.4819329917973798\n",
      "0.479989915347502\n",
      "0.4997977123215833\n"
     ]
    }
   ],
   "source": [
    "iter_predicttion = []\n",
    "ginis = []\n",
    "for i in range(4):\n",
    "    pred_stack = []\n",
    "    kf = KFold(n_splits = 8, shuffle=True)\n",
    "    fold = kf.split(train_dev)\n",
    "    for train_index, dev_index in fold:\n",
    "        train1 = train_dev.iloc[train_index,2:]\n",
    "        dev1 = train_dev.iloc[dev_index,2:]\n",
    "        d_train = lgb.Dataset(train1, label = train_dev.loc[train_index][\"label\"])\n",
    "        clf = lgb.train(params,d_train, 2500)\n",
    "        predictions_test = clf.predict(test.iloc[:,1:])\n",
    "        predictions_dev = clf.predict(dev1)\n",
    "        pred_stack.append(predictions_test)\n",
    "        gini = compute_gini(train_dev.loc[dev_index][\"label\"], predictions_dev)\n",
    "        print(gini)\n",
    "        ginis.append(gini)\n",
    "    predictions = np.asarray(pred_stack)\n",
    "    predictions = np.mean(predictions, axis = 0)\n",
    "    iter_predicttion.append(predictions)"
   ]
  },
  {
   "cell_type": "code",
   "execution_count": null,
   "metadata": {
    "ExecuteTime": {
     "start_time": "2020-07-31T04:25:33.151Z"
    }
   },
   "outputs": [],
   "source": [
    "print(np.mean(np.array(ginis)))"
   ]
  },
  {
   "cell_type": "code",
   "execution_count": null,
   "metadata": {
    "ExecuteTime": {
     "start_time": "2020-07-31T04:25:33.153Z"
    }
   },
   "outputs": [],
   "source": [
    "predictions = np.asarray(iter_predicttion)\n",
    "predictions = np.mean(predictions, axis = 0)\n",
    "predictions = list(predictions)\n",
    "\n",
    "for i in range(len(predictions)):\n",
    "    if predictions[i] >= 0.5:\n",
    "        predictions[i] = 1\n",
    "    else:\n",
    "        predictions[i] = 0\n",
    "        \n",
    "new_label = pd.DataFrame(predictions, columns = [\"label\"])\n",
    "\n",
    "new_data_id = []\n",
    "for i in range(len(new_label)):\n",
    "    idx = len(df_train) + i\n",
    "    new_data_id.append(idx)\n",
    "new_data_id = pd.DataFrame(new_data_id, columns = [\"id\"])\n",
    "\n",
    "new_data =  pd.concat([new_data_id, new_label, test.iloc[:,1:]], axis = 1)"
   ]
  },
  {
   "cell_type": "code",
   "execution_count": null,
   "metadata": {
    "ExecuteTime": {
     "start_time": "2020-07-31T04:25:33.155Z"
    }
   },
   "outputs": [],
   "source": [
    "os.makedirs(f\"../../data/kalapa/{data_version}/\", exist_ok=True)\n",
    "train_dev.to_csv(f\"../../data/kalapa/{data_version}/train.csv\", index = False)\n",
    "test.to_csv(f\"../../data/kalapa/{data_version}/test.csv\", index = False)\n",
    "new_data.to_csv(f\"../../data/kalapa/{data_version}/new_data.csv\", index = False)"
   ]
  },
  {
   "cell_type": "code",
   "execution_count": null,
   "metadata": {},
   "outputs": [],
   "source": []
  }
 ],
 "metadata": {
  "kernelspec": {
   "display_name": "Python 3",
   "language": "python",
   "name": "python3"
  },
  "language_info": {
   "codemirror_mode": {
    "name": "ipython",
    "version": 3
   },
   "file_extension": ".py",
   "mimetype": "text/x-python",
   "name": "python",
   "nbconvert_exporter": "python",
   "pygments_lexer": "ipython3",
   "version": "3.7.7"
  },
  "varInspector": {
   "cols": {
    "lenName": 16,
    "lenType": 16,
    "lenVar": 40
   },
   "kernels_config": {
    "python": {
     "delete_cmd_postfix": "",
     "delete_cmd_prefix": "del ",
     "library": "var_list.py",
     "varRefreshCmd": "print(var_dic_list())"
    },
    "r": {
     "delete_cmd_postfix": ") ",
     "delete_cmd_prefix": "rm(",
     "library": "var_list.r",
     "varRefreshCmd": "cat(var_dic_list()) "
    }
   },
   "types_to_exclude": [
    "module",
    "function",
    "builtin_function_or_method",
    "instance",
    "_Feature"
   ],
   "window_display": false
  }
 },
 "nbformat": 4,
 "nbformat_minor": 4
}
