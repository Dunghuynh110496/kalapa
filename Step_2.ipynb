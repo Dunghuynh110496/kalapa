{
 "cells": [
  {
   "cell_type": "code",
   "execution_count": 382,
   "metadata": {
    "ExecuteTime": {
     "end_time": "2020-07-29T09:34:10.858830Z",
     "start_time": "2020-07-29T09:34:10.850217Z"
    }
   },
   "outputs": [],
   "source": [
    "import pandas as pd\n",
    "import numpy as np\n",
    "import matplotlib.pyplot as plt\n",
    "import datetime\n",
    "import time\n",
    "import sys\n",
    "import csv\n",
    "import os\n",
    "from datetime import datetime\n",
    "from sklearn import metrics\n",
    "from dateutil.parser import parse\n",
    "from sklearn.preprocessing import MinMaxScaler\n",
    "from sklearn.feature_extraction.text import TfidfVectorizer\n",
    "%matplotlib inline\n",
    "import lightgbm as lgb\n",
    "import numpy as np, pandas as pd, os\n",
    "from sklearn.discriminant_analysis import QuadraticDiscriminantAnalysis\n",
    "from sklearn.model_selection import StratifiedKFold\n",
    "from sklearn.feature_selection import VarianceThreshold\n",
    "from sklearn.metrics import roc_auc_score\n",
    "from sklearn.model_selection import KFold\n",
    "import random\n",
    "import string"
   ]
  },
  {
   "cell_type": "code",
   "execution_count": 394,
   "metadata": {
    "ExecuteTime": {
     "end_time": "2020-07-29T09:36:59.126055Z",
     "start_time": "2020-07-29T09:36:59.120229Z"
    }
   },
   "outputs": [],
   "source": [
    "import seaborn as sns\n",
    "import math\n",
    "import re\n",
    "import warnings\n",
    "\n",
    "import lightgbm as lgb\n",
    "from unidecode import unidecode\n",
    "from sklearn.metrics import roc_auc_score\n",
    "from sklearn.model_selection import StratifiedKFold\n",
    "\n",
    "from itertools import combinations\n",
    "from datetime import datetime\n",
    "\n",
    "warnings.filterwarnings('ignore')\n",
    "pd.options.display.max_columns = 50\n",
    "plt.style.use('ggplot')"
   ]
  },
  {
   "cell_type": "code",
   "execution_count": 339,
   "metadata": {
    "ExecuteTime": {
     "end_time": "2020-07-29T09:21:13.095502Z",
     "start_time": "2020-07-29T09:21:13.093114Z"
    }
   },
   "outputs": [],
   "source": [
    "data_version_input = \"01-10-2020\""
   ]
  },
  {
   "cell_type": "code",
   "execution_count": 385,
   "metadata": {
    "ExecuteTime": {
     "end_time": "2020-07-29T09:34:47.092921Z",
     "start_time": "2020-07-29T09:34:46.090789Z"
    }
   },
   "outputs": [],
   "source": [
    "df_train = pd.read_csv(f\"../../data/kalapa/{data_version_input}/train.csv\")\n",
    "df_test = pd.read_csv(f\"../../data/kalapa/{data_version_input}/test.csv\")"
   ]
  },
  {
   "cell_type": "code",
   "execution_count": 341,
   "metadata": {
    "ExecuteTime": {
     "end_time": "2020-07-29T09:21:17.939936Z",
     "start_time": "2020-07-29T09:21:17.916053Z"
    },
    "scrolled": true
   },
   "outputs": [
    {
     "name": "stdout",
     "output_type": "stream",
     "text": [
      "['A Luoi (1), Binh Tri Thien, Vietnam', 'Abu Dhabi, United Arab Emirates', 'Ajaccio', 'American Falls, Idaho', 'Amherst, Massachusetts', 'An Biên', 'An Duong, Hải Phòng, Vietnam', 'An Giang (4), Nghia Binh, Vietnam', 'An Khê, Gia Lai, Vietnam', 'An Lac, Thái Bình, Vietnam', 'An Lão, Bình Ðịnh, Vietnam', 'An Lê, Thái Bình, Vietnam', 'An Nhơn', 'An Ninh, Long An, Vietnam', 'An Ninh, Quảng Ninh (Quảng Bình)', 'An Phong, Ðồng Tháp, Vietnam', 'An Phu', 'An Phú (thị trấn)', 'An Thuan, Song Be, Vietnam', 'Angiang, An Giang, Vietnam', 'Anh Son', 'Anh Sơn', 'Anini-y, Antique', 'Ap An Thai (1), Tiền Giang, Vietnam', 'Ap Bao Binh, Vietnam', 'Ap Ben Cam, Vietnam', 'Ap Ben Cau, Tây Ninh, Vietnam', 'Ap Binh Duong (1), Vietnam', 'Ap Binh Hung, Tiền Giang, Vietnam', 'Ap Binh Quang, Long An, Vietnam', 'Ap Binh Thuan, Minh Hai, Vietnam', 'Ap Hung Yen, Song Be, Vietnam', 'Ap Lam Phu, Lâm Ðồng, Vietnam', 'Ap Loi Nhon, Tiền Giang, Vietnam', 'Ap My Tho, Tiền Giang, Vietnam', 'Ap Nhon My, An Giang, Vietnam', 'Ap Tan Ha, Lâm Ðồng, Vietnam', 'Ap Thanh Dong, Kiến Giang, Vietnam', 'Ap Thanh Nhut, Long An, Vietnam', 'Ap Ã?Ao, Long An, Vietnam', 'Australind, Western Australia', 'Aylmer, Ontario', 'Ayun Pa', \"B'Sar Dong, Lâm Ðồng, Vietnam\", \"B'Sre, Đắc Lắk, Vietnam\", 'Ba Hàng, Thái Nguyên, Vietnam', 'Ba Hòn, Kiến Giang, Vietnam', 'Ba Ria', 'Ba Tri', 'Ba Vì, Ha Son Binh, Vietnam', 'Ba Đồn', 'Bac Can, Bắc Kạn, Vietnam', 'Bac Giang', 'Bac Giang (cidade)', 'Bac Ha, Hoang Lien Son, Vietnam', 'Bac Kan', 'Bac Lieu', 'Bac Ninh (cidade)', 'Bac Son, Lạng Sơn, Vietnam', 'Bach Cau, Thanh Hóa, Vietnam', 'Bach Ma, Thừa Thiên-Huế, Vietnam', 'Bai Chay, Quảng Ninh, Vietnam', 'Bali', 'Ban Daknong, Attapu, Laos', 'Ban Gioc, Cao Bằng, Vietnam', 'Ban Krong Buk, Đắc Lắk, Vietnam', 'Ban Krong Pack, Đắc Lắk, Vietnam', \"Ban M'Drack, Đắc Lắk, Vietnam\", 'Ban Me Thuot, Đắc Lắk, Vietnam', 'Ban Nong Bua Noi, Khon Kaen, Thailand', 'Bandar-E-Emam Khomeyni, Khuzestan, Iran', 'Banza Luanda, Uige, Angola', 'Bao Ha, Hoang Lien Son, Vietnam', 'Bao Loc', 'Barcelona', 'Bavi', 'Beckingham, Lincolnshire', 'Ben Luc', 'Ben Tre (cidade)', 'Ben, Bến Tre, Vietnam', 'Benguela, Benguela, Angola', 'Bermuda, Louisiana', 'Bien Hoa', 'Bim Son', 'Binh Chau, Vietnam', 'Binh Chuan, Song Be, Vietnam', 'Binh Dinh, Nghia Binh, Vietnam', 'Binh Duong, Quang Nam-Da Nang, Vietnam', 'Binh Gia, Vietnam', 'Binh Hoa, Song Be, Vietnam', 'Binh Loc, Vietnam', 'Binh Luc, Hà Nam, Vietnam', 'Binh Minh', 'Binh Phu, An Giang, Vietnam', 'Binh Phuoc, Vietnam', 'Binh Son, Quảng Ngãi, Vietnam', 'Binh Thanh, Hồ Chí Minh, Vietnam', 'Biên Hòa', 'Bo Ha, Bắc Giang, Vietnam', 'Bon Bu Bo Dak Nong, Đắc Lắk, Vietnam', 'Bon Dak Mam, Đắc Lắk, Vietnam', 'Brisbane', 'Bu Dak Lung, Song Be, Vietnam', 'Bu Dang', 'Bu Dang (2), Song Be, Vietnam', 'Buon Ea Kmut, Đắc Lắk, Vietnam', 'Buon Me Thuot', 'Buon Trap, Đắc Lắk, Vietnam', 'Busan', 'Buôn Hô (1), Đắc Lắk, Vietnam', 'Buôn Hô, Đắc Lắk, Vietnam', 'Buôn Krông Bông, Đắc Lắk, Vietnam', 'Buôn Ma Thuột', 'Buôn Ma Thuột, Đắc Lắk, Vietnam', 'Buôn Mrông (1), Đắc Lắk, Vietnam', 'Buôn Nui, Đắc Lắk, Vietnam', 'Buôn Pan, Đắc Lắk, Vietnam', 'Buôn Wing (2), Đắc Lắk, Vietnam', 'Bà Rịa', 'Bá Thước', 'Bái Thượng, Thanh Hóa, Vietnam', 'Bát Trang, Ha Noi, Vietnam', 'Bình Chánh, Hồ Chí Minh, Vietnam', 'Bình Hưng Hòa B', 'Bình Liêu', 'Bình Long', 'Bình Long, Bìn Phước, Vietnam', 'Bình Nhâm, Song Be, Vietnam', 'Bình Thanh (1), Hồ Chí Minh, Vietnam', 'Bình Thủy', 'Bình Triều', 'Bù Nho, Song Be, Vietnam', 'Bù Đăng', 'Băng Cốc', 'Bạc Liêu (ciudad)', 'Bạc Liêu (thành phố)', 'Bảo Lộc', 'Bảo Yên', 'Bần Yên Nhân', 'Bắc Bình', 'Bắc Giang (thành phố)', 'Bắc Hà (huyện)', 'Bắc Kạn', 'Bắc Ninh', 'Bắc Ninh (thành phố)', 'Bắc Quang, Hà Giang, Vietnam', 'Bến Cát', 'Bến Lức', 'Bến Tre', 'Bỉm Sơn', 'Cai Lay', 'Cai Lậy (huyện)', 'Cai Mon, Bến Tre, Vietnam', 'Cai Nuoc, Cà Mau, Vietnam', 'Cai Rong, Quảng Ninh, Vietnam', 'Cai Tau Ha, Cuu Long, Vietnam', 'California City, California', 'Cam Lâm', 'Cam Lâm, Khánh Hòa, Vietnam', 'Cam Lộ (huyện)', 'Cam My', 'Cam Pha', 'Cam Ranh', 'Cam Ranh Port, Khánh Hòa, Vietnam', 'Cam Thượng, Phu Khanh, Vietnam', 'Cam Xuyen', 'Cambridge, Massachusetts', 'Camo, Cà Mau, Vietnam', 'Can Tho', 'Canh Duong Xa, Binh Tri Thien, Vietnam', 'Cao Bang', 'Cao Binh, Cao Bằng, Vietnam', 'Cao Bằng', 'Cao Hùng', 'Cao Lãnh', 'Cap-Saint-Jacques, Bà Rịa-Vũng Tàu, Vietnam', 'Cat Hai, Hải Phòng, Vietnam', 'Cau Gam, Hi Bac, Vietnam', 'Cau Tram, Long An, Vietnam', 'Cau Truong Toa, Bạc Liêu, Vietnam', 'Chau Hung, Minh Hai, Vietnam', 'Chau Phú, An Giang, Vietnam', 'Chaudok, An Giang, Vietnam', 'Chenchenji, Gongola, Nigeria', 'Chi Lang', 'Chicago', 'Chiêm Hóa', 'Cho Do Luong, Nghệ An, Vietnam', 'Cho Moi, An Giang', 'Cho Moi, Hồ Chí Minh, Vietnam', 'Cho Thu Thua, Long An, Vietnam', 'Chu Lai, Quang Nam-Da Nang, Vietnam', 'Châu Thành, Tiền Giang, Vietnam', 'Châu Thành, Trà Vinh, Vietnam', 'Châu Thành, Vietnam', 'Chí Hòa, Hồ Chí Minh, Vietnam', 'Chí Linh', 'Chơn Thành', 'Chương Hóa (thành phố)', 'Chợ Gạo', 'Chợ Lớn', 'Chợ Mới', 'Chợ Đồn', 'Cidade Antiga de Hoi An', 'Cidade de Ho Chi Minh', 'Ciudad Ho Chi Minh', 'Co Nhue, Ha Noi, Vietnam', 'Coc Leu, Hoang Lien Son, Vietnam', 'Cok Ton, Lạng Sơn, Vietnam', 'Con Cuông', 'Cu Lac, Binh Tri Thien, Vietnam', 'Cu Van, Bac Thai, Vietnam', 'Cua Ong, Quảng Ninh, Vietnam', 'Cà Hom, Trà Vinh, Vietnam', 'Cà Mau', 'Cà Mau (cidade)', 'Cái Bè', 'Cát Bà, Hải Phòng, Vietnam', 'Cô Tô, Tri Tôn', 'Côn Đảo', 'Công Thôn, Ha Noi, Vietnam', 'Cần Giuộc', 'Cần Thơ', 'Cần Đước', 'Cẩm Khê', 'Cẩm Mỹ', 'Cẩm Phả', 'Cẩm Phả Port, Quảng Ninh, Vietnam', 'Cẩm Xuyên', 'Củ Chi, Hồ Chí Minh, Vietnam', 'Cửa Lò', \"Da D'De, Đắc Lắk, Vietnam\", 'Da Dang, Quang Nam-Da Nang, Vietnam', 'Da Kao, Ho Chi Minh, Vietnam', 'Da Lat', 'Da Nang', 'Da Nang, Vietnam', 'Daejeon', 'Dai Mo, Ha Noi, Vietnam', 'Dai Tu', 'Dak Lack, Gia Lai-Cong Tum, Vietnam', 'Dak Mil', 'Dalat, Pool, Congo', 'Dalat, Sarawak', 'Dali', 'Dallas', 'Dau Tieng', 'Dhaka', 'Di An', 'Di Linh', 'Dien Bien Phu', 'Diên Khánh', 'Diên Khánh, Khánh Hòa, Vietnam', 'Diễn Châu', 'Djrott, Lâm Ðồng, Vietnam', 'Dong Dang, Quảng Ninh, Vietnam', 'Dong Ha', 'Dong Hoa', 'Dong Le, Nghe Tinh, Vietnam', 'Dong Thanh, Lâm Ðồng, Vietnam', 'Dong Thap, Hoang Lien Son, Vietnam', 'Dong Xoa, Bìn Phước, Vietnam', 'Dong Xoai', 'Dongxing, Guangxi', 'Dortmund', 'Dubai', 'Dubai, Uttar Pradesh, India', 'Duc Noi, Ha Noi, Vietnam', 'Duong Hoa, Hai Hung, Vietnam', 'Duong Hoa, Kiến Giang, Vietnam', 'Duong Quang, Hai Hung, Vietnam', 'Duy Xuyên', 'Dĩ An', 'Dầu Tiếng', 'East Tremont, New York', 'Edinburgh', 'El Monte, California', 'Eumseong', 'F.A. Berra, Buenos Aires, Argentina', 'Fan Thiet, Bình Thuận, Vietnam', 'Fanthit, Bình Thuận, Vietnam', 'Fort-de-France', 'Fukagawa, Hokkaidō', 'Fukuoka-shi, Fukuoka, Japan', 'Gainesville, Georgia', 'Gia Bình', 'Gia Kiem, Vietnam', 'Gia Lai, Gia Lai, Vietnam', 'Gia Lâm', 'Gia Lộc', 'Gia Nghia', 'Gia Nghĩa', 'Gia Nghĩa (thành phố Đài Loan)', 'Gia Ray, Vietnam', 'Giang Thành, Kiến Giang, Vietnam', 'Giao Thủy', 'Gifu', 'Gimhae', 'Ginowan, Okinawa', 'Gio Linh', 'Giồng Riềng', 'Go Da, Ðồng Tháp, Vietnam', 'Guangzhou Shi, Guangdong, China', 'Gwangju', 'Gò Công', 'Gò Dầu Hạ, Tây Ninh, Vietnam', 'Gò Vấp', 'Ha Coi, Quảng Ninh, Vietnam', 'Ha Giap, Vinh Phu, Vietnam', 'Ha Lam, Quảng Ninh, Vietnam', 'Ha Loi, Ha Noi, Vietnam', 'Ha Long', \"Ha Tin', Hà Tĩnh, Vietnam\", 'Ha-Nam, Hà Nam, Vietnam', 'Hai Dzung, Hải Dương, Vietnam', 'Hai Hau', 'Hai Ninh, Thuin Hai, Vietnam', 'Hai Phong, Vietnam', 'Hai-Doung, Hải Dương, Vietnam', 'Haiphong', 'Haiphong, Hải Phòng, Vietnam', 'Hakodate', 'Hannover', 'Hanoi', 'Hanoi, Southern Highlands, Papua New Guinea', 'Hanoi, Vietnam', 'Hanói', 'Hdadja, Safi, Morocco', 'Hien Hao, Hải Phòng, Vietnam', 'Hiep Hoa, Hi Bac, Vietnam', 'Hiep Hoa, Vietnam', 'Higashimatsuyama-shi, Saitama, Japan', 'Hiroshima', 'Hnahthial', 'Ho Chi Minh City, Vietnam', 'Ho Chi Minh Kenti', 'Ho Nai, Vietnam', 'Ho-Chi-Minh-Stadt', 'Hoa Binh, Tây Ninh, Vietnam', 'Hoa Loi (1), Song Be, Vietnam', 'Hoa Mac, Ha Nam Ninh, Vietnam', 'Hoai Duc Phu, Ha Noi, Vietnam', 'Hoang Hoa', 'Hoi An, An Giang, Vietnam', 'Hoi An, Quang Nam-Da Nang, Vietnam', 'Hon Gai, Quảng Ninh, Vietnam', 'Hong Gai, Quảng Ninh, Vietnam', 'Hong Kong', 'Honggay, Quảng Ninh, Vietnam', 'Hoài Nhon, Bình Ðịnh, Vietnam', 'Hoài Ân, Bình Ðịnh, Vietnam', 'Hoàn Lão, Quảng Bình, Vietnam', 'Hoàng Mai, Hi Bac, Vietnam', 'Hoàng Su Phì', 'Hoàng Xá, Phú Thọ, Vietnam', 'Hoành Bồ', 'Hoằng Hóa', 'Hsinchu, Taiwan', 'Hue, Ohio', 'Hue, Vietnam', 'Hung Hoa, Vinh Phu, Vietnam', 'Hung Loc, Vietnam', 'Hung Yen, Hưng Yên, Vietnam', 'Hunter, Utah', 'Huong Canh, Vinh Phu, Vietnam', 'Huong Cau Ngang, Trà Vinh, Vietnam', 'Huong Hoa, Quảng Trị, Vietnam', 'Huong Long Phu, Sóc Trăng, Vietnam', 'Huong Ã?Ao, Hai Hung, Vietnam', 'Huu An, Tiền Giang, Vietnam', 'Huu Lung', 'Huyen Chau Thanh, Kiến Giang, Vietnam', 'Huyện Thạnh Trị, Bạc Liêu, Vietnam', 'Huế', 'Hà Giang', 'Hà Giang (thành phố)', 'Hà Nhà (1), Quang Nam-Da Nang, Vietnam', 'Hà Nội', 'Hà Tiên', 'Hà Trung (huyện)', 'Hà Tây, Nghia Binh, Vietnam', 'Hà Tĩnh', 'Hà Tĩnh (thành phố)', 'Hà Đông', 'Hàm Tân', 'Hàm Yên', 'Hòa An', 'Hòa An, Cẩn Thỏ, Vietnam', 'Hòa Bình, Binh Tri Thien, Vietnam', 'Hòa Bình, Bạc Liêu, Vietnam', 'Hòa Bình, Hai Hung, Vietnam', 'Hòa Bình, Hòa Bình, Vietnam', 'Hòa Dinh, Ha Nam Ninh, Vietnam', 'Hòa Khánh (1), Long An, Vietnam', 'Hóc Môn, Hồ Chí Minh, Vietnam', 'Hô Phòng, Bạc Liêu, Vietnam', 'Hương Bá Thước, Thanh Hóa, Vietnam', 'Hương Cẩm Thủy, Thanh Hóa, Vietnam', 'Hương Khê, Hà Tĩnh, Vietnam', 'Hương Lang Chánh, Thanh Hóa, Vietnam', 'Hương Ngọc Lac, Thanh Hóa, Vietnam', 'Hương Tân Lạc, Hòa Bình, Vietnam', 'Hạ Hòa', 'Hạ Long', 'Hạ Long (thành phố)', 'Hải Dương', 'Hải Dương (thành phố)', 'Hải Hậu', 'Hải Lăng', 'Hải Phòng', 'Hồng Kông', 'Hồng Ngự', 'Hồng Ngự (thị xã)', 'Hội An', 'Hữu Lũng', 'Ikeda-shi, Osaka, Japan', 'Incheon', 'Ise, Mie', 'Istanbul', 'Ithaca, New York', 'Jeju (thành phố)', 'Juba, Nam Sudan', 'Kadô, Lâm Ðồng, Vietnam', 'Kampong Cham', 'Kasongan, Kalimantan Tengah, Indonesia', 'Katum, Tây Ninh, Vietnam', 'Ke Sat, Hai Hung, Vietnam', 'Khanh Hoa, Khánh Hòa, Vietnam', 'Khe Sanh, Binh Tri Thien, Vietnam', 'Khu Chi Lang, Lâm Ðồng, Vietnam', 'Khê Mao, Quảng Ninh, Vietnam', 'Kien Luong', 'Kikuchi, Kumamoto', 'Kim Bang, Ha Nam Ninh, Vietnam', 'Kim Bôi', 'Kim Bảng', 'Kim Chau, Đắc Lắk, Vietnam', 'Kim Mã, Ha Noi, Vietnam', 'Kim Quan Thuong, Ha Tuyen, Vietnam', 'Kim Son', 'Kim Đường', 'Kinh Môn', 'Kiên An, An Giang, Vietnam', 'Kiên An, Kiến Giang, Vietnam', 'Kiên Lương', 'Kiên Tân, Kiến Giang, Vietnam', 'Kobe-shi, Hyogo, Japan', 'Koga, Ibaraki', 'Kon Tum', 'Kon Tum (thành phố)', 'Kon Tum, Kon Tum, Vietnam', 'Kuala Lumpur', 'Kwang Binh, Quảng Bình, Vietnam', 'Kwang Ngai, Quảng Ngãi, Vietnam', 'Ky Son, Nghệ An, Vietnam', 'Kỳ Anh', 'La Habana', 'La Rioja, Argentina', 'Lac Lam, Lâm Ðồng, Vietnam', 'Lac Nghia, Lâm Ðồng, Vietnam', 'Lac Son, Hòa Bình, Vietnam', 'Lagi, Thuin Hai, Vietnam', 'Lagos', 'Lai Chau', 'Lai Châu, Yên Đài', 'Lai Vung', 'Laicha, Madhya Pradesh, India', 'Lang Phuoc Hai, Vietnam', 'Lang Son (cidade)', 'Lao Bao', 'Laokai, Lào Cai, Vietnam', 'Lap Thach', 'Las Vegas, Nevada', 'Le Thuy, Quảng Bình, Vietnam', 'Lich Hoi Thuong, Sóc Trăng, Vietnam', 'Linh Xúân, Hồ Chí Minh, Vietnam', 'Liverpool', 'Liên Hiệp, Lâm Ðồng, Vietnam', 'Loc An, Binh Tri Thien, Vietnam', 'Loc An, Vietnam', 'Loc Giang, Long An, Vietnam', 'London, California', 'Long An, Tiền Giang, Vietnam', 'Long Hai, Vietnam', 'Long Khanh', 'Long Khánh', 'Long Mỹ', 'Long Phú', 'Long Thành', 'Long Xuyen', 'Long Xuyên', 'Long Điền', 'Los Angeles', 'Luong Son, Hòa Bình, Vietnam', 'Luân Đôn', 'Là Ngà, Vietnam', 'Làng Kinh, Nghe Tinh, Vietnam', 'Lào Cai', 'Lào Cai (thành phố)', 'Lái Thiêu', 'Lâm Hà', 'Lâm Thao', 'Lý Hòa, Binh Tri Thien, Vietnam', 'Lạc Thủy', 'Lạng Sơn', 'Lấp Vò', 'Lập Thạch', 'Lệ Thủy, Quảng Bình', 'Lộc Ninh, Bìn Phước, Vietnam', 'Lục Nam', 'Lục Ngạn', 'Mai Châu', 'Mai Dich, Ha Noi, Vietnam', 'Majuro, Marshall Islands', 'Manchester', 'Mang Cà, Binh Tri Thien, Vietnam', 'Manhattan, New York', 'Mao Khe, Vietnam', 'Me Tri, Ha Noi, Vietnam', 'Medellín', 'Melbourne', 'Melbourne, Victoria, Australia', 'Milano', 'Milano Marittima, Emilia-Romagna, Italy', 'Mimasaka-shi, Okayama, Japan', 'Mitho, Tiền Giang, Vietnam', 'Miêu Lật (thành phố)', 'Moc Chau', 'Mokpo', 'Mong Duong, Quảng Ninh, Vietnam', 'Montgomery, Alabama', 'Moriya, Ibaraki', 'Moskau', 'Mu Cang Chai', 'Muc Son Ngoai, Thanh Hóa, Vietnam', 'Muong Bam, Sơn La, Vietnam', 'Muong Lay, Lai Châu, Vietnam', 'Muong Te', 'My Dong, Hải Phòng, Vietnam', 'My Tho', 'My Thuan, Tiền Giang, Vietnam', 'My Xuyen, Sóc Trăng, Vietnam', 'Mytholmroyd', 'Mèo Vạc', 'Móng Cái', 'Móng Cái, Vietnam', 'Mù Cang Chải', 'Mũi Né', 'Mương Té, Lai Châu, Vietnam', 'Mường Chà (thị trấn)', 'Mộ Đức, Quảng Ngãi, Vietnam', 'Mộc Châu', 'Mộc Hóa', 'Mỹ Hào', 'Mỹ Hạnh Nam', 'Mỹ Tho', 'Na Noi, Ha Son Binh, Vietnam', 'Na Rì', 'Naga', 'Nagasaki', 'Nagoya-shi, Aichi, Japan', 'Nam Can, Minh Hai, Vietnam', 'Nam Giang', 'Nam Ninh, Ha Nam Ninh, Vietnam', 'Nam Trực', 'Nam Định, Nam Định, Vietnam', 'Nam �Àn, Nghệ An, Vietnam', 'Namban, Lâm Ðồng, Vietnam', 'Nanning Shi, Guangxi, China', 'Nassau, Bahamas', 'New City, New York', 'Nga Sơn', 'Ngai Giao, Vietnam', 'Ngan Son (4), Phu Khanh, Vietnam', 'Nghi Lộc', 'Nghi Sơn, Thanh Hóa, Vietnam', 'Nghia Ã?An, Nghệ An, Vietnam', 'Nghĩa Hành', 'Nghĩa Lộ', 'Ngoc Ha, Ha Noi, Vietnam', 'Ngoc Khe, Thanh Hóa, Vietnam', 'Nguyên Bình', 'Ngọc Hồi (huyện)', 'Nha Tho, Sóc Trăng, Vietnam', 'Nha Trang', 'Nhat Chieu, Ha Noi, Vietnam', 'Nho Quan, Ninh Bình, Vietnam', 'Nhon Trach', 'Nhà Bàng, An Giang, Vietnam', 'Nhà Bè, Hồ Chí Minh, Vietnam', 'Nhơn Trạch', 'Ninbinh, Ninh Bình, Vietnam', 'Ninh Bac, Vinh Phu, Vietnam', 'Ninh Bình', 'Ninh Bình (thành phố)', 'Ninh Bình, Phu Khanh, Vietnam', 'Ninh Giang, Hai Hung, Vietnam', 'Ninh Hoa', 'Ninh Hòa', 'Ninh Hòa, Khánh Hòa, Vietnam', 'Ninh Thuân, Thuin Hai, Vietnam', 'Nobeoka, Miyazaki', 'Nong Son, Quang Nam-Da Nang, Vietnam', 'Nueva York', 'Nông Cống', 'Orlando, Florida', 'Osakasayama-shi, Osaka, Japan', 'Paklay, Xaignabouli, Laos', 'Paris', 'Perth, Tây Úc', 'Phan Rang', 'Phan Rang - Tháp Chàm', 'Phan Rang-Tháp Chàm, Ninh Thuận, Vietnam', 'Phan Ranh, Ninh Thuận, Vietnam', 'Phan Ri Cua, Thuin Hai, Vietnam', 'Phan Rí, Thuin Hai, Vietnam', 'Phan Thiet', 'Phan Thiết', 'Phan Tiet, Bình Thuận, Vietnam', 'Phat Tich, Hi Bac, Vietnam', 'Phi Liêng, Lâm Ðồng, Vietnam', 'Philadelphia', 'Phnom Penh', 'Pho Ba Che, Quảng Ninh, Vietnam', 'Pho Binh Gia, Lạng Sơn, Vietnam', 'Pho Lu, Hoang Lien Son, Vietnam', 'Pho Ninh, Binh Tri Thien, Vietnam', 'Phong Nha, Binh Tri Thien, Vietnam', 'Phong Thổ', 'Phu Dien Chau, Nghệ An, Vietnam', 'Phu Giao', 'Phu Lang Thong, Bắc Giang, Vietnam', 'Phu Lang Thuong, Bắc Giang, Vietnam', 'Phu Luu, Hi Bac, Vietnam', 'Phu Ly', 'Phu My, An Giang, Vietnam', 'Phu My, Nghia Binh, Vietnam', 'Phu My, Vietnam', 'Phu Quoc, Kiến Giang, Vietnam', 'Phu Tho, Phú Thọ, Vietnam', 'Phu Van Ly, Ha Nam Ninh, Vietnam', 'Phu Vinh, An Giang, Vietnam', 'Phu-Kinh-Mon, Hai Hung, Vietnam', 'Phu-Li, Hà Nam, Vietnam', 'Phuc Loc, Vinh Phu, Vietnam', 'Phung Hiep', 'Phuoc An, Đắc Lắk, Vietnam', 'Phuoc Binh, Bìn Phước, Vietnam', 'Phuoc Binh, Hồ Chí Minh, Vietnam', 'Phuoc Buu, Vietnam', 'Phuoc Long, Kiến Giang, Vietnam', 'Phuoc Son, Quang Nam-Da Nang, Vietnam', 'Phuoc Tinh, Vietnam', 'Phuong Cuu, Thuin Hai, Vietnam', 'Phuong Lam, Vietnam', 'Phô Yén, Bac Thai, Vietnam', 'Phù Cát', 'Phù Ninh, Phù Ninh, Vietnam', 'Phù Yên', 'Phùng Khoang, Ha Noi, Vietnam', 'Phú Bình', 'Phú Giáo', 'Phú Lâm, Hồ Chí Minh, Vietnam', 'Phú Nhuận', 'Phú Quý', 'Phú Thiện', 'Phú Thọ', 'Phú Thọ (thị xã)', 'Phú Vang', 'Phú Xuyên, Ha Noi, Vietnam', 'Phú Yên, Ha Son Binh, Vietnam', 'Phúc Châu', 'Phúc Yên', 'Phụng Hiệp', 'Phủ Lý', \"Pingtunghsien, T'Ai-Wan, Taiwan\", 'Plei Bau Can, Gia Lai-Cong Tum, Vietnam', 'Plei Dông Lâm, Gia Lai-Cong Tum, Vietnam', 'Plei Kly, Gia Lai, Vietnam', 'Pleiku', 'Plây Cu, Gia Lai, Vietnam', 'Plây Ku, Gia Lai, Vietnam', 'Port Campha, Quảng Ninh, Vietnam', 'Praga', 'Quan Dak To, Kon Tum, Vietnam', 'Quan Hóa', 'Quan Hóa, Thanh Hóa, Vietnam', 'Quan Nhan, Ha Noi, Vietnam', 'Quang Lam, Hi Bac, Vietnam', 'Quang Linh, Ha Tuyen, Vietnam', 'Quang Nam, Quang Nam-Da Nang, Vietnam', 'Quang Ngai', 'Quang Ninh, Binh Tri Thien, Vietnam', 'Quat Lam, Ha Nam Ninh, Vietnam', 'Que Son, Quảng Nam, Vietnam', 'Qui Nhon, Bình Ðịnh, Vietnam', 'Quy Nhon', 'Quy Nhơn', 'Quynh Coi, Thái Bình, Vietnam', 'Quynh Di, Nghe Tinh, Vietnam', 'Quynh Luu, Nghệ An, Vietnam', 'Quảng Châu', 'Quảng Ngãi', 'Quảng Ngãi (thành phố)', 'Quảng Trạch', 'Quảng Trị', 'Quảng Trị (thị xã)', 'Quảng Yên, Quảng Ninh, Vietnam', 'Quận 11', 'Quận 4', 'Quận 8', 'Quận Năm, Quang Nam-Da Nang, Vietnam', 'Quế Phong', 'Quế Sơn', 'Quỳ Châu', 'Quỳ Hợp', 'Quỳnh Lưu', 'Quỳnh Nhai', 'Rach Gia', 'Rach Gia, Vietnam', 'Rach Soi, Kiến Giang, Vietnam', 'Raleigh, Bắc Carolina', 'Ras al-Khaimah', 'Roon, Binh Tri Thien, Vietnam', 'Rowlett, Texas', 'Rạch Giá', 'Sa Lung, Ha Nam Ninh, Vietnam', 'Sa Pa', 'Sa Đéc', 'Sabae, Fukui', 'Sai, Gongola, Nigeria', 'San Diego', 'San Francisco', 'San Jose, California', 'Santa Barbara, California', 'Sapareva Banya', 'Sasebo', 'Seattle, Washington', 'Seoul, Korea', 'Shibukawa, Gunma', 'Shimonoseki', 'Shinjuku', 'Singapore', 'Soc Son, Kiến Giang, Vietnam', 'Soc Trang', 'Son La', 'Son La Chau, Sơn La, Vietnam', 'Son Tay', 'Son, Norway', 'Song Phi Nong', 'Songkau, Phú Yên, Vietnam', 'Suoi Da, Tây Ninh, Vietnam', 'Suong', 'Surin, Thailand', 'Suối Dây, Tây Ninh, Vietnam', 'Sydney', 'Sài Gòn, Sóc Trăng, Vietnam', 'São Francisco', 'Sóc Trăng (Ort)', 'Sóc Trăng (thành phố)', 'Sông Cầu (thị xã)', 'Sông Mã', 'Sông Mã (huyện)', 'Sơn Dương', 'Sơn La', 'Sơn Tây (thị xã)', 'Sơn Tịnh', 'Sầm Sơn', 'Sốp Cộp', 'Tachikawa, Tokyo', 'Tai Nin, Tây Ninh, Vietnam', \"Tailaokeng, T'Ai-Pei, Taiwan\", 'Tam Ky', 'Tam Kỳ', 'Tam My (2), Quang Nam-Da Nang, Vietnam', 'Tam Quan, Bình Ðịnh, Vietnam', 'Tam Sóc, Sóc Trăng, Vietnam', 'Tam Điệp, Ninh Bình, Vietnam', 'Tam Đảo, Vĩnh Phúc, Vietnam', 'Tan Hoi, Ðồng Tháp, Vietnam', 'Tan Hop Xa, Binh Tri Thien, Vietnam', 'Tan Ky', 'Tan Lac Ly, Ha Nam Ninh, Vietnam', 'Tan Phu, Vietnam', 'Tan Phuoc', 'Tay Ho, Ha Noi, Vietnam', 'Te Le, Vinh Phu, Vietnam', 'Tha Sung, Udon Thani, Thailand', 'Thac Tri An, Vietnam', 'Than Uyên', 'Thanh Ba', 'Thanh Binh (1), Quang Nam-Da Nang, Vietnam', 'Thanh Bình, Ðồng Tháp, Vietnam', 'Thanh Chương', 'Thanh Hoa, Nghe Tinh, Vietnam', 'Thanh Hóa', 'Thanh Liet, Ha Noi, Vietnam', 'Thanh Liêm', 'Thanh Oai, Ha Son Binh, Vietnam', 'Thanh Pho Ho Chi Minh', 'Thanh Son', 'Thanh Son, Vinh Phu, Vietnam', 'Thanh Sơn', 'Thanh Thuy', 'Thanh Vân, Thanh Hóa, Vietnam', 'Thanâ\\x80? Hoa, Thanh Hóa, Vietnam', 'The Bronx', 'Thinh Liet, Hi Bac, Vietnam', 'Tho Tang, Ha Noi, Vietnam', 'Thon Nhu Ngoc, Thuin Hai, Vietnam', 'Thon Tu Thien, Thuin Hai, Vietnam', 'Thu Dau Mot', 'Thuan Chau', 'Thuong, Bắc Giang, Vietnam', 'Thuận Châu', 'Thuận Thành', 'Thành phố Benin', 'Thành phố Guatemala', 'Thành phố Hồ Chí Minh', 'Thành phố New York', 'Thái Bình', 'Thái Bình (thành phố)', 'Thái Bình, Ha Nam Ninh, Vietnam', 'Thái Bình, Thái Bình, Vietnam', 'Thái Hòa, Song Be, Vietnam', 'Thái Hõa, Nghệ An, Vietnam', 'Thái Nguyên', 'Thái Nguyên (cidade)', 'Thái Nguyên (thành phố)', 'Thái Thụy', 'Tháp Mười', 'Thôn Cam Ranh, Khánh Hòa, Vietnam', 'Thăng Bình', 'Thượng Hải', 'Thạnh Hóa', 'Thạnh Phong, Bến Tre, Vietnam', 'Thất Khê, Lạng Sơn, Vietnam', 'Thọ Xuân (huyện)', 'Thốt Nốt', 'Thủ Dầu Một', 'Thủ Đức, Hồ Chí Minh, Vietnam', 'Tien Yer, Quảng Ninh, Vietnam', 'Tinh Bien', 'Tinh Kontum, Kon Tum, Vietnam', 'Tinh Pleiku, Gia Lai, Vietnam', 'Tinh, Sóc Trăng, Vietnam', 'Tiên La, Hi Bac, Vietnam', 'Tiên Yên', 'Tiền Hải', 'Tiểu Cần', 'Tonami-shi, Toyama, Japan', 'Toshima', 'Tra Son, Quang Nam-Da Nang, Vietnam', 'Tra Tan, Thuin Hai, Vietnam', 'Tra Vinh', 'Tra Vinâ\\x80?, Trà Vinh, Vietnam', 'Trang Bach, Quảng Ninh, Vietnam', 'Trang Bom', 'Tri Tôn', 'Tri Tôn (thị trấn)', 'Trieu Khuc, Ha Noi, Vietnam', 'Triệu Phong', 'Trung Hòa, Vietnam', 'Trung Khanh Phu, Cao Bằng, Vietnam', 'Trà Cú', 'Trà My, Quang Nam-Da Nang, Vietnam', 'Trà Vinh', 'Trà Ôn', 'Trạm Giang', 'Trảng Bom', 'Trảng Bàng', 'Tu Son', 'Tu Son, Hi Bac, Vietnam', 'Tuan Giao', 'Tung Nghia, Lâm Ðồng, Vietnam', 'Tuong Duong', 'Tuy An, Phú Yên, Vietnam', 'Tuy Hoa', 'Tuy Hoa, Thuin Hai, Vietnam', 'Tuy Hòa', 'Tuy Phong', 'Tuy Phước', 'Tuyên Hóa', 'Tuyên Quang, Tuyên Quang, Vietnam', 'Tuần Giáo (thị trấn)', 'Tánh Linh, Bình Thuận, Vietnam', 'Tân An', 'Tân An, Long An', 'Tân Bắc', 'Tân Châu', 'Tân Kiên, Hồ Chí Minh, Vietnam', 'Tân Kỳ', 'Tân Phú', 'Tân Sơn Nhì, Hồ Chí Minh, Vietnam', 'Tân Trụ', 'Tân Uyên (huyện cũ)', 'Tây Hòa', 'Tây Hòa, Phú Yên', 'Tây Ninh', 'Tương Dương, Nghệ An', 'Tịnh Biên', 'Từ Sơn', 'Ufa, Russia', 'Ung Hoa, Ha Son Binh, Vietnam', 'Uông Bí', 'Van Tri, Ha Noi, Vietnam', 'Van Yen, Quảng Ninh, Vietnam', 'Van Ã?Ien, Hà Nội, Vietnam', 'Verona', 'Vieh Yen, Vĩnh Phúc, Vietnam', 'Vieng-Chan, Vientiane, Laos', 'Viet Tri', 'Vietri, Phú Thọ, Vietnam', 'Vigan', 'Vin, Nghệ An, Vietnam', 'Vinh', 'Vinh An, Vietnam', 'Vinh Ang, Nghe Tinh, Vietnam', 'Vinh Bao, Hải Phòng, Vietnam', 'Vinh Cuu', 'Vinh Hoa, Kiến Giang, Vietnam', 'Vinh Kim, Trà Vinh, Vietnam', 'Vinh Loc A', 'Vinh Loi', 'Vinh Loi (1), Nghia Binh, Vietnam', 'Vinh Long (cidade)', 'Vinh Phong, Kiến Giang, Vietnam', 'Vinh Phuc (1), Nghia Binh, Vietnam', 'Vinh Thuan (1), Kiến Giang, Vietnam', 'Vinh Yen', 'Vinh Yen, Nghia Binh, Vietnam', 'Vinh, Hi Bac, Vietnam', 'Viêng Chăn', 'Việt Trì', 'Việt Yên', 'Vo Dat, Thuin Hai, Vietnam', 'Vo Hoi, Thái Bình, Vietnam', 'Vo Ngai, Hai Hung, Vietnam', 'Vung Tau', 'Vàng Danh, Quảng Ninh, Vietnam', 'Võ Xu, Thuin Hai, Vietnam', 'Vĩnh Châu', 'Vĩnh Cửu, Đồng Nai', 'Vĩnh Hưng', 'Vĩnh Linh', 'Vĩnh Long', 'Vĩnh Long (thành phố)', 'Vĩnh Lộc', 'Vĩnh Phúc', 'Vĩnh Tường', 'Vĩnh Yên', 'Vũng Tàu', 'Vạn Ninh, Khánh Hòa', 'Vị Thanh', 'Vị Thủy', 'Vụ Bản', 'Wakō, Saitama', 'Warren, Michigan', 'Warszawa', 'Washington, D.C.', 'West Melbourne, Florida', 'Westchester, New York', 'Winnipeg', 'Wonju', 'Xa Dau Giay, Vietnam', 'Xa Hung Loc, Vietnam', 'Xa Long Son (1), Vietnam', 'Xa Minh Thanh, Song Be, Vietnam', 'Xa Phan Thiet, Bình Thuận, Vietnam', 'Xa Phuong Lam, Vietnam', 'Xa Song Luy, Thuin Hai, Vietnam', 'Xa Tho Thanh, Đắc Lắk, Vietnam', 'Xa Vinh Hoa, Vietnam', 'Xa Vung Tau, Bà Rịa-Vũng Tàu, Vietnam', 'Xom Ba Trai, Kiến Giang, Vietnam', 'Xom Gia Rai, Bạc Liêu, Vietnam', 'Xuan Tu, Phu Khanh, Vietnam', 'Xuyên Mộc', 'Xuân Hòa, Vĩnh Phúc, Vietnam', 'Xuân Lộc, Ðồng Nai, Vietnam', 'Xuân Mai', 'Xuân Trường', 'Xóm Cây Da, Song Be, Vietnam', 'Xóm Cây Gia, Tiền Giang, Vietnam', 'Xóm Pho, Hà Nội, Vietnam', 'Xóm �Ôi Chuong, Thanh Hóa, Vietnam', 'Yangsan', 'Yen Bai (cidade)', 'Yen Dinh, Thanh Hóa, Vietnam', 'Yen Lac, Hai Hung, Vietnam', 'Yen, Vĩnh Phúc, Vietnam', 'Yongin', 'Yên Bái', 'Yên Bái (thành phố)', 'Yên Bình Xã, Ha Tuyen, Vietnam', 'Yên Bình, Hoang Lien Son, Vietnam', 'Yên Cát, Thanh Hóa, Vietnam', 'Yên Lac, Ha Noi, Vietnam', 'Yên Lập', 'Yên Phong', 'Yên Phú, Ha Nam Ninh, Vietnam', 'Yên Thành', 'Ân Thi, Hưng Yên', 'Ã?A Nang, Ðà Nẵng, Vietnam', 'Ô Môn', 'Đan Phượng', 'Điện Biên Phủ', 'Điện Bàn', 'Đoan Hùng, Phú Thọ, Vietnam', 'Đà Lạt', 'Đà Nẵng', 'Đài Bắc', 'Đài Trung', 'Đông Hà', 'Đông Hòa, Phú Yên', 'Đại Lộc', 'Đại Từ', 'Đắk Mil', 'Đồng Hới', 'Đồng Xoài', 'Đức Hóa, Tuyền Châu', 'Ōsaka', 'Бакзянг (город)', 'Бакльеу', 'Бакнинь (город)', 'Бьенхоа', 'Винь', 'Виньйен', 'Виньлонг', 'Вунгтау', 'Далат', 'Дананг', 'Йенбай (город)', 'Кантхо', 'Каобанг (город)', 'Куинён', 'Митхо', 'Монгкай', 'Нячанг', 'Тхайнгуен', 'Тханьхоа', 'Тхузаумот', 'Тэйнинь (город)', 'Хайфон', 'Халонг (город)', 'Ханой', 'Хатьен', 'Хошимин', 'Чавинь (город)', 'Шокчанг', 'Шонла', 'بانكوك', 'تاويون', 'تو داو موت', 'جاكرتا', 'خاركيف', 'دا نانغ', 'دونج هوي (مدينة)', 'فنغ تاو', 'فينه', 'كن تاه', 'كوسبيكو', 'مدينة هو تشي منه', 'نها ترانج', 'ها فونغ', 'هانوي', 'กาวหลัญ', 'ดงห่า', 'ดานัง', 'ตามกี่', 'ท้ายเงวียน', 'นครโฮจิมินห์', 'นิญบิ่ญ', 'บวนมาถ็วต', 'บั๊กนิญ', 'ฟานเที้ยต', 'สักซ้า', 'หวุงเต่า', 'หายเซือง', 'ฮานอย', 'เกิ่นเทอ', 'เบียนฮหว่า', 'เปล็ยกู', 'ไฮฟอง', 'Ấp Bình Chánh (1), An Giang, Vietnam', 'Ấp Tân Phú, Vietnam', 'Ấp Tân Thành, Long An, Vietnam']\n",
      "1087\n",
      "#####################\n",
      "['A Luoi (1), Binh Tri Thien, Vietnam', 'Amphoe Muang Chon Buri, Chon Buri, Thailand', 'An Biên', 'An Duong, Hải Phòng, Vietnam', 'An Giang (4), Nghia Binh, Vietnam', 'An Hoa, Ðồng Tháp, Vietnam', 'An Khê, Gia Lai, Vietnam', 'An Nhơn', 'Angiang, An Giang, Vietnam', 'Angola, Indiana', 'Anh Son', 'Anh Sơn', 'Ap An Phu (2), An Giang, Vietnam', 'Ap Binh Duong (1), Vietnam', 'Ap Binh Ta (2), Long An, Vietnam', 'Ap Chanh (4), Long An, Vietnam', 'Ap Go Dau, Vietnam', 'Ap Phu Ly (2), Cuu Long, Vietnam', 'Ap Suoi Cat, Vietnam', 'Asaka, Saitama', 'Auckland', 'Australia Plains, South Australia, Australia', \"B'Sar Dong, Lâm Ðồng, Vietnam\", 'Ba Don', 'Ba Ria', 'Ba Vì, Ha Son Binh, Vietnam', 'Ba Đồn', 'Bac Can, Bắc Kạn, Vietnam', 'Bac Giang', 'Bac Giang (cidade)', 'Bac Lieu', 'Bac Ninh (cidade)', 'Bac Son, Lạng Sơn, Vietnam', 'Bach Lieu, Bạc Liêu, Vietnam', 'Bach Ma, Thừa Thiên-Huế, Vietnam', 'Bai Chay, Quảng Ninh, Vietnam', 'Ban Ea Phe, Đắc Lắk, Vietnam', \"Ban M'Drack, Đắc Lắk, Vietnam\", 'Ban Me Thuot, Đắc Lắk, Vietnam', 'Ban Nam Ca Dinh, Bolikhamxai, Laos', 'Bangkok', 'Bangkok, Jawa Tengah, Indonesia', 'Bao Loc', 'Bavet, Svay Rieng, Cambodia', 'Ben Cat', 'Ben Tre (cidade)', 'Ben, Bến Tre, Vietnam', 'Benguela, Benguela, Angola', 'Bhubaneswar', 'Bien Hoa', 'Bim Son', 'Binh Dinh, Nghia Binh, Vietnam', 'Binh Duong, Quang Nam-Da Nang, Vietnam', 'Binh Luc, Hà Nam, Vietnam', 'Binh Phuoc, Vietnam', 'Binh Son, Quảng Ngãi, Vietnam', 'Binh Thanh, Hồ Chí Minh, Vietnam', 'Biên Hòa', 'Bon Bu Bo Dak Nong, Đắc Lắk, Vietnam', 'Bon Yok Djou, Đắc Lắk, Vietnam', 'Boston, Massachusetts', 'Buon Me Thuot', 'Buon Trap, Đắc Lắk, Vietnam', 'Buôn Hô (1), Đắc Lắk, Vietnam', 'Buôn Hô (2), Đắc Lắk, Vietnam', 'Buôn Hô, Đắc Lắk, Vietnam', 'Buôn Ma Thuột', 'Buôn Ma Thuột, Đắc Lắk, Vietnam', 'Buôn Nui, Đắc Lắk, Vietnam', 'Bà Rịa', 'Bái Thượng, Thanh Hóa, Vietnam', 'Bát Trang, Ha Noi, Vietnam', 'Bình Chánh, Hồ Chí Minh, Vietnam', 'Bình Gia', 'Bình Long', 'Bình Long, Bìn Phước, Vietnam', 'Bình Nhâm, Song Be, Vietnam', 'Bình Đường', 'Bích Trì, Ha Nam Ninh, Vietnam', 'Bạc Liêu (thành phố)', 'Bảo Lộc', 'Bảo Yên', 'Bắc Bình', 'Bắc Giang (thành phố)', 'Bắc Kạn', 'Bắc Ninh', 'Bắc Ninh (thành phố)', 'Bắc Quang, Hà Giang, Vietnam', 'Bến Cát', 'Bến Lức', 'Bến Tre', 'Bố Trạch', 'Caen', 'Cai Lay', 'Cai Lậy (huyện)', 'Cai Rong, Quảng Ninh, Vietnam', 'Cai Tau Ha, Cuu Long, Vietnam', 'California City, California', 'Cam Lâm, Khánh Hòa, Vietnam', 'Cam Pha', 'Cam Pha Mines, Quảng Ninh, Vietnam', 'Cam Ranh', 'Cam Ranh Port, Khánh Hòa, Vietnam', 'Camo, Cà Mau, Vietnam', 'Can Lộc', 'Can Thanh, An Giang, Vietnam', 'Can Thanh, Hồ Chí Minh, Vietnam', 'Can Tho', 'Cao Bang', 'Cao Bằng', 'Cao Lãnh', 'Catumbella, Benguela, Angola', 'Chau Phú, An Giang, Vietnam', 'Chaudok, An Giang, Vietnam', 'Cho Do Luong, Nghệ An, Vietnam', 'Cho Moi, An Giang', 'Cho Moi, Hồ Chí Minh, Vietnam', 'Chu Lai, Quang Nam-Da Nang, Vietnam', 'Châu Phú', 'Châu Thành, Tiền Giang, Vietnam', 'Châu Thành, Trà Vinh, Vietnam', 'Chơn Thành', 'Chợ Gạo', 'Chợ Lách', 'Chợ Mới', 'Cidade de Ho Chi Minh', 'Cingapura', 'Ciudad Ho Chi Minh', 'Con Cuông', 'Cua Tung, Binh Tri Thien, Vietnam', 'Cà Mau', 'Cái Bè', 'Cô Tô, Tri Tôn', 'Cần Giờ, Hồ Chí Minh, Vietnam', 'Cần Thơ', 'Cần Đước', 'Cầu Ngang', 'Cẩm Khê', 'Cẩm Mỹ', 'Cẩm Phả', 'Cẩm Phả Port, Quảng Ninh, Vietnam', 'Cẩm Thủy', 'Củ Chi, Hồ Chí Minh, Vietnam', 'Cửa Lò', 'Da Dang, Quang Nam-Da Nang, Vietnam', 'Da Lat', 'Da Nang', 'Da Nang, Vietnam', 'Daegu', 'Dak Mil', 'Dalat, Pool, Congo', 'Dalat, Sarawak', 'Dallas', 'Dalton, Georgia', 'Di An', 'Di Linh', 'Dien Chau', 'Diên Khánh', 'Diên Khánh, Khánh Hòa, Vietnam', 'Diễn Châu', 'Do Hai, Hải Phòng, Vietnam', 'Don Dang, Lạng Sơn, Vietnam', 'Dong Ha', 'Dong Huong, Thanh Hóa, Vietnam', 'Dong Thap, Hoang Lien Son, Vietnam', 'Dong Xoai', 'Dubail, Rājshāhi, Bangladesh', 'Duclair', 'Duy Xuyên', 'Dĩ An', 'Dầu Tiếng', 'Fukaya', 'Fukuoka-shi, Fukuoka, Japan', 'Funabashi, Chiba', 'Gia Kiem, Vietnam', 'Gia Lai, Gia Lai, Vietnam', 'Gia Lâm', 'Gia Lộc', 'Gia Nghĩa', 'Giang Thon, Hi Bac, Vietnam', 'Giao Thủy', 'Gio Linh', 'Giồng Riềng', 'Gò Công', 'Gò Dầu Hạ, Tây Ninh, Vietnam', 'Gò Vấp', 'Ha Coi, Quảng Ninh, Vietnam', 'Ha Dong', 'Ha Lam, Quảng Ninh, Vietnam', 'Ha Loi, Ha Noi, Vietnam', 'Ha Long', \"Ha Tin', Hà Tĩnh, Vietnam\", 'Ha Vi, Ha Noi, Vietnam', 'Ha-Nam, Hà Nam, Vietnam', 'Hai Dzung, Hải Dương, Vietnam', 'Haidöng, Hải Dương, Vietnam', 'Haiphong', 'Haiphong, Hải Phòng, Vietnam', 'Hanoi', 'Hanoi, Vietnam', 'Hanói', 'Himeji', 'Ho Chi Minh City, Vietnam', 'Ho Chi Minh Kenti', 'Ho-Chi-Minh-Stadt', 'Hoa Binh, An Giang, Vietnam', 'Hoa Dong, Tiền Giang, Vietnam', 'Hoa Loc, Thanh Hóa, Vietnam', 'Hoai Duc Phu, Ha Noi, Vietnam', 'Hoi An, Quang Nam-Da Nang, Vietnam', 'Hon Gai, Quảng Ninh, Vietnam', 'Houston, Texas', 'Hoài Nhon, Bình Ðịnh, Vietnam', 'Hoài Ân, Bình Ðịnh, Vietnam', 'Hoằng Hóa', 'Hsinchu, Taiwan', 'Hue, Vietnam', 'Hung Long, Nghe Tinh, Vietnam', 'Hung Yen, Hưng Yên, Vietnam', 'Huong Canh, Vinh Phu, Vietnam', 'Huong Hoa, Quảng Trị, Vietnam', 'Huu An, Tiền Giang, Vietnam', 'Huyện Thạnh Trị, Bạc Liêu, Vietnam', 'Huế', 'Hà Giang', 'Hà Giang (thành phố)', 'Hà Nội', 'Hà Tiên', 'Hà Tây, Binh Tri Thien, Vietnam', 'Hà Tây, Nghia Binh, Vietnam', 'Hà Tĩnh', 'Hà Tĩnh (thành phố)', 'Hà Đông', 'Hàm Tân', 'Hàm Yên', 'Hòa Bình, Hòa Bình, Vietnam', 'Hòa Dinh, Ha Nam Ninh, Vietnam', 'Hóc Môn, Hồ Chí Minh, Vietnam', 'Hương Bá Thước, Thanh Hóa, Vietnam', 'Hương Khê, Hà Tĩnh, Vietnam', 'Hương Lang Chánh, Thanh Hóa, Vietnam', 'Hương Trà', 'Hương Tân Lạc, Hòa Bình, Vietnam', 'Hạ Hòa', 'Hạ Long (thành phố)', 'Hải Dương', 'Hải Dương (thành phố)', 'Hải Hậu', 'Hải Phòng', 'Hậu Lộc', 'Hồng Ngự (thị xã)', 'Hội An', 'Hữu Lũng', 'Janpan, Kachin State, Burma', 'Kampong Cham', 'Katum, Tây Ninh, Vietnam', 'Ke Sat, Hai Hung, Vietnam', 'Khanh Hoa, Khánh Hòa, Vietnam', 'Khê Mao, Quảng Ninh, Vietnam', 'Kien Luong', 'Kim Bang, Ha Nam Ninh, Vietnam', 'Kim Mã, Ha Noi, Vietnam', 'Kim Sơn, Lục Ngạn', 'Kirov (tỉnh Kirov)', 'Kobe-shi, Hyogo, Japan', 'Komaki', 'Kon Tum (thành phố)', 'Kon Tum, Kon Tum, Vietnam', \"Korea, Al Istiwa'Iyah, South Sudan\", 'Kuala Lumpur', 'Kwang Ngai, Quảng Ngãi, Vietnam', 'Ky Son, Nghệ An, Vietnam', 'Kỳ Anh', 'Lac Son, Hòa Bình, Vietnam', 'Lagi, Thuin Hai, Vietnam', 'Lai Chau', 'Lai Vung', 'Lak, Đắc Lắk, Vietnam', 'Lang Que Nho, Thanh Hóa, Vietnam', 'Lang Son (cidade)', 'Lang Son, Vinh Phu, Vietnam', 'Lao Bao', 'Laokai, Lào Cai, Vietnam', 'Las Vegas, Nevada', 'Le Thuy, Quảng Bình, Vietnam', 'Linh Xuân', 'Liên Chiểu', 'Local, Missouri', 'Long An, Tiền Giang, Vietnam', 'Long Hai, Vietnam', 'Long Khanh', 'Long Khánh', 'Long My, Cẩn Thỏ, Vietnam', 'Long Thanh', 'Long Thành', 'Long Xuyên', 'Long Điền', 'Luc Nam', 'Luong Son, Hòa Bình, Vietnam', 'Luân Đôn', 'Là Ngà, Vietnam', 'Lào Cai', 'Lào Cai (thành phố)', 'Lái Thiêu', 'Lâm Hà', 'Lâm Thao', 'Lý Hòa, Binh Tri Thien, Vietnam', 'Lương Bình', 'Lạc Thủy', 'Lạng Sơn', 'Lấp Vò', 'Lập Thạch', 'Lộc Bình', 'Lục Ngạn', 'Lục Yên', 'Ma Cao', 'Madagui, Vietnam', 'Mai Châu', 'Manchester', 'Manchester (New Hampshire)', 'Manila', 'Mao Khe, Vietnam', 'Mau Lam, Thanh Hóa, Vietnam', 'Moc Chau', 'Mokpo', 'Moskva', 'Muong Lay, Lai Châu, Vietnam', 'My Hoi, Tiền Giang, Vietnam', 'My Thanh, Nghia Binh, Vietnam', 'My Tho', 'Mâ\\x80?Kar Da Te, Lâm Ðồng, Vietnam', 'Móng Cái', 'Móng Cái, Vietnam', 'Mù Cang Chải', 'Mộc Châu', 'Mộc Hóa', 'Mỹ Hào', 'Mỹ Tho', 'Na Hang', 'Na Noi, Ha Son Binh, Vietnam', 'Nagano (cidade)', 'Nagoya-shi, Aichi, Japan', 'Nam Can, Minh Hai, Vietnam', 'Nam Trực', 'Nam Định, Nam Định, Vietnam', 'Nam �Àn, Nghệ An, Vietnam', 'Nerima, Tokyo', 'Ngai Giao, Vietnam', 'Nganan, Mandalay, Burma', 'Nghi Lộc', 'Nghi Sơn, Thanh Hóa, Vietnam', 'Nghia Lo', 'Nghĩa Hưng', 'Nha Long, Thái Nguyên, Vietnam', 'Nha Trang', 'Nho Quan, Ninh Bình, Vietnam', 'Nhà Bàng, An Giang, Vietnam', 'Nhà Bè, Hồ Chí Minh, Vietnam', 'Nhân Son (1), Nghe Tinh, Vietnam', 'Nhơn Trạch', 'Ninbinh, Ninh Bình, Vietnam', 'Ninh Bình', 'Ninh Bình (thành phố)', 'Ninh Bình, Phu Khanh, Vietnam', 'Ninh Hòa, Khánh Hòa, Vietnam', 'Nong Cong', 'Nong Son, Quang Nam-Da Nang, Vietnam', 'Năm Căn (thị trấn)', 'Omihachiman-shi, Shiga, Japan', 'Oslo', 'Pathum Thani (thị xã)', 'Pha Le, Hải Phòng, Vietnam', 'Phan Rang', 'Phan Rang - Tháp Chàm', 'Phan Rang-Tháp Chàm, Ninh Thuận, Vietnam', 'Phan Ranh, Ninh Thuận, Vietnam', 'Phan Ri Cua, Thuin Hai, Vietnam', 'Phan Thiet', 'Phan Thiết', 'Phi Liêng, Lâm Ðồng, Vietnam', 'Phnôm Pênh', 'Pho Ba Che, Quảng Ninh, Vietnam', 'Pho Binh Gia, Lạng Sơn, Vietnam', 'Phoenix, Arizona', 'Phu Dien Chau, Nghệ An, Vietnam', 'Phu Giáo, Vietnam', 'Phu Huu, Vietnam', 'Phu Lang Thong, Bắc Giang, Vietnam', 'Phu Ly', 'Phu My (1), Nghia Binh, Vietnam', 'Phu My, An Giang, Vietnam', 'Phu My, Nghia Binh, Vietnam', 'Phu My, Vietnam', 'Phu Ninh, Vietnam', 'Phu Quoc, Kiến Giang, Vietnam', 'Phu Tho, Phú Thọ, Vietnam', 'Phu Thu, Vietnam', 'Phu Van Ly, Ha Nam Ninh, Vietnam', 'Phung Hiep', 'Phuoc Binh, Bìn Phước, Vietnam', 'Phuoc Lai, Vietnam', 'Phuoc Son, Quang Nam-Da Nang, Vietnam', 'Phô Yén, Bac Thai, Vietnam', 'Phù Cát', 'Phù Yên', 'Phú Hòa, Phú Yên', 'Phú Nhuận', 'Phú Phong, Bình Ðịnh, Vietnam', 'Phú Quý', 'Phú Thọ', 'Phú Thọ (thị xã)', 'Phú Túc, Gia Lai, Vietnam', 'Phú Xuyên, Ha Noi, Vietnam', 'Phúc Yên', 'Phố Bến Sung, Thanh Hóa, Vietnam', 'Phụng Hiệp', 'Phủ Lý', 'Pleiku', 'Port Campha, Quảng Ninh, Vietnam', 'Praha', 'Pác Nặm', 'Quang Nam, Quang Nam-Da Nang, Vietnam', 'Quang Ngai', 'Quang Ninh, Binh Tri Thien, Vietnam', 'Qui Nhon, Bình Ðịnh, Vietnam', 'Quy Nhon', 'Quy Nhơn', 'Quynh Luu', 'Quynh Luu, Nghệ An, Vietnam', 'Quản Bạ', 'Quảng Châu', 'Quảng Ngãi', 'Quảng Ngãi (thành phố)', 'Quảng Trị', 'Quảng Trị (thị xã)', 'Quảng Yên, Quảng Ninh, Vietnam', 'Quận Đào Viên', 'Quỳ Hợp', 'Quỳnh Lôi', 'Quỳnh Lưu', 'Rach Gia', 'Rach Gia, Vietnam', 'Rach Soi, Kiến Giang, Vietnam', 'Rạch Giá', 'Sa Pa', 'Sa Đéc', 'San Francisco', 'San Jose, California', 'Santo Domingo', 'Seoul, Korea', 'Singapore', 'Soc Son, Kiến Giang, Vietnam', 'Soc Trang', 'Son La', 'Son La Chau, Sơn La, Vietnam', 'Son Tay', 'Songkau, Phú Yên, Vietnam', 'Sydney', 'Sài Gòn, Sóc Trăng, Vietnam', 'Sóc Trăng (thành phố)', 'Sông Cầu (thị xã)', 'Sơn La', 'Sơn Tây (thị xã)', 'Tam Ky', 'Tam Kỳ', 'Tam Đảo, Vĩnh Phúc, Vietnam', 'Tan Binh, An Giang, Vietnam', 'Tan Binh, Ðồng Tháp, Vietnam', 'Tan Hiep, Tiền Giang, Vietnam', 'Tan Phu, Vietnam', 'Tan Tao, Hồ Chí Minh, Vietnam', 'Tay Dang, Ha Noi, Vietnam', 'Tay Ho, Ha Noi, Vietnam', 'Teurlang Dong, Lâm Ðồng, Vietnam', 'Than Uyên', 'Thanh Ba', 'Thanh Bình, Ðồng Tháp, Vietnam', 'Thanh Chương', 'Thanh Hóa', 'Thanh Khê', 'Thanh Oai, Ha Son Binh, Vietnam', 'Thanh Son, Vinh Phu, Vietnam', 'Thanh Sơn', 'Thanh-Nhan, Ha Noi, Vietnam', 'Thien Giao, Bình Thuận, Vietnam', 'Thieu Hoa', 'Thiệu Hóa', 'Tho Tang, Ha Noi, Vietnam', 'Thu Dau Mot', 'Thuan Chau', 'Thuong, Bắc Giang, Vietnam', 'Thuy Khue, Ha Noi, Vietnam', 'Thuận Thành', 'Thành phố Carson, Nevada', 'Thành phố Hồ Chí Minh', 'Thành phố New York', 'Thác Bà, Yên Bái, Vietnam', 'Thái Bình', 'Thái Bình (thành phố)', 'Thái Bình, Thái Bình, Vietnam', 'Thái Hõa, Nghệ An, Vietnam', 'Thái Nguyên', 'Thái Nguyên (cidade)', 'Thái Nguyên (thành phố)', 'Tháp Mười', 'Thânh Liêm, Ha Nam Ninh, Vietnam', 'Thạch Thành', 'Thốt Nốt', 'Thủ Dầu Một', 'Thủ Đức, Hồ Chí Minh, Vietnam', 'Tinh Pleiku, Gia Lai, Vietnam', 'Tra Vinh', 'Tri Tôn (thị trấn)', 'Triều Châu', 'Trung Khanh Phu, Cao Bằng, Vietnam', 'Trà My, Quang Nam-Da Nang, Vietnam', 'Trà Vinh', 'Tràm Chim, Ðồng Tháp, Vietnam', 'Trảng Bom', 'Tu Ly, Ha Son Binh, Vietnam', 'Tu Son, Hi Bac, Vietnam', 'Tu Ã?Oan, Lạng Sơn, Vietnam', 'Tung Nghia, Lâm Ðồng, Vietnam', 'Tuong Duong', 'Tuy An, Phú Yên, Vietnam', 'Tuy Hoa', 'Tuy Hòa', 'Tuy Phong', 'Tuy Phuoc', 'Tuyên Quang, Tuyên Quang, Vietnam', 'Tân An', 'Tân An, Long An', 'Tân Châu', 'Tân Kỳ', 'Tân Phú', 'Tân Quang, Lục Ngạn', 'Tân Thành', 'Tân Thới Hiệp', 'Tân Uyên', 'Tân Uyên (huyện cũ)', 'Tây Hòa, Phú Yên', 'Tây Ninh', 'Tương Dương, Nghệ An', 'Tịnh Biên', 'Từ Sơn', 'Ufa, Russia', 'Ulsan', 'Ung Hoa, Ha Son Binh, Vietnam', 'Uông Bí', 'Van Hoi, Vinh Phu, Vietnam', 'Van Ninh', 'Vi Thanh', 'Viet Tri', 'Vietri, Phú Thọ, Vietnam', 'Vin, Nghệ An, Vietnam', 'Vinh', 'Vinh Bao, Hải Phòng, Vietnam', 'Vinh Chau', 'Vinh Cuu', 'Vinh Tu, Ha Nam Ninh, Vietnam', 'Vinh Yen', 'Viêng Chăn', 'Việt Trì', 'Vladivostok', 'Vo Ngai, Hai Hung, Vietnam', 'Vung Tau', 'Vân Canh (1), Bình Ðịnh, Vietnam', 'Vĩnh Linh', 'Vĩnh Long', 'Vĩnh Long (thành phố)', 'Vĩnh Lộc', 'Vĩnh Phúc', 'Vĩnh Yên', 'Vũ Quang (huyện)', 'Vũng Liêm', 'Vũng Tàu', 'Vạn Ninh, Khánh Hòa', 'Vị Thanh', 'Wuhan', 'Xa Phan Thiet, Bình Thuận, Vietnam', 'Xa Vung Tau, Bà Rịa-Vũng Tàu, Vietnam', 'Xuan Dinh, Ha Noi, Vietnam', 'Xuan Truong', 'Xuyên Mộc', 'Xuân Canh, Ha Noi, Vietnam', 'Xuân Hòa, Vĩnh Phúc, Vietnam', 'Xuân Lộc, Ðồng Nai, Vietnam', 'Xuân Trường', 'Xã Gia Kiêm, Vietnam', 'Xóm Chu Chi, Minh Hai, Vietnam', 'Yen Dinh, Thanh Hóa, Vietnam', 'Yen, Vĩnh Phúc, Vietnam', 'Yên Bài, Ha Noi, Vietnam', 'Yên Bái', 'Yên Bái (thành phố)', 'Yên Lập', 'Yên Thành', 'Ân Thi, Hưng Yên', 'Ã?Ong Trieu, Quảng Ninh, Vietnam', 'Ô Môn', 'Úc Lý, Ha Son Binh, Vietnam', 'Điện Biên Phủ', 'Điện Bàn', 'Đà Lạt', 'Đà Nẵng', 'Đài Bắc', 'Đông Hà', 'Đại Lộc', 'Đắk Mil', 'Đồng Hới', 'Đồng Xoài', 'Ōsaka', 'Винь', 'Дьенбьенфу', 'Иокогама', 'Йенбай (город)', 'Каолань', 'Куангнгай', 'Куинён', 'Лонгсюен', 'Ниньбинь (город)', 'Тхайнгуен', 'Фанранг-Тхаптям', 'Хайзыонг', 'Халонг (город)', 'Ханой', 'Хошимин', 'Хюэ', 'Чавинь (город)', 'تو داو موت', 'دا نانغ', 'دونج هوي (مدينة)', 'سنغافورة', 'غريسون', 'فنغ تاو', 'فينه', 'كن تاه', 'مارسيليا', 'مانشستر', 'مدينة هو تشي منه', 'موسكو', 'نها ترانج', 'ها فونغ', 'هانوي', 'กาวบั่ง', 'นครโฮจิมินห์', 'บวนมาถ็วต', 'บั๊กนิญ', 'ฮานอย', 'เกิ่นเทอ', 'เหวียตจี่', 'ไฮฟอง', 'Ấp Gia Lộc, Tây Ninh, Vietnam', 'Ấp Lạc Lâm, Lâm Ðồng, Vietnam', 'Ấp Mỹ Th, Tiền Giang, Vietnam', 'Ấp Tân Hòa, Cà Mau, Vietnam', '�Ó Nhât, Ha Noi, Vietnam']\n",
      "657\n",
      "188\n",
      "['Amphoe Muang Chon Buri, Chon Buri, Thailand', 'An Hoa, Ðồng Tháp, Vietnam', 'Angola, Indiana', 'Ap An Phu (2), An Giang, Vietnam', 'Ap Binh Ta (2), Long An, Vietnam', 'Ap Chanh (4), Long An, Vietnam', 'Ap Go Dau, Vietnam', 'Ap Phu Ly (2), Cuu Long, Vietnam', 'Ap Suoi Cat, Vietnam', 'Asaka, Saitama', 'Auckland', 'Australia Plains, South Australia, Australia', 'Ba Don', 'Bach Lieu, Bạc Liêu, Vietnam', 'Ban Ea Phe, Đắc Lắk, Vietnam', 'Ban Nam Ca Dinh, Bolikhamxai, Laos', 'Bangkok', 'Bangkok, Jawa Tengah, Indonesia', 'Bavet, Svay Rieng, Cambodia', 'Ben Cat', 'Bhubaneswar', 'Bon Yok Djou, Đắc Lắk, Vietnam', 'Boston, Massachusetts', 'Buôn Hô (2), Đắc Lắk, Vietnam', 'Bình Gia', 'Bình Đường', 'Bích Trì, Ha Nam Ninh, Vietnam', 'Bố Trạch', 'Caen', 'Cam Pha Mines, Quảng Ninh, Vietnam', 'Can Lộc', 'Can Thanh, An Giang, Vietnam', 'Can Thanh, Hồ Chí Minh, Vietnam', 'Catumbella, Benguela, Angola', 'Châu Phú', 'Chợ Lách', 'Cingapura', 'Cua Tung, Binh Tri Thien, Vietnam', 'Cần Giờ, Hồ Chí Minh, Vietnam', 'Cầu Ngang', 'Cẩm Thủy', 'Daegu', 'Dalton, Georgia', 'Dien Chau', 'Do Hai, Hải Phòng, Vietnam', 'Don Dang, Lạng Sơn, Vietnam', 'Dong Huong, Thanh Hóa, Vietnam', 'Dubail, Rājshāhi, Bangladesh', 'Duclair', 'Fukaya', 'Funabashi, Chiba', 'Giang Thon, Hi Bac, Vietnam', 'Ha Dong', 'Ha Vi, Ha Noi, Vietnam', 'Haidöng, Hải Dương, Vietnam', 'Himeji', 'Hoa Binh, An Giang, Vietnam', 'Hoa Dong, Tiền Giang, Vietnam', 'Hoa Loc, Thanh Hóa, Vietnam', 'Houston, Texas', 'Hung Long, Nghe Tinh, Vietnam', 'Hà Tây, Binh Tri Thien, Vietnam', 'Hương Trà', 'Hậu Lộc', 'Janpan, Kachin State, Burma', 'Kim Sơn, Lục Ngạn', 'Kirov (tỉnh Kirov)', 'Komaki', \"Korea, Al Istiwa'Iyah, South Sudan\", 'Lak, Đắc Lắk, Vietnam', 'Lang Que Nho, Thanh Hóa, Vietnam', 'Lang Son, Vinh Phu, Vietnam', 'Linh Xuân', 'Liên Chiểu', 'Local, Missouri', 'Long My, Cẩn Thỏ, Vietnam', 'Long Thanh', 'Luc Nam', 'Lương Bình', 'Lộc Bình', 'Lục Yên', 'Ma Cao', 'Madagui, Vietnam', 'Manchester (New Hampshire)', 'Manila', 'Mau Lam, Thanh Hóa, Vietnam', 'Moskva', 'My Hoi, Tiền Giang, Vietnam', 'My Thanh, Nghia Binh, Vietnam', 'Mâ\\x80?Kar Da Te, Lâm Ðồng, Vietnam', 'Na Hang', 'Nagano (cidade)', 'Nerima, Tokyo', 'Nganan, Mandalay, Burma', 'Nghia Lo', 'Nghĩa Hưng', 'Nha Long, Thái Nguyên, Vietnam', 'Nhân Son (1), Nghe Tinh, Vietnam', 'Nong Cong', 'Năm Căn (thị trấn)', 'Omihachiman-shi, Shiga, Japan', 'Oslo', 'Pathum Thani (thị xã)', 'Pha Le, Hải Phòng, Vietnam', 'Phnôm Pênh', 'Phoenix, Arizona', 'Phu Giáo, Vietnam', 'Phu Huu, Vietnam', 'Phu My (1), Nghia Binh, Vietnam', 'Phu Ninh, Vietnam', 'Phu Thu, Vietnam', 'Phuoc Lai, Vietnam', 'Phú Hòa, Phú Yên', 'Phú Phong, Bình Ðịnh, Vietnam', 'Phú Túc, Gia Lai, Vietnam', 'Phố Bến Sung, Thanh Hóa, Vietnam', 'Praha', 'Pác Nặm', 'Quynh Luu', 'Quản Bạ', 'Quận Đào Viên', 'Quỳnh Lôi', 'Santo Domingo', 'Tan Binh, An Giang, Vietnam', 'Tan Binh, Ðồng Tháp, Vietnam', 'Tan Hiep, Tiền Giang, Vietnam', 'Tan Tao, Hồ Chí Minh, Vietnam', 'Tay Dang, Ha Noi, Vietnam', 'Teurlang Dong, Lâm Ðồng, Vietnam', 'Thanh Khê', 'Thanh-Nhan, Ha Noi, Vietnam', 'Thien Giao, Bình Thuận, Vietnam', 'Thieu Hoa', 'Thiệu Hóa', 'Thuy Khue, Ha Noi, Vietnam', 'Thành phố Carson, Nevada', 'Thác Bà, Yên Bái, Vietnam', 'Thânh Liêm, Ha Nam Ninh, Vietnam', 'Thạch Thành', 'Triều Châu', 'Tràm Chim, Ðồng Tháp, Vietnam', 'Tu Ly, Ha Son Binh, Vietnam', 'Tu Ã?Oan, Lạng Sơn, Vietnam', 'Tuy Phuoc', 'Tân Quang, Lục Ngạn', 'Tân Thành', 'Tân Thới Hiệp', 'Tân Uyên', 'Ulsan', 'Van Hoi, Vinh Phu, Vietnam', 'Van Ninh', 'Vi Thanh', 'Vinh Chau', 'Vinh Tu, Ha Nam Ninh, Vietnam', 'Vladivostok', 'Vân Canh (1), Bình Ðịnh, Vietnam', 'Vũ Quang (huyện)', 'Vũng Liêm', 'Wuhan', 'Xuan Dinh, Ha Noi, Vietnam', 'Xuan Truong', 'Xuân Canh, Ha Noi, Vietnam', 'Xã Gia Kiêm, Vietnam', 'Xóm Chu Chi, Minh Hai, Vietnam', 'Yên Bài, Ha Noi, Vietnam', 'Ã?Ong Trieu, Quảng Ninh, Vietnam', 'Úc Lý, Ha Son Binh, Vietnam', 'Дьенбьенфу', 'Иокогама', 'Каолань', 'Куангнгай', 'Лонгсюен', 'Ниньбинь (город)', 'Фанранг-Тхаптям', 'Хайзыонг', 'Хюэ', 'سنغافورة', 'غريسون', 'مارسيليا', 'مانشستر', 'موسكو', 'กาวบั่ง', 'เหวียตจี่', 'Ấp Gia Lộc, Tây Ninh, Vietnam', 'Ấp Lạc Lâm, Lâm Ðồng, Vietnam', 'Ấp Mỹ Th, Tiền Giang, Vietnam', 'Ấp Tân Hòa, Cà Mau, Vietnam', '�Ó Nhât, Ha Noi, Vietnam']\n"
     ]
    }
   ],
   "source": [
    "\n",
    "f =  \"currentLocationName\"\n",
    "vc1 = sorted(df_train[f].value_counts().index)\n",
    "print(vc1)\n",
    "print(len(vc1))\n",
    "print(\"#####################\")\n",
    "vc2 = sorted(df_test[f].value_counts().index)\n",
    "print(vc2)\n",
    "print(len(vc2))\n",
    "a = []\n",
    "for i in vc2:\n",
    "    if i not in vc1:\n",
    "        a.append(i)\n",
    "print(len(a))\n",
    "print(a)\n"
   ]
  },
  {
   "cell_type": "code",
   "execution_count": 396,
   "metadata": {
    "ExecuteTime": {
     "end_time": "2020-07-29T09:37:11.098247Z",
     "start_time": "2020-07-29T09:37:10.841345Z"
    }
   },
   "outputs": [],
   "source": [
    "df_transform = pd.concat([df_train.iloc[:,2:], df_test.iloc[:,1:]], axis = 0)"
   ]
  },
  {
   "cell_type": "code",
   "execution_count": 343,
   "metadata": {
    "ExecuteTime": {
     "end_time": "2020-07-29T09:21:21.961644Z",
     "start_time": "2020-07-29T09:21:21.955926Z"
    }
   },
   "outputs": [],
   "source": [
    "data_type = {\n",
    "    \"cat_num\":[\"Field_22\",\"Field_13\", \"Field_41\", \"Field_42\",\"Field_50\", \"Field_51\", \"Field_53\",\\\n",
    "               \"Field_73\",  \"partner0_A\", \"partner0_B\", \"partner0_C\", \"partner0_D\", \"partner0_E\",\\\n",
    "               \"partner0_F\", \"partner0_G\", \"partner0_H\", \"partner1_A\", \"partner1_C\", \"partner1_G\", \"partner1_H\",\\\n",
    "               \"partner2_A\", \"partner2_C\", \"partner2_D\", \"partner2_F\", \"partner2_H\",\"partner3_A\", \"partner3_D\",\\\n",
    "               \"partner3_E\", \"partner4_L\", \"partner5_A\", \"partner5_D\", \"partner5_G\", \"Field_3\", \"Field_38\"],\n",
    "    \n",
    "    \"cat_str\" : [\"Field_4\", \"Field_12\",\"Field_36\", \"Field_54\", \"Field_62\",\"Field_65\",\"Field_66\",\\\n",
    "                 \"info_social_sex\", \"brief\", \"gioiTinh\",\"currentLocationState\", \"Field_61\", \\\n",
    "                 \"currentLocationCountry\", 'homeTownState', 'data.basic_info.locale',\\\n",
    "                \"homeTownCountry\", \"Field_55\"], \n",
    "    \n",
    "    \"date\" : [\"Field_1\", \"Field_2\", \"Field_5\", \"Field_6\", \"Field_7\", \"Field_8\", \"Field_9\", \"Field_11\",\\\n",
    "             \"Field_15\", \"Field_25\", \"Field_32\", \"Field_33\", \"Field_35\", \"Field_40\",\"Field_43\", \"Field_44\", \\\n",
    "              \"F_startDate\", \"F_endDate\", \"E_startDate\", \"E_endDate\", \"C_startDate\",\n",
    "             \"C_endDate\", \"G_startDate\", \"G_endDate\", \"A_startDate\", \"A_endDate\", \"ngaySinh\", \"Field_34\"],\n",
    "    \n",
    "    \"address\" : [\"Field_45\", \"Field_48\", \"Field_49\", \"Field_56\", 'homeTownName', \"currentLocationCity\", \\\n",
    "                 \"homeTownCity\", \"diaChi\", \"currentLocationName\"],\n",
    "    \n",
    "    \"drop\" : [\"maCv\", \"Field_18\", \"Field_68\", \"Field_46\"]\n",
    "}"
   ]
  },
  {
   "cell_type": "code",
   "execution_count": 395,
   "metadata": {
    "ExecuteTime": {
     "end_time": "2020-07-29T09:37:06.876249Z",
     "start_time": "2020-07-29T09:37:06.870757Z"
    }
   },
   "outputs": [],
   "source": [
    "lst = data_type[\"cat_num\"] + data_type[\"cat_str\"] + data_type[\"date\"] + data_type[\"address\"] + data_type[\"drop\"]"
   ]
  },
  {
   "cell_type": "code",
   "execution_count": 345,
   "metadata": {
    "ExecuteTime": {
     "end_time": "2020-07-29T09:21:26.481961Z",
     "start_time": "2020-07-29T09:21:25.788572Z"
    }
   },
   "outputs": [
    {
     "name": "stdout",
     "output_type": "stream",
     "text": [
      "Field_1 : 28806 : Index(['2017-03-24T20:10:37.62Z', '2017-03-03T16:24:30.39Z',\n",
      "       '2017-03-03T15:43:40.733Z', '2017-03-24T12:57:56.98Z',\n",
      "       '2019-10-01T03:47:12Z', '2017-02-18T08:10:31.723Z',\n",
      "       '2017-03-17T12:23:21.407Z', '2017-03-24T12:12:43.177Z',\n",
      "       '2017-03-17T14:10:42.647Z', '2017-02-11T00:39:44.317Z'],\n",
      "      dtype='object')\n",
      "Field_2 : 24268 : Index(['2017-03-24T20:10:37.62Z', '2017-03-03T16:24:30.39Z',\n",
      "       '2017-03-03T15:43:40.733Z', '2017-03-24T12:57:56.98Z',\n",
      "       '2017-02-18T08:10:31.723Z', '2017-03-17T12:23:21.407Z',\n",
      "       '2019-01-04T02:37:05Z', '2017-03-24T12:12:43.177Z',\n",
      "       '2017-02-11T00:39:44.317Z', '2017-01-18T19:20:46.95Z'],\n",
      "      dtype='object')\n",
      "Field_3 : 2 : Float64Index([2.0, 1.0], dtype='float64')\n",
      "Field_4 : 2 : Index(['T1', 'GH'], dtype='object')\n",
      "Field_5 : 3101 : Index(['2018-12-27', '2018-12-28', '2018-12-26', '2018-12-25', '2018-12-29',\n",
      "       '2018-12-24', '12/27/2018', '12/28/2018', '12/26/2018', '2019-01-02'],\n",
      "      dtype='object')\n",
      "Field_6 : 3060 : Index(['2018-12-27', '2018-12-28', '2018-12-26', '2018-12-25', '2018-12-29',\n",
      "       '2018-12-24', '12/27/2018', '12/26/2018', '12/28/2018', '2019-01-02'],\n",
      "      dtype='object')\n",
      "Field_7 : 2021 : Index(['2019-01-01', '1/1/2019', '2020-01-01', '2019-04-01', '2019-07-01',\n",
      "       '2018-01-01', '2019-10-01', '2019-08-01', '2019-09-01', '2019-05-01'],\n",
      "      dtype='object')\n",
      "Field_8 : 2297 : Index(['2019-12-31', '12/31/2019', '2020-12-31', '12/31/2020', '2019-10-31',\n",
      "       '2019-09-30', '2019-08-31', '2016-12-31', '2019-07-31', '2018-12-31'],\n",
      "      dtype='object')\n",
      "Field_9 : 3154 : Index(['2018-12-27', '2018-12-28', '2018-12-26', '2018-12-25', '2018-12-29',\n",
      "       '2018-12-24', '12/27/2018', '12/28/2018', '12/26/2018', '2019-01-02'],\n",
      "      dtype='object')\n",
      "Field_10 : 6 : Float64Index([1.0, 2.0, 3.0, 4.0, 5.0, 0.0], dtype='float64')\n",
      "Field_11 : 1334 : Index(['2019-10-31', '2019-09-30', '2019-08-31', '2019-07-31', '2019-05-31',\n",
      "       '2019-06-30', '2019-12-31', '2019-04-30', '2018-12-31', '2019-03-31'],\n",
      "      dtype='object')\n",
      "Field_12 : 7 : Index(['G8', 'G3', 'GX', 'G7', 'G9', 'G2', 'G4'], dtype='object')\n",
      "Field_13 : 1 : Float64Index([1.0], dtype='float64')\n",
      "Field_15 : 2563 : Index(['2013-08-31', '2018-12-28', '8/31/2013', '2018-12-27', '2019-01-02',\n",
      "       '2019-04-26', '2018-12-25', '2019-01-04', '12/28/2018', '2019-10-29'],\n",
      "      dtype='object')\n",
      "Field_18 : 8727 : Index(['.', 'KD', 'Sản xuất', 'thành phố Biên Hòa', 'Kinh doanh', ',', '1',\n",
      "       'LC', 'PCT', 'LX'],\n",
      "      dtype='object')\n",
      "Field_19 : 422 : Float64Index([0.0, 1.0, 1.86, 2.34, 2.67, 2.06, 2.46, 3.0, 2.26, 2.66], dtype='float64')\n",
      "Field_20 : 5788 : Float64Index([1490000.0, 1390000.0, 4500000.0,  973000.0, 1043000.0, 4260000.0,\n",
      "              4300000.0, 1300000.0, 4258600.0,  834000.0],\n",
      "             dtype='float64')\n",
      "Field_21 : 4 : Float64Index([4.5, 0.0, 6.0, 3.0], dtype='float64')\n",
      "Field_22 : 3 : Float64Index([1.0, 0.0, 2.0], dtype='float64')\n",
      "Field_23 : 336 : Float64Index([0.0, 12.0, 24.0, 1.0, 36.0, 2.0, 6.0, 5.0, 3.0, 9.0], dtype='float64')\n",
      "Field_25 : 2706 : Index(['2018-12-27', '2018-12-28', '2018-12-26', '2018-12-25', '2013-08-31',\n",
      "       '2018-12-29', '2018-12-24', '12/28/2018', '12/27/2018', '12/26/2018'],\n",
      "      dtype='object')\n",
      "Field_27 : 772 : Float64Index([      0.0, 1150000.0, 1210000.0, 3317000.0, 3745000.0,  805000.0,\n",
      "              2889000.0,  726000.0, 3000000.0, 2568000.0],\n",
      "             dtype='float64')\n",
      "Field_28 : 771 : Float64Index([     0.0,  54450.0,  51750.0, 149265.0, 168525.0,  36225.0,\n",
      "              130005.0,  32670.0, 135000.0,  34500.0],\n",
      "             dtype='float64')\n",
      "Field_29 : 44 : Float64Index([12.0, 0.0, 6.0, 3.0, 24.0, 4.0, 9.0, 8.0, 2.0, 5.0], dtype='float64')\n",
      "Field_32 : 2556 : Index(['2018-12-28', '2018-12-27', '2018-12-26', '2013-08-31', '2018-12-29',\n",
      "       '2019-01-02', '2018-12-25', '2018-12-24', '12/28/2018', '12/27/2018'],\n",
      "      dtype='object')\n",
      "Field_33 : 2867 : Index(['2015-01-01', '1/1/2015', '2023-01-01', '2023-07-01', '2023-04-01',\n",
      "       '2023-08-01', '2023-09-01', '2022-01-01', '2023-06-01', '2023-05-01'],\n",
      "      dtype='object')\n",
      "Field_34 : 1667 : Index(['2018-01-02', '2019-04-01', '2019-01-02', '2018-01-03', '2018-01-01',\n",
      "       '2019-01-03', '2018-09-02', '2018-01-04', '2018-12-02', '2018-10-02'],\n",
      "      dtype='object')\n",
      "Field_35 : 1034 : Index(['2019-10-31', '2019-09-30', '2019-08-31', '2019-07-31', '2019-05-31',\n",
      "       '2019-06-30', '2019-12-31', '2019-04-30', '2018-12-31', '2019-03-31'],\n",
      "      dtype='object')\n",
      "ngaySinh : 8793 : Index(['1990-01-01', '1988-01-01', '1991-01-01', '1992-01-01', '1987-01-01',\n",
      "       '1986-01-01', '1989-01-01', '1985-01-01', '1984-01-01', '1995-01-01'],\n",
      "      dtype='object')\n",
      "namSinh : 3 : Float64Index([0.0, 1.0, 2.0], dtype='float64')\n",
      "gioiTinh : 2 : Index(['MALE', 'FEMALE'], dtype='object')\n",
      "diaChi : 27701 : Index(['TT Dịch vụ Việc Làm Tp.HCM', 'TT Giới Thiệu Việc Làm Tp.HCM',\n",
      "       'Cty  CP TaeKwang Vina', 'Cty TNHH CHANG SHIN VN',\n",
      "       'Cty TNHH Giày Dona Standard VN',\n",
      "       'Xã Minh Hưng, Huyện Chơn Thành, Tỉnh Bình Phước', 'Hà Nội',\n",
      "       'CTY POUYUEN',\n",
      "       '300A, Nguyễn Tất Thành, Phường 13, Quận 4, Thành phố Hồ Chí Minh',\n",
      "       'Cty TNHH STARITE INTERNATIONAL VN'],\n",
      "      dtype='object')\n",
      "Field_36 : 34 : Index(['DN', 'GD', 'HC', 'TN', 'CH', 'SV', 'GB', 'DK', 'DT', 'CN'], dtype='object')\n",
      "Field_38 : 6 : Index([0.0, '0', 1.0, '1', 'DN', 'TN'], dtype='object')\n",
      "Field_39 : 2 : Float64Index([1.0, 0.0], dtype='float64')\n",
      "Field_40 : 975 : Index(['2019-01-01', '1/1/2019', '2020-01-01', '2019-04-01', '2019-07-01',\n",
      "       '2019-10-01', '2018-01-01', '2019-09-01', '2019-08-01', '2019-05-01'],\n",
      "      dtype='object')\n",
      "Field_41 : 2 : Float64Index([1.0, 0.0], dtype='float64')\n",
      "Field_42 : 2 : Float64Index([1.0, 0.0], dtype='float64')\n",
      "Field_43 : 4319 : Index(['2017-03-24T14:37:56.11Z', '2017-03-03T15:16:30.327Z',\n",
      "       '2017-01-18T10:48:59.34Z', '2017-02-10T10:56:23.343Z',\n",
      "       '2016-12-14T15:58:32.667Z', '2017-03-03T14:43:42.03Z',\n",
      "       '2017-03-24T11:22:56.22Z', '2017-03-24T11:33:28.63Z',\n",
      "       '2017-01-21T09:59:01.68Z', '2017-02-16T11:12:09.717Z'],\n",
      "      dtype='object')\n",
      "Field_44 : 12249 : Index(['2019-06-26T10:24:56Z', '2019-10-24T06:39:06.082Z',\n",
      "       '2019-09-22T12:38:20Z', '2019-06-26T07:47:03Z', '2019-06-26T10:24:55Z',\n",
      "       '2019-06-28T16:37:50Z', '2019-06-28T04:26:32Z', '2019-04-17T06:59:14Z',\n",
      "       '2019-07-01T01:48:56Z', '2019-11-07T04:22:37Z'],\n",
      "      dtype='object')\n",
      "Field_45 : 13359 : Index(['BO0001Z', 'BO0002Z', 'TA2155A', 'TD1540D', 'YN0002H', 'TA4947A',\n",
      "       'YN0646Z', 'YN0004Z', 'YN0008Z', 'YN0022Z'],\n",
      "      dtype='object')\n",
      "Field_46 : 17902 : Index(['Trung Tâm Dịch Vụ Việc Làm Thành Phố Hồ Chí Minh',\n",
      "       'Người hưởng BH thất nghiệp (TP)',\n",
      "       'Người đang hưởng trợ cấp thất nghiệp', 'Công Ty CP Thế Giới Di Động',\n",
      "       'CTY Tài chính TNHH MTV NHVN Thịnh Vượng',\n",
      "       'Công ty TNHH Samsung Electronics Việt Nam Thái Nguyên',\n",
      "       'Cty TNHH Sức Bật', 'Công Ty TNHH Pou Yuen Việt Nam',\n",
      "       'Đối tượng hưởng trợ cấp thất nghiệp',\n",
      "       'Công Ty Tài Chính TNHH MTV Home Credit Việt Nam'],\n",
      "      dtype='object')\n",
      "Field_47 : 4 : Float64Index([0.0, 1.0, 2.0, 3.0], dtype='float64')\n",
      "Field_48 : 15760 : Index(['153 Xô Viết Nghệ Tĩnh Quận Bình Thạnh', 'Bình Dương',\n",
      "       '162 Tô Hiệu, Hà Cầu, Hà Đông, Hà Nội',\n",
      "       '128 Trần Quang Khải, P. Tân Định, Q.1',\n",
      "       'Tầng 2 Tòa nhà REE Tower số 9 Đoàn Văn Bơ, P12, Q4, Tp.HCM',\n",
      "       'KCN Yên Bình 1, phường Đồng Tiến, thị xã  Phổ Yên, tỉnh Thái Nguyên',\n",
      "       'Tầng trệt Tòa Nhà Rosana, Số 60 Nguyễn Đình Chiểu, P. Đao Kao, Q.1, TP. HCM',\n",
      "       'D10/89Q Quốc Lộ 1A Tân Tạo, Q.Bình Tân',\n",
      "       'tầng G, 8 và 10 tòa nhà Phụ Nữ, số 20 Nguyễn Đăng Giai, P.Thảo Điền, Q.2, Tp HCM',\n",
      "       'Tầng B1, Vincom Mega Mall, 159 Xa lộ Hà Nội, P. Thảo Điền, Q2'],\n",
      "      dtype='object')\n",
      "Field_49 : 15975 : Index(['153 Xô Viết Nghệ Tĩnh Quận Bình Thạnh', 'Bình Dương',\n",
      "       '162 Tô Hiệu, Hà Cầu, Hà Đông, Hà Nội',\n",
      "       '(Buu dien) lầu 5, Phòng 5.1, tòa nhà Etown 2, số 364 Cộng Hòa, Phường 13, Q, Tân Bình',\n",
      "       'Tầng 2 Tòa nhà REE Tower số 9 Đoàn Văn Bơ, P12, Q4, Tp.HCM',\n",
      "       'KCN Yên Bình 1, phường Đồng Tiến, thị xã  Phổ Yên, tỉnh Thái Nguyên',\n",
      "       '(Bưu điện) Tầng 2, Khu AB, Tòa Nhà  27B Nguyễn Đình Chiểu, P. ĐK, Q1',\n",
      "       'D10/89Q Quốc Lộ 1A Tân Tạo, Q.Bình Tân',\n",
      "       'tầng G, 8 và 10 tòa nhà Phụ Nữ, số 20 Nguyễn Đăng Giai, P.Thảo Điền, Q.2, Tp HCM',\n",
      "       '(Bưu điện) tầng B1, Vincom Mega Mall, 159 Xa lộ Hà Nội, P. Thảo Điền, Q2'],\n",
      "      dtype='object')\n",
      "Field_50 : 2 : Float64Index([1.0, 0.0], dtype='float64')\n",
      "Field_51 : 2 : Float64Index([1.0, 0.0], dtype='float64')\n",
      "Field_53 : 2 : Float64Index([0.0, 1.0], dtype='float64')\n",
      "Field_54 : 49 : Index(['VN', 'TW', 'KR', 'JP', 'CN', 'CZ', 'HQ', 'UK', 'TQ', 'SG'], dtype='object')\n",
      "Field_55 : 235 : Index(['YN', 'BI', 'TA', 'BO', 'TZ', 'TF', 'TC', 'TE', 'QW', 'TB'], dtype='object')\n",
      "Field_56 : 1515 : Index(['Doanh nghiệp có vốn đầu tư nước ngoài',\n",
      "       'Là những người thuộc hộ gia đình, trừ các đối tượng trên',\n",
      "       'Người đang hưởng trợ cấp thất nghiệp', 'Ngoài quốc doanh Tỉnh/TP',\n",
      "       'Ngoài quốc doanh Quận 1', 'Doanh nghiệp nhà nước TW',\n",
      "       'Hành chánh sự nghiệp Tỉnh/TP', 'Doanh nghiệp nhà nước Tỉnh/TP',\n",
      "       'Học sinh sinh viên', 'Hộ gia đình làm nông, lâm, ngư diêm nghiệp'],\n",
      "      dtype='object')\n",
      "Field_58 : 5 : Float64Index([0.0, 5.0, 2.0, 4.0, 3.0], dtype='float64')\n",
      "Field_59 : 36 : Float64Index([5.0, 4.0, 33.0, 6.0, 35.0, 3.0, 31.0, 53.0, 83.0, 82.0], dtype='float64')\n",
      "Field_60 : 35 : Float64Index([3.0, 2.0, 31.0, 4.0, 33.0, 1.0, 29.0, 76.0, 80.0, 79.0], dtype='float64')\n",
      "Field_61 : 36 : Index(['Khối DN Ngoài quốc doanh', 'Khối DN có vốn DTNN', 'Hộ gia đình',\n",
      "       'Khối HS, Đảng, Đoàn', 'Trợ cấp bảo hiểm thất nghiệp',\n",
      "       'Khối DN Nhà Nước', 'Học sinh sinh viên',\n",
      "       'Hộ gia đình làm nông lâm ngư diêm nghiệp',\n",
      "       'Người sống tại vùng đặc biệt khó khăn',\n",
      "       'Người dân tộc thiểu số sống vùng KK, ĐBKK'],\n",
      "      dtype='object')\n",
      "Field_62 : 5 : Float64Index([1.0, 5.0, 2.0, 4.0, 3.0], dtype='float64')\n",
      "Field_63 : 10 : Float64Index([2.0, 3.0, 4.0, 8.0, 0.0, 5.0, 6.0, 7.0, 9.0, 43.0], dtype='float64')\n",
      "Field_64 : 9 : Float64Index([1.0, 2.0, 3.0, 4.0, 7.0, 5.0, 6.0, 9.0, 8.0], dtype='float64')\n",
      "Field_65 : 10 : Index(['Vùng 1', 'Vùng 2', 'Vùng 3', 'Vùng 4',\n",
      "       'DN đầu tư NN (Vùng 1 có ĐT) {01->09, 15}',\n",
      "       'DN đầu tư NN (Vùng 2 có ĐT) {10->14, 16, 19->23, 25, 29}',\n",
      "       'DN đầu tư NN (Vùng 3 có ĐT) {17, 18, 24, 26->28}', 'DN tư nhân',\n",
      "       'DN đầu tư NN (Vùng 4 có ĐT)', '5'],\n",
      "      dtype='object')\n",
      "Field_66 : 8 : Index(['D', 'C', 'G', 'E', 'F', 'B', 'I', 'H'], dtype='object')\n",
      "Field_67 : 18073 : Float64Index([776953.0,  67129.0, 470954.0, 644004.0, 658535.0, 329951.0,\n",
      "              646653.0, 784073.0, 786466.0, 650217.0],\n",
      "             dtype='float64')\n",
      "Field_68 : 14690 : Index(['0301340024', '3701408628', '301340024', '4601124536', '0303217354',\n",
      "       '0102180545', '3600266046', '2300852009', '0309576215', '0300813662'],\n",
      "      dtype='object')\n",
      "maCv : 4546 : Index(['Công nhân', 'Nhân viên', 'công nhân', 'Giáo viên',\n",
      "       'Công nhân sản xuất', 'Công Nhân', 'Nhân viên bán hàng',\n",
      "       'Công nhân may công nghiệp', 'nhân viên', 'Nhân viên sản xuất'],\n",
      "      dtype='object')\n",
      "Field_69 : 101 : Float64Index([0.0, 0.01, 1.0, 0.02, 0.03, 0.04, 0.99, 0.5, 0.06, 0.08], dtype='float64')\n",
      "Field_70 : 50 : Float64Index([0.08, 0.12, 0.49, 0.6, 0.62, 0.35, 0.0, 0.43, 0.28, 0.01], dtype='float64')\n",
      "Field_71 : 336 : Float64Index([0.06, 0.245, 0.04, 0.195, 0.175, 0.26, 0.165, 0.22, 0.14, 0.31], dtype='float64')\n",
      "Field_72 : 494 : Float64Index([0.12, 0.49, 0.08, 0.39, 0.35, 0.33, 0.28, 0.0, 0.44, 0.3], dtype='float64')\n",
      "Field_73 : 2 : Float64Index([1.0, 0.0], dtype='float64')\n",
      "Field_74 : 517 : Float64Index([347.0, 340.0, 1436.0, 342.0, 337.0, 702.0, 4016.0, 711.0, 709.0,\n",
      "              345.0],\n",
      "             dtype='float64')\n",
      "Field_75 : 14 : Float64Index([4.0, 3.0, 5.0, 1.0, 2.0, 6.0, 7.0, 8.0, 9.0, 10.0], dtype='float64')\n",
      "Field_76 : 11 : Float64Index([0.0, 1.0, 2.0, 3.0, 4.0, 5.0, 6.0, 7.0, 8.0, 9.0], dtype='float64')\n"
     ]
    },
    {
     "name": "stdout",
     "output_type": "stream",
     "text": [
      "Field_77 : 15 : Float64Index([4.0, 1.0, 3.0, 2.0, 5.0, 6.0, 7.0, 0.0, 8.0, 9.0], dtype='float64')\n",
      "friendCount : 3411 : Float64Index([0.0, 1.0, 2.0, 3.0, 4.0, 5.0, 6.0, 7.0, 9.0, 8.0], dtype='float64')\n",
      "info_social_sex : 2 : Index(['male', 'female'], dtype='object')\n",
      "subscriberCount : 1839 : Float64Index([0.0, 13.0, 47.0, 17.0, 21.0, 35.0, 26.0, 34.0, 12.0, 30.0], dtype='float64')\n",
      "currentLocationLocationId : 1439 : Float64Index([              0.0, 108458769184495.0, 106388046062960.0,\n",
      "              108459000000000.0, 106388000000000.0, 111711568847056.0,\n",
      "              105667452800809.0, 114668461883395.0, 351759091676222.0,\n",
      "              107983352568918.0],\n",
      "             dtype='float64')\n",
      "currentLocationLatitude : 772 : Float64Index([    0.0,   10.77, 21.0333, 16.0678, 19.8075, 20.8523, 10.9399,\n",
      "              21.5839, 21.1723, 10.0359],\n",
      "             dtype='float64')\n",
      "currentLocationLongitude : 654 : Float64Index([     0.0, 106.6815,   105.85,  108.221,  105.776, 106.7005,\n",
      "                105.83,  106.868,  106.062, 105.7798],\n",
      "             dtype='float64')\n",
      "homeTownLocationId : 1580 : Float64Index([              0.0, 106388046062960.0, 108458769184495.0,\n",
      "              106388000000000.0, 108459000000000.0, 105667452800809.0,\n",
      "              114668461883395.0, 109167735769857.0, 107983352568918.0,\n",
      "              109311335759536.0],\n",
      "             dtype='float64')\n",
      "homeTownLatitude : 711 : Float64Index([    0.0, 21.0333,   10.77, 19.8075, 20.8523, 21.2825,   20.45,\n",
      "              21.1723, 16.0678, 21.5839],\n",
      "             dtype='float64')\n",
      "homeTownLongitude : 568 : Float64Index([     0.0,   105.85, 106.6815,  105.776, 106.7005,  106.333,\n",
      "               106.201,  106.062,  108.221,   105.83],\n",
      "             dtype='float64')\n",
      "data.basic_info.locale : 27 : Index(['vi_VN', 'en_US', 'zh_TW', 'en_GB', 'es_LA', 'pt_BR', 'fr_FR', 'ko_KR',\n",
      "       'zh_CN', 'id_ID'],\n",
      "      dtype='object')\n",
      "currentLocationCity : 1020 : Index(['Ho Chi Minh City', 'Hanoi', 'Da Nang', 'Thanh Hóa', 'Hai Phong',\n",
      "       'Biên Hòa', 'Thái Nguyên', 'Bac Ninh', 'Can Tho', 'Bac Giang'],\n",
      "      dtype='object')\n",
      "currentLocationCountry : 51 : Index(['Vietnam', 'United States', 'Japan', 'South Korea', 'Malaysia', 'China',\n",
      "       'United Kingdom', 'Taiwan', 'Singapore', 'Australia'],\n",
      "      dtype='object')\n",
      "currentLocationName : 1275 : Index(['Thành phố Hồ Chí Minh', 'Hà Nội', 'Đà Nẵng', 'Thanh Hóa', 'Hải Phòng',\n",
      "       'Biên Hòa', 'Thái Nguyên (thành phố)', 'Bắc Ninh (thành phố)',\n",
      "       'Cần Thơ', 'Nha Trang'],\n",
      "      dtype='object')\n",
      "currentLocationState : 235 : Index(['Ho Chi Minh City', 'Hanoi', 'Đồng Nai Province', 'Da Nang', 'Haiphong',\n",
      "       'Thanh Hóa Province', 'Nghệ An Province', 'Cần Thơ',\n",
      "       'Khánh Hòa Province', 'Bắc Ninh Province'],\n",
      "      dtype='object')\n",
      "homeTownCity : 1013 : Index(['Hanoi', 'Ho Chi Minh City', 'Thanh Hóa', 'Hai Phong', 'Bac Giang',\n",
      "       'Thái Bình', 'Bac Ninh', 'Da Nang', 'Thái Nguyên', 'Hai Duong'],\n",
      "      dtype='object')\n",
      "homeTownCountry : 44 : Index(['Vietnam', 'United States', 'Malaysia', 'South Korea', 'China',\n",
      "       'United Kingdom', 'United Arab Emirates', 'Hong Kong', 'Thailand',\n",
      "       'Democratic Republic of the Congo'],\n",
      "      dtype='object')\n",
      "homeTownName : 1305 : Index(['Hà Nội', 'Thành phố Hồ Chí Minh', 'Thanh Hóa', 'Hải Phòng',\n",
      "       'Thái Bình, Thái Bình, Vietnam', 'Đà Nẵng', 'Thái Nguyên (thành phố)',\n",
      "       'Bắc Giang (thành phố)', 'Bắc Ninh (thành phố)',\n",
      "       'Nam Định, Nam Định, Vietnam'],\n",
      "      dtype='object')\n",
      "homeTownState : 170 : Index(['Hanoi', 'Ho Chi Minh City', 'Thanh Hóa Province', 'Nghệ An Province',\n",
      "       'Haiphong', 'Đồng Nai Province', 'Khánh Hòa Province',\n",
      "       'Thái Bình Province', 'Bình Định Province', 'Bắc Giang Province'],\n",
      "      dtype='object')\n",
      "topFriends : 5 : Float64Index([5.0, 1.0, 2.0, 3.0, 4.0], dtype='float64')\n",
      "numOrg : 20 : Float64Index([2.0, 3.0, 1.0, 4.0, 0.0, 5.0, 6.0, 7.0, 8.0, 9.0], dtype='float64')\n",
      "F_numOrg : 6 : Float64Index([1.0, 2.0, 3.0, 4.0, 5.0, 6.0], dtype='float64')\n",
      "F_numQuery : 15 : Float64Index([1.0, 2.0, 3.0, 4.0, 5.0, 6.0, 7.0, 8.0, 9.0, 10.0], dtype='float64')\n",
      "F_startDate : 501 : Index(['2019-08-18', '2019-10-01', '2019-10-23', '2019-09-25', '2019-12-13',\n",
      "       '2019-09-24', '2019-12-12', '2019-10-08', '2019-10-04', '2019-12-17'],\n",
      "      dtype='object')\n",
      "F_endDate : 483 : Index(['2019-08-18', '2019-12-12', '2019-12-18', '2019-12-13', '2019-11-18',\n",
      "       '2019-11-11', '2019-12-14', '2019-11-20', '2019-12-26', '2019-12-17'],\n",
      "      dtype='object')\n",
      "E_numOrg : 7 : Float64Index([1.0, 2.0, 3.0, 4.0, 5.0, 6.0, 7.0], dtype='float64')\n",
      "E_numQuery : 56 : Float64Index([1.0, 2.0, 3.0, 4.0, 5.0, 6.0, 7.0, 8.0, 9.0, 10.0], dtype='float64')\n",
      "E_startDate : 497 : Index(['2019-08-19', '2019-08-18', '2019-10-01', '2019-10-30', '2019-09-03',\n",
      "       '2019-09-26', '2019-10-04', '2019-10-07', '2019-12-13', '2019-09-30'],\n",
      "      dtype='object')\n",
      "E_endDate : 480 : Index(['2019-08-19', '2019-10-30', '2019-12-12', '2019-10-29', '2019-12-18',\n",
      "       '2019-11-18', '2019-12-13', '2019-12-14', '2019-11-11', '2019-12-26'],\n",
      "      dtype='object')\n",
      "C_numOrg : 3 : Float64Index([1.0, 2.0, 3.0], dtype='float64')\n",
      "C_numQuery : 92 : Float64Index([1.0, 2.0, 3.0, 4.0, 5.0, 6.0, 7.0, 8.0, 9.0, 11.0], dtype='float64')\n",
      "C_startDate : 419 : Index(['2019-10-01', '2019-10-07', '2019-09-25', '2019-09-30', '2019-09-24',\n",
      "       '2019-10-04', '2019-10-08', '2019-10-23', '2019-09-27', '2019-09-26'],\n",
      "      dtype='object')\n",
      "C_endDate : 409 : Index(['2019-12-12', '2019-10-01', '2019-12-18', '2019-12-13', '2019-12-26',\n",
      "       '2019-10-23', '2019-10-07', '2019-12-02', '2019-10-16', '2019-09-25'],\n",
      "      dtype='object')\n",
      "G_numOrg : 5 : Float64Index([1.0, 2.0, 3.0, 4.0, 5.0], dtype='float64')\n",
      "G_numQuery : 13 : Float64Index([1.0, 2.0, 3.0, 4.0, 5.0, 6.0, 7.0, 8.0, 14.0, 9.0], dtype='float64')\n",
      "G_startDate : 502 : Index(['2019-10-01', '2019-10-16', '2019-09-25', '2019-09-30', '2019-10-04',\n",
      "       '2019-12-13', '2019-10-15', '2019-10-03', '2019-09-27', '2019-09-24'],\n",
      "      dtype='object')\n",
      "G_endDate : 486 : Index(['2019-10-01', '2019-10-16', '2019-12-13', '2019-10-04', '2019-09-30',\n",
      "       '2019-10-03', '2019-09-27', '2019-10-15', '2019-10-08', '2019-10-02'],\n",
      "      dtype='object')\n",
      "A_numOrg : 17 : Float64Index([2.0, 3.0, 1.0, 4.0, 5.0, 6.0, 7.0, 8.0, 9.0, 10.0], dtype='float64')\n",
      "A_numQuery : 43 : Float64Index([2.0, 1.0, 3.0, 4.0, 5.0, 6.0, 7.0, 8.0, 9.0, 10.0], dtype='float64')\n",
      "A_startDate : 823 : Index(['2019-09-04', '2019-08-28', '2019-08-29', '2019-09-03', '2019-08-27',\n",
      "       '2019-09-09', '2019-08-30', '2019-09-25', '2019-09-19', '2019-08-15'],\n",
      "      dtype='object')\n",
      "A_endDate : 705 : Index(['2019-11-26', '2019-12-13', '2019-12-12', '2020-01-03', '2019-11-25',\n",
      "       '2019-10-30', '2020-01-02', '2019-11-20', '2019-11-22', '2019-11-11'],\n",
      "      dtype='object')\n",
      "summary_6m : 135 : Float64Index([1.0, 2.0, 7.0, 8.0, 3.0, 6.0, 5.0, 9.0, 4.0, 10.0], dtype='float64')\n",
      "summary_3m : 132 : Float64Index([1.0, 2.0, 7.0, 6.0, 5.0, 8.0, 3.0, 9.0, 4.0, 10.0], dtype='float64')\n",
      "summary_1m : 121 : Float64Index([1.0, 2.0, 5.0, 6.0, 7.0, 3.0, 4.0, 8.0, 9.0, 10.0], dtype='float64')\n",
      "summary_1w : 75 : Float64Index([1.0, 2.0, 5.0, 3.0, 6.0, 4.0, 7.0, 8.0, 9.0, 10.0], dtype='float64')\n",
      "partner0_A : 2 : Float64Index([0.0, 1.0], dtype='float64')\n",
      "partner0_B : 1 : Float64Index([0.0], dtype='float64')\n",
      "partner0_C : 2 : Float64Index([0.0, 1.0], dtype='float64')\n",
      "partner0_D : 2 : Float64Index([0.0, 1.0], dtype='float64')\n",
      "partner0_E : 2 : Float64Index([0.0, 1.0], dtype='float64')\n",
      "partner0_F : 2 : Float64Index([0.0, 1.0], dtype='float64')\n",
      "partner0_G : 2 : Float64Index([0.0, 1.0], dtype='float64')\n",
      "partner0_H : 2 : Float64Index([0.0, 1.0], dtype='float64')\n",
      "partner1_A : 2 : Float64Index([1.0, 0.0], dtype='float64')\n",
      "partner1_C : 2 : Float64Index([0.0, 1.0], dtype='float64')\n",
      "partner1_G : 2 : Float64Index([0.0, 1.0], dtype='float64')\n",
      "partner1_H : 2 : Float64Index([0.0, 1.0], dtype='float64')\n",
      "partner2_A : 2 : Float64Index([0.0, 1.0], dtype='float64')\n",
      "partner2_C : 2 : Float64Index([0.0, 1.0], dtype='float64')\n",
      "partner2_D : 2 : Float64Index([0.0, 1.0], dtype='float64')\n",
      "partner2_F : 2 : Float64Index([0.0, 1.0], dtype='float64')\n",
      "partner2_H : 2 : Float64Index([0.0, 1.0], dtype='float64')\n",
      "partner3_A : 2 : Float64Index([0.0, 1.0], dtype='float64')\n",
      "partner3_D : 2 : Float64Index([0.0, 1.0], dtype='float64')\n",
      "partner3_E : 2 : Float64Index([0.0, 1.0], dtype='float64')\n",
      "partner4_L : 2 : Float64Index([0.0, 1.0], dtype='float64')\n",
      "partner5_A : 2 : Float64Index([0.0, 1.0], dtype='float64')\n",
      "partner5_D : 2 : Float64Index([0.0, 1.0], dtype='float64')\n",
      "partner5_G : 2 : Float64Index([0.0, 1.0], dtype='float64')\n",
      "brief : 20 : Index(['0', '1', '2', 'notfound', '3', '2cy', '4', '1cy', '3cy', 'cb1'], dtype='object')\n",
      "num_of_phone : 5 : Float64Index([1.0, 2.0, 3.0, 4.0, 5.0], dtype='float64')\n",
      "Field_78 : 476 : Float64Index([0.0, 1.0, 2.0, 3.0, 5.0, 4.0, 6.0, 7.0, 9.0, 8.0], dtype='float64')\n",
      "Field_79 : 17047 : Float64Index([               0.0, 0.7071067811865476, 1.4142135623730951,\n",
      "              3.5355339059327378, 2.1213203435596424, 2.8284271247461903,\n",
      "               4.242640687119285, 0.5773502691896258,  5.656854249492381,\n",
      "               4.949747468305833],\n",
      "             dtype='float64')\n",
      "Field_80 : 4389 : Float64Index([0.0, 1.0, 2.0, 3.0, 4.0, 6.0, 5.0, 7.0, 8.0, 9.0], dtype='float64')\n",
      "Field_81 : 485 : Float64Index([0.0, 1.0, 2.0, 3.0, 4.0, 5.0, 6.0, 7.0, 8.0, 9.0], dtype='float64')\n",
      "Field_82 : 4 : Int64Index([1, 4, 2, 3], dtype='int64')\n"
     ]
    }
   ],
   "source": [
    "for f in df_transform.columns:\n",
    "    vc = df_transform[f].value_counts()\n",
    "    print(f\"{f} : {len(vc)} : {vc.index[:10]}\")"
   ]
  },
  {
   "cell_type": "markdown",
   "metadata": {},
   "source": [
    "consider transform: \"brief\" \\\n",
    "consider drop: \"Field_56\", \"maCv\"\n"
   ]
  },
  {
   "cell_type": "code",
   "execution_count": 346,
   "metadata": {
    "ExecuteTime": {
     "end_time": "2020-07-29T09:21:29.258252Z",
     "start_time": "2020-07-29T09:21:29.033705Z"
    }
   },
   "outputs": [],
   "source": [
    "df_transform = df_transform.drop(data_type[\"drop\"], axis = 1)\n",
    "df_transform = df_transform.drop(data_type[\"address\"], axis = 1)"
   ]
  },
  {
   "cell_type": "code",
   "execution_count": 347,
   "metadata": {
    "ExecuteTime": {
     "end_time": "2020-07-29T09:21:31.048381Z",
     "start_time": "2020-07-29T09:21:31.044750Z"
    },
    "code_folding": [
     0
    ]
   },
   "outputs": [],
   "source": [
    "def fit38(x):\n",
    "    if x == 0.0 or x == \"0\" or x == \"0.0\":\n",
    "        return 0\n",
    "    if x == 1.0 or x == \"1\":\n",
    "        return 1\n",
    "    return np.nan"
   ]
  },
  {
   "cell_type": "code",
   "execution_count": 348,
   "metadata": {
    "ExecuteTime": {
     "end_time": "2020-07-29T09:21:33.107122Z",
     "start_time": "2020-07-29T09:21:33.101356Z"
    },
    "code_folding": [
     0
    ]
   },
   "outputs": [],
   "source": [
    "def fit54(x):\n",
    "    if x == \"1\" or x == \"01\" or x == ' P. Tân Phú':\n",
    "        return \"VN\"\n",
    "    if x in ['IT', 'GB', 'SE', 'TK', 'BD']:\n",
    "        return np.nan\n",
    "    return x"
   ]
  },
  {
   "cell_type": "code",
   "execution_count": 349,
   "metadata": {
    "ExecuteTime": {
     "end_time": "2020-07-29T09:21:35.000084Z",
     "start_time": "2020-07-29T09:21:34.996832Z"
    },
    "code_folding": [
     0
    ]
   },
   "outputs": [],
   "source": [
    "def fit55(x):\n",
    "    if x in ['BC', 'BG', 'CN', 'CO', 'DB', 'EL', 'FO', 'H5', 'KX', 'N7', 'NR', 'SD', 'SJ', 'ST', 'WD']:\n",
    "        return np.nan\n",
    "    return x"
   ]
  },
  {
   "cell_type": "code",
   "execution_count": 350,
   "metadata": {
    "ExecuteTime": {
     "end_time": "2020-07-29T09:21:36.846005Z",
     "start_time": "2020-07-29T09:21:36.843396Z"
    },
    "code_folding": [
     0
    ]
   },
   "outputs": [],
   "source": [
    "def fit61(x):\n",
    "    if x == 'Chất độc hóa học':\n",
    "        return np.nan\n",
    "    return x"
   ]
  },
  {
   "cell_type": "code",
   "execution_count": 351,
   "metadata": {
    "ExecuteTime": {
     "end_time": "2020-07-29T09:21:38.787202Z",
     "start_time": "2020-07-29T09:21:38.782023Z"
    },
    "code_folding": [
     0
    ]
   },
   "outputs": [],
   "source": [
    "def fitcurrentLocationState(x):\n",
    "    if x in ['Ilhas', 'Daegu', 'Auckland Region', 'Basse-Normandie', 'Chongqing', \"Provence-Alpes-Côte d'Azur\",\\\n",
    "             'Rajshahi Division', 'Hubei', 'Mandalay', 'Missouri', 'Pathum Thani', 'Central Java', 'New Hampshire',\\\n",
    "             'Odisha', 'South Australia', 'Chon Buri', 'Haute-Normandie', 'Kirov Oblast', 'Primorsky Krai', 'Arizona',\\\n",
    "             'Ulsan', 'Kanagawa Prefecture', 'Metro Manila', 'Kachin State', 'Svay Rieng Province', 'Nagano Prefecture',\\\n",
    "             'Shiga Prefecture', 'Oslo', 'Indiana', 'Hunan', 'Bolikhamsai Province', 'Krasnoyarsk Krai',\\\n",
    "             'Distrito Nacional', 'Chiba Prefecture']:\n",
    "        return np.nan\n",
    "    return x"
   ]
  },
  {
   "cell_type": "code",
   "execution_count": 352,
   "metadata": {
    "ExecuteTime": {
     "end_time": "2020-07-29T09:21:40.708780Z",
     "start_time": "2020-07-29T09:21:40.705735Z"
    },
    "code_folding": [
     0
    ]
   },
   "outputs": [],
   "source": [
    "def fitcurrentLocationCountry(x):\n",
    "    if x in ['Macau', 'New Zealand', 'Dominican Republic']:\n",
    "        return np.nan\n",
    "    return x"
   ]
  },
  {
   "cell_type": "code",
   "execution_count": 353,
   "metadata": {
    "ExecuteTime": {
     "end_time": "2020-07-29T09:21:42.581424Z",
     "start_time": "2020-07-29T09:21:42.575941Z"
    },
    "code_folding": [
     0
    ]
   },
   "outputs": [],
   "source": [
    "def fithomeTownState(x):\n",
    "    if x in ['Hunan', 'Kachin State', 'Distrito Federal', 'Bizerte Governorate', 'Central Java',\\\n",
    "             'Svay Rieng Province', 'Distrito Nacional', 'County Mayo', 'Odisha', 'Lazio', 'Nevada',\\\n",
    "             'Daegu', 'Arizona', 'Equatoria', 'Fukuoka Prefecture', 'Taoyuan City', 'Kandal Province', \\\n",
    "             'State of Mexico', 'Hebei', 'New South Wales', 'Capital Governorate', 'Oregon']:\n",
    "        return np.nan\n",
    "    return x"
   ]
  },
  {
   "cell_type": "code",
   "execution_count": 354,
   "metadata": {
    "ExecuteTime": {
     "end_time": "2020-07-29T09:21:44.442857Z",
     "start_time": "2020-07-29T09:21:44.440091Z"
    },
    "code_folding": [
     0
    ]
   },
   "outputs": [],
   "source": [
    "def fithomeTownCountry(x):\n",
    "    if x in ['Australia', 'Bahrain', 'Dominican Republic', 'Ireland', 'South Sudan', 'Tunisia']:\n",
    "        return np.nan\n",
    "    return x"
   ]
  },
  {
   "cell_type": "code",
   "execution_count": 355,
   "metadata": {
    "ExecuteTime": {
     "end_time": "2020-07-29T09:21:46.260274Z",
     "start_time": "2020-07-29T09:21:46.257415Z"
    },
    "code_folding": [
     0
    ]
   },
   "outputs": [],
   "source": [
    "def fitdata_basic_info_locale(x):\n",
    "    if x == \"_VN\":\n",
    "        return 'vi_VN'\n",
    "    elif x in ['lv_LV', 'ru_RU']:\n",
    "        return np.nan\n",
    "    return x"
   ]
  },
  {
   "cell_type": "code",
   "execution_count": 383,
   "metadata": {
    "ExecuteTime": {
     "end_time": "2020-07-29T09:34:23.285742Z",
     "start_time": "2020-07-29T09:34:23.279165Z"
    },
    "code_folding": [
     0
    ]
   },
   "outputs": [],
   "source": [
    "def calculate_age(born):\n",
    "    born = datetime.strptime(born,'%Y-%m-%d').date()\n",
    "    today = datetime.date.today()\n",
    "    return today.year - born.year - ((today.month, today.day) < (born.month, born.day))"
   ]
  },
  {
   "cell_type": "code",
   "execution_count": 357,
   "metadata": {
    "ExecuteTime": {
     "end_time": "2020-07-29T09:21:49.872140Z",
     "start_time": "2020-07-29T09:21:49.868246Z"
    },
    "code_folding": [
     0,
     11
    ]
   },
   "outputs": [],
   "source": [
    "def combine_gender(s):\n",
    "    x, y = s\n",
    "    \n",
    "    if x != x and y != y:\n",
    "        return \"nan\"\n",
    "    \n",
    "    if x != x:\n",
    "        return y.lower()\n",
    "    \n",
    "    return x.lower()\n",
    "\n",
    "def process_gender(df):\n",
    "    df[\"gender\"] = df[[\"gioiTinh\", \"info_social_sex\"]].apply(combine_gender, axis=1).astype(\"category\")\n",
    "    return df"
   ]
  },
  {
   "cell_type": "code",
   "execution_count": 376,
   "metadata": {
    "ExecuteTime": {
     "end_time": "2020-07-29T09:31:18.052697Z",
     "start_time": "2020-07-29T09:31:18.047524Z"
    },
    "code_folding": [
     0,
     12
    ]
   },
   "outputs": [],
   "source": [
    "def datetime_normalize(s):\n",
    "    if s != s:\n",
    "        return np.nan\n",
    "    \n",
    "    s = s.split(\".\")[0]\n",
    "    if s[-1] == \"Z\":\n",
    "        s = s[:-1]\n",
    "        \n",
    "    date, time = s.split(\"T\")\n",
    "    datetime_obj = datetime.strptime(s, \"%Y-%m-%dT%H:%M:%S\")\n",
    "    return datetime_obj\n",
    "def date_normalize(s):\n",
    "    if s != s:\n",
    "        return np.nan\n",
    "    \n",
    "    try:\n",
    "        datetime_obj = datetime.strptime(s, \"%m/%d/%Y\")\n",
    "    except:\n",
    "        datetime_obj = datetime.strptime(s, \"%Y-%m-%d\")\n",
    "        \n",
    "    return datetime_obj"
   ]
  },
  {
   "cell_type": "code",
   "execution_count": 390,
   "metadata": {
    "ExecuteTime": {
     "end_time": "2020-07-29T09:35:42.405521Z",
     "start_time": "2020-07-29T09:35:42.396912Z"
    },
    "code_folding": []
   },
   "outputs": [],
   "source": [
    "def process_datetime_cols(df):\n",
    "    cat_cols = []\n",
    "    for col in DATETIME:\n",
    "        df[col] = df[col].apply(datetime_normalize)\n",
    "        \n",
    "    for col in DATE:\n",
    "        if col == \"Field_34\":\n",
    "            continue\n",
    "        df[col] = df[col].apply(date_normalize)\n",
    "\n",
    "    cat_cols += DATE + DATETIME\n",
    "    for col in DATE + DATETIME:\n",
    "        df[col] = df[col].dt.strftime('%m-%Y')\n",
    "    \n",
    "    for cat in ['F', 'E', 'C', 'G', 'A']:\n",
    "        df[f'{cat}_startDate'] = pd.to_datetime(df[f\"{cat}_startDate\"], infer_datetime_format=True)\n",
    "        df[f'{cat}_endDate'] = pd.to_datetime(df[f\"{cat}_endDate\"], infer_datetime_format=True)\n",
    "        \n",
    "        df[f'{cat}_startDate'] = df[f'{cat}_startDate'].dt.strftime('%m-%Y')\n",
    "        df[f'{cat}_endDate'] = df[f'{cat}_endDate'].dt.strftime('%m-%Y')\n",
    "        \n",
    "        cat_cols.append(f'{cat}_startDate')\n",
    "        cat_cols.append(f'{cat}_endDate')\n",
    "    \n",
    "    for col in cat_cols:\n",
    "        df[col] = df[col].astype(\"category\")\n",
    "        \n",
    "    return df"
   ]
  },
  {
   "cell_type": "code",
   "execution_count": 380,
   "metadata": {
    "ExecuteTime": {
     "end_time": "2020-07-29T09:32:08.522716Z",
     "start_time": "2020-07-29T09:32:08.519320Z"
    }
   },
   "outputs": [],
   "source": [
    "DATE = [\"Field_{}\".format(i) for i in [5, 6, 7, 8, 9, 11, 15, 25, 32, 33, 34, 35, 40]]\n",
    "DATETIME = [\"Field_{}\".format(i) for i in [1, 2, 43, 44]]"
   ]
  },
  {
   "cell_type": "code",
   "execution_count": 397,
   "metadata": {
    "ExecuteTime": {
     "end_time": "2020-07-29T09:37:23.582385Z",
     "start_time": "2020-07-29T09:37:16.924062Z"
    }
   },
   "outputs": [
    {
     "ename": "AttributeError",
     "evalue": "Can only use .dt accessor with datetimelike values",
     "output_type": "error",
     "traceback": [
      "\u001b[0;31m---------------------------------------------------------------------------\u001b[0m",
      "\u001b[0;31mAttributeError\u001b[0m                            Traceback (most recent call last)",
      "\u001b[0;32m<ipython-input-397-db7d90e582f9>\u001b[0m in \u001b[0;36m<module>\u001b[0;34m\u001b[0m\n\u001b[0;32m----> 1\u001b[0;31m \u001b[0mprocess_datetime_cols\u001b[0m\u001b[0;34m(\u001b[0m\u001b[0mdf_transform\u001b[0m\u001b[0;34m)\u001b[0m\u001b[0;34m\u001b[0m\u001b[0;34m\u001b[0m\u001b[0m\n\u001b[0m",
      "\u001b[0;32m<ipython-input-390-060577355cf0>\u001b[0m in \u001b[0;36mprocess_datetime_cols\u001b[0;34m(df)\u001b[0m\n\u001b[1;32m     11\u001b[0m     \u001b[0mcat_cols\u001b[0m \u001b[0;34m+=\u001b[0m \u001b[0mDATE\u001b[0m \u001b[0;34m+\u001b[0m \u001b[0mDATETIME\u001b[0m\u001b[0;34m\u001b[0m\u001b[0;34m\u001b[0m\u001b[0m\n\u001b[1;32m     12\u001b[0m     \u001b[0;32mfor\u001b[0m \u001b[0mcol\u001b[0m \u001b[0;32min\u001b[0m \u001b[0mDATE\u001b[0m \u001b[0;34m+\u001b[0m \u001b[0mDATETIME\u001b[0m\u001b[0;34m:\u001b[0m\u001b[0;34m\u001b[0m\u001b[0;34m\u001b[0m\u001b[0m\n\u001b[0;32m---> 13\u001b[0;31m         \u001b[0mdf\u001b[0m\u001b[0;34m[\u001b[0m\u001b[0mcol\u001b[0m\u001b[0;34m]\u001b[0m \u001b[0;34m=\u001b[0m \u001b[0mdf\u001b[0m\u001b[0;34m[\u001b[0m\u001b[0mcol\u001b[0m\u001b[0;34m]\u001b[0m\u001b[0;34m.\u001b[0m\u001b[0mdt\u001b[0m\u001b[0;34m.\u001b[0m\u001b[0mstrftime\u001b[0m\u001b[0;34m(\u001b[0m\u001b[0;34m'%m-%Y'\u001b[0m\u001b[0;34m)\u001b[0m\u001b[0;34m\u001b[0m\u001b[0;34m\u001b[0m\u001b[0m\n\u001b[0m\u001b[1;32m     14\u001b[0m \u001b[0;34m\u001b[0m\u001b[0m\n\u001b[1;32m     15\u001b[0m     \u001b[0;32mfor\u001b[0m \u001b[0mcat\u001b[0m \u001b[0;32min\u001b[0m \u001b[0;34m[\u001b[0m\u001b[0;34m'F'\u001b[0m\u001b[0;34m,\u001b[0m \u001b[0;34m'E'\u001b[0m\u001b[0;34m,\u001b[0m \u001b[0;34m'C'\u001b[0m\u001b[0;34m,\u001b[0m \u001b[0;34m'G'\u001b[0m\u001b[0;34m,\u001b[0m \u001b[0;34m'A'\u001b[0m\u001b[0;34m]\u001b[0m\u001b[0;34m:\u001b[0m\u001b[0;34m\u001b[0m\u001b[0;34m\u001b[0m\u001b[0m\n",
      "\u001b[0;32m~/anaconda3/envs/py37/lib/python3.7/site-packages/pandas/core/generic.py\u001b[0m in \u001b[0;36m__getattr__\u001b[0;34m(self, name)\u001b[0m\n\u001b[1;32m   5268\u001b[0m             \u001b[0;32mor\u001b[0m \u001b[0mname\u001b[0m \u001b[0;32min\u001b[0m \u001b[0mself\u001b[0m\u001b[0;34m.\u001b[0m\u001b[0m_accessors\u001b[0m\u001b[0;34m\u001b[0m\u001b[0;34m\u001b[0m\u001b[0m\n\u001b[1;32m   5269\u001b[0m         ):\n\u001b[0;32m-> 5270\u001b[0;31m             \u001b[0;32mreturn\u001b[0m \u001b[0mobject\u001b[0m\u001b[0;34m.\u001b[0m\u001b[0m__getattribute__\u001b[0m\u001b[0;34m(\u001b[0m\u001b[0mself\u001b[0m\u001b[0;34m,\u001b[0m \u001b[0mname\u001b[0m\u001b[0;34m)\u001b[0m\u001b[0;34m\u001b[0m\u001b[0;34m\u001b[0m\u001b[0m\n\u001b[0m\u001b[1;32m   5271\u001b[0m         \u001b[0;32melse\u001b[0m\u001b[0;34m:\u001b[0m\u001b[0;34m\u001b[0m\u001b[0;34m\u001b[0m\u001b[0m\n\u001b[1;32m   5272\u001b[0m             \u001b[0;32mif\u001b[0m \u001b[0mself\u001b[0m\u001b[0;34m.\u001b[0m\u001b[0m_info_axis\u001b[0m\u001b[0;34m.\u001b[0m\u001b[0m_can_hold_identifiers_and_holds_name\u001b[0m\u001b[0;34m(\u001b[0m\u001b[0mname\u001b[0m\u001b[0;34m)\u001b[0m\u001b[0;34m:\u001b[0m\u001b[0;34m\u001b[0m\u001b[0;34m\u001b[0m\u001b[0m\n",
      "\u001b[0;32m~/anaconda3/envs/py37/lib/python3.7/site-packages/pandas/core/accessor.py\u001b[0m in \u001b[0;36m__get__\u001b[0;34m(self, obj, cls)\u001b[0m\n\u001b[1;32m    185\u001b[0m             \u001b[0;31m# we're accessing the attribute of the class, i.e., Dataset.geo\u001b[0m\u001b[0;34m\u001b[0m\u001b[0;34m\u001b[0m\u001b[0;34m\u001b[0m\u001b[0m\n\u001b[1;32m    186\u001b[0m             \u001b[0;32mreturn\u001b[0m \u001b[0mself\u001b[0m\u001b[0;34m.\u001b[0m\u001b[0m_accessor\u001b[0m\u001b[0;34m\u001b[0m\u001b[0;34m\u001b[0m\u001b[0m\n\u001b[0;32m--> 187\u001b[0;31m         \u001b[0maccessor_obj\u001b[0m \u001b[0;34m=\u001b[0m \u001b[0mself\u001b[0m\u001b[0;34m.\u001b[0m\u001b[0m_accessor\u001b[0m\u001b[0;34m(\u001b[0m\u001b[0mobj\u001b[0m\u001b[0;34m)\u001b[0m\u001b[0;34m\u001b[0m\u001b[0;34m\u001b[0m\u001b[0m\n\u001b[0m\u001b[1;32m    188\u001b[0m         \u001b[0;31m# Replace the property with the accessor object. Inspired by:\u001b[0m\u001b[0;34m\u001b[0m\u001b[0;34m\u001b[0m\u001b[0;34m\u001b[0m\u001b[0m\n\u001b[1;32m    189\u001b[0m         \u001b[0;31m# http://www.pydanny.com/cached-property.html\u001b[0m\u001b[0;34m\u001b[0m\u001b[0;34m\u001b[0m\u001b[0;34m\u001b[0m\u001b[0m\n",
      "\u001b[0;32m~/anaconda3/envs/py37/lib/python3.7/site-packages/pandas/core/indexes/accessors.py\u001b[0m in \u001b[0;36m__new__\u001b[0;34m(cls, data)\u001b[0m\n\u001b[1;32m    336\u001b[0m             \u001b[0;32mreturn\u001b[0m \u001b[0mDatetimeProperties\u001b[0m\u001b[0;34m(\u001b[0m\u001b[0mdata\u001b[0m\u001b[0;34m,\u001b[0m \u001b[0morig\u001b[0m\u001b[0;34m)\u001b[0m\u001b[0;34m\u001b[0m\u001b[0;34m\u001b[0m\u001b[0m\n\u001b[1;32m    337\u001b[0m \u001b[0;34m\u001b[0m\u001b[0m\n\u001b[0;32m--> 338\u001b[0;31m         \u001b[0;32mraise\u001b[0m \u001b[0mAttributeError\u001b[0m\u001b[0;34m(\u001b[0m\u001b[0;34m\"Can only use .dt accessor with datetimelike values\"\u001b[0m\u001b[0;34m)\u001b[0m\u001b[0;34m\u001b[0m\u001b[0;34m\u001b[0m\u001b[0m\n\u001b[0m",
      "\u001b[0;31mAttributeError\u001b[0m: Can only use .dt accessor with datetimelike values"
     ]
    }
   ],
   "source": [
    "process_datetime_cols(df_transform)"
   ]
  },
  {
   "cell_type": "code",
   "execution_count": null,
   "metadata": {},
   "outputs": [],
   "source": []
  },
  {
   "cell_type": "code",
   "execution_count": 359,
   "metadata": {
    "ExecuteTime": {
     "end_time": "2020-07-29T09:21:54.929978Z",
     "start_time": "2020-07-29T09:21:53.871298Z"
    }
   },
   "outputs": [],
   "source": [
    "df_transform[\"Field_38\"] = df_transform[\"Field_38\"].apply(fit38)\n",
    "df_transform[\"Field_54\"] = df_transform[\"Field_54\"].apply(fit54)\n",
    "df_transform[\"Field_55\"] = df_transform[\"Field_55\"].apply(fit55)\n",
    "df_transform[\"Field_61\"] = df_transform[\"Field_61\"].apply(fit61)\n",
    "\n",
    "df_transform[\"currentLocationState\"] = df_transform[\"currentLocationState\"].apply(fitcurrentLocationState)\n",
    "df_transform[\"currentLocationCountry\"] = df_transform[\"currentLocationCountry\"].apply(fitcurrentLocationCountry)\n",
    "df_transform[\"homeTownState\"] = df_transform[\"homeTownState\"].apply(fithomeTownState)\n",
    "df_transform[\"homeTownCountry\"] = df_transform[\"homeTownCountry\"].apply(fithomeTownCountry)\n",
    "df_transform['data.basic_info.locale'] = df_transform['data.basic_info.locale'].apply(fitdata_basic_info_locale)\n",
    "df_transform[\"age\"] = df_transform[\"ngaySinh\"].map(lambda x: calculate_age(x) if x is not np.nan else x)\n",
    "\n",
    "df_transform = process_gender(df_transform)\n",
    "process_datetime_cols(df_transform)"
   ]
  },
  {
   "cell_type": "code",
   "execution_count": null,
   "metadata": {},
   "outputs": [],
   "source": []
  },
  {
   "cell_type": "code",
   "execution_count": 364,
   "metadata": {
    "ExecuteTime": {
     "end_time": "2020-07-29T09:23:22.992264Z",
     "start_time": "2020-07-29T09:23:22.953447Z"
    }
   },
   "outputs": [],
   "source": [
    "drop = [\"gioiTinh\", \"info_social_sex\", \"ngaySinh\"]\n",
    "df_transform = df_transform.drop(drop, axis = 1)"
   ]
  },
  {
   "cell_type": "code",
   "execution_count": 37,
   "metadata": {
    "ExecuteTime": {
     "end_time": "2020-07-25T12:48:41.644638Z",
     "start_time": "2020-07-25T12:48:41.639278Z"
    },
    "code_folding": []
   },
   "outputs": [],
   "source": [
    "def transform_function(df):\n",
    "    for feature in df.columns:\n",
    "        if feature in data_type[\"cat_num\"]:\n",
    "            df[feature] = df[feature].fillna(\"Nan\")\n",
    "            #df = pd.get_dummies(df, columns=[feature])\n",
    "        elif feature in data_type[\"date\"]:\n",
    "            df[feature] = df[feature].map(lambda x: float(parse(str(x)).timestamp()) if type(x) is str else x)\n",
    "            df[feature].fillna(df[feature].mean())\n",
    "        elif feature in  data_type[\"cat_str\"]:\n",
    "            df[feature] = df[feature].fillna(\"Nan\")\n",
    "            vc = df[feature].value_counts()\n",
    "            df = pd.get_dummies(df, columns=[feature])\n",
    "    return df"
   ]
  },
  {
   "cell_type": "code",
   "execution_count": 38,
   "metadata": {
    "ExecuteTime": {
     "end_time": "2020-07-25T12:49:42.130027Z",
     "start_time": "2020-07-25T12:48:42.540035Z"
    }
   },
   "outputs": [],
   "source": [
    "df_transform = transform_function(df_transform)\n",
    "df_transform = df_transform.fillna(df_transform.mean())"
   ]
  },
  {
   "cell_type": "code",
   "execution_count": 71,
   "metadata": {
    "ExecuteTime": {
     "end_time": "2020-07-25T12:57:22.432719Z",
     "start_time": "2020-07-25T12:57:21.974753Z"
    }
   },
   "outputs": [],
   "source": [
    "scaler = MinMaxScaler()\n",
    "scaler.fit(df_transform)\n",
    "transform = scaler.transform(df_transform)\n",
    "transform = pd.DataFrame(transform)\n",
    "X_transfrom = transform.iloc[:len(df_train),:]\n",
    "test_transform = transform.iloc[len(df_train):,:]"
   ]
  },
  {
   "cell_type": "code",
   "execution_count": 40,
   "metadata": {
    "ExecuteTime": {
     "end_time": "2020-07-25T12:49:55.557371Z",
     "start_time": "2020-07-25T12:49:55.443092Z"
    }
   },
   "outputs": [],
   "source": [
    "X1 = df_transform.Field_2 - df_transform.Field_1\n",
    "X2 = df_transform.Field_6 - df_transform.Field_5\n",
    "X3 = df_transform.Field_8 - df_transform.Field_7\n",
    "X4 = df_transform.Field_33 - df_transform.Field_32\n",
    "X5 = df_transform.Field_44 - df_transform.Field_43\n",
    "X6 = df_transform.F_endDate - df_transform.F_startDate\n",
    "X7 = df_transform.E_endDate - df_transform.E_startDate\n",
    "X8 = df_transform.C_endDate - df_transform.C_startDate\n",
    "X9 = df_transform.G_endDate - df_transform.G_startDate\n",
    "X10 = df_transform.A_endDate - df_transform.A_startDate\n",
    "df_transform = pd.concat([df_transform,X1,X2, X3, X4, X5, X6, X7, X8, X9, X10], axis=1)"
   ]
  },
  {
   "cell_type": "code",
   "execution_count": 93,
   "metadata": {
    "ExecuteTime": {
     "end_time": "2020-07-25T13:04:33.667606Z",
     "start_time": "2020-07-25T13:04:33.573652Z"
    }
   },
   "outputs": [],
   "source": [
    "train_dev = pd.concat([df_train.id, df_train.label,X_transfrom], axis = 1)\n",
    "test_transform.reset_index(drop=True,inplace=True)\n",
    "test = pd.concat([df_test.id, test_transform], axis = 1)"
   ]
  },
  {
   "cell_type": "code",
   "execution_count": 326,
   "metadata": {
    "ExecuteTime": {
     "end_time": "2020-07-29T08:33:33.488145Z",
     "start_time": "2020-07-29T08:33:33.351192Z"
    }
   },
   "outputs": [],
   "source": [
    "df_train[\"null_sum\"] = df_train.isnull().sum(axis=1)"
   ]
  },
  {
   "cell_type": "code",
   "execution_count": 327,
   "metadata": {
    "ExecuteTime": {
     "end_time": "2020-07-29T08:33:35.442604Z",
     "start_time": "2020-07-29T08:33:35.437431Z"
    }
   },
   "outputs": [
    {
     "data": {
      "text/plain": [
       "0         46\n",
       "1        111\n",
       "2         34\n",
       "3        141\n",
       "4        141\n",
       "        ... \n",
       "53025     20\n",
       "53026     93\n",
       "53027     31\n",
       "53028    111\n",
       "53029     85\n",
       "Name: null_sum, Length: 53030, dtype: int64"
      ]
     },
     "execution_count": 327,
     "metadata": {},
     "output_type": "execute_result"
    }
   ],
   "source": [
    "df_train[\"null_sum\"]"
   ]
  },
  {
   "cell_type": "code",
   "execution_count": 96,
   "metadata": {
    "ExecuteTime": {
     "end_time": "2020-07-25T13:04:58.044471Z",
     "start_time": "2020-07-25T13:04:58.040071Z"
    }
   },
   "outputs": [],
   "source": [
    "params = {}\n",
    "params['learning_rate'] = 0.01\n",
    "params['boosting_type'] = 'gbdt'\n",
    "params['objective'] = 'binary'\n",
    "params['metric'] = 'binary_logloss'\n",
    "params['sub_feature'] = 0.1\n",
    "params['num_leaves'] = 10\n",
    "params['min_data'] = 50\n",
    "params['max_depth'] = 10"
   ]
  },
  {
   "cell_type": "code",
   "execution_count": 99,
   "metadata": {
    "ExecuteTime": {
     "end_time": "2020-07-25T13:23:47.911443Z",
     "start_time": "2020-07-25T13:07:05.418457Z"
    }
   },
   "outputs": [],
   "source": [
    "iter_predicttion = []\n",
    "for i in range(4):\n",
    "    pred_stack = []\n",
    "    kf = KFold(n_splits = 8, shuffle=True)\n",
    "    fold = kf.split(train_dev)\n",
    "    for train_index, dev_index in fold:\n",
    "        train1 = train_dev.iloc[train_index,1:]\n",
    "        dev1 = train_dev.iloc[dev_index,1:]\n",
    "\n",
    "        d_train = lgb.Dataset(train1, label = train_dev.loc[train_index][\"label\"])\n",
    "        clf = lgb.train(params,d_train, 2500)\n",
    "        predictions_test = clf.predict(test)\n",
    "        pred_stack.append(predictions_test)\n",
    "    predictions = np.asarray(pred_stack)\n",
    "    predictions = np.mean(predictions, axis = 0)\n",
    "\n",
    "    iter_predicttion.append(predictions)"
   ]
  },
  {
   "cell_type": "code",
   "execution_count": 100,
   "metadata": {
    "ExecuteTime": {
     "end_time": "2020-07-25T13:24:11.213813Z",
     "start_time": "2020-07-25T13:24:11.061908Z"
    }
   },
   "outputs": [
    {
     "data": {
      "text/html": [
       "<div>\n",
       "<style scoped>\n",
       "    .dataframe tbody tr th:only-of-type {\n",
       "        vertical-align: middle;\n",
       "    }\n",
       "\n",
       "    .dataframe tbody tr th {\n",
       "        vertical-align: top;\n",
       "    }\n",
       "\n",
       "    .dataframe thead th {\n",
       "        text-align: right;\n",
       "    }\n",
       "</style>\n",
       "<table border=\"1\" class=\"dataframe\">\n",
       "  <thead>\n",
       "    <tr style=\"text-align: right;\">\n",
       "      <th></th>\n",
       "      <th>id</th>\n",
       "      <th>label</th>\n",
       "      <th>0</th>\n",
       "      <th>1</th>\n",
       "      <th>2</th>\n",
       "      <th>3</th>\n",
       "      <th>4</th>\n",
       "      <th>5</th>\n",
       "      <th>6</th>\n",
       "      <th>7</th>\n",
       "      <th>...</th>\n",
       "      <th>483</th>\n",
       "      <th>484</th>\n",
       "      <th>485</th>\n",
       "      <th>486</th>\n",
       "      <th>487</th>\n",
       "      <th>488</th>\n",
       "      <th>489</th>\n",
       "      <th>490</th>\n",
       "      <th>491</th>\n",
       "      <th>492</th>\n",
       "    </tr>\n",
       "  </thead>\n",
       "  <tbody>\n",
       "    <tr>\n",
       "      <th>0</th>\n",
       "      <td>53030</td>\n",
       "      <td>1</td>\n",
       "      <td>0.930744</td>\n",
       "      <td>0.930721</td>\n",
       "      <td>0.967480</td>\n",
       "      <td>0.967480</td>\n",
       "      <td>0.891694</td>\n",
       "      <td>0.687620</td>\n",
       "      <td>0.967480</td>\n",
       "      <td>0.200000</td>\n",
       "      <td>...</td>\n",
       "      <td>1.067109e-07</td>\n",
       "      <td>0.539405</td>\n",
       "      <td>0.185971</td>\n",
       "      <td>0.394981</td>\n",
       "      <td>0.000000</td>\n",
       "      <td>0.048018</td>\n",
       "      <td>0.055092</td>\n",
       "      <td>0.037871</td>\n",
       "      <td>0.020911</td>\n",
       "      <td>0.126778</td>\n",
       "    </tr>\n",
       "    <tr>\n",
       "      <th>1</th>\n",
       "      <td>53031</td>\n",
       "      <td>1</td>\n",
       "      <td>0.901134</td>\n",
       "      <td>0.901937</td>\n",
       "      <td>0.971066</td>\n",
       "      <td>0.971066</td>\n",
       "      <td>0.889364</td>\n",
       "      <td>0.685944</td>\n",
       "      <td>0.971066</td>\n",
       "      <td>0.200000</td>\n",
       "      <td>...</td>\n",
       "      <td>9.970238e-04</td>\n",
       "      <td>0.539405</td>\n",
       "      <td>0.185971</td>\n",
       "      <td>0.477607</td>\n",
       "      <td>0.567141</td>\n",
       "      <td>0.048018</td>\n",
       "      <td>0.055092</td>\n",
       "      <td>0.037871</td>\n",
       "      <td>0.020911</td>\n",
       "      <td>0.000000</td>\n",
       "    </tr>\n",
       "    <tr>\n",
       "      <th>2</th>\n",
       "      <td>53032</td>\n",
       "      <td>1</td>\n",
       "      <td>0.704338</td>\n",
       "      <td>0.716350</td>\n",
       "      <td>0.881799</td>\n",
       "      <td>0.880360</td>\n",
       "      <td>0.806059</td>\n",
       "      <td>0.612649</td>\n",
       "      <td>0.882149</td>\n",
       "      <td>0.219541</td>\n",
       "      <td>...</td>\n",
       "      <td>1.451679e-02</td>\n",
       "      <td>0.535916</td>\n",
       "      <td>0.153460</td>\n",
       "      <td>0.465278</td>\n",
       "      <td>0.669977</td>\n",
       "      <td>0.048018</td>\n",
       "      <td>0.055092</td>\n",
       "      <td>0.037871</td>\n",
       "      <td>0.020911</td>\n",
       "      <td>0.126778</td>\n",
       "    </tr>\n",
       "    <tr>\n",
       "      <th>3</th>\n",
       "      <td>53033</td>\n",
       "      <td>1</td>\n",
       "      <td>0.936967</td>\n",
       "      <td>0.936973</td>\n",
       "      <td>0.981557</td>\n",
       "      <td>0.981557</td>\n",
       "      <td>0.903797</td>\n",
       "      <td>0.696328</td>\n",
       "      <td>0.981557</td>\n",
       "      <td>0.200000</td>\n",
       "      <td>...</td>\n",
       "      <td>3.542231e-05</td>\n",
       "      <td>0.539405</td>\n",
       "      <td>0.185971</td>\n",
       "      <td>0.590310</td>\n",
       "      <td>0.358795</td>\n",
       "      <td>0.048018</td>\n",
       "      <td>0.055092</td>\n",
       "      <td>0.037871</td>\n",
       "      <td>0.020911</td>\n",
       "      <td>0.126778</td>\n",
       "    </tr>\n",
       "    <tr>\n",
       "      <th>4</th>\n",
       "      <td>53034</td>\n",
       "      <td>1</td>\n",
       "      <td>0.704338</td>\n",
       "      <td>0.716350</td>\n",
       "      <td>0.881799</td>\n",
       "      <td>0.880360</td>\n",
       "      <td>0.806059</td>\n",
       "      <td>0.612649</td>\n",
       "      <td>0.882149</td>\n",
       "      <td>0.219541</td>\n",
       "      <td>...</td>\n",
       "      <td>1.451679e-02</td>\n",
       "      <td>0.535916</td>\n",
       "      <td>0.153460</td>\n",
       "      <td>0.465278</td>\n",
       "      <td>0.669977</td>\n",
       "      <td>0.000000</td>\n",
       "      <td>0.000000</td>\n",
       "      <td>0.000000</td>\n",
       "      <td>0.000000</td>\n",
       "      <td>0.117512</td>\n",
       "    </tr>\n",
       "    <tr>\n",
       "      <th>...</th>\n",
       "      <td>...</td>\n",
       "      <td>...</td>\n",
       "      <td>...</td>\n",
       "      <td>...</td>\n",
       "      <td>...</td>\n",
       "      <td>...</td>\n",
       "      <td>...</td>\n",
       "      <td>...</td>\n",
       "      <td>...</td>\n",
       "      <td>...</td>\n",
       "      <td>...</td>\n",
       "      <td>...</td>\n",
       "      <td>...</td>\n",
       "      <td>...</td>\n",
       "      <td>...</td>\n",
       "      <td>...</td>\n",
       "      <td>...</td>\n",
       "      <td>...</td>\n",
       "      <td>...</td>\n",
       "      <td>...</td>\n",
       "      <td>...</td>\n",
       "    </tr>\n",
       "    <tr>\n",
       "      <th>20376</th>\n",
       "      <td>73406</td>\n",
       "      <td>1</td>\n",
       "      <td>0.704338</td>\n",
       "      <td>0.716350</td>\n",
       "      <td>0.881799</td>\n",
       "      <td>0.880360</td>\n",
       "      <td>0.806059</td>\n",
       "      <td>0.612649</td>\n",
       "      <td>0.882149</td>\n",
       "      <td>0.219541</td>\n",
       "      <td>...</td>\n",
       "      <td>1.451679e-02</td>\n",
       "      <td>0.535916</td>\n",
       "      <td>0.153460</td>\n",
       "      <td>0.465278</td>\n",
       "      <td>0.669977</td>\n",
       "      <td>0.048018</td>\n",
       "      <td>0.055092</td>\n",
       "      <td>0.037871</td>\n",
       "      <td>0.020911</td>\n",
       "      <td>0.126778</td>\n",
       "    </tr>\n",
       "    <tr>\n",
       "      <th>20377</th>\n",
       "      <td>73407</td>\n",
       "      <td>1</td>\n",
       "      <td>0.704338</td>\n",
       "      <td>0.716350</td>\n",
       "      <td>0.881799</td>\n",
       "      <td>0.880360</td>\n",
       "      <td>0.806059</td>\n",
       "      <td>0.612649</td>\n",
       "      <td>0.882149</td>\n",
       "      <td>0.219541</td>\n",
       "      <td>...</td>\n",
       "      <td>1.451679e-02</td>\n",
       "      <td>0.535916</td>\n",
       "      <td>0.153460</td>\n",
       "      <td>0.465278</td>\n",
       "      <td>0.669977</td>\n",
       "      <td>0.048018</td>\n",
       "      <td>0.055092</td>\n",
       "      <td>0.037871</td>\n",
       "      <td>0.020911</td>\n",
       "      <td>0.126778</td>\n",
       "    </tr>\n",
       "    <tr>\n",
       "      <th>20378</th>\n",
       "      <td>73408</td>\n",
       "      <td>1</td>\n",
       "      <td>0.667007</td>\n",
       "      <td>0.667340</td>\n",
       "      <td>0.902919</td>\n",
       "      <td>0.902919</td>\n",
       "      <td>0.829723</td>\n",
       "      <td>0.704204</td>\n",
       "      <td>0.902919</td>\n",
       "      <td>0.200000</td>\n",
       "      <td>...</td>\n",
       "      <td>4.221206e-04</td>\n",
       "      <td>0.539405</td>\n",
       "      <td>0.334829</td>\n",
       "      <td>0.096539</td>\n",
       "      <td>0.796507</td>\n",
       "      <td>0.048018</td>\n",
       "      <td>0.000000</td>\n",
       "      <td>0.037871</td>\n",
       "      <td>0.020911</td>\n",
       "      <td>0.000000</td>\n",
       "    </tr>\n",
       "    <tr>\n",
       "      <th>20379</th>\n",
       "      <td>73409</td>\n",
       "      <td>1</td>\n",
       "      <td>0.704338</td>\n",
       "      <td>0.716350</td>\n",
       "      <td>0.881799</td>\n",
       "      <td>0.880360</td>\n",
       "      <td>0.806059</td>\n",
       "      <td>0.612649</td>\n",
       "      <td>0.882149</td>\n",
       "      <td>0.219541</td>\n",
       "      <td>...</td>\n",
       "      <td>1.451679e-02</td>\n",
       "      <td>0.535916</td>\n",
       "      <td>0.153460</td>\n",
       "      <td>0.465278</td>\n",
       "      <td>0.669977</td>\n",
       "      <td>0.000000</td>\n",
       "      <td>0.000000</td>\n",
       "      <td>0.037871</td>\n",
       "      <td>0.000000</td>\n",
       "      <td>0.002304</td>\n",
       "    </tr>\n",
       "    <tr>\n",
       "      <th>20380</th>\n",
       "      <td>73410</td>\n",
       "      <td>1</td>\n",
       "      <td>0.834892</td>\n",
       "      <td>0.838207</td>\n",
       "      <td>0.903687</td>\n",
       "      <td>0.903687</td>\n",
       "      <td>0.829723</td>\n",
       "      <td>0.612037</td>\n",
       "      <td>0.903687</td>\n",
       "      <td>0.200000</td>\n",
       "      <td>...</td>\n",
       "      <td>4.025400e-03</td>\n",
       "      <td>0.539405</td>\n",
       "      <td>0.110539</td>\n",
       "      <td>0.578935</td>\n",
       "      <td>0.793697</td>\n",
       "      <td>0.048018</td>\n",
       "      <td>0.055092</td>\n",
       "      <td>0.037871</td>\n",
       "      <td>0.020911</td>\n",
       "      <td>0.126778</td>\n",
       "    </tr>\n",
       "  </tbody>\n",
       "</table>\n",
       "<p>20381 rows × 495 columns</p>\n",
       "</div>"
      ],
      "text/plain": [
       "          id  label         0         1         2         3         4  \\\n",
       "0      53030      1  0.930744  0.930721  0.967480  0.967480  0.891694   \n",
       "1      53031      1  0.901134  0.901937  0.971066  0.971066  0.889364   \n",
       "2      53032      1  0.704338  0.716350  0.881799  0.880360  0.806059   \n",
       "3      53033      1  0.936967  0.936973  0.981557  0.981557  0.903797   \n",
       "4      53034      1  0.704338  0.716350  0.881799  0.880360  0.806059   \n",
       "...      ...    ...       ...       ...       ...       ...       ...   \n",
       "20376  73406      1  0.704338  0.716350  0.881799  0.880360  0.806059   \n",
       "20377  73407      1  0.704338  0.716350  0.881799  0.880360  0.806059   \n",
       "20378  73408      1  0.667007  0.667340  0.902919  0.902919  0.829723   \n",
       "20379  73409      1  0.704338  0.716350  0.881799  0.880360  0.806059   \n",
       "20380  73410      1  0.834892  0.838207  0.903687  0.903687  0.829723   \n",
       "\n",
       "              5         6         7  ...           483       484       485  \\\n",
       "0      0.687620  0.967480  0.200000  ...  1.067109e-07  0.539405  0.185971   \n",
       "1      0.685944  0.971066  0.200000  ...  9.970238e-04  0.539405  0.185971   \n",
       "2      0.612649  0.882149  0.219541  ...  1.451679e-02  0.535916  0.153460   \n",
       "3      0.696328  0.981557  0.200000  ...  3.542231e-05  0.539405  0.185971   \n",
       "4      0.612649  0.882149  0.219541  ...  1.451679e-02  0.535916  0.153460   \n",
       "...         ...       ...       ...  ...           ...       ...       ...   \n",
       "20376  0.612649  0.882149  0.219541  ...  1.451679e-02  0.535916  0.153460   \n",
       "20377  0.612649  0.882149  0.219541  ...  1.451679e-02  0.535916  0.153460   \n",
       "20378  0.704204  0.902919  0.200000  ...  4.221206e-04  0.539405  0.334829   \n",
       "20379  0.612649  0.882149  0.219541  ...  1.451679e-02  0.535916  0.153460   \n",
       "20380  0.612037  0.903687  0.200000  ...  4.025400e-03  0.539405  0.110539   \n",
       "\n",
       "            486       487       488       489       490       491       492  \n",
       "0      0.394981  0.000000  0.048018  0.055092  0.037871  0.020911  0.126778  \n",
       "1      0.477607  0.567141  0.048018  0.055092  0.037871  0.020911  0.000000  \n",
       "2      0.465278  0.669977  0.048018  0.055092  0.037871  0.020911  0.126778  \n",
       "3      0.590310  0.358795  0.048018  0.055092  0.037871  0.020911  0.126778  \n",
       "4      0.465278  0.669977  0.000000  0.000000  0.000000  0.000000  0.117512  \n",
       "...         ...       ...       ...       ...       ...       ...       ...  \n",
       "20376  0.465278  0.669977  0.048018  0.055092  0.037871  0.020911  0.126778  \n",
       "20377  0.465278  0.669977  0.048018  0.055092  0.037871  0.020911  0.126778  \n",
       "20378  0.096539  0.796507  0.048018  0.000000  0.037871  0.020911  0.000000  \n",
       "20379  0.465278  0.669977  0.000000  0.000000  0.037871  0.000000  0.002304  \n",
       "20380  0.578935  0.793697  0.048018  0.055092  0.037871  0.020911  0.126778  \n",
       "\n",
       "[20381 rows x 495 columns]"
      ]
     },
     "execution_count": 100,
     "metadata": {},
     "output_type": "execute_result"
    }
   ],
   "source": [
    "predictions = np.asarray(iter_predicttion)\n",
    "predictions = np.mean(predictions, axis = 0)\n",
    "predictions = list(predictions)\n",
    "\n",
    "for i in range(len(predictions)):\n",
    "    if predictions[i] >= 0.5:\n",
    "        predictions[i] = 1\n",
    "    else:\n",
    "        predictions[i] = 0\n",
    "        \n",
    "new_label = pd.DataFrame(predictions, columns = [\"label\"])\n",
    "\n",
    "new_data_id = []\n",
    "for i in range(len(new_label)):\n",
    "    idx = len(df_train) + i\n",
    "    new_data_id.append(idx)\n",
    "new_data_id = pd.DataFrame(new_data_id, columns = [\"id\"])\n",
    "\n",
    "new_data =  pd.concat([new_data_id, new_label, test.iloc[:,1:]], axis = 1)"
   ]
  },
  {
   "cell_type": "code",
   "execution_count": 101,
   "metadata": {
    "ExecuteTime": {
     "end_time": "2020-07-25T13:24:26.898620Z",
     "start_time": "2020-07-25T13:24:26.895264Z"
    }
   },
   "outputs": [],
   "source": [
    "data_version = \"07-10-2020-full\""
   ]
  },
  {
   "cell_type": "code",
   "execution_count": 103,
   "metadata": {
    "ExecuteTime": {
     "end_time": "2020-07-25T13:25:20.617562Z",
     "start_time": "2020-07-25T13:24:42.358679Z"
    }
   },
   "outputs": [],
   "source": [
    "os.makedirs(f\"../../data/kalapa/{data_version}/\", exist_ok=True)\n",
    "train_dev.to_csv(f\"../../data/kalapa/{data_version}/train.csv\", index = False)\n",
    "test.to_csv(f\"../../data/kalapa/{data_version}/test.csv\", index = False)\n",
    "new_data.to_csv(f\"../../data/kalapa/{data_version}/new_data.csv\", index = False)"
   ]
  }
 ],
 "metadata": {
  "kernelspec": {
   "display_name": "Python 3",
   "language": "python",
   "name": "python3"
  },
  "language_info": {
   "codemirror_mode": {
    "name": "ipython",
    "version": 3
   },
   "file_extension": ".py",
   "mimetype": "text/x-python",
   "name": "python",
   "nbconvert_exporter": "python",
   "pygments_lexer": "ipython3",
   "version": "3.7.7"
  },
  "varInspector": {
   "cols": {
    "lenName": 16,
    "lenType": 16,
    "lenVar": 40
   },
   "kernels_config": {
    "python": {
     "delete_cmd_postfix": "",
     "delete_cmd_prefix": "del ",
     "library": "var_list.py",
     "varRefreshCmd": "print(var_dic_list())"
    },
    "r": {
     "delete_cmd_postfix": ") ",
     "delete_cmd_prefix": "rm(",
     "library": "var_list.r",
     "varRefreshCmd": "cat(var_dic_list()) "
    }
   },
   "types_to_exclude": [
    "module",
    "function",
    "builtin_function_or_method",
    "instance",
    "_Feature"
   ],
   "window_display": false
  }
 },
 "nbformat": 4,
 "nbformat_minor": 4
}
