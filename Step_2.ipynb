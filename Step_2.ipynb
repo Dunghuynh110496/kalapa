{
 "cells": [
  {
   "cell_type": "code",
   "execution_count": 1,
   "metadata": {
    "ExecuteTime": {
     "end_time": "2020-07-21T06:10:46.538541Z",
     "start_time": "2020-07-21T06:10:45.741728Z"
    }
   },
   "outputs": [],
   "source": [
    "import pandas as pd\n",
    "import numpy as np\n",
    "import matplotlib.pyplot as plt\n",
    "import datetime\n",
    "import time\n",
    "import sys\n",
    "import csv\n",
    "import os\n",
    "from sklearn import metrics\n",
    "from dateutil.parser import parse\n",
    "from sklearn.preprocessing import MinMaxScaler\n",
    "from sklearn.feature_extraction.text import TfidfVectorizer\n",
    "%matplotlib inline"
   ]
  },
  {
   "cell_type": "code",
   "execution_count": 2,
   "metadata": {
    "ExecuteTime": {
     "end_time": "2020-07-21T06:10:46.544284Z",
     "start_time": "2020-07-21T06:10:46.540349Z"
    }
   },
   "outputs": [],
   "source": [
    "data_version_input = \"01-10-2020\""
   ]
  },
  {
   "cell_type": "code",
   "execution_count": 3,
   "metadata": {
    "ExecuteTime": {
     "end_time": "2020-07-21T06:10:47.675971Z",
     "start_time": "2020-07-21T06:10:46.548175Z"
    }
   },
   "outputs": [
    {
     "name": "stderr",
     "output_type": "stream",
     "text": [
      "/home/parker/anaconda3/envs/py37/lib/python3.7/site-packages/IPython/core/interactiveshell.py:3072: DtypeWarning: Columns (35) have mixed types.Specify dtype option on import or set low_memory=False.\n",
      "  interactivity=interactivity, compiler=compiler, result=result)\n",
      "/home/parker/anaconda3/envs/py37/lib/python3.7/site-packages/IPython/core/interactiveshell.py:3072: DtypeWarning: Columns (34) have mixed types.Specify dtype option on import or set low_memory=False.\n",
      "  interactivity=interactivity, compiler=compiler, result=result)\n"
     ]
    }
   ],
   "source": [
    "df_train = pd.read_csv(f\"../../data/kalapa/{data_version_input}/train.csv\")\n",
    "df_test = pd.read_csv(f\"../../data/kalapa/{data_version_input}/test.csv\")"
   ]
  },
  {
   "cell_type": "code",
   "execution_count": 4,
   "metadata": {
    "ExecuteTime": {
     "end_time": "2020-07-21T06:10:47.958084Z",
     "start_time": "2020-07-21T06:10:47.677527Z"
    }
   },
   "outputs": [],
   "source": [
    "df_transform = pd.concat([df_train.iloc[:,2:], df_test.iloc[:,1:]], axis = 0)"
   ]
  },
  {
   "cell_type": "code",
   "execution_count": 5,
   "metadata": {
    "ExecuteTime": {
     "end_time": "2020-07-21T06:10:47.966060Z",
     "start_time": "2020-07-21T06:10:47.959737Z"
    }
   },
   "outputs": [],
   "source": [
    "data_type = {\n",
    "    \"cat_num\":[\"Field_22\",\"Field_13\", \"Field_41\", \"Field_42\",\"Field_50\", \"Field_51\", \"Field_53\",\\\n",
    "               \"Field_73\",  \"partner0_A\", \"partner0_B\", \"partner0_C\", \"partner0_D\", \"partner0_E\",\\\n",
    "               \"partner0_F\", \"partner0_G\", \"partner0_H\", \"partner1_A\", \"partner1_C\", \"partner1_G\", \"partner1_H\",\\\n",
    "               \"partner2_A\", \"partner2_C\", \"partner2_D\", \"partner2_F\", \"partner2_H\",\"partner3_A\", \"partner3_D\",\\\n",
    "               \"partner3_E\", \"partner4_L\", \"partner5_A\", \"partner5_D\", \"partner5_G\"],\n",
    "    \"cat_str\" : [\"Field_3\",\"Field_4\", \"Field_12\",\"Field_36\", \"Field_38\", \"Field_54\", \"Field_62\",\"Field_65\", \\\n",
    "                 \"Field_66\", \"info_social_sex\", \"brief\", \"gioiTinh\"], \n",
    "    \"date\" : [\"Field_1\", \"Field_2\", \"Field_5\", \"Field_6\", \"Field_7\", \"Field_8\", \"Field_9\", \"Field_11\",\\\n",
    "             \"Field_15\", \"Field_25\", \"Field_32\", \"Field_33\", \"Field_35\", \"Field_40\",\"Field_43\", \"Field_44\", \\\n",
    "              \"F_startDate\", \"F_endDate\", \"E_startDate\", \"E_endDate\", \"C_startDate\",\n",
    "             \"C_endDate\", \"G_startDate\", \"G_endDate\", \"A_startDate\", \"A_endDate\"],\n",
    "    \"text\" : [\"Field_18\",\"currentLocationCity\", \"homeTownCity\", \"Field_48\", \"Field_49\",\"currentLocationName\",\\\n",
    "             \"currentLocationCountry\", \"currentLocationState\", 'homeTownState','data.basic_info.locale', \"maCv\",\\\n",
    "              'homeTownName', \"homeTownCountry\", \"Field_61\"],\n",
    "    \"drop\" : [\"Field_45\", \"Field_34\",\"Field_68\", \"diaChi\", \"Field_46\", \"Field_55\"]\n",
    "}"
   ]
  },
  {
   "cell_type": "code",
   "execution_count": 6,
   "metadata": {
    "ExecuteTime": {
     "end_time": "2020-07-21T06:10:48.207382Z",
     "start_time": "2020-07-21T06:10:47.967291Z"
    },
    "scrolled": true
   },
   "outputs": [
    {
     "name": "stdout",
     "output_type": "stream",
     "text": [
      "Field_18 : 8727 : Index(['.', 'KD', 'Sản xuất', 'thành phố Biên Hòa', 'Kinh doanh', ',', '1'], dtype='object')\n",
      "currentLocationCity : 1020 : Index(['Ho Chi Minh City', 'Hanoi', 'Da Nang', 'Thanh Hóa', 'Hai Phong',\n",
      "       'Thái Nguyên', 'Biên Hòa'],\n",
      "      dtype='object')\n",
      "homeTownCity : 1013 : Index(['Hanoi', 'Ho Chi Minh City', 'Thanh Hóa', 'Hai Phong', 'Bac Giang',\n",
      "       'Thái Bình', 'Bac Ninh'],\n",
      "      dtype='object')\n",
      "Field_48 : 15760 : Index(['153 Xô Viết Nghệ Tĩnh Quận Bình Thạnh', 'Bình Dương',\n",
      "       '162 Tô Hiệu, Hà Cầu, Hà Đông, Hà Nội',\n",
      "       '128 Trần Quang Khải, P. Tân Định, Q.1',\n",
      "       'Tầng 2 Tòa nhà REE Tower số 9 Đoàn Văn Bơ, P12, Q4, Tp.HCM',\n",
      "       'KCN Yên Bình 1, phường Đồng Tiến, thị xã  Phổ Yên, tỉnh Thái Nguyên',\n",
      "       'Tầng trệt Tòa Nhà Rosana, Số 60 Nguyễn Đình Chiểu, P. Đao Kao, Q.1, TP. HCM'],\n",
      "      dtype='object')\n",
      "Field_49 : 15975 : Index(['153 Xô Viết Nghệ Tĩnh Quận Bình Thạnh', 'Bình Dương',\n",
      "       '162 Tô Hiệu, Hà Cầu, Hà Đông, Hà Nội',\n",
      "       '(Buu dien) lầu 5, Phòng 5.1, tòa nhà Etown 2, số 364 Cộng Hòa, Phường 13, Q, Tân Bình',\n",
      "       'Tầng 2 Tòa nhà REE Tower số 9 Đoàn Văn Bơ, P12, Q4, Tp.HCM',\n",
      "       'KCN Yên Bình 1, phường Đồng Tiến, thị xã  Phổ Yên, tỉnh Thái Nguyên',\n",
      "       '(Bưu điện) Tầng 2, Khu AB, Tòa Nhà  27B Nguyễn Đình Chiểu, P. ĐK, Q1'],\n",
      "      dtype='object')\n",
      "currentLocationName : 1275 : Index(['Thành phố Hồ Chí Minh', 'Hà Nội', 'Đà Nẵng', 'Thanh Hóa', 'Hải Phòng',\n",
      "       'Biên Hòa', 'Thái Nguyên (thành phố)'],\n",
      "      dtype='object')\n",
      "currentLocationCountry : 51 : Index(['Vietnam', 'United States', 'Japan', 'South Korea', 'Malaysia', 'China',\n",
      "       'United Kingdom'],\n",
      "      dtype='object')\n",
      "currentLocationState : 235 : Index(['Ho Chi Minh City', 'Hanoi', 'Đồng Nai Province', 'Da Nang', 'Haiphong',\n",
      "       'Thanh Hóa Province', 'Nghệ An Province'],\n",
      "      dtype='object')\n",
      "homeTownState : 170 : Index(['Hanoi', 'Ho Chi Minh City', 'Thanh Hóa Province', 'Nghệ An Province',\n",
      "       'Haiphong', 'Đồng Nai Province', 'Khánh Hòa Province'],\n",
      "      dtype='object')\n",
      "data.basic_info.locale : 27 : Index(['vi_VN', 'en_US', 'zh_TW', 'en_GB', 'es_LA', 'pt_BR', 'fr_FR'], dtype='object')\n",
      "maCv : 4546 : Index(['Công nhân', 'Nhân viên', 'công nhân', 'Giáo viên',\n",
      "       'Công nhân sản xuất', 'Công Nhân', 'Nhân viên bán hàng'],\n",
      "      dtype='object')\n",
      "homeTownName : 1305 : Index(['Hà Nội', 'Thành phố Hồ Chí Minh', 'Thanh Hóa', 'Hải Phòng',\n",
      "       'Thái Bình, Thái Bình, Vietnam', 'Đà Nẵng', 'Thái Nguyên (thành phố)'],\n",
      "      dtype='object')\n",
      "homeTownCountry : 44 : Index(['Vietnam', 'United States', 'Malaysia', 'South Korea', 'China',\n",
      "       'United Kingdom', 'United Arab Emirates'],\n",
      "      dtype='object')\n",
      "Field_61 : 36 : Index(['Khối DN Ngoài quốc doanh', 'Khối DN có vốn DTNN', 'Hộ gia đình',\n",
      "       'Khối HS, Đảng, Đoàn', 'Trợ cấp bảo hiểm thất nghiệp',\n",
      "       'Khối DN Nhà Nước', 'Học sinh sinh viên'],\n",
      "      dtype='object')\n"
     ]
    }
   ],
   "source": [
    "for feature in data_type[\"text\"]:\n",
    "    vc = df_transform[feature].value_counts()\n",
    "    print(f\"{feature} : {len(vc)} : {vc.index[:7]}\")"
   ]
  },
  {
   "cell_type": "code",
   "execution_count": 7,
   "metadata": {
    "ExecuteTime": {
     "end_time": "2020-07-21T06:10:48.394661Z",
     "start_time": "2020-07-21T06:10:48.209659Z"
    }
   },
   "outputs": [
    {
     "data": {
      "image/png": "[encoded data removed]",
      "text/plain": [
       "<Figure size 432x288 with 1 Axes>"
      ]
     },
     "metadata": {
      "needs_background": "light"
     },
     "output_type": "display_data"
    },
    {
     "data": {
      "text/plain": [
       "Doanh nghiệp có vốn đầu tư nước ngoài                                                           8175\n",
       "Là những người thuộc hộ gia đình, trừ các đối tượng trên                                        6536\n",
       "Người đang hưởng trợ cấp thất nghiệp                                                            1531\n",
       "Ngoài quốc doanh Tỉnh/TP                                                                        1031\n",
       "Ngoài quốc doanh Quận 1                                                                          957\n",
       "Doanh nghiệp nhà nước TW                                                                         640\n",
       "Hành chánh sự nghiệp Tỉnh/TP                                                                     430\n",
       "Doanh nghiệp nhà nước Tỉnh/TP                                                                    423\n",
       "Học sinh sinh viên                                                                               393\n",
       "Hộ gia đình làm nông, lâm, ngư diêm nghiệp                                                       351\n",
       "Người đang sinh sống tại vùng có điều kiện kinh tế - xã hội đặc biệt khó khăn                    336\n",
       "Ngoài quốc doanh TW                                                                              302\n",
       "Ngoài quốc doanh Quận Bình Thạnh                                                                 291\n",
       "Người dân tộc thiểu số đang sinh sống tại vùng có điều kiện KT-XH khó khăn,đặc biệt khó khăn     288\n",
       "Ngoài quốc doanh Quận 3                                                                          285\n",
       "Ngoài quốc doanh Quận Đống Đa                                                                    278\n",
       "Trợ cấp thất nghiệp                                                                              257\n",
       "Ngoài quốc doanh Quận Cầu Giấy                                                                   253\n",
       "Ngoài quốc doanh Quận Tân Bình                                                                   218\n",
       "Ngoài quốc doanh Quận Hai Bà Trưng                                                               194\n",
       "Ngoài quốc doanh Quận Phú Nhuận                                                                  192\n",
       "Người nghèo/ cận nghèo                                                                           187\n",
       "Hành chánh sự nghiệp TW                                                                          182\n",
       "Người thuộc hộ gia đình cận nghèo NSNN hỗ trợ 70%                                                171\n",
       "Ngoài quốc doanh Quận 7                                                                          149\n",
       "Ngoài quốc doanh Quận 4                                                                          146\n",
       "Ngoài quốc doanh Quận Ba Đình                                                                    140\n",
       "Ngoài quốc doanh Quận 10                                                                         139\n",
       "Ngoài quốc doanh Quận Tân Phú                                                                    137\n",
       "Doanh nghiệp nhà nước chuyển cổ phần                                                             136\n",
       "Ngoài quốc doanh Quận 5                                                                          135\n",
       "Sinh viên                                                                                        134\n",
       "Ngoài quốc doanh Quận Bình Tân                                                                   130\n",
       "Ngoài quốc doanh Quận Thanh Xuân                                                                 130\n",
       "Ngoài quốc doanh Quận 2                                                                          129\n",
       "Ngoài quốc doanh Quận Hoàn Kiếm                                                                  126\n",
       "Ngoài quốc doanh Thành phố Nha Trang                                                             120\n",
       "Ngoài quốc doanh Quận Hoàng Mai                                                                  120\n",
       "Ngoài quốc doanh Thành phố Biên Hòa                                                              117\n",
       "Cán bộ xã phường không chuyên trách tham gia BHXH, BHYT                                          115\n",
       "Ngoài quốc doanh Huyện Từ Liêm                                                                   114\n",
       "Ngoài quốc doanh Quận 12                                                                         113\n",
       "Người đang sinh sống tại xã đảo, huyện đảo                                                       113\n",
       "Ngoài quốc doanh Huyện Dĩ An                                                                     105\n",
       "Ngoài quốc doanh Quận Gò Vấp                                                                     105\n",
       "Ngoài quốc doanh Quận Thủ Đức                                                                    100\n",
       "Ngoài quốc doanh Huyện Thuận An                                                                   95\n",
       "Ngoài quốc doanh Quận Hải Châu                                                                    93\n",
       "Ngoài quốc doanh Huyện Bình Chánh                                                                 89\n",
       "Ngoài quốc doanh Quận Long Biên                                                                   89\n",
       "Name: Field_56, dtype: int64"
      ]
     },
     "execution_count": 7,
     "metadata": {},
     "output_type": "execute_result"
    }
   ],
   "source": [
    "data = list(df_transform[\"Field_56\"].value_counts())\n",
    "plt.plot(data)\n",
    "plt.show()\n",
    "df_transform[\"Field_56\"].value_counts()[:50]"
   ]
  },
  {
   "cell_type": "code",
   "execution_count": 8,
   "metadata": {
    "ExecuteTime": {
     "end_time": "2020-07-21T06:10:48.402017Z",
     "start_time": "2020-07-21T06:10:48.398537Z"
    },
    "code_folding": [
     0
    ]
   },
   "outputs": [],
   "source": [
    "def create_other(indexes, x):\n",
    "    if x in indexes:\n",
    "        return x\n",
    "    elif x is np.nan:\n",
    "        return \"NaN\"\n",
    "    return \"other\""
   ]
  },
  {
   "cell_type": "code",
   "execution_count": 9,
   "metadata": {
    "ExecuteTime": {
     "end_time": "2020-07-21T06:10:48.472133Z",
     "start_time": "2020-07-21T06:10:48.403200Z"
    },
    "code_folding": [
     0
    ]
   },
   "outputs": [],
   "source": [
    "def findandreplace(df, feature):\n",
    "    df[feature] = df[feature].fillna(\"Nan\")\n",
    "    classes = {}\n",
    "    k = 0\n",
    "    vc = df[feature].value_counts()\n",
    "    uniques = vc.index\n",
    "    for unique in uniques:\n",
    "        classes[unique] = k\n",
    "        k += 1\n",
    "    df[feature] = df[feature].map(lambda x: classes[x])\n",
    "    return df"
   ]
  },
  {
   "cell_type": "code",
   "execution_count": 10,
   "metadata": {
    "ExecuteTime": {
     "end_time": "2020-07-21T06:10:48.585251Z",
     "start_time": "2020-07-21T06:10:48.474239Z"
    },
    "code_folding": []
   },
   "outputs": [],
   "source": [
    "def keep_num_value(df, feature, n):\n",
    "    indexes = list(df[feature].value_counts().index)[:n]\n",
    "    df[feature] = df[feature].map(lambda x: create_other(indexes, x))\n",
    "    return df"
   ]
  },
  {
   "cell_type": "code",
   "execution_count": 11,
   "metadata": {
    "ExecuteTime": {
     "end_time": "2020-07-21T06:10:48.663871Z",
     "start_time": "2020-07-21T06:10:48.586903Z"
    },
    "code_folding": [
     0
    ]
   },
   "outputs": [],
   "source": [
    "def fit54(x):\n",
    "    if \"1\" in str(x).lower() or \"01\" in str(x).lower():\n",
    "        return \"VN\"\n",
    "    elif \"tân\" in str(x).lower():\n",
    "        return \"VN\"\n",
    "    return x"
   ]
  },
  {
   "cell_type": "code",
   "execution_count": 12,
   "metadata": {
    "ExecuteTime": {
     "end_time": "2020-07-21T06:10:48.739245Z",
     "start_time": "2020-07-21T06:10:48.665667Z"
    }
   },
   "outputs": [],
   "source": [
    "def fit56(x):\n",
    "    if \"ngoài quốc\" in str(x).lower():\n",
    "        return \"Ngoài Quốc Doanh\"\n",
    "    \n",
    "    elif \"hành\" in str(x).lower():\n",
    "        return \"hành chánh sự nghiệp\"\n",
    "    \n",
    "    elif \"doanh nghiệp\" in str(x).lower():\n",
    "        return \"Doanh Nghiệp\"\n",
    "\n",
    "    elif \"ngoài công\" in str(x).lower():\n",
    "        return \"Ngoài công lập\"\n",
    "    \n",
    "    elif \"hội nn, cá thể \" in str(x).lower():\n",
    "        return \"Hội nn, Cá thể \"\n",
    "    \n",
    "    elif \"sự nghiệp\" in str(x).lower():\n",
    "        return \"sự nghiệp\"\n",
    "    \n",
    "    elif \"văn phòng đại diện, cơ quan nước ngoài\" in str(x).lower():\n",
    "        return \"Văn phòng đại diện nước ngoài\"\n",
    "    \n",
    "    elif \"học sinh sinh viên\" in str(x).lower() or \"sinh viên\" in str(x).lower():\n",
    "        return \"sinh viên\"\n",
    "    \n",
    "    elif \"doanh nghiệp có vốn đầu tư nước ngoài\" in str(x).lower():\n",
    "        return \"doanh nghiệp có vốn đầu tư nước ngoài\"\n",
    "    elif \"nghèo\" in str(x).lower() or \"khó khăn\" in str(x).lower():\n",
    "        return \"nghèo\"\n",
    "    elif \"đại biểu\" in str(x).lower():\n",
    "        return \"đại biểu\"\n",
    "    elif \"cán bộ\" in str(x).lower() or \"đảng\" in str(x).lower():\n",
    "        return \"cán bộ\"\n",
    "    elif \"phường\" in str(x).lower():\n",
    "        return \"Phường\"\n",
    "    elif \"hợp tác xã\" in str(x).lower():\n",
    "        return \"Hợp Tác Xã\"\n",
    "    return x"
   ]
  },
  {
   "cell_type": "code",
   "execution_count": 13,
   "metadata": {
    "ExecuteTime": {
     "end_time": "2020-07-21T06:10:48.823412Z",
     "start_time": "2020-07-21T06:10:48.741507Z"
    },
    "code_folding": [],
    "scrolled": false
   },
   "outputs": [
    {
     "data": {
      "text/plain": [
       "'\\ndef fit56(x):\\n    if \"ngoài quốc doanh tỉnh\" in str(x).lower() or \"ngoài quốc doanh thành\" in str(x).lower() or \"ngoài quốc doanh tp\" in str(x).lower():\\n        return \"ngoài quốc doanh tỉnh/tp\"\\n    elif \"ngoài quốc doanh quận\" in str(x).lower() or \"ngoài quốc doanh huyện\" in str(x).lower() or \"ngoài quốc doanh liên chiểu\" in str(x).lower():\\n        return \"ngoài quốc doanh quận/huyện\"\\n    elif \"ngoài quốc doanh thị xã\" in str(x).lower():\\n        return \"ngoài quốc doanh thị xã\"\\n    \\n    elif \"hành chánh sự nghiệp tỉnh\" in str(x).lower() or \"hành chánh sự nghiệp thành\" in str(x).lower() or \"hành chánh sự nghiệp tp\" in str(x).lower():\\n        return \"hành chánh sự nghiệp tỉnh/tp\"\\n    elif \"hành chánh sự nghiệp huyện\" in str(x).lower() or \"hành chánh sự nghiệp quận\" in str(x).lower() or \"hành chính sự nghiệp huyện\" in str(x).lower() or \"hành chính sự nghiệp liên chiểu\" in str(x).lower():\\n        return \"hành chánh sự nghiệp huyện/quận\"\\n    elif \"hành chánh sự nghiệp thị\" in str(x).lower() or \"hành chính sự nghiệp thị xã\" in str(x).lower() or \"hành chánh sự nghiệp thi\" in str(x).lower():\\n        return \"hành chánh sự nghiệp thị Xã\"\\n    \\n    elif \"doanh nghiệp nhà nước thành\" in str(x).lower() or \"doanh nghiệp nhà nước tp\" in str(x).lower():\\n        return \"hành chánh sự nghiệp tỉnh/tp\"\\n    elif \"doanh nghiệp nhà nước quận\" in str(x).lower() or \"doanh nghiệp nhà nước huyện\" in str(x).lower() or \"doanh nghiệp nhà nước q\" in str(x).lower():\\n        return \"hành chánh sự nghiệp huyện/quận\"\\n    elif \"doanh nghiệp nhà nước thị\" in str(x).lower():\\n        return \"Doanh nghiệp nhà nước thị xã\"\\n\\n    elif \"ngoài công lập thành\" in str(x).lower() or \"ngoài công lập tỉnh\" in str(x).lower() or \"ngoài công lập tp\" in str(x).lower(): \\n        return \"ngoài công lập tp\"   \\n    elif \"ngoài công lập huyện\" in str(x).lower() or \"ngoài công lập quận\" in str(x).lower():\\n        return \"Ngoài công lập Huyện/Quận\"\\n    elif \"ngoài công lập thị\" in str(x).lower():\\n        return \"Ngoài công lập Thị xã\"\\n    \\n    elif \"hội nn, cá thể thành\" in str(x).lower():\\n        return \"hội nn, cá thể thành phố\"\\n    elif \"hội nn, cá thể huyện\" in str(x).lower() or \"hội nn, cá thể  qu\" in str(x).lower():\\n        return \"hội nn, cá thể  huyện\"\\n    elif \"hội nn, cá thể thị xã\" in str(x).lower():\\n        return \"hội nn, cá thể thị xã\"\\n    \\n    elif \"sự nghiệp quận\" in str(x).lower() or \"sự nghiệp huyện\" in str(x).lower():\\n        return \"sự nghiệp quận/huyện\"\\n    elif \"văn phòng đại diện, cơ quan nước ngoài\" in str(x).lower():\\n        return \"Văn phòng đại diện nước ngoài\"\\n    elif \"học sinh sinh viên\" in str(x).lower() or \"sinh viên\" in str(x).lower():\\n        return \"sinh viên\"\\n    elif \"doanh nghiệp có vốn đầu tư nước ngoài\" in str(x).lower():\\n        return \"doanh nghiệp có vốn đầu tư nước ngoài\"\\n    elif \"nghèo\" in str(x).lower() or \"khó khăn\" in str(x).lower():\\n        return \"nghèo\"\\n    elif \"đại biểu\" in str(x).lower():\\n        return \"đại biểu\"\\n    elif \"cán bộ\" in str(x).lower() or \"đảng\" in str(x).lower():\\n        return \"cán bộ\"\\n    elif \"phường\" in str(x).lower():\\n        return \"Phường\"\\n    elif \"hợp tác xã\" in str(x).lower():\\n        return \"Hợp Tác Xã\"\\n    return x\\n'"
      ]
     },
     "execution_count": 13,
     "metadata": {},
     "output_type": "execute_result"
    }
   ],
   "source": [
    "\"\"\"\n",
    "def fit56(x):\n",
    "    if \"ngoài quốc doanh tỉnh\" in str(x).lower() or \"ngoài quốc doanh thành\" in str(x).lower() or \"ngoài quốc doanh tp\" in str(x).lower():\n",
    "        return \"ngoài quốc doanh tỉnh/tp\"\n",
    "    elif \"ngoài quốc doanh quận\" in str(x).lower() or \"ngoài quốc doanh huyện\" in str(x).lower() or \"ngoài quốc doanh liên chiểu\" in str(x).lower():\n",
    "        return \"ngoài quốc doanh quận/huyện\"\n",
    "    elif \"ngoài quốc doanh thị xã\" in str(x).lower():\n",
    "        return \"ngoài quốc doanh thị xã\"\n",
    "    \n",
    "    elif \"hành chánh sự nghiệp tỉnh\" in str(x).lower() or \"hành chánh sự nghiệp thành\" in str(x).lower() or \"hành chánh sự nghiệp tp\" in str(x).lower():\n",
    "        return \"hành chánh sự nghiệp tỉnh/tp\"\n",
    "    elif \"hành chánh sự nghiệp huyện\" in str(x).lower() or \"hành chánh sự nghiệp quận\" in str(x).lower() or \"hành chính sự nghiệp huyện\" in str(x).lower() or \"hành chính sự nghiệp liên chiểu\" in str(x).lower():\n",
    "        return \"hành chánh sự nghiệp huyện/quận\"\n",
    "    elif \"hành chánh sự nghiệp thị\" in str(x).lower() or \"hành chính sự nghiệp thị xã\" in str(x).lower() or \"hành chánh sự nghiệp thi\" in str(x).lower():\n",
    "        return \"hành chánh sự nghiệp thị Xã\"\n",
    "    \n",
    "    elif \"doanh nghiệp nhà nước thành\" in str(x).lower() or \"doanh nghiệp nhà nước tp\" in str(x).lower():\n",
    "        return \"hành chánh sự nghiệp tỉnh/tp\"\n",
    "    elif \"doanh nghiệp nhà nước quận\" in str(x).lower() or \"doanh nghiệp nhà nước huyện\" in str(x).lower() or \"doanh nghiệp nhà nước q\" in str(x).lower():\n",
    "        return \"hành chánh sự nghiệp huyện/quận\"\n",
    "    elif \"doanh nghiệp nhà nước thị\" in str(x).lower():\n",
    "        return \"Doanh nghiệp nhà nước thị xã\"\n",
    "\n",
    "    elif \"ngoài công lập thành\" in str(x).lower() or \"ngoài công lập tỉnh\" in str(x).lower() or \"ngoài công lập tp\" in str(x).lower(): \n",
    "        return \"ngoài công lập tp\"   \n",
    "    elif \"ngoài công lập huyện\" in str(x).lower() or \"ngoài công lập quận\" in str(x).lower():\n",
    "        return \"Ngoài công lập Huyện/Quận\"\n",
    "    elif \"ngoài công lập thị\" in str(x).lower():\n",
    "        return \"Ngoài công lập Thị xã\"\n",
    "    \n",
    "    elif \"hội nn, cá thể thành\" in str(x).lower():\n",
    "        return \"hội nn, cá thể thành phố\"\n",
    "    elif \"hội nn, cá thể huyện\" in str(x).lower() or \"hội nn, cá thể  qu\" in str(x).lower():\n",
    "        return \"hội nn, cá thể  huyện\"\n",
    "    elif \"hội nn, cá thể thị xã\" in str(x).lower():\n",
    "        return \"hội nn, cá thể thị xã\"\n",
    "    \n",
    "    elif \"sự nghiệp quận\" in str(x).lower() or \"sự nghiệp huyện\" in str(x).lower():\n",
    "        return \"sự nghiệp quận/huyện\"\n",
    "    elif \"văn phòng đại diện, cơ quan nước ngoài\" in str(x).lower():\n",
    "        return \"Văn phòng đại diện nước ngoài\"\n",
    "    elif \"học sinh sinh viên\" in str(x).lower() or \"sinh viên\" in str(x).lower():\n",
    "        return \"sinh viên\"\n",
    "    elif \"doanh nghiệp có vốn đầu tư nước ngoài\" in str(x).lower():\n",
    "        return \"doanh nghiệp có vốn đầu tư nước ngoài\"\n",
    "    elif \"nghèo\" in str(x).lower() or \"khó khăn\" in str(x).lower():\n",
    "        return \"nghèo\"\n",
    "    elif \"đại biểu\" in str(x).lower():\n",
    "        return \"đại biểu\"\n",
    "    elif \"cán bộ\" in str(x).lower() or \"đảng\" in str(x).lower():\n",
    "        return \"cán bộ\"\n",
    "    elif \"phường\" in str(x).lower():\n",
    "        return \"Phường\"\n",
    "    elif \"hợp tác xã\" in str(x).lower():\n",
    "        return \"Hợp Tác Xã\"\n",
    "    return x\n",
    "\"\"\""
   ]
  },
  {
   "cell_type": "code",
   "execution_count": 14,
   "metadata": {
    "ExecuteTime": {
     "end_time": "2020-07-21T06:10:48.928516Z",
     "start_time": "2020-07-21T06:10:48.825155Z"
    },
    "code_folding": [
     0,
     2
    ]
   },
   "outputs": [],
   "source": [
    "def fit62(x):\n",
    "    classes = {\"I\": 1, \"II\": 2, \"III\": 3, \"IV\": 4}\n",
    "    if x in classes:\n",
    "        return classes[x]\n",
    "    return np.nan"
   ]
  },
  {
   "cell_type": "code",
   "execution_count": null,
   "metadata": {},
   "outputs": [],
   "source": []
  },
  {
   "cell_type": "code",
   "execution_count": 15,
   "metadata": {
    "ExecuteTime": {
     "end_time": "2020-07-21T06:10:49.019572Z",
     "start_time": "2020-07-21T06:10:48.931369Z"
    },
    "code_folding": [
     0
    ]
   },
   "outputs": [],
   "source": [
    "def fit49(x):\n",
    "    if \"hà nội\" in str(x).lower() or \"hn\" in str(x).lower() or \"hoài đức\" in str(x).lower():\n",
    "        return \"HN\"\n",
    "    if \"hóc môn\" in str(x).lower() or \"hn\" in str(x).lower() or \"hoài đức\" in str(x).lower():\n",
    "        return \"HN\"\n",
    "    \n",
    "    if \"hcm\" in str(x).lower() or \"tân bình\" in str(x).lower() or \"bình tân\" in str(x).lower():\n",
    "        return \"HCM\"\n",
    "    elif \"bình thạnh\" in str(x).lower() or \"q1\" in str(x).lower() or \"hồ chí minh\" in str(x).lower():\n",
    "        return \"HCM\"\n",
    "    elif \"quận 1\" in str(x).lower() or \"gò vấp\" in str(x).lower() or \"q.pn\" in str(x).lower():\n",
    "        return \"HCM\"\n",
    "    elif \"q7\" in str(x).lower() or \"quận 7\" in str(x).lower() or \"quận 9\" in str(x).lower():\n",
    "        return \"HCM\"\n",
    "    elif \"tân phú\" in str(x).lower() or \"q.7\" in str(x).lower() or \"q4\" in str(x).lower():\n",
    "        return \"HCM\"\n",
    "    elif \"q2\" in str(x).lower() or \"nhà bè\" in str(x).lower() or \"p. bhh\" in str(x).lower():\n",
    "        return \"HCM\"\n",
    "    elif \"thủ đức\" in str(x).lower() or \"quận 8\" in str(x).lower() or \"bình hưng\" in str(x).lower():\n",
    "        return \"HCM\"\n",
    "    elif \"q3\" in str(x).lower() or \"q.4\" in str(x).lower() or \"nguyễn thị tú\" in str(x).lower():\n",
    "        return \"HCM\"\n",
    "    elif \"tân thuận\" in str(x).lower() or \"q.1\" in str(x).lower() or \"bình chánh\" in str(x).lower():\n",
    "        return \"HCM\"\n",
    "    elif \"quận 3\" in str(x).lower() or \"bà điểm\" in str(x).lower() or \"đông thạnh\" in str(x).lower():\n",
    "        return \"HCM\"\n",
    "    elif \"thanh đức\" in str(x).lower() or \"q5\" in str(x).lower() or \"q.6\" in str(x).lower():\n",
    "        return \"HCM\"\n",
    "    elif \"phú nhuận\" in str(x).lower() or \"quận 2\" in str(x).lower() or \"q.6\" in str(x).lower():\n",
    "        return \"HCM\"\n",
    "    elif \"h.bc\" in str(x).lower() or \"quận 4\" in str(x).lower() or \"q.tp\" in str(x).lower():\n",
    "        return \"HCM\"\n",
    "    elif \"linh trung\" in str(x).lower() or \"qbt\" in str(x).lower() or \"q.5\" in str(x).lower():\n",
    "        return \"HCM\"\n",
    "    elif \"q8\" in str(x).lower() or \"qbt\" in str(x).lower() or \"q.5\" in str(x).lower():\n",
    "        return \"HCM\"\n",
    "\n",
    "\n",
    "    elif \"bắc ninh\" in str(x).lower():\n",
    "        return \"Bắc Ninh\"\n",
    "    elif \"đà nẵng\" in str(x).lower():\n",
    "        return \"Đà Nẵng\"\n",
    "    elif \"quảng nam\" in str(x).lower() or \"điện ngọc\" in str(x).lower():\n",
    "        return \"Quảng Nam\"\n",
    "    elif \"quảng trị\" in str(x).lower():\n",
    "        return \"Quảng Trị\"\n",
    "    elif \"thái nguyên\" in str(x).lower():\n",
    "        return \"Thái Nguyên\"\n",
    "    elif \"đồng nai\" in str(x).lower() or \"phường trung dũng\" in str(x).lower() or \"phường tân phong\" in str(x).lower():\n",
    "        return \"Đồng Nai\"\n",
    "    elif \"long an\" in str(x).lower():\n",
    "        return \"Long An\"\n",
    "    elif \"vĩnh long\" in str(x).lower():\n",
    "        return \"Vĩnh Long\"\n",
    "    elif \"bắc giang\" in str(x).lower():\n",
    "        return \"Bắc Giang\"\n",
    "    elif \"hải phòng\" in str(x).lower() or \"hp\" in str(x).lower():\n",
    "        return \"Hải phòng\"\n",
    "    elif \"hải dương\" in str(x).lower():\n",
    "        return \"Hải Dương\"\n",
    "    elif \"tiền giang\" in str(x).lower():\n",
    "        return \"Tiền Giang\"\n",
    "    elif \"an giang\" in str(x).lower() or \"ag\" in str(x).lower():\n",
    "        return \"An Giang\"\n",
    "    elif \"thanh hóa\" in str(x).lower():\n",
    "        return \"Thanh Hoá\"\n",
    "    elif \"tây ninh\" in str(x).lower():\n",
    "        return \"Tây Ninh\"\n",
    "    elif \"kiên giang\" in str(x).lower() or \"vĩnh\" in str(x).lower() or \"rạch giá\" in str(x).lower():\n",
    "        return \"Kiên Giang\"\n",
    "    elif \"vĩnh quang\" in str(x).lower() or \"vĩnh bảo\" in str(x).lower() or \"rạch giá\" in str(x).lower() or \"vĩnh thanh\" in str(x).lower():\n",
    "        return \"Kiên Giang\"\n",
    "    elif \"bình phước\" in str(x).lower():\n",
    "        return \"Bình Phước\"\n",
    "    elif \"số 2a thất khê\" in str(x).lower():\n",
    "        return \"Hải Phòng\"\n",
    "    elif \"nghệ an\" in str(x).lower():\n",
    "        return \"Nghệ An\"\n",
    "    elif \"hà tĩnh\" in str(x).lower():\n",
    "        return \"Hà Tĩnh\"\n",
    "    elif \"hòa bình\" in str(x).lower():\n",
    "        return \"Hòa Bình\"\n",
    "    elif \"quy nhơn\" in str(x).lower() or \"bđ\" in str(x).lower() or \"bình định\" in str(x).lower():\n",
    "        return \"Bình Định\"\n",
    "    elif \"bến tre\" in str(x).lower():\n",
    "        return \"Bến Tre\"\n",
    "    elif \"mỹ tho\" in str(x).lower() or \"tg\" in str(x).lower():\n",
    "        return \"Tiền Giang\"\n",
    "    elif \"thanh hoá\" in str(x).lower():\n",
    "        return \"Thanh Hoá\"\n",
    "    elif \"tptn\" in str(x).lower():\n",
    "        return \"Thái Nguyên\"\n",
    "    elif \"bình dương\" in str(x).lower() or \"lái thiêu\" in str(x).lower() or \"bd\" in str(x).lower() or \"tdm\" in str(x).lower():\n",
    "        return \"Bình Dương\"\n",
    "    elif \"hiệp thành\" in str(x).lower() or \"lái thiêu\" in str(x).lower() or \"bd\" in str(x).lower() or \"tdm\" in str(x).lower():\n",
    "        return \"Bình Dương\"\n",
    "    elif \"sơn la\" in str(x).lower():\n",
    "        return \"Sơn La\"\n",
    "    elif \"quảng ngãi\" in str(x).lower():\n",
    "        return \"Quảng Ngãi\"\n",
    "    elif \"phú thọ\" in str(x).lower():\n",
    "        return \"Phú Thọ\"\n",
    "    elif \"vt\" in str(x).lower() or \"vũng tàu\" in str(x).lower():\n",
    "        return \"Vũng Tàu\"\n",
    "    elif \"quảng ninh\" in str(x).lower():\n",
    "        return \"Quảng Ninh\"\n",
    "    elif \"vĩnh phúc\" in str(x).lower():\n",
    "        return \"Vĩnh Phúc\"\n",
    "    elif \"ninh bình\" in str(x).lower():\n",
    "        return \"Ninh Bình\"\n",
    "    elif \"cần thơ\" in str(x).lower():\n",
    "        return \"Cần Thơ\"\n",
    "    elif \"khánh hòa\" in str(x).lower() or \"nha trang\" in str(x).lower():\n",
    "        return \"Khánh Hòa\"\n",
    "    elif \"trà vinh\" in str(x).lower():\n",
    "        return \"Trà Vinh\"\n",
    "    elif \"thái bình\" in str(x).lower():\n",
    "        return \"Thái Bình\"\n",
    "    elif \"bắc kạn\" in str(x).lower():\n",
    "        return \"Bắc Kạn\"\n",
    "    elif \"nam định\" in str(x).lower():\n",
    "        return \"Nam Định\"\n",
    "    elif \"hưng yên\" in str(x).lower():\n",
    "        return \"Hưng Yên\"\n",
    "    elif \"bình thuận\" in str(x).lower():\n",
    "        return \"Bình Thuận\"\n",
    "    elif \"hà nam\" in str(x).lower():\n",
    "        return \"Hà Nam\"\n",
    "    elif \"huế\" in str(x).lower() or \"tth\" in str(x).lower():\n",
    "        return \"Huế\"\n",
    "    elif \"bp\" in str(x).lower():\n",
    "        return \"Bình Phước\"\n",
    "    elif \"sóc trăng\" in str(x).lower():\n",
    "        return \"Sóc Trăng\"\n",
    "    elif \"phú yên\" in str(x).lower():\n",
    "        return \"Phú Yên\"\n",
    "    elif \"lâm đồng\" in str(x).lower() or \"lđ\" in str(x).lower():\n",
    "        return \"Lâm Đồng\"\n",
    "    elif \"lào cai\" in str(x).lower():\n",
    "        return \"Lào Cai\"\n",
    "    elif \"bạc liêu\" in str(x).lower():\n",
    "        return \"Bạc Liêu\"\n",
    "    elif \"tuyên quang\" in str(x).lower():\n",
    "        return \"Tuyên Quang\"\n",
    "    elif \"đồng tháp\" in str(x).lower():\n",
    "        return \"Đồng Tháp\"\n",
    "    elif \"kon tum\" in str(x).lower():\n",
    "        return \"Kon Tum\"\n",
    "    elif \"cao bằng\" in str(x).lower():\n",
    "        return \"Cao Bằng\"\n",
    "    elif \"yên bái\" in str(x).lower() or \"hà giang\" in str(x).lower():\n",
    "        return \"hà Giang\"\n",
    "    elif \"vl\" in str(x).lower():\n",
    "        return \"Vĩnh Long\"\n",
    "    elif \"cà mau\" in str(x).lower():\n",
    "        return \"Cà Mau\"\n",
    "    elif \"hoà bình\" in str(x).lower():\n",
    "        return \"Hòa Bình\"\n",
    "    elif x is np.nan:\n",
    "        return \"NaN\"\n",
    "    else:\n",
    "        return \"others\"\n",
    "    return x"
   ]
  },
  {
   "cell_type": "code",
   "execution_count": 16,
   "metadata": {
    "ExecuteTime": {
     "end_time": "2020-07-21T06:10:49.149657Z",
     "start_time": "2020-07-21T06:10:49.021073Z"
    },
    "code_folding": [
     1
    ]
   },
   "outputs": [],
   "source": [
    "def fithomeTownName(x):\n",
    "    if \"hồ chí minh\" in str(x).lower() or \"ho chi minh\" in str(x).lower() or \"gò vấp\" in str(x).lower() or \"ho-chi-minh\" in str(x).lower():\n",
    "        return \"HCM\"\n",
    "    if \"tân phú\" in str(x).lower():\n",
    "        return \"HCM\"\n",
    "    elif \"hà nội\" in str(x).lower() or \"hanoi\" in str(x).lower() or \"hanói\" in str(x).lower() or \"sơn tây\" in str(x).lower():\n",
    "        return \"HN\"\n",
    "    elif \"gia lâm\" in str(x).lower() or \"ba vì\" in str(x).lower() or \"ha noi\" in str(x).lower() or \"Ханой\".lower() in str(x).lower():\n",
    "        return \"HN\"\n",
    "    elif \"cửa lò\" in str(x).lower() or \"ba vì\" in str(x).lower() or \"ha noi\" in str(x).lower() or \"Ханой\".lower() in str(x).lower():\n",
    "        return \"HN\"\n",
    "    elif \"thái nguyên\" in str(x).lower():\n",
    "        return \"thái nguyên\"\n",
    "    elif \"thái bình\" in str(x).lower() or \"tiền hả\" in str(x).lower():\n",
    "        return \"thái bình\"\n",
    "    elif \"đà nẵng\" in str(x).lower():\n",
    "        return \"đà nẵng\"\n",
    "    elif \"bắc giang\" in str(x).lower() or \"bac giang\" in str(x).lower() or \"từ sơn\"in str(x).lower():\n",
    "        return \"Bắc Giang\"\n",
    "    elif \"lục nam\" in str(x).lower() or \"bac giang\" in str(x).lower() or \"từ sơn\"in str(x).lower():\n",
    "        return \"Bắc Giang\"\n",
    "    elif \"bắc ninh\" in str(x).lower() or \"yên phong\" in str(x).lower() or \"thuận thành\" in str(x).lower():\n",
    "        return \"Bắc Ninh\"\n",
    "    elif \"nam định\" in str(x).lower() or \"giao thủy\" in str(x).lower() or \"hải hậu\" in str(x).lower() or \"nghĩa hưng\" in str(x).lower():\n",
    "        return \"nam định\"\n",
    "    elif \"xuân trường\" in str(x).lower() or \"giao thủy\" in str(x).lower() or \"hải hậu\" in str(x).lower() or \"nghĩa hưng\" in str(x).lower():\n",
    "        return \"nam định\"\n",
    "    elif \"hải dương\" in str(x).lower() or \"kinh môn\" in str(x).lower() :\n",
    "        return \"hải dương\"\n",
    "    elif \"huế\" in str(x).lower() or \"hue\" in str(x).lower():\n",
    "        return \"huế\"\n",
    "    elif \"hưng yên\" in str(x).lower():\n",
    "        return \"hưng yên\"\n",
    "    elif \"quang nam\" in str(x).lower() or \"tam kỳ\" in str(x).lower() or \"duy xuyên\" in str(x).lower():\n",
    "        return \"Quảng Nam\"\n",
    "    elif \"quảng nam\" in str(x).lower() or \"hội an\" in str(x).lower() or \"duy xuyên\" in str(x).lower():\n",
    "        return \"Quảng Nam\"\n",
    "    elif \"long an\" in str(x).lower() or \"tân an\" in str(x).lower():\n",
    "        return \"long an\"\n",
    "    elif \"an giang\" in str(x).lower() or \"long xuyên\" in str(x).lower()  or \"chợ mới\" in str(x).lower():\n",
    "        return \"an giang\"\n",
    "    elif \"tân châu\" in str(x).lower() or \"long xuyên\" in str(x).lower()  or \"chợ mới\" in str(x).lower():\n",
    "        return \"an giang\"\n",
    "    elif \"vũng tàu\" in str(x).lower() or \"bà rịa\" in str(x).lower():\n",
    "        return \"Vũng Tàu\"\n",
    "    elif \"hòa bình\" in str(x).lower():\n",
    "        return \"hòa bình\"\n",
    "    elif \"quảng ngãi\" in str(x).lower() or \"quang ngai\" in str(x).lower():\n",
    "        return \"quảng ngãi\"\n",
    "    elif \"đắc lắk\" in str(x).lower()  or \"buôn ma thuột\" in str(x).lower():\n",
    "        return \"Đắc Lắk\"\n",
    "    elif \"hà tĩnh\" in str(x).lower() or \"nghi xuân\" in str(x).lower() or \"hương sơn\" in str(x).lower():\n",
    "        return \"hà tĩnh\"\n",
    "    elif \"مدينة هو تشي منه\" in str(x).lower() or \"هانوي\" in str(x).lower() or \"นครโฮจิมินห์\" in str(x).lower() or \"ฮานอย\" in str(x).lower():\n",
    "        return \"others\"\n",
    "    elif \"ها فونغ\" in str(x).lower() or \"دا نانغ\" in str(x).lower() or \"كن تاه\" in str(x).lower():\n",
    "        return \"others\"\n",
    "    elif \"ninh bình\" in str(x).lower():\n",
    "        return \"ninh bình\"\n",
    "    elif \"tuyên quang\" in str(x).lower():\n",
    "        return \"tuyên quang\"\n",
    "    elif \"vinh\" in str(x).lower() or \"nghệ an\" in str(x).lower() or \"yên thành\" in str(x).lower():\n",
    "        return \"Nghệ An\"\n",
    "    elif \"thanh chương\" in str(x).lower() or \"anh sơn\" in str(x).lower() or \"quỳ hợp\" in str(x).lower():\n",
    "        return \"Nghệ An\"\n",
    "    elif \"nghi lộc\" in str(x).lower() or \"tân kỳ\" in str(x).lower():\n",
    "        return \"Nghệ An\"\n",
    "    elif \"nha trang\" in str(x).lower() or \"cam ranh\" in str(x).lower():\n",
    "        return \"khánh hòa\"\n",
    "    elif \"quy nhơn\" in str(x).lower() or \"quy nhon\" in str(x).lower() :\n",
    "        return \"bình định\"\n",
    "    elif \"vĩnh long\" in str(x).lower():\n",
    "        return \"vĩnh long\"\n",
    "    elif \"binh phuoc\" in str(x).lower():\n",
    "        return \"bình phước\"\n",
    "    elif \"sóc trăng\" in str(x).lower():\n",
    "        return \"sóc trăng\"\n",
    "    elif \"yên bái\" in str(x).lower():\n",
    "        return \"yên bái\"\n",
    "    elif \"ninh thuận\" in str(x).lower() or \"phan rang\" in str(x).lower():\n",
    "        return \"ninh thuận\"\n",
    "    elif \"phú thọ\" in str(x).lower() or \"hạ hòa\" in str(x).lower() or \"thanh ba\" in str(x).lower():\n",
    "        return \"phú thọ\"\n",
    "    elif \"cẩm khê\" in str(x).lower() or \"hạ hòa\" in str(x).lower() or \"thanh ba\" in str(x).lower():\n",
    "        return \"phú thọ\"\n",
    "    elif \"bạc liêu\" in str(x).lower() or \"bac lieu\" in str(x).lower():\n",
    "        return \"bạc liêu\"\n",
    "    elif \"binh dinh\" in str(x).lower() or \"bình định\" in str(x).lower() or \"qui nhon\" in str(x).lower() or \"hoài nhon\" in str(x).lower():\n",
    "        return \"Bình Định\"\n",
    "    elif \"phù cát\" in str(x).lower() or \"hoài ân\" in str(x).lower() or  \"bình định\" in str(x).lower():\n",
    "        return \"Bình Định\"\n",
    "    elif \"hạ long\" in str(x).lower() or \"quảng ninh\" in str(x).lower() or \"uông bí\" in str(x).lower():\n",
    "        return \"Quảng Ninh\"\n",
    "    elif \"móng cái\" in str(x).lower() or \"tiên yên\" in str(x).lower() or \"uông bí\" in str(x).lower():\n",
    "        return \"Quảng Ninh\"\n",
    "    elif \"phan thiết\" in str(x).lower() or \"lagi\" in str(x).lower() or \"bình thuận\" in str(x).lower():\n",
    "        return \"Bình Thuận\"\n",
    "    elif \"tuy phong\" in str(x).lower() or \"lagi\" in str(x).lower() or \"phan ri cua\" in str(x).lower():\n",
    "        return \"Bình Thuận\"\n",
    "    elif \"đà lạt\" in str(x).lower() or \"bảo lộc\" in str(x).lower() or \"dalat\" in str(x).lower() or \"di linh\" in str(x).lower():\n",
    "        return \"lâm đồng\"\n",
    "    elif \"bao loc\" in str(x).lower() or \"bảo lộc\" in str(x).lower() or \"dalat\" in str(x).lower() or \"di linh\" in str(x).lower():\n",
    "        return \"lâm đồng\"\n",
    "    elif \"tuy hòa\" in str(x).lower() or \"phú yên\" in str(x).lower() or \"phù yên\" in str(x).lower() or \"sông cầu\"  in str(x).lower():\n",
    "        return \"Phú Yên\"\n",
    "    elif \"lào cai\" in str(x).lower():\n",
    "        return \"lào cai\"\n",
    "    elif \"hà nam\" in str(x).lower() or \"ha nam\" in str(x).lower() or \"lý nhân\" in str(x).lower():\n",
    "        return \"hà nam\"\n",
    "    elif \"cao lãnh\" in str(x).lower() or \"dong thap\" in str(x).lower() or \"tháp mười\" in str(x).lower() or \"thanh bình\" in str(x).lower():\n",
    "        return \"Đồng Tháp\"\n",
    "    elif \"lấp vò\" in str(x).lower() or \"hồng ngự\" in str(x).lower() :\n",
    "        return \"Đồng Tháp\"\n",
    "    elif \"rạch giá\" in str(x).lower() or \"phu quoc\" in str(x).lower() or \"rach gia\" in str(x).lower():\n",
    "        return \"kiên giang\"\n",
    "    elif \"giồng riềng\" in str(x).lower() or \"gò quao\" in str(x).lower() or \"hà tiên\" in str(x).lower():\n",
    "        return \"kiên giang\"\n",
    "    elif \"quảng trị\" in str(x).lower() or \"đông hà\" in str(x).lower() or \"hải lăng\" in str(x).lower():\n",
    "        return \"quảng trị\"\n",
    "    elif \"gia lai\" in str(x).lower() or \"pleiku\" in str(x).lower():\n",
    "        return \"Gia Lai\"\n",
    "    elif \"binh duong\" in str(x).lower() or \"thủ dầu một\" in str(x).lower() or \"dĩ an\" in str(x).lower():\n",
    "        return \"bình dương\"\n",
    "    elif \"tiền giang\" in str(x).lower() or \"gò công\" in str(x).lower() or \"cai lậy\" in str(x).lower():\n",
    "        return \"tiền giang\"\n",
    "    elif \"cái bè\" in str(x).lower() or \"mỹ tho\" in str(x).lower() or \"cai lậy\" in str(x).lower():\n",
    "        return \"tiền giang\"\n",
    "    elif \"hải phòng\" in str(x).lower() or \"an biên\" in str(x).lower() or \"haiphong\" in str(x).lower():\n",
    "        return \"Hải Phòng\"\n",
    "    elif \"khánh hòa\" in str(x).lower():\n",
    "        return \"khánh hòa\"\n",
    "    elif \"hà giang\" in str(x).lower():\n",
    "        return \"hà giang\"\n",
    "    elif \"việt trì\" in str(x).lower():\n",
    "        return \"phú thọ\"\n",
    "    elif \"long khánh\" in str(x).lower() or \"đồng nai\" in str(x).lower() or \"xuân lộc\" in str(x).lower() or \"gia kiem\" in str(x).lower():\n",
    "        return \"đồng nai\"\n",
    "    elif \"long thành\" in str(x).lower() or \"trảng bom\" in str(x).lower() or \"nhơn trạch\" in str(x).lower():\n",
    "        return \"đồng nai\"\n",
    "    elif \"quảng bình\" in str(x).lower() or \"đồng hới\" in str(x).lower() or \"binh tri thien\" in str(x).lower() or \"quảng trạch\" in str(x).lower():\n",
    "        return \"Quảng Bình\"\n",
    "    elif \"kon tum\" in str(x).lower():\n",
    "        return \"Kon tum\"\n",
    "    elif \"vĩnh phúc\" in str(x).lower() or \"vĩnh yên\" in str(x).lower() or \"vĩnh tường\" in str(x).lower() or \"lập thạch\" in str(x).lower():\n",
    "        return \"Vĩnh Phúc\"\n",
    "    elif \"bắc kạn\" in str(x).lower():\n",
    "        return \"Bắc Kạn\"\n",
    "    elif \"lai châu\" in str(x).lower() or \"lai chau\" in str(x).lower():\n",
    "        return \"Lai Châu\"\n",
    "    elif \"bến tre\" in str(x).lower():\n",
    "        return \"Bến Tre\"\n",
    "    elif \"kỳ anh\" in str(x).lower():\n",
    "        return \"Hà Tĩnh\"\n",
    "    elif \"mộc châu\" in str(x).lower() or \"son la\" in str(x).lower():\n",
    "        return \"Sơn La\"\n",
    "    elif \"phụng hiệp\" in str(x).lower() or \"vị thanh\" in str(x).lower() or \"vị thủy\" in str(x).lower():\n",
    "        return \"Hậu Giang\"\n",
    "    elif \"lục ngạn\" in str(x).lower():\n",
    "        return \"Bắc Giang\"\n",
    "    elif \"chí linh\" in str(x).lower():\n",
    "        return \"Hải Dương\"\n",
    "    elif \"sầm sơn\" in str(x).lower() or \"thanh hóa\" in str(x).lower() or \"triệu sơn\" in str(x).lower() or \"nga sơn\" in str(x).lower():\n",
    "        return \"Thanh Hóa\"\n",
    "    elif \"tĩnh gia\" in str(x).lower() or \"bỉm sơn\" in str(x).lower() or \"triệu sơn\" in str(x).lower() or \"nga sơn\" in str(x).lower():\n",
    "        return \"Thanh Hóa\"\n",
    "    elif \"đắk mil\" in str(x).lower():\n",
    "        return \"Đắk Nông\"\n",
    "    elif x is np.nan:\n",
    "        return \"NaN\"\n",
    "    else:\n",
    "        return \"others\"\n"
   ]
  },
  {
   "cell_type": "code",
   "execution_count": 17,
   "metadata": {
    "ExecuteTime": {
     "end_time": "2020-07-21T06:10:49.256977Z",
     "start_time": "2020-07-21T06:10:49.151786Z"
    },
    "code_folding": [
     0
    ]
   },
   "outputs": [],
   "source": [
    "def fithomeTownCountry(x):\n",
    "    if x in indexes:\n",
    "        return x\n",
    "    elif x is np.nan:\n",
    "        return x\n",
    "    else:\n",
    "        return x"
   ]
  },
  {
   "cell_type": "code",
   "execution_count": 18,
   "metadata": {
    "ExecuteTime": {
     "end_time": "2020-07-21T06:10:49.349668Z",
     "start_time": "2020-07-21T06:10:49.260590Z"
    },
    "code_folding": [
     0
    ]
   },
   "outputs": [],
   "source": [
    "def fitcurrentLocationCountry(x):\n",
    "    if x in indexes:\n",
    "        return x\n",
    "    elif x is np.nan:\n",
    "        return x\n",
    "    else:\n",
    "        return x"
   ]
  },
  {
   "cell_type": "code",
   "execution_count": 19,
   "metadata": {
    "ExecuteTime": {
     "end_time": "2020-07-21T06:10:49.475112Z",
     "start_time": "2020-07-21T06:10:49.352049Z"
    },
    "code_folding": [
     0
    ],
    "scrolled": true
   },
   "outputs": [],
   "source": [
    "def fit_currentLocationState(x):\n",
    "    if \"hanoi\" in str(x).lower():\n",
    "        return \"HN Province\"\n",
    "    elif \"haiphong\" in str(x).lower():\n",
    "        return \"HP Province\"\n",
    "    elif \"ho chi minh\" in str(x).lower():\n",
    "        return \"HCM Province\"\n",
    "    elif \"cần thơ\" in str(x).lower():\n",
    "        return \"CT Province\"\n",
    "    elif \"da nang\" in str(x).lower():\n",
    "        return \"DN Province\"\n",
    "    elif \"nan\" in str(x).lower():\n",
    "        return np.nan\n",
    "    elif \"province\" not in str(x).lower():\n",
    "        return \"others\"\n",
    "    elif \"benguela\" in str(x).lower() or \"kampong\" in str(x).lower() or \"vientiane\" in str(x).lower():\n",
    "        return \"others\"\n",
    "    elif \"attapeu\" in str(x).lower() or \"khuzestan\" in str(x).lower() or \"kyustendil\" in str(x).lower():\n",
    "        return \"others\"\n",
    "    elif \"uíge\" in str(x).lower() or \"svay\" in str(x).lower() or \"bolikhamsai\" in str(x).lower():\n",
    "        return \"others\"\n",
    "    elif \"hela\" in str(x).lower() or \"istanbul\" in str(x).lower() or \"tbong\" in str(x).lower():\n",
    "        return \"others\"\n",
    "    return x"
   ]
  },
  {
   "cell_type": "code",
   "execution_count": 20,
   "metadata": {
    "ExecuteTime": {
     "end_time": "2020-07-21T06:10:49.549042Z",
     "start_time": "2020-07-21T06:10:49.477813Z"
    },
    "code_folding": [
     0
    ]
   },
   "outputs": [],
   "source": [
    "def locate(x):\n",
    "    if \"vn\" in str(x).lower():\n",
    "        return \"vn_VN\"\n",
    "    if \"us\" in str(x).lower() or \"es\" in str(x).lower():\n",
    "        return \"us\"\n",
    "    return x"
   ]
  },
  {
   "cell_type": "code",
   "execution_count": 21,
   "metadata": {
    "ExecuteTime": {
     "end_time": "2020-07-21T06:10:49.642608Z",
     "start_time": "2020-07-21T06:10:49.552252Z"
    },
    "code_folding": [
     0
    ]
   },
   "outputs": [],
   "source": [
    "def fit_homeTownState(x):\n",
    "    if \"hanoi\" in str(x).lower():\n",
    "        return \"HN Province\"\n",
    "    elif \"haiphong\" in str(x).lower():\n",
    "        return \"HP Province\"\n",
    "    elif \"ho chi minh\" in str(x).lower():\n",
    "        return \"HCM Province\"\n",
    "    elif \"cần thơ\" in str(x).lower():\n",
    "        return \"CT Province\"\n",
    "    elif \"da nang\" in str(x).lower():\n",
    "        return \"DN Province\"\n",
    "    elif \"nan\" in str(x).lower():\n",
    "        return np.nan\n",
    "    elif \"province\" not in str(x).lower():\n",
    "        return \"others\"\n",
    "    elif \"coast\" in str(x).lower() or \"southern\" in str(x).lower() or \"hormozgan\" in str(x).lower():\n",
    "        return \"others\"\n",
    "    elif \"kampong\" in str(x).lower() or \"salavan\" in str(x).lower() or \"luanda\" in str(x).lower():\n",
    "        return \"others\"\n",
    "    elif \"gilan\" in str(x).lower() or \"svay\" in str(x).lower() or \"tbong\" in str(x).lower() or \"kandal\" in str(x).lower():\n",
    "        return \"others\"\n",
    "    return x"
   ]
  },
  {
   "cell_type": "code",
   "execution_count": 22,
   "metadata": {
    "ExecuteTime": {
     "end_time": "2020-07-21T06:10:49.752605Z",
     "start_time": "2020-07-21T06:10:49.649356Z"
    },
    "code_folding": [
     0
    ],
    "scrolled": true
   },
   "outputs": [],
   "source": [
    "def fitmacv(x):\n",
    "    if \"công nhân\" in str(x).lower() or  \"cn\" in str(x).lower() :\n",
    "        return \"CN\"\n",
    "    elif \"giáo viên\" in str(x).lower():\n",
    "        return \"GV\"\n",
    "    elif \"trưởng\" in str(x).lower() or \"kiểm soát viên\" in str(x).lower() or \"quản lý\" in str(x).lower():\n",
    "        return \"QL\"\n",
    "    elif \"lao động\" in str(x).lower() or \"lđpt\" in str(x).lower() or \"may\" in str(x).lower():\n",
    "        return \"CN\"\n",
    "    elif \"nhân viên\" in str(x).lower() or \"nv\" in str(x).lower() or \"bán hàng\" in str(x).lower():\n",
    "        return \"NV\"\n",
    "    elif \"thủ kho\" in str(x).lower() or \"tạp vụ\" in str(x).lower() or \"thu ngân\" in str(x).lower():\n",
    "        return \"NV\"\n",
    "    elif \"phụ kho\" in str(x).lower() or \"văn phòng\" in str(x).lower() or \"Nhõn viờn\" in str(x).lower():\n",
    "        return \"NV\"\n",
    "    elif \"kỹ thuật\" in str(x).lower() or \"giao dịch\" in str(x).lower() or \"viên\" in str(x).lower():\n",
    "        return \"NV\"\n",
    "    elif \"phục vụ\" in str(x).lower() or \"văn thư\" in str(x).lower() or \"phụ việc\" in str(x).lower():\n",
    "        return \"NV\"\n",
    "    elif \"giao nhận\" in str(x).lower() or \"thủ quỹ\" in str(x).lower() or \"kiểm hàng\" in str(x).lower():\n",
    "        return \"NV\"\n",
    "    elif \"giám đốc\" in str(x).lower():\n",
    "        return \"GĐ\"\n",
    "    elif \"kế toán\" in str(x).lower() or \"lái xe\" in str(x).lower() or \"tài xế\" in str(x).lower():\n",
    "        return \"NV\"\n",
    "    elif \"Kiểm ngân\" in str(x).lower() or \"công nghệ\" in str(x).lower() or \"lễ tân\" in str(x).lower():\n",
    "        return \"NV\"\n",
    "    elif \"cán\" in str(x).lower() or \"cb\" in str(x).lower():\n",
    "        return \"CB\"\n",
    "    elif \"kỹ sư\" in str(x).lower():\n",
    "        return \"KS\"\n",
    "    elif \"điều dưỡng\" in str(x).lower():\n",
    "        return \"ĐD\"\n",
    "    elif \"thợ\" in str(x).lower():\n",
    "        return \"thợ\"\n",
    "    elif \"y sỹ\" in str(x).lower() or \"y sĩ\" in str(x).lower() or \"y tá\" in str(x).lower() or \"bác sĩ\" in str(x).lower():\n",
    "        return \"Y\"\n",
    "    elif \"dược\" in str(x).lower():\n",
    "        return \"DS\"\n",
    "    elif \"giám sát\" in str(x).lower() or \"bảo vệ\" in str(x).lower():\n",
    "        return \"BV\"\n",
    "    elif \"huấn luyện\" in str(x).lower():\n",
    "        return \"HL\"\n",
    "    elif \"kinh doanh\" in str(x).lower():\n",
    "        return \"KD\"\n",
    "    elif \"kinh doanh\" in str(x).lower():\n",
    "        return \"KD\"\n",
    "    elif x is not np.nan:\n",
    "        return \"others\"\n",
    "    return x"
   ]
  },
  {
   "cell_type": "code",
   "execution_count": 23,
   "metadata": {
    "ExecuteTime": {
     "end_time": "2020-07-21T06:10:49.861231Z",
     "start_time": "2020-07-21T06:10:49.756440Z"
    },
    "code_folding": [
     0
    ],
    "scrolled": false
   },
   "outputs": [],
   "source": [
    "def fit46(x):\n",
    "    if \"công ty\" in str(x).lower() or \"cty\" in str(x).lower() or \"c.ty\" in str(x).lower() or \"ct\" in str(x).lower() or \"co\" in str(x).lower() or \"côngty\" in str(x).lower() or \"xí nghiệp\" in str(x).lower() or \"xn\" in str(x).lower() or \"cổ phần\" in str(x).lower():\n",
    "        return \"CTY\"\n",
    "    elif \"bệnh viện\" in str(x).lower() or \"đa khoa\" in str(x).lower():\n",
    "        return \"Bệnh Viện\"\n",
    "    elif \"trường\" in str(x).lower() or \"đại học\" in str(x).lower() or \"non\" in str(x).lower() or \"viện\" in str(x).lower() or \"cao\" in str(x).lower() or \"lớp\" in str(x).lower():\n",
    "        return \"Trường\"\n",
    "    elif \"cận nghèo\" in str(x).lower():\n",
    "        return \"khó khăn\"\n",
    "    elif \"trung tâm\" in str(x).lower() or \"tt\" in str(x).lower() or \"vp\" in str(x).lower() or \"tổ chức\"  in str(x).lower():\n",
    "        return \"Trung tâm\" \n",
    "    elif \"bhyt\"in str(x).lower():\n",
    "        return \"BHYT\"\n",
    "    elif str(x).lower().startswith(\"đại lý\"):\n",
    "        return \"Đại Lý\"\n",
    "    elif \"tự nguyện\" in str(x).lower():\n",
    "        return \"tự nguyện\"\n",
    "    elif \"bưu điện\" in str(x).lower() or \"viễn thông\" in str(x).lower() or \"thông tin\" in str(x).lower():\n",
    "        return \"Bưu điện\"\n",
    "    elif \"ngân hàng\" in str(x).lower() or \"nh\" in str(x).lower() or \"bank\" in str(x).lower():\n",
    "        return \"ngân hàng\"\n",
    "    elif \"giáo dục\" in str(x).lower():\n",
    "        return \"Giáo dục\"\n",
    "    elif \"khó khăn\" in str(x).lower() or \"thiểu số\" in str(x).lower() or \"dân tộc\" in str(x).lower() or \"người\" in str(x).lower() or \"tượng\" in str(x).lower() or \"thất nghiệp\" in str(x).lower() or \"trợ cấp\" in str(x).lower() or \"nghèo\" in str(x).lower() or \"6\" in str(x).lower():\n",
    "        return \"khó khăn\"\n",
    "    elif \"ubnd\" in str(x).lower() or \"hđnd\"  in str(x).lower():\n",
    "        return \"UB&HĐND\"\n",
    "    elif \"hộ\" in str(x).lower() or \"hgđ\" in str(x).lower() or \"hô gia đình\" in str(x).lower() or \"hgd\" in str(x).lower() or \"hộ gđ\" in str(x).lower() or \"nhân dân\" in str(x).lower() or \"phường\" in str(x).lower() or \"tnnd\" in str(x).lower() or \"dân\" in str(x).lower():\n",
    "        return \"HGD\"\n",
    "    elif \"cán bộ\" in str(x) or \"công nhân\" in str(x).lower() or \"viên chức\" in str(x).lower() or \"cb\" in str(x).lower():\n",
    "        return \"CCV\"\n",
    "    elif \"htx\" in str(x).lower() or \"hợp tác xã\" in str(x).lower():\n",
    "        return \"HTX\"\n",
    "    elif \"phòng\" in str(x).lower() or \"sở\" in str(x).lower() or \"đoàn\" in str(x).lower() or \"cục\" in str(x).lower() or \"ban\" in str(x).lower() or \"bộ\" in str(x).lower() or \"trạm\" in str(x).lower() or \"cơ quan\" in str(x).lower():\n",
    "        return \"Co so\"\n",
    "    elif \"dntn\" in str(x).lower() or \"dn\" in str(x).lower():\n",
    "        return \"DNTN\"\n",
    "    elif \"huyện\" in str(x).lower():\n",
    "        return \"huyện\"\n",
    "    elif \"xã\" in str(x).lower():\n",
    "        return \"xã\"\n",
    "    elif \"thị trấn\" in str(x).lower():\n",
    "        return \"thị trấn\"\n",
    "    elif x is not np.nan:\n",
    "        return \"others\"\n",
    "    return x"
   ]
  },
  {
   "cell_type": "code",
   "execution_count": 24,
   "metadata": {
    "ExecuteTime": {
     "end_time": "2020-07-21T06:10:49.979920Z",
     "start_time": "2020-07-21T06:10:49.862488Z"
    }
   },
   "outputs": [
    {
     "data": {
      "text/plain": [
       "'\\ndf_transform[\"Field_56\"] = df_transform[\"Field_56\"].map(fit56)\\ndf_transform[\"Field_56\"] = df_transform[\"Field_56\"].fillna(\"NaN\")\\nuniques_56 = df_transform[\"Field_56\"].value_counts().index[:30]\\ndf_transform[\"Field_56\"] = df_transform[\"Field_56\"].map(lambda x: x if x in uniques_56 else np.nan)\\n\\ndf_transform[\"maCv\"] = df_transform[\"maCv\"].map(fitmacv)\\ndf_transform[\"maCv\"] = df_transform[\"maCv\"].fillna(\"NaN\")\\n\\ndf_transform[\"Field_46\"] = df_transform[\"Field_46\"].map(fit46)\\ndf_transform[\"Field_46\"] = df_transform[\"Field_46\"].fillna(\"NaN\")\\n\\n\\n\\ndf_transform[\"data.basic_info.locale\"] = df_transform[\"data.basic_info.locale\"].map(locate)\\n\\ndf_transform[\"currentLocationState\"] = df_transform[\"currentLocationState\"].map(fit_currentLocationState)\\n\\ndf_transform[\"homeTownState\"] = df_transform[\"homeTownState\"].map(fit_homeTownState)\\n\\nindexes = list(df_transform[\\'homeTownCountry\\'].value_counts().index)[:19]\\ndf_transform[\\'homeTownCountry\\'] = df_transform[\\'homeTownCountry\\'].map(fithomeTownCountry)\\n\\nindexes = list(df_transform[\\'currentLocationCountry\\'].value_counts().index)[:19]\\ndf_transform[\\'currentLocationCountry\\'] = df_transform[\\'currentLocationCountry\\'].map(fitcurrentLocationCountry)\\n\\ndf_transform[\"homeTownName\"] = df_transform[\"homeTownName\"].map(fithomeTownName)\\n\\ndf_transform[\"Field_49\"] = df_transform[\"Field_49\"].map(fit49).value_counts()\\n\\ndf_transform = keep_num_value(df_transform, \"Field_61\", 5)\\ndf_transform = findandreplace(df_transform, \"Field_61\")\\n'"
      ]
     },
     "execution_count": 24,
     "metadata": {},
     "output_type": "execute_result"
    }
   ],
   "source": [
    "\"\"\"\n",
    "df_transform[\"Field_56\"] = df_transform[\"Field_56\"].map(fit56)\n",
    "df_transform[\"Field_56\"] = df_transform[\"Field_56\"].fillna(\"NaN\")\n",
    "uniques_56 = df_transform[\"Field_56\"].value_counts().index[:30]\n",
    "df_transform[\"Field_56\"] = df_transform[\"Field_56\"].map(lambda x: x if x in uniques_56 else np.nan)\n",
    "\n",
    "df_transform[\"maCv\"] = df_transform[\"maCv\"].map(fitmacv)\n",
    "df_transform[\"maCv\"] = df_transform[\"maCv\"].fillna(\"NaN\")\n",
    "\n",
    "df_transform[\"Field_46\"] = df_transform[\"Field_46\"].map(fit46)\n",
    "df_transform[\"Field_46\"] = df_transform[\"Field_46\"].fillna(\"NaN\")\n",
    "\n",
    "\n",
    "\n",
    "df_transform[\"data.basic_info.locale\"] = df_transform[\"data.basic_info.locale\"].map(locate)\n",
    "\n",
    "df_transform[\"currentLocationState\"] = df_transform[\"currentLocationState\"].map(fit_currentLocationState)\n",
    "\n",
    "df_transform[\"homeTownState\"] = df_transform[\"homeTownState\"].map(fit_homeTownState)\n",
    "\n",
    "indexes = list(df_transform['homeTownCountry'].value_counts().index)[:19]\n",
    "df_transform['homeTownCountry'] = df_transform['homeTownCountry'].map(fithomeTownCountry)\n",
    "\n",
    "indexes = list(df_transform['currentLocationCountry'].value_counts().index)[:19]\n",
    "df_transform['currentLocationCountry'] = df_transform['currentLocationCountry'].map(fitcurrentLocationCountry)\n",
    "\n",
    "df_transform[\"homeTownName\"] = df_transform[\"homeTownName\"].map(fithomeTownName)\n",
    "\n",
    "df_transform[\"Field_49\"] = df_transform[\"Field_49\"].map(fit49).value_counts()\n",
    "\n",
    "df_transform = keep_num_value(df_transform, \"Field_61\", 5)\n",
    "df_transform = findandreplace(df_transform, \"Field_61\")\n",
    "\"\"\"\n"
   ]
  },
  {
   "cell_type": "code",
   "execution_count": 25,
   "metadata": {
    "ExecuteTime": {
     "end_time": "2020-07-21T06:10:50.607760Z",
     "start_time": "2020-07-21T06:10:49.982994Z"
    }
   },
   "outputs": [],
   "source": [
    "df_transform[\"Field_54\"] = df_transform[\"Field_54\"].map(fit54)\n",
    "\n",
    "df_transform[\"Field_56\"] = df_transform[\"Field_56\"].map(fit56)\n",
    "df_transform = keep_num_value(df_transform, \"Field_56\", 50)\n",
    "df_transform = findandreplace(df_transform, \"Field_56\")\n",
    "\n",
    "df_transform[\"Field_62\"] = df_transform[\"Field_62\"].map(fit62)"
   ]
  },
  {
   "cell_type": "code",
   "execution_count": 26,
   "metadata": {
    "ExecuteTime": {
     "end_time": "2020-07-21T06:10:50.620526Z",
     "start_time": "2020-07-21T06:10:50.609860Z"
    }
   },
   "outputs": [
    {
     "data": {
      "text/plain": [
       "1.0    24030\n",
       "2.0     1820\n",
       "4.0     1134\n",
       "3.0     1095\n",
       "Name: Field_62, dtype: int64"
      ]
     },
     "execution_count": 26,
     "metadata": {},
     "output_type": "execute_result"
    }
   ],
   "source": [
    "df_transform[\"Field_62\"].value_counts()"
   ]
  },
  {
   "cell_type": "code",
   "execution_count": 27,
   "metadata": {
    "ExecuteTime": {
     "end_time": "2020-07-21T06:10:50.945640Z",
     "start_time": "2020-07-21T06:10:50.622665Z"
    }
   },
   "outputs": [],
   "source": [
    "df_transform = df_transform.drop(data_type[\"drop\"], axis = 1)\n",
    "df_transform = df_transform.drop(data_type[\"text\"], axis = 1)"
   ]
  },
  {
   "cell_type": "code",
   "execution_count": 28,
   "metadata": {
    "ExecuteTime": {
     "end_time": "2020-07-21T06:10:50.954949Z",
     "start_time": "2020-07-21T06:10:50.947239Z"
    },
    "code_folding": []
   },
   "outputs": [],
   "source": [
    "def transform_function(df):\n",
    "    for feature in df.columns:\n",
    "        if feature in data_type[\"cat_num\"]:\n",
    "            df[feature] = df[feature].fillna(\"Nan\")\n",
    "            df = pd.get_dummies(df, columns=[feature])\n",
    "        elif feature in data_type[\"date\"]:\n",
    "            df[feature] = df[feature].map(lambda x: float(parse(str(x)).timestamp()) if type(x) is str else x)\n",
    "            df[feature].fillna(df[feature].mean())\n",
    "        elif feature in  data_type[\"cat_str\"]:\n",
    "            df[feature] = df[feature].fillna(\"Nan\")\n",
    "            vc = df[feature].value_counts()\n",
    "            df = pd.get_dummies(df, columns=[feature])\n",
    "    return df"
   ]
  },
  {
   "cell_type": "code",
   "execution_count": null,
   "metadata": {
    "ExecuteTime": {
     "start_time": "2020-07-21T06:10:45.854Z"
    }
   },
   "outputs": [],
   "source": [
    "df_transform = transform_function(df_transform)\n",
    "df_transform = df_transform.fillna(df_transform.mean())"
   ]
  },
  {
   "cell_type": "code",
   "execution_count": null,
   "metadata": {
    "ExecuteTime": {
     "start_time": "2020-07-21T06:10:45.859Z"
    }
   },
   "outputs": [],
   "source": [
    "for feature in df_transform.columns:\n",
    "    print(feature)"
   ]
  },
  {
   "cell_type": "code",
   "execution_count": null,
   "metadata": {
    "ExecuteTime": {
     "start_time": "2020-07-21T06:10:45.864Z"
    }
   },
   "outputs": [],
   "source": [
    "df_transform.head()"
   ]
  },
  {
   "cell_type": "code",
   "execution_count": null,
   "metadata": {
    "ExecuteTime": {
     "start_time": "2020-07-21T06:10:45.866Z"
    }
   },
   "outputs": [],
   "source": [
    "X1 = df_transform.Field_2 - df_transform.Field_1\n",
    "X2 = df_transform.Field_6 - df_transform.Field_5\n",
    "X3 = df_transform.Field_8 - df_transform.Field_7\n",
    "X4 = df_transform.Field_33 - df_transform.Field_32\n",
    "X5 = df_transform.Field_44 - df_transform.Field_43\n",
    "X6 = df_transform.F_endDate - df_transform.F_startDate\n",
    "X7 = df_transform.E_endDate - df_transform.E_startDate\n",
    "X8 = df_transform.C_endDate - df_transform.C_startDate\n",
    "X9 = df_transform.G_endDate - df_transform.G_startDate\n",
    "X10 = df_transform.A_endDate - df_transform.A_startDate\n",
    "df_transform = pd.concat([df_transform,X1,X2, X3, X4, X5, X6, X7, X8, X9, X10], axis=1)"
   ]
  },
  {
   "cell_type": "code",
   "execution_count": null,
   "metadata": {
    "ExecuteTime": {
     "start_time": "2020-07-21T06:10:45.867Z"
    }
   },
   "outputs": [],
   "source": [
    "train = df_transform.iloc[:53030,:]\n",
    "test = df_transform.iloc[53030:,:]"
   ]
  },
  {
   "cell_type": "code",
   "execution_count": null,
   "metadata": {
    "ExecuteTime": {
     "start_time": "2020-07-21T06:10:45.869Z"
    }
   },
   "outputs": [],
   "source": [
    "scaler = MinMaxScaler()\n",
    "scaler.fit(train)\n",
    "X_transform = scaler.transform(train)\n",
    "test_transform = scaler.transform(test)\n",
    "X_transform = pd.DataFrame(data = X_transform)\n",
    "test_transform = pd.DataFrame(data = test_transform)"
   ]
  },
  {
   "cell_type": "code",
   "execution_count": null,
   "metadata": {
    "ExecuteTime": {
     "start_time": "2020-07-21T06:10:45.871Z"
    }
   },
   "outputs": [],
   "source": [
    "X_transform = pd.concat([df_train.id, df_train.label,X_transform], axis = 1)\n",
    "test_transform = pd.concat([df_test.id,test_transform], axis = 1)"
   ]
  },
  {
   "cell_type": "code",
   "execution_count": null,
   "metadata": {
    "ExecuteTime": {
     "start_time": "2020-07-21T06:10:45.874Z"
    },
    "scrolled": true
   },
   "outputs": [],
   "source": [
    "X_transform.head()"
   ]
  },
  {
   "cell_type": "code",
   "execution_count": null,
   "metadata": {
    "ExecuteTime": {
     "start_time": "2020-07-21T06:10:45.877Z"
    }
   },
   "outputs": [],
   "source": [
    "data_version = \"03-09-2020-date\""
   ]
  },
  {
   "cell_type": "code",
   "execution_count": null,
   "metadata": {
    "ExecuteTime": {
     "start_time": "2020-07-21T06:10:45.880Z"
    }
   },
   "outputs": [],
   "source": [
    "os.makedirs(f\"../../data/kalapa/{data_version}/\", exist_ok=True)\n",
    "X_transform.to_csv(f\"../../data/kalapa/{data_version}/train.csv\", index = False)\n",
    "test_transform.to_csv(f\"../../data/kalapa/{data_version}/test.csv\", index = False)"
   ]
  }
 ],
 "metadata": {
  "kernelspec": {
   "display_name": "Python 3",
   "language": "python",
   "name": "python3"
  },
  "language_info": {
   "codemirror_mode": {
    "name": "ipython",
    "version": 3
   },
   "file_extension": ".py",
   "mimetype": "text/x-python",
   "name": "python",
   "nbconvert_exporter": "python",
   "pygments_lexer": "ipython3",
   "version": "3.7.7"
  },
  "varInspector": {
   "cols": {
    "lenName": 16,
    "lenType": 16,
    "lenVar": 40
   },
   "kernels_config": {
    "python": {
     "delete_cmd_postfix": "",
     "delete_cmd_prefix": "del ",
     "library": "var_list.py",
     "varRefreshCmd": "print(var_dic_list())"
    },
    "r": {
     "delete_cmd_postfix": ") ",
     "delete_cmd_prefix": "rm(",
     "library": "var_list.r",
     "varRefreshCmd": "cat(var_dic_list()) "
    }
   },
   "types_to_exclude": [
    "module",
    "function",
    "builtin_function_or_method",
    "instance",
    "_Feature"
   ],
   "window_display": false
  }
 },
 "nbformat": 4,
 "nbformat_minor": 4
}
