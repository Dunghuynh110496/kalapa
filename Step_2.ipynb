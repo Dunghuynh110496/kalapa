{
 "cells": [
  {
   "cell_type": "code",
   "execution_count": 1,
   "metadata": {
    "ExecuteTime": {
     "end_time": "2020-07-29T15:11:32.829551Z",
     "start_time": "2020-07-29T15:11:27.885110Z"
    }
   },
   "outputs": [],
   "source": [
    "import pandas as pd\n",
    "import numpy as np\n",
    "import matplotlib.pyplot as plt\n",
    "import sys\n",
    "import csv\n",
    "import os\n",
    "import random\n",
    "import string\n",
    "import seaborn as sns\n",
    "import math\n",
    "import re\n",
    "import warnings\n",
    "import lightgbm as lgb\n",
    "\n",
    "from sklearn.preprocessing import MinMaxScaler\n",
    "from sklearn.feature_extraction.text import TfidfVectorizer\n",
    "from sklearn.model_selection import StratifiedKFold\n",
    "from sklearn.feature_selection import VarianceThreshold\n",
    "from sklearn.metrics import roc_auc_score\n",
    "from sklearn.model_selection import KFold\n",
    "from sklearn.preprocessing import LabelEncoder\n",
    "from feature_engine import categorical_encoders as ce\n",
    "\n",
    "from datetime import datetime\n",
    "from dateutil.parser import parse\n",
    "from sklearn import metrics\n",
    "from unidecode import unidecode\n",
    "from sklearn.metrics import roc_auc_score\n",
    "\n",
    "from itertools import combinations\n",
    "\n",
    "warnings.filterwarnings('ignore')\n",
    "pd.options.display.max_columns = 50\n",
    "plt.style.use('ggplot')\n",
    "\n",
    "%matplotlib inline"
   ]
  },
  {
   "cell_type": "code",
   "execution_count": 2,
   "metadata": {
    "ExecuteTime": {
     "end_time": "2020-07-29T15:11:32.843805Z",
     "start_time": "2020-07-29T15:11:32.835576Z"
    }
   },
   "outputs": [],
   "source": [
    "data_version_input = \"01-10-2020\""
   ]
  },
  {
   "cell_type": "code",
   "execution_count": 3,
   "metadata": {
    "ExecuteTime": {
     "end_time": "2020-07-29T15:11:35.867128Z",
     "start_time": "2020-07-29T15:11:32.849006Z"
    }
   },
   "outputs": [],
   "source": [
    "df_train = pd.read_csv(f\"../../data/kalapa/{data_version_input}/train.csv\")\n",
    "df_test = pd.read_csv(f\"../../data/kalapa/{data_version_input}/test.csv\")"
   ]
  },
  {
   "cell_type": "code",
   "execution_count": 4,
   "metadata": {
    "ExecuteTime": {
     "end_time": "2020-07-29T15:11:35.955162Z",
     "start_time": "2020-07-29T15:11:35.871322Z"
    },
    "scrolled": true
   },
   "outputs": [
    {
     "name": "stdout",
     "output_type": "stream",
     "text": [
      "['A Luoi (1), Binh Tri Thien, Vietnam', 'Abu Dhabi, United Arab Emirates', 'Ajaccio', 'American Falls, Idaho', 'Amherst, Massachusetts', 'An Biên', 'An Duong, Hải Phòng, Vietnam', 'An Giang (4), Nghia Binh, Vietnam', 'An Khê, Gia Lai, Vietnam', 'An Lac, Thái Bình, Vietnam', 'An Lão, Bình Ðịnh, Vietnam', 'An Lê, Thái Bình, Vietnam', 'An Nhơn', 'An Ninh, Long An, Vietnam', 'An Ninh, Quảng Ninh (Quảng Bình)', 'An Phong, Ðồng Tháp, Vietnam', 'An Phu', 'An Phú (thị trấn)', 'An Thuan, Song Be, Vietnam', 'Angiang, An Giang, Vietnam', 'Anh Son', 'Anh Sơn', 'Anini-y, Antique', 'Ap An Thai (1), Tiền Giang, Vietnam', 'Ap Bao Binh, Vietnam', 'Ap Ben Cam, Vietnam', 'Ap Ben Cau, Tây Ninh, Vietnam', 'Ap Binh Duong (1), Vietnam', 'Ap Binh Hung, Tiền Giang, Vietnam', 'Ap Binh Quang, Long An, Vietnam', 'Ap Binh Thuan, Minh Hai, Vietnam', 'Ap Hung Yen, Song Be, Vietnam', 'Ap Lam Phu, Lâm Ðồng, Vietnam', 'Ap Loi Nhon, Tiền Giang, Vietnam', 'Ap My Tho, Tiền Giang, Vietnam', 'Ap Nhon My, An Giang, Vietnam', 'Ap Tan Ha, Lâm Ðồng, Vietnam', 'Ap Thanh Dong, Kiến Giang, Vietnam', 'Ap Thanh Nhut, Long An, Vietnam', 'Ap Ã?Ao, Long An, Vietnam', 'Australind, Western Australia', 'Aylmer, Ontario', 'Ayun Pa', \"B'Sar Dong, Lâm Ðồng, Vietnam\", \"B'Sre, Đắc Lắk, Vietnam\", 'Ba Hàng, Thái Nguyên, Vietnam', 'Ba Hòn, Kiến Giang, Vietnam', 'Ba Ria', 'Ba Tri', 'Ba Vì, Ha Son Binh, Vietnam', 'Ba Đồn', 'Bac Can, Bắc Kạn, Vietnam', 'Bac Giang', 'Bac Giang (cidade)', 'Bac Ha, Hoang Lien Son, Vietnam', 'Bac Kan', 'Bac Lieu', 'Bac Ninh (cidade)', 'Bac Son, Lạng Sơn, Vietnam', 'Bach Cau, Thanh Hóa, Vietnam', 'Bach Ma, Thừa Thiên-Huế, Vietnam', 'Bai Chay, Quảng Ninh, Vietnam', 'Bali', 'Ban Daknong, Attapu, Laos', 'Ban Gioc, Cao Bằng, Vietnam', 'Ban Krong Buk, Đắc Lắk, Vietnam', 'Ban Krong Pack, Đắc Lắk, Vietnam', \"Ban M'Drack, Đắc Lắk, Vietnam\", 'Ban Me Thuot, Đắc Lắk, Vietnam', 'Ban Nong Bua Noi, Khon Kaen, Thailand', 'Bandar-E-Emam Khomeyni, Khuzestan, Iran', 'Banza Luanda, Uige, Angola', 'Bao Ha, Hoang Lien Son, Vietnam', 'Bao Loc', 'Barcelona', 'Bavi', 'Beckingham, Lincolnshire', 'Ben Luc', 'Ben Tre (cidade)', 'Ben, Bến Tre, Vietnam', 'Benguela, Benguela, Angola', 'Bermuda, Louisiana', 'Bien Hoa', 'Bim Son', 'Binh Chau, Vietnam', 'Binh Chuan, Song Be, Vietnam', 'Binh Dinh, Nghia Binh, Vietnam', 'Binh Duong, Quang Nam-Da Nang, Vietnam', 'Binh Gia, Vietnam', 'Binh Hoa, Song Be, Vietnam', 'Binh Loc, Vietnam', 'Binh Luc, Hà Nam, Vietnam', 'Binh Minh', 'Binh Phu, An Giang, Vietnam', 'Binh Phuoc, Vietnam', 'Binh Son, Quảng Ngãi, Vietnam', 'Binh Thanh, Hồ Chí Minh, Vietnam', 'Biên Hòa', 'Bo Ha, Bắc Giang, Vietnam', 'Bon Bu Bo Dak Nong, Đắc Lắk, Vietnam', 'Bon Dak Mam, Đắc Lắk, Vietnam', 'Brisbane', 'Bu Dak Lung, Song Be, Vietnam', 'Bu Dang', 'Bu Dang (2), Song Be, Vietnam', 'Buon Ea Kmut, Đắc Lắk, Vietnam', 'Buon Me Thuot', 'Buon Trap, Đắc Lắk, Vietnam', 'Busan', 'Buôn Hô (1), Đắc Lắk, Vietnam', 'Buôn Hô, Đắc Lắk, Vietnam', 'Buôn Krông Bông, Đắc Lắk, Vietnam', 'Buôn Ma Thuột', 'Buôn Ma Thuột, Đắc Lắk, Vietnam', 'Buôn Mrông (1), Đắc Lắk, Vietnam', 'Buôn Nui, Đắc Lắk, Vietnam', 'Buôn Pan, Đắc Lắk, Vietnam', 'Buôn Wing (2), Đắc Lắk, Vietnam', 'Bà Rịa', 'Bá Thước', 'Bái Thượng, Thanh Hóa, Vietnam', 'Bát Trang, Ha Noi, Vietnam', 'Bình Chánh, Hồ Chí Minh, Vietnam', 'Bình Hưng Hòa B', 'Bình Liêu', 'Bình Long', 'Bình Long, Bìn Phước, Vietnam', 'Bình Nhâm, Song Be, Vietnam', 'Bình Thanh (1), Hồ Chí Minh, Vietnam', 'Bình Thủy', 'Bình Triều', 'Bù Nho, Song Be, Vietnam', 'Bù Đăng', 'Băng Cốc', 'Bạc Liêu (ciudad)', 'Bạc Liêu (thành phố)', 'Bảo Lộc', 'Bảo Yên', 'Bần Yên Nhân', 'Bắc Bình', 'Bắc Giang (thành phố)', 'Bắc Hà (huyện)', 'Bắc Kạn', 'Bắc Ninh', 'Bắc Ninh (thành phố)', 'Bắc Quang, Hà Giang, Vietnam', 'Bến Cát', 'Bến Lức', 'Bến Tre', 'Bỉm Sơn', 'Cai Lay', 'Cai Lậy (huyện)', 'Cai Mon, Bến Tre, Vietnam', 'Cai Nuoc, Cà Mau, Vietnam', 'Cai Rong, Quảng Ninh, Vietnam', 'Cai Tau Ha, Cuu Long, Vietnam', 'California City, California', 'Cam Lâm', 'Cam Lâm, Khánh Hòa, Vietnam', 'Cam Lộ (huyện)', 'Cam My', 'Cam Pha', 'Cam Ranh', 'Cam Ranh Port, Khánh Hòa, Vietnam', 'Cam Thượng, Phu Khanh, Vietnam', 'Cam Xuyen', 'Cambridge, Massachusetts', 'Camo, Cà Mau, Vietnam', 'Can Tho', 'Canh Duong Xa, Binh Tri Thien, Vietnam', 'Cao Bang', 'Cao Binh, Cao Bằng, Vietnam', 'Cao Bằng', 'Cao Hùng', 'Cao Lãnh', 'Cap-Saint-Jacques, Bà Rịa-Vũng Tàu, Vietnam', 'Cat Hai, Hải Phòng, Vietnam', 'Cau Gam, Hi Bac, Vietnam', 'Cau Tram, Long An, Vietnam', 'Cau Truong Toa, Bạc Liêu, Vietnam', 'Chau Hung, Minh Hai, Vietnam', 'Chau Phú, An Giang, Vietnam', 'Chaudok, An Giang, Vietnam', 'Chenchenji, Gongola, Nigeria', 'Chi Lang', 'Chicago', 'Chiêm Hóa', 'Cho Do Luong, Nghệ An, Vietnam', 'Cho Moi, An Giang', 'Cho Moi, Hồ Chí Minh, Vietnam', 'Cho Thu Thua, Long An, Vietnam', 'Chu Lai, Quang Nam-Da Nang, Vietnam', 'Châu Thành, Tiền Giang, Vietnam', 'Châu Thành, Trà Vinh, Vietnam', 'Châu Thành, Vietnam', 'Chí Hòa, Hồ Chí Minh, Vietnam', 'Chí Linh', 'Chơn Thành', 'Chương Hóa (thành phố)', 'Chợ Gạo', 'Chợ Lớn', 'Chợ Mới', 'Chợ Đồn', 'Cidade Antiga de Hoi An', 'Cidade de Ho Chi Minh', 'Ciudad Ho Chi Minh', 'Co Nhue, Ha Noi, Vietnam', 'Coc Leu, Hoang Lien Son, Vietnam', 'Cok Ton, Lạng Sơn, Vietnam', 'Con Cuông', 'Cu Lac, Binh Tri Thien, Vietnam', 'Cu Van, Bac Thai, Vietnam', 'Cua Ong, Quảng Ninh, Vietnam', 'Cà Hom, Trà Vinh, Vietnam', 'Cà Mau', 'Cà Mau (cidade)', 'Cái Bè', 'Cát Bà, Hải Phòng, Vietnam', 'Cô Tô, Tri Tôn', 'Côn Đảo', 'Công Thôn, Ha Noi, Vietnam', 'Cần Giuộc', 'Cần Thơ', 'Cần Đước', 'Cẩm Khê', 'Cẩm Mỹ', 'Cẩm Phả', 'Cẩm Phả Port, Quảng Ninh, Vietnam', 'Cẩm Xuyên', 'Củ Chi, Hồ Chí Minh, Vietnam', 'Cửa Lò', \"Da D'De, Đắc Lắk, Vietnam\", 'Da Dang, Quang Nam-Da Nang, Vietnam', 'Da Kao, Ho Chi Minh, Vietnam', 'Da Lat', 'Da Nang', 'Da Nang, Vietnam', 'Daejeon', 'Dai Mo, Ha Noi, Vietnam', 'Dai Tu', 'Dak Lack, Gia Lai-Cong Tum, Vietnam', 'Dak Mil', 'Dalat, Pool, Congo', 'Dalat, Sarawak', 'Dali', 'Dallas', 'Dau Tieng', 'Dhaka', 'Di An', 'Di Linh', 'Dien Bien Phu', 'Diên Khánh', 'Diên Khánh, Khánh Hòa, Vietnam', 'Diễn Châu', 'Djrott, Lâm Ðồng, Vietnam', 'Dong Dang, Quảng Ninh, Vietnam', 'Dong Ha', 'Dong Hoa', 'Dong Le, Nghe Tinh, Vietnam', 'Dong Thanh, Lâm Ðồng, Vietnam', 'Dong Thap, Hoang Lien Son, Vietnam', 'Dong Xoa, Bìn Phước, Vietnam', 'Dong Xoai', 'Dongxing, Guangxi', 'Dortmund', 'Dubai', 'Dubai, Uttar Pradesh, India', 'Duc Noi, Ha Noi, Vietnam', 'Duong Hoa, Hai Hung, Vietnam', 'Duong Hoa, Kiến Giang, Vietnam', 'Duong Quang, Hai Hung, Vietnam', 'Duy Xuyên', 'Dĩ An', 'Dầu Tiếng', 'East Tremont, New York', 'Edinburgh', 'El Monte, California', 'Eumseong', 'F.A. Berra, Buenos Aires, Argentina', 'Fan Thiet, Bình Thuận, Vietnam', 'Fanthit, Bình Thuận, Vietnam', 'Fort-de-France', 'Fukagawa, Hokkaidō', 'Fukuoka-shi, Fukuoka, Japan', 'Gainesville, Georgia', 'Gia Bình', 'Gia Kiem, Vietnam', 'Gia Lai, Gia Lai, Vietnam', 'Gia Lâm', 'Gia Lộc', 'Gia Nghia', 'Gia Nghĩa', 'Gia Nghĩa (thành phố Đài Loan)', 'Gia Ray, Vietnam', 'Giang Thành, Kiến Giang, Vietnam', 'Giao Thủy', 'Gifu', 'Gimhae', 'Ginowan, Okinawa', 'Gio Linh', 'Giồng Riềng', 'Go Da, Ðồng Tháp, Vietnam', 'Guangzhou Shi, Guangdong, China', 'Gwangju', 'Gò Công', 'Gò Dầu Hạ, Tây Ninh, Vietnam', 'Gò Vấp', 'Ha Coi, Quảng Ninh, Vietnam', 'Ha Giap, Vinh Phu, Vietnam', 'Ha Lam, Quảng Ninh, Vietnam', 'Ha Loi, Ha Noi, Vietnam', 'Ha Long', \"Ha Tin', Hà Tĩnh, Vietnam\", 'Ha-Nam, Hà Nam, Vietnam', 'Hai Dzung, Hải Dương, Vietnam', 'Hai Hau', 'Hai Ninh, Thuin Hai, Vietnam', 'Hai Phong, Vietnam', 'Hai-Doung, Hải Dương, Vietnam', 'Haiphong', 'Haiphong, Hải Phòng, Vietnam', 'Hakodate', 'Hannover', 'Hanoi', 'Hanoi, Southern Highlands, Papua New Guinea', 'Hanoi, Vietnam', 'Hanói', 'Hdadja, Safi, Morocco', 'Hien Hao, Hải Phòng, Vietnam', 'Hiep Hoa, Hi Bac, Vietnam', 'Hiep Hoa, Vietnam', 'Higashimatsuyama-shi, Saitama, Japan', 'Hiroshima', 'Hnahthial', 'Ho Chi Minh City, Vietnam', 'Ho Chi Minh Kenti', 'Ho Nai, Vietnam', 'Ho-Chi-Minh-Stadt', 'Hoa Binh, Tây Ninh, Vietnam', 'Hoa Loi (1), Song Be, Vietnam', 'Hoa Mac, Ha Nam Ninh, Vietnam', 'Hoai Duc Phu, Ha Noi, Vietnam', 'Hoang Hoa', 'Hoi An, An Giang, Vietnam', 'Hoi An, Quang Nam-Da Nang, Vietnam', 'Hon Gai, Quảng Ninh, Vietnam', 'Hong Gai, Quảng Ninh, Vietnam', 'Hong Kong', 'Honggay, Quảng Ninh, Vietnam', 'Hoài Nhon, Bình Ðịnh, Vietnam', 'Hoài Ân, Bình Ðịnh, Vietnam', 'Hoàn Lão, Quảng Bình, Vietnam', 'Hoàng Mai, Hi Bac, Vietnam', 'Hoàng Su Phì', 'Hoàng Xá, Phú Thọ, Vietnam', 'Hoành Bồ', 'Hoằng Hóa', 'Hsinchu, Taiwan', 'Hue, Ohio', 'Hue, Vietnam', 'Hung Hoa, Vinh Phu, Vietnam', 'Hung Loc, Vietnam', 'Hung Yen, Hưng Yên, Vietnam', 'Hunter, Utah', 'Huong Canh, Vinh Phu, Vietnam', 'Huong Cau Ngang, Trà Vinh, Vietnam', 'Huong Hoa, Quảng Trị, Vietnam', 'Huong Long Phu, Sóc Trăng, Vietnam', 'Huong Ã?Ao, Hai Hung, Vietnam', 'Huu An, Tiền Giang, Vietnam', 'Huu Lung', 'Huyen Chau Thanh, Kiến Giang, Vietnam', 'Huyện Thạnh Trị, Bạc Liêu, Vietnam', 'Huế', 'Hà Giang', 'Hà Giang (thành phố)', 'Hà Nhà (1), Quang Nam-Da Nang, Vietnam', 'Hà Nội', 'Hà Tiên', 'Hà Trung (huyện)', 'Hà Tây, Nghia Binh, Vietnam', 'Hà Tĩnh', 'Hà Tĩnh (thành phố)', 'Hà Đông', 'Hàm Tân', 'Hàm Yên', 'Hòa An', 'Hòa An, Cẩn Thỏ, Vietnam', 'Hòa Bình, Binh Tri Thien, Vietnam', 'Hòa Bình, Bạc Liêu, Vietnam', 'Hòa Bình, Hai Hung, Vietnam', 'Hòa Bình, Hòa Bình, Vietnam', 'Hòa Dinh, Ha Nam Ninh, Vietnam', 'Hòa Khánh (1), Long An, Vietnam', 'Hóc Môn, Hồ Chí Minh, Vietnam', 'Hô Phòng, Bạc Liêu, Vietnam', 'Hương Bá Thước, Thanh Hóa, Vietnam', 'Hương Cẩm Thủy, Thanh Hóa, Vietnam', 'Hương Khê, Hà Tĩnh, Vietnam', 'Hương Lang Chánh, Thanh Hóa, Vietnam', 'Hương Ngọc Lac, Thanh Hóa, Vietnam', 'Hương Tân Lạc, Hòa Bình, Vietnam', 'Hạ Hòa', 'Hạ Long', 'Hạ Long (thành phố)', 'Hải Dương', 'Hải Dương (thành phố)', 'Hải Hậu', 'Hải Lăng', 'Hải Phòng', 'Hồng Kông', 'Hồng Ngự', 'Hồng Ngự (thị xã)', 'Hội An', 'Hữu Lũng', 'Ikeda-shi, Osaka, Japan', 'Incheon', 'Ise, Mie', 'Istanbul', 'Ithaca, New York', 'Jeju (thành phố)', 'Juba, Nam Sudan', 'Kadô, Lâm Ðồng, Vietnam', 'Kampong Cham', 'Kasongan, Kalimantan Tengah, Indonesia', 'Katum, Tây Ninh, Vietnam', 'Ke Sat, Hai Hung, Vietnam', 'Khanh Hoa, Khánh Hòa, Vietnam', 'Khe Sanh, Binh Tri Thien, Vietnam', 'Khu Chi Lang, Lâm Ðồng, Vietnam', 'Khê Mao, Quảng Ninh, Vietnam', 'Kien Luong', 'Kikuchi, Kumamoto', 'Kim Bang, Ha Nam Ninh, Vietnam', 'Kim Bôi', 'Kim Bảng', 'Kim Chau, Đắc Lắk, Vietnam', 'Kim Mã, Ha Noi, Vietnam', 'Kim Quan Thuong, Ha Tuyen, Vietnam', 'Kim Son', 'Kim Đường', 'Kinh Môn', 'Kiên An, An Giang, Vietnam', 'Kiên An, Kiến Giang, Vietnam', 'Kiên Lương', 'Kiên Tân, Kiến Giang, Vietnam', 'Kobe-shi, Hyogo, Japan', 'Koga, Ibaraki', 'Kon Tum', 'Kon Tum (thành phố)', 'Kon Tum, Kon Tum, Vietnam', 'Kuala Lumpur', 'Kwang Binh, Quảng Bình, Vietnam', 'Kwang Ngai, Quảng Ngãi, Vietnam', 'Ky Son, Nghệ An, Vietnam', 'Kỳ Anh', 'La Habana', 'La Rioja, Argentina', 'Lac Lam, Lâm Ðồng, Vietnam', 'Lac Nghia, Lâm Ðồng, Vietnam', 'Lac Son, Hòa Bình, Vietnam', 'Lagi, Thuin Hai, Vietnam', 'Lagos', 'Lai Chau', 'Lai Châu, Yên Đài', 'Lai Vung', 'Laicha, Madhya Pradesh, India', 'Lang Phuoc Hai, Vietnam', 'Lang Son (cidade)', 'Lao Bao', 'Laokai, Lào Cai, Vietnam', 'Lap Thach', 'Las Vegas, Nevada', 'Le Thuy, Quảng Bình, Vietnam', 'Lich Hoi Thuong, Sóc Trăng, Vietnam', 'Linh Xúân, Hồ Chí Minh, Vietnam', 'Liverpool', 'Liên Hiệp, Lâm Ðồng, Vietnam', 'Loc An, Binh Tri Thien, Vietnam', 'Loc An, Vietnam', 'Loc Giang, Long An, Vietnam', 'London, California', 'Long An, Tiền Giang, Vietnam', 'Long Hai, Vietnam', 'Long Khanh', 'Long Khánh', 'Long Mỹ', 'Long Phú', 'Long Thành', 'Long Xuyen', 'Long Xuyên', 'Long Điền', 'Los Angeles', 'Luong Son, Hòa Bình, Vietnam', 'Luân Đôn', 'Là Ngà, Vietnam', 'Làng Kinh, Nghe Tinh, Vietnam', 'Lào Cai', 'Lào Cai (thành phố)', 'Lái Thiêu', 'Lâm Hà', 'Lâm Thao', 'Lý Hòa, Binh Tri Thien, Vietnam', 'Lạc Thủy', 'Lạng Sơn', 'Lấp Vò', 'Lập Thạch', 'Lệ Thủy, Quảng Bình', 'Lộc Ninh, Bìn Phước, Vietnam', 'Lục Nam', 'Lục Ngạn', 'Mai Châu', 'Mai Dich, Ha Noi, Vietnam', 'Majuro, Marshall Islands', 'Manchester', 'Mang Cà, Binh Tri Thien, Vietnam', 'Manhattan, New York', 'Mao Khe, Vietnam', 'Me Tri, Ha Noi, Vietnam', 'Medellín', 'Melbourne', 'Melbourne, Victoria, Australia', 'Milano', 'Milano Marittima, Emilia-Romagna, Italy', 'Mimasaka-shi, Okayama, Japan', 'Mitho, Tiền Giang, Vietnam', 'Miêu Lật (thành phố)', 'Moc Chau', 'Mokpo', 'Mong Duong, Quảng Ninh, Vietnam', 'Montgomery, Alabama', 'Moriya, Ibaraki', 'Moskau', 'Mu Cang Chai', 'Muc Son Ngoai, Thanh Hóa, Vietnam', 'Muong Bam, Sơn La, Vietnam', 'Muong Lay, Lai Châu, Vietnam', 'Muong Te', 'My Dong, Hải Phòng, Vietnam', 'My Tho', 'My Thuan, Tiền Giang, Vietnam', 'My Xuyen, Sóc Trăng, Vietnam', 'Mytholmroyd', 'Mèo Vạc', 'Móng Cái', 'Móng Cái, Vietnam', 'Mù Cang Chải', 'Mũi Né', 'Mương Té, Lai Châu, Vietnam', 'Mường Chà (thị trấn)', 'Mộ Đức, Quảng Ngãi, Vietnam', 'Mộc Châu', 'Mộc Hóa', 'Mỹ Hào', 'Mỹ Hạnh Nam', 'Mỹ Tho', 'Na Noi, Ha Son Binh, Vietnam', 'Na Rì', 'Naga', 'Nagasaki', 'Nagoya-shi, Aichi, Japan', 'Nam Can, Minh Hai, Vietnam', 'Nam Giang', 'Nam Ninh, Ha Nam Ninh, Vietnam', 'Nam Trực', 'Nam Định, Nam Định, Vietnam', 'Nam �Àn, Nghệ An, Vietnam', 'Namban, Lâm Ðồng, Vietnam', 'Nanning Shi, Guangxi, China', 'Nassau, Bahamas', 'New City, New York', 'Nga Sơn', 'Ngai Giao, Vietnam', 'Ngan Son (4), Phu Khanh, Vietnam', 'Nghi Lộc', 'Nghi Sơn, Thanh Hóa, Vietnam', 'Nghia Ã?An, Nghệ An, Vietnam', 'Nghĩa Hành', 'Nghĩa Lộ', 'Ngoc Ha, Ha Noi, Vietnam', 'Ngoc Khe, Thanh Hóa, Vietnam', 'Nguyên Bình', 'Ngọc Hồi (huyện)', 'Nha Tho, Sóc Trăng, Vietnam', 'Nha Trang', 'Nhat Chieu, Ha Noi, Vietnam', 'Nho Quan, Ninh Bình, Vietnam', 'Nhon Trach', 'Nhà Bàng, An Giang, Vietnam', 'Nhà Bè, Hồ Chí Minh, Vietnam', 'Nhơn Trạch', 'Ninbinh, Ninh Bình, Vietnam', 'Ninh Bac, Vinh Phu, Vietnam', 'Ninh Bình', 'Ninh Bình (thành phố)', 'Ninh Bình, Phu Khanh, Vietnam', 'Ninh Giang, Hai Hung, Vietnam', 'Ninh Hoa', 'Ninh Hòa', 'Ninh Hòa, Khánh Hòa, Vietnam', 'Ninh Thuân, Thuin Hai, Vietnam', 'Nobeoka, Miyazaki', 'Nong Son, Quang Nam-Da Nang, Vietnam', 'Nueva York', 'Nông Cống', 'Orlando, Florida', 'Osakasayama-shi, Osaka, Japan', 'Paklay, Xaignabouli, Laos', 'Paris', 'Perth, Tây Úc', 'Phan Rang', 'Phan Rang - Tháp Chàm', 'Phan Rang-Tháp Chàm, Ninh Thuận, Vietnam', 'Phan Ranh, Ninh Thuận, Vietnam', 'Phan Ri Cua, Thuin Hai, Vietnam', 'Phan Rí, Thuin Hai, Vietnam', 'Phan Thiet', 'Phan Thiết', 'Phan Tiet, Bình Thuận, Vietnam', 'Phat Tich, Hi Bac, Vietnam', 'Phi Liêng, Lâm Ðồng, Vietnam', 'Philadelphia', 'Phnom Penh', 'Pho Ba Che, Quảng Ninh, Vietnam', 'Pho Binh Gia, Lạng Sơn, Vietnam', 'Pho Lu, Hoang Lien Son, Vietnam', 'Pho Ninh, Binh Tri Thien, Vietnam', 'Phong Nha, Binh Tri Thien, Vietnam', 'Phong Thổ', 'Phu Dien Chau, Nghệ An, Vietnam', 'Phu Giao', 'Phu Lang Thong, Bắc Giang, Vietnam', 'Phu Lang Thuong, Bắc Giang, Vietnam', 'Phu Luu, Hi Bac, Vietnam', 'Phu Ly', 'Phu My, An Giang, Vietnam', 'Phu My, Nghia Binh, Vietnam', 'Phu My, Vietnam', 'Phu Quoc, Kiến Giang, Vietnam', 'Phu Tho, Phú Thọ, Vietnam', 'Phu Van Ly, Ha Nam Ninh, Vietnam', 'Phu Vinh, An Giang, Vietnam', 'Phu-Kinh-Mon, Hai Hung, Vietnam', 'Phu-Li, Hà Nam, Vietnam', 'Phuc Loc, Vinh Phu, Vietnam', 'Phung Hiep', 'Phuoc An, Đắc Lắk, Vietnam', 'Phuoc Binh, Bìn Phước, Vietnam', 'Phuoc Binh, Hồ Chí Minh, Vietnam', 'Phuoc Buu, Vietnam', 'Phuoc Long, Kiến Giang, Vietnam', 'Phuoc Son, Quang Nam-Da Nang, Vietnam', 'Phuoc Tinh, Vietnam', 'Phuong Cuu, Thuin Hai, Vietnam', 'Phuong Lam, Vietnam', 'Phô Yén, Bac Thai, Vietnam', 'Phù Cát', 'Phù Ninh, Phù Ninh, Vietnam', 'Phù Yên', 'Phùng Khoang, Ha Noi, Vietnam', 'Phú Bình', 'Phú Giáo', 'Phú Lâm, Hồ Chí Minh, Vietnam', 'Phú Nhuận', 'Phú Quý', 'Phú Thiện', 'Phú Thọ', 'Phú Thọ (thị xã)', 'Phú Vang', 'Phú Xuyên, Ha Noi, Vietnam', 'Phú Yên, Ha Son Binh, Vietnam', 'Phúc Châu', 'Phúc Yên', 'Phụng Hiệp', 'Phủ Lý', \"Pingtunghsien, T'Ai-Wan, Taiwan\", 'Plei Bau Can, Gia Lai-Cong Tum, Vietnam', 'Plei Dông Lâm, Gia Lai-Cong Tum, Vietnam', 'Plei Kly, Gia Lai, Vietnam', 'Pleiku', 'Plây Cu, Gia Lai, Vietnam', 'Plây Ku, Gia Lai, Vietnam', 'Port Campha, Quảng Ninh, Vietnam', 'Praga', 'Quan Dak To, Kon Tum, Vietnam', 'Quan Hóa', 'Quan Hóa, Thanh Hóa, Vietnam', 'Quan Nhan, Ha Noi, Vietnam', 'Quang Lam, Hi Bac, Vietnam', 'Quang Linh, Ha Tuyen, Vietnam', 'Quang Nam, Quang Nam-Da Nang, Vietnam', 'Quang Ngai', 'Quang Ninh, Binh Tri Thien, Vietnam', 'Quat Lam, Ha Nam Ninh, Vietnam', 'Que Son, Quảng Nam, Vietnam', 'Qui Nhon, Bình Ðịnh, Vietnam', 'Quy Nhon', 'Quy Nhơn', 'Quynh Coi, Thái Bình, Vietnam', 'Quynh Di, Nghe Tinh, Vietnam', 'Quynh Luu, Nghệ An, Vietnam', 'Quảng Châu', 'Quảng Ngãi', 'Quảng Ngãi (thành phố)', 'Quảng Trạch', 'Quảng Trị', 'Quảng Trị (thị xã)', 'Quảng Yên, Quảng Ninh, Vietnam', 'Quận 11', 'Quận 4', 'Quận 8', 'Quận Năm, Quang Nam-Da Nang, Vietnam', 'Quế Phong', 'Quế Sơn', 'Quỳ Châu', 'Quỳ Hợp', 'Quỳnh Lưu', 'Quỳnh Nhai', 'Rach Gia', 'Rach Gia, Vietnam', 'Rach Soi, Kiến Giang, Vietnam', 'Raleigh, Bắc Carolina', 'Ras al-Khaimah', 'Roon, Binh Tri Thien, Vietnam', 'Rowlett, Texas', 'Rạch Giá', 'Sa Lung, Ha Nam Ninh, Vietnam', 'Sa Pa', 'Sa Đéc', 'Sabae, Fukui', 'Sai, Gongola, Nigeria', 'San Diego', 'San Francisco', 'San Jose, California', 'Santa Barbara, California', 'Sapareva Banya', 'Sasebo', 'Seattle, Washington', 'Seoul, Korea', 'Shibukawa, Gunma', 'Shimonoseki', 'Shinjuku', 'Singapore', 'Soc Son, Kiến Giang, Vietnam', 'Soc Trang', 'Son La', 'Son La Chau, Sơn La, Vietnam', 'Son Tay', 'Son, Norway', 'Song Phi Nong', 'Songkau, Phú Yên, Vietnam', 'Suoi Da, Tây Ninh, Vietnam', 'Suong', 'Surin, Thailand', 'Suối Dây, Tây Ninh, Vietnam', 'Sydney', 'Sài Gòn, Sóc Trăng, Vietnam', 'São Francisco', 'Sóc Trăng (Ort)', 'Sóc Trăng (thành phố)', 'Sông Cầu (thị xã)', 'Sông Mã', 'Sông Mã (huyện)', 'Sơn Dương', 'Sơn La', 'Sơn Tây (thị xã)', 'Sơn Tịnh', 'Sầm Sơn', 'Sốp Cộp', 'Tachikawa, Tokyo', 'Tai Nin, Tây Ninh, Vietnam', \"Tailaokeng, T'Ai-Pei, Taiwan\", 'Tam Ky', 'Tam Kỳ', 'Tam My (2), Quang Nam-Da Nang, Vietnam', 'Tam Quan, Bình Ðịnh, Vietnam', 'Tam Sóc, Sóc Trăng, Vietnam', 'Tam Điệp, Ninh Bình, Vietnam', 'Tam Đảo, Vĩnh Phúc, Vietnam', 'Tan Hoi, Ðồng Tháp, Vietnam', 'Tan Hop Xa, Binh Tri Thien, Vietnam', 'Tan Ky', 'Tan Lac Ly, Ha Nam Ninh, Vietnam', 'Tan Phu, Vietnam', 'Tan Phuoc', 'Tay Ho, Ha Noi, Vietnam', 'Te Le, Vinh Phu, Vietnam', 'Tha Sung, Udon Thani, Thailand', 'Thac Tri An, Vietnam', 'Than Uyên', 'Thanh Ba', 'Thanh Binh (1), Quang Nam-Da Nang, Vietnam', 'Thanh Bình, Ðồng Tháp, Vietnam', 'Thanh Chương', 'Thanh Hoa, Nghe Tinh, Vietnam', 'Thanh Hóa', 'Thanh Liet, Ha Noi, Vietnam', 'Thanh Liêm', 'Thanh Oai, Ha Son Binh, Vietnam', 'Thanh Pho Ho Chi Minh', 'Thanh Son', 'Thanh Son, Vinh Phu, Vietnam', 'Thanh Sơn', 'Thanh Thuy', 'Thanh Vân, Thanh Hóa, Vietnam', 'Thanâ\\x80? Hoa, Thanh Hóa, Vietnam', 'The Bronx', 'Thinh Liet, Hi Bac, Vietnam', 'Tho Tang, Ha Noi, Vietnam', 'Thon Nhu Ngoc, Thuin Hai, Vietnam', 'Thon Tu Thien, Thuin Hai, Vietnam', 'Thu Dau Mot', 'Thuan Chau', 'Thuong, Bắc Giang, Vietnam', 'Thuận Châu', 'Thuận Thành', 'Thành phố Benin', 'Thành phố Guatemala', 'Thành phố Hồ Chí Minh', 'Thành phố New York', 'Thái Bình', 'Thái Bình (thành phố)', 'Thái Bình, Ha Nam Ninh, Vietnam', 'Thái Bình, Thái Bình, Vietnam', 'Thái Hòa, Song Be, Vietnam', 'Thái Hõa, Nghệ An, Vietnam', 'Thái Nguyên', 'Thái Nguyên (cidade)', 'Thái Nguyên (thành phố)', 'Thái Thụy', 'Tháp Mười', 'Thôn Cam Ranh, Khánh Hòa, Vietnam', 'Thăng Bình', 'Thượng Hải', 'Thạnh Hóa', 'Thạnh Phong, Bến Tre, Vietnam', 'Thất Khê, Lạng Sơn, Vietnam', 'Thọ Xuân (huyện)', 'Thốt Nốt', 'Thủ Dầu Một', 'Thủ Đức, Hồ Chí Minh, Vietnam', 'Tien Yer, Quảng Ninh, Vietnam', 'Tinh Bien', 'Tinh Kontum, Kon Tum, Vietnam', 'Tinh Pleiku, Gia Lai, Vietnam', 'Tinh, Sóc Trăng, Vietnam', 'Tiên La, Hi Bac, Vietnam', 'Tiên Yên', 'Tiền Hải', 'Tiểu Cần', 'Tonami-shi, Toyama, Japan', 'Toshima', 'Tra Son, Quang Nam-Da Nang, Vietnam', 'Tra Tan, Thuin Hai, Vietnam', 'Tra Vinh', 'Tra Vinâ\\x80?, Trà Vinh, Vietnam', 'Trang Bach, Quảng Ninh, Vietnam', 'Trang Bom', 'Tri Tôn', 'Tri Tôn (thị trấn)', 'Trieu Khuc, Ha Noi, Vietnam', 'Triệu Phong', 'Trung Hòa, Vietnam', 'Trung Khanh Phu, Cao Bằng, Vietnam', 'Trà Cú', 'Trà My, Quang Nam-Da Nang, Vietnam', 'Trà Vinh', 'Trà Ôn', 'Trạm Giang', 'Trảng Bom', 'Trảng Bàng', 'Tu Son', 'Tu Son, Hi Bac, Vietnam', 'Tuan Giao', 'Tung Nghia, Lâm Ðồng, Vietnam', 'Tuong Duong', 'Tuy An, Phú Yên, Vietnam', 'Tuy Hoa', 'Tuy Hoa, Thuin Hai, Vietnam', 'Tuy Hòa', 'Tuy Phong', 'Tuy Phước', 'Tuyên Hóa', 'Tuyên Quang, Tuyên Quang, Vietnam', 'Tuần Giáo (thị trấn)', 'Tánh Linh, Bình Thuận, Vietnam', 'Tân An', 'Tân An, Long An', 'Tân Bắc', 'Tân Châu', 'Tân Kiên, Hồ Chí Minh, Vietnam', 'Tân Kỳ', 'Tân Phú', 'Tân Sơn Nhì, Hồ Chí Minh, Vietnam', 'Tân Trụ', 'Tân Uyên (huyện cũ)', 'Tây Hòa', 'Tây Hòa, Phú Yên', 'Tây Ninh', 'Tương Dương, Nghệ An', 'Tịnh Biên', 'Từ Sơn', 'Ufa, Russia', 'Ung Hoa, Ha Son Binh, Vietnam', 'Uông Bí', 'Van Tri, Ha Noi, Vietnam', 'Van Yen, Quảng Ninh, Vietnam', 'Van Ã?Ien, Hà Nội, Vietnam', 'Verona', 'Vieh Yen, Vĩnh Phúc, Vietnam', 'Vieng-Chan, Vientiane, Laos', 'Viet Tri', 'Vietri, Phú Thọ, Vietnam', 'Vigan', 'Vin, Nghệ An, Vietnam', 'Vinh', 'Vinh An, Vietnam', 'Vinh Ang, Nghe Tinh, Vietnam', 'Vinh Bao, Hải Phòng, Vietnam', 'Vinh Cuu', 'Vinh Hoa, Kiến Giang, Vietnam', 'Vinh Kim, Trà Vinh, Vietnam', 'Vinh Loc A', 'Vinh Loi', 'Vinh Loi (1), Nghia Binh, Vietnam', 'Vinh Long (cidade)', 'Vinh Phong, Kiến Giang, Vietnam', 'Vinh Phuc (1), Nghia Binh, Vietnam', 'Vinh Thuan (1), Kiến Giang, Vietnam', 'Vinh Yen', 'Vinh Yen, Nghia Binh, Vietnam', 'Vinh, Hi Bac, Vietnam', 'Viêng Chăn', 'Việt Trì', 'Việt Yên', 'Vo Dat, Thuin Hai, Vietnam', 'Vo Hoi, Thái Bình, Vietnam', 'Vo Ngai, Hai Hung, Vietnam', 'Vung Tau', 'Vàng Danh, Quảng Ninh, Vietnam', 'Võ Xu, Thuin Hai, Vietnam', 'Vĩnh Châu', 'Vĩnh Cửu, Đồng Nai', 'Vĩnh Hưng', 'Vĩnh Linh', 'Vĩnh Long', 'Vĩnh Long (thành phố)', 'Vĩnh Lộc', 'Vĩnh Phúc', 'Vĩnh Tường', 'Vĩnh Yên', 'Vũng Tàu', 'Vạn Ninh, Khánh Hòa', 'Vị Thanh', 'Vị Thủy', 'Vụ Bản', 'Wakō, Saitama', 'Warren, Michigan', 'Warszawa', 'Washington, D.C.', 'West Melbourne, Florida', 'Westchester, New York', 'Winnipeg', 'Wonju', 'Xa Dau Giay, Vietnam', 'Xa Hung Loc, Vietnam', 'Xa Long Son (1), Vietnam', 'Xa Minh Thanh, Song Be, Vietnam', 'Xa Phan Thiet, Bình Thuận, Vietnam', 'Xa Phuong Lam, Vietnam', 'Xa Song Luy, Thuin Hai, Vietnam', 'Xa Tho Thanh, Đắc Lắk, Vietnam', 'Xa Vinh Hoa, Vietnam', 'Xa Vung Tau, Bà Rịa-Vũng Tàu, Vietnam', 'Xom Ba Trai, Kiến Giang, Vietnam', 'Xom Gia Rai, Bạc Liêu, Vietnam', 'Xuan Tu, Phu Khanh, Vietnam', 'Xuyên Mộc', 'Xuân Hòa, Vĩnh Phúc, Vietnam', 'Xuân Lộc, Ðồng Nai, Vietnam', 'Xuân Mai', 'Xuân Trường', 'Xóm Cây Da, Song Be, Vietnam', 'Xóm Cây Gia, Tiền Giang, Vietnam', 'Xóm Pho, Hà Nội, Vietnam', 'Xóm �Ôi Chuong, Thanh Hóa, Vietnam', 'Yangsan', 'Yen Bai (cidade)', 'Yen Dinh, Thanh Hóa, Vietnam', 'Yen Lac, Hai Hung, Vietnam', 'Yen, Vĩnh Phúc, Vietnam', 'Yongin', 'Yên Bái', 'Yên Bái (thành phố)', 'Yên Bình Xã, Ha Tuyen, Vietnam', 'Yên Bình, Hoang Lien Son, Vietnam', 'Yên Cát, Thanh Hóa, Vietnam', 'Yên Lac, Ha Noi, Vietnam', 'Yên Lập', 'Yên Phong', 'Yên Phú, Ha Nam Ninh, Vietnam', 'Yên Thành', 'Ân Thi, Hưng Yên', 'Ã?A Nang, Ðà Nẵng, Vietnam', 'Ô Môn', 'Đan Phượng', 'Điện Biên Phủ', 'Điện Bàn', 'Đoan Hùng, Phú Thọ, Vietnam', 'Đà Lạt', 'Đà Nẵng', 'Đài Bắc', 'Đài Trung', 'Đông Hà', 'Đông Hòa, Phú Yên', 'Đại Lộc', 'Đại Từ', 'Đắk Mil', 'Đồng Hới', 'Đồng Xoài', 'Đức Hóa, Tuyền Châu', 'Ōsaka', 'Бакзянг (город)', 'Бакльеу', 'Бакнинь (город)', 'Бьенхоа', 'Винь', 'Виньйен', 'Виньлонг', 'Вунгтау', 'Далат', 'Дананг', 'Йенбай (город)', 'Кантхо', 'Каобанг (город)', 'Куинён', 'Митхо', 'Монгкай', 'Нячанг', 'Тхайнгуен', 'Тханьхоа', 'Тхузаумот', 'Тэйнинь (город)', 'Хайфон', 'Халонг (город)', 'Ханой', 'Хатьен', 'Хошимин', 'Чавинь (город)', 'Шокчанг', 'Шонла', 'بانكوك', 'تاويون', 'تو داو موت', 'جاكرتا', 'خاركيف', 'دا نانغ', 'دونج هوي (مدينة)', 'فنغ تاو', 'فينه', 'كن تاه', 'كوسبيكو', 'مدينة هو تشي منه', 'نها ترانج', 'ها فونغ', 'هانوي', 'กาวหลัญ', 'ดงห่า', 'ดานัง', 'ตามกี่', 'ท้ายเงวียน', 'นครโฮจิมินห์', 'นิญบิ่ญ', 'บวนมาถ็วต', 'บั๊กนิญ', 'ฟานเที้ยต', 'สักซ้า', 'หวุงเต่า', 'หายเซือง', 'ฮานอย', 'เกิ่นเทอ', 'เบียนฮหว่า', 'เปล็ยกู', 'ไฮฟอง', 'Ấp Bình Chánh (1), An Giang, Vietnam', 'Ấp Tân Phú, Vietnam', 'Ấp Tân Thành, Long An, Vietnam']\n",
      "1087\n",
      "#####################\n",
      "['A Luoi (1), Binh Tri Thien, Vietnam', 'Amphoe Muang Chon Buri, Chon Buri, Thailand', 'An Biên', 'An Duong, Hải Phòng, Vietnam', 'An Giang (4), Nghia Binh, Vietnam', 'An Hoa, Ðồng Tháp, Vietnam', 'An Khê, Gia Lai, Vietnam', 'An Nhơn', 'Angiang, An Giang, Vietnam', 'Angola, Indiana', 'Anh Son', 'Anh Sơn', 'Ap An Phu (2), An Giang, Vietnam', 'Ap Binh Duong (1), Vietnam', 'Ap Binh Ta (2), Long An, Vietnam', 'Ap Chanh (4), Long An, Vietnam', 'Ap Go Dau, Vietnam', 'Ap Phu Ly (2), Cuu Long, Vietnam', 'Ap Suoi Cat, Vietnam', 'Asaka, Saitama', 'Auckland', 'Australia Plains, South Australia, Australia', \"B'Sar Dong, Lâm Ðồng, Vietnam\", 'Ba Don', 'Ba Ria', 'Ba Vì, Ha Son Binh, Vietnam', 'Ba Đồn', 'Bac Can, Bắc Kạn, Vietnam', 'Bac Giang', 'Bac Giang (cidade)', 'Bac Lieu', 'Bac Ninh (cidade)', 'Bac Son, Lạng Sơn, Vietnam', 'Bach Lieu, Bạc Liêu, Vietnam', 'Bach Ma, Thừa Thiên-Huế, Vietnam', 'Bai Chay, Quảng Ninh, Vietnam', 'Ban Ea Phe, Đắc Lắk, Vietnam', \"Ban M'Drack, Đắc Lắk, Vietnam\", 'Ban Me Thuot, Đắc Lắk, Vietnam', 'Ban Nam Ca Dinh, Bolikhamxai, Laos', 'Bangkok', 'Bangkok, Jawa Tengah, Indonesia', 'Bao Loc', 'Bavet, Svay Rieng, Cambodia', 'Ben Cat', 'Ben Tre (cidade)', 'Ben, Bến Tre, Vietnam', 'Benguela, Benguela, Angola', 'Bhubaneswar', 'Bien Hoa', 'Bim Son', 'Binh Dinh, Nghia Binh, Vietnam', 'Binh Duong, Quang Nam-Da Nang, Vietnam', 'Binh Luc, Hà Nam, Vietnam', 'Binh Phuoc, Vietnam', 'Binh Son, Quảng Ngãi, Vietnam', 'Binh Thanh, Hồ Chí Minh, Vietnam', 'Biên Hòa', 'Bon Bu Bo Dak Nong, Đắc Lắk, Vietnam', 'Bon Yok Djou, Đắc Lắk, Vietnam', 'Boston, Massachusetts', 'Buon Me Thuot', 'Buon Trap, Đắc Lắk, Vietnam', 'Buôn Hô (1), Đắc Lắk, Vietnam', 'Buôn Hô (2), Đắc Lắk, Vietnam', 'Buôn Hô, Đắc Lắk, Vietnam', 'Buôn Ma Thuột', 'Buôn Ma Thuột, Đắc Lắk, Vietnam', 'Buôn Nui, Đắc Lắk, Vietnam', 'Bà Rịa', 'Bái Thượng, Thanh Hóa, Vietnam', 'Bát Trang, Ha Noi, Vietnam', 'Bình Chánh, Hồ Chí Minh, Vietnam', 'Bình Gia', 'Bình Long', 'Bình Long, Bìn Phước, Vietnam', 'Bình Nhâm, Song Be, Vietnam', 'Bình Đường', 'Bích Trì, Ha Nam Ninh, Vietnam', 'Bạc Liêu (thành phố)', 'Bảo Lộc', 'Bảo Yên', 'Bắc Bình', 'Bắc Giang (thành phố)', 'Bắc Kạn', 'Bắc Ninh', 'Bắc Ninh (thành phố)', 'Bắc Quang, Hà Giang, Vietnam', 'Bến Cát', 'Bến Lức', 'Bến Tre', 'Bố Trạch', 'Caen', 'Cai Lay', 'Cai Lậy (huyện)', 'Cai Rong, Quảng Ninh, Vietnam', 'Cai Tau Ha, Cuu Long, Vietnam', 'California City, California', 'Cam Lâm, Khánh Hòa, Vietnam', 'Cam Pha', 'Cam Pha Mines, Quảng Ninh, Vietnam', 'Cam Ranh', 'Cam Ranh Port, Khánh Hòa, Vietnam', 'Camo, Cà Mau, Vietnam', 'Can Lộc', 'Can Thanh, An Giang, Vietnam', 'Can Thanh, Hồ Chí Minh, Vietnam', 'Can Tho', 'Cao Bang', 'Cao Bằng', 'Cao Lãnh', 'Catumbella, Benguela, Angola', 'Chau Phú, An Giang, Vietnam', 'Chaudok, An Giang, Vietnam', 'Cho Do Luong, Nghệ An, Vietnam', 'Cho Moi, An Giang', 'Cho Moi, Hồ Chí Minh, Vietnam', 'Chu Lai, Quang Nam-Da Nang, Vietnam', 'Châu Phú', 'Châu Thành, Tiền Giang, Vietnam', 'Châu Thành, Trà Vinh, Vietnam', 'Chơn Thành', 'Chợ Gạo', 'Chợ Lách', 'Chợ Mới', 'Cidade de Ho Chi Minh', 'Cingapura', 'Ciudad Ho Chi Minh', 'Con Cuông', 'Cua Tung, Binh Tri Thien, Vietnam', 'Cà Mau', 'Cái Bè', 'Cô Tô, Tri Tôn', 'Cần Giờ, Hồ Chí Minh, Vietnam', 'Cần Thơ', 'Cần Đước', 'Cầu Ngang', 'Cẩm Khê', 'Cẩm Mỹ', 'Cẩm Phả', 'Cẩm Phả Port, Quảng Ninh, Vietnam', 'Cẩm Thủy', 'Củ Chi, Hồ Chí Minh, Vietnam', 'Cửa Lò', 'Da Dang, Quang Nam-Da Nang, Vietnam', 'Da Lat', 'Da Nang', 'Da Nang, Vietnam', 'Daegu', 'Dak Mil', 'Dalat, Pool, Congo', 'Dalat, Sarawak', 'Dallas', 'Dalton, Georgia', 'Di An', 'Di Linh', 'Dien Chau', 'Diên Khánh', 'Diên Khánh, Khánh Hòa, Vietnam', 'Diễn Châu', 'Do Hai, Hải Phòng, Vietnam', 'Don Dang, Lạng Sơn, Vietnam', 'Dong Ha', 'Dong Huong, Thanh Hóa, Vietnam', 'Dong Thap, Hoang Lien Son, Vietnam', 'Dong Xoai', 'Dubail, Rājshāhi, Bangladesh', 'Duclair', 'Duy Xuyên', 'Dĩ An', 'Dầu Tiếng', 'Fukaya', 'Fukuoka-shi, Fukuoka, Japan', 'Funabashi, Chiba', 'Gia Kiem, Vietnam', 'Gia Lai, Gia Lai, Vietnam', 'Gia Lâm', 'Gia Lộc', 'Gia Nghĩa', 'Giang Thon, Hi Bac, Vietnam', 'Giao Thủy', 'Gio Linh', 'Giồng Riềng', 'Gò Công', 'Gò Dầu Hạ, Tây Ninh, Vietnam', 'Gò Vấp', 'Ha Coi, Quảng Ninh, Vietnam', 'Ha Dong', 'Ha Lam, Quảng Ninh, Vietnam', 'Ha Loi, Ha Noi, Vietnam', 'Ha Long', \"Ha Tin', Hà Tĩnh, Vietnam\", 'Ha Vi, Ha Noi, Vietnam', 'Ha-Nam, Hà Nam, Vietnam', 'Hai Dzung, Hải Dương, Vietnam', 'Haidöng, Hải Dương, Vietnam', 'Haiphong', 'Haiphong, Hải Phòng, Vietnam', 'Hanoi', 'Hanoi, Vietnam', 'Hanói', 'Himeji', 'Ho Chi Minh City, Vietnam', 'Ho Chi Minh Kenti', 'Ho-Chi-Minh-Stadt', 'Hoa Binh, An Giang, Vietnam', 'Hoa Dong, Tiền Giang, Vietnam', 'Hoa Loc, Thanh Hóa, Vietnam', 'Hoai Duc Phu, Ha Noi, Vietnam', 'Hoi An, Quang Nam-Da Nang, Vietnam', 'Hon Gai, Quảng Ninh, Vietnam', 'Houston, Texas', 'Hoài Nhon, Bình Ðịnh, Vietnam', 'Hoài Ân, Bình Ðịnh, Vietnam', 'Hoằng Hóa', 'Hsinchu, Taiwan', 'Hue, Vietnam', 'Hung Long, Nghe Tinh, Vietnam', 'Hung Yen, Hưng Yên, Vietnam', 'Huong Canh, Vinh Phu, Vietnam', 'Huong Hoa, Quảng Trị, Vietnam', 'Huu An, Tiền Giang, Vietnam', 'Huyện Thạnh Trị, Bạc Liêu, Vietnam', 'Huế', 'Hà Giang', 'Hà Giang (thành phố)', 'Hà Nội', 'Hà Tiên', 'Hà Tây, Binh Tri Thien, Vietnam', 'Hà Tây, Nghia Binh, Vietnam', 'Hà Tĩnh', 'Hà Tĩnh (thành phố)', 'Hà Đông', 'Hàm Tân', 'Hàm Yên', 'Hòa Bình, Hòa Bình, Vietnam', 'Hòa Dinh, Ha Nam Ninh, Vietnam', 'Hóc Môn, Hồ Chí Minh, Vietnam', 'Hương Bá Thước, Thanh Hóa, Vietnam', 'Hương Khê, Hà Tĩnh, Vietnam', 'Hương Lang Chánh, Thanh Hóa, Vietnam', 'Hương Trà', 'Hương Tân Lạc, Hòa Bình, Vietnam', 'Hạ Hòa', 'Hạ Long (thành phố)', 'Hải Dương', 'Hải Dương (thành phố)', 'Hải Hậu', 'Hải Phòng', 'Hậu Lộc', 'Hồng Ngự (thị xã)', 'Hội An', 'Hữu Lũng', 'Janpan, Kachin State, Burma', 'Kampong Cham', 'Katum, Tây Ninh, Vietnam', 'Ke Sat, Hai Hung, Vietnam', 'Khanh Hoa, Khánh Hòa, Vietnam', 'Khê Mao, Quảng Ninh, Vietnam', 'Kien Luong', 'Kim Bang, Ha Nam Ninh, Vietnam', 'Kim Mã, Ha Noi, Vietnam', 'Kim Sơn, Lục Ngạn', 'Kirov (tỉnh Kirov)', 'Kobe-shi, Hyogo, Japan', 'Komaki', 'Kon Tum (thành phố)', 'Kon Tum, Kon Tum, Vietnam', \"Korea, Al Istiwa'Iyah, South Sudan\", 'Kuala Lumpur', 'Kwang Ngai, Quảng Ngãi, Vietnam', 'Ky Son, Nghệ An, Vietnam', 'Kỳ Anh', 'Lac Son, Hòa Bình, Vietnam', 'Lagi, Thuin Hai, Vietnam', 'Lai Chau', 'Lai Vung', 'Lak, Đắc Lắk, Vietnam', 'Lang Que Nho, Thanh Hóa, Vietnam', 'Lang Son (cidade)', 'Lang Son, Vinh Phu, Vietnam', 'Lao Bao', 'Laokai, Lào Cai, Vietnam', 'Las Vegas, Nevada', 'Le Thuy, Quảng Bình, Vietnam', 'Linh Xuân', 'Liên Chiểu', 'Local, Missouri', 'Long An, Tiền Giang, Vietnam', 'Long Hai, Vietnam', 'Long Khanh', 'Long Khánh', 'Long My, Cẩn Thỏ, Vietnam', 'Long Thanh', 'Long Thành', 'Long Xuyên', 'Long Điền', 'Luc Nam', 'Luong Son, Hòa Bình, Vietnam', 'Luân Đôn', 'Là Ngà, Vietnam', 'Lào Cai', 'Lào Cai (thành phố)', 'Lái Thiêu', 'Lâm Hà', 'Lâm Thao', 'Lý Hòa, Binh Tri Thien, Vietnam', 'Lương Bình', 'Lạc Thủy', 'Lạng Sơn', 'Lấp Vò', 'Lập Thạch', 'Lộc Bình', 'Lục Ngạn', 'Lục Yên', 'Ma Cao', 'Madagui, Vietnam', 'Mai Châu', 'Manchester', 'Manchester (New Hampshire)', 'Manila', 'Mao Khe, Vietnam', 'Mau Lam, Thanh Hóa, Vietnam', 'Moc Chau', 'Mokpo', 'Moskva', 'Muong Lay, Lai Châu, Vietnam', 'My Hoi, Tiền Giang, Vietnam', 'My Thanh, Nghia Binh, Vietnam', 'My Tho', 'Mâ\\x80?Kar Da Te, Lâm Ðồng, Vietnam', 'Móng Cái', 'Móng Cái, Vietnam', 'Mù Cang Chải', 'Mộc Châu', 'Mộc Hóa', 'Mỹ Hào', 'Mỹ Tho', 'Na Hang', 'Na Noi, Ha Son Binh, Vietnam', 'Nagano (cidade)', 'Nagoya-shi, Aichi, Japan', 'Nam Can, Minh Hai, Vietnam', 'Nam Trực', 'Nam Định, Nam Định, Vietnam', 'Nam �Àn, Nghệ An, Vietnam', 'Nerima, Tokyo', 'Ngai Giao, Vietnam', 'Nganan, Mandalay, Burma', 'Nghi Lộc', 'Nghi Sơn, Thanh Hóa, Vietnam', 'Nghia Lo', 'Nghĩa Hưng', 'Nha Long, Thái Nguyên, Vietnam', 'Nha Trang', 'Nho Quan, Ninh Bình, Vietnam', 'Nhà Bàng, An Giang, Vietnam', 'Nhà Bè, Hồ Chí Minh, Vietnam', 'Nhân Son (1), Nghe Tinh, Vietnam', 'Nhơn Trạch', 'Ninbinh, Ninh Bình, Vietnam', 'Ninh Bình', 'Ninh Bình (thành phố)', 'Ninh Bình, Phu Khanh, Vietnam', 'Ninh Hòa, Khánh Hòa, Vietnam', 'Nong Cong', 'Nong Son, Quang Nam-Da Nang, Vietnam', 'Năm Căn (thị trấn)', 'Omihachiman-shi, Shiga, Japan', 'Oslo', 'Pathum Thani (thị xã)', 'Pha Le, Hải Phòng, Vietnam', 'Phan Rang', 'Phan Rang - Tháp Chàm', 'Phan Rang-Tháp Chàm, Ninh Thuận, Vietnam', 'Phan Ranh, Ninh Thuận, Vietnam', 'Phan Ri Cua, Thuin Hai, Vietnam', 'Phan Thiet', 'Phan Thiết', 'Phi Liêng, Lâm Ðồng, Vietnam', 'Phnôm Pênh', 'Pho Ba Che, Quảng Ninh, Vietnam', 'Pho Binh Gia, Lạng Sơn, Vietnam', 'Phoenix, Arizona', 'Phu Dien Chau, Nghệ An, Vietnam', 'Phu Giáo, Vietnam', 'Phu Huu, Vietnam', 'Phu Lang Thong, Bắc Giang, Vietnam', 'Phu Ly', 'Phu My (1), Nghia Binh, Vietnam', 'Phu My, An Giang, Vietnam', 'Phu My, Nghia Binh, Vietnam', 'Phu My, Vietnam', 'Phu Ninh, Vietnam', 'Phu Quoc, Kiến Giang, Vietnam', 'Phu Tho, Phú Thọ, Vietnam', 'Phu Thu, Vietnam', 'Phu Van Ly, Ha Nam Ninh, Vietnam', 'Phung Hiep', 'Phuoc Binh, Bìn Phước, Vietnam', 'Phuoc Lai, Vietnam', 'Phuoc Son, Quang Nam-Da Nang, Vietnam', 'Phô Yén, Bac Thai, Vietnam', 'Phù Cát', 'Phù Yên', 'Phú Hòa, Phú Yên', 'Phú Nhuận', 'Phú Phong, Bình Ðịnh, Vietnam', 'Phú Quý', 'Phú Thọ', 'Phú Thọ (thị xã)', 'Phú Túc, Gia Lai, Vietnam', 'Phú Xuyên, Ha Noi, Vietnam', 'Phúc Yên', 'Phố Bến Sung, Thanh Hóa, Vietnam', 'Phụng Hiệp', 'Phủ Lý', 'Pleiku', 'Port Campha, Quảng Ninh, Vietnam', 'Praha', 'Pác Nặm', 'Quang Nam, Quang Nam-Da Nang, Vietnam', 'Quang Ngai', 'Quang Ninh, Binh Tri Thien, Vietnam', 'Qui Nhon, Bình Ðịnh, Vietnam', 'Quy Nhon', 'Quy Nhơn', 'Quynh Luu', 'Quynh Luu, Nghệ An, Vietnam', 'Quản Bạ', 'Quảng Châu', 'Quảng Ngãi', 'Quảng Ngãi (thành phố)', 'Quảng Trị', 'Quảng Trị (thị xã)', 'Quảng Yên, Quảng Ninh, Vietnam', 'Quận Đào Viên', 'Quỳ Hợp', 'Quỳnh Lôi', 'Quỳnh Lưu', 'Rach Gia', 'Rach Gia, Vietnam', 'Rach Soi, Kiến Giang, Vietnam', 'Rạch Giá', 'Sa Pa', 'Sa Đéc', 'San Francisco', 'San Jose, California', 'Santo Domingo', 'Seoul, Korea', 'Singapore', 'Soc Son, Kiến Giang, Vietnam', 'Soc Trang', 'Son La', 'Son La Chau, Sơn La, Vietnam', 'Son Tay', 'Songkau, Phú Yên, Vietnam', 'Sydney', 'Sài Gòn, Sóc Trăng, Vietnam', 'Sóc Trăng (thành phố)', 'Sông Cầu (thị xã)', 'Sơn La', 'Sơn Tây (thị xã)', 'Tam Ky', 'Tam Kỳ', 'Tam Đảo, Vĩnh Phúc, Vietnam', 'Tan Binh, An Giang, Vietnam', 'Tan Binh, Ðồng Tháp, Vietnam', 'Tan Hiep, Tiền Giang, Vietnam', 'Tan Phu, Vietnam', 'Tan Tao, Hồ Chí Minh, Vietnam', 'Tay Dang, Ha Noi, Vietnam', 'Tay Ho, Ha Noi, Vietnam', 'Teurlang Dong, Lâm Ðồng, Vietnam', 'Than Uyên', 'Thanh Ba', 'Thanh Bình, Ðồng Tháp, Vietnam', 'Thanh Chương', 'Thanh Hóa', 'Thanh Khê', 'Thanh Oai, Ha Son Binh, Vietnam', 'Thanh Son, Vinh Phu, Vietnam', 'Thanh Sơn', 'Thanh-Nhan, Ha Noi, Vietnam', 'Thien Giao, Bình Thuận, Vietnam', 'Thieu Hoa', 'Thiệu Hóa', 'Tho Tang, Ha Noi, Vietnam', 'Thu Dau Mot', 'Thuan Chau', 'Thuong, Bắc Giang, Vietnam', 'Thuy Khue, Ha Noi, Vietnam', 'Thuận Thành', 'Thành phố Carson, Nevada', 'Thành phố Hồ Chí Minh', 'Thành phố New York', 'Thác Bà, Yên Bái, Vietnam', 'Thái Bình', 'Thái Bình (thành phố)', 'Thái Bình, Thái Bình, Vietnam', 'Thái Hõa, Nghệ An, Vietnam', 'Thái Nguyên', 'Thái Nguyên (cidade)', 'Thái Nguyên (thành phố)', 'Tháp Mười', 'Thânh Liêm, Ha Nam Ninh, Vietnam', 'Thạch Thành', 'Thốt Nốt', 'Thủ Dầu Một', 'Thủ Đức, Hồ Chí Minh, Vietnam', 'Tinh Pleiku, Gia Lai, Vietnam', 'Tra Vinh', 'Tri Tôn (thị trấn)', 'Triều Châu', 'Trung Khanh Phu, Cao Bằng, Vietnam', 'Trà My, Quang Nam-Da Nang, Vietnam', 'Trà Vinh', 'Tràm Chim, Ðồng Tháp, Vietnam', 'Trảng Bom', 'Tu Ly, Ha Son Binh, Vietnam', 'Tu Son, Hi Bac, Vietnam', 'Tu Ã?Oan, Lạng Sơn, Vietnam', 'Tung Nghia, Lâm Ðồng, Vietnam', 'Tuong Duong', 'Tuy An, Phú Yên, Vietnam', 'Tuy Hoa', 'Tuy Hòa', 'Tuy Phong', 'Tuy Phuoc', 'Tuyên Quang, Tuyên Quang, Vietnam', 'Tân An', 'Tân An, Long An', 'Tân Châu', 'Tân Kỳ', 'Tân Phú', 'Tân Quang, Lục Ngạn', 'Tân Thành', 'Tân Thới Hiệp', 'Tân Uyên', 'Tân Uyên (huyện cũ)', 'Tây Hòa, Phú Yên', 'Tây Ninh', 'Tương Dương, Nghệ An', 'Tịnh Biên', 'Từ Sơn', 'Ufa, Russia', 'Ulsan', 'Ung Hoa, Ha Son Binh, Vietnam', 'Uông Bí', 'Van Hoi, Vinh Phu, Vietnam', 'Van Ninh', 'Vi Thanh', 'Viet Tri', 'Vietri, Phú Thọ, Vietnam', 'Vin, Nghệ An, Vietnam', 'Vinh', 'Vinh Bao, Hải Phòng, Vietnam', 'Vinh Chau', 'Vinh Cuu', 'Vinh Tu, Ha Nam Ninh, Vietnam', 'Vinh Yen', 'Viêng Chăn', 'Việt Trì', 'Vladivostok', 'Vo Ngai, Hai Hung, Vietnam', 'Vung Tau', 'Vân Canh (1), Bình Ðịnh, Vietnam', 'Vĩnh Linh', 'Vĩnh Long', 'Vĩnh Long (thành phố)', 'Vĩnh Lộc', 'Vĩnh Phúc', 'Vĩnh Yên', 'Vũ Quang (huyện)', 'Vũng Liêm', 'Vũng Tàu', 'Vạn Ninh, Khánh Hòa', 'Vị Thanh', 'Wuhan', 'Xa Phan Thiet, Bình Thuận, Vietnam', 'Xa Vung Tau, Bà Rịa-Vũng Tàu, Vietnam', 'Xuan Dinh, Ha Noi, Vietnam', 'Xuan Truong', 'Xuyên Mộc', 'Xuân Canh, Ha Noi, Vietnam', 'Xuân Hòa, Vĩnh Phúc, Vietnam', 'Xuân Lộc, Ðồng Nai, Vietnam', 'Xuân Trường', 'Xã Gia Kiêm, Vietnam', 'Xóm Chu Chi, Minh Hai, Vietnam', 'Yen Dinh, Thanh Hóa, Vietnam', 'Yen, Vĩnh Phúc, Vietnam', 'Yên Bài, Ha Noi, Vietnam', 'Yên Bái', 'Yên Bái (thành phố)', 'Yên Lập', 'Yên Thành', 'Ân Thi, Hưng Yên', 'Ã?Ong Trieu, Quảng Ninh, Vietnam', 'Ô Môn', 'Úc Lý, Ha Son Binh, Vietnam', 'Điện Biên Phủ', 'Điện Bàn', 'Đà Lạt', 'Đà Nẵng', 'Đài Bắc', 'Đông Hà', 'Đại Lộc', 'Đắk Mil', 'Đồng Hới', 'Đồng Xoài', 'Ōsaka', 'Винь', 'Дьенбьенфу', 'Иокогама', 'Йенбай (город)', 'Каолань', 'Куангнгай', 'Куинён', 'Лонгсюен', 'Ниньбинь (город)', 'Тхайнгуен', 'Фанранг-Тхаптям', 'Хайзыонг', 'Халонг (город)', 'Ханой', 'Хошимин', 'Хюэ', 'Чавинь (город)', 'تو داو موت', 'دا نانغ', 'دونج هوي (مدينة)', 'سنغافورة', 'غريسون', 'فنغ تاو', 'فينه', 'كن تاه', 'مارسيليا', 'مانشستر', 'مدينة هو تشي منه', 'موسكو', 'نها ترانج', 'ها فونغ', 'هانوي', 'กาวบั่ง', 'นครโฮจิมินห์', 'บวนมาถ็วต', 'บั๊กนิญ', 'ฮานอย', 'เกิ่นเทอ', 'เหวียตจี่', 'ไฮฟอง', 'Ấp Gia Lộc, Tây Ninh, Vietnam', 'Ấp Lạc Lâm, Lâm Ðồng, Vietnam', 'Ấp Mỹ Th, Tiền Giang, Vietnam', 'Ấp Tân Hòa, Cà Mau, Vietnam', '�Ó Nhât, Ha Noi, Vietnam']\n",
      "657\n",
      "188\n",
      "['Amphoe Muang Chon Buri, Chon Buri, Thailand', 'An Hoa, Ðồng Tháp, Vietnam', 'Angola, Indiana', 'Ap An Phu (2), An Giang, Vietnam', 'Ap Binh Ta (2), Long An, Vietnam', 'Ap Chanh (4), Long An, Vietnam', 'Ap Go Dau, Vietnam', 'Ap Phu Ly (2), Cuu Long, Vietnam', 'Ap Suoi Cat, Vietnam', 'Asaka, Saitama', 'Auckland', 'Australia Plains, South Australia, Australia', 'Ba Don', 'Bach Lieu, Bạc Liêu, Vietnam', 'Ban Ea Phe, Đắc Lắk, Vietnam', 'Ban Nam Ca Dinh, Bolikhamxai, Laos', 'Bangkok', 'Bangkok, Jawa Tengah, Indonesia', 'Bavet, Svay Rieng, Cambodia', 'Ben Cat', 'Bhubaneswar', 'Bon Yok Djou, Đắc Lắk, Vietnam', 'Boston, Massachusetts', 'Buôn Hô (2), Đắc Lắk, Vietnam', 'Bình Gia', 'Bình Đường', 'Bích Trì, Ha Nam Ninh, Vietnam', 'Bố Trạch', 'Caen', 'Cam Pha Mines, Quảng Ninh, Vietnam', 'Can Lộc', 'Can Thanh, An Giang, Vietnam', 'Can Thanh, Hồ Chí Minh, Vietnam', 'Catumbella, Benguela, Angola', 'Châu Phú', 'Chợ Lách', 'Cingapura', 'Cua Tung, Binh Tri Thien, Vietnam', 'Cần Giờ, Hồ Chí Minh, Vietnam', 'Cầu Ngang', 'Cẩm Thủy', 'Daegu', 'Dalton, Georgia', 'Dien Chau', 'Do Hai, Hải Phòng, Vietnam', 'Don Dang, Lạng Sơn, Vietnam', 'Dong Huong, Thanh Hóa, Vietnam', 'Dubail, Rājshāhi, Bangladesh', 'Duclair', 'Fukaya', 'Funabashi, Chiba', 'Giang Thon, Hi Bac, Vietnam', 'Ha Dong', 'Ha Vi, Ha Noi, Vietnam', 'Haidöng, Hải Dương, Vietnam', 'Himeji', 'Hoa Binh, An Giang, Vietnam', 'Hoa Dong, Tiền Giang, Vietnam', 'Hoa Loc, Thanh Hóa, Vietnam', 'Houston, Texas', 'Hung Long, Nghe Tinh, Vietnam', 'Hà Tây, Binh Tri Thien, Vietnam', 'Hương Trà', 'Hậu Lộc', 'Janpan, Kachin State, Burma', 'Kim Sơn, Lục Ngạn', 'Kirov (tỉnh Kirov)', 'Komaki', \"Korea, Al Istiwa'Iyah, South Sudan\", 'Lak, Đắc Lắk, Vietnam', 'Lang Que Nho, Thanh Hóa, Vietnam', 'Lang Son, Vinh Phu, Vietnam', 'Linh Xuân', 'Liên Chiểu', 'Local, Missouri', 'Long My, Cẩn Thỏ, Vietnam', 'Long Thanh', 'Luc Nam', 'Lương Bình', 'Lộc Bình', 'Lục Yên', 'Ma Cao', 'Madagui, Vietnam', 'Manchester (New Hampshire)', 'Manila', 'Mau Lam, Thanh Hóa, Vietnam', 'Moskva', 'My Hoi, Tiền Giang, Vietnam', 'My Thanh, Nghia Binh, Vietnam', 'Mâ\\x80?Kar Da Te, Lâm Ðồng, Vietnam', 'Na Hang', 'Nagano (cidade)', 'Nerima, Tokyo', 'Nganan, Mandalay, Burma', 'Nghia Lo', 'Nghĩa Hưng', 'Nha Long, Thái Nguyên, Vietnam', 'Nhân Son (1), Nghe Tinh, Vietnam', 'Nong Cong', 'Năm Căn (thị trấn)', 'Omihachiman-shi, Shiga, Japan', 'Oslo', 'Pathum Thani (thị xã)', 'Pha Le, Hải Phòng, Vietnam', 'Phnôm Pênh', 'Phoenix, Arizona', 'Phu Giáo, Vietnam', 'Phu Huu, Vietnam', 'Phu My (1), Nghia Binh, Vietnam', 'Phu Ninh, Vietnam', 'Phu Thu, Vietnam', 'Phuoc Lai, Vietnam', 'Phú Hòa, Phú Yên', 'Phú Phong, Bình Ðịnh, Vietnam', 'Phú Túc, Gia Lai, Vietnam', 'Phố Bến Sung, Thanh Hóa, Vietnam', 'Praha', 'Pác Nặm', 'Quynh Luu', 'Quản Bạ', 'Quận Đào Viên', 'Quỳnh Lôi', 'Santo Domingo', 'Tan Binh, An Giang, Vietnam', 'Tan Binh, Ðồng Tháp, Vietnam', 'Tan Hiep, Tiền Giang, Vietnam', 'Tan Tao, Hồ Chí Minh, Vietnam', 'Tay Dang, Ha Noi, Vietnam', 'Teurlang Dong, Lâm Ðồng, Vietnam', 'Thanh Khê', 'Thanh-Nhan, Ha Noi, Vietnam', 'Thien Giao, Bình Thuận, Vietnam', 'Thieu Hoa', 'Thiệu Hóa', 'Thuy Khue, Ha Noi, Vietnam', 'Thành phố Carson, Nevada', 'Thác Bà, Yên Bái, Vietnam', 'Thânh Liêm, Ha Nam Ninh, Vietnam', 'Thạch Thành', 'Triều Châu', 'Tràm Chim, Ðồng Tháp, Vietnam', 'Tu Ly, Ha Son Binh, Vietnam', 'Tu Ã?Oan, Lạng Sơn, Vietnam', 'Tuy Phuoc', 'Tân Quang, Lục Ngạn', 'Tân Thành', 'Tân Thới Hiệp', 'Tân Uyên', 'Ulsan', 'Van Hoi, Vinh Phu, Vietnam', 'Van Ninh', 'Vi Thanh', 'Vinh Chau', 'Vinh Tu, Ha Nam Ninh, Vietnam', 'Vladivostok', 'Vân Canh (1), Bình Ðịnh, Vietnam', 'Vũ Quang (huyện)', 'Vũng Liêm', 'Wuhan', 'Xuan Dinh, Ha Noi, Vietnam', 'Xuan Truong', 'Xuân Canh, Ha Noi, Vietnam', 'Xã Gia Kiêm, Vietnam', 'Xóm Chu Chi, Minh Hai, Vietnam', 'Yên Bài, Ha Noi, Vietnam', 'Ã?Ong Trieu, Quảng Ninh, Vietnam', 'Úc Lý, Ha Son Binh, Vietnam', 'Дьенбьенфу', 'Иокогама', 'Каолань', 'Куангнгай', 'Лонгсюен', 'Ниньбинь (город)', 'Фанранг-Тхаптям', 'Хайзыонг', 'Хюэ', 'سنغافورة', 'غريسون', 'مارسيليا', 'مانشستر', 'موسكو', 'กาวบั่ง', 'เหวียตจี่', 'Ấp Gia Lộc, Tây Ninh, Vietnam', 'Ấp Lạc Lâm, Lâm Ðồng, Vietnam', 'Ấp Mỹ Th, Tiền Giang, Vietnam', 'Ấp Tân Hòa, Cà Mau, Vietnam', '�Ó Nhât, Ha Noi, Vietnam']\n"
     ]
    }
   ],
   "source": [
    "\n",
    "f =  \"currentLocationName\"\n",
    "vc1 = sorted(df_train[f].value_counts().index)\n",
    "print(vc1)\n",
    "print(len(vc1))\n",
    "print(\"#####################\")\n",
    "vc2 = sorted(df_test[f].value_counts().index)\n",
    "print(vc2)\n",
    "print(len(vc2))\n",
    "a = []\n",
    "for i in vc2:\n",
    "    if i not in vc1:\n",
    "        a.append(i)\n",
    "print(len(a))\n",
    "print(a)\n"
   ]
  },
  {
   "cell_type": "code",
   "execution_count": 5,
   "metadata": {
    "ExecuteTime": {
     "end_time": "2020-07-29T15:11:36.667481Z",
     "start_time": "2020-07-29T15:11:35.965029Z"
    }
   },
   "outputs": [],
   "source": [
    "df_transform = pd.concat([df_train.iloc[:,2:], df_test.iloc[:,1:]], axis = 0)"
   ]
  },
  {
   "cell_type": "code",
   "execution_count": 6,
   "metadata": {
    "ExecuteTime": {
     "end_time": "2020-07-29T15:11:36.689849Z",
     "start_time": "2020-07-29T15:11:36.672282Z"
    }
   },
   "outputs": [],
   "source": [
    "data_type = {\n",
    "    \"cat_num\":[\"Field_22\",\"Field_13\", \"Field_41\", \"Field_42\",\"Field_50\", \"Field_51\", \"Field_53\",\\\n",
    "               \"Field_73\",  \"partner0_A\", \"partner0_B\", \"partner0_C\", \"partner0_D\", \"partner0_E\",\\\n",
    "               \"partner0_F\", \"partner0_G\", \"partner0_H\", \"partner1_A\", \"partner1_C\", \"partner1_G\", \"partner1_H\",\\\n",
    "               \"partner2_A\", \"partner2_C\", \"partner2_D\", \"partner2_F\", \"partner2_H\",\"partner3_A\", \"partner3_D\",\\\n",
    "               \"partner3_E\", \"partner4_L\", \"partner5_A\", \"partner5_D\", \"partner5_G\", \"Field_3\", \"Field_38\"],\n",
    "    \n",
    "    \"cat_str\" : [\"Field_4\", \"Field_12\",\"Field_36\", \"Field_54\", \"Field_62\",\"Field_65\",\"Field_66\",\\\n",
    "                 \"info_social_sex\", \"brief\", \"gioiTinh\",\"currentLocationState\", \"Field_61\", \\\n",
    "                 \"currentLocationCountry\", 'homeTownState', 'data.basic_info.locale',\\\n",
    "                \"homeTownCountry\", \"Field_55\"], \n",
    "    \n",
    "    \"date\" : [\"Field_1\", \"Field_2\", \"Field_5\", \"Field_6\", \"Field_7\", \"Field_8\", \"Field_9\", \"Field_11\",\\\n",
    "             \"Field_15\", \"Field_25\", \"Field_32\", \"Field_33\", \"Field_35\", \"Field_40\",\"Field_43\", \"Field_44\", \\\n",
    "              \"F_startDate\", \"F_endDate\", \"E_startDate\", \"E_endDate\", \"C_startDate\",\n",
    "             \"C_endDate\", \"G_startDate\", \"G_endDate\", \"A_startDate\", \"A_endDate\", \"ngaySinh\", \"Field_34\"],\n",
    "    \n",
    "    \"address\" : [\"Field_45\", \"Field_48\", \"Field_49\", \"Field_56\", 'homeTownName', \"currentLocationCity\", \\\n",
    "                 \"homeTownCity\", \"diaChi\", \"currentLocationName\"],\n",
    "    \n",
    "    \"drop\" : [\"maCv\", \"Field_18\", \"Field_68\", \"Field_46\"]\n",
    "}"
   ]
  },
  {
   "cell_type": "code",
   "execution_count": 7,
   "metadata": {
    "ExecuteTime": {
     "end_time": "2020-07-29T15:11:36.805625Z",
     "start_time": "2020-07-29T15:11:36.698687Z"
    }
   },
   "outputs": [],
   "source": [
    "lst = data_type[\"cat_num\"] + data_type[\"cat_str\"] + data_type[\"date\"] + data_type[\"address\"] + data_type[\"drop\"]"
   ]
  },
  {
   "cell_type": "code",
   "execution_count": 8,
   "metadata": {
    "ExecuteTime": {
     "end_time": "2020-07-29T15:11:36.891105Z",
     "start_time": "2020-07-29T15:11:36.809846Z"
    }
   },
   "outputs": [
    {
     "data": {
      "text/plain": [
       "'\\nfor f in df_transform.columns:\\n    vc = df_transform[f].value_counts()\\n    print(f\"{f} : {len(vc)} : {vc.index[:10]}\")\\n'"
      ]
     },
     "execution_count": 8,
     "metadata": {},
     "output_type": "execute_result"
    }
   ],
   "source": [
    "\"\"\"\n",
    "for f in df_transform.columns:\n",
    "    vc = df_transform[f].value_counts()\n",
    "    print(f\"{f} : {len(vc)} : {vc.index[:10]}\")\n",
    "\"\"\""
   ]
  },
  {
   "cell_type": "markdown",
   "metadata": {},
   "source": [
    "consider transform: \"brief\" \\\n",
    "consider drop: \"Field_56\", \"maCv\"\n"
   ]
  },
  {
   "cell_type": "code",
   "execution_count": 9,
   "metadata": {
    "ExecuteTime": {
     "end_time": "2020-07-29T15:11:37.514417Z",
     "start_time": "2020-07-29T15:11:36.896898Z"
    }
   },
   "outputs": [],
   "source": [
    "df_transform = df_transform.drop(data_type[\"drop\"], axis = 1)\n",
    "df_transform = df_transform.drop(data_type[\"address\"], axis = 1)"
   ]
  },
  {
   "cell_type": "code",
   "execution_count": 10,
   "metadata": {
    "ExecuteTime": {
     "end_time": "2020-07-29T15:11:37.535481Z",
     "start_time": "2020-07-29T15:11:37.521912Z"
    },
    "code_folding": [
     0
    ]
   },
   "outputs": [],
   "source": [
    "def fix38(x):\n",
    "    if x == 0.0 or x == \"0\" or x == \"0.0\":\n",
    "        return 0\n",
    "    if x == 1.0 or x == \"1\":\n",
    "        return 1\n",
    "    return np.nan"
   ]
  },
  {
   "cell_type": "code",
   "execution_count": 11,
   "metadata": {
    "ExecuteTime": {
     "end_time": "2020-07-29T15:11:37.659544Z",
     "start_time": "2020-07-29T15:11:37.542706Z"
    },
    "code_folding": [
     0
    ]
   },
   "outputs": [],
   "source": [
    "def fix54(x):\n",
    "    if x == \"1\" or x == \"01\" or x == ' P. Tân Phú':\n",
    "        return \"VN\"\n",
    "    if x in ['IT', 'GB', 'SE', 'TK', 'BD']:\n",
    "        return np.nan\n",
    "    return x"
   ]
  },
  {
   "cell_type": "code",
   "execution_count": 12,
   "metadata": {
    "ExecuteTime": {
     "end_time": "2020-07-29T15:11:37.743805Z",
     "start_time": "2020-07-29T15:11:37.663712Z"
    },
    "code_folding": [
     0
    ]
   },
   "outputs": [],
   "source": [
    "def fix55(x):\n",
    "    if x in ['BC', 'BG', 'CN', 'CO', 'DB', 'EL', 'FO', 'H5', 'KX', 'N7', 'NR', 'SD', 'SJ', 'ST', 'WD']:\n",
    "        return np.nan\n",
    "    return x"
   ]
  },
  {
   "cell_type": "code",
   "execution_count": 13,
   "metadata": {
    "ExecuteTime": {
     "end_time": "2020-07-29T15:11:37.843478Z",
     "start_time": "2020-07-29T15:11:37.748879Z"
    },
    "code_folding": [
     0
    ]
   },
   "outputs": [],
   "source": [
    "def fix61(x):\n",
    "    if x == 'Chất độc hóa học':\n",
    "        return np.nan\n",
    "    return x"
   ]
  },
  {
   "cell_type": "code",
   "execution_count": 14,
   "metadata": {
    "ExecuteTime": {
     "end_time": "2020-07-29T15:11:37.934982Z",
     "start_time": "2020-07-29T15:11:37.848718Z"
    },
    "code_folding": [
     0
    ]
   },
   "outputs": [],
   "source": [
    "def fixcurrentLocationState(x):\n",
    "    if x in ['Ilhas', 'Daegu', 'Auckland Region', 'Basse-Normandie', 'Chongqing', \"Provence-Alpes-Côte d'Azur\",\\\n",
    "             'Rajshahi Division', 'Hubei', 'Mandalay', 'Missouri', 'Pathum Thani', 'Central Java', 'New Hampshire',\\\n",
    "             'Odisha', 'South Australia', 'Chon Buri', 'Haute-Normandie', 'Kirov Oblast', 'Primorsky Krai', 'Arizona',\\\n",
    "             'Ulsan', 'Kanagawa Prefecture', 'Metro Manila', 'Kachin State', 'Svay Rieng Province', 'Nagano Prefecture',\\\n",
    "             'Shiga Prefecture', 'Oslo', 'Indiana', 'Hunan', 'Bolikhamsai Province', 'Krasnoyarsk Krai',\\\n",
    "             'Distrito Nacional', 'Chiba Prefecture']:\n",
    "        return np.nan\n",
    "    return x"
   ]
  },
  {
   "cell_type": "code",
   "execution_count": 15,
   "metadata": {
    "ExecuteTime": {
     "end_time": "2020-07-29T15:11:38.028658Z",
     "start_time": "2020-07-29T15:11:37.940316Z"
    },
    "code_folding": [
     0
    ]
   },
   "outputs": [],
   "source": [
    "def fixcurrentLocationCountry(x):\n",
    "    if x in ['Macau', 'New Zealand', 'Dominican Republic']:\n",
    "        return np.nan\n",
    "    return x"
   ]
  },
  {
   "cell_type": "code",
   "execution_count": 16,
   "metadata": {
    "ExecuteTime": {
     "end_time": "2020-07-29T15:11:38.111013Z",
     "start_time": "2020-07-29T15:11:38.034250Z"
    },
    "code_folding": [
     0
    ]
   },
   "outputs": [],
   "source": [
    "def fixhomeTownState(x):\n",
    "    if x in ['Hunan', 'Kachin State', 'Distrito Federal', 'Bizerte Governorate', 'Central Java',\\\n",
    "             'Svay Rieng Province', 'Distrito Nacional', 'County Mayo', 'Odisha', 'Lazio', 'Nevada',\\\n",
    "             'Daegu', 'Arizona', 'Equatoria', 'Fukuoka Prefecture', 'Taoyuan City', 'Kandal Province', \\\n",
    "             'State of Mexico', 'Hebei', 'New South Wales', 'Capital Governorate', 'Oregon']:\n",
    "        return np.nan\n",
    "    return x"
   ]
  },
  {
   "cell_type": "code",
   "execution_count": 17,
   "metadata": {
    "ExecuteTime": {
     "end_time": "2020-07-29T15:11:38.193853Z",
     "start_time": "2020-07-29T15:11:38.117770Z"
    },
    "code_folding": [
     0
    ]
   },
   "outputs": [],
   "source": [
    "def fixhomeTownCountry(x):\n",
    "    if x in ['Australia', 'Bahrain', 'Dominican Republic', 'Ireland', 'South Sudan', 'Tunisia']:\n",
    "        return np.nan\n",
    "    return x"
   ]
  },
  {
   "cell_type": "code",
   "execution_count": 18,
   "metadata": {
    "ExecuteTime": {
     "end_time": "2020-07-29T15:11:38.307946Z",
     "start_time": "2020-07-29T15:11:38.202255Z"
    },
    "code_folding": [
     0
    ]
   },
   "outputs": [],
   "source": [
    "def fixdata_basic_info_locale(x):\n",
    "    if x == \"_VN\":\n",
    "        return 'vi_VN'\n",
    "    elif x in ['lv_LV', 'ru_RU']:\n",
    "        return np.nan\n",
    "    return x"
   ]
  },
  {
   "cell_type": "code",
   "execution_count": 19,
   "metadata": {
    "ExecuteTime": {
     "end_time": "2020-07-29T15:11:38.379750Z",
     "start_time": "2020-07-29T15:11:38.313887Z"
    },
    "code_folding": [
     0
    ]
   },
   "outputs": [],
   "source": [
    "def calculate_age(born):\n",
    "    born = datetime.strptime(born,'%Y-%m-%d').date()\n",
    "    today = datetime.today()\n",
    "    return today.year - born.year - ((today.month, today.day) < (born.month, born.day))"
   ]
  },
  {
   "cell_type": "code",
   "execution_count": 20,
   "metadata": {
    "ExecuteTime": {
     "end_time": "2020-07-29T15:11:38.485843Z",
     "start_time": "2020-07-29T15:11:38.386522Z"
    },
    "code_folding": [
     0
    ]
   },
   "outputs": [],
   "source": [
    "def combine_gender(s):\n",
    "    x, y = s\n",
    "    \n",
    "    if x != x and y != y:\n",
    "        return \"nan\"\n",
    "    \n",
    "    if x != x:\n",
    "        return y.lower()\n",
    "    \n",
    "    return x.lower()\n",
    "\n",
    "def process_gender(df):\n",
    "    df[\"gender\"] = df[[\"gioiTinh\", \"info_social_sex\"]].apply(combine_gender, axis=1)\n",
    "    return df"
   ]
  },
  {
   "cell_type": "code",
   "execution_count": 21,
   "metadata": {
    "ExecuteTime": {
     "end_time": "2020-07-29T15:11:38.572362Z",
     "start_time": "2020-07-29T15:11:38.491117Z"
    }
   },
   "outputs": [],
   "source": [
    "DATE = [\"Field_{}\".format(i) for i in [5, 6, 7, 8, 9, 11, 15, 25, 32, 33, 35, 40]]\n",
    "DATETIME = [\"Field_{}\".format(i) for i in [1, 2, 43, 44]]"
   ]
  },
  {
   "cell_type": "code",
   "execution_count": 22,
   "metadata": {
    "ExecuteTime": {
     "end_time": "2020-07-29T15:11:38.658868Z",
     "start_time": "2020-07-29T15:11:38.575135Z"
    },
    "code_folding": [
     0
    ]
   },
   "outputs": [],
   "source": [
    "def datetime_normalize(s):\n",
    "    if s != s:\n",
    "        return np.nan\n",
    "    \n",
    "    s = s.split(\".\")[0]\n",
    "    if s[-1] == \"Z\":\n",
    "        s = s[:-1]\n",
    "        \n",
    "    date, time = s.split(\"T\")\n",
    "    datetime_obj = datetime.strptime(s, \"%Y-%m-%dT%H:%M:%S\")\n",
    "    return datetime_obj\n",
    "\n",
    "def date_normalize(s):\n",
    "    if s != s:\n",
    "        return np.nan\n",
    "    \n",
    "    try:\n",
    "        datetime_obj = datetime.strptime(s, \"%m/%d/%Y\")\n",
    "    except:\n",
    "        datetime_obj = datetime.strptime(s, \"%Y-%m-%d\")\n",
    "        \n",
    "    return datetime_obj"
   ]
  },
  {
   "cell_type": "code",
   "execution_count": 23,
   "metadata": {
    "ExecuteTime": {
     "end_time": "2020-07-29T15:11:38.744940Z",
     "start_time": "2020-07-29T15:11:38.662569Z"
    },
    "code_folding": []
   },
   "outputs": [],
   "source": [
    "def process_datetime_cols(df):\n",
    "    cat_cols = []\n",
    "    for col in DATETIME:\n",
    "        df[col] = df[col].apply(datetime_normalize)\n",
    "        \n",
    "    for col in DATE:\n",
    "        df[col] = df[col].apply(date_normalize)\n",
    "\n",
    "    cat_cols += DATE + DATETIME\n",
    "    for col in DATE + DATETIME:\n",
    "        df[col] = df[col].dt.strftime('%m-%Y')\n",
    "    \n",
    "    for cat in ['F', 'E', 'C', 'G', 'A']:\n",
    "        df[f'{cat}_startDate'] = pd.to_datetime(df[f\"{cat}_startDate\"], infer_datetime_format=True)\n",
    "        df[f'{cat}_endDate'] = pd.to_datetime(df[f\"{cat}_endDate\"], infer_datetime_format=True)\n",
    "        \n",
    "        df[f'{cat}_startDate'] = df[f'{cat}_startDate'].dt.strftime('%m-%Y')\n",
    "        df[f'{cat}_endDate'] = df[f'{cat}_endDate'].dt.strftime('%m-%Y')\n",
    "        \n",
    "        cat_cols.append(f'{cat}_startDate')\n",
    "        cat_cols.append(f'{cat}_endDate')\n",
    "    \n",
    "    for col in cat_cols:\n",
    "        df[col] = df[col]\n",
    "        \n",
    "    return df"
   ]
  },
  {
   "cell_type": "code",
   "execution_count": 24,
   "metadata": {
    "ExecuteTime": {
     "end_time": "2020-07-29T15:11:38.899260Z",
     "start_time": "2020-07-29T15:11:38.750987Z"
    },
    "code_folding": []
   },
   "outputs": [],
   "source": [
    "def str_normalize(s):\n",
    "    s = str(s).strip().lower()\n",
    "    s = re.sub(' +', \" \", s)\n",
    "    return s\n",
    "def process_location(df):\n",
    "    for col in [\"currentLocationLocationId\", \"homeTownLocationId\", \"currentLocationLatitude\", \"currentLocationLongitude\", \n",
    "                   \"homeTownLatitude\", \"homeTownLongitude\"]:\n",
    "        df[col].replace(0, np.nan, inplace=True)\n",
    "\n",
    "    df[\"currentLocationLocationId\"] = df[\"currentLocationLocationId\"].apply(str_normalize)\n",
    "    df[\"homeTownLocationId\"] = df[\"homeTownLocationId\"].apply(str_normalize)\n",
    "\n",
    "    return df"
   ]
  },
  {
   "cell_type": "code",
   "execution_count": 25,
   "metadata": {
    "ExecuteTime": {
     "end_time": "2020-07-29T15:12:07.260369Z",
     "start_time": "2020-07-29T15:11:38.904655Z"
    }
   },
   "outputs": [],
   "source": [
    "df_transform[\"Field_38\"] = df_transform[\"Field_38\"].apply(fix38)\n",
    "df_transform[\"Field_54\"] = df_transform[\"Field_54\"].apply(fix54)\n",
    "df_transform[\"Field_55\"] = df_transform[\"Field_55\"].apply(fix55)\n",
    "df_transform[\"Field_61\"] = df_transform[\"Field_61\"].apply(fix61)\n",
    "\n",
    "df_transform[\"currentLocationState\"] = df_transform[\"currentLocationState\"].apply(fixcurrentLocationState)\n",
    "df_transform[\"currentLocationCountry\"] = df_transform[\"currentLocationCountry\"].apply(fixcurrentLocationCountry)\n",
    "df_transform[\"homeTownState\"] = df_transform[\"homeTownState\"].apply(fixhomeTownState)\n",
    "df_transform[\"homeTownCountry\"] = df_transform[\"homeTownCountry\"].apply(fixhomeTownCountry)\n",
    "df_transform['data.basic_info.locale'] = df_transform['data.basic_info.locale'].apply(fixdata_basic_info_locale)\n",
    "df_transform[\"age\"] = df_transform[\"ngaySinh\"].map(lambda x: calculate_age(x) if x is not np.nan else x)\n",
    "df_transform[\"null_sum\"] = df_transform.isnull().sum(axis=1)\n",
    "\n",
    "df_transform = process_gender(df_transform)\n",
    "df_transform = process_datetime_cols(df_transform)\n",
    "\n",
    "df_transform = process_location(df_transform)"
   ]
  },
  {
   "cell_type": "code",
   "execution_count": 26,
   "metadata": {
    "ExecuteTime": {
     "end_time": "2020-07-29T15:12:07.755829Z",
     "start_time": "2020-07-29T15:12:07.266459Z"
    }
   },
   "outputs": [],
   "source": [
    "drop = [\"gioiTinh\", \"info_social_sex\", \"ngaySinh\"]\n",
    "df_transform = df_transform.drop(drop, axis = 1)"
   ]
  },
  {
   "cell_type": "code",
   "execution_count": 27,
   "metadata": {
    "ExecuteTime": {
     "end_time": "2020-07-29T15:12:24.170848Z",
     "start_time": "2020-07-29T15:12:07.765592Z"
    },
    "code_folding": []
   },
   "outputs": [],
   "source": [
    "categoricals = []\n",
    "for header in df_transform.columns:\n",
    "    if str(df_transform[header].dtypes) is \"object\":\n",
    "        categoricals.append(header)\n",
    "for col in categoricals:\n",
    "    df_transform[col] = df_transform[col].astype(str)\n",
    "lbl = LabelEncoder()\n",
    "for col in categoricals:\n",
    "    \n",
    "    encoder = ce.CountFrequencyCategoricalEncoder(encoding_method='frequency')\n",
    "    \n",
    "    df_transform[col] = df_transform[col].fillna('None')\n",
    "    # Only take the common values in Train/Test-set\n",
    "    common_vals = list(set(df_transform[col]))\n",
    "    \n",
    "    # Take if vals appeared both 5 times\n",
    "    common_vals = set(df_transform[col].value_counts()[df_transform[col].value_counts()> 100].index)\n",
    "    \n",
    "    # Replace not-common values with \"Missing\" or np.NaN      \n",
    "    df_transform.loc[~df_transform[col].isin(common_vals), col] = 'Missing'\n",
    "\n",
    "    # Implement LE\n",
    "    lbl.fit(df_transform[col].tolist())\n",
    "    df_transform[col] = lbl.transform(df_transform[col])\n"
   ]
  },
  {
   "cell_type": "code",
   "execution_count": 28,
   "metadata": {
    "ExecuteTime": {
     "end_time": "2020-07-29T15:12:25.033047Z",
     "start_time": "2020-07-29T15:12:24.174908Z"
    },
    "code_folding": []
   },
   "outputs": [],
   "source": [
    "fill_1 = []\n",
    "for header in df_transform.columns:\n",
    "    vc = df_transform[header].value_counts()\n",
    "    if len(vc) < 2:\n",
    "        fill_1.append(header)\n",
    "for col in fill_1:\n",
    "    df_transform[col] = df_transform[col].fillna(-1)"
   ]
  },
  {
   "cell_type": "code",
   "execution_count": 29,
   "metadata": {
    "ExecuteTime": {
     "end_time": "2020-07-29T15:12:25.701760Z",
     "start_time": "2020-07-29T15:12:25.040025Z"
    }
   },
   "outputs": [],
   "source": [
    "df_transform = df_transform.fillna(df_transform.mean())"
   ]
  },
  {
   "cell_type": "code",
   "execution_count": 30,
   "metadata": {
    "ExecuteTime": {
     "end_time": "2020-07-29T15:12:25.904569Z",
     "start_time": "2020-07-29T15:12:25.711928Z"
    }
   },
   "outputs": [],
   "source": [
    "import re\n",
    "df_transform = df_transform.rename(columns = lambda x:re.sub('[^A-Za-z0-9_]+', '', x))"
   ]
  },
  {
   "cell_type": "code",
   "execution_count": 31,
   "metadata": {
    "ExecuteTime": {
     "end_time": "2020-07-29T15:12:27.093642Z",
     "start_time": "2020-07-29T15:12:25.914392Z"
    }
   },
   "outputs": [],
   "source": [
    "train_dev = pd.concat([df_train.id, df_train.label, df_transform.iloc[:len(df_train),:]], axis = 1)\n",
    "test = pd.concat([df_test.id, df_transform.iloc[len(df_train):,:]], axis = 1)"
   ]
  },
  {
   "cell_type": "code",
   "execution_count": 32,
   "metadata": {
    "ExecuteTime": {
     "end_time": "2020-07-29T15:12:27.490481Z",
     "start_time": "2020-07-29T15:12:27.097592Z"
    }
   },
   "outputs": [
    {
     "data": {
      "text/html": [
       "<div>\n",
       "<style scoped>\n",
       "    .dataframe tbody tr th:only-of-type {\n",
       "        vertical-align: middle;\n",
       "    }\n",
       "\n",
       "    .dataframe tbody tr th {\n",
       "        vertical-align: top;\n",
       "    }\n",
       "\n",
       "    .dataframe thead th {\n",
       "        text-align: right;\n",
       "    }\n",
       "</style>\n",
       "<table border=\"1\" class=\"dataframe\">\n",
       "  <thead>\n",
       "    <tr style=\"text-align: right;\">\n",
       "      <th></th>\n",
       "      <th>id</th>\n",
       "      <th>Field_1</th>\n",
       "      <th>Field_2</th>\n",
       "      <th>Field_3</th>\n",
       "      <th>Field_4</th>\n",
       "      <th>Field_5</th>\n",
       "      <th>Field_6</th>\n",
       "      <th>Field_7</th>\n",
       "      <th>Field_8</th>\n",
       "      <th>Field_9</th>\n",
       "      <th>Field_10</th>\n",
       "      <th>Field_11</th>\n",
       "      <th>Field_12</th>\n",
       "      <th>Field_13</th>\n",
       "      <th>Field_15</th>\n",
       "      <th>Field_19</th>\n",
       "      <th>Field_20</th>\n",
       "      <th>Field_21</th>\n",
       "      <th>Field_22</th>\n",
       "      <th>Field_23</th>\n",
       "      <th>Field_25</th>\n",
       "      <th>Field_27</th>\n",
       "      <th>Field_28</th>\n",
       "      <th>Field_29</th>\n",
       "      <th>Field_32</th>\n",
       "      <th>...</th>\n",
       "      <th>partner1_C</th>\n",
       "      <th>partner1_G</th>\n",
       "      <th>partner1_H</th>\n",
       "      <th>partner2_A</th>\n",
       "      <th>partner2_C</th>\n",
       "      <th>partner2_D</th>\n",
       "      <th>partner2_F</th>\n",
       "      <th>partner2_H</th>\n",
       "      <th>partner3_A</th>\n",
       "      <th>partner3_D</th>\n",
       "      <th>partner3_E</th>\n",
       "      <th>partner4_L</th>\n",
       "      <th>partner5_A</th>\n",
       "      <th>partner5_D</th>\n",
       "      <th>partner5_G</th>\n",
       "      <th>brief</th>\n",
       "      <th>num_of_phone</th>\n",
       "      <th>Field_78</th>\n",
       "      <th>Field_79</th>\n",
       "      <th>Field_80</th>\n",
       "      <th>Field_81</th>\n",
       "      <th>Field_82</th>\n",
       "      <th>age</th>\n",
       "      <th>null_sum</th>\n",
       "      <th>gender</th>\n",
       "    </tr>\n",
       "  </thead>\n",
       "  <tbody>\n",
       "    <tr>\n",
       "      <th>0</th>\n",
       "      <td>53030</td>\n",
       "      <td>25</td>\n",
       "      <td>26</td>\n",
       "      <td>2.000000</td>\n",
       "      <td>1</td>\n",
       "      <td>17</td>\n",
       "      <td>20</td>\n",
       "      <td>24</td>\n",
       "      <td>28</td>\n",
       "      <td>18</td>\n",
       "      <td>1.000000</td>\n",
       "      <td>27</td>\n",
       "      <td>3</td>\n",
       "      <td>1.0</td>\n",
       "      <td>18</td>\n",
       "      <td>0.000000</td>\n",
       "      <td>1.490000e+06</td>\n",
       "      <td>4.50000</td>\n",
       "      <td>1.000000</td>\n",
       "      <td>43.000000</td>\n",
       "      <td>19</td>\n",
       "      <td>0.000000</td>\n",
       "      <td>0.000000</td>\n",
       "      <td>12.00000</td>\n",
       "      <td>18</td>\n",
       "      <td>...</td>\n",
       "      <td>0.000000</td>\n",
       "      <td>0.000000</td>\n",
       "      <td>0.000000</td>\n",
       "      <td>0.000000</td>\n",
       "      <td>0.000000</td>\n",
       "      <td>0.000000</td>\n",
       "      <td>0.000000</td>\n",
       "      <td>0.000000</td>\n",
       "      <td>0.000000</td>\n",
       "      <td>0.000000</td>\n",
       "      <td>0.000000</td>\n",
       "      <td>0.000000</td>\n",
       "      <td>0.000000</td>\n",
       "      <td>0.000000</td>\n",
       "      <td>0.000000</td>\n",
       "      <td>15</td>\n",
       "      <td>2.0</td>\n",
       "      <td>20.527708</td>\n",
       "      <td>34.626439</td>\n",
       "      <td>-4.837180</td>\n",
       "      <td>-39.896724</td>\n",
       "      <td>1</td>\n",
       "      <td>25.000000</td>\n",
       "      <td>38</td>\n",
       "      <td>1</td>\n",
       "    </tr>\n",
       "    <tr>\n",
       "      <th>1</th>\n",
       "      <td>53031</td>\n",
       "      <td>22</td>\n",
       "      <td>23</td>\n",
       "      <td>2.000000</td>\n",
       "      <td>1</td>\n",
       "      <td>19</td>\n",
       "      <td>22</td>\n",
       "      <td>24</td>\n",
       "      <td>28</td>\n",
       "      <td>20</td>\n",
       "      <td>1.000000</td>\n",
       "      <td>27</td>\n",
       "      <td>3</td>\n",
       "      <td>1.0</td>\n",
       "      <td>34</td>\n",
       "      <td>0.000000</td>\n",
       "      <td>1.043000e+06</td>\n",
       "      <td>4.50000</td>\n",
       "      <td>1.000000</td>\n",
       "      <td>24.000000</td>\n",
       "      <td>21</td>\n",
       "      <td>0.000000</td>\n",
       "      <td>0.000000</td>\n",
       "      <td>12.00000</td>\n",
       "      <td>20</td>\n",
       "      <td>...</td>\n",
       "      <td>0.000000</td>\n",
       "      <td>0.000000</td>\n",
       "      <td>0.000000</td>\n",
       "      <td>0.000000</td>\n",
       "      <td>0.000000</td>\n",
       "      <td>0.000000</td>\n",
       "      <td>0.000000</td>\n",
       "      <td>0.000000</td>\n",
       "      <td>0.000000</td>\n",
       "      <td>0.000000</td>\n",
       "      <td>0.000000</td>\n",
       "      <td>1.000000</td>\n",
       "      <td>1.000000</td>\n",
       "      <td>0.000000</td>\n",
       "      <td>0.000000</td>\n",
       "      <td>16</td>\n",
       "      <td>1.0</td>\n",
       "      <td>20.527708</td>\n",
       "      <td>34.626439</td>\n",
       "      <td>-4.837180</td>\n",
       "      <td>-39.896724</td>\n",
       "      <td>1</td>\n",
       "      <td>27.000000</td>\n",
       "      <td>36</td>\n",
       "      <td>1</td>\n",
       "    </tr>\n",
       "    <tr>\n",
       "      <th>2</th>\n",
       "      <td>53032</td>\n",
       "      <td>34</td>\n",
       "      <td>34</td>\n",
       "      <td>1.535958</td>\n",
       "      <td>2</td>\n",
       "      <td>33</td>\n",
       "      <td>36</td>\n",
       "      <td>35</td>\n",
       "      <td>47</td>\n",
       "      <td>34</td>\n",
       "      <td>1.097707</td>\n",
       "      <td>27</td>\n",
       "      <td>3</td>\n",
       "      <td>-1.0</td>\n",
       "      <td>34</td>\n",
       "      <td>0.276163</td>\n",
       "      <td>3.619303e+06</td>\n",
       "      <td>4.48644</td>\n",
       "      <td>0.999451</td>\n",
       "      <td>31.796962</td>\n",
       "      <td>35</td>\n",
       "      <td>215096.068536</td>\n",
       "      <td>9553.550312</td>\n",
       "      <td>6.56507</td>\n",
       "      <td>34</td>\n",
       "      <td>...</td>\n",
       "      <td>0.000000</td>\n",
       "      <td>0.000000</td>\n",
       "      <td>0.000000</td>\n",
       "      <td>0.000000</td>\n",
       "      <td>0.000000</td>\n",
       "      <td>0.000000</td>\n",
       "      <td>0.000000</td>\n",
       "      <td>0.000000</td>\n",
       "      <td>0.000000</td>\n",
       "      <td>0.000000</td>\n",
       "      <td>0.000000</td>\n",
       "      <td>0.000000</td>\n",
       "      <td>0.000000</td>\n",
       "      <td>0.000000</td>\n",
       "      <td>0.000000</td>\n",
       "      <td>0</td>\n",
       "      <td>1.0</td>\n",
       "      <td>20.527708</td>\n",
       "      <td>34.626439</td>\n",
       "      <td>-4.837180</td>\n",
       "      <td>-39.896724</td>\n",
       "      <td>1</td>\n",
       "      <td>31.093663</td>\n",
       "      <td>107</td>\n",
       "      <td>2</td>\n",
       "    </tr>\n",
       "    <tr>\n",
       "      <th>3</th>\n",
       "      <td>53033</td>\n",
       "      <td>25</td>\n",
       "      <td>26</td>\n",
       "      <td>2.000000</td>\n",
       "      <td>1</td>\n",
       "      <td>22</td>\n",
       "      <td>25</td>\n",
       "      <td>30</td>\n",
       "      <td>36</td>\n",
       "      <td>23</td>\n",
       "      <td>1.000000</td>\n",
       "      <td>27</td>\n",
       "      <td>3</td>\n",
       "      <td>1.0</td>\n",
       "      <td>23</td>\n",
       "      <td>0.000000</td>\n",
       "      <td>1.490000e+06</td>\n",
       "      <td>4.50000</td>\n",
       "      <td>1.000000</td>\n",
       "      <td>0.000000</td>\n",
       "      <td>24</td>\n",
       "      <td>0.000000</td>\n",
       "      <td>0.000000</td>\n",
       "      <td>12.00000</td>\n",
       "      <td>23</td>\n",
       "      <td>...</td>\n",
       "      <td>0.000000</td>\n",
       "      <td>0.000000</td>\n",
       "      <td>0.000000</td>\n",
       "      <td>0.000000</td>\n",
       "      <td>0.000000</td>\n",
       "      <td>0.000000</td>\n",
       "      <td>0.000000</td>\n",
       "      <td>0.000000</td>\n",
       "      <td>0.000000</td>\n",
       "      <td>0.000000</td>\n",
       "      <td>0.000000</td>\n",
       "      <td>0.000000</td>\n",
       "      <td>0.000000</td>\n",
       "      <td>0.000000</td>\n",
       "      <td>0.000000</td>\n",
       "      <td>15</td>\n",
       "      <td>1.0</td>\n",
       "      <td>20.527708</td>\n",
       "      <td>34.626439</td>\n",
       "      <td>-4.837180</td>\n",
       "      <td>-39.896724</td>\n",
       "      <td>1</td>\n",
       "      <td>23.000000</td>\n",
       "      <td>35</td>\n",
       "      <td>0</td>\n",
       "    </tr>\n",
       "    <tr>\n",
       "      <th>4</th>\n",
       "      <td>53034</td>\n",
       "      <td>34</td>\n",
       "      <td>34</td>\n",
       "      <td>1.535958</td>\n",
       "      <td>2</td>\n",
       "      <td>33</td>\n",
       "      <td>36</td>\n",
       "      <td>35</td>\n",
       "      <td>47</td>\n",
       "      <td>34</td>\n",
       "      <td>1.097707</td>\n",
       "      <td>27</td>\n",
       "      <td>3</td>\n",
       "      <td>-1.0</td>\n",
       "      <td>34</td>\n",
       "      <td>0.276163</td>\n",
       "      <td>3.619303e+06</td>\n",
       "      <td>4.48644</td>\n",
       "      <td>0.999451</td>\n",
       "      <td>31.796962</td>\n",
       "      <td>35</td>\n",
       "      <td>215096.068536</td>\n",
       "      <td>9553.550312</td>\n",
       "      <td>6.56507</td>\n",
       "      <td>34</td>\n",
       "      <td>...</td>\n",
       "      <td>0.000000</td>\n",
       "      <td>0.000000</td>\n",
       "      <td>0.000000</td>\n",
       "      <td>0.000000</td>\n",
       "      <td>0.000000</td>\n",
       "      <td>0.000000</td>\n",
       "      <td>0.000000</td>\n",
       "      <td>0.000000</td>\n",
       "      <td>0.000000</td>\n",
       "      <td>0.000000</td>\n",
       "      <td>0.000000</td>\n",
       "      <td>0.000000</td>\n",
       "      <td>0.000000</td>\n",
       "      <td>0.000000</td>\n",
       "      <td>0.000000</td>\n",
       "      <td>5</td>\n",
       "      <td>1.0</td>\n",
       "      <td>27.000000</td>\n",
       "      <td>34.626439</td>\n",
       "      <td>27.000000</td>\n",
       "      <td>27.000000</td>\n",
       "      <td>1</td>\n",
       "      <td>31.093663</td>\n",
       "      <td>70</td>\n",
       "      <td>1</td>\n",
       "    </tr>\n",
       "    <tr>\n",
       "      <th>...</th>\n",
       "      <td>...</td>\n",
       "      <td>...</td>\n",
       "      <td>...</td>\n",
       "      <td>...</td>\n",
       "      <td>...</td>\n",
       "      <td>...</td>\n",
       "      <td>...</td>\n",
       "      <td>...</td>\n",
       "      <td>...</td>\n",
       "      <td>...</td>\n",
       "      <td>...</td>\n",
       "      <td>...</td>\n",
       "      <td>...</td>\n",
       "      <td>...</td>\n",
       "      <td>...</td>\n",
       "      <td>...</td>\n",
       "      <td>...</td>\n",
       "      <td>...</td>\n",
       "      <td>...</td>\n",
       "      <td>...</td>\n",
       "      <td>...</td>\n",
       "      <td>...</td>\n",
       "      <td>...</td>\n",
       "      <td>...</td>\n",
       "      <td>...</td>\n",
       "      <td>...</td>\n",
       "      <td>...</td>\n",
       "      <td>...</td>\n",
       "      <td>...</td>\n",
       "      <td>...</td>\n",
       "      <td>...</td>\n",
       "      <td>...</td>\n",
       "      <td>...</td>\n",
       "      <td>...</td>\n",
       "      <td>...</td>\n",
       "      <td>...</td>\n",
       "      <td>...</td>\n",
       "      <td>...</td>\n",
       "      <td>...</td>\n",
       "      <td>...</td>\n",
       "      <td>...</td>\n",
       "      <td>...</td>\n",
       "      <td>...</td>\n",
       "      <td>...</td>\n",
       "      <td>...</td>\n",
       "      <td>...</td>\n",
       "      <td>...</td>\n",
       "      <td>...</td>\n",
       "      <td>...</td>\n",
       "      <td>...</td>\n",
       "      <td>...</td>\n",
       "    </tr>\n",
       "    <tr>\n",
       "      <th>20376</th>\n",
       "      <td>73406</td>\n",
       "      <td>34</td>\n",
       "      <td>34</td>\n",
       "      <td>1.535958</td>\n",
       "      <td>2</td>\n",
       "      <td>33</td>\n",
       "      <td>36</td>\n",
       "      <td>35</td>\n",
       "      <td>47</td>\n",
       "      <td>34</td>\n",
       "      <td>1.097707</td>\n",
       "      <td>27</td>\n",
       "      <td>3</td>\n",
       "      <td>-1.0</td>\n",
       "      <td>34</td>\n",
       "      <td>0.276163</td>\n",
       "      <td>3.619303e+06</td>\n",
       "      <td>4.48644</td>\n",
       "      <td>0.999451</td>\n",
       "      <td>31.796962</td>\n",
       "      <td>35</td>\n",
       "      <td>215096.068536</td>\n",
       "      <td>9553.550312</td>\n",
       "      <td>6.56507</td>\n",
       "      <td>34</td>\n",
       "      <td>...</td>\n",
       "      <td>0.000682</td>\n",
       "      <td>0.098718</td>\n",
       "      <td>0.015845</td>\n",
       "      <td>0.045413</td>\n",
       "      <td>0.040036</td>\n",
       "      <td>0.040687</td>\n",
       "      <td>0.043368</td>\n",
       "      <td>0.042399</td>\n",
       "      <td>0.330844</td>\n",
       "      <td>0.205208</td>\n",
       "      <td>0.001227</td>\n",
       "      <td>0.283992</td>\n",
       "      <td>0.248712</td>\n",
       "      <td>0.000091</td>\n",
       "      <td>0.007286</td>\n",
       "      <td>1</td>\n",
       "      <td>1.0</td>\n",
       "      <td>24.000000</td>\n",
       "      <td>42.644640</td>\n",
       "      <td>-10.722222</td>\n",
       "      <td>-160.000000</td>\n",
       "      <td>3</td>\n",
       "      <td>31.093663</td>\n",
       "      <td>128</td>\n",
       "      <td>2</td>\n",
       "    </tr>\n",
       "    <tr>\n",
       "      <th>20377</th>\n",
       "      <td>73407</td>\n",
       "      <td>34</td>\n",
       "      <td>34</td>\n",
       "      <td>1.535958</td>\n",
       "      <td>2</td>\n",
       "      <td>33</td>\n",
       "      <td>36</td>\n",
       "      <td>35</td>\n",
       "      <td>47</td>\n",
       "      <td>34</td>\n",
       "      <td>1.097707</td>\n",
       "      <td>27</td>\n",
       "      <td>3</td>\n",
       "      <td>-1.0</td>\n",
       "      <td>34</td>\n",
       "      <td>0.276163</td>\n",
       "      <td>3.619303e+06</td>\n",
       "      <td>4.48644</td>\n",
       "      <td>0.999451</td>\n",
       "      <td>31.796962</td>\n",
       "      <td>35</td>\n",
       "      <td>215096.068536</td>\n",
       "      <td>9553.550312</td>\n",
       "      <td>6.56507</td>\n",
       "      <td>34</td>\n",
       "      <td>...</td>\n",
       "      <td>0.000682</td>\n",
       "      <td>0.098718</td>\n",
       "      <td>0.015845</td>\n",
       "      <td>0.045413</td>\n",
       "      <td>0.040036</td>\n",
       "      <td>0.040687</td>\n",
       "      <td>0.043368</td>\n",
       "      <td>0.042399</td>\n",
       "      <td>0.330844</td>\n",
       "      <td>0.205208</td>\n",
       "      <td>0.001227</td>\n",
       "      <td>0.283992</td>\n",
       "      <td>0.248712</td>\n",
       "      <td>0.000091</td>\n",
       "      <td>0.007286</td>\n",
       "      <td>3</td>\n",
       "      <td>1.0</td>\n",
       "      <td>44.000000</td>\n",
       "      <td>13.740300</td>\n",
       "      <td>6.562500</td>\n",
       "      <td>0.000000</td>\n",
       "      <td>3</td>\n",
       "      <td>31.093663</td>\n",
       "      <td>128</td>\n",
       "      <td>2</td>\n",
       "    </tr>\n",
       "    <tr>\n",
       "      <th>20378</th>\n",
       "      <td>73408</td>\n",
       "      <td>31</td>\n",
       "      <td>31</td>\n",
       "      <td>1.000000</td>\n",
       "      <td>0</td>\n",
       "      <td>30</td>\n",
       "      <td>33</td>\n",
       "      <td>5</td>\n",
       "      <td>45</td>\n",
       "      <td>31</td>\n",
       "      <td>1.000000</td>\n",
       "      <td>27</td>\n",
       "      <td>3</td>\n",
       "      <td>1.0</td>\n",
       "      <td>34</td>\n",
       "      <td>4.136000</td>\n",
       "      <td>6.162640e+06</td>\n",
       "      <td>4.50000</td>\n",
       "      <td>1.000000</td>\n",
       "      <td>172.000000</td>\n",
       "      <td>32</td>\n",
       "      <td>0.000000</td>\n",
       "      <td>0.000000</td>\n",
       "      <td>24.00000</td>\n",
       "      <td>31</td>\n",
       "      <td>...</td>\n",
       "      <td>0.000000</td>\n",
       "      <td>0.000000</td>\n",
       "      <td>0.000000</td>\n",
       "      <td>0.000000</td>\n",
       "      <td>0.000000</td>\n",
       "      <td>0.000000</td>\n",
       "      <td>0.000000</td>\n",
       "      <td>0.000000</td>\n",
       "      <td>0.000000</td>\n",
       "      <td>0.000000</td>\n",
       "      <td>0.000000</td>\n",
       "      <td>0.000000</td>\n",
       "      <td>0.000000</td>\n",
       "      <td>0.000000</td>\n",
       "      <td>0.000000</td>\n",
       "      <td>15</td>\n",
       "      <td>1.0</td>\n",
       "      <td>20.527708</td>\n",
       "      <td>34.626439</td>\n",
       "      <td>-4.837180</td>\n",
       "      <td>-39.896724</td>\n",
       "      <td>1</td>\n",
       "      <td>38.000000</td>\n",
       "      <td>26</td>\n",
       "      <td>0</td>\n",
       "    </tr>\n",
       "    <tr>\n",
       "      <th>20379</th>\n",
       "      <td>73409</td>\n",
       "      <td>34</td>\n",
       "      <td>34</td>\n",
       "      <td>1.535958</td>\n",
       "      <td>2</td>\n",
       "      <td>33</td>\n",
       "      <td>36</td>\n",
       "      <td>35</td>\n",
       "      <td>47</td>\n",
       "      <td>34</td>\n",
       "      <td>1.097707</td>\n",
       "      <td>27</td>\n",
       "      <td>3</td>\n",
       "      <td>-1.0</td>\n",
       "      <td>34</td>\n",
       "      <td>0.276163</td>\n",
       "      <td>3.619303e+06</td>\n",
       "      <td>4.48644</td>\n",
       "      <td>0.999451</td>\n",
       "      <td>31.796962</td>\n",
       "      <td>35</td>\n",
       "      <td>215096.068536</td>\n",
       "      <td>9553.550312</td>\n",
       "      <td>6.56507</td>\n",
       "      <td>34</td>\n",
       "      <td>...</td>\n",
       "      <td>0.000000</td>\n",
       "      <td>1.000000</td>\n",
       "      <td>0.000000</td>\n",
       "      <td>0.000000</td>\n",
       "      <td>0.000000</td>\n",
       "      <td>0.000000</td>\n",
       "      <td>0.000000</td>\n",
       "      <td>0.000000</td>\n",
       "      <td>0.000000</td>\n",
       "      <td>0.000000</td>\n",
       "      <td>0.000000</td>\n",
       "      <td>0.000000</td>\n",
       "      <td>0.000000</td>\n",
       "      <td>0.000000</td>\n",
       "      <td>0.000000</td>\n",
       "      <td>15</td>\n",
       "      <td>1.0</td>\n",
       "      <td>20.527708</td>\n",
       "      <td>34.626439</td>\n",
       "      <td>-4.837180</td>\n",
       "      <td>-39.896724</td>\n",
       "      <td>1</td>\n",
       "      <td>31.093663</td>\n",
       "      <td>78</td>\n",
       "      <td>1</td>\n",
       "    </tr>\n",
       "    <tr>\n",
       "      <th>20380</th>\n",
       "      <td>73410</td>\n",
       "      <td>15</td>\n",
       "      <td>16</td>\n",
       "      <td>1.000000</td>\n",
       "      <td>0</td>\n",
       "      <td>30</td>\n",
       "      <td>33</td>\n",
       "      <td>5</td>\n",
       "      <td>18</td>\n",
       "      <td>31</td>\n",
       "      <td>1.000000</td>\n",
       "      <td>12</td>\n",
       "      <td>1</td>\n",
       "      <td>1.0</td>\n",
       "      <td>34</td>\n",
       "      <td>0.000000</td>\n",
       "      <td>3.800000e+06</td>\n",
       "      <td>4.50000</td>\n",
       "      <td>1.000000</td>\n",
       "      <td>2.000000</td>\n",
       "      <td>32</td>\n",
       "      <td>0.000000</td>\n",
       "      <td>0.000000</td>\n",
       "      <td>0.00000</td>\n",
       "      <td>31</td>\n",
       "      <td>...</td>\n",
       "      <td>0.000000</td>\n",
       "      <td>0.000000</td>\n",
       "      <td>0.000000</td>\n",
       "      <td>0.000000</td>\n",
       "      <td>0.000000</td>\n",
       "      <td>0.000000</td>\n",
       "      <td>0.000000</td>\n",
       "      <td>0.000000</td>\n",
       "      <td>0.000000</td>\n",
       "      <td>0.000000</td>\n",
       "      <td>0.000000</td>\n",
       "      <td>0.000000</td>\n",
       "      <td>0.000000</td>\n",
       "      <td>0.000000</td>\n",
       "      <td>0.000000</td>\n",
       "      <td>15</td>\n",
       "      <td>1.0</td>\n",
       "      <td>20.527708</td>\n",
       "      <td>34.626439</td>\n",
       "      <td>-4.837180</td>\n",
       "      <td>-39.896724</td>\n",
       "      <td>1</td>\n",
       "      <td>24.000000</td>\n",
       "      <td>31</td>\n",
       "      <td>0</td>\n",
       "    </tr>\n",
       "  </tbody>\n",
       "</table>\n",
       "<p>20381 rows × 135 columns</p>\n",
       "</div>"
      ],
      "text/plain": [
       "          id  Field_1  Field_2   Field_3  Field_4  Field_5  Field_6  Field_7  \\\n",
       "0      53030       25       26  2.000000        1       17       20       24   \n",
       "1      53031       22       23  2.000000        1       19       22       24   \n",
       "2      53032       34       34  1.535958        2       33       36       35   \n",
       "3      53033       25       26  2.000000        1       22       25       30   \n",
       "4      53034       34       34  1.535958        2       33       36       35   \n",
       "...      ...      ...      ...       ...      ...      ...      ...      ...   \n",
       "20376  73406       34       34  1.535958        2       33       36       35   \n",
       "20377  73407       34       34  1.535958        2       33       36       35   \n",
       "20378  73408       31       31  1.000000        0       30       33        5   \n",
       "20379  73409       34       34  1.535958        2       33       36       35   \n",
       "20380  73410       15       16  1.000000        0       30       33        5   \n",
       "\n",
       "       Field_8  Field_9  Field_10  Field_11  Field_12  Field_13  Field_15  \\\n",
       "0           28       18  1.000000        27         3       1.0        18   \n",
       "1           28       20  1.000000        27         3       1.0        34   \n",
       "2           47       34  1.097707        27         3      -1.0        34   \n",
       "3           36       23  1.000000        27         3       1.0        23   \n",
       "4           47       34  1.097707        27         3      -1.0        34   \n",
       "...        ...      ...       ...       ...       ...       ...       ...   \n",
       "20376       47       34  1.097707        27         3      -1.0        34   \n",
       "20377       47       34  1.097707        27         3      -1.0        34   \n",
       "20378       45       31  1.000000        27         3       1.0        34   \n",
       "20379       47       34  1.097707        27         3      -1.0        34   \n",
       "20380       18       31  1.000000        12         1       1.0        34   \n",
       "\n",
       "       Field_19      Field_20  Field_21  Field_22    Field_23  Field_25  \\\n",
       "0      0.000000  1.490000e+06   4.50000  1.000000   43.000000        19   \n",
       "1      0.000000  1.043000e+06   4.50000  1.000000   24.000000        21   \n",
       "2      0.276163  3.619303e+06   4.48644  0.999451   31.796962        35   \n",
       "3      0.000000  1.490000e+06   4.50000  1.000000    0.000000        24   \n",
       "4      0.276163  3.619303e+06   4.48644  0.999451   31.796962        35   \n",
       "...         ...           ...       ...       ...         ...       ...   \n",
       "20376  0.276163  3.619303e+06   4.48644  0.999451   31.796962        35   \n",
       "20377  0.276163  3.619303e+06   4.48644  0.999451   31.796962        35   \n",
       "20378  4.136000  6.162640e+06   4.50000  1.000000  172.000000        32   \n",
       "20379  0.276163  3.619303e+06   4.48644  0.999451   31.796962        35   \n",
       "20380  0.000000  3.800000e+06   4.50000  1.000000    2.000000        32   \n",
       "\n",
       "            Field_27     Field_28  Field_29  Field_32  ...  partner1_C  \\\n",
       "0           0.000000     0.000000  12.00000        18  ...    0.000000   \n",
       "1           0.000000     0.000000  12.00000        20  ...    0.000000   \n",
       "2      215096.068536  9553.550312   6.56507        34  ...    0.000000   \n",
       "3           0.000000     0.000000  12.00000        23  ...    0.000000   \n",
       "4      215096.068536  9553.550312   6.56507        34  ...    0.000000   \n",
       "...              ...          ...       ...       ...  ...         ...   \n",
       "20376  215096.068536  9553.550312   6.56507        34  ...    0.000682   \n",
       "20377  215096.068536  9553.550312   6.56507        34  ...    0.000682   \n",
       "20378       0.000000     0.000000  24.00000        31  ...    0.000000   \n",
       "20379  215096.068536  9553.550312   6.56507        34  ...    0.000000   \n",
       "20380       0.000000     0.000000   0.00000        31  ...    0.000000   \n",
       "\n",
       "       partner1_G  partner1_H  partner2_A  partner2_C  partner2_D  partner2_F  \\\n",
       "0        0.000000    0.000000    0.000000    0.000000    0.000000    0.000000   \n",
       "1        0.000000    0.000000    0.000000    0.000000    0.000000    0.000000   \n",
       "2        0.000000    0.000000    0.000000    0.000000    0.000000    0.000000   \n",
       "3        0.000000    0.000000    0.000000    0.000000    0.000000    0.000000   \n",
       "4        0.000000    0.000000    0.000000    0.000000    0.000000    0.000000   \n",
       "...           ...         ...         ...         ...         ...         ...   \n",
       "20376    0.098718    0.015845    0.045413    0.040036    0.040687    0.043368   \n",
       "20377    0.098718    0.015845    0.045413    0.040036    0.040687    0.043368   \n",
       "20378    0.000000    0.000000    0.000000    0.000000    0.000000    0.000000   \n",
       "20379    1.000000    0.000000    0.000000    0.000000    0.000000    0.000000   \n",
       "20380    0.000000    0.000000    0.000000    0.000000    0.000000    0.000000   \n",
       "\n",
       "       partner2_H  partner3_A  partner3_D  partner3_E  partner4_L  partner5_A  \\\n",
       "0        0.000000    0.000000    0.000000    0.000000    0.000000    0.000000   \n",
       "1        0.000000    0.000000    0.000000    0.000000    1.000000    1.000000   \n",
       "2        0.000000    0.000000    0.000000    0.000000    0.000000    0.000000   \n",
       "3        0.000000    0.000000    0.000000    0.000000    0.000000    0.000000   \n",
       "4        0.000000    0.000000    0.000000    0.000000    0.000000    0.000000   \n",
       "...           ...         ...         ...         ...         ...         ...   \n",
       "20376    0.042399    0.330844    0.205208    0.001227    0.283992    0.248712   \n",
       "20377    0.042399    0.330844    0.205208    0.001227    0.283992    0.248712   \n",
       "20378    0.000000    0.000000    0.000000    0.000000    0.000000    0.000000   \n",
       "20379    0.000000    0.000000    0.000000    0.000000    0.000000    0.000000   \n",
       "20380    0.000000    0.000000    0.000000    0.000000    0.000000    0.000000   \n",
       "\n",
       "       partner5_D  partner5_G  brief  num_of_phone   Field_78   Field_79  \\\n",
       "0        0.000000    0.000000     15           2.0  20.527708  34.626439   \n",
       "1        0.000000    0.000000     16           1.0  20.527708  34.626439   \n",
       "2        0.000000    0.000000      0           1.0  20.527708  34.626439   \n",
       "3        0.000000    0.000000     15           1.0  20.527708  34.626439   \n",
       "4        0.000000    0.000000      5           1.0  27.000000  34.626439   \n",
       "...           ...         ...    ...           ...        ...        ...   \n",
       "20376    0.000091    0.007286      1           1.0  24.000000  42.644640   \n",
       "20377    0.000091    0.007286      3           1.0  44.000000  13.740300   \n",
       "20378    0.000000    0.000000     15           1.0  20.527708  34.626439   \n",
       "20379    0.000000    0.000000     15           1.0  20.527708  34.626439   \n",
       "20380    0.000000    0.000000     15           1.0  20.527708  34.626439   \n",
       "\n",
       "        Field_80    Field_81  Field_82        age  null_sum  gender  \n",
       "0      -4.837180  -39.896724         1  25.000000        38       1  \n",
       "1      -4.837180  -39.896724         1  27.000000        36       1  \n",
       "2      -4.837180  -39.896724         1  31.093663       107       2  \n",
       "3      -4.837180  -39.896724         1  23.000000        35       0  \n",
       "4      27.000000   27.000000         1  31.093663        70       1  \n",
       "...          ...         ...       ...        ...       ...     ...  \n",
       "20376 -10.722222 -160.000000         3  31.093663       128       2  \n",
       "20377   6.562500    0.000000         3  31.093663       128       2  \n",
       "20378  -4.837180  -39.896724         1  38.000000        26       0  \n",
       "20379  -4.837180  -39.896724         1  31.093663        78       1  \n",
       "20380  -4.837180  -39.896724         1  24.000000        31       0  \n",
       "\n",
       "[20381 rows x 135 columns]"
      ]
     },
     "execution_count": 32,
     "metadata": {},
     "output_type": "execute_result"
    }
   ],
   "source": [
    "test"
   ]
  },
  {
   "cell_type": "code",
   "execution_count": 33,
   "metadata": {
    "ExecuteTime": {
     "end_time": "2020-07-29T15:12:27.520747Z",
     "start_time": "2020-07-29T15:12:27.500198Z"
    }
   },
   "outputs": [],
   "source": [
    "params = {\n",
    "    'boosting_type': 'gbdt',\n",
    "    'objective': 'binary',\n",
    "    'metric': 'auc',\n",
    "    'verbose': 1,\n",
    "    'learning_rate': 0.05,\n",
    "    'num_leaves': 31,\n",
    "    'feature_fraction': 0.7,\n",
    "    'min_data_in_leaf': 200,\n",
    "    'bagging_fraction': 0.8,\n",
    "    'bagging_freq': 20,\n",
    "    'min_hessian': 0.01,\n",
    "    'feature_fraction_seed': 2,\n",
    "    'bagging_seed': 3\n",
    "}"
   ]
  },
  {
   "cell_type": "code",
   "execution_count": 34,
   "metadata": {
    "ExecuteTime": {
     "end_time": "2020-07-29T15:12:27.599634Z",
     "start_time": "2020-07-29T15:12:27.528232Z"
    }
   },
   "outputs": [],
   "source": [
    "def compute_gini(labels, preds):\n",
    "    fpr, tpr, thresholds = metrics.roc_curve(labels, preds, pos_label=1)\n",
    "    auc = metrics.auc(fpr, tpr)\n",
    "    gini = 2 * auc - 1\n",
    "    return gini"
   ]
  },
  {
   "cell_type": "code",
   "execution_count": 35,
   "metadata": {
    "ExecuteTime": {
     "end_time": "2020-07-29T15:27:04.889356Z",
     "start_time": "2020-07-29T15:12:27.605979Z"
    }
   },
   "outputs": [
    {
     "ename": "KeyboardInterrupt",
     "evalue": "",
     "output_type": "error",
     "traceback": [
      "\u001b[0;31m---------------------------------------------------------------------------\u001b[0m",
      "\u001b[0;31mKeyboardInterrupt\u001b[0m                         Traceback (most recent call last)",
      "\u001b[0;32m<ipython-input-35-8ae4d6d77afd>\u001b[0m in \u001b[0;36m<module>\u001b[0;34m\u001b[0m\n\u001b[1;32m      9\u001b[0m \u001b[0;34m\u001b[0m\u001b[0m\n\u001b[1;32m     10\u001b[0m         \u001b[0md_train\u001b[0m \u001b[0;34m=\u001b[0m \u001b[0mlgb\u001b[0m\u001b[0;34m.\u001b[0m\u001b[0mDataset\u001b[0m\u001b[0;34m(\u001b[0m\u001b[0mtrain1\u001b[0m\u001b[0;34m,\u001b[0m \u001b[0mlabel\u001b[0m \u001b[0;34m=\u001b[0m \u001b[0mtrain_dev\u001b[0m\u001b[0;34m.\u001b[0m\u001b[0mloc\u001b[0m\u001b[0;34m[\u001b[0m\u001b[0mtrain_index\u001b[0m\u001b[0;34m]\u001b[0m\u001b[0;34m[\u001b[0m\u001b[0;34m\"label\"\u001b[0m\u001b[0;34m]\u001b[0m\u001b[0;34m)\u001b[0m\u001b[0;34m\u001b[0m\u001b[0;34m\u001b[0m\u001b[0m\n\u001b[0;32m---> 11\u001b[0;31m         \u001b[0mclf\u001b[0m \u001b[0;34m=\u001b[0m \u001b[0mlgb\u001b[0m\u001b[0;34m.\u001b[0m\u001b[0mtrain\u001b[0m\u001b[0;34m(\u001b[0m\u001b[0mparams\u001b[0m\u001b[0;34m,\u001b[0m\u001b[0md_train\u001b[0m\u001b[0;34m,\u001b[0m \u001b[0;36m2500\u001b[0m\u001b[0;34m)\u001b[0m\u001b[0;34m\u001b[0m\u001b[0;34m\u001b[0m\u001b[0m\n\u001b[0m\u001b[1;32m     12\u001b[0m         \u001b[0mpredictions_test\u001b[0m \u001b[0;34m=\u001b[0m \u001b[0mclf\u001b[0m\u001b[0;34m.\u001b[0m\u001b[0mpredict\u001b[0m\u001b[0;34m(\u001b[0m\u001b[0mtest\u001b[0m\u001b[0;34m.\u001b[0m\u001b[0miloc\u001b[0m\u001b[0;34m[\u001b[0m\u001b[0;34m:\u001b[0m\u001b[0;34m,\u001b[0m\u001b[0;36m1\u001b[0m\u001b[0;34m:\u001b[0m\u001b[0;34m]\u001b[0m\u001b[0;34m)\u001b[0m\u001b[0;34m\u001b[0m\u001b[0;34m\u001b[0m\u001b[0m\n\u001b[1;32m     13\u001b[0m         \u001b[0mpredictions_dev\u001b[0m \u001b[0;34m=\u001b[0m \u001b[0mclf\u001b[0m\u001b[0;34m.\u001b[0m\u001b[0mpredict\u001b[0m\u001b[0;34m(\u001b[0m\u001b[0mdev1\u001b[0m\u001b[0;34m)\u001b[0m\u001b[0;34m\u001b[0m\u001b[0;34m\u001b[0m\u001b[0m\n",
      "\u001b[0;32m~/anaconda3/envs/py37/lib/python3.7/site-packages/lightgbm/engine.py\u001b[0m in \u001b[0;36mtrain\u001b[0;34m(params, train_set, num_boost_round, valid_sets, valid_names, fobj, feval, init_model, feature_name, categorical_feature, early_stopping_rounds, evals_result, verbose_eval, learning_rates, keep_training_booster, callbacks)\u001b[0m\n\u001b[1;32m    247\u001b[0m                                     evaluation_result_list=None))\n\u001b[1;32m    248\u001b[0m \u001b[0;34m\u001b[0m\u001b[0m\n\u001b[0;32m--> 249\u001b[0;31m         \u001b[0mbooster\u001b[0m\u001b[0;34m.\u001b[0m\u001b[0mupdate\u001b[0m\u001b[0;34m(\u001b[0m\u001b[0mfobj\u001b[0m\u001b[0;34m=\u001b[0m\u001b[0mfobj\u001b[0m\u001b[0;34m)\u001b[0m\u001b[0;34m\u001b[0m\u001b[0;34m\u001b[0m\u001b[0m\n\u001b[0m\u001b[1;32m    250\u001b[0m \u001b[0;34m\u001b[0m\u001b[0m\n\u001b[1;32m    251\u001b[0m         \u001b[0mevaluation_result_list\u001b[0m \u001b[0;34m=\u001b[0m \u001b[0;34m[\u001b[0m\u001b[0;34m]\u001b[0m\u001b[0;34m\u001b[0m\u001b[0;34m\u001b[0m\u001b[0m\n",
      "\u001b[0;32m~/anaconda3/envs/py37/lib/python3.7/site-packages/lightgbm/basic.py\u001b[0m in \u001b[0;36mupdate\u001b[0;34m(self, train_set, fobj)\u001b[0m\n\u001b[1;32m   1974\u001b[0m             _safe_call(_LIB.LGBM_BoosterUpdateOneIter(\n\u001b[1;32m   1975\u001b[0m                 \u001b[0mself\u001b[0m\u001b[0;34m.\u001b[0m\u001b[0mhandle\u001b[0m\u001b[0;34m,\u001b[0m\u001b[0;34m\u001b[0m\u001b[0;34m\u001b[0m\u001b[0m\n\u001b[0;32m-> 1976\u001b[0;31m                 ctypes.byref(is_finished)))\n\u001b[0m\u001b[1;32m   1977\u001b[0m             \u001b[0mself\u001b[0m\u001b[0;34m.\u001b[0m\u001b[0m__is_predicted_cur_iter\u001b[0m \u001b[0;34m=\u001b[0m \u001b[0;34m[\u001b[0m\u001b[0;32mFalse\u001b[0m \u001b[0;32mfor\u001b[0m \u001b[0m_\u001b[0m \u001b[0;32min\u001b[0m \u001b[0mrange_\u001b[0m\u001b[0;34m(\u001b[0m\u001b[0mself\u001b[0m\u001b[0;34m.\u001b[0m\u001b[0m__num_dataset\u001b[0m\u001b[0;34m)\u001b[0m\u001b[0;34m]\u001b[0m\u001b[0;34m\u001b[0m\u001b[0;34m\u001b[0m\u001b[0m\n\u001b[1;32m   1978\u001b[0m             \u001b[0;32mreturn\u001b[0m \u001b[0mis_finished\u001b[0m\u001b[0;34m.\u001b[0m\u001b[0mvalue\u001b[0m \u001b[0;34m==\u001b[0m \u001b[0;36m1\u001b[0m\u001b[0;34m\u001b[0m\u001b[0;34m\u001b[0m\u001b[0m\n",
      "\u001b[0;31mKeyboardInterrupt\u001b[0m: "
     ]
    }
   ],
   "source": [
    "iter_predicttion = []\n",
    "for i in range(1):\n",
    "    pred_stack = []\n",
    "    kf = KFold(n_splits = 4, shuffle=True)\n",
    "    fold = kf.split(train_dev)\n",
    "    for train_index, dev_index in fold:\n",
    "        train1 = train_dev.iloc[train_index,2:]\n",
    "        dev1 = train_dev.iloc[dev_index,2:]\n",
    "\n",
    "        d_train = lgb.Dataset(train1, label = train_dev.loc[train_index][\"label\"])\n",
    "        clf = lgb.train(params,d_train, 2500)\n",
    "        predictions_test = clf.predict(test.iloc[:,1:])\n",
    "        predictions_dev = clf.predict(dev1)\n",
    "        pred_stack.append(predictions_test)\n",
    "        print(compute_gini(train_dev.loc[dev_index][\"label\"], predictions_dev))\n",
    "    predictions = np.asarray(pred_stack)\n",
    "    predictions = np.mean(predictions, axis = 0)\n",
    "\n",
    "    iter_predicttion.append(predictions)"
   ]
  },
  {
   "cell_type": "code",
   "execution_count": null,
   "metadata": {
    "ExecuteTime": {
     "end_time": "2020-07-29T15:27:04.928199Z",
     "start_time": "2020-07-29T15:11:28.136Z"
    }
   },
   "outputs": [],
   "source": [
    "predictions = np.asarray(iter_predicttion)\n",
    "predictions = np.mean(predictions, axis = 0)\n",
    "predictions = list(predictions)\n",
    "\n",
    "for i in range(len(predictions)):\n",
    "    if predictions[i] >= 0.5:\n",
    "        predictions[i] = 1\n",
    "    else:\n",
    "        predictions[i] = 0\n",
    "        \n",
    "new_label = pd.DataFrame(predictions, columns = [\"label\"])\n",
    "\n",
    "new_data_id = []\n",
    "for i in range(len(new_label)):\n",
    "    idx = len(df_train) + i\n",
    "    new_data_id.append(idx)\n",
    "new_data_id = pd.DataFrame(new_data_id, columns = [\"id\"])\n",
    "\n",
    "new_data =  pd.concat([new_data_id, new_label, test.iloc[:,1:]], axis = 1)"
   ]
  },
  {
   "cell_type": "code",
   "execution_count": null,
   "metadata": {
    "ExecuteTime": {
     "end_time": "2020-07-29T15:27:04.934927Z",
     "start_time": "2020-07-29T15:11:28.147Z"
    }
   },
   "outputs": [],
   "source": [
    "data_version = \"10-10-2020-b\""
   ]
  },
  {
   "cell_type": "code",
   "execution_count": null,
   "metadata": {
    "ExecuteTime": {
     "end_time": "2020-07-29T15:27:04.939448Z",
     "start_time": "2020-07-29T15:11:28.155Z"
    }
   },
   "outputs": [],
   "source": [
    "os.makedirs(f\"../../data/kalapa/{data_version}/\", exist_ok=True)\n",
    "train_dev.to_csv(f\"../../data/kalapa/{data_version}/train.csv\", index = False)\n",
    "test.to_csv(f\"../../data/kalapa/{data_version}/test.csv\", index = False)\n",
    "new_data.to_csv(f\"../../data/kalapa/{data_version}/new_data.csv\", index = False)"
   ]
  }
 ],
 "metadata": {
  "kernelspec": {
   "display_name": "Python 3",
   "language": "python",
   "name": "python3"
  },
  "language_info": {
   "codemirror_mode": {
    "name": "ipython",
    "version": 3
   },
   "file_extension": ".py",
   "mimetype": "text/x-python",
   "name": "python",
   "nbconvert_exporter": "python",
   "pygments_lexer": "ipython3",
   "version": "3.7.7"
  },
  "varInspector": {
   "cols": {
    "lenName": 16,
    "lenType": 16,
    "lenVar": 40
   },
   "kernels_config": {
    "python": {
     "delete_cmd_postfix": "",
     "delete_cmd_prefix": "del ",
     "library": "var_list.py",
     "varRefreshCmd": "print(var_dic_list())"
    },
    "r": {
     "delete_cmd_postfix": ") ",
     "delete_cmd_prefix": "rm(",
     "library": "var_list.r",
     "varRefreshCmd": "cat(var_dic_list()) "
    }
   },
   "types_to_exclude": [
    "module",
    "function",
    "builtin_function_or_method",
    "instance",
    "_Feature"
   ],
   "window_display": false
  }
 },
 "nbformat": 4,
 "nbformat_minor": 4
}
