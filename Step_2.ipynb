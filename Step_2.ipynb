{
 "cells": [
  {
   "cell_type": "code",
   "execution_count": 1,
   "metadata": {
    "ExecuteTime": {
     "end_time": "2020-07-30T06:48:09.275874Z",
     "start_time": "2020-07-30T06:48:04.964817Z"
    }
   },
   "outputs": [],
   "source": [
    "import pandas as pd\n",
    "import numpy as np\n",
    "import matplotlib.pyplot as plt\n",
    "import sys\n",
    "import csv\n",
    "import os\n",
    "import random\n",
    "import string\n",
    "import seaborn as sns\n",
    "import math\n",
    "import re\n",
    "import warnings\n",
    "import lightgbm as lgb\n",
    "\n",
    "from sklearn.preprocessing import MinMaxScaler\n",
    "from sklearn.feature_extraction.text import TfidfVectorizer\n",
    "from sklearn.model_selection import StratifiedKFold\n",
    "from sklearn.feature_selection import VarianceThreshold\n",
    "from sklearn.metrics import roc_auc_score\n",
    "from sklearn.model_selection import KFold\n",
    "from sklearn.preprocessing import LabelEncoder\n",
    "from feature_engine import categorical_encoders as ce\n",
    "\n",
    "from datetime import datetime\n",
    "from dateutil.parser import parse\n",
    "from sklearn import metrics\n",
    "from unidecode import unidecode\n",
    "from sklearn.metrics import roc_auc_score\n",
    "\n",
    "from itertools import combinations\n",
    "\n",
    "warnings.filterwarnings('ignore')\n",
    "pd.options.display.max_columns = 50\n",
    "plt.style.use('ggplot')\n",
    "\n",
    "%matplotlib inline"
   ]
  },
  {
   "cell_type": "code",
   "execution_count": 2,
   "metadata": {
    "ExecuteTime": {
     "end_time": "2020-07-30T06:48:09.297615Z",
     "start_time": "2020-07-30T06:48:09.286747Z"
    }
   },
   "outputs": [],
   "source": [
    "data_version_input = \"01-10-2020\""
   ]
  },
  {
   "cell_type": "code",
   "execution_count": 3,
   "metadata": {
    "ExecuteTime": {
     "end_time": "2020-07-30T06:48:09.377094Z",
     "start_time": "2020-07-30T06:48:09.312877Z"
    }
   },
   "outputs": [],
   "source": [
    "data_version = \"10-10-2020-h\""
   ]
  },
  {
   "cell_type": "code",
   "execution_count": 4,
   "metadata": {
    "ExecuteTime": {
     "end_time": "2020-07-30T06:48:14.676157Z",
     "start_time": "2020-07-30T06:48:09.400890Z"
    }
   },
   "outputs": [],
   "source": [
    "df_train = pd.read_csv(f\"../../data/kalapa/{data_version_input}/train.csv\")\n",
    "df_test = pd.read_csv(f\"../../data/kalapa/{data_version_input}/test.csv\")"
   ]
  },
  {
   "cell_type": "code",
   "execution_count": 5,
   "metadata": {
    "ExecuteTime": {
     "end_time": "2020-07-30T06:48:14.689318Z",
     "start_time": "2020-07-30T06:48:14.679464Z"
    },
    "scrolled": true
   },
   "outputs": [
    {
     "data": {
      "text/plain": [
       "'\\nf =  \"maCv\"\\nvc1 = sorted(df_train[f].value_counts().index)\\nprint(vc1)\\nprint(len(vc1))\\nprint(\"#####################\")\\nvc2 = sorted(df_test[f].value_counts().index)\\nprint(vc2)\\nprint(len(vc2))\\na = []\\nfor i in vc2:\\n    if i not in vc1:\\n        a.append(i)\\nprint(len(a))\\nprint(a)\\n'"
      ]
     },
     "execution_count": 5,
     "metadata": {},
     "output_type": "execute_result"
    }
   ],
   "source": [
    "\"\"\"\n",
    "f =  \"maCv\"\n",
    "vc1 = sorted(df_train[f].value_counts().index)\n",
    "print(vc1)\n",
    "print(len(vc1))\n",
    "print(\"#####################\")\n",
    "vc2 = sorted(df_test[f].value_counts().index)\n",
    "print(vc2)\n",
    "print(len(vc2))\n",
    "a = []\n",
    "for i in vc2:\n",
    "    if i not in vc1:\n",
    "        a.append(i)\n",
    "print(len(a))\n",
    "print(a)\n",
    "\"\"\""
   ]
  },
  {
   "cell_type": "code",
   "execution_count": 6,
   "metadata": {
    "ExecuteTime": {
     "end_time": "2020-07-30T06:48:14.782175Z",
     "start_time": "2020-07-30T06:48:14.694787Z"
    },
    "code_folding": []
   },
   "outputs": [],
   "source": [
    "def fixmaCv(x):\n",
    "    lower = str(x).lower()\n",
    "    if any([x in lower for x in [\"nhân viên\", \"kế toán\", \"tạp vụ\",\\\n",
    "                                \"thu ngân\", \"phóng viên\", \"giao dịch\", \"operator\", \"cnv\",\\\n",
    "                                \"huấn luyện viên\", \"ktoán\", \"nv\", \"lễ tân\", \"thư ký \",\\\n",
    "                                \"gsbh\", \"tiếp viên\", \"nhõn viờn\", \"chăm sóc\", \"hướng dẫn viên\", \\\n",
    "                                \"kĩ sư\",  \"cấp dưỡng\", \\\n",
    "                                \"nv\", \"lưu hóa\", \"nhân  viên\", \"lưu trữ viên\", \\\n",
    "                                \"phát hành báo\", \"ktv\", \"kiến trúc sư\", \"kinh tế viên\", \"staff\", \"checker\",\\\n",
    "                                \"sỹ quan\", \"dịch vụ\",  \\\n",
    "                                \"cộng tác viên\", \"qc ksqt\", \"nhân vên\", \"kế hoạch sản xuất\", \"nhaõn vieõn\", \\\n",
    "                                \"thí nghiệm\", \"thông kê\",  \"k? s?\", \"thư ký\", \"hợp đồng\", \\\n",
    "                                \"thẩm phán\", \"thao tác viên\", \"thủ quỹ\", \"lấy mẫu\", \"LÁI XE\".lower(), \\\n",
    "                                \"biên tập\", \"ksxd\", \"phiên dịch\", \"tb tuyên huấn\", \"sales\", \"thường trực\", \\\n",
    "                                \"trợ lý\", \"tiếp thực\",  \\\n",
    "                                \"trình dược viên\", \"btđtn\", \"phúng viờn\", \\\n",
    "                                \"thông dịch\", \"tiếp thị\", \"tư vấn\", \"tổng đài\", \"vi tính\", \"viên chức\", \\\n",
    "                                \"văn phòng\", \"văn thư\", 'Thiết Kế'.lower(), \"vận hành\", \"nhan vien\", \\\n",
    "                                \"kiểm tra chất lượng\", \"pbt\", \"phi công\", \"laptop\",\\\n",
    "                                \"quay phim\", \"thư viện viên\", \\\n",
    "                                \"techcombank\", \"cảng vụ viên\", \"trainee\", \"bhxh\", \"marketing\", \\\n",
    "                                \"tuyên truyền viên\",  \"kế hoạch\",  \\\n",
    "                                \"an toàn viên\", \"CHỈ SỐ VIÊN\".lower(), \\\n",
    "                                \"thu mua\",  \\\n",
    "                                \"quản trị mạng\", \"thơợ\", \"thống kê\", \"thủ  quỹ\",  \\\n",
    "                                \"điện thoại\", \"điện thọai\", \"đội thông tin\", \"đón  tiếp khách hàng\", \\\n",
    "                                \"đơn hàng\", \"đại diện\", \"điều phối viên\", \"n.v\", \"bán vé\", \"c«ng nh©n\", \\\n",
    "                                  \"máy dán\", \"tv\",  \"đồ họa\"]]):\n",
    "        return \"NV\"\n",
    "    elif any([x in lower for x in [\"thủ kho\", \"kiểm phẩm\", \"kiểm gấp\", \"kiểm soát viên\", \"kiểm ngân\", \\\n",
    "                                  \"kiểm tra viên\", \"kiểm hàng\", \"giỏm sỏt\", \"phụ trách kiểm hàng\", \\\n",
    "                                  \"trực buồng\", \"ks\",\"giám éịnh viên\", \"kiểm định viên\",  \"giám định\", \"gs camera\"]]):\n",
    "        return \"GS\"\n",
    "    elif any([x in lower for x in [\"kỹ\",\"chuyên viên\",\"kĩ thuật viên\",\"kĩ thuật\", \"kỹ thuật viên\",\\\n",
    "                                 \"kỷ thuật viên\",\"lập trình viên\", \"chuyờn viờn\", \"chuyªn viªn\",]]):\n",
    "        return \"KTV\"\n",
    "    elif any([x in lower for x in [\"cán bộ\", \"cán sự\", \"bí thư đoàn\", \"cb\", \"phường đội\", \"trưởng công an\", \\\n",
    "                                  \"công an viên\", \"an ninh viên\",\"tổ viên\", \"công chức\", \"quản sinh\", \\\n",
    "                                   \"bí thư xã  đoàn\",\"điều tra viên\", \"đăng kiểm\", \"cỏn bộ\",\"đtv\", \"trực ban\"]]):\n",
    "        return \"CB\"\n",
    "    elif any([x in lower for x in [\"tổ trưởng\", \"giám sát\", \"quản lý\", \"cửa hàng trưởng\", \"chuyền trưởng\", \"kho\",\\\n",
    "                                  \"phó\", \"pp\", \"nhóm trưởng\", \"trưởng phòng\", \"trưởng ca\", \"trưởng tàu khách\", \\\n",
    "                                  \"trưởng nhóm\", \"cửa hàng trưởng\", \"trưởng bộ\", \"tổng phụ trách\", \"đào tạo\", \\\n",
    "                                  \"phụ trách phòng\", \"quản doanh\", \"vhtt\", \"trưởng ban\", \"dự án\", \"nhân sự\",\\\n",
    "                                  \"chỉ huy\", \"triển khai\", \"trưởng kiểm soát\", \"điều hành\", \"đội trưởng\", \\\n",
    "                                  \"chỉ huy\", \"qlsx\", \"t? tr??ng\", \"may\"]]):\n",
    "        return \"QL\"\n",
    "    elif any([x in lower for x in [\"công\",  \"bảo vệ\", \"thợ\", \"lao động\", \"bán hàng\",\\\n",
    "                                \"phụ kho\", \"phụ việc\", \"phết\", \"bảo mẫu\", \"phục vụ\", \"đóng gói\", \"ép cao tần\", \\\n",
    "                                \"cn\", \"sản Phẩm\", \"giao nhận\",\"cụng nhõn\", \"gia công\", \"kiÓm tra\".lower(), \\\n",
    "                                \"cô nuôi\", \"bảo dưỡng\", \"c.n\", \"coi bồn\", \"cạo mủ\", \"coõng nhaõn\", \"khai thác\",\\\n",
    "                                \"cod\", \"bốc xếp\", \"bếp\", \"lái máy\", \"lđpt\", \"khuôn\", \"hàng rong\", \"phụ bếp\",\\\n",
    "                                \"phụ tá\", \"thủ công\", \"dệt\", \"sửa chữa\", \"băng chuyền\", \"lắp ráp\", \\\n",
    "                                \"chà nhám\", \"cn\", \"bếp phụ\", \"chụp hình\", \"KHUNG SắT\".lower(), \"kcs chuyền\", \\\n",
    "                                \"lao động\", \"thành hình\", \"lao công\", \"cônh nhân\", \"thi công\", \"cán lần 1\", \\\n",
    "                                \"lái phụ máy\", \"thủy thủ\", \"gác ghi\", \"quay ghi\", \"bảo trì\", \"bảo mẩu\", \\\n",
    "                                \"máy 3 tàu\", \"giao hàng\", \"trực chính\", \"hỗ trợ\", \"lái xúc gạt\", \"công  nhân\",\\\n",
    "                                \"lđhđ\", \"lao d?ng\", \"c. nhân\", \"pv nước\", \"hđlđ\", \"vệ sinh\", \"phụ\", \"vệ sỹ\", \\\n",
    "                                \"xếp hộp\", \"barista\", \"hàn điện\", \"thuỷ thủ\", \"xây dựng\", \"b?o v?\", \\\n",
    "                                \"mài phá\", \"xếp da\", \"worker\", \"cong nhan\", \"pha chế\", \\\n",
    "                                \"máy trưởng\", \"phụ trách sản xuất\", \"trải vải\", \"YếN TIệC\".lower(), \"gấp xếp\", \\\n",
    "                                \"in sơ đồ\", \"lđ phổ thông\", \"mài\", \"nhồi mút\", \"ép\", \"gói\", \"đóng\", \\\n",
    "                                \"đội viên\", \"đánh máy\", \"đứng máy\", \"ủi\", \"săm\", 'atlđ']]):\n",
    "        return \"CN\"\n",
    "    elif any([x in lower for x in [\"lái xe\", \"tài xế\", \"phụ xe\",\"lái cẩu\", \"vân hành\", ]]):\n",
    "        return \"TX\"\n",
    "    elif any([x in lower for x in [\"giáo viên\", \"gv\", \"giảng viên\", \"chủ nhiệm lớp\", \"giáo viến\", \\\n",
    "                                   \"Giáo viến\".lower(), \"mầm non\"]]):\n",
    "        return \"GV\"\n",
    "    elif any([x in lower for x in [\"kinh doanh\", \"kinh  doanh\"]]):\n",
    "        return \"KD\"\n",
    "\n",
    "    elif any([x in lower for x in [\"hiệu trưởng\", \"chủ tịch\", \"pgđ\", \"giám đốc\"]]):\n",
    "        return \"GĐ\"\n",
    "    elif any([x in lower for x in [\"điều dưỡng\", \"hộ lý\", \"nữ hộ sinh\", \"h? lý\", \"hộ sinh\"]]):\n",
    "        return \"ĐD\"\n",
    "    elif any([x in lower for x in [\"y sĩ\", \"dược sỹ\", \"bác sĩ\", \"bác sỹ\", \"dược\", \"dược tá\", \"thú y\", \"y sỹ\",\\\n",
    "                                  \"y tế\", \"y công\", \"y tá\", \"dựơc tá\", \"ytth\"]]):\n",
    "        return \"BS\"\n",
    "    elif any([x in lower for x in [\"cử nhân\", \"cđ\", \"học viên\", \"tc\", \"cao đẳng\", \"cao đẵng\", \"trung cấp\"]]):\n",
    "        return \"HS\"\n",
    "    elif any([x in lower for x in [\"diễn viên\", \"ca sĩ\"]]):\n",
    "        return \"DV-CS\"\n",
    "    elif any([x in lower for x in [\"undefined\", \"nguyễn thế hưng\", \"ln091\", \"thieu chuc danh\", \"th noọng hẹt\", \\\n",
    "                                  \"875 lk\", \"-\", \"p.xnk\", \"cỏn b?\", '22568', \"unt\", \"01019882\", \"xtnt\", \"ltv\", \\\n",
    "                                  \"plđg hc\", \"mia\", \"pqtd\", \"kttntl\", \"llqs\", \"kcsmhm\", \"nt\", \"dtm\", \"i\", \"qc\",\\\n",
    "                                  '/  /', '1', '14', 'a', 'chủ hộ', 'coõng vuù', 'kcs', 'pk b2c',\\\n",
    "                                   'xt2', 'kcs', 'sxct']]):\n",
    "        return np.nan\n",
    "    return x"
   ]
  },
  {
   "cell_type": "code",
   "execution_count": 7,
   "metadata": {
    "ExecuteTime": {
     "end_time": "2020-07-30T06:48:15.292703Z",
     "start_time": "2020-07-30T06:48:14.786097Z"
    }
   },
   "outputs": [],
   "source": [
    "df_transform = pd.concat([df_train.iloc[:,2:], df_test.iloc[:,1:]], axis = 0)"
   ]
  },
  {
   "cell_type": "code",
   "execution_count": 8,
   "metadata": {
    "ExecuteTime": {
     "end_time": "2020-07-30T06:48:15.308562Z",
     "start_time": "2020-07-30T06:48:15.296400Z"
    }
   },
   "outputs": [],
   "source": [
    "data_type = {\n",
    "    \"cat_num\":[\"Field_22\",\"Field_13\", \"Field_41\", \"Field_42\",\"Field_50\", \"Field_51\", \"Field_53\",\\\n",
    "               \"Field_73\",  \"partner0_A\", \"partner0_B\", \"partner0_C\", \"partner0_D\", \"partner0_E\",\\\n",
    "               \"partner0_F\", \"partner0_G\", \"partner0_H\", \"partner1_A\", \"partner1_C\", \"partner1_G\", \"partner1_H\",\\\n",
    "               \"partner2_A\", \"partner2_C\", \"partner2_D\", \"partner2_F\", \"partner2_H\",\"partner3_A\", \"partner3_D\",\\\n",
    "               \"partner3_E\", \"partner4_L\", \"partner5_A\", \"partner5_D\", \"partner5_G\", \"Field_3\", \"Field_38\"],\n",
    "    \n",
    "    \"cat_str\" : [\"Field_4\", \"Field_12\",\"Field_36\", \"Field_54\", \"Field_62\",\"Field_65\",\"Field_66\",\\\n",
    "                 \"info_social_sex\", \"brief\", \"gioiTinh\",\"currentLocationState\", \"Field_61\", \\\n",
    "                 \"currentLocationCountry\", 'homeTownState', 'data.basic_info.locale',\\\n",
    "                \"homeTownCountry\", \"Field_55\"], \n",
    "    \n",
    "    \"date\" : [\"Field_1\", \"Field_2\", \"Field_5\", \"Field_6\", \"Field_7\", \"Field_8\", \"Field_9\", \"Field_11\",\\\n",
    "             \"Field_15\", \"Field_25\", \"Field_32\", \"Field_33\", \"Field_35\", \"Field_40\",\"Field_43\", \"Field_44\", \\\n",
    "              \"F_startDate\", \"F_endDate\", \"E_startDate\", \"E_endDate\", \"C_startDate\",\n",
    "             \"C_endDate\", \"G_startDate\", \"G_endDate\", \"A_startDate\", \"A_endDate\", \"ngaySinh\", \"Field_34\"],\n",
    "    \n",
    "    \"address\" : [\"Field_45\", \"Field_48\", \"Field_49\", \"Field_56\", 'homeTownName', \"currentLocationCity\", \\\n",
    "                 \"homeTownCity\", \"diaChi\", \"currentLocationName\"],\n",
    "    \n",
    "    \"drop\" : [\"Field_18\", \"Field_68\", \"Field_46\"]\n",
    "}"
   ]
  },
  {
   "cell_type": "code",
   "execution_count": 9,
   "metadata": {
    "ExecuteTime": {
     "end_time": "2020-07-30T06:48:15.424885Z",
     "start_time": "2020-07-30T06:48:15.311891Z"
    }
   },
   "outputs": [],
   "source": [
    "lst = data_type[\"cat_num\"] + data_type[\"cat_str\"] + data_type[\"date\"] + data_type[\"address\"] + data_type[\"drop\"]"
   ]
  },
  {
   "cell_type": "code",
   "execution_count": 10,
   "metadata": {
    "ExecuteTime": {
     "end_time": "2020-07-30T06:48:15.535276Z",
     "start_time": "2020-07-30T06:48:15.427313Z"
    }
   },
   "outputs": [
    {
     "data": {
      "text/plain": [
       "'\\nfor f in df_transform.columns:\\n    vc = df_transform[f].value_counts()\\n    print(f\"{f} : {len(vc)} : {vc.index[:10]}\")\\n'"
      ]
     },
     "execution_count": 10,
     "metadata": {},
     "output_type": "execute_result"
    }
   ],
   "source": [
    "\"\"\"\n",
    "for f in df_transform.columns:\n",
    "    vc = df_transform[f].value_counts()\n",
    "    print(f\"{f} : {len(vc)} : {vc.index[:10]}\")\n",
    "\"\"\""
   ]
  },
  {
   "cell_type": "markdown",
   "metadata": {},
   "source": [
    "consider transform: \"brief\" \\\n",
    "consider drop: \"Field_56\", \"maCv\"\n"
   ]
  },
  {
   "cell_type": "code",
   "execution_count": 11,
   "metadata": {
    "ExecuteTime": {
     "end_time": "2020-07-30T06:48:16.040913Z",
     "start_time": "2020-07-30T06:48:15.542483Z"
    }
   },
   "outputs": [],
   "source": [
    "df_transform = df_transform.drop(data_type[\"drop\"], axis = 1)\n",
    "df_transform = df_transform.drop(data_type[\"address\"], axis = 1)"
   ]
  },
  {
   "cell_type": "code",
   "execution_count": 12,
   "metadata": {
    "ExecuteTime": {
     "end_time": "2020-07-30T06:48:16.052123Z",
     "start_time": "2020-07-30T06:48:16.043728Z"
    },
    "code_folding": [
     0
    ]
   },
   "outputs": [],
   "source": [
    "def fix38(x):\n",
    "    if x == 0.0 or x == \"0\" or x == \"0.0\":\n",
    "        return 0\n",
    "    if x == 1.0 or x == \"1\":\n",
    "        return 1\n",
    "    return np.nan"
   ]
  },
  {
   "cell_type": "code",
   "execution_count": 13,
   "metadata": {
    "ExecuteTime": {
     "end_time": "2020-07-30T06:48:16.168434Z",
     "start_time": "2020-07-30T06:48:16.055960Z"
    },
    "code_folding": [
     0
    ]
   },
   "outputs": [],
   "source": [
    "def fix54(x):\n",
    "    if x == \"1\" or x == \"01\" or x == ' P. Tân Phú':\n",
    "        return \"VN\"\n",
    "    if x in ['IT', 'GB', 'SE', 'TK', 'BD']:\n",
    "        return np.nan\n",
    "    return x"
   ]
  },
  {
   "cell_type": "code",
   "execution_count": 14,
   "metadata": {
    "ExecuteTime": {
     "end_time": "2020-07-30T06:48:16.243455Z",
     "start_time": "2020-07-30T06:48:16.172128Z"
    },
    "code_folding": [
     0
    ]
   },
   "outputs": [],
   "source": [
    "def fix55(x):\n",
    "    if x in ['BC', 'BG', 'CN', 'CO', 'DB', 'EL', 'FO', 'H5', 'KX', 'N7', 'NR', 'SD', 'SJ', 'ST', 'WD']:\n",
    "        return np.nan\n",
    "    return x"
   ]
  },
  {
   "cell_type": "code",
   "execution_count": 15,
   "metadata": {
    "ExecuteTime": {
     "end_time": "2020-07-30T06:48:16.325316Z",
     "start_time": "2020-07-30T06:48:16.249943Z"
    },
    "code_folding": [
     0
    ]
   },
   "outputs": [],
   "source": [
    "def fix61(x):\n",
    "    if x == 'Chất độc hóa học':\n",
    "        return np.nan\n",
    "    return x"
   ]
  },
  {
   "cell_type": "code",
   "execution_count": 16,
   "metadata": {
    "ExecuteTime": {
     "end_time": "2020-07-30T06:48:16.424970Z",
     "start_time": "2020-07-30T06:48:16.327331Z"
    },
    "code_folding": [
     0
    ]
   },
   "outputs": [],
   "source": [
    "def fixcurrentLocationState(x):\n",
    "    if x in ['Ilhas', 'Daegu', 'Auckland Region', 'Basse-Normandie', 'Chongqing', \"Provence-Alpes-Côte d'Azur\",\\\n",
    "             'Rajshahi Division', 'Hubei', 'Mandalay', 'Missouri', 'Pathum Thani', 'Central Java', 'New Hampshire',\\\n",
    "             'Odisha', 'South Australia', 'Chon Buri', 'Haute-Normandie', 'Kirov Oblast', 'Primorsky Krai', 'Arizona',\\\n",
    "             'Ulsan', 'Kanagawa Prefecture', 'Metro Manila', 'Kachin State', 'Svay Rieng Province', 'Nagano Prefecture',\\\n",
    "             'Shiga Prefecture', 'Oslo', 'Indiana', 'Hunan', 'Bolikhamsai Province', 'Krasnoyarsk Krai',\\\n",
    "             'Distrito Nacional', 'Chiba Prefecture']:\n",
    "        return np.nan\n",
    "    return x"
   ]
  },
  {
   "cell_type": "code",
   "execution_count": 17,
   "metadata": {
    "ExecuteTime": {
     "end_time": "2020-07-30T06:48:16.507765Z",
     "start_time": "2020-07-30T06:48:16.427080Z"
    },
    "code_folding": [
     0
    ]
   },
   "outputs": [],
   "source": [
    "def fixcurrentLocationCountry(x):\n",
    "    if x in ['Macau', 'New Zealand', 'Dominican Republic']:\n",
    "        return np.nan\n",
    "    return x"
   ]
  },
  {
   "cell_type": "code",
   "execution_count": 18,
   "metadata": {
    "ExecuteTime": {
     "end_time": "2020-07-30T06:48:16.591316Z",
     "start_time": "2020-07-30T06:48:16.509844Z"
    },
    "code_folding": [
     0
    ]
   },
   "outputs": [],
   "source": [
    "def fixhomeTownState(x):\n",
    "    if x in ['Hunan', 'Kachin State', 'Distrito Federal', 'Bizerte Governorate', 'Central Java',\\\n",
    "             'Svay Rieng Province', 'Distrito Nacional', 'County Mayo', 'Odisha', 'Lazio', 'Nevada',\\\n",
    "             'Daegu', 'Arizona', 'Equatoria', 'Fukuoka Prefecture', 'Taoyuan City', 'Kandal Province', \\\n",
    "             'State of Mexico', 'Hebei', 'New South Wales', 'Capital Governorate', 'Oregon']:\n",
    "        return np.nan\n",
    "    return x"
   ]
  },
  {
   "cell_type": "code",
   "execution_count": 19,
   "metadata": {
    "ExecuteTime": {
     "end_time": "2020-07-30T06:48:16.674360Z",
     "start_time": "2020-07-30T06:48:16.593716Z"
    },
    "code_folding": [
     0
    ]
   },
   "outputs": [],
   "source": [
    "def fixhomeTownCountry(x):\n",
    "    if x in ['Australia', 'Bahrain', 'Dominican Republic', 'Ireland', 'South Sudan', 'Tunisia']:\n",
    "        return np.nan\n",
    "    return x"
   ]
  },
  {
   "cell_type": "code",
   "execution_count": 20,
   "metadata": {
    "ExecuteTime": {
     "end_time": "2020-07-30T06:48:16.778593Z",
     "start_time": "2020-07-30T06:48:16.676545Z"
    },
    "code_folding": [
     0
    ]
   },
   "outputs": [],
   "source": [
    "def fixdata_basic_info_locale(x):\n",
    "    if x == \"_VN\":\n",
    "        return 'vi_VN'\n",
    "    elif x in ['lv_LV', 'ru_RU']:\n",
    "        return np.nan\n",
    "    return x"
   ]
  },
  {
   "cell_type": "code",
   "execution_count": 21,
   "metadata": {
    "ExecuteTime": {
     "end_time": "2020-07-30T06:48:17.008503Z",
     "start_time": "2020-07-30T06:48:16.784313Z"
    },
    "code_folding": [
     0
    ]
   },
   "outputs": [],
   "source": [
    "def calculate_age(born):\n",
    "    born = datetime.strptime(born,'%Y-%m-%d').date()\n",
    "    today = datetime.today()\n",
    "    return today.year - born.year - ((today.month, today.day) < (born.month, born.day))"
   ]
  },
  {
   "cell_type": "code",
   "execution_count": 22,
   "metadata": {
    "ExecuteTime": {
     "end_time": "2020-07-30T06:48:17.100722Z",
     "start_time": "2020-07-30T06:48:17.023873Z"
    },
    "code_folding": [
     0
    ]
   },
   "outputs": [],
   "source": [
    "def combine_gender(s):\n",
    "    x, y = s\n",
    "    \n",
    "    if x != x and y != y:\n",
    "        return \"nan\"\n",
    "    \n",
    "    if x != x:\n",
    "        return y.lower()\n",
    "    \n",
    "    return x.lower()\n",
    "\n",
    "def process_gender(df):\n",
    "    df[\"gender\"] = df[[\"gioiTinh\", \"info_social_sex\"]].apply(combine_gender, axis=1)\n",
    "    return df"
   ]
  },
  {
   "cell_type": "code",
   "execution_count": 23,
   "metadata": {
    "ExecuteTime": {
     "end_time": "2020-07-30T06:48:17.175381Z",
     "start_time": "2020-07-30T06:48:17.105276Z"
    }
   },
   "outputs": [],
   "source": [
    "DATE = [\"Field_{}\".format(i) for i in [5, 6, 7, 8, 9, 11, 15, 25, 32, 33, 35, 40]]\n",
    "DATETIME = [\"Field_{}\".format(i) for i in [1, 2, 43, 44]]"
   ]
  },
  {
   "cell_type": "code",
   "execution_count": 24,
   "metadata": {
    "ExecuteTime": {
     "end_time": "2020-07-30T06:48:17.250900Z",
     "start_time": "2020-07-30T06:48:17.178714Z"
    },
    "code_folding": [
     0,
     12
    ]
   },
   "outputs": [],
   "source": [
    "def datetime_normalize(s):\n",
    "    if s != s:\n",
    "        return np.nan\n",
    "    \n",
    "    s = s.split(\".\")[0]\n",
    "    if s[-1] == \"Z\":\n",
    "        s = s[:-1]\n",
    "        \n",
    "    date, time = s.split(\"T\")\n",
    "    datetime_obj = datetime.strptime(s, \"%Y-%m-%dT%H:%M:%S\")\n",
    "    return datetime_obj\n",
    "\n",
    "def date_normalize(s):\n",
    "    if s != s:\n",
    "        return np.nan\n",
    "    \n",
    "    try:\n",
    "        datetime_obj = datetime.strptime(s, \"%m/%d/%Y\")\n",
    "    except:\n",
    "        datetime_obj = datetime.strptime(s, \"%Y-%m-%d\")\n",
    "        \n",
    "    return datetime_obj"
   ]
  },
  {
   "cell_type": "code",
   "execution_count": 25,
   "metadata": {
    "ExecuteTime": {
     "end_time": "2020-07-30T06:48:17.337197Z",
     "start_time": "2020-07-30T06:48:17.253480Z"
    },
    "code_folding": [
     0
    ]
   },
   "outputs": [],
   "source": [
    "def process_datetime_cols(df):\n",
    "    cat_cols = []\n",
    "    for col in DATETIME:\n",
    "        df[col] = df[col].apply(datetime_normalize)\n",
    "        \n",
    "    for col in DATE:\n",
    "        df[col] = df[col].apply(date_normalize)\n",
    "\n",
    "    cat_cols += DATE + DATETIME\n",
    "    for col in DATE + DATETIME:\n",
    "        df[col] = df[col].dt.strftime('%m-%Y')\n",
    "    \n",
    "    for cat in ['F', 'E', 'C', 'G', 'A']:\n",
    "        df[f'{cat}_startDate'] = pd.to_datetime(df[f\"{cat}_startDate\"], infer_datetime_format=True)\n",
    "        df[f'{cat}_endDate'] = pd.to_datetime(df[f\"{cat}_endDate\"], infer_datetime_format=True)\n",
    "        \n",
    "        df[f'{cat}_startDate'] = df[f'{cat}_startDate'].dt.strftime('%m-%Y')\n",
    "        df[f'{cat}_endDate'] = df[f'{cat}_endDate'].dt.strftime('%m-%Y')\n",
    "        \n",
    "        cat_cols.append(f'{cat}_startDate')\n",
    "        cat_cols.append(f'{cat}_endDate')\n",
    "    \n",
    "    for col in cat_cols:\n",
    "        df[col] = df[col]\n",
    "        \n",
    "    return df"
   ]
  },
  {
   "cell_type": "code",
   "execution_count": 26,
   "metadata": {
    "ExecuteTime": {
     "end_time": "2020-07-30T06:48:17.467542Z",
     "start_time": "2020-07-30T06:48:17.340149Z"
    },
    "code_folding": []
   },
   "outputs": [],
   "source": [
    "def str_normalize(s):\n",
    "    s = str(s).strip().lower()\n",
    "    s = re.sub(' +', \" \", s)\n",
    "    return s\n",
    "def process_location(df):\n",
    "    for col in [\"currentLocationLocationId\", \"homeTownLocationId\", \"currentLocationLatitude\", \"currentLocationLongitude\", \n",
    "                   \"homeTownLatitude\", \"homeTownLongitude\"]:\n",
    "        df[col].replace(0, np.nan, inplace=True)\n",
    "\n",
    "    df[\"currentLocationLocationId\"] = df[\"currentLocationLocationId\"].apply(str_normalize)\n",
    "    df[\"homeTownLocationId\"] = df[\"homeTownLocationId\"].apply(str_normalize)\n",
    "\n",
    "    return df"
   ]
  },
  {
   "cell_type": "code",
   "execution_count": 27,
   "metadata": {
    "ExecuteTime": {
     "end_time": "2020-07-30T06:49:01.583092Z",
     "start_time": "2020-07-30T06:48:17.471855Z"
    }
   },
   "outputs": [],
   "source": [
    "df_transform[\"Field_38\"] = df_transform[\"Field_38\"].apply(fix38)\n",
    "df_transform[\"Field_54\"] = df_transform[\"Field_54\"].apply(fix54)\n",
    "df_transform[\"Field_55\"] = df_transform[\"Field_55\"].apply(fix55)\n",
    "df_transform[\"Field_61\"] = df_transform[\"Field_61\"].apply(fix61)\n",
    "\n",
    "df_transform[\"currentLocationState\"] = df_transform[\"currentLocationState\"].apply(fixcurrentLocationState)\n",
    "df_transform[\"currentLocationCountry\"] = df_transform[\"currentLocationCountry\"].apply(fixcurrentLocationCountry)\n",
    "df_transform[\"homeTownState\"] = df_transform[\"homeTownState\"].apply(fixhomeTownState)\n",
    "df_transform[\"homeTownCountry\"] = df_transform[\"homeTownCountry\"].apply(fixhomeTownCountry)\n",
    "df_transform['data.basic_info.locale'] = df_transform['data.basic_info.locale'].apply(fixdata_basic_info_locale)\n",
    "df_transform[\"age\"] = df_transform[\"ngaySinh\"].map(lambda x: calculate_age(x) if x is not np.nan else x)\n",
    "df_transform[\"maCv\"] = df_transform[\"maCv\"].apply(fixmaCv)\n",
    "df_transform[\"null_sum\"] = df_transform.isnull().sum(axis=1)\n",
    "\n",
    "df_transform = process_gender(df_transform)\n",
    "df_transform = process_datetime_cols(df_transform)\n",
    "\n",
    "df_transform = process_location(df_transform)"
   ]
  },
  {
   "cell_type": "code",
   "execution_count": 28,
   "metadata": {
    "ExecuteTime": {
     "end_time": "2020-07-30T06:49:01.886308Z",
     "start_time": "2020-07-30T06:49:01.597365Z"
    }
   },
   "outputs": [],
   "source": [
    "drop = [\"gioiTinh\", \"info_social_sex\", \"ngaySinh\"]\n",
    "df_transform = df_transform.drop(drop, axis = 1)"
   ]
  },
  {
   "cell_type": "code",
   "execution_count": 29,
   "metadata": {
    "ExecuteTime": {
     "end_time": "2020-07-30T06:49:12.279974Z",
     "start_time": "2020-07-30T06:49:01.890693Z"
    },
    "code_folding": []
   },
   "outputs": [],
   "source": [
    "categoricals = []\n",
    "for header in df_transform.columns:\n",
    "    if str(df_transform[header].dtypes) is \"object\":\n",
    "        categoricals.append(header)\n",
    "for col in categoricals:\n",
    "    df_transform[col] = df_transform[col].astype(str)\n",
    "lbl = LabelEncoder()\n",
    "for col in categoricals:\n",
    "    \n",
    "    encoder = ce.CountFrequencyCategoricalEncoder(encoding_method='frequency')\n",
    "    \n",
    "    df_transform[col] = df_transform[col].fillna('None')\n",
    "    # Only take the common values in Train/Test-set\n",
    "    common_vals = list(set(df_transform[col]))\n",
    "    \n",
    "    # Take if vals appeared both 5 times\n",
    "    common_vals = set(df_transform[col].value_counts()[df_transform[col].value_counts()> 100].index)\n",
    "    \n",
    "    # Replace not-common values with \"Missing\" or np.NaN      \n",
    "    df_transform.loc[~df_transform[col].isin(common_vals), col] = 'Missing'\n",
    "\n",
    "    # Implement LE\n",
    "    lbl.fit(df_transform[col].tolist())\n",
    "    df_transform[col] = lbl.transform(df_transform[col])\n"
   ]
  },
  {
   "cell_type": "code",
   "execution_count": 30,
   "metadata": {
    "ExecuteTime": {
     "end_time": "2020-07-30T06:49:12.694992Z",
     "start_time": "2020-07-30T06:49:12.285740Z"
    },
    "code_folding": []
   },
   "outputs": [],
   "source": [
    "fill_1 = []\n",
    "for header in df_transform.columns:\n",
    "    vc = df_transform[header].value_counts()\n",
    "    if len(vc) < 2:\n",
    "        fill_1.append(header)\n",
    "for col in fill_1:\n",
    "    df_transform[col] = df_transform[col].fillna(-1)"
   ]
  },
  {
   "cell_type": "code",
   "execution_count": 31,
   "metadata": {
    "ExecuteTime": {
     "end_time": "2020-07-30T06:49:13.001615Z",
     "start_time": "2020-07-30T06:49:12.697688Z"
    }
   },
   "outputs": [],
   "source": [
    "df_transform = df_transform.fillna(df_transform.mean())"
   ]
  },
  {
   "cell_type": "code",
   "execution_count": 32,
   "metadata": {
    "ExecuteTime": {
     "end_time": "2020-07-30T06:49:13.117416Z",
     "start_time": "2020-07-30T06:49:13.007540Z"
    }
   },
   "outputs": [],
   "source": [
    "import re\n",
    "df_transform = df_transform.rename(columns = lambda x:re.sub('[^A-Za-z0-9_]+', '', x))"
   ]
  },
  {
   "cell_type": "code",
   "execution_count": 33,
   "metadata": {
    "ExecuteTime": {
     "end_time": "2020-07-30T06:49:13.528455Z",
     "start_time": "2020-07-30T06:49:13.123035Z"
    }
   },
   "outputs": [],
   "source": [
    "train_dev = pd.concat([df_train.id, df_train.label, df_transform.iloc[:len(df_train),:]], axis = 1)\n",
    "test = pd.concat([df_test.id, df_transform.iloc[len(df_train):,:]], axis = 1)"
   ]
  },
  {
   "cell_type": "code",
   "execution_count": 34,
   "metadata": {
    "ExecuteTime": {
     "end_time": "2020-07-30T06:49:13.546037Z",
     "start_time": "2020-07-30T06:49:13.537637Z"
    }
   },
   "outputs": [],
   "source": [
    "params = {\n",
    "    'boosting_type': 'gbdt',\n",
    "    'objective': 'binary',\n",
    "    'metric': 'auc',\n",
    "    'verbose': 1,\n",
    "    'learning_rate': 0.05,\n",
    "    'num_leaves': 31,\n",
    "    'feature_fraction': 0.7,\n",
    "    'min_data_in_leaf': 200,\n",
    "    'bagging_fraction': 0.8,\n",
    "    'bagging_freq': 20,\n",
    "    'min_hessian': 0.01,\n",
    "    'feature_fraction_seed': 2,\n",
    "    'bagging_seed': 3\n",
    "}"
   ]
  },
  {
   "cell_type": "code",
   "execution_count": 35,
   "metadata": {
    "ExecuteTime": {
     "end_time": "2020-07-30T06:49:13.639078Z",
     "start_time": "2020-07-30T06:49:13.549521Z"
    }
   },
   "outputs": [],
   "source": [
    "def compute_gini(labels, preds):\n",
    "    fpr, tpr, thresholds = metrics.roc_curve(labels, preds, pos_label=1)\n",
    "    auc = metrics.auc(fpr, tpr)\n",
    "    gini = 2 * auc - 1\n",
    "    return gini"
   ]
  },
  {
   "cell_type": "code",
   "execution_count": 36,
   "metadata": {
    "ExecuteTime": {
     "end_time": "2020-07-30T07:03:34.383893Z",
     "start_time": "2020-07-30T06:49:13.642485Z"
    }
   },
   "outputs": [
    {
     "name": "stdout",
     "output_type": "stream",
     "text": [
      "0.4701569637303855\n",
      "0.47792502014890736\n",
      "0.47523437840114724\n",
      "0.4815099414383961\n"
     ]
    }
   ],
   "source": [
    "iter_predicttion = []\n",
    "for i in range(1):\n",
    "    pred_stack = []\n",
    "    kf = KFold(n_splits = 4, shuffle=True)\n",
    "    fold = kf.split(train_dev)\n",
    "    for train_index, dev_index in fold:\n",
    "        train1 = train_dev.iloc[train_index,2:]\n",
    "        dev1 = train_dev.iloc[dev_index,2:]\n",
    "\n",
    "        d_train = lgb.Dataset(train1, label = train_dev.loc[train_index][\"label\"])\n",
    "        clf = lgb.train(params,d_train, 2500)\n",
    "        predictions_test = clf.predict(test.iloc[:,1:])\n",
    "        predictions_dev = clf.predict(dev1)\n",
    "        pred_stack.append(predictions_test)\n",
    "        print(compute_gini(train_dev.loc[dev_index][\"label\"], predictions_dev))\n",
    "    predictions = np.asarray(pred_stack)\n",
    "    predictions = np.mean(predictions, axis = 0)\n",
    "\n",
    "    iter_predicttion.append(predictions)"
   ]
  },
  {
   "cell_type": "code",
   "execution_count": 37,
   "metadata": {
    "ExecuteTime": {
     "end_time": "2020-07-30T07:03:34.506829Z",
     "start_time": "2020-07-30T07:03:34.386592Z"
    }
   },
   "outputs": [],
   "source": [
    "predictions = np.asarray(iter_predicttion)\n",
    "predictions = np.mean(predictions, axis = 0)\n",
    "predictions = list(predictions)\n",
    "\n",
    "for i in range(len(predictions)):\n",
    "    if predictions[i] >= 0.5:\n",
    "        predictions[i] = 1\n",
    "    else:\n",
    "        predictions[i] = 0\n",
    "        \n",
    "new_label = pd.DataFrame(predictions, columns = [\"label\"])\n",
    "\n",
    "new_data_id = []\n",
    "for i in range(len(new_label)):\n",
    "    idx = len(df_train) + i\n",
    "    new_data_id.append(idx)\n",
    "new_data_id = pd.DataFrame(new_data_id, columns = [\"id\"])\n",
    "\n",
    "new_data =  pd.concat([new_data_id, new_label, test.iloc[:,1:]], axis = 1)"
   ]
  },
  {
   "cell_type": "code",
   "execution_count": 38,
   "metadata": {
    "ExecuteTime": {
     "end_time": "2020-07-30T07:03:45.423827Z",
     "start_time": "2020-07-30T07:03:34.509341Z"
    }
   },
   "outputs": [],
   "source": [
    "os.makedirs(f\"../../data/kalapa/{data_version}/\", exist_ok=True)\n",
    "train_dev.to_csv(f\"../../data/kalapa/{data_version}/train.csv\", index = False)\n",
    "test.to_csv(f\"../../data/kalapa/{data_version}/test.csv\", index = False)\n",
    "new_data.to_csv(f\"../../data/kalapa/{data_version}/new_data.csv\", index = False)"
   ]
  },
  {
   "cell_type": "code",
   "execution_count": null,
   "metadata": {},
   "outputs": [],
   "source": []
  }
 ],
 "metadata": {
  "kernelspec": {
   "display_name": "Python 3",
   "language": "python",
   "name": "python3"
  },
  "language_info": {
   "codemirror_mode": {
    "name": "ipython",
    "version": 3
   },
   "file_extension": ".py",
   "mimetype": "text/x-python",
   "name": "python",
   "nbconvert_exporter": "python",
   "pygments_lexer": "ipython3",
   "version": "3.7.7"
  },
  "varInspector": {
   "cols": {
    "lenName": 16,
    "lenType": 16,
    "lenVar": 40
   },
   "kernels_config": {
    "python": {
     "delete_cmd_postfix": "",
     "delete_cmd_prefix": "del ",
     "library": "var_list.py",
     "varRefreshCmd": "print(var_dic_list())"
    },
    "r": {
     "delete_cmd_postfix": ") ",
     "delete_cmd_prefix": "rm(",
     "library": "var_list.r",
     "varRefreshCmd": "cat(var_dic_list()) "
    }
   },
   "types_to_exclude": [
    "module",
    "function",
    "builtin_function_or_method",
    "instance",
    "_Feature"
   ],
   "window_display": false
  }
 },
 "nbformat": 4,
 "nbformat_minor": 4
}
