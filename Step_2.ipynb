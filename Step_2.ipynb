{
 "cells": [
  {
   "cell_type": "code",
   "execution_count": 66,
   "metadata": {
    "ExecuteTime": {
     "end_time": "2020-07-30T03:54:52.462841Z",
     "start_time": "2020-07-30T03:54:52.437752Z"
    }
   },
   "outputs": [],
   "source": [
    "import pandas as pd\n",
    "import numpy as np\n",
    "import matplotlib.pyplot as plt\n",
    "import sys\n",
    "import csv\n",
    "import os\n",
    "import random\n",
    "import string\n",
    "import seaborn as sns\n",
    "import math\n",
    "import re\n",
    "import warnings\n",
    "import lightgbm as lgb\n",
    "\n",
    "from sklearn.preprocessing import MinMaxScaler\n",
    "from sklearn.feature_extraction.text import TfidfVectorizer\n",
    "from sklearn.model_selection import StratifiedKFold\n",
    "from sklearn.feature_selection import VarianceThreshold\n",
    "from sklearn.metrics import roc_auc_score\n",
    "from sklearn.model_selection import KFold\n",
    "from sklearn.preprocessing import LabelEncoder\n",
    "from feature_engine import categorical_encoders as ce\n",
    "\n",
    "from datetime import datetime\n",
    "from dateutil.parser import parse\n",
    "from sklearn import metrics\n",
    "from unidecode import unidecode\n",
    "from sklearn.metrics import roc_auc_score\n",
    "\n",
    "from itertools import combinations\n",
    "\n",
    "warnings.filterwarnings('ignore')\n",
    "pd.options.display.max_columns = 50\n",
    "plt.style.use('ggplot')\n",
    "\n",
    "%matplotlib inline"
   ]
  },
  {
   "cell_type": "code",
   "execution_count": 67,
   "metadata": {
    "ExecuteTime": {
     "end_time": "2020-07-30T03:54:53.224152Z",
     "start_time": "2020-07-30T03:54:53.218464Z"
    }
   },
   "outputs": [],
   "source": [
    "data_version_input = \"01-10-2020\""
   ]
  },
  {
   "cell_type": "code",
   "execution_count": 52,
   "metadata": {
    "ExecuteTime": {
     "end_time": "2020-07-30T03:51:43.304173Z",
     "start_time": "2020-07-30T03:51:40.634226Z"
    }
   },
   "outputs": [],
   "source": [
    "df_train = pd.read_csv(f\"../../data/kalapa/{data_version_input}/train.csv\")\n",
    "df_test = pd.read_csv(f\"../../data/kalapa/{data_version_input}/test.csv\")"
   ]
  },
  {
   "cell_type": "code",
   "execution_count": 54,
   "metadata": {
    "ExecuteTime": {
     "end_time": "2020-07-30T03:52:10.806433Z",
     "start_time": "2020-07-30T03:52:10.530237Z"
    },
    "scrolled": true
   },
   "outputs": [
    {
     "name": "stdout",
     "output_type": "stream",
     "text": [
      "['-', '- Nhân viên thu phí, soát vé trạm thu phí Km943+975 Công ty TNHH MTV Ceco 545 BOT thuộc Nhóm V.1 - B', '01019882', '22568', '29157- NV Sales DSMs - Vùng II - Nha Trang', '29496-VBL, Nhân viên SP', '309092359 - Công nhân', '39465/NV Bán hàng/Lenovo/vùng 02/Bạc Liêu', '48373/Nhân viên bán hàng LG', '55741/NV Bán Hàng - CocaCola/Vùng 2', '56500- NV Wiko - Vùng 02', '57833/Nhân viên bán hàng LG', '60824/Spiral-CocaCola/Vùng 1', '64577/NhânViênBánHàng/NNA/Quang Ninh/Vùng1', '70629/NV Bán Hàng - CocaCola', '70977/NhânViênBánHàng/BEKO/Bà Rịa – Vũng Tàu/Vùng1', '72069/Unza/NVBH/Châu Đốc/Vùng 2', '72395/Nhân viên bán hàng VBL/Vùng 2/Cam Le 1', '72771/NV Bán Hàng - CocaCola', '73835/Nhân viên tư vấn bán hàng VBL/Vùng 2/Kiên Giang A1A', '75967/NV Bán Hàng - CocaCola/Vùng 2', '77022Nhân viên bán hàng VBL/Vùng 2/Hai Chau 3', '79341/Nhân viên tư vấn bán hàng VBL/Vùng 2/Kiên Giang B3D', '80198/Nhân viên dự án SRF/Huế/Vùng 3', '81511/Nhân viên dự án SRF/Bình Dương/Vùng 1', '82617/NVKD - CocaCola/Vùng 2', '83147/NVKD - CocaCola/Vùng 2', '875 LK', 'An ninh viên', 'An toàn viên', 'BH-TN', 'BHXH tự nguyện', 'BTĐTN Xã Ea Hu', 'Backroom Staff', 'Barista', 'Biên tập, biên kịch', 'BáN HàNG', 'Bác sĩ', 'Bác sỹ', 'Bác sỹ (hạng III)', 'Bán Hàng', 'Bán hàng', 'Bán hàng TPTS', 'Bán hàng Vinamilk', 'Bán hàng tại Bù Đốp-Bình Phước', 'Bán hàng vùng 2', 'Bí thư Đoàn', 'Bí thư Đoàn TNCSHCM', 'Bí thư đoàn', 'Bí thư đoàn phường', 'Bí thư đoàn thanh niên', 'Băng chuyền IQF II-2', 'BẢO VỆ', 'BảO DƯỡNG', 'BảO Vệ', 'Bảo Vệ', 'Bảo dưỡng sửa chữa thiết bị xe', 'Bảo mẩu', 'Bảo mẫu', 'Bảo mẫu (Mầm non Minh Đức Tháp Mười)', 'Bảo trì', 'Bảo trì máy', 'Bảo trì máy may', 'Bảo vệ', 'Bảo vệ - Phòng TCHC', 'Bảo vệ - Tổ Bảo vệ phục vụ', 'Bảo vệ Phòng giao dịch TX Trà Vinh', 'Bảo vệ VC-NT Trà Thanh', 'Bảo vệ bến', 'Bảo vệ công ty', 'Bảo vệ kho Vật liệu nổ công nghiệp, áp tải xe chở Vật liệu nổ công nghiệp', 'Bảo vệ làm theo chế độ 3 ca', 'Bảo vệ nội bộ', 'Bảo vệ trên tàu hỏa', 'Bảo vệ tòa nhà', 'Bảo vệ, Phòng bảo vệ- tiếp tân-tạp vụ', 'Bậc 2 công nhân Nạp liệu lò cao trong công nghệ sản xuất phân lân nung chảy.', 'Bếp Phụ', 'Bếp chính', 'Bếp phó', 'Bếp phụ - Bếp  SEVT4', 'Bốc xếp', 'Bốc xếp; 82 Ấp 5, Mỹ Yên, Bến Lức,Long An', 'C. nhân', 'C.n', 'C.nhân', 'CB Kỹ thuật', 'CB Lao động TBXH', 'CB Văn Hóa - Truyền thanh', 'CB không chuyên trách.', 'CB môi trường', 'CB tổ chức đảng- VP đảng ủy', 'CB. Văn thư - Lưu trữ', 'CB.CTPCGD', 'CB.Kỹ thuật', 'CBNV Sacombank', 'CHỈ SỐ VIÊN', 'CN', 'CN - L9. CCBI', 'CN - PPN0Y', 'CN - TP.HCM', 'CN - TP.HCM-Vùng 1', 'CN - UVAN1', 'CN - Đế 4', 'CN -EDT0Y', 'CN -IQF2', 'CN BXTC', 'CN Bốc Xếp', 'CN CBTS', 'CN Cắt Phôi', 'CN Cắt gỗ', 'CN DỆT VI TÍNH', 'CN Gia công', 'CN Gấp Hàng', 'CN Hàn', 'CN Khoan gang', 'CN KiểM GấP TRONG DÂY CHUYềN DệT', 'CN Kiểm Hàng - Suối Tre - Long Khánh - Đồng Nai', 'CN Kế Hoạch', 'CN LáP RáP', 'CN MAY', 'CN MAY Tổ 1', 'CN May', 'CN May CN', 'CN Mài bóng', 'CN Nấu  Nhựa', 'CN PHYLON', 'CN Phụ, Bando 2', 'CN SảN XUấT', 'CN Sản Xuất', 'CN Sản Xuất Linh Kiện Điện Tử', 'CN TP. HCM - V1-  NV Nhóm Chuyên doanh Máy cũ', 'CN TP. HCM- V1- Nhân viên', 'CN Thời vụ', 'CN Trại Gà', 'CN Trải Vải', 'CN Tổ ủi', 'CN VẬN HÀNH MÁY MAY', 'CN VậN HàNH CẩU', 'CN Vận Hành Máy Đánh Ống', 'CN XƯởNG Gỗ', 'CN Xưởng chặt', 'CN Xưởng ép vỉ', 'CN bốc xếp', 'CN bốc xếp thủ công', 'CN chế biến THS đông lạnh -LĐL4', 'CN cân nguyên liệu', 'CN cạo mủ', 'CN cấp dưỡng', 'CN d?t', 'CN dệt', 'CN hạ cây chặt cành', 'CN khai thác mủ cao su - Nông trường 3', 'CN khuôn', 'CN kiểm hàng', 'CN lắp ráp', 'CN may', 'CN may CN', 'CN may công nghiệp', 'CN may công nghiệp (loại D)', 'CN may-XN 3', 'CN máy Dệt', 'CN phân loại rác', 'CN quản lý, Vận hành điện CSCC', 'CN so, sửa bán thành phẩm (may công nghiệp)', 'CN sản xuất', 'CN sản xuất BLM', 'CN thao tác', 'CN thu tiền nước', 'CN thủy nông XNTL Yên Thành', 'CN trải vải (may công nghiệp)', 'CN trải vải, viết số', 'CN trồng và thu hoạch chè', 'CN tổ cắt C', 'CN vận hành may may CN', 'CN vận hành máy cắt', 'CN vận hành máy in', 'CN vận hành máy may', 'CN vận hành máy may (may công nghiệp)', 'CN vận hành máy may CN', 'CN vận hành máy may(may công nghiệp)', 'CN vận hành máy sàng tuyển', 'CN vệ sinh chuồng', 'CN vệ sinh chuồng heo', 'CN xử lý nhiệt', 'CN ép cao tần', 'CN Điện', 'CN Đánh cuộn', 'CN Đóng gói', 'CN điện phân', 'CN đứng máy sợi', 'CN ủi', 'CN ủi thành phẩm', 'CN, May Công nghiệp', 'CN,may công nghiệp', 'CN-EDT0Y', 'CN-May', 'CN-Thành Phâm', 'CN-ép tem đệm lót', 'CN-Đóng gói', 'CN. Chế biến thủy sản', 'CN. Cấp đông, bao gói sản phẩm', 'CN. Kiểm Hàng, Khu CN Suối Tre, TX. Long Khánh, Đồng Nai', 'CN. VẬN HÀNH MÁY MAY', 'CN. Vận hành máy may', 'CN. Vận hành trạm đập', 'CN.Cây xanh', 'CN.Cơ khí', 'CN.Thành hình', 'CNCBTHSĐL', 'CNCĐ Điều Dưỡng', 'CNKT', 'CNKT mủ', 'CNKT, Phòng dự án', 'CNSX Bộ Phận Đóng Gói', 'CNSX Tấm lót giày', 'CNTN-ĐH', 'CNTT', 'CNV', 'CNVH băng tải cao su, tiếp xúc tiếng ồn và bụi cao làm việc theo chế độ 3 ca', 'CN_Line 8', 'CNhân sửa chữa thiết bị điện', 'CNhân thợ ống tàu thuỷ', 'COD', 'CONG NHAN', 'CV Dịch vụ khách hàng', 'CV I Dịch vụ Khách hàng', 'Ca sĩ', 'Cao đẳng tin học', 'Cao đẳng điều dưỡng', 'Cao đẳng điện công nghệ kỹ thuật điện', 'Cao đẵng dược', 'Cán bộ nhân viên', 'Checker', 'Chuyªn viªn §Þnh gi¸ HO', 'Chuyên Viên', 'Chuyên Viên Thu Hồi Nợ', 'Chuyên Viên Điều Tra - MêKong', 'Chuyên viên', 'Chuyên viên - Phòng Kế Hoạch', 'Chuyên viên - Phòng quản lý hợp đồng', 'Chuyên viên An ninh', 'Chuyên viên Bán thẻ trực tiếp', 'Chuyên viên Chăm sóc khách hàng', 'Chuyên viên Công nghệ thông tin', 'Chuyên viên DVKH qua điện thoại', 'Chuyên viên I Quan hệ khách hàng', 'Chuyên viên II', 'Chuyên viên KD', 'Chuyên viên Khách hàng cá nhân', 'Chuyên viên Nhà hàng', 'Chuyên viên Quản lÝ hạ tầng', 'Chuyên viên Spa', 'Chuyên viên Thu hồi nợ thẻ trực tiếp, RISK-386', 'Chuyên viên Thẩm định tài sản', 'Chuyên viên Tư vấn thẻ hội viên', 'Chuyên viên bậc 1/9, cán bộ ban', 'Chuyên viên bậc 2/9, Phó trưởng phòng', 'Chuyên viên hợp đồng', 'Chuyên viên khách hàng SME - MB Kỳ Đồng', 'Chuyên viên kiểm tra chất lượng cuộc gọi', 'Chuyên viên kiểm tra thị trường', 'Chuyên viên kế hoạch thống kê', 'Chuyên viên kế toán', 'Chuyên viên kỹ thuật', 'Chuyên viên kỹ thuật thí nghiệm, phân tích hóa chất thuốc nhuộm', 'Chuyên viên nhân viên phòng KD và PTTT', 'Chuyên viên pháp lý', 'Chuyên viên phòng Nông nghiệp & phát triển nông thôn', 'Chuyên viên quan hệ khách hàng cá nhân - Dịch Vọng', 'Chuyên viên quản lÝ đấu thầu', 'Chuyên viên thẩm định địa bàn', 'Chuyên viên trị liệu', 'Chuyên viên tuyển dụng', 'Chuyên viên tuyển sinh', 'Chuyên viên tư vấn Bảo hiểm', 'Chuyên viên tư vấn bán hàng qua điện thoại cấp 2', 'Chuyên viên tư vấn tuyển dụng', 'Chuyên viên tập sự', 'Chuyên viên tập sự VKSND Quận 1', 'Chuyên viên vận hành', 'Chuyên viên Điện toán', 'Chuyên viên, phó tổng giám đốc', 'Chuyên viên, thạc sỹ', 'Chuyền Thành Hình', 'Chuyền trưởng', 'Chuyờn viờn', 'Chà nhám', 'Chăm sóc khách hàng', 'Chương Xá - Cẩm Khê - Phú Thọ', 'Chế biến PTO I-4', 'Chế biến nguyên liệu, pha trộn, đóng gói bột canh, bột gia vị. LĐNNĐH loại 4', 'Chế biến thủy hải sản đông lạnh : Công nhân Đóng gói Carton (ca 2)', 'Chỉ huy phó quân sự', 'Chụp Hình', 'Chủ Hộ Kinh Doanh', 'Chủ nhiệm lớp', 'Chủ tịch Hội LHPN', 'Chủ tịch hội phụ nữ xã', 'Chủ tịch hội đồng thành viên', 'Cn Kiểm Tra Chất Lượng', 'Cn May', 'Cn Mài Bóng', 'Cn Mài bóng', 'Cn thủ công', 'Cn vận hành máy may công nghiệp', 'Cnhân VHTB Thành hình lốp', 'Coi bồn', 'Coõng nhaõn', 'Coõng nhaõn Caựn cao su trong saỷn xuaỏt giaứy deựp', 'Coõng nhaõn Haứn ủieọn, haứn hụi vaứ vaọn haứnh maựy loứ hụi', 'Coõng nhaõn Queựt keo ủeỏ vaứ  muừ giaứy', 'Coõng nhaõn boọ phaọn May Long Thaứnh', 'Coõng nhaõn boọ phaọn Nos B', 'Coõng nhaõn boọ phaọn Nos E', 'Coõng nhaõn boọ phaọn ủeỏ PU', 'Coõng nhaõn trửùc tieỏp maựy may coõng nghieọp', 'CÔNG NHÂN', 'CÔNG NHÂN\\nMAY RÁP', 'CÔNG NHÂN  PU', 'CÔNG NHÂN - BRVT', 'CÔNG NHÂN BX', 'CÔNG NHÂN BốC XếP THủ CÔNG', 'CÔNG NHÂN BỘ PHẬN LẮP RÁP', 'CÔNG NHÂN CHẾ BIẾN THỰC PHẨM', 'CÔNG NHÂN CáN TRộN  KEO', 'CÔNG NHÂN CƯờNG LựC', 'CÔNG NHÂN CẮT', 'CÔNG NHÂN DệT SợI', 'CÔNG NHÂN FQC', 'CÔNG NHÂN GIA CÔNG MộC', 'CÔNG NHÂN GIAO, NHậN HàNG HóA ở KHO HàNG', 'CÔNG NHÂN GấP', 'CÔNG NHÂN HOÀN THIỆN QUẦN ÁO', 'CÔNG NHÂN KHUÔN MẪU', 'CÔNG NHÂN KHÂU MAY 16', 'CÔNG NHÂN LựA THÂN', 'CÔNG NHÂN MAY', 'CÔNG NHÂN MAY CN', 'CÔNG NHÂN MAY CÔNG NGHIỆP', 'CÔNG NHÂN MAY CÔNG NGHIệP', 'CÔNG NHÂN PHA CẮT, Nhà máy sản xuất giầy &amp;amp; phụ liệu Tam Cường', 'CÔNG NHÂN SX', 'CÔNG NHÂN SẢN XUẤT', 'CÔNG NHÂN THANH NHÔM', 'CÔNG NHÂN XI Mạ', 'CÔNG NHÂN XẢ CUỘN', 'CÔNG NHÂN éP', 'CÔNG NHÂN ĐóNG GóI', 'CÔNG NHÂN ĐỨNG MÁY', 'Cán Bộ Tính Dụng', 'Cán Bộ tài chính kế toán', 'Cán bộ', 'Cán bộ - Văn phòng TK', 'Cán bộ DS - KHHGĐ - TE', 'Cán bộ Kỹ Thuật', 'Cán bộ Kỹ thuật', 'Cán bộ Thẩm  Định', 'Cán bộ VTLTTQ', 'Cán bộ Văn phòng - Thống kê', 'Cán bộ Văn phòng Sở', 'Cán bộ công tác sinh viên', 'Cán bộ cấp 2', 'Cán bộ cấp 2, Vùng 1, Bậc 1', 'Cán bộ dự án', 'Cán bộ giảng dạy', 'Cán bộ hiện trường', 'Cán bộ hành chính', 'Cán bộ hợp đồng', 'Cán bộ kinh doanh', 'Cán bộ kế toán', 'Cán bộ kỹ thuât', 'Cán bộ kỹ thuật', 'Cán bộ kỹ thuật bến phà Gót', 'Cán bộ kỹ thuật viên', 'Cán bộ lao động tiền lương', 'Cán bộ mua sắm', 'Cán bộ nhân viên', 'Cán bộ phụ trách Kế hoạch - Giao thông thuỷ lợi', 'Cán bộ quản lý', 'Cán bộ thống kê', 'Cán bộ tài chính kế toán', 'Cán bộ tư pháp 2', 'Cán bộ tư pháp hộ tịch', 'Cán bộ tập sự văn phòng thống kê', 'Cán bộ văn hóa xã hội', 'Cán bộ y tế học đường', 'Cán bộ đoàn thanh niên', 'Cán bộ địa chính', 'Cán bộ địa chính xã', 'Cán lần 1', 'Cán sự', 'Cán sự (Can Lộc)', 'Cán sự bậc 1/12', 'Cán sự bậc 5/12', 'Cán sự bậc 5/12, phòng kế toán - tài vụ', 'Cán sự hành chính', 'Cán sự, Nhà máy', 'Cán sự, giáo vụ khoa kế toán', 'Cô nuôi', 'Công  nhân', 'Công Nhân', 'Công Nhân\\n Sản Xuất', 'Công Nhân - Cán Dán', 'Công Nhân - Cắt Chỉ', 'Công Nhân - Worker', 'Công Nhân - Xịt Silicon', 'Công Nhân - Xử Lý', 'Công Nhân AL1-S1', 'Công Nhân BP Giũa', 'Công Nhân Bảo Toàn, Sửa Chữa Máy May', 'Công Nhân Bảo Trì Điện', 'Công Nhân Bộ Phận Kho', 'Công Nhân Bộ Phận Thành Phẩm', 'Công Nhân Bộ phận In', 'Công Nhân Chuyền May', 'Công Nhân Chuyền Thành Hình', 'Công Nhân Chuyền Tiếp', 'Công Nhân Chuyền tự động - Bộ Phận Đổ Khuôn', 'Công Nhân Cắt Lần 2', 'Công Nhân Cắt Tỉa Gần Máy ép', 'Công Nhân D?t', 'Công Nhân Dán Giày', 'Công Nhân Dán Hàng', 'Công Nhân Dán Tay', 'Công Nhân Dây Máy', 'Công Nhân Dệt', 'Công Nhân Gia Công', 'Công Nhân Giao Nhận Hàng Công Nghiệp', 'Công Nhân Gấp Áo Công Nghiệp', 'Công Nhân Hoàn Chỉnh', 'Công Nhân Hỗ Trợ', 'Công Nhân Hợp Đồng - Bộ Phận Gia Vị Lỏng', 'Công Nhân In Hoa', 'Công Nhân Kiểm Hàng', 'Công Nhân Kiểm Hàng (Qcs)', 'Công Nhân Kiểm Hàng Trước Wash Công Nghiệp', 'Công Nhân Kiểm Phẩm', 'Công Nhân Kiểm Tra Chất Lượng', 'Công Nhân Kiểm Tra Chất Lượng Vải Công Nghiệp', 'Công Nhân Kiểm Tra Sản Phẩm', 'Công Nhân Kiểm Và Xuất Chỉ', 'Công Nhân Kiểm hàng', 'Công Nhân Kéo Sợi', 'Công Nhân Lao Động Phổ Thông, CN Sông Đà 6.01, Khoen On, Than Uyên, Lai Châu', 'Công Nhân Là, Gấp, Đóng Gói', 'Công Nhân Lăp Zíc', 'Công Nhân Lưu Hóa Các Sản Phẩm Cao Su', 'Công Nhân Lắp Ráp Giường', 'Công Nhân Lặt Đầu Tôm', 'Công Nhân Lựa Thạch', 'Công Nhân May', 'Công Nhân May Công Nghiệp', 'Công Nhân May Công nghiệp', 'Công Nhân May Khoa Mẫu', 'Công Nhân May Máy May Công Nghiệp', 'Công Nhân May công nghiệp', 'Công Nhân Máy Dao Đơn', 'Công Nhân Nhóm Chân Tiện', 'Công Nhân Pha Cắt', 'Công Nhân Phun Sơn', 'Công Nhân Phòng Sơn', 'Công Nhân Phổ Thông', 'Công Nhân Phụ May', 'Công Nhân Phụ việc chuẩn bị', 'Công Nhân Quét Keo Đại Đế', 'Công Nhân Ráp Nối', 'Công Nhân SX Điện tử', 'Công Nhân So Sửa Bán Thành Phẩm (023105)', 'Công Nhân Sản Xuất', 'Công Nhân Sản Xuất Phốt', 'Công Nhân Sản Xuất Túi Máu', 'Công Nhân Sản Xuất Điện tử', 'Công Nhân Sản xuất', 'Công Nhân Sửa bán thành phẩm', 'Công Nhân Thao Tác', 'Công Nhân Thành Hình', 'Công Nhân Thành Phẩm', 'Công Nhân Toan Kiểm', 'Công Nhân Trại Heo', 'Công Nhân Trải Vải', 'Công Nhân Ts2 Tổ May A', 'Công Nhân Tẩy', 'Công Nhân Tổ 1', 'Công Nhân Tổ Thành Phẩm', 'Công Nhân Vận Hành Máy May', 'Công Nhân Vận Hành Máy May - LINE 11', 'Công Nhân Vận Hành Máy May Công Nghiệp', 'Công Nhân Vận hành Thiết Bị', 'Công Nhân Xây Dựng', 'Công Nhân _In Tay', 'Công Nhân _May máy', 'Công Nhân bốc xếp  thủ công', 'Công Nhân chế biến Thủy Sản', 'Công Nhân gấp xếp', 'Công Nhân hàn', 'Công Nhân in', 'Công Nhân lắp ráp', 'Công Nhân may dây chuyền', 'Công Nhân may máy may công nghiệp', 'Công Nhân sản xuất', 'Công Nhân thành hình', 'Công Nhân vận hành máy may công nghiệp', 'Công Nhân Ép Keo', 'Công Nhân Ép Đế', 'Công Nhân ép 6 Chiều', 'Công Nhân ép Máy Cao Tần', 'Công Nhân ép Nhiệt Đứng', 'Công Nhân Đi Ca', 'Công Nhân Đóng Gói', 'Công Nhân ĐúC Đế  (SX-B)', 'Công Nhân Đảm Bảo Chất Lượng', 'Công Nhân Đế', 'Công Nhân Đế Dưới', 'Công Nhân Đếm Hàng (Counting Worker)', 'Công Nhân Đứng Máy', 'Công Nhân Đứng Máy Thêu', 'Công Nhân Đứng Máy Ép', 'Công Nhân đại tu cầu đường', 'Công Nhân Ủi Công Nghiệp', 'Công Nhân ủi', 'Công Nhân ủi Công Nghiệp', 'Công Nhân, Cắt Tỉa', 'Công NhânQC', 'Công NhânĐẠI ĐẾ(QC-B)', 'Công NhânĐẠI ĐẾ大底(ÉP ĐẾ-B)', 'Công an viên', 'Công chức Tư pháp - Hộ tịch', 'Công chức Văn phòng - Thống kê', 'Công chức dự bị', 'Công chức tư pháp - hộ tịch', 'Công nhan may', 'Công nhân', 'Công nhân  014687', 'Công nhân  Hoàn Chỉnh', 'Công nhân  Kho đóng thùng', 'Công nhân  May', 'Công nhân  Nguội', 'Công nhân  QC', 'Công nhân  Vận hành thiết bị máy', 'Công nhân  bảo toàn, sửa chữa máy may', 'Công nhân  giặt quần bò (PG)', 'Công nhân  kiểm hàng', 'Công nhân  phun sơn', 'Công nhân  rót tương', 'Công nhân  sản xuất', 'Công nhân - Bộ phận kiểm hàng', 'Công nhân - Gia công trục giảm sóc sau', 'Công nhân - May 6', 'Công nhân - PX3 - Tỗ Định Hình', 'Công nhân - Sơn sắt', 'Công nhân - Sản xuất', 'Công nhân - Sản xuất, lắp ráp phụ tùng xe máy, ô tô. Công ty TNHH Phụ tùng Xe máy - Ô tô Showa Việt', 'Công nhân - Tổ Nhuộm', 'Công nhân - Tổ Sơn', 'Công nhân - Vận hành máy đánh bóng bề mặt chi tiết (shot blash) sản xuất ô tô, xe máy', 'Công nhân 3 ca', 'Công nhân An 13', 'Công nhân BP Bảo trì, Dự án nhà máy Nhiệt điện Vĩnh Tân 4', 'Công nhân BP HTL', 'Công nhân BP XLN', 'Công nhân BP lắp ráp', 'Công nhân Bao bì', 'Công nhân Băng chuyền', 'Công nhân Bốc xếp thủ công', 'Công nhân Bộ phận  Giặt', 'Công nhân Bộ phận Khuôn', 'Công nhân Bộ phận LAMINATION', 'Công nhân Bộ phận PHYLON', 'Công nhân Bộ phận Tiền lắp ráp guồng', 'Công nhân CBTS', 'Công nhân CD-Công ty CP may Kinh Bắc', 'Công nhân Chuyền Giường B', 'Công nhân Chuẩn bị may', 'Công nhân Chà Nhám C', 'Công nhân Chặt', 'Công nhân Chế biến thủy sản', 'Công nhân Coverlay', 'Công nhân Cán Gỗ', 'Công nhân Cán, luyện cao su trong sản xuất giầy dép', 'Công nhân Công nghệ', 'Công nhân Cơ khí 1', 'Công nhân Cấp Đông', 'Công nhân Cắt', 'Công nhân Cắt tia laze', 'Công nhân Decal', 'Công nhân Development', 'Công nhân Dán', 'Công nhân Dây chuyền PBA3', 'Công nhân Dập chế tạo', 'Công nhân Dệt', 'Công nhân Fillet', 'Công nhân GIặt', 'Công nhân Gia Công', 'Công nhân Gia công ván A', 'Công nhân Giao nhận Kho thành phẩm', 'Công nhân H/F', 'Công nhân Hoàn Thiện', 'Công nhân Hoàn chỉnh', 'Công nhân Hoàn thành', 'Công nhân Hàn - Cơ khí', 'Công nhân Hàn dải', 'Công nhân IP', 'Công nhân IQF', 'Công nhân In', 'Công nhân In Sơn Đi 3 Ca', 'Công nhân Injection', 'Công nhân KCS', 'Công nhân KCS may công nghiệp', 'Công nhân KCS máy', 'Công nhân KCS thành phẩm may công nghiệp', 'Công nhân KT', 'Công nhân KTCL', 'Công nhân Khai thác Bưu chính phát hành báo chí - Trung tâm khai thác vận chuyển', 'Công nhân Khai thác than trong hầm lò', 'Công nhân Kho', 'Công nhân Kho vật liệu', 'Công nhân Khoan gang', 'Công nhân Khám, chữa toa xe bậc 1/7 A1.6 N3', 'Công nhân Kiểm Hàng', 'Công nhân Kiểm Hàng (Kho Vải)', 'Công nhân Kiểm Hàng F', 'Công nhân Kiểm hàng', 'Công nhân Kiểm hàng may', 'Công nhân Kiểm phẩm', 'Công nhân Kiểm tra chất lượng', 'Công nhân Lao động phổ thông', 'Công nhân Laze', 'Công nhân Lrngan Keob', 'Công nhân Là', 'Công nhân Lắp Ráp', 'Công nhân Lắp ráp', 'Công nhân MAY 1-A', 'Công nhân MVT', 'Công nhân May', 'Công nhân May Công Nghiệp', 'Công nhân May Tổ 93', 'Công nhân May công nghiệp', 'Công nhân May công nghiệp ( Vận hành máy may)', 'Công nhân May trụ 1 kim', 'Công nhân May-C08', 'Công nhân Mài SF-mài mặt', 'Công nhân Màng Chụp', 'Công nhân Mành rèm', 'Công nhân Máy lượm tấm', 'Công nhân Máy ép NM2', 'Công nhân Nguội - Khuôn mẫu', 'Công nhân Nhập kho', 'Công nhân P. Quản lý sản xuất', 'Công nhân P. kinh doanh', 'Công nhân PHụ', 'Công nhân PXĐ- Dây chuyền 2', 'Công nhân Pha Cắt', 'Công nhân Pha cắt', 'Công nhân Phun Hoa Phun Sơn Đoạn Sau B', 'Công nhân Phun sơn', 'Công nhân Phân Liệu', 'Công nhân Phân loại', 'Công nhân Phân xưởng Khoan 2', 'Công nhân Phòng Sản Xuất 3', 'Công nhân Phòng Sản xuất', 'Công nhân Phòng chế tạo máy in 2 Bộ phận chế tạo máy in', 'Công nhân Phòng máy', 'Công nhân Phòng quản lý chất lượng Bộ phận đảm bảo chất lượng', 'Công nhân Phết keo đế và mũ giầy', 'Công nhân Phối Liệu', 'Công nhân Phối liệu cao su', 'Công nhân Phụ', 'Công nhân Phụ kho', 'Công nhân Phụ may', 'Công nhân Production Management', 'Công nhân QC', 'Công nhân QC đế', 'Công nhân Quay', 'Công nhân Quét MEK', 'Công nhân Quản lý và sửa chữa lưới điện', 'Công nhân Quản lý vận hàng lưới điện trung hạ thế Chi nhánh điện Phan Rí', 'Công nhân Quấn Dây', 'Công nhân R&amp;amp;D', 'Công nhân Rèn', 'Công nhân SX', 'Công nhân SX Camera điện thoại', 'Công nhân SX YL', 'Công nhân SX giầy', 'Công nhân SX hộp giấy', 'Công nhân Sinh quản', 'Công nhân SuShi', 'Công nhân SĐBL', 'Công nhân SƠ CHế', 'Công nhân Sơn', 'Công nhân Sơn B', 'Công nhân Sơn Lót', 'Công nhân Sản Xuất', 'Công nhân Sản xuất', 'Công nhân Sản xuất bao bì giấy', 'Công nhân Sản xuất thiết bị hình ảnh', 'Công nhân Sản xuất, lắp ráp phụ tùng xe máy, ô tô', 'Công nhân Sản xuất/HNS', 'Công nhân Sợi Cọc', 'Công nhân Sửa chữa Điện', 'Công nhân T10MAY2', 'Công nhân T4 thành hình', 'Công nhân T6.Thanh Hinh B', 'Công nhân TC - Công nghệ ô tô', 'Công nhân Tech 1 test', 'Công nhân Tem Nước', 'Công nhân Test 1', 'Công nhân Test HC', 'Công nhân Thu mua', 'Công nhân Thu tiền điện cơ quan Chi nhánh điện Quy Nhơn', 'Công nhân Thành Hình', 'Công nhân Thành phẩm', 'Công nhân Thí nghiệm', 'Công nhân Thời vụ', 'Công nhân Thợ ống', 'Công nhân Thợ ống XNN Bãi Cháy', 'Công nhân Thủ công', 'Công nhân Trang Trí', 'Công nhân Truyền hình cáp', 'Công nhân Trải vải', 'Công nhân Trộn mẻ', 'Công nhân Tạo hình', 'Công nhân Tẩm Bột', 'Công nhân Tổ GC chặt 1A-2', 'Công nhân Tổ Mài bóng', 'Công nhân Tổ Đúc', 'Công nhân VH máy', 'Công nhân VH máy sản xuất tấm lợp', 'Công nhân VH thiết bị', 'Công nhân VH thiết bị may công nghiệp', 'Công nhân VHTB may CN', 'Công nhân Vận hành cầu trục', 'Công nhân Vận hành máy bơm', 'Công nhân Vẽ Sơn', 'Công nhân Vẽ sơn PU', 'Công nhân Vệ sinh máy IP', 'Công nhân Xí nghiệp Thi công', 'Công nhân Xưởng lắp ráp', 'Công nhân Xưởng điện phân', 'Công nhân Xếp nguyên vật liệu', 'Công nhân Xỏ dây', 'Công nhân Xử lý lưới', 'Công nhân bao bì', 'Công nhân bán các sản phẩm hóa dầu', 'Công nhân bán hàng xăng dầu - Cửa hàng kinh doanh tổng hợp', 'Công nhân bán hàng xăng dầu và các sản phẩm hóa dầu', 'Công nhân bán lẻ xăng dầu', 'Công nhân bán lẻ xăng dầu & các SP hóa dầu,  Cửa hàng xăng dầu Kỳ Tân', 'Công nhân bán lẻ xăng dầu và các Sp hóa dầu, Cửa hàng xăng dầu Khe Giao', 'Công nhân bóc tôm', 'Công nhân bơm điện', 'Công nhân bảo toàn và sửa chữa máy may cấp 1', 'Công nhân bảo toàn, sửa chữa máy may công nghiệp', 'Công nhân bảo trì', 'Công nhân bảo trì máy', 'Công nhân bảo trì và sửa chữamáy', 'Công nhân bảo vệ cơ quan', 'Công nhân bậc 1', 'Công nhân bắn sợi', 'Công nhân bắt ống bê tông', 'Công nhân bọ', 'Công nhân bọc dây điện', 'Công nhân bốc gỗ', 'Công nhân bốc thành phẩm', 'Công nhân bốc vác', 'Công nhân bốc xếp', 'Công nhân bốc xếp hàng', 'Công nhân bốc xếp thủ công', 'Công nhân bốc xếp vật liệu nổ', 'Công nhân bộ phần nhồi lông', 'Công nhân bộ phận Chất lượng', 'Công nhân bộ phận Engineering Group 1', 'Công nhân bộ phận Firing 2', 'Công nhân bộ phận High Pressure Casting', 'Công nhân bộ phận IE', 'Công nhân bộ phận Kho nhập', 'Công nhân bộ phận Lean C', 'Công nhân bộ phận Lean E', 'Công nhân bộ phận May Long Thành', 'Công nhân bộ phận Mạ', 'Công nhân bộ phận Nos I', 'Công nhân bộ phận PU', 'Công nhân bộ phận Pha chế', 'Công nhân bộ phận Snowdon IIT', 'Công nhân bộ phận Tantai', 'Công nhân bộ phận VJ2-QA', 'Công nhân bộ phận bảo dưỡng', 'Công nhân bộ phận cắt', 'Công nhân bộ phận dán tếp', 'Công nhân bộ phận dệt', 'Công nhân bộ phận gia công', 'Công nhân bộ phận hoàn chỉnh giày', 'Công nhân bộ phận hoàn thiện', 'Công nhân bộ phận in', 'Công nhân bộ phận kho', 'Công nhân bộ phận kho thành phẩm', 'Công nhân bộ phận kiểm tra', 'Công nhân bộ phận kiểm tra cao su', 'Công nhân bộ phận kiểm tra độ tin cậy', 'Công nhân bộ phận lắp ráp', 'Công nhân bộ phận may', 'Công nhân bộ phận nguyên liệu', 'Công nhân bộ phận phun sơn', 'Công nhân bộ phận sản xuât', 'Công nhân bộ phận sản xuất', 'Công nhân bộ phận Ép nhựa', 'Công nhân chiết nạp', 'Công nhân chiết nạp gas', 'Công nhân chuyền 4 , Đường D1, KCN Suối Tre, Xã Bảo Vinh , TX. Long Khánh, Tỉnh Đồng Nai.', 'Công nhân chuyền may', 'Công nhân chuyền Đế', 'Công nhân chuẩn bị', 'Công nhân chăm sóc cà phê', 'Công nhân chăm sóc thu hái cam', 'Công nhân chăn nuôi', 'Công nhân chất lượng', 'Công nhân chần bông', 'Công nhân chặt', 'Công nhân chế biến', 'Công nhân chế biến - Nhà máy sữa', 'Công nhân chế biến làm việc theo chế độ 3 ca thường xuyên tiếp xúc với nước lạnh', 'Công nhân chế biến mắm', 'Công nhân chế biến thơ, sơ ri, ...', 'Công nhân chế biến thủy hải sản đông lạnh', 'Công nhân chế biến thủy sản', 'Công nhân chế biến thủy sản đông lạnh', 'Công nhân chế biến thực phẩm', 'Công nhân chế biến tương ớt', 'Công nhân chế biến và làm việc theo chế độ 3 ca thường xuyên với nước lạnh', 'Công nhân chế tạo', 'Công nhân chế tạo vòng bi', 'Công nhân chỉnh sửa', 'Công nhân consteel', 'Công nhân cung cấp nguyên liệu cho quá trình sản xuất', 'Công nhân cán mỏng', 'Công nhân cán nhôm nóng, bậc 1/7', 'Công nhân cát may công nghiệp', 'Công nhân cây xanh', 'Công nhân công nghệ ô tô 3/7', 'Công nhân cơ khí', 'Công nhân cơ khí -Lô F, KCN Long Khánh, Xã Bình Lộc, TX Long Khánh, Tỉnh Đồng Nai', 'Công nhân cơ điện', 'Công nhân cơ điện,Trung Tâm Thương Mại .Công ty Da giầy Hải Phòng', 'Công nhân cạo da', 'Công nhân cạo mủ', 'Công nhân cấp phát', 'Công nhân cấp phôi', 'Công nhân cấp đông', 'Công nhân cẩu trục bộ phận kho', 'Công nhân cắt', 'Công nhân cắt PVC', 'Công nhân cắt biên', 'Công nhân cắt chỉ hàng thêu 03ca', 'Công nhân cắt dập', 'Công nhân cắt gọt ( may công nghiệp)', 'Công nhân cắt hàng', 'Công nhân cắt phá, cắt gọt', 'Công nhân cắt phá, cắt gọt ( may công nghiệp) vùng 1, Minh Hà', 'Công nhân cắt phá, cắt gọt (May công nghiệp)', 'Công nhân cắt vi tính', 'Công nhân cắt và bao ép', 'Công nhân cắt vải', 'Công nhân cắt vải trong công nghệ may', 'Công nhân cắt đồng', 'Công nhân cốp pha', 'Công nhân dasu', 'Công nhân doanh thác', 'Công nhân duy tu sửa chữa cầu đường bộ- Hạt Sơn Tịnh, H,. Sơn Tịnh- Quảng Ngãi', 'Công nhân duy tu đội quản  lý xây dựng cầu đường Đức Phổ', 'Công nhân dán', 'Công nhân dán dây da', 'Công nhân dán giấy', 'Công nhân dán lốp', 'Công nhân dán nhãn gót', 'Công nhân dán tay', 'Công nhân dán tăng cường', 'Công nhân dây chuyền SX Sợi hoá học', 'Công nhân dệt', 'Công nhân dệt nhuộm trước', 'Công nhân dệt sợi', 'Công nhân dệt thun', 'Công nhân dệt,nhuộm', 'Công nhân dự bị', 'Công nhân gia công', 'Công nhân gia công giày', 'Công nhân gia công linh kiện cao su', 'Công nhân gia công nhuộm', 'Công nhân gia công đế', 'Công nhân giao hàng', 'Công nhân giao nhận', 'Công nhân giao nhận hàng', 'Công nhân giặt', 'Công nhân giặt', 'Công nhân gấp gói', 'Công nhân gấp gói, bỏ túi', 'Công nhân gấp xếp', 'Công nhân gấp, đóng gói  (may công nghiệp)', 'Công nhân gắn linh kiện', 'Công nhân gắn rập', 'Công nhân gọt vẽ', 'Công nhân hiện trường EVA Xốp', 'Công nhân hoàn chỉnh', 'Công nhân hoàn thiện', 'Công nhân hoàn thiện, gấp gói', 'Công nhân hoàn thành', 'Công nhân hàn', 'Công nhân hàn điện', 'Công nhân hàng mẫu', 'Công nhân hình thành', 'Công nhân hầm lò', 'Công nhân học việc sản xuất loa', 'Công nhân in', 'Công nhân in bao bì 2', 'Công nhân in chữ', 'Công nhân in da, bậc 1/6 N2A2.2', 'Công nhân in lưới', 'Công nhân in lụa', 'Công nhân in vải', 'Công nhân in xoa', 'Công nhân in xốp', 'Công nhân in, phun sơn', 'Công nhân inxoa', 'Công nhân khai thác', 'Công nhân khai thác bưu chính trong nước Bưu điện huyện Tuy Phong', 'Công nhân khai thác hầm lò', 'Công nhân khai thác mỏ hầm lò', 'Công nhân khai thác mủ cao su', 'Công nhân khai thác nhựa thông bậc 1/6', 'Công nhân khai thác than hầm lò', 'Công nhân khai thác than trong hầm lò', 'Công nhân kho', 'Công nhân kho SYO', 'Công nhân kho nguyên liệu', 'Công nhân kho phụ liệu', 'Công nhân kho trứng', 'Công nhân kho vải', 'Công nhân kho đế', 'Công nhân khuôn đúc', 'Công nhân khuôn đúc - MOD-A', 'Công nhân khâu bạt', 'Công nhân khâu chuẩn bị', 'Công nhân khâu móc', 'Công nhân khử trùng hàng hóa nông, lâm sản xuất nhập khẩu trên tàu biển, xà lan, trong Xilo - Vùng I', 'Công nhân khử trùng hàng hóa nông, lâm sản xuất nhập khẩu trên tàu biển, xà lan, trong Xilo - Vùng II', 'Công nhân kinh doanh điện - Điện lực Diễn Châu', 'Công nhân kiểm  hàng QC', 'Công nhân kiểm gấp trong dây chuyền dệt, may công nghiệp', 'Công nhân kiểm gấp trong dây chuyền may', 'Công nhân kiểm gấp trên dây chuyền may', 'Công nhân kiểm hàng', 'Công nhân kiểm hàng - Lô C, KCN Long Khánh, Bình Lộc, Thị xã Long Khánh, Đồng Nai', 'Công nhân kiểm hàng SP nhựa', 'Công nhân kiểm hàng công nghiệp', 'Công nhân kiểm hàng-Lô C, KCN Long Khánh, Bình Lộc, Thị xã Long Khánh, Đồng Nai', 'Công nhân kiểm hóa', 'Công nhân kiểm nghiệm mía đường bậc 4/6', 'Công nhân kiểm tra', 'Công nhân kiểm tra chai', 'Công nhân kiểm tra chất lượng', 'Công nhân kiểm tra chất lượng ( May công nghiệp )', 'Công nhân kiểm tra chất lượng sản phẩm', 'Công nhân kiểm tra chất lượng sản phẩm may công nghiệp', 'Công nhân kiểm tra chất lượng(hoặc kiểm hoá, thu hoá), (may công nghiệp)', 'Công nhân kiểm tra sản phẩm', 'Công nhân kiểm tra tổng hợp', 'Công nhân ky? thuâ?t Sửa máy', 'Công nhân kéo khô', 'Công nhân kỹ thuật', 'Công nhân kỹ thuật bộ phận PCBA', 'Công nhân kỹ thuật viễn thông', 'Công nhân lao động phổ thông', 'Công nhân lao động phổ thông, bậc 1/7', 'Công nhân lao động phổ thông, bậc 2/7 - Giàng Chu Phìn, Mèo Vạc, Hà Giang', 'Công nhân là', 'Công nhân là (Công nhân may công nghiệp)', 'Công nhân là hoàn thiện', 'Công nhân là hơi', 'Công nhân là may công nghiệp, bậc 1/6', 'Công nhân là sản phẩm', 'Công nhân là sản phẩm may công nghiệp', 'Công nhân là sản phẩm may công nghiệp bậc 1/7', 'Công nhân là sản phẩm may công nghiệp, bậc 1/6 (A,01)', 'Công nhân là thành phẩm', 'Công nhân là trong chuyền', 'Công nhân là ủi', 'Công nhân là ủi, tẩy sản phẩm, đóng gói', 'Công nhân là, gấp, đóng gói', 'Công nhân là, gấp, đóng gói  ( may công nghiệp )', 'Công nhân là, gấp, đóng gói may công nghiệp', 'Công nhân làm bánh tráng', 'Công nhân làm rập', 'Công nhân làm trong công ty bảng mạch FBCB dùng cho camera điện thoại di động', 'Công nhân làm tại TP Buôn Ma Thuột', 'Công nhân làm việc 3 ca', 'Công nhân làm việc theo chế độ 03 ca', 'Công nhân làm đường', 'Công nhân lái xe', 'Công nhân lái xe - LX1/4', 'Công nhân lái xe 45 chỗ', 'Công nhân lái xe Huyndai tải trọng 15 tấn', 'Công nhân lái xe con', 'Công nhân lái xe nâng tại xe nâng', 'Công nhân lái xe tải từ 7,5 tấn đến dưới 16,5 tấn', 'Công nhân lái xe ô tô tải 16,5 tấn', 'Công nhân lái, vận hành các loại xe chuyên dùng chở rác, phân từ 7,5 tấn đến dưới 16,5 tấn', 'Công nhân láp ráp mạch điện tử', 'Công nhân lên xuống container', 'Công nhân lăp ráp', 'Công nhân lấy mẫu phân tích than', 'Công nhân lấy số lượng', 'Công nhân lắp jig', 'Công nhân lắp ráp', 'Công nhân lắp ráp B', 'Công nhân lắp ráp bình acquy', 'Công nhân lắp ráp bản mạch', 'Công nhân lắp ráp linh kiện', 'Công nhân lắp ráp linh kiện điện', 'Công nhân lắp ráp linh kiện điện thoại', 'Công nhân lắp ráp linh kiện điện tử', 'Công nhân lắp ráp motor', 'Công nhân lắp ráp mạch điện tử', 'Công nhân lắp ráp tai nghe', 'Công nhân lắp ráp thành phẩm', 'Công nhân lắp ráp điện tử', 'Công nhân lắp ráp điện tử làm việc theo chế độ 3 ca', 'Công nhân lắp ráp, sửa chữa các công trình dầu khí', 'Công nhân lắp ráp, vận chuyển linh kiện, kiểm tra và đóng gói sản phẩm', 'Công nhân lắp ráp, đóng gói', 'Công nhân lắp rắp thành phẩm', 'Công nhân lắp zíc', 'Công nhân lắp đặt', 'Công nhân lột sen ấu', 'Công nhân may', 'Công nhân may - Công Ty Cổ Phần Đầu Tư Minh Bảo Tín', 'Công nhân may - Lô C, KCN Long Khánh, Bình Lộc, Thành Phố Long Khánh', 'Công nhân may 1 kim', 'Công nhân may CN', 'Công nhân may Công nghiệp', 'Công nhân may Công nghiệp  bậc 1/6', 'Công nhân may Công nghiệp - Phân xưởng', 'Công nhân may Jumbo', 'Công nhân may balô', 'Công nhân may cn', 'Công nhân may công nghiệp', 'Công nhân may công nghiệp (LĐHĐ)', 'Công nhân may công nghiệp -Xí Nghiệp may Lục Nam', 'Công nhân may công nghiệp bậc 2/15', 'Công nhân may công nghiệp, Chi nhánh may Việt Thái', 'Công nhân may giày', 'Công nhân may giày công nghiệp', 'Công nhân may giày da', 'Công nhân may giầy', 'Công nhân may giỏ', 'Công nhân may hoàn thành', 'Công nhân may máy may công nghiệp', 'Công nhân may máy trụ 1 kim - 2 kim', 'Công nhân may phòng mẫu', 'Công nhân may sản phẩm', 'Công nhân may tay', 'Công nhân may trực tiếp công nghiệp', 'Công nhân may tổ 408', 'Công nhân may vi tính', 'Công nhân may, XN May Đồng Thịnh', 'Công nhân mài chà quần bò', 'Công nhân mài máy', 'Công nhân mài phá', 'Công nhân mài đế', 'Công nhân máy dập', 'Công nhân máy in', 'Công nhân máy lọc nước', 'Công nhân máy may', 'Công nhân máy may Công nghiệp', 'Công nhân mạ nhôm', 'Công nhân mắc canh', 'Công nhân mộc', 'Công nhân nghiền', 'Công nhân nguội sửa chữa đầu máy xe lửa', 'Công nhân nhuộm', 'Công nhân nhà máy Tuner', 'Công nhân nhà máy gạch', 'Công nhân nhóm đổi mới', 'Công nhân nhận hàng', 'Công nhân nhập số liệu kho', 'Công nhân nhặt chỉ', 'Công nhân nung lốp', 'Công nhân nuôi tôm', 'Công nhân nước thải', 'Công nhân nạp liệu lò cao - thao tác tài B, đài A luyện gang', 'Công nhân pha cắt', 'Công nhân pha trộn mực in và sửa chữa máy may công nghiệp', 'Công nhân phun sơn', 'Công nhân phá, đầm tường, xây lò luyện thép', 'Công nhân phát triển', 'Công nhân phân xưởng chặt', 'Công nhân phòng Final', 'Công nhân phòng Quản lý Nguyên vật liệu -  Nhà máy Động cơ', 'Công nhân phòng Sản xuất số 1 (Zakuro)', 'Công nhân phòng Sản xuất số 2 (Maris)', 'Công nhân phòng chế tạo', 'Công nhân phòng máy', 'Công nhân phòng mẫu', 'Công nhân phòng quản lÝ sản xuất', 'Công nhân phòng sạch', 'Công nhân phòng sản xuất', 'Công nhân phòng sản xuất Ato', 'Công nhân phòng sản xuất Mae', 'Công nhân phết keo mũ giầy', 'Công nhân phết keo đế và mũ giày', 'Công nhân phổ thông', 'Công nhân phụ', 'Công nhân phụ BP hoàn thành', 'Công nhân phụ chuyền', 'Công nhân phụ cắt', 'Công nhân phụ may', 'Công nhân phụ may - Suối Tre - Long Khánh - Đồng Nai', 'Công nhân phụ may công nghiệp', 'Công nhân phụ trợ luyện kim', 'Công nhân phụ việc', 'Công nhân phụ việc chuyền may công nghiệp', 'Công nhân phụ, cắt giầy nữ', 'Công nhân phụ, may máy công nghiệp', 'Công nhân phục vụ phụ trợ', 'Công nhân quai', 'Công nhân quét bản', 'Công nhân quét keo', 'Công nhân quét rác đường phố', 'Công nhân quản lÝ chất lượng', 'Công nhân quản lý lưới', 'Công nhân quản lý sửa chữa thường xuyên đường bộ', 'Công nhân quản lý vận hành đường dây 220kv-500kv', 'Công nhân quản lý vận hành đường dây và trạm biến áp # 35KV - Điện lực Đại từ', 'Công nhân quản lý vận hành, sữa chữa lưới điện. Điện lực Tháp Mười', 'Công nhân quấn băng', 'Công nhân quấn dây', 'Công nhân quấn dây tự động', 'Công nhân ráp thô', 'Công nhân ráp tủ - Tổ lắp ráp', 'Công nhân sang chai, đóng gói thuốc bảo vệ thực vật', 'Công nhân sản xuất vải không dệt', 'Công nhân saản xuất', 'Công nhân so sửa bán thành phẩm', 'Công nhân so, sửa bán thành phẩm', 'Công nhân soi chai', 'Công nhân sx', 'Công nhân sx PS', 'Công nhân sx gạch', 'Công nhân sx hạt điều', 'Công nhân sơn', 'Công nhân sơn Cabin', 'Công nhân sơn sắt', 'Công nhân sản quét keo', 'Công nhân sản trức tiếp sản xuất', 'Công nhân sản xuât', 'Công nhân sản xuất', 'Công nhân sản xuất (Lắp ráp)', 'Công nhân sản xuất (bao bì, mỹ phẩm)', 'Công nhân sản xuất (gia công cơ khí)', 'Công nhân sản xuất - Nhà máy Động cơ', 'Công nhân sản xuất - giản đơn', 'Công nhân sản xuất Camera', 'Công nhân sản xuất Metal', 'Công nhân sản xuất PPC', 'Công nhân sản xuất TB điện', 'Công nhân sản xuất bánh kẹo', 'Công nhân sản xuất bánh mứt kẹo', 'Công nhân sản xuất camera điện thoại', 'Công nhân sản xuất có tay nghề', 'Công nhân sản xuất dây dẫn điện', 'Công nhân sản xuất giày', 'Công nhân sản xuất giày và các công việc liên quan', 'Công nhân sản xuất giầy', 'Công nhân sản xuất gạch men', 'Công nhân sản xuất gạch ngói', 'Công nhân sản xuất hạt nhựa màu', 'Công nhân sản xuất hệ thống dây dẫn điện và điện tử sử dụng trong ngành công nghiệp điện tử và ô tô', 'Công nhân sản xuất hộp giấy', 'Công nhân sản xuất hợp kim nhôm', 'Công nhân sản xuất linh kiện Camera', 'Công nhân sản xuất linh kiện trong loa', 'Công nhân sản xuất linh kiện điện thoại', 'Công nhân sản xuất linh kiện điện tử', 'Công nhân sản xuất lắp ráp', 'Công nhân sản xuất motor', 'Công nhân sản xuất máy in, máy fax, linh kiện, thiết bị điện tử, các loại khuôn', 'Công nhân sản xuất máy móc dành cho may mặc và phụ kiện, thiết bị hao mòn và các bộ phận liên quan đến các loại máy này - BP Sản xuất', 'Công nhân sản xuất mạng sản xuất phụ tùng', 'Công nhân sản xuất nền đĩa thủy tinh', 'Công nhân sản xuất nền đĩa thủy tinh Công ty TNHH Hoya Glass Disk Việt Nam', 'Công nhân sản xuất phân bón', 'Công nhân sản xuất quả xốp - IJT-D01', 'Công nhân sản xuất roong', 'Công nhân sản xuất thiết bị điện tử', 'Công nhân sản xuất thuốc bột', 'Công nhân sản xuất túi khí ô tô', 'Công nhân sản xuất tất', 'Công nhân sản xuất tủ lạnh', 'Công nhân sản xuất và lắp ráp điện tử', 'Công nhân sản xuất vỏ điện thoại', 'Công nhân sản xuất điện tử', 'Công nhân sản xuất đế', 'Công nhân sản xuất đế giày', 'Công nhân sản xuất đế giầy', 'Công nhân sản xuất đồ chơi', 'Công nhân sản xuất đồ dùng bằng da bậc 1/6 N2A22', 'Công nhân sản xuất ống dẫn nhiên liệu', 'Công nhân sản xuất ống thép và mạ kẽm', 'Công nhân sản xuất, BP sản xuất', 'Công nhân sản xuất, lắp ráp bản mạch', 'Công nhân sản xuất-CMP', 'Công nhân sửa chửa thiết bị luyện kim', 'Công nhân sửa chữa các thiết bị sản xuất xi măng trong các phân xưởng sản xuất chính', 'Công nhân sửa chữa cơ điện trong hầm lò', 'Công nhân sửa chữa máy may công nghiệp', 'Công nhân sửa chữa máy sợi', 'Công nhân sửa chữa máy sợi, dệt, nhuộm tại phân xưởng', 'Công nhân sửa chữa thiết bị luyện kim', 'Công nhân sửa chữa toa xe bậc 1/7', 'Công nhân sửa chữa điện', 'Công nhân sửa cá', 'Công nhân sửa giày, vô phom', 'Công nhân sửa máy', 'Công nhân sửa máy may công nghiệp', 'Công nhân test hàng', 'Công nhân thao tác', 'Công nhân thao tác công đoạn đế', 'Công nhân thao tác máy cán', 'Công nhân thao tác máy ép đế', 'Công nhân thay nguyên liệu,thay khuôn, gia công dập, gia công tap,xử lÝ scrap, vận chuyển linh kiện', 'Công nhân thay, tháo, dán dây da', 'Công nhân thu gom rác', 'Công nhân thu gom rác thải', 'Công nhân thu hóa', 'Công nhân thu phát, may công nghiệp', 'Công nhân thành hình', 'Công nhân thành phẩm', 'Công nhân thành phẩm bao bì carton', 'Công nhân thêu', 'Công nhân thêu vi tính', 'Công nhân thí nghiệm, phân tích hóa chất thuốc nhuộm', 'Công nhân thời vụ', 'Công nhân thợ may', 'Công nhân thủ công', 'Công nhân thủ công kỹ thuật', 'Công nhân thủ công tổ may', 'Công nhân tinh chế', 'Công nhân tiếp nhận', 'Công nhân tiếp nhận cá', 'Công nhân trang trí', 'Công nhân tráng phủ', 'Công nhân trại', 'Công nhân trạm cấp nước TT Càng Long', 'Công nhân trải Vải - xnmay1', 'Công nhân trải trải vải', 'Công nhân trải vải', 'Công nhân trải vải, đánh số', 'Công nhân trồng và hái chè đội Tiền Tiến', 'Công nhân trồng và thu hái chè', 'Công nhân trộn bột', 'Công nhân trộn hóa chất', 'Công nhân trực ban - Ga K3 - XN vận tải đường sắt', 'Công nhân trực tiếp', 'Công nhân trực tiếp may công nghiệp', 'Công nhân trực tiếp sản xuất sản phẩm ép nhựa', 'Công nhân trực tiếp sản xuất, làm việc theo chế độ 3 ca', 'Công nhân tuyển rửa đá, đóng bao sản phẩm bột đá  siêu mịn', 'Công nhân tạo hình', 'Công nhân tạo hạt nhựa', 'Công nhân tạp vụ', 'Công nhân tổ 3 - Tổ 3', 'Công nhân tổ BHLĐ', 'Công nhân tổ Bản mã', 'Công nhân tổ Bốc vác', 'Công nhân tổ Chuẩn bị', 'Công nhân tổ Cắt lót đế', 'Công nhân tổ Dập X3', 'Công nhân tổ In', 'Công nhân tổ May H', 'Công nhân tổ May mũ giày', 'Công nhân tổ Mộc Xuất Khẩu', 'Công nhân tổ PHYLON', 'Công nhân tổ Ráp giày thành phẩm', 'Công nhân tổ Rút sợi, Rút sợi', 'Công nhân tổ Xếp khuôn', 'Công nhân tổ chuẩn bị , Đường D1, KCN Suối Tre, Xã Bảo Vinh, TX.Long Khánh, Tỉnh Đồng Nai.', 'Công nhân tổ cưa cd', 'Công nhân tổ cẩu', 'Công nhân tổ cắt', 'Công nhân tổ cắt vải', 'Công nhân tổ gia công', 'Công nhân tổ hoàn chỉnh', 'Công nhân tổ hàn', 'Công nhân tổ kiểm tra', 'Công nhân tổ may', 'Công nhân tổ máy', 'Công nhân tổ phun Sơn', 'Công nhân tổ ủi', 'Công nhân tổng vụ', 'Công nhân viên', 'Công nhân viên , trường mẫu giáo Trần Đề', 'Công nhân vân hành bậc 27', 'Công nhân vận hành máy', 'Công nhân vạn hành máy may công nghiệp', 'Công nhân vận chuyển', 'Công nhân vận chuyển sản phẩm', 'Công nhân vận chuyển vải giữa các công đoạn chuyền may, XN May Đồng Thịnh', 'Công nhân vận chuyển vải, sợi trong kho nguyên phụ liệu', 'Công nhân vận hành', 'Công nhân vận hành MMCN', 'Công nhân vận hành Máy May CN', 'Công nhân vận hành ST', 'Công nhân vận hành bơm nước có công suất <8000m/h', 'Công nhân vận hành bậc 1', 'Công nhân vận hành dây chuyền sợi', 'Công nhân vận hành dây chuyền sợi (Máy sợi con)', 'Công nhân vận hành hệ thống các thiết bị vận chuyển', 'Công nhân vận hành khống chế PLC', 'Công nhân vận hành lò hơi', 'Công nhân vận hành máy', 'Công nhân vận hành máy Dệt kim tròn', 'Công nhân vận hành máy PP Channel', 'Công nhân vận hành máy bơm', 'Công nhân vận hành máy bơm công suất >8000m3/h', 'Công nhân vận hành máy dệt công nghiệp', 'Công nhân vận hành máy dệt kim tròn', 'Công nhân vận hành máy dệt nước', 'Công nhân vận hành máy giặt, nhuộm liên hợp', 'Công nhân vận hành máy in hoa trên trục', 'Công nhân vận hành máy in tiền', 'Công nhân vận hành máy may', 'Công nhân vận hành máy may (May công nghiệp)', 'Công nhân vận hành máy may (may công nghiệp)', 'Công nhân vận hành máy may - Khu Vực Bắc Giang', 'Công nhân vận hành máy may CN', 'Công nhân vận hành máy may Công nghiệp', 'Công nhân vận hành máy may công  nghiệp', 'Công nhân vận hành máy may công nghiệp', 'Công nhân vận hành máy may công nghiệp. Bậc 1/6 N2A2.2', 'Công nhân vận hành máy may, lao động loại  4', 'Công nhân vận hành máy may- Xí nghiệp may Lạng Giang', 'Công nhân vận hành máy may-LĐ Loại IV', 'Công nhân vận hành máy nhuộm sợi', 'Công nhân vận hành máy sợi', 'Công nhân vận hành máy sữa chữa', 'Công nhân vận hành máy thêu', 'Công nhân vận hành máy trong quy trình in', 'Công nhân vận hành máy ép đế giày cao su', 'Công nhân vận hành máy đột dập kim loại', 'Công nhân vận hành thiết bị', 'Công nhân vận hành thiết bị may Công nghiệp', 'Công nhân vận hành thiết bị may công nghiệp', 'Công nhân vận hành thiết bị may công nghiệp, Bậc 1/4 (A.01)', 'Công nhân vận hành thiết bị may công nghiệp, bậc 1/4 (A.01)', 'Công nhân vận hành thiết bị may công nghiệp, bậc 1/6', 'Công nhân vận hành thiết bị may công nghiệp,bậc 1/6', 'Công nhân vận hành thiết bị may công nghiệp. Bậc 1/6 (A.01)', 'Công nhân vận hành thiết bị máy', 'Công nhân vận hành trạm biến áp trung gian 35 KV - Chi nhánh điện Cẩm Thuỷ', 'Công nhân vận hành tổ điện phân, nén sấy khô Clo, lò HCl, javen', 'Công nhân vận hành điện, CNĐ Thị xã', 'Công nhân vắt sổ', 'Công nhân vẽ', 'Công nhân vệ sinh', 'Công nhân vệ sinh môi trường', 'Công nhân xoắn dây', 'Công nhân xuất hàng', 'Công nhân xuất nhập thành phẩm', 'Công nhân xây dựng', 'Công nhân xưởng KCS', 'Công nhân xưởng cơ khí', 'Công nhân xưởng gia công', 'Công nhân xưởng hàn', 'Công nhân xưởng lắp ráp', 'Công nhân xưởng may', 'Công nhân xưởng may Kimono', 'Công nhân xưởng xốp', 'Công nhân xếp', 'Công nhân xử lÝ nhiệt', 'Công nhân xử lý', 'Công nhân Ép cao tần', 'Công nhân Ép nhiệt', 'Công nhân ép Loxo', 'Công nhân ép nhựa', 'Công nhân ép nóng mặt giày', 'Công nhân ép phun', 'Công nhân ép đế', 'Công nhân ép đế trung A', 'Công nhân Đi Ca', 'Công nhân Đào tạo May', 'Công nhân Đóng gói (thủ công) PHÂN XƯỞNG GẠO', 'Công nhân Đóng thùng', 'Công nhân Đùn', 'Công nhân Đúc', 'Công nhân Đế', 'Công nhân Đế 15', 'Công nhân Đứng máy cắt tự động ATOM', 'Công nhân đai dây', \"Công nhân điện lực CưM'gar\", 'Công nhân điện nước', 'Công nhân đo đếm vải may công nghiệp, b?c 1/6', 'Công nhân đánh bóng sản phẩm', 'Công nhân đánh số', 'Công nhân đánh số bậc 1/6', 'Công nhân đóng gói', 'Công nhân đóng gói (may công nghiệp)', 'Công nhân đóng gói - A249618', 'Công nhân đóng gói cấp 2', 'Công nhân đóng gói hàng hóa', 'Công nhân đóng gói lắp ráp', 'Công nhân đóng gói sản phẩm', 'Công nhân đóng gói sản phẩm may công nghiệp', 'Công nhân đóng gói-lđpt', 'Công nhân đóng gói.', 'Công nhân đóng hộp', 'Công nhân đóng kiện trong dây chuyền dệt may', 'Công nhân đóng kiện trong dây chuyền may', 'Công nhân đóng nút', 'Công nhân đóng thùng', 'Công nhân đóng thùng; Cong Ty TNHH DAUM &amp;amp; QQ VIETNAM', 'Công nhân đùn', 'Công nhân đúc', 'Công nhân đường thuê bao', 'Công nhân đế', 'Công nhân địa chất quan trắc địa hình', 'Công nhân địa chất tập sự', 'Công nhân định hình Italy', 'Công nhân đồng bộ bán thành phẩm', 'Công nhân đổi bán thành phẩm', 'Công nhân đội Thực Phẩm', 'Công nhân đội thành phẩm', 'Công nhân đột dập', 'Công nhân đứng máy', 'Công nhân đứng máy CNC', 'Công nhân đứng máy dán Shoe comp', 'Công nhân đứng máy in ép da lót tẩy', 'Công nhân đứng máy mài', 'Công nhân đứng máy sản xuất dây thừng', 'Công nhân đứng máy tráng phủ', 'Công nhân đứng máy tự lên keo', 'Công nhân ươm trồng và phát triển cây xanh', 'Công nhân ủi', 'Công nhân ủi (may công nghiệp)', 'Công nhân ủi - may công nghiệp', 'Công nhân ủi quần áo', 'Công nhân, CN May CN', 'Công nhân, Cty CPCCB Gỗ Đức Thành', 'Công nhân, In - chia cuộn trong GMP', 'Công nhân, KTCL Chip 2', 'Công nhân, Phòng  Phân phối', 'Công nhân, Phòng Kho', 'Công nhân, Sản xuất', 'Công nhân, Trạm trung chuyển thủy sản', 'Công nhân, bộ phận May', 'Công nhân, bộ phận Thành hình', 'Công nhân, tổ ép nhựa - Xưởng May gáy', 'Công nhân- Công ty cổ phần tôn mạ màu Fujiton- KCN Tiên Sơn, Bắc Ninh', 'Công nhân- Thợ In', 'Công nhân- Xưởng Đúc', 'Công nhân-Công nhân làm tô cốc-PHÂN XƯởNG Mì', 'Công nhân-GCB', 'Công nhân-GEA825', 'Công nhân-Gấp biên', 'Công nhân-Gấp tỉa vật liệu', 'Công nhân-Kiểm hàng', 'Công nhân-Thủ công', 'Công nhân-XD', 'Công nhân-Điều không', 'Công nhân-Đóng gói', 'Công nhân-đóng gói', 'Công nhân_OUTSOLE-Ép-LINE 3', 'Công nhân_Đứng máy ép Outsole', 'Công nhận vận hành máy may công nghiệp', 'Cônh nhân tổ thống kê', 'CĐ Điện công nghiệp', 'CĐƯD', 'Cửa hàng trưởng', 'Cạo mủ', 'Cảng vụ viên', 'Cấp dưỡng', 'Cỏn b?', 'Cồng nhân vận hành máy may', 'Cộng tác viên', 'Cụng Nhõn Ch?t', 'Cụng nhõn', 'Cụng nhõn gia cụng linh ki?n cao su trong mỏy in', 'Cụng nhõn qu?n lý v?n hành', 'Cụng nhõn đứng mỏy', 'Cử nhân bậc 1', 'Cử nhân kinh tế', 'Cử nhân kế toán', 'Cử nhân kỹ thuật hình ảnh y học', 'Cử nhân quản trị kinh doanh', 'Cử nhân sinh học, Viện vệ sinh dịch tễ Trung ương', 'Cử nhân y tế cộng đồng, phòng KHTH', 'Cử nhân, nạp liệu lò cao sản xuất phân lân nung chảy', 'Cửa hàng phó VinMart+', 'Cửa hàng trưởng', 'Debug Operator', 'Diễn viên', 'Diễn viên hạng IV', 'Diễn viên nhạc cụ. diễn viên hạng  V.100414, bậc 1/9, 85%', 'Dân tộc - Tôn giáo', 'Dược sĩ  hạng IV,  Khoa Dược', 'Dược sĩ trung học', 'Dược sĩ đại học', 'Dược sỹ', 'Dược sỹ TC, Khoa Dược', 'Dược sỹ Trung học', 'Dược sỹ trung cấp bậc 2 MN16.135, phó phòng y tế', 'Dược sỹ trung học', 'Dược trung', 'Dược tá', 'DỆT - CA CHÍ HẢI', 'Dự án', 'Dựơc tá', 'FC Operator', 'GDV - PGD Bến Xe Miền Tây. Phường An Lạc, Quận Bình Tân, TP.HCM', 'GIAO DịCH VIÊN', 'GIÁM SÁT BÁN HÀNG', 'GIÁM ĐỐC', 'GIáO VIÊN', 'GSBH', 'GV', 'GV Tiểu Học', 'GV âm nhạc', 'Gia Công Đế', 'Giao Dịch Viên', 'Giao Nhận', 'Giao dịch viên', 'Giao dịch viên cấp 1', 'Giao dịch viên, Bưu điện huyện Nghĩa Đàn', 'Giao dịch viên,TP THỦ DẦU MỘT - BÌNH DƯƠNG', 'Giao hàng', 'Giao nhận', 'Giao nhận, Hậu cần', 'Giám Sát', 'Giám Sát Bán Hàng Trực Tiếp', 'Giám Sát Tạp Vụ', 'Giám sát', 'Giám sát BH', 'Giám sát Cảnh QUan', 'Giám sát Nhà hàng', 'Giám sát Phát triển Kinh doanh kênh xe máy - miền Đông', 'Giám sát bán hàng', 'Giám sát bán hàng (Nước)', 'Giám sát bếp', 'Giám sát bộ phận buồng phòng', 'Giám sát công trình', 'Giám sát cấp thoát nước', 'Giám sát giặt là', 'Giám sát nhà hàng', 'Giám sát nhân sự nhà máy', 'Giám sát quản lý chất lượng', 'Giám sát thi công', 'Giám sát trung tâm', 'Giám sát vệ sinh', 'Giám sát xe đẩy', 'Giám éịnh Viên', 'Giám Đốc', 'Giám đốc', 'Giám đốc Công ty; Công ty TNHH MTV Nhật Vượng', 'Giám đốc Nhà máy', 'Giám đốc tài chính', 'Giáo  viên mầm non', 'Giáo Viên', 'Giáo Viên Anh', 'Giáo Viên Cao Đẳng Mần Non bậc 1/10, Trường Tiểu Học Mông Ân', 'Giáo Viên Mầm Non', 'Giáo Viên Mầm Non Chính Bậc 1/10', 'Giáo Viên Trường TH Nguyễn Bỉnh Khiêm', 'Giáo Viên. Trường TH Số 1 Ba Dinh', 'Giáo viên', 'Giáo viên                                                                                      Giáo', 'Giáo viên  TH Lê Lợi', 'Giáo viên  trường TH Trí Bình', 'Giáo viên  trường THCS Mường Chiên', 'Giáo viên (lao động hợp đồng)', 'Giáo viên (tổ phó)', 'Giáo viên + tổ phó', 'Giáo viên - Tổ trưởng', 'Giáo viên -Tổ  trưởng  môn ngoại ngữ', 'Giáo viên MN. Tr MN Tân Lang', 'Giáo viên Mầm Non', 'Giáo viên Mầm non', 'Giáo viên Mầm non hạng IV- Mã số V.07.02.06; hưởng 85% bậc I: 1,86', 'Giáo viên Sinh', 'Giáo viên THCS', 'Giáo viên THCS Khánh Thượng', 'Giáo viên THCS chính', 'Giáo viên THPT', 'Giáo viên THPT (Tập sự)', 'Giáo viên Tiểu học', 'Giáo viên Tiểu học( tập sự)', 'Giáo viên Trường MN Vàng Anh', 'Giáo viên Trường Mầm non số 1 Khoen On', 'Giáo viên Trường THCS Cao Thắng', 'Giáo viên Trường THCS Nghĩa Thuận', 'Giáo viên Trường THCS Thuận Hưng', 'Giáo viên Trường THPT Mường Giôn', 'Giáo viên Trường mầm non Xuân Phú', 'Giáo viên bậc 1/12 Trường mầm non Ngọc Côn', 'Giáo viên dân lập', 'Giáo viên dạy môn thể dục bậc 1/10', 'Giáo viên dậy hợp đồng', 'Giáo viên hợp đồng', 'Giáo viên hợp đồng. Dạy Mỹ Thuật', 'Giáo viên mầm non', 'Giáo viên mầm non KTBC nhà nước', 'Giáo viên mầm non chính bậc 1/10, trường Mầm non Mông Ân', 'Giáo viên mầm non hạng II - Tổ phó', 'Giáo viên mầm non hạng IV - Tổ trưởng chuyên môn', 'Giáo viên mầm non hợp đồng', 'Giáo viên mầm non không trong biên chế nhà nước', 'Giáo viên mầm non tập sự bậc 1/12', 'Giáo viên tiểu học', 'Giáo viên tiểu học chính bậc 1/10, trường Tiểu học Đơn Sài', 'Giáo viên tiểu học hạng IV', 'Giáo viên trung học', 'Giáo viên trung học bậc 1/9', 'Giáo viên trung học cơ sở', 'Giáo viên trung học cơ sở chính', 'Giáo viên trường MN Cốc Ly 1', 'Giáo viên trường MN Ia khươl', 'Giáo viên trường MN Thanh Kim', \"Giáo viên trường TH H'ra số 1\", 'Giáo viên trường TH Hố Mít', 'Giáo viên trường TH số 1 Nậm Tăm', 'Giáo viên trường THCS Nghĩa Hà - Tư Nghĩa', 'Giáo viên trường mầm non lao xả phình tủa chùa điện biên', 'Giáo viên tổ phó chuyên môn', 'Giáo viên+tổ phó', 'Giáo viên, Trường TH Âu Dương Lân', 'Giáo viên, Trường Th Hồ Văn Nhánh', 'Giáo viên, Trường mầm non Bông Sen', 'Giáo viên, Tổ phó', 'Giáo viên, tổ trưởng', 'Giáo viên- Trường Mầm Non Hoà Phú', 'Giáo viên- Trường Mầm Non Thành Công', 'Giáo viên.Trường Mầm Non Vành Khuyên', 'Giáo viên.Trường Mẫu Giáo Hướng Dương', 'Giáo viên.Trường Tiểu học Đăk Trăm', 'Giáo viến, Trường Mầm non số 2 TT Mường Khương', 'Giảng viên', 'Giảng viên bộ môn địa lý', 'Giảng viên hợp đồng', 'Giảng viên trợ giảng', 'Giảng viên, Khoa Cơ khí đóng tàu', 'Giỏm sỏt', 'Gác ghi, ghép nối đầu máy, toa xe', 'H? lý', 'Hiệu Trưởng', 'Hiệu phó', 'Hiệu trưởng', 'Huấn luyện viên', 'Huấn luyện viên Cá nhân', 'Huấn luyện viên thể thao cấp 2', 'Hàn điện, hàn hơi', 'Hàng rong', 'Hành chính nhân sự', 'HĐLĐ Bảo hiểm thất nghiệp (Minh)', 'Hướng dẫn viên', 'Học nghề (thợ leo)', 'Học viên - công nhân vận hành NPK', 'Học viên nhóm dạy lớp', 'Hỗ trợ bán hàng', 'Hỗ trợ sản xuất', 'Hộ lý', 'Hộ lý bậc 1/12', 'Hộ sinh', 'Hộ sinh TC', 'Hộ sinh TYT Ea Hu', 'Hộ sinh trung cấp', 'Hợp đông lao động công việc Kỹ thuật viên xét nghiệm y học', 'Hợp đồng Giáo viên', 'Hợp đồng Giáo viên mầm non', 'Hợp đồng giáo viên dạy môn tin học', 'Hợp đồng giáo viên mầm non', 'Hợp đồng giáo viên tiểu học', 'Hợp đồng lao động', 'Hợp đồng quay phim', 'I', 'K? s?', 'KCS chuyền', 'KCSMHM', 'KHUNG SắT', 'KINH DOANH', 'KS cơ khí', 'KSXD', 'KTCN', 'KTTNTL', 'KTV Cơ khí', 'KTV Quản lý triển khai, ứng cứu & XLSC ngoại vi', 'KTV Quản lý triển khai, ứng cứu & XLSC ngoại vi', 'KTV Setup', 'KTV Sơ cấp', 'KTV Xử lý dữ liệu', 'KTV Xử lý dữ liệu (Cần Thơ)', 'KTV xét nghiệm', 'Khai thác bưu gửi', 'Khai thác mỏ hầm lò', 'Kho', 'Kho quỹ', 'Khuôn', 'Kinh  doanh', 'Kinh Doanh', 'Kinh doanh', 'Kinh tế viên (Hương Khê)', 'Kinh tế viên III', 'Kinh tế viên cấp 1 - Phòng Quản lý nợ có vấn đề', 'Kinh tế viên cấp 1-Giao dịch viên', 'Kinh tế viên tín dụng- Ngân hàng NN huyện Thiệu Hoá', 'KiÓm tra chÊt l\\xadîng', 'Kiến Trúc Sư', 'Kiến trúc sư', 'Kiểm Gấp', 'Kiểm Phẩm -Xưởng B', 'Kiểm ngân', 'Kiểm soát viên', 'Kiểm soát viên thị trường bậc 1/9 (tập sự)', 'Kiểm soát viên đê điều', 'Kiểm tra chất lượng', 'Kiểm tra viên', 'Kiểm định viên', 'Kỹ thuật viên', 'Kĩ sư', 'Kĩ thuật', 'Kĩ thuật viên', 'Kế Hoạch GTTL_NLN', 'Kế TOáN', 'Kế Toán', 'Kế Toán Trưởng', 'Kế hoạch', 'Kế toán', 'Kế toán Văn phòng', 'Kế toán bán hàng', 'Kế toán bộ phận', 'Kế toán công nợ', 'Kế toán công trình', 'Kế toán cửa hàng', 'Kế toán kho', 'Kế toán kiểm soát chi phí', 'Kế toán nhập liệu', 'Kế toán trưởng', 'Kế toán viên', 'Kế toán viên trung cấp', 'Kế toán viên-Vùng 4-Sóc Trăng', 'Kế toán vật tư', 'Kỷ sư(cao đẳng) bậc 1/12', 'Kỷ thuật viên', 'KỸ SƯ', 'KỸ THUẬT', 'KỸ THUẬT VIÊN NDT', 'Kỹ Sư', 'Kỹ Sư Thiết Kế', 'Kỹ THUậT VIÊN', 'Kỹ Thuật', 'Kỹ Thuật Tác Nghiệp', 'Kỹ Thuật Viên', 'Kỹ Thuật trạm', 'Kỹ sư', 'Kỹ sư - Kế toán', 'Kỹ sư BĐH', 'Kỹ sư Cơ', 'Kỹ sư Sản xuất Module', 'Kỹ sư Thiết kế', 'Kỹ sư Xây Dựng', 'Kỹ sư chất lượng khách hàng', 'Kỹ sư chế biến', 'Kỹ sư công trình thủy điện, Chi nhánh Sông Đà 6.04, Đạo Đức, Vị Xuyên, Hà Giang', 'Kỹ sư cơ khí', 'Kỹ sư cơ khí, bậc 1/8', 'Kỹ sư giám sát M&amp;amp;E', 'Kỹ sư kỹ thuật công trình XD', 'Kỹ sư nấu bia', 'Kỹ sư phòng Coating', 'Kỹ sư phòng Vỏ chế tạo', 'Kỹ sư phòng kỹ thuật giám sát', 'Kỹ sư quản lý chất lượng', 'Kỹ sư thuỷ lợi', 'Kỹ sư thương mại', 'Kỹ sư trưởng cơ', 'Kỹ sư tập sự', 'Kỹ sư xây dựng', 'Kỹ sư xây dựng bậc 1/8, Nhân viên xưởng Thiết kế 3', 'Kỹ sư xây dựng cầu đường', 'Kỹ sư điện', 'Kỹ sư điện nước', 'Kỹ sư đô thị', 'Kỹ sư địa chất', 'Kỹ sư ứng cứu thông tin, Trung Tâm bảo dưỡng, Cty Viễn Thông', 'Kỹ sư, Khoa Vệ Sinh Lao Động', 'Kỹ sư, cán bộ kỹ thuật', 'Kỹ thuật', 'Kỹ thuật hiện trường', 'Kỹ thuật lắp đặt', 'Kỹ thuật may', 'Kỹ thuật nhà máy', 'Kỹ thuật viên', 'Kỹ thuật viên Bảo trì', 'Kỹ thuật viên CN huyện Phụng Hiệp', 'Kỹ thuật viên Dây máy', 'Kỹ thuật viên RHM', 'Kỹ thuật viên Sản xuất Module - Sản xuất Module', 'Kỹ thuật viên bảo trì', 'Kỹ thuật viên bậc 2/12, Phòng Tính cước', 'Kỹ thuật viên chính', 'Kỹ thuật viên chính y', 'Kỹ thuật viên cấp cao', 'Kỹ thuật viên sơn', 'Kỹ thuật viên sản xuất', 'Kỹ thuật viên sản xuất nền đĩa thủy tinh', 'Kỹ thuật viên trung cấp', 'Kỹ thuật viên vệ sinh an toàn thực phẩm-xét nghiệm', 'Kỹ thuật viên xét nghiệm', 'Kỹ thuật viên y trung học', 'Kỹ thuật viên đồng', 'Kỹ thuật xay xát', 'Kỹ thuật Đội cầu 405', 'LAO ĐỘNG PHỔ THÔNG', 'LAO ĐỘNG PHỔ THÔNG X6 THÀNH PHẨM', 'LÁI XE', 'LLQS', 'LN091', 'LTV', 'Lao công', 'Lao d?ng ph? thụng', 'Lao Động Phổ Thông', 'Lao Động Phụ', 'Lao động phổ thông', 'Lao động PT', 'Lao động Phổ Thông', 'Lao động TT', 'Lao động giản đơn', 'Lao động hỗ trợ', 'Lao động phổ thông', 'Lao động phổ thông - Học viên VHNM', 'Lao động phổ thông chưa qua đào tạo', 'Lao động phổ thông, Tân Bình, HCM vùng 1', 'Lao động phụ', 'LÁi xe', 'LáI XE', 'Lái Xe', 'Lái Xe Vùng 1', 'Lái Xúc gạt', 'Lái cẩu', 'Lái cẩu chân đế 25 tấn', 'Lái máy', 'Lái máy xúc', 'Lái máy Đội Xe NT', 'Lái phụ máy bay F70', 'Lái xe', 'Lái xe 45 chỗ', 'Lái xe 7 chổ', 'Lái xe 8 tấn', 'Lái xe Container', 'Lái xe Taxi', 'Lái xe Tải (tổng tải trọng dưới 5 tấn)', 'Lái xe bus- bộ phận bus', 'Lái xe bồn trộn bê tông', 'Lái xe con', 'Lái xe cuốc', 'Lái xe nâng hàng', 'Lái xe nội bộ', 'Lái xe taxi', 'Lái xe trên 40 chỗ', 'Lái xe trên 40CN', 'Lái xe tại Đăk Nông', 'Lái xe tải 2.4 tấn', 'Lái xe tải trọng >25 tấn - Xí nghiệp xây dựng', 'Lái xe vận chuyển bê tông', 'Lái xe vận chuyển bê tông thương phẩm 15 tấn', 'Lái xe vận tải loại tải trọng 37,1 tấn', 'Lái xe ủi', 'LĐHĐ', 'LĐHĐ làm Ktoán', 'LĐPT', 'Lưu Hóa Các Sản Phẩm Cao Su', 'Lưu trữ viên', 'Lấy Mẫu', 'Lập trình viên', 'Lập trình viên Trung tâm phát triển phần mềm', 'Lập trình viên, Lập trình viên', 'Lắp ráp MVL', 'Lắp ráp ắc quy', 'Lễ tân', 'MAY CÔNG NGHIệP', 'Marketing', 'May', 'May Công Nghiệp', 'May công nghiệp', 'Mia', 'Mài phá', 'Máy 3 tàu biển 5.051 GRT', 'Máy trưởng', 'Mầm Non Nà Tấu', 'N.V', 'NCF - Nhân viên BH', 'NHUộM - CPB', 'NHÂN VIÊN', 'NHÂN VIÊN BX', 'NHÂN VIÊN BÁN HÀNG', 'NHÂN VIÊN BÁN HÀNG - P. QL NSKD', 'NHÂN VIÊN BáN HàNG - BếN TRE KV3', 'NHÂN VIÊN BẢO TRÌ', 'NHÂN VIÊN BảO Vệ', 'NHÂN VIÊN CHỨNG TỪ', 'NHÂN VIÊN CXHH&HL', 'NHÂN VIÊN KD; 5L đường số 01, phường 03, quận bình thạnh, tp.hcm', 'NHÂN VIÊN KINH DOANH', 'NHÂN VIÊN KINH DOANH - TUYÊN QUANG KV3', 'NHÂN VIÊN KẾ TOÁN', 'NHÂN VIÊN LáI XE', 'NHÂN VIÊN MAY MẫU', 'NHÂN VIÊN PHỤC VỤ', 'NHÂN VIÊN TẠP VỤ', 'NHÂN VIÊN TạP Vụ', 'NHÂN VIÊN Tổ XE', 'NV', 'NV  bán hàng', 'NV  kỹ thuật', 'NV An Ninh', 'NV B?o v?', 'NV BH', 'NV Buồng', 'NV Bán Hàng', 'NV Bán hàng', 'NV Bán hàng qua điện thoại', 'NV Báo giá', 'NV BẢO VỆ, LONG AN', 'NV BẢO VỆ, TP HCM', 'NV Bảo Vệ', 'NV Bảo vệ', 'NV Bếp', 'NV CXHH,HL', 'NV Chăm Sóc ST', 'NV Chăm sóc khách hàng', 'NV Dự Toán', 'NV GIAO HàNG', 'NV Giao nhận', 'NV Giao nhận hàng - Di Linh', 'NV Giao nhận-219A - Phạm Văn Thuận- Phường Tân Tiến- Tp Biên Hòa - Đồng Nai', 'NV Giao nhận-290 Phạm Văn Đồng - Phường Cam Lợi - TP Cam Ranh - Khánh Hòa', 'NV Giám Sát Công Trình', 'NV Giám sát thị trường', 'NV Hành chính', 'NV Hỗ trợ Bán hàng', 'NV KD', 'NV KIểM HOá', 'NV Khai Thác', 'NV Kho', 'NV Kinh Doanh', 'NV Kinh doanh', 'NV Kế toán Xí nghiệp KTKS & VLXD', 'NV Kỹ thuật', 'NV Kỹ thuật Thực Tập', 'NV Lái xe', 'NV Lễ tân Phòng Hành chính quản trị', 'NV Marketing', 'NV Nquỹ', 'NV PHụ KHO', 'NV PV Fulltime', 'NV Phụ Bếp', 'NV Phụ kho', 'NV Phục Vụ Khách Hàng', 'NV QHKH', 'NV Quan hệ khách hàng TDTT', 'NV Quan hệ khách hàng TDTT, làm việc tại Bắc Giang, Vùng 3', 'NV TK', 'NV Thư Viện', 'NV Thẩm định', 'NV Thị trường', 'NV Thủ quỹ', 'NV Tài xế', 'NV Tổ chức hành chánh', 'NV VS', 'NV Xếp dỡ hàng hóa', 'NV bán hàng', 'NV bán hàng làm việc tại TX Đồng Xoài, T.Bình Phước - Vùng 2', 'NV bán vé', 'NV bảo vệ', 'NV bốc xếp', 'NV caddy', 'NV chia bài', 'NV giao nhận', 'NV giám sát kho', 'NV giám sát sân đỗ', 'NV hành chánh tổng hợp', 'NV hỗ trợ kỹ thuật - Lv1', 'NV hỗ trợ kỹ thuật - Lv2', 'NV kinh doanh', 'NV kinh doanh dự án sam sung', 'NV kinh doanh triển khai', 'NV kinh doanh, CNBC Viettel Tân Phú', 'NV kế toán kho bạc Lộc bình', 'NV kỹ thuật', 'NV kỹ thuật Lắp đặt', 'NV kỹ thuật xây dựng', 'NV lái xe', 'NV lái xe 3.5 tấn', 'NV lái xe Jeep du lịch', 'NV lễ tân', 'NV nghiệp vụ', 'NV nghiệp vụ cho thuê', 'NV soi vải phòng KHNV', 'NV trang điểm', 'NV tín dụng', 'NV vận hành chai', 'NV xuất đơn hàng', 'NV xử lý dữ liệu', 'NV xử lý hàng', 'NV Điều dưỡng', 'NV Đánh máy', 'NV Đầu Bi', 'NV Đứng máy sợi con', 'NV điều hành', 'NV-Lái xe trung chuyển-TP.HCM', 'NV-Tiếp nhận khách-TP.Cần Thơ', 'NV. Bốc xếp', 'NV. Kiểm tra chất lượng', 'NV. P Kỹ thuật', 'NV. Sinh Quản, Khu CN Suối Tre, TX. Long Khánh, Đồng Nai', 'NV. Văn phòng', 'NV.Kỹ thuật', 'NV.Lái xe', 'NVBH', 'NVBH - KAO - Kiên Giang', 'NVBH - MT Bel - Gia lai', 'NVBH- GT1 - HCM', 'NVBV kiêm phụ- ĐX 1', 'NVGH', 'NVKD', 'NVPV trên các đoàn tàu hỏa chở khách', 'NVQL SẢN PHẨM', 'NVSX', 'NVTT', 'NVVP', 'NVVP post', 'NVVP, THÔNG DịCH', 'NVVăn Phòng', 'Nguyễn Thế Hưng', 'Nhan vien nghiep vu', 'Nhaõn vieõn boọ phaọn giaứy maóu', 'Nhân  viên', 'Nhân  viên kế toán', 'Nhân Viên', 'Nhân Viên Bán Hàng', 'Nhân Viên Bán Hàng - Bình Dương - Thị Xã Bến Cát\\n - Kv1', 'Nhân Viên Bán Hàng - Hà Nội - Kv1', 'Nhân Viên Bán Hàng - Hồ Chí Minh - Kv1', 'Nhân Viên Bán Hàng - MobiFone Tiền Giang', 'Nhân Viên Bán Hàng - Nghệ An - Huyện Nghĩa Đàn - Kv4', 'Nhân Viên Bán Hàng - Quảng Bình - Huyện Tuyên Hoá - Kv4', 'Nhân Viên Bán Hàng - Tp. Hà Nội - Kv1', 'Nhân Viên Bán Hàng - Tp. Hồ Chí Minh - Kv1', 'Nhân Viên Bán Hàng - Đắklắk - Kv4', 'Nhân Viên Bán Hàng - Đồng Nai - Kv1', 'Nhân Viên Bán Hàng HHN - VH', 'Nhân Viên Bán Hàng Qua Điện Thoại', 'Nhân Viên Bán Hàng Qua Điện Thoại - NTB', 'Nhân Viên Bán Hàng Qua Điện Thoại - X-sell', 'Nhân Viên Bán Hàng Trực Tiếp', 'Nhân Viên Bán hàng', 'Nhân Viên Bảo Vệ', 'Nhân Viên Bếp', 'Nhân Viên Cứu Hộ', 'Nhân Viên Dập', 'Nhân Viên Giao Nhận', 'Nhân Viên Giao Nhận Siêu Tốc', 'Nhân Viên Giao nhận', 'Nhân Viên Giày Mẫu', 'Nhân Viên Giới Thiệu Sản Phẩm( Vùng I, C.23, Bậc II )', 'Nhân Viên Hỗ Trợ Kinh Doanh', 'Nhân Viên It', 'Nhân Viên KHAI PHÁT', 'Nhân Viên Khai Thác Cửa Khẩu', 'Nhân Viên Kho', 'Nhân Viên Kinh Doanh', 'Nhân Viên Kinh Doanh - Thái Nguyên - Kv2', 'Nhân Viên Kiểm Lỗi Phần Mền', 'Nhân Viên Kiểm Toán bậc 1', 'Nhân Viên Kiểm Đếm', 'Nhân Viên Kỹ Thuật', 'Nhân Viên Kế TOáN', 'Nhân Viên Kế Toán', 'Nhân Viên Kế Toán công nợ', 'Nhân Viên Kỹ Thuật', 'Nhân Viên Kỹ Thuật Nhà Máy', 'Nhân Viên Kỹ Thuật Điện', 'Nhân Viên Lái Xe', 'Nhân Viên Lái Xe Giao Hàng', 'Nhân Viên Lái Xe Nâng', 'Nhân Viên P.A', 'Nhân Viên Pdm', 'Nhân Viên Phê Duyệt Tín Dụng POS', 'Nhân Viên Phụ Bếp', 'Nhân Viên Phụ Kho - Tp. Hồ Chí Minh - Kv1', 'Nhân Viên Se Sợi', 'Nhân Viên Sản Xuất', 'Nhân Viên Thao Tác', 'Nhân Viên Thu Hồi Nợ Qua Điện Thoại', 'Nhân Viên Thu Hồi Nợ Tại Nhà', 'Nhân Viên Thu Hồi Nợ Tại Nhà Thẻ Tín Dụng', 'Nhân Viên Thống Kê', 'Nhân Viên Thủ kho', 'Nhân Viên Tiếp Thị', 'Nhân Viên Tiếp Tân', 'Nhân Viên Trại Gà', 'Nhân Viên Tư Vấn (Sales)', 'Nhân Viên Tư Vấn Tín Dụng - CD', 'Nhân Viên Tạp Vụ', 'Nhân Viên Tổng Đài Bộ Phận Thu Hồi Nợ', 'Nhân Viên Tổng Đài Thu Hồi Nợ - Bậc 1', 'Nhân Viên Văn phòng', 'Nhân Viên Vận Hành Bán Hàng Kỹ Thuật Số Thẻ Tín Dụng Inbound', 'Nhân Viên Xử Lý', 'Nhân Viên bán hàng', 'Nhân Viên kinh Doanh', 'Nhân Viên kinh doanh', 'Nhân Viên kỹ thuật', 'Nhân Viên sản xuất', 'Nhân Viên Điều Phối Kinh Doanh', 'Nhân Viên Điều Tra &amp; Xử Lý Tín Dụng', 'Nhân Viên Đào Tạo', 'Nhân Viên, Nhân Sự', 'Nhân viên', 'Nhân viên  Văn phòng', 'Nhân viên  Xưởng vải mành 2', 'Nhân viên  kế toán hợp đồng - Trường MN Tân Thịnh B - P.Tân Thịnh', 'Nhân viên ( Thợ hàn 3/7 )', 'Nhân viên (ĐH)', 'Nhân viên -  V01-CN TP. Hồ Chí Minh', 'Nhân viên - BP Cung ứng', 'Nhân viên - Bình Định', 'Nhân viên - Công Ty Tnhh Jin-heung Metal Vina', 'Nhân viên - Kỹ thuật', 'Nhân viên - Phòng Kinh doanh', 'Nhân viên - V01 - Bình Dương', 'Nhân viên - V01 - TP. Hà Nội', 'Nhân viên - V01 - TP. Hồ Chí Minh', 'Nhân viên - V01 - Tỉnh Bình Dương', 'Nhân viên - V02 - Tỉnh Cà Mau', 'Nhân viên - V02 - Tỉnh Kiên Giang', 'Nhân viên - V02 - Tỉnh Quảng Ninh', 'Nhân viên - V02 - Tỉnh Thừa Thiên Huế', 'Nhân viên - V03 - Nghệ An', 'Nhân viên - V03 - Tỉnh Bạc Liêu', 'Nhân viên - V03 - Tỉnh Bến Tre', 'Nhân viên - V03 - Tỉnh Lâm Đồng', 'Nhân viên - V03 - Tỉnh Tây Ninh', 'Nhân viên - V04 - Tỉnh Hà Tĩnh', 'Nhân viên - V04 - Tỉnh Kiên Giang', 'Nhân viên - V04 - Tỉnh Quảng Ninh', 'Nhân viên - V04 - Tỉnh Tiền Giang', 'Nhân viên - V04 - Tỉnh Tây Ninh', 'Nhân viên - V04 - Tỉnh Đồng Tháp', 'Nhân viên - Điện Hàm Thuận Bắc', 'Nhân viên AAMT', 'Nhân viên Admin', 'Nhân viên An Ninh', 'Nhân viên An ninh', 'Nhân viên BH', 'Nhân viên BP Kế toán', 'Nhân viên BP Vật tư', 'Nhân viên BP ép', 'Nhân viên BV', 'Nhân viên Bar - Khách sạn Hải Yên', 'Nhân viên Buồng phòng', 'Nhân viên Bán Hàng', 'Nhân viên Bán Hàng - Tp.HCM', 'Nhân viên Bán hàng', 'Nhân viên Bán hàng - CN Cà Mau', 'Nhân viên Bán hàng tại Hà Nội', 'Nhân viên Bán hàng tại Thành phố Thái Bình', 'Nhân viên Bán hàng- BP Thương mại', 'Nhân viên Bán vé và phục vụ trên xe Buýt, Đội xe Buýt', 'Nhân viên Bảo Trì', 'Nhân viên Bảo hiểm', 'Nhân viên Bảo vệ', 'Nhân viên Bảo vệ Cty', 'Nhân viên Bảo vệ Mục tiêu', 'Nhân viên Bảo vệ ca 24h', 'Nhân viên Bảo vệ, Phòng Tổ chức - Hành chính', 'Nhân viên Bảo vệ, làm việc tại Đà Nẵng', 'Nhân viên Bếp', 'Nhân viên Bếp Trưởng Biển Đông 1', 'Nhân viên Bốc Xếp', 'Nhân viên CSKH', 'Nhân viên Checker', 'Nhân viên Chi nhánh Đà Nẵng', 'Nhân viên Chăm Sóc Khách Hàng', 'Nhân viên Chăm sóc khách hàng', 'Nhân viên Chăm sóc khách hàng, TT CSKH', 'Nhân viên Chất lượng', 'Nhân viên Chỉnh sửa ảnh', 'Nhân viên Cây xanh', 'Nhân viên Công Ty TNHH Nabati Việt Nam', 'Nhân viên Công nghệ thông tin', 'Nhân viên Công ty TNHH Giải Pháp Kỹ Thuật Sóng Việt', 'Nhân viên Công vụ', 'Nhân viên Cơ điện', 'Nhân viên Cấp trung Huấn luyện Đại lý &amp; Kênh Phân phối', 'Nhân viên DVKH & Thu ngân', 'Nhân viên DVKH &amp; Thu ngân', 'Nhân viên DVKH - Thu ngân', 'Nhân viên Dealer', 'Nhân viên Dịch vụ Khách hàng', 'Nhân viên Dịch vụ sau bán hàng - V01 - Đống Đa - Hà Nội', 'Nhân viên F&B', 'Nhân viên GH', 'Nhân viên Giao dịch viên', 'Nhân viên Giao hàng', 'Nhân viên Giao hàng xe máy', 'Nhân viên Giao nhận', 'Nhân viên Giao nhận - V01 - Đồng Nai', 'Nhân viên Giao nhận - V03 - Đông Hòa - Phú Yên', 'Nhân viên Giao nhận - giao hàng', 'Nhân viên Giao nhận, kho hàng', 'Nhân viên Giao tiếp Khách hàng', 'Nhân viên Giám Sát', 'Nhân viên Giám sát', 'Nhân viên Giải quyết khiếu nại - V01 - Quận 10 - Hồ Chí Minh', 'Nhân viên Giải đáp khách hàng', 'Nhân viên Giặt ủi', 'Nhân viên HCNS', 'Nhân viên Housekeeping', 'Nhân viên Hành Lý', 'Nhân viên Hành chính Agribank CN  huyện Nghĩa Đàn, Tây Nghệ An', 'Nhân viên Hành chính Khu vực Hà Nội', 'Nhân viên Hành lý', 'Nhân viên Hướng dẫn chất xếp', 'Nhân viên Hỗ trợ kỹ thuật - V01 - TP. Hồ Chí Minh', 'Nhân viên HỗTrợ bán Hàng', 'Nhân viên IT', 'Nhân viên KCS', 'Nhân viên KH - CƯ', 'Nhân viên KINH DOANH', 'Nhân viên KTV', 'Nhân viên KTĐTT', 'Nhân viên Kho', 'Nhân viên Kho Siêu Thị', 'Nhân viên Kho kiêm Hỗ trợ kỹ thuật', 'Nhân viên Kho kiêm Hỗ trợ kỹ thuật - V01 - H.Củ Chi - Hồ Chí Minh', 'Nhân viên Kho kiêm Hỗ trợ kỹ thuật - V01 - Tân Thành - Bà Rịa - Vũng Tàu', 'Nhân viên Kho nguyên liệu', 'Nhân viên Kho thành phẩm', 'Nhân viên Khoa sư phạm', 'Nhân viên Khách hàng Cá nhân', 'Nhân viên Khảo nghiệm miền Bắc', 'Nhân viên Kinh Doanh', 'Nhân viên Kinh doanh', 'Nhân viên Kế toán', 'Nhân viên Kế toán Kho vải', 'Nhân viên Kế toán kho', 'Nhân viên Kỹ Thuật', 'Nhân viên Kỹ Thuật Điện', 'Nhân viên Kỹ thuật', 'Nhân viên Kỹ thuật Phun', 'Nhân viên Kỹ thuật sản phẩm cần', 'Nhân viên Làm việc tại Bắc Giang  Vùng 3', 'Nhân viên Lái máy công trình', 'Nhân viên Lái xe', 'Nhân viên Lái xe 4 chỗ', 'Nhân viên Lái xe Taxi 4 chỗ', 'Nhân viên LĐTL', 'Nhân viên Lắp ráp', 'Nhân viên Lễ tân', 'Nhân viên Lễ tân kiêm Hành chính', 'Nhân viên Marketing', 'Nhân viên Marketing Hà Nội', 'Nhân viên Môi giới', 'Nhân viên Nghiệp vụ', 'Nhân viên Ngành hàng', 'Nhân viên Nhà hàng', 'Nhân viên Nhân sự', 'Nhân viên P.Kế hoạch Kinh doanh', 'Nhân viên Phòng Chế tạo khung', 'Nhân viên Phòng Dịch vụ địa chính', 'Nhân viên Phòng Lắp ráp', 'Nhân viên Phòng Sơn - Nhựa', 'Nhân viên Phòng chế tạo động cơ', 'Nhân viên Phòng kỹ thuật xây dựng', 'Nhân viên Phụ bếp', 'Nhân viên Phụ xe', 'Nhân viên Phục Vụ', 'Nhân viên Phục vụ', 'Nhân viên Phục vụ NH Quảng Việt', 'Nhân viên Phục vụ trên xe', 'Nhân viên QA', 'Nhân viên QC', 'Nhân viên Quan hệ khách hàng cá nhân', 'Nhân viên Quét Sàn Vùng 1', 'Nhân viên Quản lÝ Chất lượng', 'Nhân viên Quản lý', 'Nhân viên Quản lý bãi đậu xe và sân đường', 'Nhân viên Quản lý chất lượng', 'Nhân viên Quầy', 'Nhân viên S1', 'Nhân viên S3', 'Nhân viên SINH QUảN', 'Nhân viên SIP', 'Nhân viên Sales tour', 'Nhân viên Siêu thị', 'Nhân viên Sản xuất', 'Nhân viên TC - HC', 'Nhân viên TKCT và lập ĐNSX', 'Nhân viên TT &amp; GT sản phẩm', 'Nhân viên TYT Phúc Thành', 'Nhân viên Telesales', 'Nhân viên Thao Tác', 'Nhân viên Thiết bị', 'Nhân viên Thiết kế Đồ họa Game 3D', 'Nhân viên Thu Ngân', 'Nhân viên Thu Ngân - V01 - Bình Dương', 'Nhân viên Thu ghi', 'Nhân viên Thu hồi nợ qua điện thoại', 'Nhân viên Thu hồi nợ trực tiếp', 'Nhân viên Thu hồi nợ trực tiếp - Nơi làm việc: Long An', 'Nhân viên Thu ngân', 'Nhân viên Thu nợ qua điện thoại', 'Nhân viên Thư viện', 'Nhân viên Thị trường', 'Nhân viên Thống kê', 'Nhân viên Thợ máy', 'Nhân viên Thủ Kho', 'Nhân viên Tiếp thị qua điện thoại', 'Nhân viên Tiếp Đón Khách Hàng', 'Nhân viên Tiếp đón Khách Hàng - V03 - Sa Pa - Lào Cai', 'Nhân viên Tiền sảnh', 'Nhân viên Tra nạp - Giao nhận Xăng dầu', 'Nhân viên Trang Trí kiêm Thu ngân - Sim Số', 'Nhân viên Trang Trí kiêm Thu ngân - Sim Số - V03 - Châu Thành  - An Giang', 'Nhân viên Trang Trí kiêm Thu ngân - Sim Số - V03 - Khoái Châu - Hưng Yên', 'Nhân viên Triển khai', 'Nhân viên Trình dược', 'Nhân viên Trưng bày Ngạch C.12, Vùng I, Bậc 1', 'Nhân viên Trường Giáo dục đào tạo và Giải quyết việc làm số 1, thôn 2 xã ĐắkR Tíh huyện Tuy Đức tỉnh Đắk Nông', 'Nhân viên Trực NOC', 'Nhân viên Tuyển dụng', 'Nhân viên Tài Xế Lắp Đặt', 'Nhân viên Tín dụng Agribank chi nhánh huyện Yên Thành', 'Nhân viên Tư Vấn', 'Nhân viên Tư Vấn - V01 - Quận 11 - Hồ Chí Minh', 'Nhân viên Tư Vấn - V01 - Quận 7 - Hồ Chí Minh', 'Nhân viên Tư Vấn - V03 - Tx. Kỳ Anh - Hà Tĩnh', 'Nhân viên Tư Vấn - V03 - Tỉnh Bạc Liêu', 'Nhân viên Tư Vấn - V03 - Tỉnh Thanh Hóa', 'Nhân viên Tư vấn', 'Nhân viên Tư vấn Tín dụng', 'Nhân viên Tư vấn bán hàng', 'Nhân viên Tư vấn tài chính cá nhân', 'Nhân viên Tạp vụ', 'Nhân viên Tạp vụ Bếp', 'Nhân viên Tổng đài', 'Nhân viên VHM', 'Nhân viên Văn Phòng', 'Nhân viên Văn thư', 'Nhân viên Vận hành', 'Nhân viên Vận hành thiết bị', 'Nhân viên XN DVCC', 'Nhân viên Xe buýt', 'Nhân viên Xuất nhập khẩu', 'Nhân viên Xây Dựng - Bảo Trì - V03 - Tỉnh Đắk Lắk', 'Nhân viên Xí nghiệp Dịch vụ công cộng', 'Nhân viên Xưởng Chiết - Đóng gói', 'Nhân viên Xử lý đơn hàng', 'Nhân viên Y tế', 'Nhân viên Y tế chăm sóc sức khỏe học sinh', 'Nhân viên an ninh', 'Nhân viên an ninh kiêm hành lý', 'Nhân viên an ninh kiểm soát', 'Nhân viên an toàn lao động Nhà máy', 'Nhân viên ban QLDA Thủy điện', 'Nhân viên bán hàng', 'Nhân viên biên tập', 'Nhân viên biên tập nội dung', 'Nhân viên buồng phòng', 'Nhân viên bàn', 'Nhân viên bán hàng', 'Nhân viên bán hàng - Chi nhánh Đà Nẵng', 'Nhân viên bán hàng - Kênh TT - L.1', 'Nhân viên bán hàng - Phòng Marketing và bán hàng', 'Nhân viên bán hàng - SMC PG Gionee', 'Nhân viên bán hàng Hà Nội/vùng 1', 'Nhân viên bán hàng LG vùng 1', 'Nhân viên bán hàng MK2', 'Nhân viên bán hàng ND&GCT Chi nhánh - Vùng I', 'Nhân viên bán hàng Showroom', 'Nhân viên bán hàng VM+', 'Nhân viên bán hàng kiêm thu ngân', 'Nhân viên bán hàng phòng Thị trường', 'Nhân viên bán hàng qua điện thoại', 'Nhân viên bán hàng quầy Thức ăn sẵn', 'Nhân viên bán hàng siêu thị', 'Nhân viên bán hàng trực tiếp', 'Nhân viên bán hàng trực tiếp 816507224 SHB', 'Nhân viên bán hàng và chăm sóc khách hàng', 'Nhân viên bán hàng xăng dầu', 'Nhân viên bán hàng-Bến Tre (2)', 'Nhân viên bán thẻ', 'Nhân viên bán vé', 'Nhân viên bán vé trên xe buýt', 'Nhân viên bán vé xe', 'Nhân viên bán vé xe buýt', 'Nhân viên bán vé_Lê Hồng Phong_vùng 1', 'Nhân viên bán xăng dầu', 'Nhân viên bánh hàng', 'Nhân viên bảo hành', 'Nhân viên bảo trì', 'Nhân viên bảo trì tổng hợp', 'Nhân viên bảo trì điện', 'Nhân viên bảo vệ', 'Nhân viên bảo vệ làm theo chế độ 03 ca, làm việc tại Hồ Chí Minh', 'Nhân viên bảo vệ làm theo chế độ 03 ca, làm việc tại Đà Nẵng', 'Nhân viên bảo vệ tuần tra', 'Nhân viên bảo vệ tuần tra canh gác', 'Nhân viên bảo vệ tại Khu CN VISIP, Từ Sơn, Bắc Ninh', 'Nhân viên bảo vệ, Bình Dương', 'Nhân viên bảo vệ, Bộ phận Bảo vệ', 'Nhân viên bảo vệ, Thủ kho', 'Nhân viên bảo vệ, Trường Tiểu học xã Bản Xen', 'Nhân viên bảo vệ, làm theo chế độ 03 ca', 'Nhân viên bậc 1/12', 'Nhân viên bậc 3/12', 'Nhân viên bếp', 'Nhân viên bốc xếp', 'Nhân viên bộ phận Body', 'Nhân viên bộ phận Sfact', 'Nhân viên bộ phận dập', 'Nhân viên bộ phận khuôn đế', 'Nhân viên bộ phận kế hoạch', 'Nhân viên caddy', 'Nhân viên chia bài tập sự', 'Nhân viên chiêu thị', 'Nhân viên chuyển phát nhanh', 'Nhân viên chăm  sóc khách hàng', 'Nhân viên chăm sóc khách hàng', 'Nhân viên chạy máy định hình', 'Nhân viên chất xếp hành lý hàng hóa', 'Nhân viên chất xếp hành lý, hàng hóa', 'Nhân viên chất xếp hành lý, hàng hóa (bốc xếp)', 'Nhân viên chế biến Sushi', 'Nhân viên chế biến quầy bánh mì', 'Nhân viên chế bản - Xưởng In offset', 'Nhân viên chế tác', 'Nhân viên chứng từ Hải quan', 'Nhân viên chứng từ xuất nhập khẩu', 'Nhân viên cây xanh', 'Nhân viên công nghệ thông tin', 'Nhân viên công tác đầu tư', 'Nhân viên công vu', 'Nhân viên căn tin', 'Nhân viên cơ khí', 'Nhân viên cơ điện', 'Nhân viên cảnh quang', 'Nhân viên cấp 3 - TT', 'Nhân viên cấp cao', 'Nhân viên cấp dưỡng', 'Nhân viên cấp phát phụ tùng', 'Nhân viên cờ đỏ', 'Nhân viên cửa hàng', 'Nhân viên cửa hàng (LĐPT)', 'Nhân viên cửa hàng, làm việc tại TP. Quy Nhơn', 'Nhân viên dán tem', 'Nhân viên dịch vụ khách hàng', 'Nhân viên dọn phòng', 'Nhân viên dự án', 'Nhân viên giao hàng', 'Nhân viên giao hàng + thu tiền', 'Nhân viên giao hàng xe máy COD', 'Nhân viên giao nhận', 'Nhân viên giao nhận hồ sơ', 'Nhân viên giao nhận suất ăn', 'Nhân viên giao vận kho Giải Phóng', 'Nhân viên giao vận-Tuyên Quang-T61870', 'Nhân viên giám sát', 'Nhân viên giám định', 'Nhân viên giúp việc hành chính', 'Nhân viên giới thiệu sản phẩm', 'Nhân viên giặt là', 'Nhân viên giặt ủi', 'Nhân viên giới thiệu sản phẩm', 'Nhân viên giới thiệu sản phẩm tại điểm bán', 'Nhân viên hiện trường', 'Nhân viên hiệu chỉnh', 'Nhân viên hành chính', 'Nhân viên hành chính-văn thư', 'Nhân viên hành lý', 'Nhân viên hướng dẫn Games', 'Nhân viên hướng dẫn game', 'Nhân viên hướng dẫn khách', 'Nhân viên hệ thống', 'Nhân viên hệ thống cấp nước Mỹ Thuận - Mỹ Hiệp Sơn', 'Nhân viên học việc TB SC', 'Nhân viên hồ bơi', 'Nhân viên hỗ trợ', 'Nhân viên hỗ trợ bán hàng', 'Nhân viên hợp đồng', 'Nhân viên khai thác 2', 'Nhân viên khai thác hàng hóa', 'Nhân viên kho', 'Nhân viên kho cung cấp phụ tùng cho sản xuất', 'Nhân viên kho phụ tùng', 'Nhân viên kho quỹ', 'Nhân viên kho thành phẩm', 'Nhân viên khách hàng cá nhân', 'Nhân viên kinh doanh', 'Nhân viên kinh doanh - dự án Sam Sung', 'Nhân viên kinh doanh Bưu điện TP. Cao Lãnh', 'Nhân viên kinh doanh dự án SamSung', 'Nhân viên kinh doanh kênh sỉ', 'Nhân viên kinh doanh tiếp thị, bán hàng và chăm sóc khách hàng', 'Nhân viên kinh doanh trực tiếp', 'Nhân viên kinh doanh vàng và thẻ', 'Nhân viên kinh doanh, 2T20A Đường Võ Nguyên Giáp, Xã An Hòa, Tp.Biên Hòa, Tỉnh Đồng Nai', 'Nhân viên kinh doanh, Phòng Kinh Doanh', 'Nhân viên kinh doanh- dự án SS', 'Nhân viên kiểm hàng', 'Nhân viên kiểm nghiệm', 'Nhân viên kiểm soát hàng vải', 'Nhân viên kiểm tra chuyền may', 'Nhân viên kiểm tra chất lượng', 'Nhân viên kiểm tra chất lượng sản phẩm', 'Nhân viên kiểm tra chất lượng vải - Lô C, KCN Long Khánh, Bình Lộc, Long Khánh, Đồng Nai', 'Nhân viên kiểm tra hàng', 'Nhân viên kiểm tra trên chuyền - Line 20', 'Nhân viên kéo sợi', 'Nhân viên kênh Online', 'Nhân viên kĩ thuật', 'Nhân viên kế toán', 'Nhân viên kế toán hợp đồng', 'Nhân viên kế toán kho, Kế toán', 'Nhân viên kế toán kho, bậc 1/6', 'Nhân viên kế toán trường Nguyễn Văn Trỗi', 'Nhân viên kế toán, trường TH Ninh Hiệp', 'Nhân viên kỷ thuật', 'Nhân viên kỹ Thuật', 'Nhân viên kỹ thuật', 'Nhân viên kỹ thuật máy', 'Nhân viên kỹ thuật phun thuốc', 'Nhân viên kỹ thuật sản xuất', 'Nhân viên kỹ thuật xây dựng', 'Nhân viên kỹ thuật, Engineering', 'Nhân viên lao động tiền lương', 'Nhân viên lái xe 7 chỗ', 'Nhân viên làm buồng (Khu căn hộ)', 'Nhân viên làm chứng từ, bốc xếp, giao nhận hàng', 'Nhân viên làm sạch', 'Nhân viên làm sạch - Đồng Nai', 'Nhân viên làm việc Soc Trang', 'Nhân viên lái xe', 'Nhân viên lái xe  bằng C', 'Nhân viên lái xe &amp; vận hành trang thiết bị', 'Nhân viên lái xe 04 chỗ', 'Nhân viên lái xe 07 chỗ ngồi', 'Nhân viên lái xe Lagi', 'Nhân viên lái xe Taxi', 'Nhân viên lái xe dưới 7 tấn', 'Nhân viên lái xe nâng', 'Nhân viên lái xe nâng điện', 'Nhân viên lái xe taxi', 'Nhân viên lái xe điện', 'Nhân viên lái xe đầu kéo', 'Nhân viên lấy mẫu thành phẩm , bán thành phẩm và kiểm tra thành phần hóa - P. Quản lý chất lượng', 'Nhân viên lập dưỡng MAY', 'Nhân viên lập trình', 'Nhân viên lắp ráp phần quay rô bốt', 'Nhân viên lễ tân', 'Nhân viên lễ tân - Lễ tân', 'Nhân viên marketing', 'Nhân viên may mẫu', 'Nhân viên mua hàng', 'Nhân viên mua hàng trong nướcChi nhánh Hồ Chí Minh', 'Nhân viên máy cắt dây', 'Nhân viên mạng', 'Nhân viên nghiệp vụ', 'Nhân viên ngành hàng', 'Nhân viên ngành hàng VinMart', 'Nhân viên ngành hàng VinMart_Khánh Hòa_Vùng 2', 'Nhân viên ngành hàng tiêu thụ mạnh', 'Nhân viên nhà hàng', 'Nhân viên nhân sự', 'Nhân viên nhập dữ liệu', 'Nhân viên nhập số liệu bộ phận ép nhựa', 'Nhân viên pha chế', 'Nhân viên pha chế bộ phận CLB trò chơi điện tử có thưởng dành cho người nước ngoài', 'Nhân viên pha màu', 'Nhân viên phiên dịch', 'Nhân viên phiên dịch tiếng Hàn', 'Nhân viên phòng', 'Nhân viên phòng Hành chính', 'Nhân viên phòng Kế hoạch nghiệp vụ', 'Nhân viên phòng Kỹ thuật', 'Nhân viên phòng Logistics', 'Nhân viên phòng X quang', 'Nhân viên phòng bản', 'Nhân viên phòng bảo trì', 'Nhân viên phòng cân', 'Nhân viên phòng hoa', 'Nhân viên phòng kinh doanh', 'Nhân viên phòng lắp ráp', 'Nhân viên phòng mẫu', 'Nhân viên phòng nghiệp vụ', 'Nhân viên phòng nghiệp vụ và triển lãm', 'Nhân viên phòng quản lý chất lượng', 'Nhân viên phòng quản trị', 'Nhân viên phòng sản xuất', 'Nhân viên phòng thí nghiệm', 'Nhân viên phòng thí nghiệm - Kiểm định,', 'Nhân viên phòng tổ chức hành chính', 'Nhân viên phòng tổng hợp', 'Nhân viên phòng vật tư', 'Nhân viên phòng điều hành', 'Nhân viên phản ứng nhanh', 'Nhân viên phụ Bếp', 'Nhân viên phụ bếp', 'Nhân viên phụ kho', 'Nhân viên phụ kho kinh doanh', 'Nhân viên phụ khác tại khách sạn', 'Nhân viên phục vụ', 'Nhân viên phục vụ Sự kiện', 'Nhân viên phục vụ bậc 1/5', 'Nhân viên phục vụ hành khách trên xe ô tô chở khách', 'Nhân viên phục vụ hành lý', 'Nhân viên phục vụ khoa Kiểm soát nhiễm khuẩn', 'Nhân viên phục vụ khách hàng', 'Nhân viên phục vụ nhà hàng', 'Nhân viên phục vụ phòng', 'Nhân viên phục vụ sân gôn', 'Nhân viên quản lý kho', 'Nhân viên quản lý kho xe', 'Nhân viên quản lý sản xuất', 'Nhân viên quầy Chế biến', 'Nhân viên quầy Rau quả', 'Nhân viên quầy Thức ăn nhanh', 'Nhân viên quầy bánh mỳ', 'Nhân viên quầy Đồ uống', 'Nhân viên quỹ', 'Nhân viên se sợi', 'Nhân viên siêu thị', 'Nhân viên sơ chế, Nhà ăn Nhân viên', 'Nhân viên sản xuất', 'Nhân viên sản xuất Module', 'Nhân viên sản xuất lắp ráp linh kiện điện tử', 'Nhân viên sản xuất và lắp ráp', 'Nhân viên sợi nhân tạo', 'Nhân viên thao tác', 'Nhân viên thao tác định hình', 'Nhân viên thay thô sợi con', 'Nhân viên thi công lắp đặt', 'Nhân viên thị trường', 'Nhân viên thiết bị', 'Nhân viên thiết bị văn phòng', 'Nhân viên thiết bị đồ dùng', 'Nhân viên thiết bị, thư viện', 'Nhân viên thiết kế', 'Nhân viên thiết kế đồ họa', 'Nhân viên thu hồi nợ', 'Nhân viên thu ngân', 'Nhân viên thu nhận hồ sơ', 'Nhân viên thu phí', 'Nhân viên thí nghiệm', 'Nhân viên thông tin y khoa', 'Nhân viên thư ký', 'Nhân viên thư viện Trường THCS Lý Thường Kiệt', 'Nhân viên thể thao', 'Nhân viên thị trường', 'Nhân viên thị trường - Trung tâm lữ hành quốc tế và nội địa', 'Nhân viên thị trường CN Hà Nội, CN Hà Nội', 'Nhân viên thị trường SRF', 'Nhân viên thống kê', 'Nhân viên thợ hàn', 'Nhân viên thợ quầy bánh mì', 'Nhân viên thợ quầy thịt', 'Nhân viên tiếp nhận', 'Nhân viên tiếp thị', 'Nhân viên tiếp thị VBL', 'Nhân viên tiếp thị bia, phòng kinh doanh Bia', 'Nhân viên tiếp thị qua điện thoại', 'Nhân viên tiếp tân', 'Nhân viên tiếp đón', 'Nhân viên triẻn khai', 'Nhân viên triển khai phần mềm', 'Nhân viên trưng bày và giới thiệu sản phẩm', 'Nhân viên trưởng kho', 'Nhân viên trực tổng đài', 'Nhân viên tuyển dụng', 'Nhân viên tài xế', 'Nhân viên tư vấn Bán Hàng', 'Nhân viên tư vấn', 'Nhân viên tư vấn bán hàng', 'Nhân viên tư vấn bán hàng VBL', 'Nhân viên tư vấn bậc 3', 'Nhân viên tư vấn khách hàng', 'Nhân viên tư vấn và giới thiệu sản phẩm (Vùng: I - Ngạch: C.20 - Bậc : I)', 'Nhân viên tạp vụ', 'Nhân viên tạp vụ (LĐHĐ)', 'Nhân viên tạp vụ Bếp', 'Nhân viên tạp vụ bếp', 'Nhân viên tạp vụ làm việc tại Đà Nẵng', 'Nhân viên tạp vụ, cấp dưỡng - Làm việc tại Đồng Xoài, Bình Phước', 'Nhân viên tổ cắt', 'Nhân viên tổ ghế', 'Nhân viên tổ phân cở', 'Nhân viên tổ xếp hộp', 'Nhân viên tổng vụ', 'Nhân viên văn phòng', 'Nhân viên văn phòng Nhà máy sản xuất', 'Nhân viên văn phòng Trung tâm Tuyển sinh', 'Nhân viên văn phòng đội ea khăl', 'Nhân viên văn thư', 'Nhân viên văn thư - Phòng Quản trị', 'Nhân viên văn thư hành chánh', 'Nhân viên vận chuyển', 'Nhân viên vận hành', 'Nhân viên vận hành game', 'Nhân viên vận hành máy Cắt', 'Nhân viên vận hành máy Trộn', 'Nhân viên vận hành phòng máy', 'Nhân viên vận hành trang thiết bị nhà ga', 'Nhân viên vật liệu', 'Nhân viên vật tư', 'Nhân viên vẽ', 'Nhân viên vệ sinh', 'Nhân viên vệ sinh Cát Bi', 'Nhân viên vệ sinh công cộng', 'Nhân viên vệ sinh công nghiệp', 'Nhân viên vệ sỹ', 'Nhân viên xoa bóp', 'Nhân viên xuất', 'Nhân viên xưởng dệt', 'Nhân viên xưởng hàn dập', 'Nhân viên xưởng may', 'Nhân viên xưởng sợi', 'Nhân viên xếp ống sợi con', 'Nhân viên xử lý dữ liệu điện tử', 'Nhân viên xử lý hình ảnh', 'Nhân viên xử lý nợ tại nhà', 'Nhân viên y tế', 'Nhân viên y tế Trường THCS Nguyễn Trãi', 'Nhân viên Điều Hành Điểm Tiếp Thị', 'Nhân viên Đại diện kinh doanh', 'Nhân viên Đại diện thương mại', 'Nhân viên Đọc số', 'Nhân viên điều hành', 'Nhân viên điều khiển', 'Nhân viên điểm giới thiệu dịch vụ (Xe máy)', 'Nhân viên điểm giới thiệu dịch vụ (Xe máy) - Nơi làm việc: Đồng Tháp', 'Nhân viên điểm giới thiệu dịch vụ (Điện máy)', 'Nhân viên điểm giới thiệu dịch vụ (Điện máy) - Nơi làm việc: Sóc Trăng', 'Nhân viên đánh máy - Văn phòng tổng hợp', 'Nhân viên đón tiếp', 'Nhân viên đóng gói hàng hóa', 'Nhân viên đóng hàng', 'Nhân viên đúc', 'Nhân viên đại diện bán hàng', 'Nhân viên đặt hàng', 'Nhân viên đốc chuyến', 'Nhân viên đối ngoại', 'Nhân viên đồ họa', 'Nhân viên đổ sợi sợi con', 'Nhân viên đứng máy', 'Nhân viên đứng máy ghép', 'Nhân viên đứng máy sợi con', 'Nhân viên đứng máy thô', 'Nhân viên đứng máy đánh ống', 'Nhân viên ẩm thực', 'Nhân viên, Bình Dương', 'Nhân viên, KTDA', 'Nhân viên-Long An', 'Nhân viên-TP.HCM', 'Nhân viên-TPHCM', 'Nhân viên-Tp HCM', 'Nhân viên-Đồng Nai', 'Nhân vên', 'Nhânviên', 'Nhóm Chuyên doanh Laptop', 'Nhóm trưởng', 'Nhõn Viờn Bỏn Hàng', 'Nhõn viờn', 'Nhõn viờn - CN Gia Lai', 'Nhõn viờn Giao nhận xe mỏy', 'Nhõn viờn kinh doanh', 'Nv', 'Nv Nhập Liệu', 'Nv Xnk', 'Nv bán hàng', 'Nữ Hộ sinh Trạm Y tế Vạn Lương', 'Nữ hộ sinh', 'Nữ hộ sinh - TH', 'Nữ hộ sinh trung cấp', 'Nữ hộ sinh-Trạm Y tế TT Phố Lu', 'OPERATOR', 'Operator', 'P.XNK', 'PBT Đoàn TN', 'PBT. Đoàn thanh niên', 'PGĐ', 'PHIÊN DịCH', 'PHỤ XE', 'PHỤ ĐÓNG GÓI', 'PHụ VIệC', 'PLĐG HC', 'PP.QLDA', 'PQTD', 'PV nước', 'Pha chế', 'Phi công Cơ bản huấn luyện chuyển loại máy bay A321', 'Phiên Dịch', 'Phiên dịch', 'Phiên dịch xưởng', 'Phụ trách kiểm hàng', 'Phụ trách sản xuất', 'Phát hành báo', 'Phó Ban Bảo vệ', 'Phó Bí thư Xã đoàn', 'Phó CT MTTQ', 'Phó Ca - V01 - TP. Hồ Chí Minh', 'Phó Chánh văn phòng', 'Phó Chỉ huy trưởng BCHQS xã', 'Phó Chủ Tịch Hội Phụ Nữ', 'Phó Chủ tịch Hội Cựu chiến binh xã', 'Phó Giám đốc', 'Phó Giám đốc phụ trách kinh doanh', 'Phó Hiệu Trưởng', 'Phó Hiệu trưởng', 'Phó Phòng kinh doanh', 'Phó bí thư huyện đoàn', 'Phó bí thư Đoàn', 'Phó chỉ huy trưởng quân sự', 'Phó chỉ huy trưởng quân sự xã Trung Mầu', 'Phó chủ tịch MTTQ', 'Phó chủ tịch UBMTTQ xã', 'Phó giám đốc', 'Phó giám đốc Chi Nhánh', 'Phó giám đốc công ty TNHH nội thất và quảng cáo MTK', 'Phó hiệu trưởng', 'Phó phòng KT', 'Phó phòng tổ chức lao động', 'Phó quản lý nhà hàng', 'Phó trưởng công an xã', 'Phó tổng Giám đốc', 'Phóng viên', 'Phúng viờn', 'Phũng Đào tạo', 'Phường Đội trưởng', 'Phết Keo Đế Hoặc Mũ Giày', 'Phết Keo Đế Và Mũ Giầy', 'Phết keo đế hoặc mũ giày', 'Phết keo đế, mũ giày', 'Phụ', 'Phụ Bếp', 'Phụ May', 'Phụ Việc', 'Phụ bếp', 'Phụ kho', 'Phụ kho; Nhà máy APC PACK', 'Phụ may', 'Phụ trách Kế hoạch sản xuất', 'Phụ trách Phòng Thị trường', 'Phụ trách kiểm hàng', 'Phụ trách kế toán', 'Phụ trách phòng', 'Phụ trắc đặc', 'Phụ tá', 'Phụ việc', 'Phụ việc cắt', 'Phụ xe', 'Phục Vụ', 'Phục vụ', 'Phục vụ Canteen', 'Phục vụ bàn', 'Phục vụ nhà hàng', 'Phục vụ đoàn, đội xe', 'QC', 'QC KSQT Xưởng Nhựa, EVA,PU Liền quai', 'QC chuyền may', 'Quay ghi đường sắt tại ga Khánh Phước', 'Quay ghi đường sắt tại ga Mộ Đức', 'Quay ghi đường sắt ở các ga', 'Quay ghi đường sắt ở các ga lập tàu', 'Quay phim', 'QuảN DOANH', 'Quản lÝ Cửa hàng', 'Quản lÝ bán hàng', 'Quản lÝ giáo dục đối tượng', 'Quản lÝ/LD hỗ trợ', 'Quản lý', 'Quản lý Cửa hàng', 'Quản lý Nhà hàng', 'Quản lý Spa', 'Quản lý bán hàng khu vực', 'Quản lý bảo trì sửa chữa', 'Quản lý chuyền sản xuất lắp ráp', 'Quản lý công nợ', 'Quản lý cửa hàng', 'Quản lý dự án', 'Quản lý khu lưu trú', 'Quản lý khu vực', 'Quản lý khách hàng', 'Quản lý nhà hàng', 'Quản lý quán-Cấp bậc 1', 'Quản lý vận động viên thể thao chuyên nghiệp', 'Quản sinh', 'Quản đốc may', 'SR - Nhân viên bán hàng GT', 'Sales', 'Staff', 'Sàng tuyển than thủ công', 'SửA CHữA', 'Sửa chữa', 'Sửa chữa cơ điện lộ thiên', 'Sỹ quan boong tàu viễn dương vận tải dầu (C/O)', 'TB tuyên huấn', 'TC Hành chính văn thư, Phòng Hành chính quản trị', 'TC công nghệ tt', 'TDV-ETC DV', 'TH Noọng Hẹt', 'THỢ MAY', 'THợ MAY', 'THợ PHụ', 'THủY THủ', 'TIếP THựC', 'TP.Kinh doanh', 'TRỢ LÝ THỦ KHO', 'Techcombank\\\\Quản trị rủi ro thị trường\\\\Chính sách và mô hình rủi ro thị trường', 'Thao Tác Viên', 'Thao tác viên Vùng 1', 'Thi Công', 'Thieu chuc danh tu du lieu 3s', 'Thiết Kế', 'Thiết bị thí nghiệm trường học trình độ CĐSP', 'Thiết kế', 'Thu Ngân', 'Thu mua', 'Thu ngân', 'Thuỷ Thủ', 'Thành Hình Các Sản Phẩm Cao Su', 'Thành hình các sản phẩm cao su', 'Thí nghiệm', 'Thông dịch tiếng Hàn', 'Thông kê phường đội', 'Thú y chăn nuôi', 'Thư kÝ Dự án', 'Thư ký', 'Thư ký Y khoa Khoa Ngoại Tim mạch - Lồng ngực - Hồi sức Tim', 'Thư viện viên hợp đồng', 'Thư viện viên trung cấp', 'Thường trực đảng uỷ', 'Thẩm phán', 'Thợ', 'Thợ Cơ khí', 'Thợ Cắt', 'Thợ Lạnh', 'Thợ May', 'Thợ Máy', 'Thợ Mộc', 'Thợ Phụ', 'Thợ Tiện', 'Thợ bánh', 'Thợ bảo hành máy kéo sợi OE', 'Thợ cơ khí', 'Thợ cắt', 'Thợ duy tu sửa chữa đường ray', 'Thợ gò dán', 'Thợ hàn', 'Thợ hàn điện hầm tàu', 'Thợ khí cụ', 'Thợ lành nghề Chuyền Tủ', 'Thợ lắp', 'Thợ lắp đặt sửa chữa điện nước', 'Thợ may', 'Thợ máy tàu biển', 'Thợ phụ', 'Thợ phụ chuyền cắt', 'Thợ phụ máy uốn', 'Thợ sơn', 'Thợ sắt', 'Thợ sửa chữa điện công nghiệp', 'Thợ sửa máy', 'Thợ thêu', 'Thợ tiện', 'Thợ Ép Khuôn', 'Thợ Điện Đế', 'Thợ điện', 'Thợ điện, nước Ksạn', 'Thủ Kho', 'Thủ Quỹ', 'Thủ công', 'Thủ công, XN5', 'Thủ kho', 'Thủ kho chính', 'Thủ kho cuộn', 'Thủ kho dược', 'Thủ kho vật tư', 'Thủ quỹ', 'Thủ quỹ giao dịch', 'Thủ quỹ điện lực', 'Thủy Thủ', 'Thủy thủ AB', 'Thủy thủ tàu biển', 'Thủy thủ tàu sông công suất máy > 90 CV', 'Thử việc - Tập sự trực ban ga Lạng', 'Tiếp Thị', 'Tiếp thị', 'Tiếp thực', 'Tiếp viên', 'Tiếp viên Rạch Giá Vùng 2', 'Trainee Preparation Cook', 'Trung cấp kế toán', 'Trung cấp thuỷ lợi', 'Trung cấp xây dựng- CB giám sát kỹ thuật', 'Trung cấp điều dưỡng', 'Trung cấp điều dưỡng khoa Hồi sức tích cực và chống độc', 'Trình dược viên', 'Trường TH - thanh luông', 'Trưởng Ban Kinh doanh', 'Trưởng CA', 'Trưởng Nhóm Tiếp Nhận Yêu Cầu Khách Hàng', 'Trưởng Phòng', 'Trưởng Phòng Văn hóa - Thông tin', 'Trưởng ban kiểm soát', 'Trưởng bộ phận MEP công trường', 'Trưởng bộ phận phát triển cơ sở hạ tầng', 'Trưởng ca', 'Trưởng ca bảo vệ', 'Trưởng ca máy dệt thoi', 'Trưởng công an', 'Trưởng dây chuyền lắp ráp thành phẩm \\xa0', 'Trưởng nhóm Bán hàng', 'Trưởng nhóm Kinh doanh', 'Trưởng nhóm gia dụng', 'Trưởng phòng', 'Trưởng phòng Kinh Doanh', 'Trưởng phòng Kinh doanh', 'Trưởng phòng Kỹ thuật', 'Trưởng phòng Quản lÝ đơn hàng', 'Trưởng phòng Thông tin & Khoa học CN', 'Trưởng phòng cơ điện', 'Trưởng phòng kinh doanh', 'Trưởng phòng kế toán', 'Trưởng phòng nhân chính', 'Trưởng tàu khách', 'Trải vải', 'Trật tự viên Xí nghiệp Dịch vụ công cộng', 'Trợ Lý', 'Trợ Lý KTV', 'Trợ lÝ Pháp lÝ', 'Trợ lÝ giám đốc', 'Trợ lÝ, Nhóm MA', 'Trợ lý', 'Trợ lý - Logistics', 'Trợ lý KTV', 'Trợ lý Kho', 'Trợ lý Kinh doanh', 'Trợ lý Quan hệ khách hàng', 'Trợ lý hành chính', 'Trợ lý hành chính bậc 1', 'Trợ lý kho', 'Trợ lý kho kiêm đóng gói', 'Trực ban chạy tàu', 'Trực buồng', 'Trực chính khử lưu huỳnh (FGD)', 'Tuyên truyền viên', 'TÀI XẾ', 'Tài Xế', 'Tài Xế Xe Du Lịch', 'Tài Xế Xe Nâng Công Nghiệp', 'Tài xế', 'Tài xế - giao hàng xe tải', 'Tài xế Taxi', 'Tài xế cảng', 'Tài xế lái xe trộn bê tông', 'Tài xế tải', 'Tài xế tải HN', 'Tài xế xe công-ten-nơ', 'Tài xế xe nâng', 'Tài xế xe tải (3,5 tấn)', 'Tư Vấn Viên', 'Tư Vấn Viên - Chi nhánh Đà Nẵng', 'Tư vấn Thẻ hội viên', 'Tư vấn bán hàng', 'Tư vấn bán hàng xe DL KIA', 'Tư vấn tuyển sinh', 'Tư vấn tài chính', 'Tạp vụ', 'Tập sự chuyên viên', 'Tổ LắP RáP', 'Tổ Phó', 'Tổ Phó Chuyền May', 'Tổ TRƯởNG PHA CHế', 'Tổ Trưởng', 'Tổ Trưởng  hàng mẫu', 'Tổ Trưởng Bảo Vệ -Tạp Vụ', 'Tổ Trưởng Phát Triển In Thêu', 'Tổ Trưởng Sản Xuất', 'Tổ Trưởng bàn', 'Tổ Viên', 'Tổ hóa lý - Kỹ thuật chất lượng', 'Tổ khối phó, giáo viên', 'Tổ phó', 'Tổ phó bộ môn - Trường THCS Thị Trấn Trà Lồng', 'Tổ phó tổ đế', 'Tổ phó đóng gói lắp ráp', 'Tổ trưởng', 'Tổ trưởng  pha cắt', 'Tổ trưởng Bếp', 'Tổ trưởng Bếp Canteen', 'Tổ trưởng Chất lượng', 'Tổ trưởng Nhà hàng, Khối Dịch vụ ẩm thực', 'Tổ trưởng Pha chế', 'Tổ trưởng Sản xuất', 'Tổ trưởng bán hàng', 'Tổ trưởng bếp', 'Tổ trưởng bộ phận QTS', 'Tổ trưởng bộ phận sơn', 'Tổ trưởng chuyền may công nghiệp', 'Tổ trưởng sản xuất ổ đĩa quang', 'Tổ trưởng thử BP hoàn thiện', 'Tổ trưởng tổ hành chính', 'Tổ trưởng văn phòng', 'Tổng phụ trách', 'Tổng Đài', 'Tổng đài_Vũng Tàu_vùng 1', 'UNL - Nhân viên tư vấn_ Vung 1', 'UNT', 'Uỷ viên HĐQT Kế toán trưởng', 'VHTT', 'VI TÍNH', 'VM+ Cửa hàng trưởng', 'VM+ Nhân viên Bán hàng', 'VM+ Nhân viên Bán hàng - Vùng 2 - Đà Nẵng', 'VM+ Nhân viên bán hàng', 'Viên chức', 'Vân hành băng tải', 'Văn Hoá - Xã hội', 'Văn Phòng Thống Kê', 'Văn Phòng UBND - HĐND', 'Văn Thư', 'Văn hóa - Xã hội', 'Văn phòng', 'Văn phòng thống kê', 'Văn phòng Đảng ủy', 'Văn thư', 'Văn thư - Trường Mầm non Tân Thành', 'Văn thư - Tổ trưởng', 'Văn thư lưu trữ', 'Văn thư, thủ quỹ', 'VẬN HÀNH MÁY PHÒNG CO VẢI (SANFOR) TRONG DÂY CHUYỀN NHUỘM', 'Vận Hành Máy Rót', 'Vận Hành thiết bị tuyển quặng - Chi nhánh tuyển Cam Đường', 'Vận hành máy cuốn điếu, đóng bao thuốc lá', 'Vận hành máy cuốn điếu. đóng bao thuốc lá', 'Vận hành máy gò giày', 'Vận hành máy in hoa trên trục', 'Vận hành máy sợi', 'Vận hành máy xúc dưới 4m³/gầu', 'Vận hành sửa chữa cơ điện trong hầm lò', 'Vận hành sửa chữa máy', 'Vận hành thiết bị lọc bụi điện, lọc bụi tay áo, vít tải bụi', 'Vận hành thiết bị, sửa chữa cơ điện trong hầm lò', 'Vận động viên', 'Vệ Sinh Công Nghiệp Nhà Máy Thuộc Da', 'Vệ sinh', 'Vệ sinh keo', 'Vệ sỹ', 'Worker', 'XTNT', 'Xây dựng', 'Xã Đội Phó', 'Xếp da', 'Xếp hộp', 'Y Sĩ - Nhân viên', 'Y Sỹ', 'Y Sỹ, Bậc 1/12 mã số 16.119', 'Y Tế Học Đường', 'Y công', 'Y sĩ', 'Y sĩ đa khoa', 'Y sỹ', 'Y sỹ Trạm y tế  Thị Trấn', 'Y sỹ bậc 1/12, khoa Nội', 'Y sỹ bậc 1/12, trạm y tế xã Quốc dân', 'Y sỹ bậc 2/12, khoa sức khỏe cộng đồng', 'Y sỹ hạng IV- khoa y tế công cộng', 'Y sỹ trung học (LĐHĐ)', 'Y sỹ trạm y tế xã', 'Y sỹ y học cổ truyền', 'Y sỹ Đa khoa', 'Y sỹ đa khoa', 'Y tá', 'Y tá điều dưỡng', 'Y tế Cộng đồng', 'Y tế trường học', 'YTTH', 'YếN TIệC', 'b?o v?', 'bán hàng', 'bí thư xã  đoàn', 'bí thư đoàn thanh niên', 'bảo mẫu', 'bảo vệ', 'chuyên viên', 'chuyên viên an ninh', 'chuyên viên giao dịch', 'chủ tịch hlhpn', 'cn', 'cn Vận hành + sửa chữa cơ điện lò', 'cn fillet', 'cn làm nguội', 'cn may', 'cn may công nghiệp', 'cn máy in', 'cn phụ', 'cn phụ cắt', 'cn phụ may', 'cn sản xuất', 'cn vận hành máy may', 'cn vận hành máy may-c1', 'cn xưởng giày', 'cn đóng thùng', 'cn. Công Nhân May', 'cn. cđp', 'cn. kiểm tra chất lượng', 'cnhân may cn', 'cnv', 'cong nhan', 'cán bộ', 'cán bộ kế toán viên', 'cán sự', 'cán sự - BHXH Quỳnh Nhai', 'cán sự 5/12', 'cán sự bậc 3/12 đội phó', 'cô nuôi', 'công  nhân', 'công nhán ép phun', 'công nhân', 'công nhân  Hoàn Chỉnh', 'công nhân  Lắp ráp', 'công nhân Fillet', 'công nhân IN LụA', 'công nhân Injection', 'công nhân KCS', 'công nhân May', 'công nhân Phòng Kinh doanh', 'công nhân Phụ Việc', 'công nhân Sản Xuất', 'công nhân VHBDSC tổng đài', 'công nhân bao bì', 'công nhân bán lẻ xăng dầu  Cửa hàng bán lẻ xăng dầu thuộc', 'công nhân bọc hoa', 'công nhân bộ phận in xoa', 'công nhân bộ phận xưởng đúc', 'công nhân bộ phận ép nhựa', 'công nhân chà nhám', 'công nhân chế biến hải sản', 'công nhân chế biến mũ cao su', 'công nhân chế biến thủy sản đông lạnh, bậc 2/6', 'công nhân chế biến đông lạnh', 'công nhân cây xanh', 'công nhân cơ khí sửa chữa 3/7', 'công nhân cắt', 'công nhân dây máy', 'công nhân dệt', 'công nhân dệt sợi', 'công nhân giác sơ đồ', 'công nhân in lụa', 'công nhân in sơn', 'công nhân in tráng phim', 'công nhân kho', 'công nhân khuôn', 'công nhân kiểm hoá', 'công nhân kiểm tra chất lượng', 'công nhân kiểm tra chất lượng sản phẩm', 'công nhân kiểm xương', 'công nhân lao động phổ thông', 'công nhân luyện thép lò điện', 'công nhân là hơi', 'công nhân làm giày', 'công nhân lãnh hàng', 'công nhân lưu hóa', 'công nhân lắp ráp', 'công nhân lắp đặt TM', 'công nhân may', 'công nhân may cn', 'công nhân may công nghiệp', 'công nhân may dây kéo', 'công nhân may trực tiếp cn', 'công nhân may trực tiếp công nghiệp', 'công nhân may đào tạo', 'công nhân mài biên', 'công nhân ngồi máy', 'công nhân nhóm sơn lót chuyền sơn 1', 'công nhân phát phồng', 'công nhân phân xưởng cắt', 'công nhân phân xưởng hoàn chỉnh', 'công nhân phòng An toàn', 'công nhân phòng Lắp ráp - Lắp ráp', 'công nhân phòng chế tạo', 'công nhân phụ', 'công nhân phụ kho', 'công nhân phụ việc', 'công nhân quét keo', 'công nhân ráp ván', 'công nhân sx', 'công nhân sơn', 'công nhân sản xuất', 'công nhân sản xuất 2 - kiểm tra o3', 'công nhân sản xuất linh kiện motor', 'công nhân sấy bít tất', 'công nhân sửa chữa thiết bị điện trong hầm lò', 'công nhân thao tác máy cán', 'công nhân thi công', 'công nhân thành hình', 'công nhân thành hình BC', 'công nhân thành phẩm', 'công nhân thợ may', 'công nhân trồng cam  đội 6 bậc 1/6', 'công nhân trực tiếp sản xuất', 'công nhân tái chế', 'công nhân tổ chuẩn bị', 'công nhân tổ cắt, chuẩn bị, phụ cắt may, đo, đếm, trải vải, đánh số', 'công nhân tổ gót', 'công nhân ui', 'công nhân viên', 'công nhân vận hành cần trục chân đế', 'công nhân vận hành máy may', 'công nhân vận hành máy may CN', 'công nhân vận hành máy may công nghiệp', 'công nhân vận hành máy thêu', 'công nhân vệ sinh', 'công nhân xi mạ', 'công nhân xây dựng', 'công nhân xưởng in', 'công nhân xịt keo lộn cổ giày', 'công nhân ép đế', 'công nhân đóng gói', 'công nhân đóng hàng', 'công nhân đẩy hàng hoá', 'công nhân đế trung', 'công nhân đột dập', 'công nhân đứng máy', 'công nhân đứng máy sợi', 'công nhân ủi', 'công nhân ủi công nghiệp', 'công nhân ủi hơi', 'công nhân_B3-TRIM-SIZE CHECKING - 3A', 'công nhânkho', 'cấp dưỡng', 'cử nhân kế toán', 'cử nhân quản trị, phòng Hành chính quản trị', 'cử nhân y tế công cộng', 'cửa hàng trưởng cửa hàng xăng dầu số 21', 'dược sĩ trung cấp', 'dược sỹ', 'dược sỹ trung cấp', 'giao dịch viên', 'giao hàng', 'giám định viên bậc 1/8', 'giám đốc Công nghệ thông tin', 'giáo viên', 'giáo viên THCS chính', 'giáo viên dạy cấp 2', 'giáo viên tiếng anh', 'giáo viên tiểu học', 'giáo viên trung học', 'giáo viên trường mầm non triệu phúc lịch', 'giáo viên, tổ trưởng tổ 1,2,3', 'giảng viên', 'gấp xếp', 'hcns', 'hướng dẫn viên', 'hộ lý', 'hợp đồng giáo viên mầm non', 'in sơ đồ', 'khuôn MVC', 'khối trưởng, giáo viên', 'kiểm ngân', 'ktv máy hàn', 'ktv x-quang', 'kế toán', 'kế toán trưởng', 'kỷ thuật viên', 'kỹ sư', 'kỹ sư bậc 1', 'kỹ sư điện tử viễn thông', 'kỹ thuật', 'kỹ thuật viên', 'kỹ thuật viên ,ms 13.096,bậc2', 'kỹ thuật viên xét nghiệm', 'lao động giản đơn', 'lao động phổ thông', 'lái xe', 'lái xe 3,5 tấn', 'lái xe con', 'lái xe nâng', 'lái xe tải < 7.5 tấn', 'lđ phổ thông', 'may', 'may 3a', 'may cn', 'may công nghiệp', 'may mẫu', 'mài nhẵn mặt da, lạng da', 'nhân viên', 'nhân viên  lái xe taxi', 'nhân viên - giáo viên', 'nhân viên HCNS', 'nhân viên Kỹ thuật thử việc', 'nhân viên buồng', 'nhân viên buồng phòng', 'nhân viên bán hàng', 'nhân viên bán vé', 'nhân viên bảo vệ', 'nhân viên bảo vệ - Xí nghiệp Dịch vụ Hacinco', 'nhân viên bếp', 'nhân viên bốc xếp', 'nhân viên chỉnh sửa ảnh', 'nhân viên giao hàng bằng xe tải', 'nhân viên giao nhận', 'nhân viên giao nhận XNK', 'nhân viên giao nhận than', 'nhân viên hành chính', 'nhân viên kd', 'nhân viên kho', 'nhân viên kinh doanh', 'nhân viên kinh doanh dự án samsung', 'nhân viên kế toán', 'nhân viên kỷ thuật', 'nhân viên kỹ thuật', 'nhân viên kỹ thật', 'nhân viên lái xe', 'nhân viên lái xe tải 1.25 tấn', 'nhân viên lễ tân', 'nhân viên may', 'nhân viên nghiệp vụ. 1.55, bậc 1/15', 'nhân viên nhà hàng', 'nhân viên phát triển thị trường', 'nhân viên phòng kỹ thuật', 'nhân viên phục vụ', 'nhân viên phục vụ trên các đoàn tàu hỏa chở khách', 'nhân viên qc', 'nhân viên quản lý vận hành trạm biến áp 110kv', 'nhân viên thao tác', 'nhân viên thiết kế', 'nhân viên thu cước', 'nhân viên thu ngân', 'nhân viên tháo găng', 'nhân viên tiếp thi', 'nhân viên tiếp thị', 'nhân viên trạm xổ số tại TP. Hồ Chí Minh', 'nhân viên tuần kiểm nhiên liệu', 'nhân viên tạp vụ', 'nhân viên tổng đài', 'nhân viên văn phòng', 'nhân viên văn thư', 'nhân viên xnk', 'nhân viên xuất nhập khẩu', 'nhân viên y tế học đường hợp đồng', 'nhóm trưởng', 'nhồi mút', 'nt', 'nv', 'nv bảo vệ', 'nv kinh doanh', 'nv phòng tc hc', 'nv thủ kho', 'nv thủ kho cncc', 'nv tiếp thị', 'nvbh', 'nvkd', 'nvpv', 'nấu bếp', 'nấu ăn trong các nhà hàng, ks, các bếp ăn tập thể có từ 100 suất ăn trở lên.', 'nữ hộ sinh', 'phó chỉ huy trưởng ban chỉ huy quân sự phường Hưng Lợi', 'phó giám đốc', 'phó hiệu trưởng - giáo viên trung học ms 15113 - bậc 9 vk 13%.', 'phó hiệu trưởng trường mầm non Hùng Thắng', 'phó trưởng phòng kế toán', 'phết keo đế và mũ giày', 'phụ bếp', 'quản lý phòng kinh doanh vận tải đa phương tiện', 'quản trị mạng', 'thanh tra xây dựng', 'thơợ chạy máy cuốn ống', 'thống kê', 'thợ may', 'thợ phụ', 'thợ phụ in', 'thợ sơn', 'thợ sửa điện', 'thợ điện', 'thợ đồng', 'thủ  quỹ', 'thủ kho', 'thủ quỹ', 'thực tập giám sát viên', 'tiếp viên buýt', 'tl kiểm phẩm', 'triển khai', 'trung cấp kế toán', 'trung cấp xét nghiệm, xét nghiệm vi sinh vật, sinh hóa- phòng quản lý khoa học & đào tạo', 'trưởng kiểm soát', 'trưởng nhóm kd', 'trưởng phòng', 'trợ lý', 'trợ lý giám sát', 'tài xế', 'tạp vụ', 'tập sự giáo viên', 'tổ phó', 'tổ trưởng', 'tổ trưởng may', 'undefined', 'vh máy may', 'văn thư đánh máy', 'vận hành máy may', 'y sỹ', 'y tá', 'éDTC', 'ép MVC', 'ép Suất, Thành Hình Sp Cao Su', 'ép cao tần', 'Đ. Gói', 'ĐD TC', 'ĐDTM', 'ĐIỀU DƯỠNG VIÊN', 'ĐIềU DƯỡNG', 'ĐIềU DƯỡNG TRUNG CấP', 'Điều Dưỡng', 'Điều Dưỡng Trung cấp', 'Điều Tra Viên', 'Điều dưỡng', 'Điều dưỡng TH', 'Điều dưỡng Trung học', 'Điều dưỡng cao đẳng tại khoa Ngoại', 'Điều dưỡng gây mê hồi sức', 'Điều dưỡng hạng IV', 'Điều dưỡng khoa phẫu thuật gây mê', 'Điều dưỡng trung cấp', 'Điều dưỡng trung cấp bậc 1/12', 'Điều dưỡng trung học', 'Điều dưỡng trung học Trạm y tế xã quảng tâm', 'Điều dưỡng trung học làm việc tại khoa Phẫu thuật GMHS', 'Điều dưỡng trạm y tế xã Hòa Sơn', 'Điều dưỡng viên', 'Điều dưỡng viên TC - Trạm YT xã Hoà Sơn', 'Điều dưỡng vuên', 'Điều dưỡng đa khoa', 'Điều hành ĐTT', 'Điện thoại viên', 'Điện thoại viên VNP', 'Điện thoại viên Viettel', 'Điện thọai viên', 'Đào tạo', 'Đón  tiếp Khách Hàng tại TP. HCM', 'Đóng gói', 'Đóng nút', 'Đăng kiểm viên', 'Đơn hàng', 'Đại diện Bán hàng', 'Đại diện bán hàng', 'Đại diện bỏn hàng', 'Đại diện kinh doanh', 'Đại diện thương hiệu', 'Đại diện thương mại', 'Đầu bếp Bánh', 'Địa chính - Xây dựng', 'Địa chính xây dựng', 'Đội bảo trì, bảo dưỡng máy thô', 'Đội phó Phòng cháy chữa cháy', 'Đội thông tin lưu động', 'Đội trưởng', 'Đội trưởng Lái xe', 'Đội viên', 'Đứng máy', 'Đứng máy Sợi -531', 'điều dường trung cấp', 'điều dưỡng sơ cấp', 'điều dưỡng trung cấp', 'điều hành tour', 'điều phối công trường', 'điều phối viên', 'đánh máy', 'địa chính - XD', 'địa chính xây dựng', 'đội trưởng đội xe', 'đội viên cảnh vệ', 'đứng bếp', 'ủi']\n",
      "3589\n",
      "#####################\n",
      "[', Hiệu trưởng', '/  /', '1', '14', '25586 - CN Châu Đức', '28636-VBL, Nhân viên SP', '50156- NV Sales DSMs - Lâm Đồng', '51759/NVBH/Unza/Đồng Xoài/Vùng 2', '57644- NV Sales DSMs - Quảng Nam - Vùng 02', '74006/Nhân viên SR/MRC/Hồ Chí Minh/Vùng 1', '78969-Nhân viên tư vấn bán hàng-HCM', '79942/ Nhân viên bán hàng Canon', '85688/Nhân viên tư vấn bán hàng VBL/Vùng 3/_Quang Ngai 2_C8', 'A', 'ATLĐ', 'An ninh viên', 'BS khoa Nội', 'Biên tập viên', 'BáN HàNG', 'Bán hàng', 'Bán hàng TPTS', 'Bán hàng-Vùng 3', 'Bán vé', 'BảO TRì', 'Bảo Vệ', 'Bảo Vệ - Cao Lãnh vùng 3', 'Bảo mẫu', 'Bảo vệ', 'Bảo vệ cơ động, Nông trường cao su Iahlốp', 'Bảo vệ làm theo chế độ 3 ca', 'Bảo vệ trên tàu hỏa', 'Bậc 2 công nhân Nạp liệu lò cao trong công nghệ sản xuất phân lân nung chảy.', 'Bếp Trưởng', 'Bếp trưởng', 'Bốc xếp', 'C.Nhân Sx', 'C.n', 'CB Kỹ thuật TK SWAP-Pleiku, Gia Lai', 'CB Văn phòng Tỉnh Đoàn', 'CB không chuyên trách.', 'CN', 'CN - CLT0Y', 'CN - TP.HCM', 'CN BXTC', 'CN Kho', 'CN Kiểm hóa, ủi, đóng gói,gấp,cắt chỉ, so sữa BTP', 'CN MAY', 'CN May', 'CN Mở nắp-Lấy đế - Xưởng Sơn', 'CN SOFA', 'CN SX dây dẫn điện', 'CN Trải Vải', 'CN Vận hành cống bao', 'CN Xưởng đế', 'CN chăm sóc', 'CN chăm sóc gieo ươm cây giống Tổ vườn ươm thuộc Phòng SXKD', 'CN cắt gọt, phối hàng-chuyền 22', 'CN hạ cây chặt cành', 'CN khai thác mủ cao su - Nông trường Thọ Sơn', 'CN kiểm tra chất lượng', 'CN kéo ướt', 'CN lau dầu, xếp rổ Xưởng Đế PU', 'CN may', 'CN may CN', 'CN may công nghiệp', 'CN nguội PX kết cấu xây lắp 2', 'CN phòng máy thêu vải', 'CN quét keo đế', 'CN quét rác đường phố', 'CN sản xuất', 'CN vận hành máy may', 'CN vận hành máy may công nghiệp', 'CN Đèng Đa - Hà Néi', 'CN ĐóNG GóI', 'CN Đóng gói', 'CN-QCD0Y', 'CN-QCT0Y', 'CN. Chế biến thủy sản', 'CN. VậN HàNH MáY MAY', 'CNCBTHSĐL', 'CNV', 'CNVHSC Đường Dây & Trạm CNĐ Sơn Động', 'CV 1 - Đặt hẹn', 'CV TT Điều hành SCADA', 'CV1 - Đặt hẹn', 'Ch viên tập sự', 'Chuyên viên', 'Chuyên viên ( 85% Bậc 1/9 )', 'Chuyên viên - Phòng Kế Hoạch', 'Chuyên viên - Phòng quản lý hợp đồng', 'Chuyên viên 1 - Đặt hẹn', 'Chuyên viên I - Quan hệ khách hàng', 'Chuyên viên Kinh doanh', 'Chuyên viên Kế hoạch KD', 'Chuyên viên Kế toán-Tổng hợp', 'Chuyên viên P. Thông tin', 'Chuyên viên Phụ trách khách hàng trọng điểm', 'Chuyên viên Quan hệ khách hàng cá nhân-01', 'Chuyên viên TS', 'Chuyên viên bậc 1/8', 'Chuyên viên bậc 1/9', 'Chuyên viên chính Xử lý nợ', 'Chuyên viên chăm sóc khách hàng', 'Chuyên viên khách hàng cá nhân', 'Chuyên viên khách hàng cá nhân PVcomBank Nguyễn Thị Thập Khối Khách hàng cá nhân', 'Chuyên viên kế toán - Bưu điện thành phố Tân An', 'Chuyên viên sản phẩm Thẻ tín dụng', 'Chuyên viên tư vấn tài chính', 'Chuyên viên tập sự bậc 1/9', 'Chuyên viên, Phòng Kinh doanh phía Bắc, Khối Ngân hàng Điện tử, Hội sở chính LPB', 'Chuyên viên, bảo hiểm xã hội huyện Bá Thước', 'Chuyên viên, thạc sỹ', 'Chuyền Trưởng Chuyền trưởng', 'Chế biến nguyên liệu, pha trộn, đóng gói bột canh, bột gia vị. LĐNNĐH loại 4', 'Chỉ Huy Khu Vực', 'Chủ hộ', 'Chủ nhiệm bộ môn', 'Chủ tịch hội Phụ nữ', 'Cn Kiểm Tra Chất Lượng', 'Cn Mài bóng', 'Cn Sản Xuất', 'Cnhân Lưư hoá lốp', 'Cong nhan', 'Copywriter Web', 'Coõng Vuù', 'Coõng nhaõn Eựp suaỏt thaứnh hỡnh caực saỷn phaồm cao su', 'Coõng nhaõn Queựt keo ủeỏ vaứ  muừ giaứy', 'Coõng nhaõn Veọ sinh coõng nghieọp nhaứ maựy thuoọc da', 'Coõng nhaõn boọ phaọn Nos D', 'Coõng nhaõn ngoài maựy caột', 'Cty Great Process - TH 3-1', 'Cty Great Process - a9', 'C«ng Nh©n Thµnh H×nh', 'CÔNG NHÂN', 'CÔNG NHÂN (MàI Đá)', 'CÔNG NHÂN Cupinsole', 'CÔNG NHÂN CƠ KHÍ', 'CÔNG NHÂN CƠ KHí', 'CÔNG NHÂN CấP ĐÔNG', 'CÔNG NHÂN DáN', 'CÔNG NHÂN DáN Đế', 'CÔNG NHÂN MAY', 'CÔNG NHÂN MAY CÔNG NGHIệP', 'CÔNG NHÂN SX', 'CÔNG NHÂN VẬN HÀNH MÁY THI CÔNG XÂY DỰNG', 'CÔNG NHÂN ĐI 03 CA', 'CÔng Nhân hàn Tig', 'Cài đặt ứng dụng', 'Cán Bộ', 'Cán bộ', 'Cán bộ - địa chính', 'Cán bộ DS - KHHGĐ - TE', 'Cán bộ Phòng Y tế huyện Sốp Cộp Sơn La', 'Cán bộ Văn phòng - Thống kê', 'Cán bộ công tác sinh viên', 'Cán bộ cấp 2', 'Cán bộ dinh dưỡng', 'Cán bộ hợp đồng', 'Cán bộ kinh doanh', 'Cán bộ kỹ thuật', 'Cán bộ lập trình', 'Cán bộ pháp chê', 'Cán bộ phòng Kế hoạch - Tài chính', 'Cán bộ phòng nghiệp vụ', 'Cán bộ Địa chính xây dựng', 'Cán sự', 'Cán sự bậc 5/12, phòng kế toán - tài vụ', 'Cán sự văn phòng thống kê', 'Cán sự văn phòng thống kê - bậc 1-mã số 01.004', 'Cô nuôi', 'Công  nhân may CN', 'Công  nhân tổ phun sơn', 'Công Nhân', 'Công Nhân  Ng. liệu Ván', 'Công Nhân  Ng.liệu Gỗ.Giường', 'Công Nhân AL2-S1', 'Công Nhân Bậc 3-Bộ Phận Đóng Gói', 'Công Nhân Chuyền Cắt', 'Công Nhân Chuyền Thành Hình', 'Công Nhân Dán Talon Mũi', 'Công Nhân Dập Đế', 'Công Nhân Fillet', 'Công Nhân Hình Thành', 'Công Nhân Hình Thành Mẫu - Chạy Chuyền', 'Công Nhân In', 'Công Nhân Kiểm Hàng', 'Công Nhân Kiểm Phẩm', 'Công Nhân Kiểm Tra Chất Lượng', 'Công Nhân Kiểm Tra Chất Lượng - QC ROVING', 'Công Nhân Kiểm phẩm', 'Công Nhân Lãnh Liệu', 'Công Nhân Lắp Dựng', 'Công Nhân Lắp Ráp', 'Công Nhân May', 'Công Nhân May Công Nghiệp', 'Công Nhân Mài Đế', 'Công Nhân Pha Cắt', 'Công Nhân Pha Cắt, Nhà máy sản xuất giầy &amp; phụ liệu Tam Cường.', 'Công Nhân Phun Hoa Phun Sơn Đoạn Sau A', 'Công Nhân Phun sơn', 'Công Nhân Phát Liệu', 'Công Nhân Phết Keo Đế Hoặc Mũ Giày', 'Công Nhân Phụ Máy Đầm', 'Công Nhân Qip May Xưởng 1', 'Công Nhân SX', 'Công Nhân SX Biển Số Nhà, Biển Số Xe', 'Công Nhân SX Điện tử', 'Công Nhân Sản Xuất', 'Công Nhân Sản Xuất Bộ Tách Máu', 'Công Nhân Sản Xuất Điện tử', 'Công Nhân Sửa Chữa Và Bảo Trì Máy Sợi', 'Công Nhân Thủ công', 'Công Nhân Trại Gà', 'Công Nhân Tổ Chuẩn Bị', 'Công Nhân Viên', 'Công Nhân Vận Hành Máy May', 'Công Nhân Vận Hành Máy May Công Nghiệp', 'Công Nhân Xếp Ván Chuyền', 'Công Nhân Xịt Sơn', 'Công Nhân in lụa', 'Công Nhân sx dầu dừa nguyên chất ca a', 'Công Nhân sản xuất Điện tử', 'Công Nhân vận hành máy đột dập', 'Công Nhân Ép Máy', 'Công Nhân ép Nhựa', 'Công Nhân ép Đế A', 'Công Nhân Đóng Gói', 'Công Nhân Đóng Thùng - Đóng Gói', 'Công Nhân Đứng Máy Cắt Laser', 'Công Nhân Đứng Máy Cắt Thường', 'Công Nhân ủi', 'Công nhan may', 'Công nhân', 'Công nhân  - Phòng Sản xuất', 'Công nhân  lắp ráp', 'Công nhân  sản xuất', 'Công nhân ( MNV: H453 )', 'Công nhân - Sản xuất GLASSTIC', 'Công nhân BP sản xuất', 'Công nhân Bảo vệ', 'Công nhân Bốc Vác', 'Công nhân Bộ phận Điều phối', 'Công nhân Chặt Liệu', 'Công nhân Chặt thủ công', 'Công nhân Chế biến', 'Công nhân Công nghệ', 'Công nhân Dán', 'Công nhân Dập', 'Công nhân EVI 2', 'Công nhân FS3K line', 'Công nhân Final', 'Công nhân Hoàn chỉnh', 'Công nhân Hoàn thiện', 'Công nhân Hàn', 'Công nhân Hàn điện, hàn hơi', 'Công nhân In', 'Công nhân In da, gọt', 'Công nhân KCS', 'Công nhân KT', 'Công nhân KV3', 'Công nhân Kho', 'Công nhân Kho nguyên liệu', 'Công nhân Kiểm Hàng', 'Công nhân Kiểm hàng', 'Công nhân Kiểm phẩm', 'Công nhân Kiểm tra sản phẩm Giặt', 'Công nhân Kéo Sợi', 'Công nhân Kỹ Thuật', 'Công nhân Lái xe tải hạng 70 tấn', 'Công nhân Lãnh vật tư', 'Công nhân Lấy dấu', 'Công nhân Lắp ráp', 'Công nhân Lắp ráp C', 'Công nhân May', 'Công nhân May CN', 'Công nhân May Công Nghiệp', 'Công nhân May Quai/Ngăn', 'Công nhân May công nghiệp', 'Công nhân May, Đóng nút', 'Công nhân Motor', 'Công nhân Máy ép Đi 3 Ca', 'Công nhân Mạ', 'Công nhân Nguội - Khuôn mẫu', 'Công nhân OE', 'Công nhân P.THÀNH HÌNH 8', 'Công nhân PHòNG SảN XUấT', 'Công nhân Phòng Sản xuất 1', 'Công nhân Phòng chế tạo 1 Bộ phận chế tạo máy in', 'Công nhân Phết Keo Đế Và Mũ Giầy', 'Công nhân QC', 'Công nhân Quét Keo', 'Công nhân Quấn dây', 'Công nhân SX RB đế', 'Công nhân SX2 - SUB E2', 'Công nhân Sinh quản', 'Công nhân So, sửa bán thành phẩm máy may công nghiệp - Bộ phận May', 'Công nhân Soi thuốc dịch truyền', 'Công nhân Sản Xuất', 'Công nhân Sản xuất', 'Công nhân Sản xuất Lắp ráp', 'Công nhân Sản xuất linh kiện cao su', 'Công nhân Sản xuất thiết bị hình ảnh', 'Công nhân T2C1 gò giầy', 'Công nhân T? ?óng Gói', 'Công nhân Thành Hình', 'Công nhân Thành hình', 'Công nhân Thủ công', 'Công nhân Tách gộp sản phẩm', 'Công nhân Tạo phôi', 'Công nhân Tẩm bột', 'Công nhân Tổ xay trộn', 'Công nhân Vận hành máy may công nghiệp - Bộ phận May', 'Công nhân Vẽ sơn PU', 'Công nhân Vệ sinh', 'Công nhân Xuất hàng', 'Công nhân Xây lắp đường dây và TBA', 'Công nhân Xưởng điện phân', 'Công nhân Xếp khuôn', 'Công nhân bao bì', 'Công nhân bán lẻ xăng dầu Cửa hàng xăng dầu Dĩnh Kế - Công ty xăng dầu Hà Bắc', 'Công nhân bậc 1', 'Công nhân bốc xêp và đóng gói hàng', 'Công nhân bốc xếp', 'Công nhân bộ phận Glazing 2 Robot', 'Công nhân bộ phận IE', 'Công nhân bộ phận QC', 'Công nhân bộ phận làm khuôn', 'Công nhân bộ phận đồng hồ', 'Công nhân bộ phận đột dập', 'Công nhân cao su', 'Công nhân chuẩn bị PCB trước công đoạn sản xuất', 'Công nhân chạy chuyền', 'Công nhân chất lượng', 'Công nhân chế biến - Nhà máy sữa', 'Công nhân chế biến hải sản đông lạnh', 'Công nhân chế biến thủy hải sản đông lạnh', 'Công nhân chế biến thủy sản đông lạnh', 'Công nhân chế biến thủy sản đông lạnh, bậc 2/6', 'Công nhân chế biến thực phẩm', 'Công nhân chế tạo', 'Công nhân cân nguyên liệu con', 'Công nhân cây xanh', 'Công nhân cơ khí', 'Công nhân cạo mủ', 'Công nhân cắt', 'Công nhân cắt chỉ', 'Công nhân cắt gọt(may công nghiệp)', 'Công nhân cắt may', 'Công nhân cắt phá, cắt gọt', 'Công nhân cắt quai', 'Công nhân cắt và tạo hình', 'Công nhân cắt vải trong công nghệ may', 'Công nhân duy tu nạo vết cống', 'Công nhân duy tu Đội công trình 1', 'Công nhân dán lốp', 'Công nhân dán đế', 'Công nhân dây máy', 'Công nhân dệt bạt', 'Công nhân dệt sợi', 'Công nhân gia công', 'Công nhân gia công bạt', 'Công nhân gia công đế', 'Công nhân giao nhận', 'Công nhân gấp, đóng gói  (may công nghiệp)', 'Công nhân gỗ', 'Công nhân hoàn thiện', 'Công nhân hoàn thiện gấp gói', 'Công nhân hàn điện hàn hơi & khoan bào tiện gang', 'Công nhân hàng trắng ghế', 'Công nhân hàng trắng khung', 'Công nhân hình ảnh', 'Công nhân học may', 'Công nhân hố sợi công nghiệp', 'Công nhân hỗ trợ', 'Công nhân hỗ trợ May', 'Công nhân in lụa trên áo', 'Công nhân in sơn', 'Công nhân khai thác', 'Công nhân khai thác Trung tâm khai thác BC-PHBC', 'Công nhân khai thác bưu chính trong nước Bưu điện huyện Tuy Phong', 'Công nhân khai thác mỏ hầm lò', 'Công nhân khai thác mủ cao su', 'Công nhân kho', 'Công nhân khoan', 'Công nhân khui hàng', 'Công nhân khử trùng hàng hóa nông, lâm sản xuất nhập khẩu trên tàu biển, xà lan, trong Xilo - Vùng 1', 'Công nhân khử trùng hàng hóa nông, lâm sản xuất nhập khẩu trên tàu biển, xà lan, trong Xilo - Vùng I', 'Công nhân kiểm gấp trong dây chuyền may', 'Công nhân kiểm gấp trên dây chuyền may', 'Công nhân kiểm hàng', 'Công nhân kiểm hàng F2', 'Công nhân kiểm hóa may công nghiệp', 'Công nhân kiểm tra', 'Công nhân kiểm tra chất lượng', 'Công nhân kiểm tra chất lượng sản phẩm', 'Công nhân kiểm tra cường hóa sản phẩm', 'Công nhân kiểm tra sản phẩm', 'Công nhân kết cườm', 'Công nhân kỹ thuật', 'Công nhân kỹ thuật Hàn', 'Công nhân kỹ thuật cơ khí', 'Công nhân kỹ thuật in', 'Công nhân kỹ thuật viễn thông', 'Công nhân lao động', 'Công nhân lao động phổ thông', 'Công nhân là', 'Công nhân là may công nghiệp, bậc 1/6', 'Công nhân làm bánh tráng', 'Công nhân làm đường', 'Công nhân làm đế giày', 'Công nhân lái máy', 'Công nhân lái vận thăng', 'Công nhân lái xe từ 40 ghế đến dưới 60 ghế', 'Công nhân lái xe ô tô chở rác từ 3,5 tấn - dưới 7,5 tấn', 'Công nhân lái xe ô tô trên 10 tấn', 'Công nhân lên xuống container', 'Công nhân lò nung', 'Công nhân lấy số lượng', 'Công nhân lắp máy', 'Công nhân lắp ráp', 'Công nhân lắp ráp bản mạch', 'Công nhân lắp ráp linh kiện điện tử', 'Công nhân lắp ráp mạch điện tử', 'Công nhân lắp ráp mỹ ký', 'Công nhân lắp ráp điện tử', 'Công nhân lắp ráp điện tử làm việc theo chế độ 3 ca', 'Công nhân lắp ráp, vận chuyển linh \\r\\nkiện, kiểm tra và đóng gói sản phẩm', 'Công nhân lắp ráp, vận chuyển linh kiện, kiểm tra và đóng gói sản phẩm', 'Công nhân lắp ráp, đóng gói', 'Công nhân may', 'Công nhân may  CN', 'Công nhân may công nghiệp', 'Công nhân may công nghiệp-Lô C, KCN Long Khánh, xã Bình Lộc, Thị xã Long Khánh, Đồng Nai', 'Công nhân may giày da', 'Công nhân may máy công nghiệp', 'Công nhân may máy may công nghiệp', 'Công nhân may mẫu', 'Công nhân may tay', 'Công nhân may trực tiếp công nghiệp', 'Công nhân mài chà quần bò', 'Công nhân mài nước', 'Công nhân mài sợi', 'Công nhân mài đế', 'Công nhân máy may', 'Công nhân máy may công nghiệp', 'Công nhân nghiền,cán,khuấy,trộn,pha mầu, và hóa chất', 'Công nhân nhiên liệu đại đế', 'Công nhân nhận vải, xổ vải (Lao động phổ thông)', 'Công nhân nhập xuất hộp', 'Công nhân nhựa', 'Công nhân nuôi cá chình', 'Công nhân pha cắt', 'Công nhân pha cắt 27', 'Công nhân pha phao nhỏ C', 'Công nhân phay, tiện, hàn cơ khí', 'Công nhân phun sơn', 'Công nhân phát kim', 'Công nhân phát triển', 'Công nhân phân xưởng', 'Công nhân phòng Chế tạo 12 bộ phận Chế tạo máy in 1', 'Công nhân phòng máy', 'Công nhân phòng quản lÝ sản xuất', 'Công nhân phòng sản xuất Ato', 'Công nhân phết keo mũ giày', 'Công nhân phết keo đế và mũ giày', 'Công nhân phết keo đế và mũ giầy', 'Công nhân phết keo đế và mũi giày', 'Công nhân phụ chuyền may', 'Công nhân phụ gia, vê viên, sấy, đóng bốc bao NPK kiêm sản xuất Phèn', 'Công nhân phụ may', 'Công nhân phụ may công nghiệp', 'Công nhân phụ may trong ngành may CN', 'Công nhân phụ việc', 'Công nhân phục vụ sx', 'Công nhân quét keo', 'Công nhân quét keo viền', 'Công nhân quét rác đường phố', 'Công nhân quản lý vận hành lưới điện trung, hạ thế - Điện lực Thuận Châu', 'Công nhân quấn sợi', 'Công nhân rót nến', 'Công nhân sản xuất bộ phận CR - Công đoạn tạo hình sản phẩm', 'Công nhân sản xuất thiết bị điện tử', 'Công nhân saản xuất', 'Công nhân se sợi', 'Công nhân sx', 'Công nhân sx thùng giấy', 'Công nhân sơ chế thức ăn', 'Công nhân sơn', 'Công nhân sơn men', 'Công nhân sản xuất', 'Công nhân sản xuất Camera', 'Công nhân sản xuất bóng', 'Công nhân sản xuất camera điện thoại, 004930', 'Công nhân sản xuất chỉ', 'Công nhân sản xuất cáp quang', 'Công nhân sản xuất dây dẫn điện', 'Công nhân sản xuất dây kéo', 'Công nhân sản xuất giầy', 'Công nhân sản xuất giầy Bộ phận pha cắt', 'Công nhân sản xuất gạch', 'Công nhân sản xuất gạch ốp,lát', 'Công nhân sản xuất hợp kim nhôm', 'Công nhân sản xuất kim loại', 'Công nhân sản xuất linh kiện Camera', 'Công nhân sản xuất linh kiện bán dẫn', 'Công nhân sản xuất linh kiện điện tử', 'Công nhân sản xuất loa điện thoại di động', 'Công nhân sản xuất lưỡi cưa và đế cưa', 'Công nhân sản xuất lắp ráp', 'Công nhân sản xuất máy in', 'Công nhân sản xuất máy in, máy fax, linh kiện, thiết bị điện tử, các loại khuôn', 'Công nhân sản xuất mạng sản xuất phụ tùng', 'Công nhân sản xuất mạng thiết bị quang học', 'Công nhân sản xuất nền đĩa thủy tinh', 'Công nhân sản xuất tai nghe điện thoại', 'Công nhân sản xuất thiết bị hình ảnh', 'Công nhân sản xuất thiết bị điện tử', 'Công nhân sản xuất thủy sản', 'Công nhân sản xuất túi khí ô tô', 'Công nhân sản xuất tất', 'Công nhân sản xuất tủ lạnh', 'Công nhân sản xuất ván ép', 'Công nhân sản xuất điện tử', 'Công nhân sản xuất đầu nối điện tử', 'Công nhân sắp chữ điện tử', 'Công nhân sửa chữa bảo dưỡng, bơm mỡ thiết bị luyện kim', 'Công nhân sửa chữa cơ điện trong hầm lò', 'Công nhân sửa chữa máy dệt', 'Công nhân sửa chữa máy may công nghiệp', 'Công nhân sửa chữa máy sợi', 'Công nhân sửa chữa thiết bị luyện kim', 'Công nhân sửa chữa thiết bị điện trong hầm lò', 'Công nhân sửa chữa điện tử', 'Công nhân sửa cá', 'Công nhân sửa lỗi vải', 'Công nhân sửa máy', 'Công nhân thao tác', 'Công nhân thay thân', 'Công nhân thu gom rác', 'Công nhân thu mua', 'Công nhân thành hình các sản phẩm cao su', 'Công nhân thành hình, KCN Long Khánh, thị xã Long Khánh, tỉnh Đồng Nai', 'Công nhân thêu', 'Công nhân thợ may', 'Công nhân thủ công', 'Công nhân thủ công - A249152', 'Công nhân tráng', 'Công nhân trại heo', 'Công nhân trải vải', 'Công nhân trắc đạc', 'Công nhân trồng chè đội 13 - xí nghiệp chè phú sơn', 'Công nhân trồng và thu hoạch', 'Công nhân trực tiếp may công nghiệp', 'Công nhân tách xoắn', 'Công nhân tô biên', 'Công nhân tạo hình', 'Công nhân tổ 3 - Tổ 3', 'Công nhân tổ Cắt da', 'Công nhân tổ Furan', 'Công nhân tổ Ráp giày thành phẩm', 'Công nhân tổ chuẩn bị', 'Công nhân tổ cắt', 'Công nhân tổ hoàn thiện carton', 'Công nhân tổ hàn', 'Công nhân tổ nạp liệu và xử lý bột', 'Công nhân tổ quấn chão', 'Công nhân tổ ép phun', 'Công nhân viên', 'Công nhân viên XN LED', 'Công nhân vân hành bậc 27', 'Công nhân vân hành máy may công nghiệp', 'Công nhân vòng ngoài', 'Công nhân vận chuyển', 'Công nhân vận hành', 'Công nhân vận hành MMCN', 'Công nhân vận hành Máy Rót line Combi', 'Công nhân vận hành bậc 1', 'Công nhân vận hành dây chuyền sợi', 'Công nhân vận hành dây truyền chế biến sợi thuốc lá', 'Công nhân vận hành máy ( May Công Nghiệp)', 'Công nhân vận hành máy 4000m/h trạm bơm Vạn Thắng Xí nghiệp khai thác công trình thuỷ lợi Thị Xã Chí Linh', 'Công nhân vận hành máy Chip Mounter', 'Công nhân vận hành máy bơm', 'Công nhân vận hành máy bơm công suất 8000m3/h', 'Công nhân vận hành máy dệt kim tròn', 'Công nhân vận hành máy may', 'Công nhân vận hành máy may (023103)', 'Công nhân vận hành máy may (May công nghiệp)', 'Công nhân vận hành máy may (may công nghiệp)', 'Công nhân vận hành máy may - Line 25', 'Công nhân vận hành máy may công nghiệp', 'Công nhân vận hành máy may công nghiệp tổ 2', 'Công nhân vận hành máy nhuộm sợi', 'Công nhân vận hành máy sơn', 'Công nhân vận hành máy sản xuất thùng carton-Nhà máy Bao bì', 'Công nhân vận hành máy sợi con (sx 3 ca)', 'Công nhân vận hành máy trong dây chuyền Nhuộm', 'Công nhân vận hành máy trong dây chuyền nhuộm', 'Công nhân vận hành thiết bị', 'Công nhân vận hành thiết bị may Công nghiệp,Bậc 1/7', 'Công nhân vận hành thiết bị máy', 'Công nhân vận hành xưởng xi măng đóng bao', 'Công nhân xưởng lò nung', 'Công nhân xếp -ra lò', 'Công nhân xếp khuôn', 'Công nhân ép MEX', 'Công nhân ép MEX hoặc sơ chế MEX', 'Công nhân ép cao tầng', 'Công nhân ép nóng', 'Công nhân ép phun', 'Công nhân Điện', 'Công nhân Đánh Xừ', 'Công nhân Đánh bóng kim loại', 'Công nhân Đóng gói', 'Công nhân Đóng thùng', 'Công nhân Đùn', 'Công nhân Đập tẻ lót thân', 'Công nhân Đế', 'Công nhân Đế Trung( DP)', 'Công nhân Đứng máy dập', 'Công nhân điện', \"Công nhân điện lực CưM'gar\", 'Công nhân đo đếm vải may công nghiệp, bậc 1/6', 'Công nhân đào tạo may', 'Công nhân đánh xi', 'Công nhân đóng gói', 'Công nhân đóng gói, bốc vác', 'Công nhân đóng thùng', 'Công nhân đóng đinh', 'Công nhân đẩy biên đế', 'Công nhân đế', 'Công nhân đế gia công', 'Công nhân đốt lò', 'Công nhân đồng bộ bàn thành phẩm', 'Công nhân đổ sợi cho máy Thô', 'Công nhân đổ sợi con', 'Công nhân đứng máy', 'Công nhân đứng máy bông trong dây chuyền sợi', 'Công nhân đứng máy chặt bán tự động', 'Công nhân ống PVC', 'Công nhân ủi', 'Công nhân, Cty CPCB Gỗ Đức Thành', 'Công nhân, phân xưởng Thành Hình', 'Công nhân- Xưởng Sơn', 'Công nhân-Kiểm hàng', 'Công nhân-Sơn', 'Công nhân-Sản xuất, lắp ráp phụ tùng xe máy, ô tô', 'Công nhânChạy Dây', 'Công nnhân-ép mũi', 'Công tác dân số, Trạm y tế Phường 1', 'Cấp dưỡng', 'Cỏn bộ cấp 2, Vựng 2, Bậc 1', 'Cộng tác viên thanh tra xây dựng', 'Cụng nhõn', 'Cụng nhõn lỏi đầu mỏy xe lửa', 'Cụng nhõn vận hành mỏy may', 'Cử nhân kinh tế', 'Cửa hàng trưởng', 'Cửa hàng trưởng VM+', 'Diễn viên', 'Diễn viên nhạc cụ. diễn viên hạng  V.100414, bậc 1/9, 85%', 'Dyeing Operator / Kỹ Thuật Viên Nhuộm', 'Dược sĩ', 'Dược sĩ - Khoa dược', 'Dược sĩ hạng IV, Khoa Dược', 'Dược sỹ', 'Dược sỹ trung cấp', 'Dược sỹ trung cấp bậc 2 MN16.135, phó phòng y tế', 'Dược sỹ trung học', 'Dược trung', 'Dược tá', 'G.Viên', 'GIÁM SÁT CƠ CAO CẤP', 'GIÁM ĐỐC', 'GIáM ĐốC', 'GS camera', 'GV', 'Giao dịch viên', 'Giao dịch viên Bưu điện Thị xã Ayun Pa', 'Giao dịch viên Bưu điện huyện Kon Plong', 'Giao dịch viên bưu chính', 'Giao dịch viên cấp 3', 'Giao dịch viên, Bưu điện huyện Đại Lộc', 'Giao nhận', 'Giám Sát Kinh Doanh', 'Giám sát', 'Giám sát Camera', 'Giám sát Nv hồ bơi', 'Giám sát bán hàng', 'Giám sát bán hàng KV Bắc Giang -Nhà máy Sữa VinaSoy', 'Giám sát công trình', 'Giám sát nhà hàng', 'Giám Đốc', 'Giám đốc', 'Gián viên', 'Giáo Viên', 'Giáo Viên THCS', 'Giáo Viên, 20', 'Giáo viên', 'Giáo viên - Trường TH Lê Thị Hồng Gấm', 'Giáo viên - Trường TH Thị Trấn Trà Lồng', 'Giáo viên - Tổ trưởng', 'Giáo viên MN Hoàng An', 'Giáo viên MN.Tr MN Hoa Hồng Thị Trấn', 'Giáo viên THCS', 'Giáo viên THCS hạng II', 'Giáo viên Tin học', 'Giáo viên Trường MN Vàng Anh', 'Giáo viên Trường Mẫu giáo xã Kim Sơn', 'Giáo viên Trường mầm non Xuân Phú', 'Giáo viên bậc 1/12 Trường mầm non Đức Hồng', 'Giáo viên hợp đồng', 'Giáo viên kiêm tổ trưởng chuyên môn', 'Giáo viên mầm non', 'Giáo viên mầm non bậc 1/12. Trường Mầm non Đại Tiến', 'Giáo viên mầm non chính', 'Giáo viên mầm non hạng IV', 'Giáo viên tiểu học', 'Giáo viên tiểu học bậc 1/12', 'Giáo viên tiểu học chính', 'Giáo viên tiểu học chính bậc 3/10, trường tiểu học Hồng Định, thuộc', 'Giáo viên tiểu học trường tiểu học Đăk Choong', 'Giáo viên trường MG Sơn ca II', 'Giáo viên trường MG Xã Tả Củ Tỷ', 'Giáo viên trường TH Trường Đông A', 'Giáo viên trường TH Tủa Sín chải', 'Giáo viên trường TH và THCS Nguyễn Chí Thanh', 'Giáo viên trường tiểu học Lê hồng Phong', 'Giáo viên trường tiểu học Nậm Cang', 'Giáo viên, Kiêm tổ trưởng', 'Giáo viến, Trường Mầm non số 2 TT Mường Khương', 'Giảng viên', 'Hiệu Trưởng', 'Hiệu phó', 'Hiệu trưởng', 'Huấn luyện viên', 'Hành chính nhân sự', 'Hướng dẫn viên', 'Họa viên', 'Hỗ trợ kinh doanh', 'HỘ LÝ', 'Hộ lý bậc 1/12', 'Hộ lý khoa Yhọc cổ truyền', 'Hợp đồng giáo viên tiểu học', 'Hợp đồng giáo viên trung học trường THCS Cao Mại', 'Hợp đồng lao động ngạch cán sự Hội chữ thập đỏ', 'Hợp đồng tạp vụ', 'Junior Bartender', 'KCS', 'KTV Quản lý triển khai, ứng cứu & XLSC ngoại vi', 'KTV Sơn', 'Khai thác hầm lò', 'Khai thác than trong hầm lò', 'Kho', 'Khoan, bào, tiện gang', 'Kinh doanh', 'Kinh doanh thị trường', 'Kiểm Hàng', 'Kiểm hàng', 'Kiểm lâm viên, đội kiểm lâm cơ động', 'Kiểm ngân', 'Kiểm soát viên', 'Kiểm sát viên', 'Kiểm tra chất lượng', 'Kê toán viên', 'Kĩ thuật bảo trì', 'Kĩ thuật viên', 'Kế Toán', 'Kế toán', 'Kế toán Cửa hàng xăng dầu', 'Kế toán kho', 'Kế toán trung cấp', 'Kế toán trưởng', 'Kế toán viên', 'Kế toán viên trung cấp', 'Kế toán- Thủ quỹ', 'Kỹ Thuật', 'Kỹ sư', 'Kỹ sư - phòng kỹ thuật', 'Kỹ sư Tự động hóa xí nghiệp', 'Kỹ sư công trình ngầm', 'Kỹ sư máy bay', 'Kỹ sư nuôi trồng thuỷ sản', 'Kỹ sư thương mại', 'Kỹ sư tập sự', 'Kỹ thuật', 'Kỹ thuật viên', 'Kỹ thuật viên Dây máy', 'Kỹ thuật viên Massage', 'Kỹ thuật viên PIE', 'Kỹ thuật viên Tần số sóng', 'Kỹ thuật viên X-Quang', 'Kỹ thuật viên Xét nghiệm', 'Kỹ thuật viên bậc 1/12 phòng khảo sát', 'Kỹ thuật viên bậc 2/12', 'Kỹ thuật viên chính', 'Kỹ thuật viên cấp cao', 'Kỹ thuật viên xét nghiệm', 'Kỹ thuật xay xát', 'LÁI XE', 'Lao Động Phụ', 'Lao động Phổ Thông', 'Lao động giản đơn', 'Lao động hợp đồng tạm tuyển BHXH thành phố Thái Nguyên', 'Lao động phổ thông', 'Lao động phụ', 'Lái Xe', 'Lái xe', 'Lái xe Taxi', 'Lái xe trọng tải 01 tấn', 'Lái xe vận chuyển than, đất đá trọng tải từ 7,5 đến dưới 16,5 tấn trong khu vực khai thác mỏ', 'Lái xe vận tải có trọng tải từ 40 tấn trở lên', 'Lên Xuống khuôn', 'LĐHĐ, kế toán viên trung cấp', 'LĐPT', 'LĐPT - Đứng máy', 'Lập trình viên', 'Lễ Tân', 'MAY CÔNG NGHIệP', 'May Công Nghiệp', 'May công nghiệp', 'Mài nhẵn mặt da, lạng da', 'Máy ép Đế', 'N.V', 'N.V Phụ bếp', 'NC - nhân viên tư vấn dinh dưỡng', 'NCF - Nhân viên BH', 'NCF Activation - NV chương trình', 'NHÂN VIÊN', 'NHÂN VIÊN , NHÂN VIÊN THốNG KÊ, QUY NHƠN', 'NHÂN VIÊN BÁN HÀNG', 'NHÂN VIÊN BáN HàNG', 'NHÂN VIÊN KCS.NGOẠI QUAN', 'NHÂN VIÊN KINH DOANH', 'NHÂN VIÊN KỸ THUẬT', 'NHÂN VIÊN NGÀNH HÀNG RAU CỦ QUẢ', 'NHÂN VIÊN PHỤC VỤ', 'NHÂN VIÊN VĂN PHòNG', 'NHÂN VIÊN, BÌNH DƯƠNG', 'NHÂN VIÊN, CÔNG TRìNH', 'NHÂN VIÊN, Nữ', 'NHÂN VIẾN BÁN HÀNG', 'NV', 'NV - BV', 'NV An Ninh', 'NV Bán hàng', 'NV Bảo vệ', 'NV CXHH,HL', 'NV GTSP', 'NV Giao nhận - 290 Phạm Văn Đồng - Phường Cam Lợi - TP Cam Ranh - Khánh Hòa', 'NV Giao nhận xe máy', 'NV Giao nhận-219A - Phạm Văn Thuận- Phường Tân Tiến- Tp Biên Hòa - Đồng Nai', 'NV Giám sát thị trường', 'NV Hỗ trợ KH qua tổng đài', 'NV KS Dữ liệu thẻ Cấp 1', 'NV Kế toán Xí nghiệp KTKS & VLXD', 'NV Kỹ Thuật', 'NV Kỹ thuật', 'NV LáI XE', 'NV Lái xe', 'NV LẮP ĐẶT', 'NV PV trên các đoàn tàu hỏa chở khách', 'NV Phòng Y tế', 'NV Phụ kho', 'NV Phục vụ', 'NV Sự kiện', 'NV TàI Xế', 'NV Tài xế', 'NV Văn phòng', 'NV Vật tư', 'NV Vệ sinh MT', 'NV an ninh', 'NV bán hàng', 'NV bán xăng, Xuân Phú, Xuân Lộc, Đồng Nai', 'NV bảo vệ', 'NV chia bài', 'NV giới thiệu và tư vấn sản phẩm Microsoft', 'NV hành chính', 'NV kinh doanh, CNBC Viettel Tân Phú', 'NV nhà hàng', 'NV pha chế', 'NV quáng bá thương hiệu', 'NV thủ kho', 'NV tài chính kế toán', 'NV vệ sinh trên máy bay', 'NV Đóng Gói', 'NV Đại diện bán hàng', 'NV. KINH DOANH', 'NV.Kỹ thuật', 'NVBH', 'NVBV', 'NVCSSP LG/Cà Mau/Vùng I', 'NVDVBH - TH', 'NVKT', 'NVPV trên các đoàn tàu hỏa chở khách', 'NVSX', 'NVTV', 'NVVP', 'Nhan vien thuong mai ICE (VIEN NG.THUONG CH ITALIA)', 'Nhaõn vieõn boọ phaọn Vinatech', 'Nhân Viên', 'Nhân Viên Buồng, Phòng', 'Nhân Viên Bv&Pccc', 'Nhân Viên Bán Hàng', 'Nhân Viên Bán Hàng - Hà Nội - Quận Long Biên - Kv1', 'Nhân Viên Bán Hàng - Đồng Nai - Kv1', 'Nhân Viên Bán Hàng Qua Điện Thoại - X-sell', 'Nhân Viên Bán Hàng Trực Tiếp', 'Nhân Viên Bán Vé', 'Nhân Viên Dịch Vụ Khách Hàng Outbound', 'Nhân Viên Hỗ Trợ Kinh Doanh', 'Nhân Viên KCS1', 'Nhân Viên Kho', 'Nhân Viên Kinh Doanh', 'Nhân Viên Kiểm Soát Chất Lượng', 'Nhân Viên Kỹ Thuật', 'Nhân Viên Kỹ Thuật', 'Nhân Viên Lái Xe', 'Nhân Viên Nhà Hàng', 'Nhân Viên P. QLCL', 'Nhân Viên Pha Cắt', 'Nhân Viên Phát Triển Khách Hàng', 'Nhân Viên Quầy Đồ Chơi', 'Nhân Viên Se Sợi', 'Nhân Viên Sản Xuất', 'Nhân Viên Thao Tác', 'Nhân Viên Thu Hồi Nợ', 'Nhân Viên Thu Hồi Nợ Tại Nhà Thẻ Tín Dụng', 'Nhân Viên Thời Vụ - Kỹ Thuật', 'Nhân Viên Trại Gà', 'Nhân Viên Tư Vấn Tín Dụng - CD', 'Nhân Viên Tư Vấn Tín Dụng - TW', 'Nhân Viên Tổng Đài Thu Hồi Nợ - Bậc 1', 'Nhân Viên Văn Phòng', 'Nhân Viên Văn Thư', 'Nhân Viên hành chính văn thư, Hành chính - Nhân sự', 'Nhân Viên kinh doanh', 'Nhân vie6nkho tại TP. HCM', 'Nhân viên', 'Nhân viên  lái xe taxi', 'Nhân viên  tổ hồ ngâm', 'Nhân viên - V01 - TP. Hồ Chí Minh', 'Nhân viên - V01 - TP.Hồ Chí Minh', 'Nhân viên - V01 - Thành phố Hồ Chí Minh', 'Nhân viên - V02 - Tỉnh An Giang', 'Nhân viên - V02 - Tỉnh Hưng Yên', 'Nhân viên - V02 - Tỉnh Long An', 'Nhân viên - V02 - Tỉnh Lâm Đồng', 'Nhân viên - V02 - Tỉnh Tiền Giang', 'Nhân viên - V02 - Đông Nam Bộ', 'Nhân viên - V03 - Tỉnh Lâm Đồng', 'Nhân viên An ninh - An toàn lao động', 'Nhân viên BH', 'Nhân viên Bar', 'Nhân viên Buồng phòng', 'Nhân viên Bán Hàng', 'Nhân viên Bán hàng', 'Nhân viên Bán hàng qua điện thoại', 'Nhân viên Bảo vệ', 'Nhân viên Bảo vệ - CN Sóc Trăng', 'Nhân viên Bếp', 'Nhân viên Bốc xếp', 'Nhân viên Bộ phận quản lý chất lượng', 'Nhân viên CAD', 'Nhân viên CSKH', 'Nhân viên CSKH VinID', 'Nhân viên Caddy', 'Nhân viên Dịch vụ Golf', 'Nhân viên Dịch vụ sau bán hàng - V01 - Q.Gò Vấp - Hồ Chí Minh', 'Nhân viên Gia công, KCN Hố Nai, huyện Trảng Bom, tỉnh Đồng Nai.', 'Nhân viên Giao dịch viên', 'Nhân viên Giao hàng', 'Nhân viên Giao nhận', 'Nhân viên Giao nhận xe máy', 'Nhân viên Giới thiệu sản phẩm - Khu vực Bình Phước', 'Nhân viên Housekeeping', 'Nhân viên Housekeeping-Làm việc tại Cần Thơ (vùng 2)', 'Nhân viên HĐ', 'Nhân viên Hỗ trợ Khách hàng', 'Nhân viên Hỗ trợ P. Thu Phí', 'Nhân viên IT', 'Nhân viên KCS', 'Nhân viên KCS, bậc 2/6', 'Nhân viên KD', 'Nhân viên KT', 'Nhân viên Kho', 'Nhân viên Khách hàng Cá nhân', 'Nhân viên Kinh doanh', 'Nhân viên Kinh tế - Bưu điện huyện Cô Tô', 'Nhân viên Kế Toán, Phòng Kế Toán Tài Chính', 'Nhân viên Kế toán', 'Nhân viên Kỹ thuật', 'Nhân viên Lái xe', 'Nhân viên Lái xe 4 chỗ', 'Nhân viên Lắp Ráp', 'Nhân viên Lễ tân', 'Nhân viên Marketing', 'Nhân viên Môi giới KHCN 04-HS', 'Nhân viên NHNo&PTNT huyện Iapa', 'Nhân viên Ngành hàng - Bánh tươi', 'Nhân viên Ngành hàng - Thực phẩm khô', 'Nhân viên Nhà hàng', 'Nhân viên Nhà mẫu', 'Nhân viên OPS', 'Nhân viên P.QLCL&ATLĐ', 'Nhân viên Phát triển thị trường', 'Nhân viên Phân hàng', 'Nhân viên Phòng Sơn - Nhựa', 'Nhân viên Phụ bếp', 'Nhân viên Phục vụ', 'Nhân viên Phục vụ, KBF22-LOTTEVT', 'Nhân viên QC', 'Nhân viên QHKH Doanh nghiệp 1', 'Nhân viên Quay phim', 'Nhân viên Quản lý chất lượng', 'Nhân viên Quản trị mạng', 'Nhân viên S1', 'Nhân viên SEO', 'Nhân viên Shop', 'Nhân viên Siêu thị', 'Nhân viên Sản xuất', 'Nhân viên Techno', 'Nhân viên Thao Tác', 'Nhân viên Thị trường', 'Nhân viên Tiếp thị qua điện thoại', 'Nhân viên Tiếp đón Khách Hàng', 'Nhân viên Trung tâm Chăm sóc Khách hàng', 'Nhân viên Tuyển sinh', 'Nhân viên Tín dụng Agribank CN huyện Quỳ Hợp, Tây Nghệ An', 'Nhân viên Tư Vấn', 'Nhân viên Tư Vấn - V02 - T. Cà Mau', 'Nhân viên Tư Vấn - V04 - Tỉnh Bình Định', 'Nhân viên Tư vấn', 'Nhân viên Tư vấn Tài chính', 'Nhân viên Tư vấn bán hàng - Phú Quốc', 'Nhân viên Tạp vụ', 'Nhân viên Văn thư', 'Nhân viên Vận hành kho', 'Nhân viên Vật tư đội', 'Nhân viên Vệ sinh Công cộng', 'Nhân viên Xưởng Chiết - Đóng gói', 'Nhân viên Xưởng Nhuộm', 'Nhân viên Xưởng khuôn', 'Nhân viên Y tế', 'Nhân viên an ninh', 'Nhân viên an ninh kiểm soát', 'Nhân viên b?o v?', 'Nhân viên bán hàng', 'Nhân viên buồng phòng', 'Nhân viên bàn', 'Nhân viên bán hàng', 'Nhân viên bán hàng - Kênh TT - L.1', 'Nhân viên bán hàng GT', 'Nhân viên bán hàng làm việc tại VINH LONG/ngạch C.22, bậc 1/vùng 2', 'Nhân viên bán hàng qua điện thoại', 'Nhân viên bán hàng trực tiếp', 'Nhân viên bán hàng xăng dầu', 'Nhân viên bán hàng- Daikin-72124', 'Nhân viên bán hàng-Hải Phòng-Quận Hồng Bàng-Kv1', 'Nhân viên bán hàng. Trạm xăng dầu Đồng Tháp 01', 'Nhân viên bán lẻ xăng dầu', 'Nhân viên bán vé', 'Nhân viên bảo trì', 'Nhân viên bảo vệ', 'Nhân viên bảo vệ, an ninh', 'Nhân viên bếp', 'Nhân viên bếp căn tin', 'Nhân viên bốc xếp', 'Nhân viên bồi thường trực tuyến', 'Nhân viên caddy', 'Nhân viên chăm sóc khách hàng', 'Nhân viên chất xếp', 'Nhân viên cung ứng', 'Nhân viên công nghệ sinh học', 'Nhân viên công vụ- KCN Long Khánh,xã Bình Lộc,T.x Long Khánh,Đồng Nai', 'Nhân viên cấp cao', 'Nhân viên cấp dưỡng', 'Nhân viên dự toán', 'Nhân viên dự án', 'Nhân viên gia công khuôn', 'Nhân viên giao hàng', 'Nhân viên giao hàng bằng xe gắn máy', 'Nhân viên giao nhận', 'Nhân viên hành chính', 'Nhân viên hành lý', 'Nhân viên học việc TB sợi con', 'Nhân viên hồ bơi', 'Nhân viên hỗ trợ giám định', 'Nhân viên hợp đồng', 'Nhân viên hợp đồng - phó Bí thư Đoàn phường', 'Nhân viên kho', 'Nhân viên kho Mỹ Đình', 'Nhân viên kho phành phẩm', 'Nhân viên kho thành phẩm', 'Nhân viên khoa dược', 'Nhân viên khách sạn', 'Nhân viên kinh doanh', 'Nhân viên kinh doanh dự án SamSung', 'Nhân viên kinh doanh sàn Biên Hòa', 'Nhân viên kinh doanh, Kohler &amp; Gạch', 'Nhân viên kiểm soát chất lương', 'Nhân viên kiểm tra chất lượng (PQC)', 'Nhân viên kiểm tra chất lượng vải - Lô C, KCN Long Khánh, Bình Lộc, Long Khánh, Đồng Nai', 'Nhân viên kĩ thuật', 'Nhân viên kế hoạch vật tư', 'Nhân viên kế toán', 'Nhân viên kế toán tài chính', 'Nhân viên kỹ Thuật', 'Nhân viên kỹ thuật', 'Nhân viên kỹ thuật công trường', 'Nhân viên kỹ thuật sản xuất', 'Nhân viên lái xe', 'Nhân viên làm buồng (Khu căn hộ)', 'Nhân viên làm việc tại Ninh Thuận - Vùng 3', 'Nhân viên lái cẩu', 'Nhân viên lái xe', 'Nhân viên lái xe 04 chỗ', 'Nhân viên lái xe 9 chỗ', 'Nhân viên lái xe nâng', 'Nhân viên lái xe nâng hàng', 'Nhân viên lái xe taxi', 'Nhân viên lưu bản', 'Nhân viên lắp ráp', 'Nhân viên lễ tân', 'Nhân viên nghiệp vụ', 'Nhân viên nguồn vốn', 'Nhân viên nhà hàng', 'Nhân viên nhân sự', 'Nhân viên nhập số liệu bộ phận ép nhựa', 'Nhân viên nấu bếp', 'Nhân viên nấu ăn', 'Nhân viên pha chế', 'Nhân viên phòng An toàn - Môi trường - Sức khỏe', 'Nhân viên phòng Chuẩn bị sản xuất', 'Nhân viên phòng Chế tạo khung', 'Nhân viên phòng X quang', 'Nhân viên phòng hành chính', 'Nhân viên phòng kế hoạch điều độ', 'Nhân viên phòng sản xuất', 'Nhân viên phụ Bếp', 'Nhân viên phụ kho', 'Nhân viên phụ kho đường', 'Nhân viên phục phụ', 'Nhân viên phục vụ', 'Nhân viên phục vụ (Quầy bar)', 'Nhân viên phục vụ bàn', 'Nhân viên phục vụ bán hàng bia, phòng Kinh doanh Bia', 'Nhân viên phục vụ nhà hàng', 'Nhân viên phục vụ nhà hàng thời vụ', 'Nhân viên phục vụ trên xe bus', 'Nhân viên phục vụ xe buýt', 'Nhân viên quản lÝ chất lượng', 'Nhân viên quầy', 'Nhân viên quầy Bánh mỳ', 'Nhân viên quầy Rau quả', 'Nhân viên quầy bánh mỳ', 'Nhân viên repair', 'Nhân viên se sợi', 'Nhân viên sinh quản', 'Nhân viên siêu thị', 'Nhân viên sản xuất', 'Nhân viên sản xuất Module', 'Nhân viên sản xuất đèn led', 'Nhân viên sửa chữa điện', 'Nhân viên thao tác', 'Nhân viên thi công cơ điện (LĐHĐ)', 'Nhân viên thiết bị', 'Nhân viên thiết kế', 'Nhân viên thu ngân', 'Nhân viên thương mại', 'Nhân viên thị trường', 'Nhân viên thợ Điện', 'Nhân viên thủ quỹ', 'Nhân viên tiếp thị', 'Nhân viên tiếp thị C4-Quang Ngai', 'Nhân viên trung tâm điều phối', 'Nhân viên trưởng kho', 'Nhân viên trạm cân', 'Nhân viên trị liệu', 'Nhân viên trực hồ bơi', 'Nhân viên tuyển dụng', 'Nhân viên tài xế', 'Nhân viên tư vấn', 'Nhân viên tư vấn bán hàng', 'Nhân viên tư vấn bậc 3', 'Nhân viên tư vấn công trình', 'Nhân viên tư vấn khách hàng', 'Nhân viên tư vấn kinh doanh', 'Nhân viên tư vấn tài chính', 'Nhân viên tư vấn và giới thiệu sản phẩm (Vùng: II - Ngạch: C.20 - Bậc : I)', 'Nhân viên tư vấn xử lý nợ tại nhà', 'Nhân viên tạp vụ', 'Nhân viên tổ phân cở', 'Nhân viên tổ vật lý trị liệu', 'Nhân viên vi tính', 'Nhân viên văn phòng', 'Nhân viên văn thư', 'Nhân viên vận hành', 'Nhân viên vận hành game', 'Nhân viên vận hành máy', 'Nhân viên vận hành máy Cắt', 'Nhân viên vệ sinh', 'Nhân viên vệ sinh chung', 'Nhân viên vệ sinh khu vực công cộng', 'Nhân viên xưởng', 'Nhân viên xưởng gia công động cơ', 'Nhân viên y tế', 'Nhân viên Đóng gói', 'Nhân viên Đọc số', 'Nhân viên điều hành', 'Nhân viên điều hành xe', 'Nhân viên điểm giới thiệu dịch vụ (Xe máy) - Nơi làm việc: Hải Phòng', 'Nhân viên điểm giới thiệu dịch vụ (Điện máy)', 'Nhân viên điểm giới thiệu dịch vụ (Điện máy) - Nơi làm việc: Hà Nội', 'Nhân viên điện nước', 'Nhân viên đánh máy', 'Nhân viên đội công viên cây xanh', 'Nhân viên đứng máy ghép', 'Nhân viên, Bình Dương', 'Nhân viên, Trung tâm Dịch vụ tài nguyên và môi trường biển', 'Nhân viên, kinh tế viên', 'Nhân viên- Trung tâm viễn thông 1', 'Nhân viên-Cấp bậc 1', 'Nhân viên-Hà Nội', 'Nhân viên-TP.HCM', 'Nhân viên; Công ty TNHH Cybertech Việt Nam', 'Nhân viên_Nghỉ CN', 'Nhân viện trực đài', 'Nhõn viờn an ninh', 'Nhõn viờn kỹ thuật', 'Nv kinh doanh', 'Nv thu ngân', 'Nữ Hộ Sinh, Trạm Y Tế Xã A Mú Sung', 'Officer, Partnership Distribution', 'Operator', 'P. Đội phó', 'P.Chủ tịch', 'P.HCNS', 'PAA10529-Điện lực Nam Định-CN Sửa chữa điện', 'PHụ BếP, Bếp ăn', 'PK B2C', 'Phiên dịch', 'Phiên dịch xưởng', 'Phó Bí Thư', 'Phó Bí thư Đoàn Thanh niên', 'Phó Chủ tịch', 'Phó bí thư đoàn', 'Phó giám đốc', 'Phó hiệu trưởng', 'Phó trưởng công an', 'Phóng viên', 'Phóng viên+ PT kế toán', 'Phường Tân Thịnh - TP Hoà Bình - tỉnh Hoà bình', 'Phết Keo Đế Hoặc Mũ Giày', 'Phết Keo Đế Và Mũ Giầy', 'Phết keo đế hoặc mũ giày', 'Phết keo đế, mũ giày', 'Phụ việc', 'Phụ xe', 'Phục vụ', 'QC-MĐ', 'QLSX', 'Quay ghi-ghép nối đầu máy toa xe ga Vạn Phú', 'Quản Lý Khu Vực', 'Quản lÝ', 'Quản lý chuyền sản xuất lắp ráp', 'Quản lý khách hàng', 'Quản lý sản xuất', 'Quản lý vận động viên thể thao chuyên nghiệp', 'Quản sinh', 'Sàng, sấy hóa chất, phối liệu cao su - RNP-HC-18183118-TAEKWANG MTC', 'Săm XM', 'SƠN, IN DA Và PHA CHế HOá CHấT Để SƠN, IN DA', 'T.Tra xây dựng', 'T? tr??ng t? u?n hỡnh', 'TK.May', 'TN hợp đồng', 'TRưởng ban kinh tế kỷ thuật', 'TT may', 'TV', 'Thieu chuc danh tu du lieu 3s', 'Thu ngân', 'Thu ngân - Bán hàng', 'Thành Hình Các Sản Phẩm Cao Su', 'Thành hình các sản phẩm cao su', 'Thí nghiệm, phân tích hóa chất, thuốc nhuộm', 'Thông dịch', 'Thú y chăn nuôi', 'Thư Ký, Văn Phòng', 'Thư ký kinh doanh', 'Thợ Máy phụ - Châu Đốc vùng 2', 'Thợ bế hình', 'Thợ cơ khí', 'Thợ hàn - GC', 'Thợ in', 'Thợ may', 'Thợ may công nghiệp', 'Thợ máy', 'Thợ nguội', 'Thợ phụ', 'Thợ phụ kiểm hàng', 'Thợ phụ máy thổi', 'Thợ phụ máy uốn', 'Thợ phụ tổ cắt', 'Thợ sơn', 'Thợ điện', 'Thợ điện B2', 'Thủ kho', 'Thủ quỹ', 'Thủ quỹ-02', 'Thủy thủ', 'Thủy thủ tàu vận tải biển', 'Tiếp Thị', 'Tiếp thị bán hàng', 'Tiếp thị, Chăm sóc khách hàng, kinh doanh sản phẩm dịch vụ VT-CNTT theo địa bàn (Nhân viên kinh doanh địa bàn)- TTKD Điện Biên - Làm việc tại Điện Biên - Vùng III', 'Tiếp viên', 'Tiếp viên Cần Thơ - Vùng 2', 'Tiếp Đón Khách Hàng', 'Trình Dược Viên', 'Trưởng Phòng', 'Trưởng ca', 'Trưởng công an xã', 'Trưởng nhóm hành chính', 'Trưởng phòng', 'Trưởng phòng kỹ thuật', 'Trưởng phòng phát hành', 'Trợ giáo lái xe nhóm 2 bậc 1/4', 'Trợ lÝ nghiên cứu', 'Trợ lý Kiểm toán viên', 'Trợ lý Luật sư', 'Trợ lý Quản lý (2)', 'Trợ lý kinh doanh', 'Trợ lý kiểm toán', 'Trợ lý nghiền', 'Trợ lý trưởng phòng quản lý công nghệ', 'Trực ban chạy tàu', 'Trực ban chạy tàu ga Cầu Giát', 'TÀI XẾ', 'Tài Xế', 'Tài chính - Kế toán', 'Tài xế', 'Tài xế Chi nhánh Thanh Hóa lái xe tải dưới 3,5 tấn', 'Tài xế xe tải', 'Tư Vấn Viên', 'Tư Vấn Viên - CN An Giang', 'Tư vấn Thẻ hội viên', 'Tư vấn bán hàng', 'Tư vấn bán hàng xe Kia', 'Tư vấn thẻ hội viên cấp 1', 'Tạp vụ', 'Tạp vụ Bếp', 'Tạp vụ bếp', 'Tạp vụ, Công ty TNHH Phòng Khám Gia Đình Tp.HCM', 'Tập sự giáo viên THCS', 'Tổ Trưởng Bảo Vệ -Tạp Vụ', 'Tổ Trưởng Cấp Cao', 'Tổ phó', 'Tổ trưởng', 'Tổ trưởng Bếp', 'Tổ trưởng bộ phận QTS', 'Tổ viên tổ cơ giới  - nhà máy gạch', 'Tổng đài', 'VH máy sợi', 'VM+ Nhân viên Bán hàng', 'VM+ Nhân viên bán hàng', 'Viên chức hành chính', 'Văn Thư Trường Tiểu Học Bế Văn Đàn', 'Văn phòng', 'Văn thư', 'VẬN HÀNH DÂY CHUYỀN SỢI', 'Vận hành máy cuốn điếu, đóng bao thuốc lá', 'Vận hành máy gò giày', 'Vận hành máy hoàn tất', 'Vệ Sinh Máy Chải ,Dây Truyền Sợi ,Dệt ,Nhuộm', 'XT2', 'Xi mạ', 'Xã đội trưởng', 'Y Sĩ', 'Y Sỹ, Bậc 1/12 mã số 16.119', 'Y sĩ hạng IV', 'Y sĩ đa khoa', 'Y sỉ trạm y tế xã Mỹ Thuận', 'Y sỹ', 'Y sỹ YHCT - Khoa YHCT&amp;PHCN, Bệnh viện đa khoa tỉnh Lai Châu', 'Y sỹ hợp đồng', 'Y sỹ y học cổ truyền', 'Y sỹ đa khoa - Khoa Khám bệnh', 'Y sỹ, Trạm y tế Hưng Thành', 'Y tá', 'Y tá hành chính khoa hồi sức cấp cứu', 'YYA40899-Trường PTTH Mỹ tho-GV Địa lý', 'bán hàng', 'bảo vệ', 'chuyên viên', 'chuyên viên - phòng kế toán tài chính', 'cn', 'cn dệt', 'cn là chi tiết', 'cn lắp ráp motor', 'cn may', 'cn may công nghiệp', 'cn phụ', 'cn thu tiền', 'cn thêu', 'cn vận hành máy may-c1', 'cnhân cắt vải', 'cnv', 'cán bộ nghiên cứu-tổng hợp văn phòng', 'cán bộ tín dụng', 'cán sự', 'cán sự bậc 2/12', 'cán sự quản lý trẻ', 'công an viên', 'công nhân', 'công nhân  cắt phá cắt gọt trong chuyền may công nghiệp.', 'công nhân -may tay', 'công nhân Hàn', 'công nhân Nhóm Mài 3', 'công nhân Phụ Việc', 'công nhân bảo trì sau', 'công nhân chà ghế', 'công nhân cắt', 'công nhân cắt da', 'công nhân cắt vải', 'công nhân gò', 'công nhân hoàn chỉnh', 'công nhân hình ảnh', 'công nhân khai thác', 'công nhân kho', 'công nhân kiểm hàng', 'công nhân kiểm phẩm', 'công nhân luyện thép lò điện', 'công nhân làm giày', 'công nhân làm giầy', 'công nhân lắp ráp', 'công nhân lắp đặt TM', 'công nhân lộn banh', 'công nhân may', 'công nhân may cn', 'công nhân may công nghiệp', 'công nhân may quần 5', 'công nhân may trực tiếp công nghiệp', 'công nhân pha cắt', 'công nhân phòng chế tạo', 'công nhân phòng sản xuất bao bì mỹ phẩm', 'công nhân phụ sơn da', 'công nhân sơn', 'công nhân sản xuất', 'công nhân sản xuất lắc', 'công nhân sản xuất, tổ hợp', 'công nhân trải vải, đánh số', 'công nhân tổ sơ chế', 'công nhân viên', 'công nhân viên xưởng may', 'công nhân vận hành máy may', 'công nhân vận hành máy may công nghiệp', 'công nhân vận hành máy ép phun', 'công nhân ép nhiệt', 'công nhân điện nước', 'công nhân đóng gói', 'công nhân đóng gói men', 'công nhân đúc đế', 'công nhân đế', 'công nhân, Luyện Phôi', 'công nhânWAM 2', 'cắt biên (làm theo chế độ 3 ca)', 'cử nhân quản trị, phòng Hành chính quản trị', 'giám đốc', 'giáo viên', 'giáo viên Việt Nam', 'giáo viên trung học', 'giáo viên trình độ CĐSP', 'giáo viên trường THCS Nghĩa An', 'giáo viên trường mầm non triệu phúc lịch', 'kcs', 'khai thác viên', 'kiến trúc sư', 'kiểm thu viên thuế', 'kĩ thuật viên tin học', 'kế toán', 'kế toán công trình', 'kế toán trưởng', 'kỹ thuật viên', 'kỹ thuật viên ,ms 13.096,bậc2', 'kỹ thuật viên xây dưng', 'lao động phổ thông', 'lái xe', 'may', 'máy dán tđ', 'nhân viên', 'nhân viên  lái xe taxi', 'nhân viên QC', 'nhân viên buồng phòng', 'nhân viên bán hàng', 'nhân viên bảo vệ', 'nhân viên bếp', 'nhân viên chăm sóc khách hàng', 'nhân viên cứu hộ', 'nhân viên dịch vụ khách hàng', 'nhân viên giao hàng', 'nhân viên giao nhận XNK', 'nhân viên kho thành phẩm', 'nhân viên kinh doanh', 'nhân viên kiểm bao oe', 'nhân viên kiểm phẩm', 'nhân viên kế hoạch sản xuất, điều kiện làm việc: bình thường', 'nhân viên kỹ thuật', 'nhân viên lao động tiền lương', 'nhân viên lái xe khách dưới 20 ghế', 'nhân viên lễ tân', 'nhân viên nghiệp vụ', 'nhân viên phục vụ', 'nhân viên thao tác', 'nhân viên thu cước', 'nhân viên thu mua', 'nhân viên thủ kho', 'nhân viên tiếp thi', 'nhân viên tiếp thị', 'nhân viên tt 1648', 'nhân viên tuần kiểm nhiên liệu', 'nhân viên xuất nhập khẩu', 'nv', 'nv kỹ thuật', 'nv thiết kế', 'nvkinh doanh', 'phết keo đế và mũi giày', 'phối hàng', 'phụ việc', 'phụ xe', 'sxct', 'thú y', 'thư ký', 'thợ hồ', 'thợ may', 'trưởng bộ phận', 'trải vải', 'tài xế', 'tái xế', 'tạp vụ', 'tổ trưởng', 'undefined', 'văn thư', 'vận hành máy giặt', 'vận hành máy may', 'vệ sỹ', 'xã đội trưởng', 'y sỹ y học cổ truyền', 'y tá', 'Ó 1-2', 'éDTC', 'ép săm XĐ', 'ép đế', 'ĐTV', 'Điều Dưỡng', 'Điều Dưỡng Trung cấp', 'Điều dưỡng', 'Điều dưỡng ( LĐHĐ)', 'Điều dưỡng TH khoa da liễu', 'Điều dưỡng cao đẳng khoa Nội tiết', 'Điều dưỡng trung cấp', 'Điều dưỡng viên', 'Điều dưỡng viên trung học', 'Điều dưỡng đa khoa', 'Điều hành', 'Điều hành ĐTT', 'Điều phối viên', 'Đào tạo', 'Đóng gói', 'Đại diện Kỹ thuật thương mại', 'Đại diện Tiêu Thụ II', 'Đại diện kinh doanh', 'Địa chính xây dựng', 'Đối tượng tham gia BHXH TN', 'Đồ HọA', 'Đội bảo dưỡng máy sợi con', 'Đội phó', 'Đội phó đội bảo vệ, Bộ phận Bảo vệ', 'Đội phó đội xây dựng  và lắp máy']\n",
      "1578\n"
     ]
    },
    {
     "name": "stdout",
     "output_type": "stream",
     "text": [
      "957\n",
      "[', Hiệu trưởng', '/  /', '1', '14', '25586 - CN Châu Đức', '28636-VBL, Nhân viên SP', '50156- NV Sales DSMs - Lâm Đồng', '51759/NVBH/Unza/Đồng Xoài/Vùng 2', '57644- NV Sales DSMs - Quảng Nam - Vùng 02', '74006/Nhân viên SR/MRC/Hồ Chí Minh/Vùng 1', '78969-Nhân viên tư vấn bán hàng-HCM', '79942/ Nhân viên bán hàng Canon', '85688/Nhân viên tư vấn bán hàng VBL/Vùng 3/_Quang Ngai 2_C8', 'A', 'ATLĐ', 'BS khoa Nội', 'Biên tập viên', 'Bán hàng-Vùng 3', 'Bán vé', 'BảO TRì', 'Bảo Vệ - Cao Lãnh vùng 3', 'Bảo vệ cơ động, Nông trường cao su Iahlốp', 'Bếp Trưởng', 'Bếp trưởng', 'C.Nhân Sx', 'CB Kỹ thuật TK SWAP-Pleiku, Gia Lai', 'CB Văn phòng Tỉnh Đoàn', 'CN - CLT0Y', 'CN Kho', 'CN Kiểm hóa, ủi, đóng gói,gấp,cắt chỉ, so sữa BTP', 'CN Mở nắp-Lấy đế - Xưởng Sơn', 'CN SOFA', 'CN SX dây dẫn điện', 'CN Vận hành cống bao', 'CN Xưởng đế', 'CN chăm sóc', 'CN chăm sóc gieo ươm cây giống Tổ vườn ươm thuộc Phòng SXKD', 'CN cắt gọt, phối hàng-chuyền 22', 'CN khai thác mủ cao su - Nông trường Thọ Sơn', 'CN kiểm tra chất lượng', 'CN kéo ướt', 'CN lau dầu, xếp rổ Xưởng Đế PU', 'CN nguội PX kết cấu xây lắp 2', 'CN phòng máy thêu vải', 'CN quét keo đế', 'CN quét rác đường phố', 'CN vận hành máy may công nghiệp', 'CN Đèng Đa - Hà Néi', 'CN ĐóNG GóI', 'CN-QCD0Y', 'CN-QCT0Y', 'CN. VậN HàNH MáY MAY', 'CNVHSC Đường Dây & Trạm CNĐ Sơn Động', 'CV 1 - Đặt hẹn', 'CV TT Điều hành SCADA', 'CV1 - Đặt hẹn', 'Ch viên tập sự', 'Chuyên viên ( 85% Bậc 1/9 )', 'Chuyên viên 1 - Đặt hẹn', 'Chuyên viên I - Quan hệ khách hàng', 'Chuyên viên Kinh doanh', 'Chuyên viên Kế hoạch KD', 'Chuyên viên Kế toán-Tổng hợp', 'Chuyên viên P. Thông tin', 'Chuyên viên Phụ trách khách hàng trọng điểm', 'Chuyên viên Quan hệ khách hàng cá nhân-01', 'Chuyên viên TS', 'Chuyên viên bậc 1/8', 'Chuyên viên bậc 1/9', 'Chuyên viên chính Xử lý nợ', 'Chuyên viên chăm sóc khách hàng', 'Chuyên viên khách hàng cá nhân', 'Chuyên viên khách hàng cá nhân PVcomBank Nguyễn Thị Thập Khối Khách hàng cá nhân', 'Chuyên viên kế toán - Bưu điện thành phố Tân An', 'Chuyên viên sản phẩm Thẻ tín dụng', 'Chuyên viên tư vấn tài chính', 'Chuyên viên tập sự bậc 1/9', 'Chuyên viên, Phòng Kinh doanh phía Bắc, Khối Ngân hàng Điện tử, Hội sở chính LPB', 'Chuyên viên, bảo hiểm xã hội huyện Bá Thước', 'Chuyền Trưởng Chuyền trưởng', 'Chỉ Huy Khu Vực', 'Chủ hộ', 'Chủ nhiệm bộ môn', 'Chủ tịch hội Phụ nữ', 'Cn Sản Xuất', 'Cnhân Lưư hoá lốp', 'Cong nhan', 'Copywriter Web', 'Coõng Vuù', 'Coõng nhaõn Eựp suaỏt thaứnh hỡnh caực saỷn phaồm cao su', 'Coõng nhaõn Veọ sinh coõng nghieọp nhaứ maựy thuoọc da', 'Coõng nhaõn boọ phaọn Nos D', 'Coõng nhaõn ngoài maựy caột', 'Cty Great Process - TH 3-1', 'Cty Great Process - a9', 'C«ng Nh©n Thµnh H×nh', 'CÔNG NHÂN (MàI Đá)', 'CÔNG NHÂN Cupinsole', 'CÔNG NHÂN CƠ KHÍ', 'CÔNG NHÂN CƠ KHí', 'CÔNG NHÂN CấP ĐÔNG', 'CÔNG NHÂN DáN', 'CÔNG NHÂN DáN Đế', 'CÔNG NHÂN VẬN HÀNH MÁY THI CÔNG XÂY DỰNG', 'CÔNG NHÂN ĐI 03 CA', 'CÔng Nhân hàn Tig', 'Cài đặt ứng dụng', 'Cán Bộ', 'Cán bộ - địa chính', 'Cán bộ Phòng Y tế huyện Sốp Cộp Sơn La', 'Cán bộ dinh dưỡng', 'Cán bộ lập trình', 'Cán bộ pháp chê', 'Cán bộ phòng Kế hoạch - Tài chính', 'Cán bộ phòng nghiệp vụ', 'Cán bộ Địa chính xây dựng', 'Cán sự văn phòng thống kê', 'Cán sự văn phòng thống kê - bậc 1-mã số 01.004', 'Công  nhân may CN', 'Công  nhân tổ phun sơn', 'Công Nhân  Ng. liệu Ván', 'Công Nhân  Ng.liệu Gỗ.Giường', 'Công Nhân AL2-S1', 'Công Nhân Bậc 3-Bộ Phận Đóng Gói', 'Công Nhân Chuyền Cắt', 'Công Nhân Dán Talon Mũi', 'Công Nhân Dập Đế', 'Công Nhân Fillet', 'Công Nhân Hình Thành', 'Công Nhân Hình Thành Mẫu - Chạy Chuyền', 'Công Nhân In', 'Công Nhân Kiểm Tra Chất Lượng - QC ROVING', 'Công Nhân Kiểm phẩm', 'Công Nhân Lãnh Liệu', 'Công Nhân Lắp Dựng', 'Công Nhân Lắp Ráp', 'Công Nhân Mài Đế', 'Công Nhân Pha Cắt, Nhà máy sản xuất giầy &amp; phụ liệu Tam Cường.', 'Công Nhân Phun Hoa Phun Sơn Đoạn Sau A', 'Công Nhân Phun sơn', 'Công Nhân Phát Liệu', 'Công Nhân Phết Keo Đế Hoặc Mũ Giày', 'Công Nhân Phụ Máy Đầm', 'Công Nhân Qip May Xưởng 1', 'Công Nhân SX', 'Công Nhân SX Biển Số Nhà, Biển Số Xe', 'Công Nhân Sản Xuất Bộ Tách Máu', 'Công Nhân Sửa Chữa Và Bảo Trì Máy Sợi', 'Công Nhân Thủ công', 'Công Nhân Trại Gà', 'Công Nhân Tổ Chuẩn Bị', 'Công Nhân Viên', 'Công Nhân Xếp Ván Chuyền', 'Công Nhân Xịt Sơn', 'Công Nhân in lụa', 'Công Nhân sx dầu dừa nguyên chất ca a', 'Công Nhân sản xuất Điện tử', 'Công Nhân vận hành máy đột dập', 'Công Nhân Ép Máy', 'Công Nhân ép Nhựa', 'Công Nhân ép Đế A', 'Công Nhân Đóng Thùng - Đóng Gói', 'Công Nhân Đứng Máy Cắt Laser', 'Công Nhân Đứng Máy Cắt Thường', 'Công nhân  - Phòng Sản xuất', 'Công nhân  lắp ráp', 'Công nhân ( MNV: H453 )', 'Công nhân - Sản xuất GLASSTIC', 'Công nhân BP sản xuất', 'Công nhân Bảo vệ', 'Công nhân Bốc Vác', 'Công nhân Bộ phận Điều phối', 'Công nhân Chặt Liệu', 'Công nhân Chặt thủ công', 'Công nhân Chế biến', 'Công nhân Dập', 'Công nhân EVI 2', 'Công nhân FS3K line', 'Công nhân Final', 'Công nhân Hoàn thiện', 'Công nhân Hàn', 'Công nhân Hàn điện, hàn hơi', 'Công nhân In da, gọt', 'Công nhân KV3', 'Công nhân Kho nguyên liệu', 'Công nhân Kiểm tra sản phẩm Giặt', 'Công nhân Kéo Sợi', 'Công nhân Kỹ Thuật', 'Công nhân Lái xe tải hạng 70 tấn', 'Công nhân Lãnh vật tư', 'Công nhân Lấy dấu', 'Công nhân Lắp ráp C', 'Công nhân May CN', 'Công nhân May Quai/Ngăn', 'Công nhân May, Đóng nút', 'Công nhân Motor', 'Công nhân Máy ép Đi 3 Ca', 'Công nhân Mạ', 'Công nhân OE', 'Công nhân P.THÀNH HÌNH 8', 'Công nhân PHòNG SảN XUấT', 'Công nhân Phòng Sản xuất 1', 'Công nhân Phòng chế tạo 1 Bộ phận chế tạo máy in', 'Công nhân Phết Keo Đế Và Mũ Giầy', 'Công nhân Quét Keo', 'Công nhân Quấn dây', 'Công nhân SX RB đế', 'Công nhân SX2 - SUB E2', 'Công nhân So, sửa bán thành phẩm máy may công nghiệp - Bộ phận May', 'Công nhân Soi thuốc dịch truyền', 'Công nhân Sản xuất Lắp ráp', 'Công nhân Sản xuất linh kiện cao su', 'Công nhân T2C1 gò giầy', 'Công nhân T? ?óng Gói', 'Công nhân Thành hình', 'Công nhân Tách gộp sản phẩm', 'Công nhân Tạo phôi', 'Công nhân Tẩm bột', 'Công nhân Tổ xay trộn', 'Công nhân Vận hành máy may công nghiệp - Bộ phận May', 'Công nhân Vệ sinh', 'Công nhân Xuất hàng', 'Công nhân Xây lắp đường dây và TBA', 'Công nhân Xếp khuôn', 'Công nhân bán lẻ xăng dầu Cửa hàng xăng dầu Dĩnh Kế - Công ty xăng dầu Hà Bắc', 'Công nhân bốc xêp và đóng gói hàng', 'Công nhân bộ phận Glazing 2 Robot', 'Công nhân bộ phận QC', 'Công nhân bộ phận làm khuôn', 'Công nhân bộ phận đồng hồ', 'Công nhân bộ phận đột dập', 'Công nhân cao su', 'Công nhân chuẩn bị PCB trước công đoạn sản xuất', 'Công nhân chạy chuyền', 'Công nhân chế biến hải sản đông lạnh', 'Công nhân chế biến thủy sản đông lạnh, bậc 2/6', 'Công nhân cân nguyên liệu con', 'Công nhân cắt chỉ', 'Công nhân cắt gọt(may công nghiệp)', 'Công nhân cắt may', 'Công nhân cắt quai', 'Công nhân cắt và tạo hình', 'Công nhân duy tu nạo vết cống', 'Công nhân duy tu Đội công trình 1', 'Công nhân dán đế', 'Công nhân dây máy', 'Công nhân dệt bạt', 'Công nhân gia công bạt', 'Công nhân gỗ', 'Công nhân hoàn thiện gấp gói', 'Công nhân hàn điện hàn hơi & khoan bào tiện gang', 'Công nhân hàng trắng ghế', 'Công nhân hàng trắng khung', 'Công nhân hình ảnh', 'Công nhân học may', 'Công nhân hố sợi công nghiệp', 'Công nhân hỗ trợ', 'Công nhân hỗ trợ May', 'Công nhân in lụa trên áo', 'Công nhân in sơn', 'Công nhân khai thác Trung tâm khai thác BC-PHBC', 'Công nhân khoan', 'Công nhân khui hàng', 'Công nhân khử trùng hàng hóa nông, lâm sản xuất nhập khẩu trên tàu biển, xà lan, trong Xilo - Vùng 1', 'Công nhân kiểm hàng F2', 'Công nhân kiểm hóa may công nghiệp', 'Công nhân kiểm tra cường hóa sản phẩm', 'Công nhân kết cườm', 'Công nhân kỹ thuật Hàn', 'Công nhân kỹ thuật cơ khí', 'Công nhân kỹ thuật in', 'Công nhân lao động', 'Công nhân làm đế giày', 'Công nhân lái máy', 'Công nhân lái vận thăng', 'Công nhân lái xe từ 40 ghế đến dưới 60 ghế', 'Công nhân lái xe ô tô chở rác từ 3,5 tấn - dưới 7,5 tấn', 'Công nhân lái xe ô tô trên 10 tấn', 'Công nhân lò nung', 'Công nhân lắp máy', 'Công nhân lắp ráp mỹ ký', 'Công nhân lắp ráp, vận chuyển linh \\r\\nkiện, kiểm tra và đóng gói sản phẩm', 'Công nhân may  CN', 'Công nhân may công nghiệp-Lô C, KCN Long Khánh, xã Bình Lộc, Thị xã Long Khánh, Đồng Nai', 'Công nhân may máy công nghiệp', 'Công nhân may mẫu', 'Công nhân mài nước', 'Công nhân mài sợi', 'Công nhân máy may công nghiệp', 'Công nhân nghiền,cán,khuấy,trộn,pha mầu, và hóa chất', 'Công nhân nhiên liệu đại đế', 'Công nhân nhận vải, xổ vải (Lao động phổ thông)', 'Công nhân nhập xuất hộp', 'Công nhân nhựa', 'Công nhân nuôi cá chình', 'Công nhân pha cắt 27', 'Công nhân pha phao nhỏ C', 'Công nhân phay, tiện, hàn cơ khí', 'Công nhân phát kim', 'Công nhân phân xưởng', 'Công nhân phòng Chế tạo 12 bộ phận Chế tạo máy in 1', 'Công nhân phết keo mũ giày', 'Công nhân phết keo đế và mũ giầy', 'Công nhân phết keo đế và mũi giày', 'Công nhân phụ chuyền may', 'Công nhân phụ gia, vê viên, sấy, đóng bốc bao NPK kiêm sản xuất Phèn', 'Công nhân phụ may trong ngành may CN', 'Công nhân phục vụ sx', 'Công nhân quét keo viền', 'Công nhân quản lý vận hành lưới điện trung, hạ thế - Điện lực Thuận Châu', 'Công nhân quấn sợi', 'Công nhân rót nến', 'Công nhân sản xuất bộ phận CR - Công đoạn tạo hình sản phẩm', 'Công nhân sản xuất thiết bị điện tử', 'Công nhân se sợi', 'Công nhân sx thùng giấy', 'Công nhân sơ chế thức ăn', 'Công nhân sơn men', 'Công nhân sản xuất bóng', 'Công nhân sản xuất camera điện thoại, 004930', 'Công nhân sản xuất chỉ', 'Công nhân sản xuất cáp quang', 'Công nhân sản xuất dây kéo', 'Công nhân sản xuất giầy Bộ phận pha cắt', 'Công nhân sản xuất gạch', 'Công nhân sản xuất gạch ốp,lát', 'Công nhân sản xuất kim loại', 'Công nhân sản xuất linh kiện bán dẫn', 'Công nhân sản xuất loa điện thoại di động', 'Công nhân sản xuất lưỡi cưa và đế cưa', 'Công nhân sản xuất máy in', 'Công nhân sản xuất mạng thiết bị quang học', 'Công nhân sản xuất tai nghe điện thoại', 'Công nhân sản xuất thiết bị hình ảnh', 'Công nhân sản xuất thủy sản', 'Công nhân sản xuất ván ép', 'Công nhân sản xuất đầu nối điện tử', 'Công nhân sắp chữ điện tử', 'Công nhân sửa chữa bảo dưỡng, bơm mỡ thiết bị luyện kim', 'Công nhân sửa chữa máy dệt', 'Công nhân sửa chữa thiết bị điện trong hầm lò', 'Công nhân sửa chữa điện tử', 'Công nhân sửa lỗi vải', 'Công nhân thay thân', 'Công nhân thu mua', 'Công nhân thành hình các sản phẩm cao su', 'Công nhân thành hình, KCN Long Khánh, thị xã Long Khánh, tỉnh Đồng Nai', 'Công nhân thủ công - A249152', 'Công nhân tráng', 'Công nhân trại heo', 'Công nhân trắc đạc', 'Công nhân trồng chè đội 13 - xí nghiệp chè phú sơn', 'Công nhân trồng và thu hoạch', 'Công nhân tách xoắn', 'Công nhân tô biên', 'Công nhân tổ Cắt da', 'Công nhân tổ Furan', 'Công nhân tổ chuẩn bị', 'Công nhân tổ hoàn thiện carton', 'Công nhân tổ nạp liệu và xử lý bột', 'Công nhân tổ quấn chão', 'Công nhân tổ ép phun', 'Công nhân viên XN LED', 'Công nhân vân hành máy may công nghiệp', 'Công nhân vòng ngoài', 'Công nhân vận hành Máy Rót line Combi', 'Công nhân vận hành dây truyền chế biến sợi thuốc lá', 'Công nhân vận hành máy ( May Công Nghiệp)', 'Công nhân vận hành máy 4000m/h trạm bơm Vạn Thắng Xí nghiệp khai thác công trình thuỷ lợi Thị Xã Chí Linh', 'Công nhân vận hành máy Chip Mounter', 'Công nhân vận hành máy bơm công suất 8000m3/h', 'Công nhân vận hành máy may (023103)', 'Công nhân vận hành máy may - Line 25', 'Công nhân vận hành máy may công nghiệp tổ 2', 'Công nhân vận hành máy sơn', 'Công nhân vận hành máy sản xuất thùng carton-Nhà máy Bao bì', 'Công nhân vận hành máy sợi con (sx 3 ca)', 'Công nhân vận hành máy trong dây chuyền Nhuộm', 'Công nhân vận hành máy trong dây chuyền nhuộm', 'Công nhân vận hành thiết bị may Công nghiệp,Bậc 1/7', 'Công nhân vận hành xưởng xi măng đóng bao', 'Công nhân xưởng lò nung', 'Công nhân xếp -ra lò', 'Công nhân xếp khuôn', 'Công nhân ép MEX', 'Công nhân ép MEX hoặc sơ chế MEX', 'Công nhân ép cao tầng', 'Công nhân ép nóng', 'Công nhân Điện', 'Công nhân Đánh Xừ', 'Công nhân Đánh bóng kim loại', 'Công nhân Đóng gói', 'Công nhân Đập tẻ lót thân', 'Công nhân Đế Trung( DP)', 'Công nhân Đứng máy dập', 'Công nhân điện', 'Công nhân đo đếm vải may công nghiệp, bậc 1/6', 'Công nhân đào tạo may', 'Công nhân đánh xi', 'Công nhân đóng gói, bốc vác', 'Công nhân đóng đinh', 'Công nhân đẩy biên đế', 'Công nhân đế gia công', 'Công nhân đốt lò', 'Công nhân đồng bộ bàn thành phẩm', 'Công nhân đổ sợi cho máy Thô', 'Công nhân đổ sợi con', 'Công nhân đứng máy bông trong dây chuyền sợi', 'Công nhân đứng máy chặt bán tự động', 'Công nhân ống PVC', 'Công nhân, Cty CPCB Gỗ Đức Thành', 'Công nhân, phân xưởng Thành Hình', 'Công nhân- Xưởng Sơn', 'Công nhân-Sơn', 'Công nhân-Sản xuất, lắp ráp phụ tùng xe máy, ô tô', 'Công nhânChạy Dây', 'Công nnhân-ép mũi', 'Công tác dân số, Trạm y tế Phường 1', 'Cỏn bộ cấp 2, Vựng 2, Bậc 1', 'Cộng tác viên thanh tra xây dựng', 'Cụng nhõn lỏi đầu mỏy xe lửa', 'Cụng nhõn vận hành mỏy may', 'Cửa hàng trưởng VM+', 'Dyeing Operator / Kỹ Thuật Viên Nhuộm', 'Dược sĩ', 'Dược sĩ - Khoa dược', 'Dược sĩ hạng IV, Khoa Dược', 'Dược sỹ trung cấp', 'G.Viên', 'GIÁM SÁT CƠ CAO CẤP', 'GIáM ĐốC', 'GS camera', 'Giao dịch viên Bưu điện Thị xã Ayun Pa', 'Giao dịch viên Bưu điện huyện Kon Plong', 'Giao dịch viên bưu chính', 'Giao dịch viên cấp 3', 'Giao dịch viên, Bưu điện huyện Đại Lộc', 'Giám Sát Kinh Doanh', 'Giám sát Camera', 'Giám sát Nv hồ bơi', 'Giám sát bán hàng KV Bắc Giang -Nhà máy Sữa VinaSoy', 'Gián viên', 'Giáo Viên THCS', 'Giáo Viên, 20', 'Giáo viên - Trường TH Lê Thị Hồng Gấm', 'Giáo viên - Trường TH Thị Trấn Trà Lồng', 'Giáo viên MN Hoàng An', 'Giáo viên MN.Tr MN Hoa Hồng Thị Trấn', 'Giáo viên THCS hạng II', 'Giáo viên Tin học', 'Giáo viên Trường Mẫu giáo xã Kim Sơn', 'Giáo viên bậc 1/12 Trường mầm non Đức Hồng', 'Giáo viên kiêm tổ trưởng chuyên môn', 'Giáo viên mầm non bậc 1/12. Trường Mầm non Đại Tiến', 'Giáo viên mầm non chính', 'Giáo viên mầm non hạng IV', 'Giáo viên tiểu học bậc 1/12', 'Giáo viên tiểu học chính', 'Giáo viên tiểu học chính bậc 3/10, trường tiểu học Hồng Định, thuộc', 'Giáo viên tiểu học trường tiểu học Đăk Choong', 'Giáo viên trường MG Sơn ca II', 'Giáo viên trường MG Xã Tả Củ Tỷ', 'Giáo viên trường TH Trường Đông A', 'Giáo viên trường TH Tủa Sín chải', 'Giáo viên trường TH và THCS Nguyễn Chí Thanh', 'Giáo viên trường tiểu học Lê hồng Phong', 'Giáo viên trường tiểu học Nậm Cang', 'Giáo viên, Kiêm tổ trưởng', 'Họa viên', 'Hỗ trợ kinh doanh', 'HỘ LÝ', 'Hộ lý khoa Yhọc cổ truyền', 'Hợp đồng giáo viên trung học trường THCS Cao Mại', 'Hợp đồng lao động ngạch cán sự Hội chữ thập đỏ', 'Hợp đồng tạp vụ', 'Junior Bartender', 'KCS', 'KTV Sơn', 'Khai thác hầm lò', 'Khai thác than trong hầm lò', 'Khoan, bào, tiện gang', 'Kinh doanh thị trường', 'Kiểm Hàng', 'Kiểm hàng', 'Kiểm lâm viên, đội kiểm lâm cơ động', 'Kiểm sát viên', 'Kê toán viên', 'Kĩ thuật bảo trì', 'Kế toán Cửa hàng xăng dầu', 'Kế toán trung cấp', 'Kế toán- Thủ quỹ', 'Kỹ sư - phòng kỹ thuật', 'Kỹ sư Tự động hóa xí nghiệp', 'Kỹ sư công trình ngầm', 'Kỹ sư máy bay', 'Kỹ sư nuôi trồng thuỷ sản', 'Kỹ thuật viên Massage', 'Kỹ thuật viên PIE', 'Kỹ thuật viên Tần số sóng', 'Kỹ thuật viên X-Quang', 'Kỹ thuật viên Xét nghiệm', 'Kỹ thuật viên bậc 1/12 phòng khảo sát', 'Kỹ thuật viên bậc 2/12', 'Lao động hợp đồng tạm tuyển BHXH thành phố Thái Nguyên', 'Lái xe trọng tải 01 tấn', 'Lái xe vận chuyển than, đất đá trọng tải từ 7,5 đến dưới 16,5 tấn trong khu vực khai thác mỏ', 'Lái xe vận tải có trọng tải từ 40 tấn trở lên', 'Lên Xuống khuôn', 'LĐHĐ, kế toán viên trung cấp', 'LĐPT - Đứng máy', 'Lễ Tân', 'Mài nhẵn mặt da, lạng da', 'Máy ép Đế', 'N.V Phụ bếp', 'NC - nhân viên tư vấn dinh dưỡng', 'NCF Activation - NV chương trình', 'NHÂN VIÊN , NHÂN VIÊN THốNG KÊ, QUY NHƠN', 'NHÂN VIÊN BÁN HÀNG', 'NHÂN VIÊN BáN HàNG', 'NHÂN VIÊN KCS.NGOẠI QUAN', 'NHÂN VIÊN KỸ THUẬT', 'NHÂN VIÊN NGÀNH HÀNG RAU CỦ QUẢ', 'NHÂN VIÊN VĂN PHòNG', 'NHÂN VIÊN, BÌNH DƯƠNG', 'NHÂN VIÊN, CÔNG TRìNH', 'NHÂN VIÊN, Nữ', 'NHÂN VIẾN BÁN HÀNG', 'NV - BV', 'NV GTSP', 'NV Giao nhận - 290 Phạm Văn Đồng - Phường Cam Lợi - TP Cam Ranh - Khánh Hòa', 'NV Giao nhận xe máy', 'NV Hỗ trợ KH qua tổng đài', 'NV KS Dữ liệu thẻ Cấp 1', 'NV Kỹ Thuật', 'NV LáI XE', 'NV LẮP ĐẶT', 'NV PV trên các đoàn tàu hỏa chở khách', 'NV Phòng Y tế', 'NV Phục vụ', 'NV Sự kiện', 'NV TàI Xế', 'NV Văn phòng', 'NV Vật tư', 'NV Vệ sinh MT', 'NV an ninh', 'NV bán xăng, Xuân Phú, Xuân Lộc, Đồng Nai', 'NV giới thiệu và tư vấn sản phẩm Microsoft', 'NV hành chính', 'NV nhà hàng', 'NV pha chế', 'NV quáng bá thương hiệu', 'NV thủ kho', 'NV tài chính kế toán', 'NV vệ sinh trên máy bay', 'NV Đóng Gói', 'NV Đại diện bán hàng', 'NV. KINH DOANH', 'NVBV', 'NVCSSP LG/Cà Mau/Vùng I', 'NVDVBH - TH', 'NVKT', 'NVTV', 'Nhan vien thuong mai ICE (VIEN NG.THUONG CH ITALIA)', 'Nhaõn vieõn boọ phaọn Vinatech', 'Nhân Viên Buồng, Phòng', 'Nhân Viên Bv&Pccc', 'Nhân Viên Bán Hàng - Hà Nội - Quận Long Biên - Kv1', 'Nhân Viên Bán Vé', 'Nhân Viên Dịch Vụ Khách Hàng Outbound', 'Nhân Viên KCS1', 'Nhân Viên Kiểm Soát Chất Lượng', 'Nhân Viên Nhà Hàng', 'Nhân Viên P. QLCL', 'Nhân Viên Pha Cắt', 'Nhân Viên Phát Triển Khách Hàng', 'Nhân Viên Quầy Đồ Chơi', 'Nhân Viên Thu Hồi Nợ', 'Nhân Viên Thời Vụ - Kỹ Thuật', 'Nhân Viên Tư Vấn Tín Dụng - TW', 'Nhân Viên Văn Phòng', 'Nhân Viên Văn Thư', 'Nhân Viên hành chính văn thư, Hành chính - Nhân sự', 'Nhân vie6nkho tại TP. HCM', 'Nhân viên  lái xe taxi', 'Nhân viên  tổ hồ ngâm', 'Nhân viên - V01 - TP.Hồ Chí Minh', 'Nhân viên - V01 - Thành phố Hồ Chí Minh', 'Nhân viên - V02 - Tỉnh An Giang', 'Nhân viên - V02 - Tỉnh Hưng Yên', 'Nhân viên - V02 - Tỉnh Long An', 'Nhân viên - V02 - Tỉnh Lâm Đồng', 'Nhân viên - V02 - Tỉnh Tiền Giang', 'Nhân viên - V02 - Đông Nam Bộ', 'Nhân viên An ninh - An toàn lao động', 'Nhân viên Bar', 'Nhân viên Bán hàng qua điện thoại', 'Nhân viên Bảo vệ - CN Sóc Trăng', 'Nhân viên Bốc xếp', 'Nhân viên Bộ phận quản lý chất lượng', 'Nhân viên CAD', 'Nhân viên CSKH VinID', 'Nhân viên Caddy', 'Nhân viên Dịch vụ Golf', 'Nhân viên Dịch vụ sau bán hàng - V01 - Q.Gò Vấp - Hồ Chí Minh', 'Nhân viên Gia công, KCN Hố Nai, huyện Trảng Bom, tỉnh Đồng Nai.', 'Nhân viên Giao nhận xe máy', 'Nhân viên Giới thiệu sản phẩm - Khu vực Bình Phước', 'Nhân viên Housekeeping-Làm việc tại Cần Thơ (vùng 2)', 'Nhân viên HĐ', 'Nhân viên Hỗ trợ Khách hàng', 'Nhân viên Hỗ trợ P. Thu Phí', 'Nhân viên KCS, bậc 2/6', 'Nhân viên KD', 'Nhân viên KT', 'Nhân viên Kinh tế - Bưu điện huyện Cô Tô', 'Nhân viên Kế Toán, Phòng Kế Toán Tài Chính', 'Nhân viên Lắp Ráp', 'Nhân viên Môi giới KHCN 04-HS', 'Nhân viên NHNo&PTNT huyện Iapa', 'Nhân viên Ngành hàng - Bánh tươi', 'Nhân viên Ngành hàng - Thực phẩm khô', 'Nhân viên Nhà mẫu', 'Nhân viên OPS', 'Nhân viên P.QLCL&ATLĐ', 'Nhân viên Phát triển thị trường', 'Nhân viên Phân hàng', 'Nhân viên Phục vụ, KBF22-LOTTEVT', 'Nhân viên QHKH Doanh nghiệp 1', 'Nhân viên Quay phim', 'Nhân viên Quản trị mạng', 'Nhân viên SEO', 'Nhân viên Shop', 'Nhân viên Techno', 'Nhân viên Tiếp đón Khách Hàng', 'Nhân viên Trung tâm Chăm sóc Khách hàng', 'Nhân viên Tuyển sinh', 'Nhân viên Tín dụng Agribank CN huyện Quỳ Hợp, Tây Nghệ An', 'Nhân viên Tư Vấn - V02 - T. Cà Mau', 'Nhân viên Tư Vấn - V04 - Tỉnh Bình Định', 'Nhân viên Tư vấn Tài chính', 'Nhân viên Tư vấn bán hàng - Phú Quốc', 'Nhân viên Vận hành kho', 'Nhân viên Vật tư đội', 'Nhân viên Vệ sinh Công cộng', 'Nhân viên Xưởng Nhuộm', 'Nhân viên Xưởng khuôn', 'Nhân viên b?o v?', 'Nhân viên bán hàng GT', 'Nhân viên bán hàng làm việc tại VINH LONG/ngạch C.22, bậc 1/vùng 2', 'Nhân viên bán hàng- Daikin-72124', 'Nhân viên bán hàng-Hải Phòng-Quận Hồng Bàng-Kv1', 'Nhân viên bán hàng. Trạm xăng dầu Đồng Tháp 01', 'Nhân viên bán lẻ xăng dầu', 'Nhân viên bảo vệ, an ninh', 'Nhân viên bếp căn tin', 'Nhân viên bồi thường trực tuyến', 'Nhân viên chất xếp', 'Nhân viên cung ứng', 'Nhân viên công nghệ sinh học', 'Nhân viên công vụ- KCN Long Khánh,xã Bình Lộc,T.x Long Khánh,Đồng Nai', 'Nhân viên dự toán', 'Nhân viên gia công khuôn', 'Nhân viên giao hàng bằng xe gắn máy', 'Nhân viên học việc TB sợi con', 'Nhân viên hỗ trợ giám định', 'Nhân viên hợp đồng - phó Bí thư Đoàn phường', 'Nhân viên kho Mỹ Đình', 'Nhân viên kho phành phẩm', 'Nhân viên khoa dược', 'Nhân viên khách sạn', 'Nhân viên kinh doanh sàn Biên Hòa', 'Nhân viên kinh doanh, Kohler &amp; Gạch', 'Nhân viên kiểm soát chất lương', 'Nhân viên kiểm tra chất lượng (PQC)', 'Nhân viên kế hoạch vật tư', 'Nhân viên kế toán tài chính', 'Nhân viên kỹ thuật công trường', 'Nhân viên lái xe', 'Nhân viên làm việc tại Ninh Thuận - Vùng 3', 'Nhân viên lái cẩu', 'Nhân viên lái xe 9 chỗ', 'Nhân viên lái xe nâng hàng', 'Nhân viên lưu bản', 'Nhân viên lắp ráp', 'Nhân viên nguồn vốn', 'Nhân viên nấu bếp', 'Nhân viên nấu ăn', 'Nhân viên phòng An toàn - Môi trường - Sức khỏe', 'Nhân viên phòng Chuẩn bị sản xuất', 'Nhân viên phòng Chế tạo khung', 'Nhân viên phòng hành chính', 'Nhân viên phòng kế hoạch điều độ', 'Nhân viên phụ kho đường', 'Nhân viên phục phụ', 'Nhân viên phục vụ (Quầy bar)', 'Nhân viên phục vụ bàn', 'Nhân viên phục vụ bán hàng bia, phòng Kinh doanh Bia', 'Nhân viên phục vụ nhà hàng thời vụ', 'Nhân viên phục vụ trên xe bus', 'Nhân viên phục vụ xe buýt', 'Nhân viên quản lÝ chất lượng', 'Nhân viên quầy', 'Nhân viên quầy Bánh mỳ', 'Nhân viên repair', 'Nhân viên sinh quản', 'Nhân viên sản xuất đèn led', 'Nhân viên sửa chữa điện', 'Nhân viên thi công cơ điện (LĐHĐ)', 'Nhân viên thương mại', 'Nhân viên thợ Điện', 'Nhân viên thủ quỹ', 'Nhân viên tiếp thị C4-Quang Ngai', 'Nhân viên trung tâm điều phối', 'Nhân viên trạm cân', 'Nhân viên trị liệu', 'Nhân viên trực hồ bơi', 'Nhân viên tư vấn công trình', 'Nhân viên tư vấn kinh doanh', 'Nhân viên tư vấn tài chính', 'Nhân viên tư vấn và giới thiệu sản phẩm (Vùng: II - Ngạch: C.20 - Bậc : I)', 'Nhân viên tư vấn xử lý nợ tại nhà', 'Nhân viên tổ vật lý trị liệu', 'Nhân viên vi tính', 'Nhân viên vận hành máy', 'Nhân viên vệ sinh chung', 'Nhân viên vệ sinh khu vực công cộng', 'Nhân viên xưởng', 'Nhân viên xưởng gia công động cơ', 'Nhân viên Đóng gói', 'Nhân viên điều hành xe', 'Nhân viên điểm giới thiệu dịch vụ (Xe máy) - Nơi làm việc: Hải Phòng', 'Nhân viên điểm giới thiệu dịch vụ (Điện máy) - Nơi làm việc: Hà Nội', 'Nhân viên điện nước', 'Nhân viên đánh máy', 'Nhân viên đội công viên cây xanh', 'Nhân viên, Trung tâm Dịch vụ tài nguyên và môi trường biển', 'Nhân viên, kinh tế viên', 'Nhân viên- Trung tâm viễn thông 1', 'Nhân viên-Cấp bậc 1', 'Nhân viên-Hà Nội', 'Nhân viên; Công ty TNHH Cybertech Việt Nam', 'Nhân viên_Nghỉ CN', 'Nhân viện trực đài', 'Nhõn viờn an ninh', 'Nhõn viờn kỹ thuật', 'Nv kinh doanh', 'Nv thu ngân', 'Nữ Hộ Sinh, Trạm Y Tế Xã A Mú Sung', 'Officer, Partnership Distribution', 'P. Đội phó', 'P.Chủ tịch', 'P.HCNS', 'PAA10529-Điện lực Nam Định-CN Sửa chữa điện', 'PHụ BếP, Bếp ăn', 'PK B2C', 'Phó Bí Thư', 'Phó Bí thư Đoàn Thanh niên', 'Phó Chủ tịch', 'Phó bí thư đoàn', 'Phó trưởng công an', 'Phóng viên+ PT kế toán', 'Phường Tân Thịnh - TP Hoà Bình - tỉnh Hoà bình', 'QC-MĐ', 'QLSX', 'Quay ghi-ghép nối đầu máy toa xe ga Vạn Phú', 'Quản Lý Khu Vực', 'Quản lÝ', 'Quản lý sản xuất', 'Sàng, sấy hóa chất, phối liệu cao su - RNP-HC-18183118-TAEKWANG MTC', 'Săm XM', 'SƠN, IN DA Và PHA CHế HOá CHấT Để SƠN, IN DA', 'T.Tra xây dựng', 'T? tr??ng t? u?n hỡnh', 'TK.May', 'TN hợp đồng', 'TRưởng ban kinh tế kỷ thuật', 'TT may', 'TV', 'Thu ngân - Bán hàng', 'Thí nghiệm, phân tích hóa chất, thuốc nhuộm', 'Thông dịch', 'Thư Ký, Văn Phòng', 'Thư ký kinh doanh', 'Thợ Máy phụ - Châu Đốc vùng 2', 'Thợ bế hình', 'Thợ hàn - GC', 'Thợ in', 'Thợ may công nghiệp', 'Thợ máy', 'Thợ nguội', 'Thợ phụ kiểm hàng', 'Thợ phụ máy thổi', 'Thợ phụ tổ cắt', 'Thợ điện B2', 'Thủ quỹ-02', 'Thủy thủ', 'Thủy thủ tàu vận tải biển', 'Tiếp thị bán hàng', 'Tiếp thị, Chăm sóc khách hàng, kinh doanh sản phẩm dịch vụ VT-CNTT theo địa bàn (Nhân viên kinh doanh địa bàn)- TTKD Điện Biên - Làm việc tại Điện Biên - Vùng III', 'Tiếp viên Cần Thơ - Vùng 2', 'Tiếp Đón Khách Hàng', 'Trình Dược Viên', 'Trưởng công an xã', 'Trưởng nhóm hành chính', 'Trưởng phòng kỹ thuật', 'Trưởng phòng phát hành', 'Trợ giáo lái xe nhóm 2 bậc 1/4', 'Trợ lÝ nghiên cứu', 'Trợ lý Kiểm toán viên', 'Trợ lý Luật sư', 'Trợ lý Quản lý (2)', 'Trợ lý kinh doanh', 'Trợ lý kiểm toán', 'Trợ lý nghiền', 'Trợ lý trưởng phòng quản lý công nghệ', 'Trực ban chạy tàu ga Cầu Giát', 'Tài chính - Kế toán', 'Tài xế Chi nhánh Thanh Hóa lái xe tải dưới 3,5 tấn', 'Tài xế xe tải', 'Tư Vấn Viên - CN An Giang', 'Tư vấn bán hàng xe Kia', 'Tư vấn thẻ hội viên cấp 1', 'Tạp vụ Bếp', 'Tạp vụ bếp', 'Tạp vụ, Công ty TNHH Phòng Khám Gia Đình Tp.HCM', 'Tập sự giáo viên THCS', 'Tổ Trưởng Cấp Cao', 'Tổ viên tổ cơ giới  - nhà máy gạch', 'Tổng đài', 'VH máy sợi', 'Viên chức hành chính', 'Văn Thư Trường Tiểu Học Bế Văn Đàn', 'VẬN HÀNH DÂY CHUYỀN SỢI', 'Vận hành máy hoàn tất', 'Vệ Sinh Máy Chải ,Dây Truyền Sợi ,Dệt ,Nhuộm', 'XT2', 'Xi mạ', 'Xã đội trưởng', 'Y Sĩ', 'Y sĩ hạng IV', 'Y sỉ trạm y tế xã Mỹ Thuận', 'Y sỹ YHCT - Khoa YHCT&amp;PHCN, Bệnh viện đa khoa tỉnh Lai Châu', 'Y sỹ hợp đồng', 'Y sỹ đa khoa - Khoa Khám bệnh', 'Y sỹ, Trạm y tế Hưng Thành', 'Y tá hành chính khoa hồi sức cấp cứu', 'YYA40899-Trường PTTH Mỹ tho-GV Địa lý', 'chuyên viên - phòng kế toán tài chính', 'cn dệt', 'cn là chi tiết', 'cn lắp ráp motor', 'cn thu tiền', 'cn thêu', 'cnhân cắt vải', 'cán bộ nghiên cứu-tổng hợp văn phòng', 'cán bộ tín dụng', 'cán sự bậc 2/12', 'cán sự quản lý trẻ', 'công an viên', 'công nhân  cắt phá cắt gọt trong chuyền may công nghiệp.', 'công nhân -may tay', 'công nhân Hàn', 'công nhân Nhóm Mài 3', 'công nhân bảo trì sau', 'công nhân chà ghế', 'công nhân cắt da', 'công nhân cắt vải', 'công nhân gò', 'công nhân hoàn chỉnh', 'công nhân hình ảnh', 'công nhân khai thác', 'công nhân kiểm hàng', 'công nhân kiểm phẩm', 'công nhân làm giầy', 'công nhân lộn banh', 'công nhân may quần 5', 'công nhân pha cắt', 'công nhân phòng sản xuất bao bì mỹ phẩm', 'công nhân phụ sơn da', 'công nhân sản xuất lắc', 'công nhân sản xuất, tổ hợp', 'công nhân trải vải, đánh số', 'công nhân tổ sơ chế', 'công nhân viên xưởng may', 'công nhân vận hành máy ép phun', 'công nhân ép nhiệt', 'công nhân điện nước', 'công nhân đóng gói men', 'công nhân đúc đế', 'công nhân đế', 'công nhân, Luyện Phôi', 'công nhânWAM 2', 'cắt biên (làm theo chế độ 3 ca)', 'giám đốc', 'giáo viên Việt Nam', 'giáo viên trình độ CĐSP', 'giáo viên trường THCS Nghĩa An', 'kcs', 'khai thác viên', 'kiến trúc sư', 'kiểm thu viên thuế', 'kĩ thuật viên tin học', 'kế toán công trình', 'kỹ thuật viên xây dưng', 'máy dán tđ', 'nhân viên QC', 'nhân viên chăm sóc khách hàng', 'nhân viên cứu hộ', 'nhân viên dịch vụ khách hàng', 'nhân viên giao hàng', 'nhân viên kho thành phẩm', 'nhân viên kiểm bao oe', 'nhân viên kiểm phẩm', 'nhân viên kế hoạch sản xuất, điều kiện làm việc: bình thường', 'nhân viên lao động tiền lương', 'nhân viên lái xe khách dưới 20 ghế', 'nhân viên nghiệp vụ', 'nhân viên thu mua', 'nhân viên thủ kho', 'nhân viên tt 1648', 'nv kỹ thuật', 'nv thiết kế', 'nvkinh doanh', 'phết keo đế và mũi giày', 'phối hàng', 'phụ việc', 'phụ xe', 'sxct', 'thú y', 'thư ký', 'thợ hồ', 'trưởng bộ phận', 'trải vải', 'tái xế', 'văn thư', 'vận hành máy giặt', 'vệ sỹ', 'xã đội trưởng', 'y sỹ y học cổ truyền', 'Ó 1-2', 'ép săm XĐ', 'ép đế', 'ĐTV', 'Điều dưỡng ( LĐHĐ)', 'Điều dưỡng TH khoa da liễu', 'Điều dưỡng cao đẳng khoa Nội tiết', 'Điều dưỡng viên trung học', 'Điều hành', 'Điều phối viên', 'Đại diện Kỹ thuật thương mại', 'Đại diện Tiêu Thụ II', 'Đối tượng tham gia BHXH TN', 'Đồ HọA', 'Đội bảo dưỡng máy sợi con', 'Đội phó', 'Đội phó đội bảo vệ, Bộ phận Bảo vệ', 'Đội phó đội xây dựng  và lắp máy']\n"
     ]
    }
   ],
   "source": [
    "\n",
    "f =  \"maCv\"\n",
    "vc1 = sorted(df_train[f].value_counts().index)\n",
    "print(vc1)\n",
    "print(len(vc1))\n",
    "print(\"#####################\")\n",
    "vc2 = sorted(df_test[f].value_counts().index)\n",
    "print(vc2)\n",
    "print(len(vc2))\n",
    "a = []\n",
    "for i in vc2:\n",
    "    if i not in vc1:\n",
    "        a.append(i)\n",
    "print(len(a))\n",
    "print(a)\n"
   ]
  },
  {
   "cell_type": "code",
   "execution_count": 55,
   "metadata": {
    "ExecuteTime": {
     "end_time": "2020-07-30T03:52:21.770967Z",
     "start_time": "2020-07-30T03:52:21.711490Z"
    },
    "code_folding": []
   },
   "outputs": [],
   "source": [
    "def fixmaCv(x):\n",
    "    lower = str(x).lower()\n",
    "    if any([x in lower for x in [\"nhân viên\", \"kỹ\", \"chuyên viên\", \"kế toán\", \"cán bộ\", \"thủ kho\", \"tạp vụ\",\\\n",
    "                                \"thu ngân\", \"may\", \"cán sự\", \"phóng viên\", \"giao dịch\", \"operator\", \"cnv\",\\\n",
    "                                \"huấn luyện viên\", \"ktoán\", \"bí thư đoàn\", \"nv\", \"lễ tân\", \"thư ký \",\\\n",
    "                                \"gsbh\", \"tiếp viên\", \"nhõn viờn\", \"cb\", \"chăm sóc\", \"hướng dẫn viên\", \\\n",
    "                                \"kiểm phẩm\", \"chuyờn viờn\", \"kĩ sư\", \"kĩ thuật viên\", \"cấp dưỡng\", \"kiểm gấp\",\\\n",
    "                                \"kiểm soát viên\", \"kiểm ngân\", \"nv\", \"lưu hóa\", \"nhân  viên\", \"lưu trữ viên\", \\\n",
    "                                \"phát hành báo\", \"ktv\", \"kiến trúc sư\", \"kinh tế viên\", \"staff\", \"checker\",\\\n",
    "                                \"lập trình viên\", \"sỹ quan\", \"dịch vụ\", \"kiểm tra viên\", \"chuyªn viªn\", \\\n",
    "                                \"cộng tác viên\", \"qc ksqt\", \"nhân vên\", \"kế hoạch sản xuất\", \"nhaõn vieõn\", \\\n",
    "                                \"thí nghiệm\", \"thông kê\", \"kiểm hàng\", \"k? s?\", \"thư ký\", \"hợp đồng\", \\\n",
    "                                \"thẩm phán\", \"thao tác viên\", \"thủ quỹ\", \"lấy mẫu\", \"LÁI XE\".lower(), \\\n",
    "                                \"biên tập\", \"ksxd\", \"phiên dịch\", \"tb tuyên huấn\", \"sales\", \"thường trực\", \\\n",
    "                                \"kĩ thuật\", \"trợ lý\", \"tiếp thực\", \"trưởng công an\", \"giỏm sỏt\", \\\n",
    "                                 \"trình dược viên\", \"btđtn\", \"phúng viờn\", \"phường đội\", \"trực ban\", \\\n",
    "                                \"thông dịch\", \"tiếp thị\", \"tư vấn\", \"tổng đài\", \"vi tính\", \"viên chức\", \\\n",
    "                                \"văn phòng\", \"văn thư\", 'Thiết Kế'.lower(), \"vận hành\", \"nhan vien\", \\\n",
    "                                \"kiểm tra chất lượng\", \"công an viên\", \"pbt\", \"phi công\", \"laptop\",\\\n",
    "                                \"phụ trách kiểm hàng\", \"quay phim\", \"kỷ thuật viên\", \"thư viện viên\", \\\n",
    "                                \"trực buồng\", \"techcombank\", \"cảng vụ viên\", \"trainee\", \"bhxh\", \"marketing\", \\\n",
    "                                \"tuyên truyền viên\", \"an ninh viên\", \"tổ viên\", \"kế hoạch\", \"ks\", \"công chức\", \\\n",
    "                                \"an toàn viên\", \"CHỈ SỐ VIÊN\".lower(), \"kỹ thuật viên\", \"quản sinh\", \\\n",
    "                                \"thu mua\", \"giám éịnh viên\", \"kiểm định viên\", \"bí thư xã  đoàn\", \"giám định\", \\\n",
    "                                \"quản trị mạng\", \"thơợ\", \"thống kê\", \"thủ  quỹ\", \"điều tra viên\", \\\n",
    "                                \"điện thoại\", \"điện thọai\", \"đội thông tin\", \"đón  tiếp khách hàng\", \"đăng kiểm\",\\\n",
    "                                \"đơn hàng\", \"đại diện\", \"điều phối viên\", \"n.v\", \"bán vé\", \"c«ng nh©n\", \\\n",
    "                                \"gs camera\", \"cỏn bộ\", \"máy dán\", \"tv\", \"đtv\", \"đồ họa\"]]):\n",
    "        return \"NV\"\n",
    "    elif any([x in lower for x in [\"tổ trưởng\", \"giám sát\", \"quản lý\", \"cửa hàng trưởng\", \"chuyền trưởng\", \"kho\",\\\n",
    "                                  \"phó\", \"pp\", \"nhóm trưởng\", \"trưởng phòng\", \"trưởng ca\", \"trưởng tàu khách\", \\\n",
    "                                  \"trưởng nhóm\", \"cửa hàng trưởng\", \"trưởng bộ\", \"tổng phụ trách\", \"đào tạo\", \\\n",
    "                                  \"phụ trách phòng\", \"quản doanh\", \"vhtt\", \"trưởng ban\", \"dự án\", \"nhân sự\",\\\n",
    "                                  \"chỉ huy\", \"triển khai\", \"trưởng kiểm soát\", \"điều hành\", \"đội trưởng\", \\\n",
    "                                  \"chỉ huy\", \"qlsx\", \"t? tr??ng\"]]):\n",
    "        return \"QL\"\n",
    "    elif any([x in lower for x in [\"công\", \"lái xe\", \"bảo vệ\", \"thợ\", \"lao động\", \"tài xế\", \"bán hàng\",\\\n",
    "                                \"phụ kho\", \"phụ việc\", \"phết\", \"bảo mẫu\", \"phục vụ\", \"đóng gói\", \"ép cao tần\", \\\n",
    "                                \"cn\", \"sản Phẩm\", \"giao nhận\",\"cụng nhõn\", \"gia công\", \"kiÓm tra\".lower(), \\\n",
    "                                \"cô nuôi\", \"bảo dưỡng\", \"c.n\", \"coi bồn\", \"cạo mủ\", \"coõng nhaõn\", \"khai thác\",\\\n",
    "                                \"cod\", \"bốc xếp\", \"bếp\", \"lái máy\", \"lđpt\", \"khuôn\", \"hàng rong\", \"phụ bếp\",\\\n",
    "                                \"phụ tá\", \"thủ công\", \"phụ xe\", \"dệt\", \"sửa chữa\", \"băng chuyền\", \"lắp ráp\", \\\n",
    "                                \"chà nhám\", \"cn\", \"bếp phụ\", \"chụp hình\", \"KHUNG SắT\".lower(), \"kcs chuyền\", \\\n",
    "                                \"lao động\", \"thành hình\", \"lao công\", \"cônh nhân\", \"thi công\", \"cán lần 1\", \\\n",
    "                                \"lái phụ máy\", \"thủy thủ\", \"gác ghi\", \"quay ghi\", \"bảo trì\", \"bảo mẩu\", \\\n",
    "                                \"máy 3 tàu\", \"giao hàng\", \"trực chính\", \"hỗ trợ\", \"lái xúc gạt\", \"công  nhân\",\\\n",
    "                                \"lđhđ\", \"lao d?ng\", \"c. nhân\", \"pv nước\", \"hđlđ\", \"vệ sinh\", \"phụ\", \"vệ sỹ\", \\\n",
    "                                \"xếp hộp\", \"barista\", \"hàn điện\", \"thuỷ thủ\", \"xây dựng\", \"b?o v?\", \\\n",
    "                                \"mài phá\", \"lái cẩu\", \"xếp da\", \"worker\", \"vân hành\", \"cong nhan\", \"pha chế\", \\\n",
    "                                \"máy trưởng\", \"phụ trách sản xuất\", \"trải vải\", \"YếN TIệC\".lower(), \"gấp xếp\", \\\n",
    "                                \"in sơ đồ\", \"lđ phổ thông\", \"mài\", \"nhồi mút\", \"ép\", \"gói\", \"đóng\", \\\n",
    "                                \"đội viên\", \"đánh máy\", \"đứng máy\", \"ủi\", \"săm\", 'atlđ']]):\n",
    "        return \"CN\"\n",
    "    elif any([x in lower for x in [\"giáo viên\", \"gv\", \"giảng viên\", \"chủ nhiệm lớp\", \"giáo viến\", \\\n",
    "                                   \"Giáo viến\".lower(), \"mầm non\"]]):\n",
    "        return \"GV\"\n",
    "    elif any([x in lower for x in [\"kinh doanh\", \"kinh  doanh\"]]):\n",
    "        return \"KD\"\n",
    "\n",
    "    elif any([x in lower for x in [\"hiệu trưởng\", \"chủ tịch\", \"pgđ\", \"giám đốc\"]]):\n",
    "        return \"GĐ\"\n",
    "    elif any([x in lower for x in [\"điều dưỡng\", \"hộ lý\", \"nữ hộ sinh\", \"h? lý\", \"hộ sinh\"]]):\n",
    "        return \"ĐD\"\n",
    "    elif any([x in lower for x in [\"y sĩ\", \"dược sỹ\", \"bác sĩ\", \"bác sỹ\", \"dược\", \"dược tá\", \"thú y\", \"y sỹ\",\\\n",
    "                                  \"y tế\", \"y công\", \"y tá\", \"dựơc tá\", \"ytth\"]]):\n",
    "        return \"BS\"\n",
    "    elif any([x in lower for x in [\"cử nhân\", \"cđ\", \"học viên\", \"tc\", \"cao đẳng\", \"cao đẵng\", \"trung cấp\"]]):\n",
    "        return \"HS\"\n",
    "    elif any([x in lower for x in [\"diễn viên\", \"ca sĩ\"]]):\n",
    "        return \"DV-CS\"\n",
    "    elif any([x in lower for x in [\"undefined\", \"nguyễn thế hưng\", \"ln091\", \"thieu chuc danh\", \"th noọng hẹt\", \\\n",
    "                                  \"875 lk\", \"-\", \"p.xnk\", \"cỏn b?\", '22568', \"unt\", \"01019882\", \"xtnt\", \"ltv\", \\\n",
    "                                  \"plđg hc\", \"mia\", \"pqtd\", \"kttntl\", \"llqs\", \"kcsmhm\", \"nt\", \"dtm\", \"i\", \"qc\",\\\n",
    "                                  '/  /', '1', '14', 'a', 'chủ hộ', 'coõng vuù', 'kcs', 'pk b2c',\\\n",
    "                                   'xt2', 'kcs', 'sxct']]):\n",
    "        return np.nan\n",
    "    return x"
   ]
  },
  {
   "cell_type": "code",
   "execution_count": 56,
   "metadata": {
    "ExecuteTime": {
     "end_time": "2020-07-30T03:52:33.253218Z",
     "start_time": "2020-07-30T03:52:32.749948Z"
    }
   },
   "outputs": [],
   "source": [
    "df_transform = pd.concat([df_train.iloc[:,2:], df_test.iloc[:,1:]], axis = 0)"
   ]
  },
  {
   "cell_type": "code",
   "execution_count": 57,
   "metadata": {
    "ExecuteTime": {
     "end_time": "2020-07-30T03:52:55.109930Z",
     "start_time": "2020-07-30T03:52:55.096438Z"
    }
   },
   "outputs": [],
   "source": [
    "data_type = {\n",
    "    \"cat_num\":[\"Field_22\",\"Field_13\", \"Field_41\", \"Field_42\",\"Field_50\", \"Field_51\", \"Field_53\",\\\n",
    "               \"Field_73\",  \"partner0_A\", \"partner0_B\", \"partner0_C\", \"partner0_D\", \"partner0_E\",\\\n",
    "               \"partner0_F\", \"partner0_G\", \"partner0_H\", \"partner1_A\", \"partner1_C\", \"partner1_G\", \"partner1_H\",\\\n",
    "               \"partner2_A\", \"partner2_C\", \"partner2_D\", \"partner2_F\", \"partner2_H\",\"partner3_A\", \"partner3_D\",\\\n",
    "               \"partner3_E\", \"partner4_L\", \"partner5_A\", \"partner5_D\", \"partner5_G\", \"Field_3\", \"Field_38\"],\n",
    "    \n",
    "    \"cat_str\" : [\"Field_4\", \"Field_12\",\"Field_36\", \"Field_54\", \"Field_62\",\"Field_65\",\"Field_66\",\\\n",
    "                 \"info_social_sex\", \"brief\", \"gioiTinh\",\"currentLocationState\", \"Field_61\", \\\n",
    "                 \"currentLocationCountry\", 'homeTownState', 'data.basic_info.locale',\\\n",
    "                \"homeTownCountry\", \"Field_55\"], \n",
    "    \n",
    "    \"date\" : [\"Field_1\", \"Field_2\", \"Field_5\", \"Field_6\", \"Field_7\", \"Field_8\", \"Field_9\", \"Field_11\",\\\n",
    "             \"Field_15\", \"Field_25\", \"Field_32\", \"Field_33\", \"Field_35\", \"Field_40\",\"Field_43\", \"Field_44\", \\\n",
    "              \"F_startDate\", \"F_endDate\", \"E_startDate\", \"E_endDate\", \"C_startDate\",\n",
    "             \"C_endDate\", \"G_startDate\", \"G_endDate\", \"A_startDate\", \"A_endDate\", \"ngaySinh\", \"Field_34\"],\n",
    "    \n",
    "    \"address\" : [\"Field_45\", \"Field_48\", \"Field_49\", \"Field_56\", 'homeTownName', \"currentLocationCity\", \\\n",
    "                 \"homeTownCity\", \"diaChi\", \"currentLocationName\"],\n",
    "    \n",
    "    \"drop\" : [\"Field_18\", \"Field_68\", \"Field_46\"]\n",
    "}"
   ]
  },
  {
   "cell_type": "code",
   "execution_count": 58,
   "metadata": {
    "ExecuteTime": {
     "end_time": "2020-07-30T03:53:07.114405Z",
     "start_time": "2020-07-30T03:53:07.107805Z"
    }
   },
   "outputs": [],
   "source": [
    "lst = data_type[\"cat_num\"] + data_type[\"cat_str\"] + data_type[\"date\"] + data_type[\"address\"] + data_type[\"drop\"]"
   ]
  },
  {
   "cell_type": "code",
   "execution_count": null,
   "metadata": {
    "ExecuteTime": {
     "start_time": "2020-07-30T03:51:31.972Z"
    }
   },
   "outputs": [],
   "source": [
    "\"\"\"\n",
    "for f in df_transform.columns:\n",
    "    vc = df_transform[f].value_counts()\n",
    "    print(f\"{f} : {len(vc)} : {vc.index[:10]}\")\n",
    "\"\"\""
   ]
  },
  {
   "cell_type": "markdown",
   "metadata": {},
   "source": [
    "consider transform: \"brief\" \\\n",
    "consider drop: \"Field_56\", \"maCv\"\n"
   ]
  },
  {
   "cell_type": "code",
   "execution_count": null,
   "metadata": {
    "ExecuteTime": {
     "start_time": "2020-07-30T03:51:32.625Z"
    }
   },
   "outputs": [],
   "source": [
    "df_transform = df_transform.drop(data_type[\"drop\"], axis = 1)\n",
    "df_transform = df_transform.drop(data_type[\"address\"], axis = 1)"
   ]
  },
  {
   "cell_type": "code",
   "execution_count": null,
   "metadata": {
    "ExecuteTime": {
     "start_time": "2020-07-30T03:51:32.947Z"
    },
    "code_folding": [
     0
    ]
   },
   "outputs": [],
   "source": [
    "def fix38(x):\n",
    "    if x == 0.0 or x == \"0\" or x == \"0.0\":\n",
    "        return 0\n",
    "    if x == 1.0 or x == \"1\":\n",
    "        return 1\n",
    "    return np.nan"
   ]
  },
  {
   "cell_type": "code",
   "execution_count": null,
   "metadata": {
    "ExecuteTime": {
     "start_time": "2020-07-30T03:51:33.220Z"
    },
    "code_folding": [
     0
    ]
   },
   "outputs": [],
   "source": [
    "def fix54(x):\n",
    "    if x == \"1\" or x == \"01\" or x == ' P. Tân Phú':\n",
    "        return \"VN\"\n",
    "    if x in ['IT', 'GB', 'SE', 'TK', 'BD']:\n",
    "        return np.nan\n",
    "    return x"
   ]
  },
  {
   "cell_type": "code",
   "execution_count": null,
   "metadata": {
    "ExecuteTime": {
     "start_time": "2020-07-30T03:51:33.522Z"
    },
    "code_folding": [
     0
    ]
   },
   "outputs": [],
   "source": [
    "def fix55(x):\n",
    "    if x in ['BC', 'BG', 'CN', 'CO', 'DB', 'EL', 'FO', 'H5', 'KX', 'N7', 'NR', 'SD', 'SJ', 'ST', 'WD']:\n",
    "        return np.nan\n",
    "    return x"
   ]
  },
  {
   "cell_type": "code",
   "execution_count": null,
   "metadata": {
    "ExecuteTime": {
     "start_time": "2020-07-30T03:51:33.804Z"
    },
    "code_folding": [
     0
    ]
   },
   "outputs": [],
   "source": [
    "def fix61(x):\n",
    "    if x == 'Chất độc hóa học':\n",
    "        return np.nan\n",
    "    return x"
   ]
  },
  {
   "cell_type": "code",
   "execution_count": null,
   "metadata": {
    "ExecuteTime": {
     "start_time": "2020-07-30T03:51:34.117Z"
    },
    "code_folding": [
     0
    ]
   },
   "outputs": [],
   "source": [
    "def fixcurrentLocationState(x):\n",
    "    if x in ['Ilhas', 'Daegu', 'Auckland Region', 'Basse-Normandie', 'Chongqing', \"Provence-Alpes-Côte d'Azur\",\\\n",
    "             'Rajshahi Division', 'Hubei', 'Mandalay', 'Missouri', 'Pathum Thani', 'Central Java', 'New Hampshire',\\\n",
    "             'Odisha', 'South Australia', 'Chon Buri', 'Haute-Normandie', 'Kirov Oblast', 'Primorsky Krai', 'Arizona',\\\n",
    "             'Ulsan', 'Kanagawa Prefecture', 'Metro Manila', 'Kachin State', 'Svay Rieng Province', 'Nagano Prefecture',\\\n",
    "             'Shiga Prefecture', 'Oslo', 'Indiana', 'Hunan', 'Bolikhamsai Province', 'Krasnoyarsk Krai',\\\n",
    "             'Distrito Nacional', 'Chiba Prefecture']:\n",
    "        return np.nan\n",
    "    return x"
   ]
  },
  {
   "cell_type": "code",
   "execution_count": null,
   "metadata": {
    "ExecuteTime": {
     "start_time": "2020-07-30T03:51:34.393Z"
    },
    "code_folding": [
     0
    ]
   },
   "outputs": [],
   "source": [
    "def fixcurrentLocationCountry(x):\n",
    "    if x in ['Macau', 'New Zealand', 'Dominican Republic']:\n",
    "        return np.nan\n",
    "    return x"
   ]
  },
  {
   "cell_type": "code",
   "execution_count": null,
   "metadata": {
    "ExecuteTime": {
     "start_time": "2020-07-30T03:51:34.681Z"
    },
    "code_folding": [
     0
    ]
   },
   "outputs": [],
   "source": [
    "def fixhomeTownState(x):\n",
    "    if x in ['Hunan', 'Kachin State', 'Distrito Federal', 'Bizerte Governorate', 'Central Java',\\\n",
    "             'Svay Rieng Province', 'Distrito Nacional', 'County Mayo', 'Odisha', 'Lazio', 'Nevada',\\\n",
    "             'Daegu', 'Arizona', 'Equatoria', 'Fukuoka Prefecture', 'Taoyuan City', 'Kandal Province', \\\n",
    "             'State of Mexico', 'Hebei', 'New South Wales', 'Capital Governorate', 'Oregon']:\n",
    "        return np.nan\n",
    "    return x"
   ]
  },
  {
   "cell_type": "code",
   "execution_count": null,
   "metadata": {
    "ExecuteTime": {
     "start_time": "2020-07-30T03:51:34.964Z"
    },
    "code_folding": [
     0
    ]
   },
   "outputs": [],
   "source": [
    "def fixhomeTownCountry(x):\n",
    "    if x in ['Australia', 'Bahrain', 'Dominican Republic', 'Ireland', 'South Sudan', 'Tunisia']:\n",
    "        return np.nan\n",
    "    return x"
   ]
  },
  {
   "cell_type": "code",
   "execution_count": null,
   "metadata": {
    "ExecuteTime": {
     "start_time": "2020-07-30T03:51:35.219Z"
    },
    "code_folding": [
     0
    ]
   },
   "outputs": [],
   "source": [
    "def fixdata_basic_info_locale(x):\n",
    "    if x == \"_VN\":\n",
    "        return 'vi_VN'\n",
    "    elif x in ['lv_LV', 'ru_RU']:\n",
    "        return np.nan\n",
    "    return x"
   ]
  },
  {
   "cell_type": "code",
   "execution_count": null,
   "metadata": {
    "ExecuteTime": {
     "start_time": "2020-07-30T03:51:35.516Z"
    },
    "code_folding": [
     0
    ]
   },
   "outputs": [],
   "source": [
    "def calculate_age(born):\n",
    "    born = datetime.strptime(born,'%Y-%m-%d').date()\n",
    "    today = datetime.today()\n",
    "    return today.year - born.year - ((today.month, today.day) < (born.month, born.day))"
   ]
  },
  {
   "cell_type": "code",
   "execution_count": null,
   "metadata": {
    "ExecuteTime": {
     "start_time": "2020-07-30T03:51:35.805Z"
    },
    "code_folding": [
     0
    ]
   },
   "outputs": [],
   "source": [
    "def combine_gender(s):\n",
    "    x, y = s\n",
    "    \n",
    "    if x != x and y != y:\n",
    "        return \"nan\"\n",
    "    \n",
    "    if x != x:\n",
    "        return y.lower()\n",
    "    \n",
    "    return x.lower()\n",
    "\n",
    "def process_gender(df):\n",
    "    df[\"gender\"] = df[[\"gioiTinh\", \"info_social_sex\"]].apply(combine_gender, axis=1)\n",
    "    return df"
   ]
  },
  {
   "cell_type": "code",
   "execution_count": null,
   "metadata": {
    "ExecuteTime": {
     "start_time": "2020-07-30T03:51:36.794Z"
    }
   },
   "outputs": [],
   "source": [
    "DATE = [\"Field_{}\".format(i) for i in [5, 6, 7, 8, 9, 11, 15, 25, 32, 33, 35, 40]]\n",
    "DATETIME = [\"Field_{}\".format(i) for i in [1, 2, 43, 44]]"
   ]
  },
  {
   "cell_type": "code",
   "execution_count": null,
   "metadata": {
    "ExecuteTime": {
     "start_time": "2020-07-30T03:51:37.397Z"
    },
    "code_folding": [
     0,
     12
    ]
   },
   "outputs": [],
   "source": [
    "def datetime_normalize(s):\n",
    "    if s != s:\n",
    "        return np.nan\n",
    "    \n",
    "    s = s.split(\".\")[0]\n",
    "    if s[-1] == \"Z\":\n",
    "        s = s[:-1]\n",
    "        \n",
    "    date, time = s.split(\"T\")\n",
    "    datetime_obj = datetime.strptime(s, \"%Y-%m-%dT%H:%M:%S\")\n",
    "    return datetime_obj\n",
    "\n",
    "def date_normalize(s):\n",
    "    if s != s:\n",
    "        return np.nan\n",
    "    \n",
    "    try:\n",
    "        datetime_obj = datetime.strptime(s, \"%m/%d/%Y\")\n",
    "    except:\n",
    "        datetime_obj = datetime.strptime(s, \"%Y-%m-%d\")\n",
    "        \n",
    "    return datetime_obj"
   ]
  },
  {
   "cell_type": "code",
   "execution_count": null,
   "metadata": {
    "ExecuteTime": {
     "start_time": "2020-07-30T03:51:38.846Z"
    },
    "code_folding": []
   },
   "outputs": [],
   "source": [
    "def process_datetime_cols(df):\n",
    "    cat_cols = []\n",
    "    for col in DATETIME:\n",
    "        df[col] = df[col].apply(datetime_normalize)\n",
    "        \n",
    "    for col in DATE:\n",
    "        df[col] = df[col].apply(date_normalize)\n",
    "\n",
    "    cat_cols += DATE + DATETIME\n",
    "    for col in DATE + DATETIME:\n",
    "        df[col] = df[col].dt.strftime('%m-%Y')\n",
    "    \n",
    "    for cat in ['F', 'E', 'C', 'G', 'A']:\n",
    "        df[f'{cat}_startDate'] = pd.to_datetime(df[f\"{cat}_startDate\"], infer_datetime_format=True)\n",
    "        df[f'{cat}_endDate'] = pd.to_datetime(df[f\"{cat}_endDate\"], infer_datetime_format=True)\n",
    "        \n",
    "        df[f'{cat}_startDate'] = df[f'{cat}_startDate'].dt.strftime('%m-%Y')\n",
    "        df[f'{cat}_endDate'] = df[f'{cat}_endDate'].dt.strftime('%m-%Y')\n",
    "        \n",
    "        cat_cols.append(f'{cat}_startDate')\n",
    "        cat_cols.append(f'{cat}_endDate')\n",
    "    \n",
    "    for col in cat_cols:\n",
    "        df[col] = df[col]\n",
    "        \n",
    "    return df"
   ]
  },
  {
   "cell_type": "code",
   "execution_count": null,
   "metadata": {
    "ExecuteTime": {
     "end_time": "2020-07-30T03:51:08.841177Z",
     "start_time": "2020-07-30T03:51:01.653Z"
    },
    "code_folding": []
   },
   "outputs": [],
   "source": [
    "def str_normalize(s):\n",
    "    s = str(s).strip().lower()\n",
    "    s = re.sub(' +', \" \", s)\n",
    "    return s\n",
    "def process_location(df):\n",
    "    for col in [\"currentLocationLocationId\", \"homeTownLocationId\", \"currentLocationLatitude\", \"currentLocationLongitude\", \n",
    "                   \"homeTownLatitude\", \"homeTownLongitude\"]:\n",
    "        df[col].replace(0, np.nan, inplace=True)\n",
    "\n",
    "    df[\"currentLocationLocationId\"] = df[\"currentLocationLocationId\"].apply(str_normalize)\n",
    "    df[\"homeTownLocationId\"] = df[\"homeTownLocationId\"].apply(str_normalize)\n",
    "\n",
    "    return df"
   ]
  },
  {
   "cell_type": "code",
   "execution_count": null,
   "metadata": {
    "ExecuteTime": {
     "end_time": "2020-07-30T03:51:08.843391Z",
     "start_time": "2020-07-30T03:51:01.767Z"
    }
   },
   "outputs": [],
   "source": [
    "df_transform[\"Field_38\"] = df_transform[\"Field_38\"].apply(fix38)\n",
    "df_transform[\"Field_54\"] = df_transform[\"Field_54\"].apply(fix54)\n",
    "df_transform[\"Field_55\"] = df_transform[\"Field_55\"].apply(fix55)\n",
    "df_transform[\"Field_61\"] = df_transform[\"Field_61\"].apply(fix61)\n",
    "\n",
    "df_transform[\"currentLocationState\"] = df_transform[\"currentLocationState\"].apply(fixcurrentLocationState)\n",
    "df_transform[\"currentLocationCountry\"] = df_transform[\"currentLocationCountry\"].apply(fixcurrentLocationCountry)\n",
    "df_transform[\"homeTownState\"] = df_transform[\"homeTownState\"].apply(fixhomeTownState)\n",
    "df_transform[\"homeTownCountry\"] = df_transform[\"homeTownCountry\"].apply(fixhomeTownCountry)\n",
    "df_transform['data.basic_info.locale'] = df_transform['data.basic_info.locale'].apply(fixdata_basic_info_locale)\n",
    "df_transform[\"age\"] = df_transform[\"ngaySinh\"].map(lambda x: calculate_age(x) if x is not np.nan else x)\n",
    "df_transform[\"maCv\"] = df_transform[\"maCv\"].apply(fixmaCv)\n",
    "df_transform[\"null_sum\"] = df_transform.isnull().sum(axis=1)\n",
    "\n",
    "df_transform = process_gender(df_transform)\n",
    "df_transform = process_datetime_cols(df_transform)\n",
    "\n",
    "df_transform = process_location(df_transform)"
   ]
  },
  {
   "cell_type": "code",
   "execution_count": null,
   "metadata": {
    "ExecuteTime": {
     "end_time": "2020-07-30T03:51:08.845477Z",
     "start_time": "2020-07-30T03:51:01.839Z"
    }
   },
   "outputs": [],
   "source": [
    "drop = [\"gioiTinh\", \"info_social_sex\", \"ngaySinh\"]\n",
    "df_transform = df_transform.drop(drop, axis = 1)"
   ]
  },
  {
   "cell_type": "code",
   "execution_count": null,
   "metadata": {
    "ExecuteTime": {
     "end_time": "2020-07-30T03:51:08.847412Z",
     "start_time": "2020-07-30T03:51:01.956Z"
    },
    "code_folding": []
   },
   "outputs": [],
   "source": [
    "categoricals = []\n",
    "for header in df_transform.columns:\n",
    "    if str(df_transform[header].dtypes) is \"object\":\n",
    "        categoricals.append(header)\n",
    "for col in categoricals:\n",
    "    df_transform[col] = df_transform[col].astype(str)\n",
    "lbl = LabelEncoder()\n",
    "for col in categoricals:\n",
    "    \n",
    "    encoder = ce.CountFrequencyCategoricalEncoder(encoding_method='frequency')\n",
    "    \n",
    "    df_transform[col] = df_transform[col].fillna('None')\n",
    "    # Only take the common values in Train/Test-set\n",
    "    common_vals = list(set(df_transform[col]))\n",
    "    \n",
    "    # Take if vals appeared both 5 times\n",
    "    common_vals = set(df_transform[col].value_counts()[df_transform[col].value_counts()> 100].index)\n",
    "    \n",
    "    # Replace not-common values with \"Missing\" or np.NaN      \n",
    "    df_transform.loc[~df_transform[col].isin(common_vals), col] = 'Missing'\n",
    "\n",
    "    # Implement LE\n",
    "    lbl.fit(df_transform[col].tolist())\n",
    "    df_transform[col] = lbl.transform(df_transform[col])\n"
   ]
  },
  {
   "cell_type": "code",
   "execution_count": null,
   "metadata": {
    "ExecuteTime": {
     "end_time": "2020-07-30T03:51:08.849227Z",
     "start_time": "2020-07-30T03:51:02.058Z"
    },
    "code_folding": []
   },
   "outputs": [],
   "source": [
    "fill_1 = []\n",
    "for header in df_transform.columns:\n",
    "    vc = df_transform[header].value_counts()\n",
    "    if len(vc) < 2:\n",
    "        fill_1.append(header)\n",
    "for col in fill_1:\n",
    "    df_transform[col] = df_transform[col].fillna(-1)"
   ]
  },
  {
   "cell_type": "code",
   "execution_count": null,
   "metadata": {
    "ExecuteTime": {
     "end_time": "2020-07-30T03:51:07.435839Z",
     "start_time": "2020-07-30T03:50:37.538Z"
    }
   },
   "outputs": [],
   "source": [
    "df_transform = df_transform.fillna(df_transform.mean())"
   ]
  },
  {
   "cell_type": "code",
   "execution_count": null,
   "metadata": {
    "ExecuteTime": {
     "end_time": "2020-07-30T03:51:08.035231Z",
     "start_time": "2020-07-30T03:50:37.721Z"
    }
   },
   "outputs": [],
   "source": [
    "import re\n",
    "df_transform = df_transform.rename(columns = lambda x:re.sub('[^A-Za-z0-9_]+', '', x))"
   ]
  },
  {
   "cell_type": "code",
   "execution_count": null,
   "metadata": {
    "ExecuteTime": {
     "end_time": "2020-07-30T03:51:08.112926Z",
     "start_time": "2020-07-30T03:50:37.947Z"
    }
   },
   "outputs": [],
   "source": [
    "train_dev = pd.concat([df_train.id, df_train.label, df_transform.iloc[:len(df_train),:]], axis = 1)\n",
    "test = pd.concat([df_test.id, df_transform.iloc[len(df_train):,:]], axis = 1)"
   ]
  },
  {
   "cell_type": "code",
   "execution_count": null,
   "metadata": {
    "ExecuteTime": {
     "end_time": "2020-07-30T03:51:08.176060Z",
     "start_time": "2020-07-30T03:50:38.662Z"
    }
   },
   "outputs": [],
   "source": [
    "params = {\n",
    "    'boosting_type': 'gbdt',\n",
    "    'objective': 'binary',\n",
    "    'metric': 'auc',\n",
    "    'verbose': 1,\n",
    "    'learning_rate': 0.05,\n",
    "    'num_leaves': 31,\n",
    "    'feature_fraction': 0.7,\n",
    "    'min_data_in_leaf': 200,\n",
    "    'bagging_fraction': 0.8,\n",
    "    'bagging_freq': 20,\n",
    "    'min_hessian': 0.01,\n",
    "    'feature_fraction_seed': 2,\n",
    "    'bagging_seed': 3\n",
    "}"
   ]
  },
  {
   "cell_type": "code",
   "execution_count": null,
   "metadata": {
    "ExecuteTime": {
     "end_time": "2020-07-30T03:51:08.205481Z",
     "start_time": "2020-07-30T03:50:39.148Z"
    }
   },
   "outputs": [],
   "source": [
    "def compute_gini(labels, preds):\n",
    "    fpr, tpr, thresholds = metrics.roc_curve(labels, preds, pos_label=1)\n",
    "    auc = metrics.auc(fpr, tpr)\n",
    "    gini = 2 * auc - 1\n",
    "    return gini"
   ]
  },
  {
   "cell_type": "code",
   "execution_count": null,
   "metadata": {
    "ExecuteTime": {
     "end_time": "2020-07-30T03:51:08.246428Z",
     "start_time": "2020-07-30T03:50:40.403Z"
    }
   },
   "outputs": [],
   "source": [
    "iter_predicttion = []\n",
    "for i in range(1):\n",
    "    pred_stack = []\n",
    "    kf = KFold(n_splits = 4, shuffle=True)\n",
    "    fold = kf.split(train_dev)\n",
    "    for train_index, dev_index in fold:\n",
    "        train1 = train_dev.iloc[train_index,2:]\n",
    "        dev1 = train_dev.iloc[dev_index,2:]\n",
    "\n",
    "        d_train = lgb.Dataset(train1, label = train_dev.loc[train_index][\"label\"])\n",
    "        clf = lgb.train(params,d_train, 2500)\n",
    "        predictions_test = clf.predict(test.iloc[:,1:])\n",
    "        predictions_dev = clf.predict(dev1)\n",
    "        pred_stack.append(predictions_test)\n",
    "        print(compute_gini(train_dev.loc[dev_index][\"label\"], predictions_dev))\n",
    "    predictions = np.asarray(pred_stack)\n",
    "    predictions = np.mean(predictions, axis = 0)\n",
    "\n",
    "    iter_predicttion.append(predictions)"
   ]
  },
  {
   "cell_type": "code",
   "execution_count": null,
   "metadata": {
    "ExecuteTime": {
     "end_time": "2020-07-30T03:51:08.304038Z",
     "start_time": "2020-07-30T03:50:41.177Z"
    }
   },
   "outputs": [],
   "source": [
    "predictions = np.asarray(iter_predicttion)\n",
    "predictions = np.mean(predictions, axis = 0)\n",
    "predictions = list(predictions)\n",
    "\n",
    "for i in range(len(predictions)):\n",
    "    if predictions[i] >= 0.5:\n",
    "        predictions[i] = 1\n",
    "    else:\n",
    "        predictions[i] = 0\n",
    "        \n",
    "new_label = pd.DataFrame(predictions, columns = [\"label\"])\n",
    "\n",
    "new_data_id = []\n",
    "for i in range(len(new_label)):\n",
    "    idx = len(df_train) + i\n",
    "    new_data_id.append(idx)\n",
    "new_data_id = pd.DataFrame(new_data_id, columns = [\"id\"])\n",
    "\n",
    "new_data =  pd.concat([new_data_id, new_label, test.iloc[:,1:]], axis = 1)"
   ]
  },
  {
   "cell_type": "code",
   "execution_count": null,
   "metadata": {
    "ExecuteTime": {
     "end_time": "2020-07-30T03:51:08.338125Z",
     "start_time": "2020-07-30T03:50:41.577Z"
    }
   },
   "outputs": [],
   "source": [
    "data_version = \"10-10-2020-d\""
   ]
  },
  {
   "cell_type": "code",
   "execution_count": null,
   "metadata": {
    "ExecuteTime": {
     "end_time": "2020-07-30T03:51:08.383776Z",
     "start_time": "2020-07-30T03:50:42.748Z"
    }
   },
   "outputs": [],
   "source": [
    "os.makedirs(f\"../../data/kalapa/{data_version}/\", exist_ok=True)\n",
    "train_dev.to_csv(f\"../../data/kalapa/{data_version}/train.csv\", index = False)\n",
    "test.to_csv(f\"../../data/kalapa/{data_version}/test.csv\", index = False)\n",
    "new_data.to_csv(f\"../../data/kalapa/{data_version}/new_data.csv\", index = False)"
   ]
  },
  {
   "cell_type": "code",
   "execution_count": null,
   "metadata": {},
   "outputs": [],
   "source": []
  }
 ],
 "metadata": {
  "kernelspec": {
   "display_name": "Python 3",
   "language": "python",
   "name": "python3"
  },
  "language_info": {
   "codemirror_mode": {
    "name": "ipython",
    "version": 3
   },
   "file_extension": ".py",
   "mimetype": "text/x-python",
   "name": "python",
   "nbconvert_exporter": "python",
   "pygments_lexer": "ipython3",
   "version": "3.7.7"
  },
  "varInspector": {
   "cols": {
    "lenName": 16,
    "lenType": 16,
    "lenVar": 40
   },
   "kernels_config": {
    "python": {
     "delete_cmd_postfix": "",
     "delete_cmd_prefix": "del ",
     "library": "var_list.py",
     "varRefreshCmd": "print(var_dic_list())"
    },
    "r": {
     "delete_cmd_postfix": ") ",
     "delete_cmd_prefix": "rm(",
     "library": "var_list.r",
     "varRefreshCmd": "cat(var_dic_list()) "
    }
   },
   "types_to_exclude": [
    "module",
    "function",
    "builtin_function_or_method",
    "instance",
    "_Feature"
   ],
   "window_display": false
  }
 },
 "nbformat": 4,
 "nbformat_minor": 4
}
